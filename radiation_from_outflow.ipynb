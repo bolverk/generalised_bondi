{
 "cells": [
  {
   "cell_type": "code",
   "execution_count": 1,
   "metadata": {},
   "outputs": [],
   "source": [
    "import sympy\n",
    "sympy.init_printing()"
   ]
  },
  {
   "cell_type": "markdown",
   "metadata": {},
   "source": [
    "Thermal Bremsstrahlung"
   ]
  },
  {
   "cell_type": "code",
   "execution_count": 2,
   "metadata": {},
   "outputs": [],
   "source": [
    "alpha = sympy.Symbol('alpha', positive=True) # Fine structure constant\n",
    "c = sympy.Symbol('c', positive=True) # Speed of light\n",
    "m_e = sympy.Symbol('m_e', positive=True) # Electron mass\n",
    "r_e = sympy.Symbol('r_e', positive=True) # Classical electron radius\n",
    "k = sympy.Symbol('k', positive=True) # Boltzmann constant\n",
    "n = sympy.Symbol('n', positive=True) # Number density\n",
    "T = sympy.Symbol('T', positive=True) # Temperature\n",
    "bs_emissivity = alpha*(m_e*c**3/r_e**4)*sympy.sqrt(k*T/m_e/c**2)*(n*r_e**3)**2"
   ]
  },
  {
   "cell_type": "markdown",
   "metadata": {},
   "source": [
    "Matter dominated temperature"
   ]
  },
  {
   "cell_type": "code",
   "execution_count": 3,
   "metadata": {},
   "outputs": [],
   "source": [
    "m_p = sympy.Symbol('m_p', positive=True) # Proton mas\n",
    "v = sympy.Symbol('v', positive=True) # Velocity\n",
    "matter_dominated_temperature = m_p*v**2/k"
   ]
  },
  {
   "cell_type": "markdown",
   "metadata": {},
   "source": [
    "Radiation dominated temperature"
   ]
  },
  {
   "cell_type": "code",
   "execution_count": 4,
   "metadata": {},
   "outputs": [],
   "source": [
    "hbar = sympy.Symbol(r'\\hbar', positive=True)\n",
    "radiation_dominated_temperature = sympy.solve(sympy.Eq(n*m_p*v**2, (k*T)**4/c**3/hbar**3),T)[0]"
   ]
  },
  {
   "cell_type": "markdown",
   "metadata": {},
   "source": [
    "Thermalisation time"
   ]
  },
  {
   "cell_type": "code",
   "execution_count": 5,
   "metadata": {},
   "outputs": [
    {
     "data": {
      "image/png": "[encoded data removed]",
      "text/latex": [
       "$$\\frac{m_{p}^{\\frac{5}{4}} v^{\\frac{5}{2}}}{\\sqrt[4]{\\alpha} c^{\\frac{7}{2}} m_{e}^{\\frac{5}{4}} n^{\\frac{5}{4}} r_{e}^{\\frac{11}{4}}}$$"
      ],
      "text/plain": [
       "           5/4  5/2         \n",
       "        m_p   ⋅v            \n",
       "────────────────────────────\n",
       "4 ___  7/2   5/4  5/4   11/4\n",
       "╲╱ α ⋅c   ⋅mₑ   ⋅n   ⋅rₑ    "
      ]
     },
     "execution_count": 5,
     "metadata": {},
     "output_type": "execute_result"
    }
   ],
   "source": [
    "blackbody_photon_density = ((k*T/hbar/c)**3).subs(T, radiation_dominated_temperature)\n",
    "photon_production_rate = (bs_emissivity/k/T).subs(T, matter_dominated_temperature)\n",
    "temp = blackbody_photon_density/photon_production_rate\n",
    "temp = temp.subs(hbar, r_e*m_e*c/alpha)\n",
    "thermalisation_timescale = sympy.expand_power_base(temp, force=True)\n",
    "thermalisation_timescale"
   ]
  },
  {
   "cell_type": "markdown",
   "metadata": {},
   "source": [
    "Dimensionless units"
   ]
  },
  {
   "cell_type": "code",
   "execution_count": 6,
   "metadata": {},
   "outputs": [],
   "source": [
    "tilde_n = sympy.Symbol(r'\\tilde{n}')\n",
    "beta = sympy.Symbol('beta')\n",
    "chi = sympy.Symbol('chi')\n",
    "temp = thermalisation_timescale*c/r_e\n",
    "temp = temp.subs(n, tilde_n/r_e**3)\n",
    "temp = temp.subs(v, beta*c)\n",
    "temp = temp.subs(hbar, r_e*m_e*c/alpha)\n",
    "temp = temp.subs(m_p, chi*m_e)\n",
    "dimensionless_thermalisation_time = temp"
   ]
  },
  {
   "cell_type": "markdown",
   "metadata": {},
   "source": [
    "Values for our galactic centre"
   ]
  },
  {
   "cell_type": "code",
   "execution_count": 7,
   "metadata": {},
   "outputs": [
    {
     "data": {
      "image/png": "[encoded data removed]",
      "text/latex": [
       "$$199.125415241802$$"
      ],
      "text/plain": [
       "199.125415241802"
      ]
     },
     "execution_count": 7,
     "metadata": {},
     "output_type": "execute_result"
    }
   ],
   "source": [
    "temp = dimensionless_thermalisation_time\n",
    "temp = temp.subs(beta, 1.7e-3)\n",
    "temp = temp.subs(alpha, 1.0/137.0)\n",
    "temp = temp.subs(chi, 1800)\n",
    "temp = temp.subs(tilde_n, 6e-37)\n",
    "temp.n()*2.2e-41"
   ]
  },
  {
   "cell_type": "markdown",
   "metadata": {},
   "source": [
    "This result is expressed in terms of ages of the universe.\n",
    "\n",
    "Where the dimensionless density was calculated [here](http://goo.gl/qF9bgH).\n",
    "\n",
    "The conversion to time in terms of the age of the universe is given [here](http://goo.gl/gBu3Lj)"
   ]
  },
  {
   "cell_type": "markdown",
   "metadata": {},
   "source": [
    "For comparison the cooling timescale is"
   ]
  },
  {
   "cell_type": "code",
   "execution_count": 8,
   "metadata": {},
   "outputs": [],
   "source": [
    "temp = n*k*T/(bs_emissivity)\n",
    "temp = temp.subs(T, matter_dominated_temperature)\n",
    "cooling_timescale = temp"
   ]
  },
  {
   "cell_type": "markdown",
   "metadata": {},
   "source": [
    "Dimensionless form"
   ]
  },
  {
   "cell_type": "code",
   "execution_count": 9,
   "metadata": {},
   "outputs": [],
   "source": [
    "temp = (c/r_e)*cooling_timescale\n",
    "temp = temp.subs(v, beta*c)\n",
    "temp = temp.subs(m_p, chi*m_e)\n",
    "temp = temp.subs(n, tilde_n/r_e**3)\n",
    "dimensionless_cooling_time = temp"
   ]
  },
  {
   "cell_type": "markdown",
   "metadata": {},
   "source": [
    "Values for our galactic centre"
   ]
  },
  {
   "cell_type": "code",
   "execution_count": 10,
   "metadata": {},
   "outputs": [
    {
     "data": {
      "image/png": "[encoded data removed]",
      "text/latex": [
       "$$3623073.72544363$$"
      ],
      "text/plain": [
       "3623073.72544363"
      ]
     },
     "execution_count": 10,
     "metadata": {},
     "output_type": "execute_result"
    }
   ],
   "source": [
    "temp = dimensionless_cooling_time\n",
    "temp = temp.subs(beta, 1.7e-3)\n",
    "temp = temp.subs(alpha, 1.0/137.0)\n",
    "temp = temp.subs(chi, 1800)\n",
    "temp = temp.subs(tilde_n, 6e-37)\n",
    "temp.n()*2.2e-41*1e10"
   ]
  },
  {
   "cell_type": "markdown",
   "metadata": {},
   "source": [
    "This time, answer is in years"
   ]
  },
  {
   "cell_type": "code",
   "execution_count": null,
   "metadata": {},
   "outputs": [],
   "source": []
  }
 ],
 "metadata": {
  "kernelspec": {
   "display_name": "Python 2",
   "language": "python",
   "name": "python2"
  },
  "language_info": {
   "codemirror_mode": {
    "name": "ipython",
    "version": 2
   },
   "file_extension": ".py",
   "mimetype": "text/x-python",
   "name": "python",
   "nbconvert_exporter": "python",
   "pygments_lexer": "ipython2",
   "version": "2.7.12"
  }
 },
 "nbformat": 4,
 "nbformat_minor": 2
}
