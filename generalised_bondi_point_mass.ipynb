{
 "cells": [
  {
   "cell_type": "code",
   "execution_count": 227,
   "metadata": {
    "collapsed": true
   },
   "outputs": [],
   "source": [
    "import sympy\n",
    "sympy.init_printing()"
   ]
  },
  {
   "cell_type": "markdown",
   "metadata": {},
   "source": [
    "# Governing Equations"
   ]
  },
  {
   "cell_type": "markdown",
   "metadata": {},
   "source": [
    "Conservation of mass"
   ]
  },
  {
   "cell_type": "code",
   "execution_count": 228,
   "metadata": {},
   "outputs": [
    {
     "data": {
      "image/png": "[encoded data removed]",
      "text/latex": [
       "$$\\frac{1}{r^{2}} \\frac{\\partial}{\\partial r}\\left(r^{2} \\rho u\\right) = q$$"
      ],
      "text/plain": [
       "∂ ⎛ 2    ⎞    \n",
       "──⎝r ⋅ρ⋅u⎠    \n",
       "∂r            \n",
       "────────── = q\n",
       "     2        \n",
       "    r         "
      ]
     },
     "execution_count": 228,
     "metadata": {},
     "output_type": "execute_result"
    }
   ],
   "source": [
    "r = sympy.Symbol('r', positive=True)\n",
    "rho = sympy.Symbol('rho', positive=True)\n",
    "u = sympy.Symbol('u', real=True)\n",
    "q = sympy.Symbol('q', positive=True)\n",
    "mass_conservation = sympy.Eq(sympy.Derivative(rho*u*r**2,r)/r**2,q)\n",
    "mass_conservation"
   ]
  },
  {
   "cell_type": "markdown",
   "metadata": {},
   "source": [
    "Conservation of momentum"
   ]
  },
  {
   "cell_type": "code",
   "execution_count": 229,
   "metadata": {},
   "outputs": [
    {
     "data": {
      "image/png": "[encoded data removed]",
      "text/latex": [
       "$$\\rho u \\frac{d}{d r} u + \\frac{d}{d r} p = - \\frac{G M}{r^{2}} \\rho - q u$$"
      ],
      "text/plain": [
       "    d       d         G⋅M⋅ρ      \n",
       "ρ⋅u⋅──(u) + ──(p) = - ───── - q⋅u\n",
       "    dr      dr           2       \n",
       "                        r        "
      ]
     },
     "execution_count": 229,
     "metadata": {},
     "output_type": "execute_result"
    }
   ],
   "source": [
    "p = sympy.Symbol('p', positive=True)\n",
    "G = sympy.Symbol('G', positive=True)\n",
    "M = sympy.Symbol('M', positive=True)\n",
    "momentum_conservation = sympy.Eq(rho*u*sympy.Derivative(u,r)+sympy.Derivative(p,r),\n",
    "                                 -rho*G*M/r**2-q*u)\n",
    "momentum_conservation"
   ]
  },
  {
   "cell_type": "markdown",
   "metadata": {},
   "source": [
    "Energy conservation"
   ]
  },
  {
   "cell_type": "code",
   "execution_count": 230,
   "metadata": {},
   "outputs": [
    {
     "data": {
      "image/png": "[encoded data removed]",
      "text/latex": [
       "$$\\frac{1}{r^{2}} \\frac{\\partial}{\\partial r}\\left(r^{2} \\rho u \\left(- \\frac{G M}{r} + \\frac{\\gamma p}{\\rho \\left(\\gamma - 1\\right)} + \\frac{u^{2}}{2}\\right)\\right) = q \\left(- \\frac{G M}{r} + \\frac{v_{w}^{2}}{2}\\right)$$"
      ],
      "text/plain": [
       "  ⎛       ⎛                     2⎞⎞                   \n",
       "∂ ⎜ 2     ⎜  G⋅M      γ⋅p      u ⎟⎟                   \n",
       "──⎜r ⋅ρ⋅u⋅⎜- ─── + ───────── + ──⎟⎟     ⎛           2⎞\n",
       "∂r⎝       ⎝   r    ρ⋅(γ - 1)   2 ⎠⎠     ⎜  G⋅M   v_w ⎟\n",
       "─────────────────────────────────── = q⋅⎜- ─── + ────⎟\n",
       "                  2                     ⎝   r     2  ⎠\n",
       "                 r                                    "
      ]
     },
     "execution_count": 230,
     "metadata": {},
     "output_type": "execute_result"
    }
   ],
   "source": [
    "gamma = sympy.Symbol('gamma', positive=True)\n",
    "v_w = sympy.Symbol('v_w', positive=True)\n",
    "energy_conservation = sympy.Eq(sympy.Derivative(r**2*u*rho*(gamma*p/(gamma-1)/rho+u**2/2-G*M/r),r)/r**2,\n",
    "                               q*(v_w**2/2-G*M/r))\n",
    "energy_conservation"
   ]
  },
  {
   "cell_type": "markdown",
   "metadata": {},
   "source": [
    "Mass source term"
   ]
  },
  {
   "cell_type": "code",
   "execution_count": 231,
   "metadata": {},
   "outputs": [
    {
     "data": {
      "image/png": "[encoded data removed]",
      "text/latex": [
       "$$D r^{- \\eta}$$"
      ],
      "text/plain": [
       "   -η\n",
       "D⋅r  "
      ]
     },
     "execution_count": 231,
     "metadata": {},
     "output_type": "execute_result"
    }
   ],
   "source": [
    "D = sympy.Symbol('D', positive=True)\n",
    "eta = sympy.Symbol('eta', real=True)\n",
    "mass_source = D*r**(-eta)\n",
    "mass_source"
   ]
  },
  {
   "cell_type": "markdown",
   "metadata": {},
   "source": [
    "# Integrated Form"
   ]
  },
  {
   "cell_type": "markdown",
   "metadata": {},
   "source": [
    "Integrated mass conservation"
   ]
  },
  {
   "cell_type": "code",
   "execution_count": 232,
   "metadata": {},
   "outputs": [
    {
     "data": {
      "image/png": "[encoded data removed]",
      "text/latex": [
       "$$r^{2} \\rho u = \\frac{D r^{- \\eta} r_{st}^{- \\eta}}{\\eta - 3} \\left(- r^{3} r_{st}^{\\eta} + r^{\\eta} r_{st}^{3}\\right)$$"
      ],
      "text/plain": [
       "            -η       -η ⎛   3       η    η       3⎞\n",
       " 2       D⋅r  ⋅r_{st}  ⋅⎝- r ⋅r_{st}  + r ⋅r_{st} ⎠\n",
       "r ⋅ρ⋅u = ──────────────────────────────────────────\n",
       "                           η - 3                   "
      ]
     },
     "execution_count": 232,
     "metadata": {},
     "output_type": "execute_result"
    }
   ],
   "source": [
    "r_st = sympy.Symbol(r'r_{st}',positive=True)\n",
    "temp = mass_conservation.rhs\n",
    "temp = temp.subs(q, mass_source)\n",
    "temp = temp*r**2\n",
    "temp = sympy.integrate(temp, r, conds='none')\n",
    "temp = temp - temp.subs(r, r_st)\n",
    "temp = sympy.Eq(rho*u*r**2,\n",
    "                temp.simplify())\n",
    "integrated_mass_conservation = temp\n",
    "integrated_mass_conservation"
   ]
  },
  {
   "cell_type": "markdown",
   "metadata": {},
   "source": [
    "Integrated energy conservation"
   ]
  },
  {
   "cell_type": "code",
   "execution_count": 233,
   "metadata": {},
   "outputs": [
    {
     "data": {
      "image/png": "[encoded data removed]",
      "text/latex": [
       "$$\\frac{\\gamma p}{\\rho \\left(\\gamma - 1\\right)} + \\frac{u^{2}}{2} = \\frac{1}{r \\left(r^{3} r_{st}^{\\eta} - r^{\\eta} r_{st}^{3}\\right) \\left(\\eta^{2} - 5 \\eta + 6\\right)} \\left(G M \\left(r^{3} r_{st}^{\\eta} - r^{\\eta} r_{st}^{3}\\right) \\left(\\eta^{2} - 5 \\eta + 6\\right) - \\frac{r_{st}^{\\eta}}{2} r^{\\eta + 1} \\left(\\eta - 3\\right) \\left(r^{- \\eta + 2} \\left(2 G M \\eta - 6 G M - \\eta r v_{w}^{2} + 2 r v_{w}^{2}\\right) + r_{st}^{- \\eta + 2} \\left(- 2 G M \\eta + 6 G M + \\eta r_{st} v_{w}^{2} - 2 r_{st} v_{w}^{2}\\right)\\right)\\right)$$"
      ],
      "text/plain": [
       "                                                                 η + 1       η\n",
       "                     ⎛ 3       η    η       3⎞ ⎛ 2          ⎞   r     ⋅r_{st} \n",
       "             2   G⋅M⋅⎝r ⋅r_{st}  - r ⋅r_{st} ⎠⋅⎝η  - 5⋅η + 6⎠ - ──────────────\n",
       "   γ⋅p      u                                                                 \n",
       "───────── + ── = ─────────────────────────────────────────────────────────────\n",
       "ρ⋅(γ - 1)   2                                                                 \n",
       "                                                                              \n",
       "\n",
       "         ⎛ -η + 2 ⎛                         2          2⎞         -η + 2 ⎛    \n",
       "⋅(η - 3)⋅⎝r      ⋅⎝2⋅G⋅M⋅η - 6⋅G⋅M - η⋅r⋅v_w  + 2⋅r⋅v_w ⎠ + r_{st}      ⋅⎝-2⋅G\n",
       "──────────────────────────────────────────────────────────────────────────────\n",
       "                                                      2                       \n",
       "──────────────────────────────────────────────────────────────────────────────\n",
       "             ⎛ 3       η    η       3⎞ ⎛ 2          ⎞                         \n",
       "           r⋅⎝r ⋅r_{st}  - r ⋅r_{st} ⎠⋅⎝η  - 5⋅η + 6⎠                         \n",
       "\n",
       "                           2               2⎞⎞\n",
       "⋅M⋅η + 6⋅G⋅M + η⋅r_{st}⋅v_w  - 2⋅r_{st}⋅v_w ⎠⎠\n",
       "──────────────────────────────────────────────\n",
       "                                              \n",
       "──────────────────────────────────────────────\n",
       "                                              \n",
       "                                              "
      ]
     },
     "execution_count": 233,
     "metadata": {},
     "output_type": "execute_result"
    }
   ],
   "source": [
    "temp = energy_conservation\n",
    "temp = temp.rhs\n",
    "temp = temp.subs(q, mass_source)\n",
    "temp = temp*r**2\n",
    "temp = temp.integrate(r, conds='none').simplify()\n",
    "temp = temp - temp.subs(r, r_st)\n",
    "temp = temp/integrated_mass_conservation.rhs\n",
    "temp = temp+G*M/r\n",
    "temp = temp.simplify()\n",
    "temp = sympy.Eq((p/rho)*gamma/(gamma-1)+u**2/2,temp)\n",
    "integrated_energy_equation = temp\n",
    "integrated_energy_equation"
   ]
  },
  {
   "cell_type": "markdown",
   "metadata": {},
   "source": [
    "# Degenerate Cases"
   ]
  },
  {
   "cell_type": "markdown",
   "metadata": {},
   "source": [
    "## Without gravity"
   ]
  },
  {
   "cell_type": "code",
   "execution_count": 234,
   "metadata": {},
   "outputs": [
    {
     "data": {
      "image/png": "[encoded data removed]",
      "text/latex": [
       "$$\\rho u = - \\frac{D r^{- \\eta + 1}}{\\eta - 3}$$"
      ],
      "text/plain": [
       "          -η + 1 \n",
       "      -D⋅r       \n",
       "ρ⋅u = ───────────\n",
       "         η - 3   "
      ]
     },
     "execution_count": 234,
     "metadata": {},
     "output_type": "execute_result"
    }
   ],
   "source": [
    "temp = mass_conservation.subs(q, mass_source)\n",
    "temp = temp.rhs\n",
    "temp = temp*r**2\n",
    "temp = temp.integrate(r,conds='none')\n",
    "temp = temp/r**2\n",
    "temp = sympy.Eq(rho*u, temp)\n",
    "temp = temp.simplify()\n",
    "mass_conservation_without_gravity = temp\n",
    "mass_conservation_without_gravity"
   ]
  },
  {
   "cell_type": "code",
   "execution_count": 235,
   "metadata": {},
   "outputs": [
    {
     "data": {
      "image/png": "[encoded data removed]",
      "text/latex": [
       "$$\\frac{v_{w}^{2}}{2} = \\frac{\\gamma p + \\frac{\\rho u^{2}}{2} \\left(\\gamma - 1\\right)}{\\rho \\left(\\gamma - 1\\right)}$$"
      ],
      "text/plain": [
       "                2        \n",
       "             ρ⋅u ⋅(γ - 1)\n",
       "   2   γ⋅p + ────────────\n",
       "v_w               2      \n",
       "──── = ──────────────────\n",
       " 2         ρ⋅(γ - 1)     "
      ]
     },
     "execution_count": 235,
     "metadata": {},
     "output_type": "execute_result"
    }
   ],
   "source": [
    "temp = energy_conservation\n",
    "temp = temp.subs(q, mass_source)\n",
    "temp = temp.subs(M,0)\n",
    "temp = temp.rhs\n",
    "temp = temp*r**2\n",
    "temp = temp.integrate(r, conds='none')\n",
    "temp = temp/r**2\n",
    "temp = temp/ mass_conservation_without_gravity.rhs\n",
    "temp = sympy.Eq((p/rho)*gamma/(gamma-1)+u**2/2,temp)\n",
    "temp = temp.simplify()\n",
    "energy_conservation_without_gravity = temp\n",
    "energy_conservation_without_gravity"
   ]
  },
  {
   "cell_type": "markdown",
   "metadata": {},
   "source": [
    "Velocity"
   ]
  },
  {
   "cell_type": "code",
   "execution_count": 236,
   "metadata": {},
   "outputs": [
    {
     "data": {
      "image/png": "[encoded data removed]",
      "text/latex": [
       "$$v_{w} \\sqrt{- \\frac{\\left(\\eta - 1\\right) \\left(\\gamma - 1\\right)}{\\eta \\gamma + \\eta - 5 \\gamma - 1}}$$"
      ],
      "text/plain": [
       "        ___________________\n",
       "       ╱ -(η - 1)⋅(γ - 1)  \n",
       "v_w⋅  ╱  ───────────────── \n",
       "    ╲╱   η⋅γ + η - 5⋅γ - 1 "
      ]
     },
     "execution_count": 236,
     "metadata": {},
     "output_type": "execute_result"
    }
   ],
   "source": [
    "temp = momentum_conservation\n",
    "temp = temp.subs(q, mass_source)\n",
    "temp = temp.subs(sympy.solve(energy_conservation_without_gravity,p,dict=True)[0])\n",
    "temp = temp.subs(sympy.solve(mass_conservation_without_gravity,rho,dict=True)[0])\n",
    "temp = temp.subs(M, 0)\n",
    "temp = temp.doit()\n",
    "temp = temp.simplify()\n",
    "u_without_gravity = sympy.solve(temp, u)[1]\n",
    "u_without_gravity"
   ]
  },
  {
   "cell_type": "markdown",
   "metadata": {},
   "source": [
    "Speed of sound"
   ]
  },
  {
   "cell_type": "code",
   "execution_count": 237,
   "metadata": {},
   "outputs": [
    {
     "data": {
      "image/png": "[encoded data removed]",
      "text/latex": [
       "$$\\sqrt{\\gamma} v_{w} \\sqrt{\\frac{\\left(\\eta - 3\\right) \\left(\\gamma - 1\\right)}{\\eta \\gamma + \\eta - 5 \\gamma - 1}}$$"
      ],
      "text/plain": [
       "           ___________________\n",
       "          ╱  (η - 3)⋅(γ - 1)  \n",
       "√γ⋅v_w⋅  ╱  ───────────────── \n",
       "       ╲╱   η⋅γ + η - 5⋅γ - 1 "
      ]
     },
     "execution_count": 237,
     "metadata": {},
     "output_type": "execute_result"
    }
   ],
   "source": [
    "c = sympy.Symbol('c', positive=True)\n",
    "temp = energy_conservation_without_gravity\n",
    "temp = temp.subs(p, rho*c**2/gamma)\n",
    "temp = temp.subs(u, u_without_gravity)\n",
    "temp = temp.simplify()\n",
    "c_without_gravity = sympy.solve(temp, c)[1]\n",
    "c_without_gravity"
   ]
  },
  {
   "cell_type": "markdown",
   "metadata": {},
   "source": [
    "Mach number"
   ]
  },
  {
   "cell_type": "code",
   "execution_count": 238,
   "metadata": {},
   "outputs": [
    {
     "data": {
      "image/png": "[encoded data removed]",
      "text/latex": [
       "$$\\frac{1}{\\sqrt{\\gamma}} \\sqrt{\\frac{- \\eta + 1}{\\eta - 3}}$$"
      ],
      "text/plain": [
       "    ________\n",
       "   ╱ -η + 1 \n",
       "  ╱  ────── \n",
       "╲╱   η - 3  \n",
       "────────────\n",
       "     √γ     "
      ]
     },
     "execution_count": 238,
     "metadata": {},
     "output_type": "execute_result"
    }
   ],
   "source": [
    "temp = u_without_gravity/ c_without_gravity\n",
    "temp = temp**2\n",
    "temp = temp.simplify()\n",
    "temp = sympy.sqrt(temp)\n",
    "m_without_gravity = temp\n",
    "m_without_gravity"
   ]
  },
  {
   "cell_type": "markdown",
   "metadata": {},
   "source": [
    "Transition between super and sub sonic flows"
   ]
  },
  {
   "cell_type": "code",
   "execution_count": 239,
   "metadata": {},
   "outputs": [
    {
     "data": {
      "image/png": "[encoded data removed]",
      "text/latex": [
       "$$\\left [ \\frac{3 \\gamma + 1}{\\gamma + 1}, \\quad \\frac{9}{4}, \\quad \\frac{15}{7}\\right ]$$"
      ],
      "text/plain": [
       "⎡3⋅γ + 1           ⎤\n",
       "⎢───────, 9/4, 15/7⎥\n",
       "⎣ γ + 1            ⎦"
      ]
     },
     "execution_count": 239,
     "metadata": {},
     "output_type": "execute_result"
    }
   ],
   "source": [
    "temp  = m_without_gravity\n",
    "temp = temp**2\n",
    "temp = temp = sympy.solve(temp-1,eta)[0]\n",
    "[temp, temp.subs(gamma,sympy.Rational(5,3)), temp.subs(gamma,sympy.Rational(4,3))]"
   ]
  },
  {
   "cell_type": "markdown",
   "metadata": {},
   "source": [
    "Density"
   ]
  },
  {
   "cell_type": "code",
   "execution_count": 240,
   "metadata": {},
   "outputs": [
    {
     "data": {
      "image/png": "[encoded data removed]",
      "text/latex": [
       "$$- \\frac{D r^{- \\eta + 1}}{v_{w} \\sqrt{- \\frac{\\eta \\gamma - \\eta - \\gamma + 1}{\\eta \\gamma + \\eta - 5 \\gamma - 1}} \\left(\\eta - 3\\right)}$$"
      ],
      "text/plain": [
       "                 -η + 1              \n",
       "             -D⋅r                    \n",
       "─────────────────────────────────────\n",
       "        _____________________        \n",
       "       ╱ -(η⋅γ - η - γ + 1)          \n",
       "v_w⋅  ╱  ─────────────────── ⋅(η - 3)\n",
       "    ╲╱    η⋅γ + η - 5⋅γ - 1          "
      ]
     },
     "execution_count": 240,
     "metadata": {},
     "output_type": "execute_result"
    }
   ],
   "source": [
    "temp = mass_conservation_without_gravity\n",
    "temp = temp.subs(u, u_without_gravity)\n",
    "temp = sympy.solve(temp, rho)[0]\n",
    "temp = temp.simplify()\n",
    "rho_without_gravity = temp\n",
    "rho_without_gravity"
   ]
  },
  {
   "cell_type": "markdown",
   "metadata": {},
   "source": [
    "## Slow mass injection"
   ]
  },
  {
   "cell_type": "code",
   "execution_count": 241,
   "metadata": {},
   "outputs": [
    {
     "data": {
      "image/png": "[encoded data removed]",
      "text/latex": [
       "$$\\frac{G M}{r \\left(\\eta - 2\\right)} = \\frac{\\gamma p + \\frac{\\rho u^{2}}{2} \\left(\\gamma - 1\\right)}{\\rho \\left(\\gamma - 1\\right)}$$"
      ],
      "text/plain": [
       "                     2        \n",
       "                  ρ⋅u ⋅(γ - 1)\n",
       "            γ⋅p + ────────────\n",
       "   G⋅M                 2      \n",
       "───────── = ──────────────────\n",
       "r⋅(η - 2)       ρ⋅(γ - 1)     "
      ]
     },
     "execution_count": 241,
     "metadata": {},
     "output_type": "execute_result"
    }
   ],
   "source": [
    "temp = energy_conservation.rhs\n",
    "temp = temp.subs(v_w,0)\n",
    "temp = temp.subs(q, mass_source)\n",
    "temp = temp*r**2\n",
    "temp = temp.integrate(r,conds='none')\n",
    "temp = temp/r**2\n",
    "temp = temp/ mass_conservation_without_gravity.rhs\n",
    "temp = temp+G*M/r\n",
    "temp = sympy.Eq(u**2/2+(p/rho)*gamma/(gamma-1), temp)\n",
    "temp = temp.simplify()\n",
    "energy_conservation_smi = temp\n",
    "energy_conservation_smi"
   ]
  },
  {
   "cell_type": "markdown",
   "metadata": {},
   "source": [
    "Velocity"
   ]
  },
  {
   "cell_type": "code",
   "execution_count": 249,
   "metadata": {},
   "outputs": [
    {
     "data": {
      "image/png": "[encoded data removed]",
      "text/latex": [
       "$$- \\frac{\\sqrt{2} \\sqrt{G}}{\\sqrt{r}} \\sqrt{M} \\sqrt{\\frac{2 \\eta - 3 \\gamma - 1}{\\left(\\eta - 2\\right) \\left(2 \\eta \\gamma + 2 \\eta - 9 \\gamma - 1\\right)}}$$"
      ],
      "text/plain": [
       "              _________________________________ \n",
       "             ╱          2⋅η - 3⋅γ - 1           \n",
       "-√2⋅√G⋅√M⋅  ╱  ───────────────────────────────  \n",
       "          ╲╱   (η - 2)⋅(2⋅η⋅γ + 2⋅η - 9⋅γ - 1)  \n",
       "────────────────────────────────────────────────\n",
       "                       √r                       "
      ]
     },
     "execution_count": 249,
     "metadata": {},
     "output_type": "execute_result"
    }
   ],
   "source": [
    "A_u = sympy.Symbol('A_u', positive=True)\n",
    "u_ansatz_smi = -sympy.sqrt(A_u*G*M/r)\n",
    "temp = momentum_conservation\n",
    "temp = temp.subs(q, mass_source)\n",
    "temp = temp.subs(sympy.solve(energy_conservation_smi,p,dict=True)[0])\n",
    "temp = temp.subs(sympy.solve(mass_conservation_without_gravity,rho,dict=True)[0])\n",
    "temp = temp.subs(u, u_ansatz_smi)\n",
    "temp = temp.doit()\n",
    "temp = temp.simplify()\n",
    "temp = sympy.solve(temp,A_u)[0].simplify()\n",
    "temp = u_ansatz_smi.subs(A_u, temp)\n",
    "u_smi = temp\n",
    "u_smi"
   ]
  },
  {
   "cell_type": "markdown",
   "metadata": {},
   "source": [
    "Speed of sound"
   ]
  },
  {
   "cell_type": "code",
   "execution_count": 256,
   "metadata": {},
   "outputs": [
    {
     "data": {
      "image/png": "[encoded data removed]",
      "text/latex": [
       "$$\\frac{\\sqrt{2} \\sqrt{G}}{\\sqrt{r}} \\sqrt{M} \\sqrt{\\gamma} \\sqrt{\\frac{\\left(\\eta - 3\\right) \\left(\\gamma - 1\\right)}{\\left(\\eta - 2\\right) \\left(2 \\eta \\gamma + 2 \\eta - 9 \\gamma - 1\\right)}}$$"
      ],
      "text/plain": [
       "                _________________________________\n",
       "               ╱         (η - 3)⋅(γ - 1)         \n",
       "√2⋅√G⋅√M⋅√γ⋅  ╱  ─────────────────────────────── \n",
       "            ╲╱   (η - 2)⋅(2⋅η⋅γ + 2⋅η - 9⋅γ - 1) \n",
       "─────────────────────────────────────────────────\n",
       "                        √r                       "
      ]
     },
     "execution_count": 256,
     "metadata": {},
     "output_type": "execute_result"
    }
   ],
   "source": [
    "temp = energy_conservation_smi\n",
    "temp = temp.subs(p, rho*c**2/gamma).simplify()\n",
    "temp = temp.subs(u, u_smi)\n",
    "temp = sympy.solve(temp, c)[1]\n",
    "c_smi = temp\n",
    "c_smi"
   ]
  },
  {
   "cell_type": "markdown",
   "metadata": {},
   "source": [
    "Mach number"
   ]
  },
  {
   "cell_type": "code",
   "execution_count": 258,
   "metadata": {},
   "outputs": [
    {
     "data": {
      "image/png": "[encoded data removed]",
      "text/latex": [
       "$$\\frac{1}{\\sqrt{\\gamma}} \\sqrt{\\frac{2 \\eta - 3 \\gamma - 1}{\\left(\\eta - 3\\right) \\left(\\gamma - 1\\right)}}$$"
      ],
      "text/plain": [
       "    _________________\n",
       "   ╱  2⋅η - 3⋅γ - 1  \n",
       "  ╱  ─────────────── \n",
       "╲╱   (η - 3)⋅(γ - 1) \n",
       "─────────────────────\n",
       "          √γ         "
      ]
     },
     "execution_count": 258,
     "metadata": {},
     "output_type": "execute_result"
    }
   ],
   "source": [
    "temp = u_smi/c_smi\n",
    "temp = temp**2\n",
    "temp = temp.simplify()\n",
    "temp = sympy.sqrt(temp)\n",
    "temp"
   ]
  },
  {
   "cell_type": "markdown",
   "metadata": {},
   "source": [
    "Density"
   ]
  },
  {
   "cell_type": "code",
   "execution_count": 262,
   "metadata": {},
   "outputs": [
    {
     "data": {
      "image/png": "[encoded data removed]",
      "text/latex": [
       "$$\\frac{\\sqrt{2} D r^{- \\eta + \\frac{3}{2}}}{2 \\sqrt{G} \\sqrt{M} \\sqrt{\\frac{2 \\eta - 3 \\gamma - 1}{2 \\eta^{2} \\gamma + 2 \\eta^{2} - 13 \\eta \\gamma - 5 \\eta + 18 \\gamma + 2}} \\left(\\eta - 3\\right)}$$"
      ],
      "text/plain": [
       "                              -η + 3/2                        \n",
       "                        √2⋅D⋅r                                \n",
       "──────────────────────────────────────────────────────────────\n",
       "             _________________________________________        \n",
       "            ╱              2⋅η - 3⋅γ - 1                      \n",
       "2⋅√G⋅√M⋅   ╱  ─────────────────────────────────────── ⋅(η - 3)\n",
       "          ╱      2        2                                   \n",
       "        ╲╱    2⋅η ⋅γ + 2⋅η  - 13⋅η⋅γ - 5⋅η + 18⋅γ + 2         "
      ]
     },
     "execution_count": 262,
     "metadata": {},
     "output_type": "execute_result"
    }
   ],
   "source": [
    "temp = mass_conservation_without_gravity\n",
    "temp = temp.subs(u, u_smi)\n",
    "rho_smi = sympy.solve(temp, rho)[0]\n",
    "rho_smi"
   ]
  },
  {
   "cell_type": "markdown",
   "metadata": {},
   "source": [
    "# Reduction to dimensionless variables"
   ]
  },
  {
   "cell_type": "markdown",
   "metadata": {},
   "source": [
    "Bondi radius"
   ]
  },
  {
   "cell_type": "code",
   "execution_count": 6,
   "metadata": {},
   "outputs": [
    {
     "data": {
      "image/png": "[encoded data removed]",
      "text/latex": [
       "$$\\frac{G M}{v_{w}^{2}}$$"
      ],
      "text/plain": [
       "G⋅M \n",
       "────\n",
       "   2\n",
       "v_w "
      ]
     },
     "execution_count": 6,
     "metadata": {},
     "output_type": "execute_result"
    }
   ],
   "source": [
    "bondi_radius = G*M/v_w**2\n",
    "bondi_radius"
   ]
  },
  {
   "cell_type": "markdown",
   "metadata": {},
   "source": [
    "Bondi density"
   ]
  },
  {
   "cell_type": "code",
   "execution_count": 7,
   "metadata": {},
   "outputs": [
    {
     "data": {
      "image/png": "[encoded data removed]",
      "text/latex": [
       "$$D v_{w}^{2 \\eta - 3} \\left(G M\\right)^{- \\eta + 1}$$"
      ],
      "text/plain": [
       "     2⋅η - 3      -η + 1\n",
       "D⋅v_w       ⋅(G⋅M)      "
      ]
     },
     "execution_count": 7,
     "metadata": {},
     "output_type": "execute_result"
    }
   ],
   "source": [
    "temp = D*bondi_radius**(-eta)*(bondi_radius/v_w)\n",
    "temp = sympy.expand_power_base(temp,force=True)\n",
    "temp = temp.simplify()\n",
    "bondi_density = temp\n",
    "bondi_density"
   ]
  },
  {
   "cell_type": "markdown",
   "metadata": {},
   "source": [
    "Mass conservation"
   ]
  },
  {
   "cell_type": "code",
   "execution_count": 8,
   "metadata": {},
   "outputs": [
    {
     "data": {
      "image/png": "[encoded data removed]",
      "text/latex": [
       "$$\\tilde{r}^{- \\eta} = \\tilde{\\rho}{\\left (\\tilde{r} \\right )} \\frac{d}{d \\tilde{r}} \\tilde{u}{\\left (\\tilde{r} \\right )} + \\tilde{u}{\\left (\\tilde{r} \\right )} \\frac{d}{d \\tilde{r}} \\tilde{\\rho}{\\left (\\tilde{r} \\right )} + \\frac{2}{\\tilde{r}} \\tilde{\\rho}{\\left (\\tilde{r} \\right )} \\tilde{u}{\\left (\\tilde{r} \\right )}$$"
      ],
      "text/plain": [
       "         -η                               d                                   \n",
       "\\tilde{r}   = \\tilde{\\rho}(\\tilde{r})⋅──────────(\\tilde{u}(\\tilde{r})) + \\tild\n",
       "                                      d\\tilde{r}                              \n",
       "\n",
       "                    d                                 2⋅\\tilde{\\rho}(\\tilde{r}\n",
       "e{u}(\\tilde{r})⋅──────────(\\tilde{\\rho}(\\tilde{r})) + ────────────────────────\n",
       "                d\\tilde{r}                                              \\tilde\n",
       "\n",
       ")⋅\\tilde{u}(\\tilde{r})\n",
       "──────────────────────\n",
       "{r}                   "
      ]
     },
     "execution_count": 8,
     "metadata": {},
     "output_type": "execute_result"
    }
   ],
   "source": [
    "tilde_rho = sympy.Symbol(r'\\tilde{\\rho}')\n",
    "tilde_r = sympy.Symbol(r'\\tilde{r}')\n",
    "tilde_u = sympy.Symbol(r'\\tilde{u}')\n",
    "temp = mass_conservation\n",
    "temp = temp.subs(q, mass_source)\n",
    "temp = temp.subs(rho(r).diff(r), bondi_density*tilde_rho(tilde_r).diff(tilde_r)/bondi_radius)\n",
    "temp = temp.subs(u(r).diff(r), v_w*tilde_u(tilde_r).diff(tilde_r)/bondi_radius)\n",
    "temp = temp.subs(rho(r), bondi_density*tilde_rho(tilde_r))\n",
    "temp = temp.subs(u(r), v_w*tilde_u(tilde_r))\n",
    "temp = sympy.Eq(temp.lhs*(G*M)**eta/D/(v_w**2)**eta, \n",
    "                temp.rhs*(G*M)**eta/D/(v_w**2)**eta)\n",
    "temp = temp.subs(r, bondi_radius*tilde_r)\n",
    "temp = sympy.expand_power_base(temp)\n",
    "temp = temp.simplify()\n",
    "dimles_mass_conservation = temp\n",
    "dimles_mass_conservation"
   ]
  },
  {
   "cell_type": "markdown",
   "metadata": {},
   "source": [
    "Momentum conservation"
   ]
  },
  {
   "cell_type": "code",
   "execution_count": 9,
   "metadata": {},
   "outputs": [
    {
     "data": {
      "image/png": "[encoded data removed]",
      "text/latex": [
       "$$\\tilde{\\rho}{\\left (\\tilde{r} \\right )} \\tilde{u}{\\left (\\tilde{r} \\right )} \\frac{d}{d \\tilde{r}} \\tilde{u}{\\left (\\tilde{r} \\right )} + \\frac{d}{d \\tilde{r}} \\tilde{p}{\\left (\\tilde{r} \\right )} = - \\tilde{r}^{- \\eta} \\tilde{u}{\\left (\\tilde{r} \\right )} - \\frac{1}{\\tilde{r}^{2}} \\tilde{\\rho}{\\left (\\tilde{r} \\right )}$$"
      ],
      "text/plain": [
       "                                                 d                            \n",
       "\\tilde{\\rho}(\\tilde{r})⋅\\tilde{u}(\\tilde{r})⋅──────────(\\tilde{u}(\\tilde{r})) \n",
       "                                             d\\tilde{r}                       \n",
       "                                                                              \n",
       "\n",
       "      d                                         -η                        \\til\n",
       "+ ──────────(\\tilde{p}(\\tilde{r})) = - \\tilde{r}  ⋅\\tilde{u}(\\tilde{r}) - ────\n",
       "  d\\tilde{r}                                                                  \n",
       "                                                                              \n",
       "\n",
       "de{\\rho}(\\tilde{r})\n",
       "───────────────────\n",
       "            2      \n",
       "   \\tilde{r}       "
      ]
     },
     "execution_count": 9,
     "metadata": {},
     "output_type": "execute_result"
    }
   ],
   "source": [
    "tilde_p = sympy.Symbol(r'\\tilde{p}')\n",
    "temp = momentum_conservation\n",
    "temp = temp.subs(q, mass_source)\n",
    "temp = temp.subs(rho(r).diff(r), bondi_density*tilde_rho(tilde_r).diff(tilde_r)/bondi_radius)\n",
    "temp = temp.subs(u(r).diff(r), v_w*tilde_u(tilde_r).diff(tilde_r)/bondi_radius)\n",
    "temp = temp.subs(p(r).diff(r), bondi_density*v_w**2*tilde_p(tilde_r).diff(tilde_r)/bondi_radius)\n",
    "temp = temp.subs(rho(r), bondi_density*tilde_rho(tilde_r))\n",
    "temp = temp.subs(u(r), v_w*tilde_u(tilde_r))\n",
    "temp = temp.subs(p(r), bondi_density*v_w**2*tilde_p(tilde_r))\n",
    "temp = sympy.Eq(temp.lhs*(G*M)**eta/D/(v_w**2)**eta/v_w, \n",
    "                temp.rhs*(G*M)**eta/D/(v_w**2)**eta/v_w)\n",
    "temp = temp.subs(r, bondi_radius*tilde_r)\n",
    "temp = temp.simplify()\n",
    "dimles_momentum_conservation = temp\n",
    "dimles_momentum_conservation"
   ]
  },
  {
   "cell_type": "markdown",
   "metadata": {},
   "source": [
    "Energy conservation"
   ]
  },
  {
   "cell_type": "code",
   "execution_count": 10,
   "metadata": {},
   "outputs": [
    {
     "data": {
      "image/png": "[encoded data removed]",
      "text/latex": [
       "$$\\frac{\\tilde{r}^{- \\eta}}{2} - \\frac{1}{\\tilde{r}^{2}} \\tilde{\\rho}{\\left (\\tilde{r} \\right )} \\tilde{u}{\\left (\\tilde{r} \\right )} = \\frac{1}{2 \\tilde{r} \\left(\\gamma - 1\\right)} \\left(\\tilde{r} \\left(2 \\gamma \\frac{d}{d \\tilde{r}} \\tilde{p}{\\left (\\tilde{r} \\right )} + \\left(\\gamma - 1\\right) \\left(2 \\tilde{\\rho}{\\left (\\tilde{r} \\right )} \\frac{d}{d \\tilde{r}} \\tilde{u}{\\left (\\tilde{r} \\right )} + \\tilde{u}{\\left (\\tilde{r} \\right )} \\frac{d}{d \\tilde{r}} \\tilde{\\rho}{\\left (\\tilde{r} \\right )}\\right) \\tilde{u}{\\left (\\tilde{r} \\right )}\\right) \\tilde{u}{\\left (\\tilde{r} \\right )} + \\left(\\tilde{r} \\frac{d}{d \\tilde{r}} \\tilde{u}{\\left (\\tilde{r} \\right )} + 2 \\tilde{u}{\\left (\\tilde{r} \\right )}\\right) \\left(2 \\gamma \\tilde{p}{\\left (\\tilde{r} \\right )} + \\left(\\gamma - 1\\right) \\tilde{\\rho}{\\left (\\tilde{r} \\right )} \\tilde{u}^{2}{\\left (\\tilde{r} \\right )}\\right)\\right)$$"
      ],
      "text/plain": [
       "                                                                       ⎛      \n",
       "         -η                                                  \\tilde{r}⋅⎜2⋅γ⋅──\n",
       "\\tilde{r}     \\tilde{\\rho}(\\tilde{r})⋅\\tilde{u}(\\tilde{r})             ⎝    d\\\n",
       "─────────── - ──────────────────────────────────────────── = ─────────────────\n",
       "     2                                  2                                     \n",
       "                               \\tilde{r}                                      \n",
       "\n",
       "  d                                      ⎛                              d     \n",
       "────────(\\tilde{p}(\\tilde{r})) + (γ - 1)⋅⎜2⋅\\tilde{\\rho}(\\tilde{r})⋅──────────\n",
       "tilde{r}                                 ⎝                          d\\tilde{r}\n",
       "──────────────────────────────────────────────────────────────────────────────\n",
       "                                                                              \n",
       "                                                                              \n",
       "\n",
       "                                                  d                           \n",
       "(\\tilde{u}(\\tilde{r})) + \\tilde{u}(\\tilde{r})⋅──────────(\\tilde{\\rho}(\\tilde{r\n",
       "                                              d\\tilde{r}                      \n",
       "──────────────────────────────────────────────────────────────────────────────\n",
       "                                                                              \n",
       "                                                                              \n",
       "\n",
       "   ⎞                     ⎞                        ⎛              d            \n",
       "}))⎟⋅\\tilde{u}(\\tilde{r})⎟⋅\\tilde{u}(\\tilde{r}) + ⎜\\tilde{r}⋅──────────(\\tilde\n",
       "   ⎠                     ⎠                        ⎝          d\\tilde{r}       \n",
       "──────────────────────────────────────────────────────────────────────────────\n",
       "     2⋅\\tilde{r}⋅(γ - 1)                                                      \n",
       "                                                                              \n",
       "\n",
       "                                        ⎞ ⎛                                   \n",
       "{u}(\\tilde{r})) + 2⋅\\tilde{u}(\\tilde{r})⎟⋅⎝2⋅γ⋅\\tilde{p}(\\tilde{r}) + (γ - 1)⋅\n",
       "                                        ⎠                                     \n",
       "──────────────────────────────────────────────────────────────────────────────\n",
       "                                                                              \n",
       "                                                                              \n",
       "\n",
       "                                 2           ⎞\n",
       "\\tilde{\\rho}(\\tilde{r})⋅\\tilde{u} (\\tilde{r})⎠\n",
       "                                              \n",
       "──────────────────────────────────────────────\n",
       "                                              \n",
       "                                              "
      ]
     },
     "execution_count": 10,
     "metadata": {},
     "output_type": "execute_result"
    }
   ],
   "source": [
    "temp = energy_conservation\n",
    "temp = temp.subs(q, mass_source)\n",
    "temp = temp.subs(rho(r).diff(r), bondi_density*tilde_rho(tilde_r).diff(tilde_r)/bondi_radius)\n",
    "temp = temp.subs(u(r).diff(r), v_w*tilde_u(tilde_r).diff(tilde_r)/bondi_radius)\n",
    "temp = temp.subs(p(r).diff(r), bondi_density*v_w**2*tilde_p(tilde_r).diff(tilde_r)/bondi_radius)\n",
    "temp = temp.subs(rho(r), bondi_density*tilde_rho(tilde_r))\n",
    "temp = temp.subs(u(r), v_w*tilde_u(tilde_r))\n",
    "temp = temp.subs(p(r), bondi_density*v_w**2*tilde_p(tilde_r))\n",
    "temp = sympy.Eq(temp.lhs*(G*M)**eta/D/(v_w**2)**eta/v_w**2, \n",
    "                temp.rhs*(G*M)**eta/D/(v_w**2)**eta/v_w**2)\n",
    "temp = temp.subs(r, bondi_radius*tilde_r)\n",
    "temp = temp.simplify()\n",
    "dimles_energy_conservation = temp\n",
    "dimles_energy_conservation"
   ]
  },
  {
   "cell_type": "markdown",
   "metadata": {},
   "source": [
    "Integral expressions"
   ]
  },
  {
   "cell_type": "code",
   "execution_count": 75,
   "metadata": {},
   "outputs": [
    {
     "data": {
      "image/png": "[encoded data removed]",
      "text/latex": [
       "$$\\tilde{r}^{2} \\tilde{\\rho}{\\left (\\tilde{r} \\right )} \\tilde{u}{\\left (\\tilde{r} \\right )} = \\frac{\\tilde{r}^{- \\eta + 3}}{- \\eta + 3} - \\frac{\\tilde{r}_{st}^{- \\eta + 3}}{- \\eta + 3}$$"
      ],
      "text/plain": [
       "                                                                   -η + 3     \n",
       "         2                                                \\tilde{r}         \\t\n",
       "\\tilde{r} ⋅\\tilde{\\rho}(\\tilde{r})⋅\\tilde{u}(\\tilde{r}) = ─────────────── - ──\n",
       "                                                               -η + 3         \n",
       "\n",
       "            -η + 3\n",
       "ilde{r}_{st}      \n",
       "──────────────────\n",
       "     -η + 3       "
      ]
     },
     "execution_count": 75,
     "metadata": {},
     "output_type": "execute_result"
    }
   ],
   "source": [
    "tilde_r_st = sympy.Symbol(r'\\tilde{r}_{st}', positive=True)\n",
    "temp = tilde_r**(-eta)\n",
    "temp *= tilde_r**2\n",
    "temp = temp.simplify()\n",
    "temp = temp.integrate(tilde_r,conds='none')\n",
    "temp = temp - temp.subs(tilde_r, tilde_r_st)\n",
    "temp = sympy.Eq(tilde_r**2*tilde_rho(tilde_r)*tilde_u(tilde_r), temp)\n",
    "integral_mass_conservation = temp\n",
    "integral_mass_conservation"
   ]
  },
  {
   "cell_type": "markdown",
   "metadata": {},
   "source": [
    "Verification"
   ]
  },
  {
   "cell_type": "code",
   "execution_count": 12,
   "metadata": {},
   "outputs": [
    {
     "data": {
      "image/png": "[encoded data removed]",
      "text/latex": [
       "$$0$$"
      ],
      "text/plain": [
       "0"
      ]
     },
     "execution_count": 12,
     "metadata": {},
     "output_type": "execute_result"
    }
   ],
   "source": [
    "temp = integral_mass_conservation\n",
    "temp = temp.lhs - temp.rhs\n",
    "temp = temp.diff(tilde_r)\n",
    "temp = temp.subs(sympy.solve(dimles_mass_conservation,\n",
    "                             tilde_rho(tilde_r).diff(tilde_r),dict=True)[0])\n",
    "temp = temp.simplify()\n",
    "temp"
   ]
  },
  {
   "cell_type": "markdown",
   "metadata": {
    "collapsed": true
   },
   "source": [
    "Energy conservation"
   ]
  },
  {
   "cell_type": "code",
   "execution_count": 13,
   "metadata": {},
   "outputs": [
    {
     "data": {
      "image/png": "[encoded data removed]",
      "text/latex": [
       "$$\\frac{1}{\\gamma - 1} \\left(\\frac{1}{2} \\left(\\gamma - 1\\right) \\left(\\tilde{u}^{2}{\\left (\\tilde{r} \\right )} - 1\\right) + \\tilde{c}^{2}{\\left (\\tilde{r} \\right )}\\right) = \\frac{\\tilde{r}^{- \\eta - 1} \\tilde{r}_{st}^{- \\eta}}{\\left(\\tilde{r}^{- \\eta + 3} - \\tilde{r}_{st}^{- \\eta + 3}\\right) \\left(\\eta - 2\\right)} \\left(\\tilde{r}^{3} \\tilde{r}_{st}^{\\eta} - \\tilde{r}^{\\eta} \\tilde{r}_{st}^{3} \\eta + 2 \\tilde{r}^{\\eta} \\tilde{r}_{st}^{3} + \\tilde{r}^{\\eta + 1} \\tilde{r}_{st}^{2} \\eta - 3 \\tilde{r}^{\\eta + 1} \\tilde{r}_{st}^{2}\\right)$$"
      ],
      "text/plain": [
       "        ⎛         2               ⎞                                           \n",
       "(γ - 1)⋅⎝\\tilde{u} (\\tilde{r}) - 1⎠            2                              \n",
       "─────────────────────────────────── + \\tilde{c} (\\tilde{r})            -η - 1 \n",
       "                 2                                            \\tilde{r}      ⋅\n",
       "─────────────────────────────────────────────────────────── = ────────────────\n",
       "                           γ - 1                                              \n",
       "                                                                              \n",
       "\n",
       "                                                                              \n",
       "                                                                              \n",
       "              -η ⎛         3               η            η               3     \n",
       "\\tilde{r}_{st}  ⋅⎝\\tilde{r} ⋅\\tilde{r}_{st}  - \\tilde{r} ⋅\\tilde{r}_{st} ⋅η + \n",
       "──────────────────────────────────────────────────────────────────────────────\n",
       "                                                         ⎛         -η + 3     \n",
       "                                                         ⎝\\tilde{r}       - \\t\n",
       "\n",
       "                                                                              \n",
       "                                                                              \n",
       "           η               3            η + 1               2                η\n",
       "2⋅\\tilde{r} ⋅\\tilde{r}_{st}  + \\tilde{r}     ⋅\\tilde{r}_{st} ⋅η - 3⋅\\tilde{r} \n",
       "──────────────────────────────────────────────────────────────────────────────\n",
       "            -η + 3⎞                                                           \n",
       "ilde{r}_{st}      ⎠⋅(η - 2)                                                   \n",
       "\n",
       "                     \n",
       "                     \n",
       " + 1               2⎞\n",
       "    ⋅\\tilde{r}_{st} ⎠\n",
       "─────────────────────\n",
       "                     \n",
       "                     "
      ]
     },
     "execution_count": 13,
     "metadata": {},
     "output_type": "execute_result"
    }
   ],
   "source": [
    "tilde_c = sympy.Symbol(r'\\tilde{c}')\n",
    "temp = -integral_mass_conservation.rhs\n",
    "temp /= tilde_r**2\n",
    "temp = temp.expand()\n",
    "temp = temp.integrate(tilde_r,conds='none')\n",
    "temp = temp - temp.subs(tilde_r, tilde_r_st)\n",
    "temp = temp.simplify()\n",
    "temp = temp.subs(eta**2-5*eta+6, (eta-2)*(eta-3))\n",
    "temp = sympy.Eq(tilde_u(tilde_r)**2/2-sympy.Rational(1,2) + tilde_c(tilde_r)**2/(gamma-1),\n",
    "               temp/integral_mass_conservation.rhs)\n",
    "temp = temp.simplify()\n",
    "integral_energy_conservation = temp\n",
    "integral_energy_conservation"
   ]
  },
  {
   "cell_type": "markdown",
   "metadata": {},
   "source": [
    "Verification"
   ]
  },
  {
   "cell_type": "code",
   "execution_count": 14,
   "metadata": {},
   "outputs": [
    {
     "data": {
      "image/png": "[encoded data removed]",
      "text/latex": [
       "$$0$$"
      ],
      "text/plain": [
       "0"
      ]
     },
     "execution_count": 14,
     "metadata": {},
     "output_type": "execute_result"
    }
   ],
   "source": [
    "temp = integral_energy_conservation\n",
    "temp = temp.subs(tilde_c(tilde_r), sympy.sqrt(gamma*tilde_p(tilde_r)/tilde_rho(tilde_r)))\n",
    "temp = sympy.Eq(temp.lhs*integral_mass_conservation.lhs,\n",
    "                temp.rhs*integral_mass_conservation.rhs)\n",
    "temp = temp.lhs - temp.rhs\n",
    "temp = temp.diff(tilde_r)\n",
    "temp -= (dimles_energy_conservation.rhs-dimles_energy_conservation.lhs)*tilde_r**2\n",
    "temp = temp.subs(sympy.solve(dimles_mass_conservation,tilde_rho(tilde_r).diff(tilde_r),dict=True)[0])\n",
    "temp = temp.subs(sympy.solve(integral_mass_conservation,tilde_rho(tilde_r),dict=True)[0])\n",
    "temp = temp.subs(sympy.solve([dimles_mass_conservation,\n",
    "                              dimles_momentum_conservation,\n",
    "                              dimles_energy_conservation],\n",
    "                             [tilde_p(tilde_r).diff(tilde_r),\n",
    "                             tilde_rho(tilde_r).diff(tilde_r),\n",
    "                             tilde_u(tilde_r).diff(tilde_r)]))                           \n",
    "temp = temp.simplify()\n",
    "temp = temp.subs(sympy.solve(integral_mass_conservation,tilde_rho(tilde_r),dict=True)[0])\n",
    "temp.simplify()"
   ]
  },
  {
   "cell_type": "markdown",
   "metadata": {},
   "source": [
    "# Solutions without Gravity\n",
    "In this case the fluid velocity and the speed of sound are constant. The density is a single power law"
   ]
  },
  {
   "cell_type": "code",
   "execution_count": 15,
   "metadata": {},
   "outputs": [
    {
     "data": {
      "image/png": "[encoded data removed]",
      "text/latex": [
       "$$\\left [ \\left ( \\frac{D \\sqrt{\\frac{- \\eta \\gamma + \\eta + \\gamma - 1}{\\eta \\gamma + \\eta - 5 \\gamma - 1}} \\left(\\eta \\gamma + \\eta - 5 \\gamma - 1\\right)}{v_{w} \\left(\\eta^{2} \\gamma - \\eta^{2} - 4 \\eta \\gamma + 4 \\eta + 3 \\gamma - 3\\right)}, \\quad v_{w} \\sqrt{- \\frac{\\left(\\eta - 1\\right) \\left(\\gamma - 1\\right)}{\\eta \\gamma + \\eta - 5 \\gamma - 1}}, \\quad v_{w} \\sqrt{\\frac{\\gamma \\left(\\eta - 3\\right) \\left(\\gamma - 1\\right)}{\\eta \\gamma + \\eta - 5 \\gamma - 1}}\\right ), \\quad - \\eta + 1\\right ]$$"
      ],
      "text/plain": [
       "⎡⎛      ___________________                                                   \n",
       "⎢⎜     ╱  -η⋅γ + η + γ - 1                                                    \n",
       "⎢⎜D⋅  ╱  ───────────────── ⋅(η⋅γ + η - 5⋅γ - 1)          ___________________  \n",
       "⎢⎜  ╲╱   η⋅γ + η - 5⋅γ - 1                              ╱ -(η - 1)⋅(γ - 1)    \n",
       "⎢⎜─────────────────────────────────────────────, v_w⋅  ╱  ───────────────── , \n",
       "⎢⎜       ⎛ 2      2                        ⎞         ╲╱   η⋅γ + η - 5⋅γ - 1   \n",
       "⎣⎝   v_w⋅⎝η ⋅γ - η  - 4⋅η⋅γ + 4⋅η + 3⋅γ - 3⎠                                  \n",
       "\n",
       "                           ⎞        ⎤\n",
       "                           ⎟        ⎥\n",
       "        ___________________⎟        ⎥\n",
       "       ╱ γ⋅(η - 3)⋅(γ - 1) ⎟        ⎥\n",
       "v_w⋅  ╱  ───────────────── ⎟, -η + 1⎥\n",
       "    ╲╱   η⋅γ + η - 5⋅γ - 1 ⎟        ⎥\n",
       "                           ⎠        ⎦"
      ]
     },
     "execution_count": 15,
     "metadata": {},
     "output_type": "execute_result"
    }
   ],
   "source": [
    "c = sympy.Symbol('c')\n",
    "alpha = sympy.Symbol('alpha')\n",
    "A = sympy.Symbol('A')\n",
    "temp = [mass_conservation,momentum_conservation,energy_conservation]\n",
    "temp = map(lambda eqn: eqn.subs(q,mass_source), temp)\n",
    "temp = map(lambda eqn: eqn.subs(p(r),rho(r)*c(r)**2/gamma), temp)\n",
    "temp = map(lambda eqn: eqn.doit(), temp)\n",
    "temp = map(lambda eqn: eqn.subs(M,0), temp)\n",
    "temp = map(lambda eqn: eqn.subs(u(r).diff(r),0), temp)\n",
    "temp = map(lambda eqn: eqn.subs(c(r).diff(r),0), temp)\n",
    "temp = map(lambda eqn: eqn.subs(rho(r),A*r**alpha),temp)\n",
    "temp = map(lambda eqn: eqn.doit(), temp)\n",
    "temp = map(lambda eqn: eqn.simplify(), temp)\n",
    "temp = list(temp)\n",
    "asymptotic_density_index = sympy.solve(sympy.Eq(sympy.log(temp[0].lhs).diff(r)*r,\n",
    "         (sympy.log(temp[0].rhs).diff(r)*r).subs(u(r).diff(r),0)),alpha)[0]\n",
    "temp = map(lambda eqn: eqn.subs(alpha,asymptotic_density_index), temp)\n",
    "asymptotic_prefactors = sympy.solve(temp,[A,u(r),c(r)])[1]\n",
    "[asymptotic_prefactors,asymptotic_density_index]"
   ]
  },
  {
   "cell_type": "markdown",
   "metadata": {},
   "source": [
    "Asymptotic Mach number"
   ]
  },
  {
   "cell_type": "code",
   "execution_count": 16,
   "metadata": {},
   "outputs": [
    {
     "data": {
      "image/png": "[encoded data removed]",
      "text/latex": [
       "$$\\frac{\\sqrt{\\eta - 1}}{\\sqrt{\\gamma \\left(- \\eta + 3\\right)}}$$"
      ],
      "text/plain": [
       "    _______   \n",
       "  ╲╱ η - 1    \n",
       "──────────────\n",
       "  ____________\n",
       "╲╱ γ⋅(-η + 3) "
      ]
     },
     "execution_count": 16,
     "metadata": {},
     "output_type": "execute_result"
    }
   ],
   "source": [
    "Q = sympy.Symbol('Q',positive=True)\n",
    "temp = asymptotic_prefactors[1]/asymptotic_prefactors[2]\n",
    "temp = temp.subs(eta*gamma+eta-5*gamma-1,-Q)\n",
    "temp = sympy.expand_power_base(temp)\n",
    "temp = temp.simplify()\n",
    "temp = temp.subs(gamma-1,Q)\n",
    "temp = temp.simplify()\n",
    "asymptotic_mach_number = temp\n",
    "asymptotic_mach_number"
   ]
  },
  {
   "cell_type": "markdown",
   "metadata": {},
   "source": [
    "More simplification for the density prefactor"
   ]
  },
  {
   "cell_type": "code",
   "execution_count": 17,
   "metadata": {},
   "outputs": [
    {
     "data": {
      "image/png": "[encoded data removed]",
      "text/latex": [
       "$$- \\frac{D \\sqrt{- \\eta \\left(\\gamma - 1\\right) - 2 \\eta + 5 \\gamma + 1}}{v_{w} \\left(\\eta - 3\\right) \\sqrt{\\eta - 1} \\sqrt{\\gamma - 1}}$$"
      ],
      "text/plain": [
       "     ____________________________ \n",
       "-D⋅╲╱ -η⋅(γ - 1) - 2⋅η + 5⋅γ + 1  \n",
       "──────────────────────────────────\n",
       "               _______   _______  \n",
       " v_w⋅(η - 3)⋅╲╱ η - 1 ⋅╲╱ γ - 1   "
      ]
     },
     "execution_count": 17,
     "metadata": {},
     "output_type": "execute_result"
    }
   ],
   "source": [
    "temp = asymptotic_prefactors[0]\n",
    "temp = temp.subs(eta,Q+1)\n",
    "temp = temp.simplify()\n",
    "temp = temp.subs(Q,eta-1)\n",
    "temp = temp.subs(eta,Q+3)\n",
    "temp = temp.simplify()\n",
    "temp = temp.subs(Q,eta-3)\n",
    "temp = temp.subs(gamma,Q+1)\n",
    "temp = temp.simplify()\n",
    "temp = temp.subs(Q,gamma-1)\n",
    "temp = temp.subs(eta*(gamma-1)+2*eta-5*gamma-1,-Q)\n",
    "temp = temp.simplify()\n",
    "temp = temp.subs(Q,-(eta*(gamma-1)+2*eta-5*gamma-1))\n",
    "temp"
   ]
  },
  {
   "cell_type": "markdown",
   "metadata": {},
   "source": [
    "The flow is supersonic at large distances when $\\eta$ is greater than"
   ]
  },
  {
   "cell_type": "code",
   "execution_count": 18,
   "metadata": {},
   "outputs": [
    {
     "data": {
      "image/png": "[encoded data removed]",
      "text/latex": [
       "$$\\frac{3 \\gamma + 1}{\\gamma + 1}$$"
      ],
      "text/plain": [
       "3⋅γ + 1\n",
       "───────\n",
       " γ + 1 "
      ]
     },
     "execution_count": 18,
     "metadata": {},
     "output_type": "execute_result"
    }
   ],
   "source": [
    "sympy.solve(asymptotic_mach_number-1,eta)[0]"
   ]
  },
  {
   "cell_type": "markdown",
   "metadata": {},
   "source": [
    "## Truncated solutions"
   ]
  },
  {
   "cell_type": "code",
   "execution_count": 26,
   "metadata": {},
   "outputs": [
    {
     "data": {
      "image/png": "[encoded data removed]",
      "text/latex": [
       "$$\\rho{\\left (r \\right )} u{\\left (r \\right )} = \\frac{1}{r^{2}} \\left(\\frac{D R^{- \\eta + 3}}{- \\eta + 3} - \\frac{D r^{- \\eta + 3}}{- \\eta + 3}\\right)$$"
      ],
      "text/plain": [
       "               -η + 3      -η + 3\n",
       "            D⋅R         D⋅r      \n",
       "            ───────── - ─────────\n",
       "              -η + 3      -η + 3 \n",
       "ρ(r)⋅u(r) = ─────────────────────\n",
       "                       2         \n",
       "                      r          "
      ]
     },
     "execution_count": 26,
     "metadata": {},
     "output_type": "execute_result"
    }
   ],
   "source": [
    "R = sympy.Symbol('R', positive=True) # Truncation radius\n",
    "temp = mass_source*r**2\n",
    "temp = temp.simplify()\n",
    "temp = temp.integrate(r, conds='none')\n",
    "temp = temp.subs(r,R)-temp\n",
    "dimensional_mass_conservation = sympy.Eq(rho(r)*u(r),temp/r**2)\n",
    "dimensional_mass_conservation"
   ]
  },
  {
   "cell_type": "code",
   "execution_count": null,
   "metadata": {
    "collapsed": true
   },
   "outputs": [],
   "source": [
    "temp = energy_conservation.rhs\n",
    "temp = temp.subs(q, mass_source)\n",
    "temp = temp.subs(sympy.solve(dimensional_mass_conservation,rho(r), dict=True)[0])\n",
    "temp.simplify().integrate(r, conds='none')"
   ]
  },
  {
   "cell_type": "code",
   "execution_count": 20,
   "metadata": {},
   "outputs": [
    {
     "ename": "KeyboardInterrupt",
     "evalue": "",
     "output_type": "error",
     "traceback": [
      "\u001b[0;31m---------------------------------------------------------------------------\u001b[0m",
      "\u001b[0;31mKeyboardInterrupt\u001b[0m                         Traceback (most recent call last)",
      "\u001b[0;32m<ipython-input-20-c5e37fdfbce6>\u001b[0m in \u001b[0;36m<module>\u001b[0;34m()\u001b[0m\n\u001b[1;32m      5\u001b[0m \u001b[0;31m#sympy.integrate(temp.simplify(),r)\u001b[0m\u001b[0;34m\u001b[0m\u001b[0;34m\u001b[0m\u001b[0m\n\u001b[1;32m      6\u001b[0m \u001b[0mtemp\u001b[0m \u001b[0;34m=\u001b[0m \u001b[0msympy\u001b[0m\u001b[0;34m.\u001b[0m\u001b[0mexpand_power_base\u001b[0m\u001b[0;34m(\u001b[0m\u001b[0mtemp\u001b[0m\u001b[0;34m,\u001b[0m \u001b[0mforce\u001b[0m\u001b[0;34m=\u001b[0m\u001b[0;32mTrue\u001b[0m\u001b[0;34m)\u001b[0m\u001b[0;34m.\u001b[0m\u001b[0msimplify\u001b[0m\u001b[0;34m(\u001b[0m\u001b[0;34m)\u001b[0m\u001b[0;34m\u001b[0m\u001b[0m\n\u001b[0;32m----> 7\u001b[0;31m \u001b[0mtemp\u001b[0m\u001b[0;34m.\u001b[0m\u001b[0mintegrate\u001b[0m\u001b[0;34m(\u001b[0m\u001b[0mr\u001b[0m\u001b[0;34m,\u001b[0m\u001b[0mconds\u001b[0m\u001b[0;34m=\u001b[0m\u001b[0;34m'none'\u001b[0m\u001b[0;34m)\u001b[0m\u001b[0;34m\u001b[0m\u001b[0m\n\u001b[0m",
      "\u001b[0;32m/home/ayalin/anaconda3/lib/python3.6/site-packages/sympy/core/expr.py\u001b[0m in \u001b[0;36mintegrate\u001b[0;34m(self, *args, **kwargs)\u001b[0m\n\u001b[1;32m   3087\u001b[0m         \u001b[0;34m\"\"\"See the integrate function in sympy.integrals\"\"\"\u001b[0m\u001b[0;34m\u001b[0m\u001b[0m\n\u001b[1;32m   3088\u001b[0m         \u001b[0;32mfrom\u001b[0m \u001b[0msympy\u001b[0m\u001b[0;34m.\u001b[0m\u001b[0mintegrals\u001b[0m \u001b[0;32mimport\u001b[0m \u001b[0mintegrate\u001b[0m\u001b[0;34m\u001b[0m\u001b[0m\n\u001b[0;32m-> 3089\u001b[0;31m         \u001b[0;32mreturn\u001b[0m \u001b[0mintegrate\u001b[0m\u001b[0;34m(\u001b[0m\u001b[0mself\u001b[0m\u001b[0;34m,\u001b[0m \u001b[0;34m*\u001b[0m\u001b[0margs\u001b[0m\u001b[0;34m,\u001b[0m \u001b[0;34m**\u001b[0m\u001b[0mkwargs\u001b[0m\u001b[0;34m)\u001b[0m\u001b[0;34m\u001b[0m\u001b[0m\n\u001b[0m\u001b[1;32m   3090\u001b[0m \u001b[0;34m\u001b[0m\u001b[0m\n\u001b[1;32m   3091\u001b[0m     \u001b[0;32mdef\u001b[0m \u001b[0msimplify\u001b[0m\u001b[0;34m(\u001b[0m\u001b[0mself\u001b[0m\u001b[0;34m,\u001b[0m \u001b[0mratio\u001b[0m\u001b[0;34m=\u001b[0m\u001b[0;36m1.7\u001b[0m\u001b[0;34m,\u001b[0m \u001b[0mmeasure\u001b[0m\u001b[0;34m=\u001b[0m\u001b[0;32mNone\u001b[0m\u001b[0;34m)\u001b[0m\u001b[0;34m:\u001b[0m\u001b[0;34m\u001b[0m\u001b[0m\n",
      "\u001b[0;32m/home/ayalin/anaconda3/lib/python3.6/site-packages/sympy/integrals/integrals.py\u001b[0m in \u001b[0;36mintegrate\u001b[0;34m(*args, **kwargs)\u001b[0m\n\u001b[1;32m   1293\u001b[0m     \u001b[0;32mif\u001b[0m \u001b[0misinstance\u001b[0m\u001b[0;34m(\u001b[0m\u001b[0mintegral\u001b[0m\u001b[0;34m,\u001b[0m \u001b[0mIntegral\u001b[0m\u001b[0;34m)\u001b[0m\u001b[0;34m:\u001b[0m\u001b[0;34m\u001b[0m\u001b[0m\n\u001b[1;32m   1294\u001b[0m         return integral.doit(deep=False, meijerg=meijerg, conds=conds,\n\u001b[0;32m-> 1295\u001b[0;31m                              risch=risch, manual=manual)\n\u001b[0m\u001b[1;32m   1296\u001b[0m     \u001b[0;32melse\u001b[0m\u001b[0;34m:\u001b[0m\u001b[0;34m\u001b[0m\u001b[0m\n\u001b[1;32m   1297\u001b[0m         \u001b[0;32mreturn\u001b[0m \u001b[0mintegral\u001b[0m\u001b[0;34m\u001b[0m\u001b[0m\n",
      "\u001b[0;32m/home/ayalin/anaconda3/lib/python3.6/site-packages/sympy/integrals/integrals.py\u001b[0m in \u001b[0;36mdoit\u001b[0;34m(self, **hints)\u001b[0m\n\u001b[1;32m    484\u001b[0m                     \u001b[0mfunction\u001b[0m\u001b[0;34m,\u001b[0m \u001b[0mxab\u001b[0m\u001b[0;34m[\u001b[0m\u001b[0;36m0\u001b[0m\u001b[0;34m]\u001b[0m\u001b[0;34m,\u001b[0m\u001b[0;34m\u001b[0m\u001b[0m\n\u001b[1;32m    485\u001b[0m                     \u001b[0mmeijerg\u001b[0m\u001b[0;34m=\u001b[0m\u001b[0mmeijerg1\u001b[0m\u001b[0;34m,\u001b[0m \u001b[0mrisch\u001b[0m\u001b[0;34m=\u001b[0m\u001b[0mrisch\u001b[0m\u001b[0;34m,\u001b[0m \u001b[0mmanual\u001b[0m\u001b[0;34m=\u001b[0m\u001b[0mmanual\u001b[0m\u001b[0;34m,\u001b[0m\u001b[0;34m\u001b[0m\u001b[0m\n\u001b[0;32m--> 486\u001b[0;31m                     conds=conds)\n\u001b[0m\u001b[1;32m    487\u001b[0m                 \u001b[0;32mif\u001b[0m \u001b[0mantideriv\u001b[0m \u001b[0;32mis\u001b[0m \u001b[0;32mNone\u001b[0m \u001b[0;32mand\u001b[0m \u001b[0mmeijerg1\u001b[0m \u001b[0;32mis\u001b[0m \u001b[0;32mTrue\u001b[0m\u001b[0;34m:\u001b[0m\u001b[0;34m\u001b[0m\u001b[0m\n\u001b[1;32m    488\u001b[0m                     \u001b[0mret\u001b[0m \u001b[0;34m=\u001b[0m \u001b[0mtry_meijerg\u001b[0m\u001b[0;34m(\u001b[0m\u001b[0mfunction\u001b[0m\u001b[0;34m,\u001b[0m \u001b[0mxab\u001b[0m\u001b[0;34m)\u001b[0m\u001b[0;34m\u001b[0m\u001b[0m\n",
      "\u001b[0;32m/home/ayalin/anaconda3/lib/python3.6/site-packages/sympy/integrals/integrals.py\u001b[0m in \u001b[0;36m_eval_integral\u001b[0;34m(self, f, x, meijerg, risch, manual, conds)\u001b[0m\n\u001b[1;32m    894\u001b[0m                         \u001b[0mh\u001b[0m \u001b[0;34m=\u001b[0m \u001b[0mheurisch_wrapper\u001b[0m\u001b[0;34m(\u001b[0m\u001b[0mg\u001b[0m\u001b[0;34m,\u001b[0m \u001b[0mx\u001b[0m\u001b[0;34m,\u001b[0m \u001b[0mhints\u001b[0m\u001b[0;34m=\u001b[0m\u001b[0;34m[\u001b[0m\u001b[0;34m]\u001b[0m\u001b[0;34m)\u001b[0m\u001b[0;34m\u001b[0m\u001b[0m\n\u001b[1;32m    895\u001b[0m                     \u001b[0;32melse\u001b[0m\u001b[0;34m:\u001b[0m\u001b[0;34m\u001b[0m\u001b[0m\n\u001b[0;32m--> 896\u001b[0;31m                         \u001b[0mh\u001b[0m \u001b[0;34m=\u001b[0m \u001b[0mheurisch\u001b[0m\u001b[0;34m(\u001b[0m\u001b[0mg\u001b[0m\u001b[0;34m,\u001b[0m \u001b[0mx\u001b[0m\u001b[0;34m,\u001b[0m \u001b[0mhints\u001b[0m\u001b[0;34m=\u001b[0m\u001b[0;34m[\u001b[0m\u001b[0;34m]\u001b[0m\u001b[0;34m)\u001b[0m\u001b[0;34m\u001b[0m\u001b[0m\n\u001b[0m\u001b[1;32m    897\u001b[0m                 \u001b[0;32mexcept\u001b[0m \u001b[0mPolynomialError\u001b[0m\u001b[0;34m:\u001b[0m\u001b[0;34m\u001b[0m\u001b[0m\n\u001b[1;32m    898\u001b[0m                     \u001b[0;31m# XXX: this exception means there is a bug in the\u001b[0m\u001b[0;34m\u001b[0m\u001b[0;34m\u001b[0m\u001b[0m\n",
      "\u001b[0;32m/home/ayalin/anaconda3/lib/python3.6/site-packages/sympy/integrals/heurisch.py\u001b[0m in \u001b[0;36mheurisch\u001b[0;34m(f, x, rewrite, hints, mappings, retries, degree_offset, unnecessary_permutations)\u001b[0m\n\u001b[1;32m    661\u001b[0m             \u001b[0msolution\u001b[0m \u001b[0;34m=\u001b[0m \u001b[0m_integrate\u001b[0m\u001b[0;34m(\u001b[0m\u001b[0;34m)\u001b[0m\u001b[0;34m\u001b[0m\u001b[0m\n\u001b[1;32m    662\u001b[0m     \u001b[0;32melse\u001b[0m\u001b[0;34m:\u001b[0m\u001b[0;34m\u001b[0m\u001b[0m\n\u001b[0;32m--> 663\u001b[0;31m         \u001b[0msolution\u001b[0m \u001b[0;34m=\u001b[0m \u001b[0m_integrate\u001b[0m\u001b[0;34m(\u001b[0m\u001b[0;34m)\u001b[0m\u001b[0;34m\u001b[0m\u001b[0m\n\u001b[0m\u001b[1;32m    664\u001b[0m \u001b[0;34m\u001b[0m\u001b[0m\n\u001b[1;32m    665\u001b[0m     \u001b[0;32mif\u001b[0m \u001b[0msolution\u001b[0m \u001b[0;32mis\u001b[0m \u001b[0;32mnot\u001b[0m \u001b[0;32mNone\u001b[0m\u001b[0;34m:\u001b[0m\u001b[0;34m\u001b[0m\u001b[0m\n",
      "\u001b[0;32m/home/ayalin/anaconda3/lib/python3.6/site-packages/sympy/integrals/heurisch.py\u001b[0m in \u001b[0;36m_integrate\u001b[0;34m(field)\u001b[0m\n\u001b[1;32m    635\u001b[0m \u001b[0;34m\u001b[0m\u001b[0m\n\u001b[1;32m    636\u001b[0m         \u001b[0;32mtry\u001b[0m\u001b[0;34m:\u001b[0m\u001b[0;34m\u001b[0m\u001b[0m\n\u001b[0;32m--> 637\u001b[0;31m             \u001b[0mfind_non_syms\u001b[0m\u001b[0;34m(\u001b[0m\u001b[0mraw_numer\u001b[0m\u001b[0;34m)\u001b[0m\u001b[0;34m\u001b[0m\u001b[0m\n\u001b[0m\u001b[1;32m    638\u001b[0m         \u001b[0;32mexcept\u001b[0m \u001b[0mPolynomialError\u001b[0m\u001b[0;34m:\u001b[0m\u001b[0;34m\u001b[0m\u001b[0m\n\u001b[1;32m    639\u001b[0m             \u001b[0;32mreturn\u001b[0m \u001b[0;32mNone\u001b[0m\u001b[0;34m\u001b[0m\u001b[0m\n",
      "\u001b[0;32m/home/ayalin/anaconda3/lib/python3.6/site-packages/sympy/integrals/heurisch.py\u001b[0m in \u001b[0;36mfind_non_syms\u001b[0;34m(expr)\u001b[0m\n\u001b[1;32m    628\u001b[0m                 \u001b[0mnon_syms\u001b[0m\u001b[0;34m.\u001b[0m\u001b[0madd\u001b[0m\u001b[0;34m(\u001b[0m\u001b[0mexpr\u001b[0m\u001b[0;34m)\u001b[0m\u001b[0;34m\u001b[0m\u001b[0m\n\u001b[1;32m    629\u001b[0m             \u001b[0;32melif\u001b[0m \u001b[0mexpr\u001b[0m\u001b[0;34m.\u001b[0m\u001b[0mis_Add\u001b[0m \u001b[0;32mor\u001b[0m \u001b[0mexpr\u001b[0m\u001b[0;34m.\u001b[0m\u001b[0mis_Mul\u001b[0m \u001b[0;32mor\u001b[0m \u001b[0mexpr\u001b[0m\u001b[0;34m.\u001b[0m\u001b[0mis_Pow\u001b[0m\u001b[0;34m:\u001b[0m\u001b[0;34m\u001b[0m\u001b[0m\n\u001b[0;32m--> 630\u001b[0;31m                 \u001b[0mlist\u001b[0m\u001b[0;34m(\u001b[0m\u001b[0mmap\u001b[0m\u001b[0;34m(\u001b[0m\u001b[0mfind_non_syms\u001b[0m\u001b[0;34m,\u001b[0m \u001b[0mexpr\u001b[0m\u001b[0;34m.\u001b[0m\u001b[0margs\u001b[0m\u001b[0;34m)\u001b[0m\u001b[0;34m)\u001b[0m\u001b[0;34m\u001b[0m\u001b[0m\n\u001b[0m\u001b[1;32m    631\u001b[0m             \u001b[0;32melse\u001b[0m\u001b[0;34m:\u001b[0m\u001b[0;34m\u001b[0m\u001b[0m\n\u001b[1;32m    632\u001b[0m                 \u001b[0;31m# TODO: Non-polynomial expression. This should have been\u001b[0m\u001b[0;34m\u001b[0m\u001b[0;34m\u001b[0m\u001b[0m\n",
      "\u001b[0;32m/home/ayalin/anaconda3/lib/python3.6/site-packages/sympy/integrals/heurisch.py\u001b[0m in \u001b[0;36mfind_non_syms\u001b[0;34m(expr)\u001b[0m\n\u001b[1;32m    628\u001b[0m                 \u001b[0mnon_syms\u001b[0m\u001b[0;34m.\u001b[0m\u001b[0madd\u001b[0m\u001b[0;34m(\u001b[0m\u001b[0mexpr\u001b[0m\u001b[0;34m)\u001b[0m\u001b[0;34m\u001b[0m\u001b[0m\n\u001b[1;32m    629\u001b[0m             \u001b[0;32melif\u001b[0m \u001b[0mexpr\u001b[0m\u001b[0;34m.\u001b[0m\u001b[0mis_Add\u001b[0m \u001b[0;32mor\u001b[0m \u001b[0mexpr\u001b[0m\u001b[0;34m.\u001b[0m\u001b[0mis_Mul\u001b[0m \u001b[0;32mor\u001b[0m \u001b[0mexpr\u001b[0m\u001b[0;34m.\u001b[0m\u001b[0mis_Pow\u001b[0m\u001b[0;34m:\u001b[0m\u001b[0;34m\u001b[0m\u001b[0m\n\u001b[0;32m--> 630\u001b[0;31m                 \u001b[0mlist\u001b[0m\u001b[0;34m(\u001b[0m\u001b[0mmap\u001b[0m\u001b[0;34m(\u001b[0m\u001b[0mfind_non_syms\u001b[0m\u001b[0;34m,\u001b[0m \u001b[0mexpr\u001b[0m\u001b[0;34m.\u001b[0m\u001b[0margs\u001b[0m\u001b[0;34m)\u001b[0m\u001b[0;34m)\u001b[0m\u001b[0;34m\u001b[0m\u001b[0m\n\u001b[0m\u001b[1;32m    631\u001b[0m             \u001b[0;32melse\u001b[0m\u001b[0;34m:\u001b[0m\u001b[0;34m\u001b[0m\u001b[0m\n\u001b[1;32m    632\u001b[0m                 \u001b[0;31m# TODO: Non-polynomial expression. This should have been\u001b[0m\u001b[0;34m\u001b[0m\u001b[0;34m\u001b[0m\u001b[0m\n",
      "\u001b[0;32m/home/ayalin/anaconda3/lib/python3.6/site-packages/sympy/integrals/heurisch.py\u001b[0m in \u001b[0;36mfind_non_syms\u001b[0;34m(expr)\u001b[0m\n\u001b[1;32m    628\u001b[0m                 \u001b[0mnon_syms\u001b[0m\u001b[0;34m.\u001b[0m\u001b[0madd\u001b[0m\u001b[0;34m(\u001b[0m\u001b[0mexpr\u001b[0m\u001b[0;34m)\u001b[0m\u001b[0;34m\u001b[0m\u001b[0m\n\u001b[1;32m    629\u001b[0m             \u001b[0;32melif\u001b[0m \u001b[0mexpr\u001b[0m\u001b[0;34m.\u001b[0m\u001b[0mis_Add\u001b[0m \u001b[0;32mor\u001b[0m \u001b[0mexpr\u001b[0m\u001b[0;34m.\u001b[0m\u001b[0mis_Mul\u001b[0m \u001b[0;32mor\u001b[0m \u001b[0mexpr\u001b[0m\u001b[0;34m.\u001b[0m\u001b[0mis_Pow\u001b[0m\u001b[0;34m:\u001b[0m\u001b[0;34m\u001b[0m\u001b[0m\n\u001b[0;32m--> 630\u001b[0;31m                 \u001b[0mlist\u001b[0m\u001b[0;34m(\u001b[0m\u001b[0mmap\u001b[0m\u001b[0;34m(\u001b[0m\u001b[0mfind_non_syms\u001b[0m\u001b[0;34m,\u001b[0m \u001b[0mexpr\u001b[0m\u001b[0;34m.\u001b[0m\u001b[0margs\u001b[0m\u001b[0;34m)\u001b[0m\u001b[0;34m)\u001b[0m\u001b[0;34m\u001b[0m\u001b[0m\n\u001b[0m\u001b[1;32m    631\u001b[0m             \u001b[0;32melse\u001b[0m\u001b[0;34m:\u001b[0m\u001b[0;34m\u001b[0m\u001b[0m\n\u001b[1;32m    632\u001b[0m                 \u001b[0;31m# TODO: Non-polynomial expression. This should have been\u001b[0m\u001b[0;34m\u001b[0m\u001b[0;34m\u001b[0m\u001b[0m\n",
      "\u001b[0;32m/home/ayalin/anaconda3/lib/python3.6/site-packages/sympy/integrals/heurisch.py\u001b[0m in \u001b[0;36mfind_non_syms\u001b[0;34m(expr)\u001b[0m\n\u001b[1;32m    628\u001b[0m                 \u001b[0mnon_syms\u001b[0m\u001b[0;34m.\u001b[0m\u001b[0madd\u001b[0m\u001b[0;34m(\u001b[0m\u001b[0mexpr\u001b[0m\u001b[0;34m)\u001b[0m\u001b[0;34m\u001b[0m\u001b[0m\n\u001b[1;32m    629\u001b[0m             \u001b[0;32melif\u001b[0m \u001b[0mexpr\u001b[0m\u001b[0;34m.\u001b[0m\u001b[0mis_Add\u001b[0m \u001b[0;32mor\u001b[0m \u001b[0mexpr\u001b[0m\u001b[0;34m.\u001b[0m\u001b[0mis_Mul\u001b[0m \u001b[0;32mor\u001b[0m \u001b[0mexpr\u001b[0m\u001b[0;34m.\u001b[0m\u001b[0mis_Pow\u001b[0m\u001b[0;34m:\u001b[0m\u001b[0;34m\u001b[0m\u001b[0m\n\u001b[0;32m--> 630\u001b[0;31m                 \u001b[0mlist\u001b[0m\u001b[0;34m(\u001b[0m\u001b[0mmap\u001b[0m\u001b[0;34m(\u001b[0m\u001b[0mfind_non_syms\u001b[0m\u001b[0;34m,\u001b[0m \u001b[0mexpr\u001b[0m\u001b[0;34m.\u001b[0m\u001b[0margs\u001b[0m\u001b[0;34m)\u001b[0m\u001b[0;34m)\u001b[0m\u001b[0;34m\u001b[0m\u001b[0m\n\u001b[0m\u001b[1;32m    631\u001b[0m             \u001b[0;32melse\u001b[0m\u001b[0;34m:\u001b[0m\u001b[0;34m\u001b[0m\u001b[0m\n\u001b[1;32m    632\u001b[0m                 \u001b[0;31m# TODO: Non-polynomial expression. This should have been\u001b[0m\u001b[0;34m\u001b[0m\u001b[0;34m\u001b[0m\u001b[0m\n",
      "\u001b[0;32m/home/ayalin/anaconda3/lib/python3.6/site-packages/sympy/integrals/heurisch.py\u001b[0m in \u001b[0;36mfind_non_syms\u001b[0;34m(expr)\u001b[0m\n\u001b[1;32m    628\u001b[0m                 \u001b[0mnon_syms\u001b[0m\u001b[0;34m.\u001b[0m\u001b[0madd\u001b[0m\u001b[0;34m(\u001b[0m\u001b[0mexpr\u001b[0m\u001b[0;34m)\u001b[0m\u001b[0;34m\u001b[0m\u001b[0m\n\u001b[1;32m    629\u001b[0m             \u001b[0;32melif\u001b[0m \u001b[0mexpr\u001b[0m\u001b[0;34m.\u001b[0m\u001b[0mis_Add\u001b[0m \u001b[0;32mor\u001b[0m \u001b[0mexpr\u001b[0m\u001b[0;34m.\u001b[0m\u001b[0mis_Mul\u001b[0m \u001b[0;32mor\u001b[0m \u001b[0mexpr\u001b[0m\u001b[0;34m.\u001b[0m\u001b[0mis_Pow\u001b[0m\u001b[0;34m:\u001b[0m\u001b[0;34m\u001b[0m\u001b[0m\n\u001b[0;32m--> 630\u001b[0;31m                 \u001b[0mlist\u001b[0m\u001b[0;34m(\u001b[0m\u001b[0mmap\u001b[0m\u001b[0;34m(\u001b[0m\u001b[0mfind_non_syms\u001b[0m\u001b[0;34m,\u001b[0m \u001b[0mexpr\u001b[0m\u001b[0;34m.\u001b[0m\u001b[0margs\u001b[0m\u001b[0;34m)\u001b[0m\u001b[0;34m)\u001b[0m\u001b[0;34m\u001b[0m\u001b[0m\n\u001b[0m\u001b[1;32m    631\u001b[0m             \u001b[0;32melse\u001b[0m\u001b[0;34m:\u001b[0m\u001b[0;34m\u001b[0m\u001b[0m\n\u001b[1;32m    632\u001b[0m                 \u001b[0;31m# TODO: Non-polynomial expression. This should have been\u001b[0m\u001b[0;34m\u001b[0m\u001b[0;34m\u001b[0m\u001b[0m\n",
      "\u001b[0;32m/home/ayalin/anaconda3/lib/python3.6/site-packages/sympy/integrals/heurisch.py\u001b[0m in \u001b[0;36mfind_non_syms\u001b[0;34m(expr)\u001b[0m\n\u001b[1;32m    625\u001b[0m             \u001b[0;32melif\u001b[0m \u001b[0mexpr\u001b[0m \u001b[0;32min\u001b[0m \u001b[0msyms\u001b[0m\u001b[0;34m:\u001b[0m\u001b[0;34m\u001b[0m\u001b[0m\n\u001b[1;32m    626\u001b[0m                 \u001b[0;32mpass\u001b[0m \u001b[0;31m# ignore variables\u001b[0m\u001b[0;34m\u001b[0m\u001b[0m\n\u001b[0;32m--> 627\u001b[0;31m             \u001b[0;32melif\u001b[0m \u001b[0;32mnot\u001b[0m \u001b[0mexpr\u001b[0m\u001b[0;34m.\u001b[0m\u001b[0mhas\u001b[0m\u001b[0;34m(\u001b[0m\u001b[0;34m*\u001b[0m\u001b[0msyms\u001b[0m\u001b[0;34m)\u001b[0m\u001b[0;34m:\u001b[0m\u001b[0;34m\u001b[0m\u001b[0m\n\u001b[0m\u001b[1;32m    628\u001b[0m                 \u001b[0mnon_syms\u001b[0m\u001b[0;34m.\u001b[0m\u001b[0madd\u001b[0m\u001b[0;34m(\u001b[0m\u001b[0mexpr\u001b[0m\u001b[0;34m)\u001b[0m\u001b[0;34m\u001b[0m\u001b[0m\n\u001b[1;32m    629\u001b[0m             \u001b[0;32melif\u001b[0m \u001b[0mexpr\u001b[0m\u001b[0;34m.\u001b[0m\u001b[0mis_Add\u001b[0m \u001b[0;32mor\u001b[0m \u001b[0mexpr\u001b[0m\u001b[0;34m.\u001b[0m\u001b[0mis_Mul\u001b[0m \u001b[0;32mor\u001b[0m \u001b[0mexpr\u001b[0m\u001b[0;34m.\u001b[0m\u001b[0mis_Pow\u001b[0m\u001b[0;34m:\u001b[0m\u001b[0;34m\u001b[0m\u001b[0m\n",
      "\u001b[0;32m/home/ayalin/anaconda3/lib/python3.6/site-packages/sympy/core/basic.py\u001b[0m in \u001b[0;36mhas\u001b[0;34m(self, *patterns)\u001b[0m\n\u001b[1;32m   1170\u001b[0m \u001b[0;34m\u001b[0m\u001b[0m\n\u001b[1;32m   1171\u001b[0m         \"\"\"\n\u001b[0;32m-> 1172\u001b[0;31m         \u001b[0;32mreturn\u001b[0m \u001b[0many\u001b[0m\u001b[0;34m(\u001b[0m\u001b[0mself\u001b[0m\u001b[0;34m.\u001b[0m\u001b[0m_has\u001b[0m\u001b[0;34m(\u001b[0m\u001b[0mpattern\u001b[0m\u001b[0;34m)\u001b[0m \u001b[0;32mfor\u001b[0m \u001b[0mpattern\u001b[0m \u001b[0;32min\u001b[0m \u001b[0mpatterns\u001b[0m\u001b[0;34m)\u001b[0m\u001b[0;34m\u001b[0m\u001b[0m\n\u001b[0m\u001b[1;32m   1173\u001b[0m \u001b[0;34m\u001b[0m\u001b[0m\n\u001b[1;32m   1174\u001b[0m     \u001b[0;32mdef\u001b[0m \u001b[0m_has\u001b[0m\u001b[0;34m(\u001b[0m\u001b[0mself\u001b[0m\u001b[0;34m,\u001b[0m \u001b[0mpattern\u001b[0m\u001b[0;34m)\u001b[0m\u001b[0;34m:\u001b[0m\u001b[0;34m\u001b[0m\u001b[0m\n",
      "\u001b[0;32m/home/ayalin/anaconda3/lib/python3.6/site-packages/sympy/core/basic.py\u001b[0m in \u001b[0;36m<genexpr>\u001b[0;34m(.0)\u001b[0m\n\u001b[1;32m   1170\u001b[0m \u001b[0;34m\u001b[0m\u001b[0m\n\u001b[1;32m   1171\u001b[0m         \"\"\"\n\u001b[0;32m-> 1172\u001b[0;31m         \u001b[0;32mreturn\u001b[0m \u001b[0many\u001b[0m\u001b[0;34m(\u001b[0m\u001b[0mself\u001b[0m\u001b[0;34m.\u001b[0m\u001b[0m_has\u001b[0m\u001b[0;34m(\u001b[0m\u001b[0mpattern\u001b[0m\u001b[0;34m)\u001b[0m \u001b[0;32mfor\u001b[0m \u001b[0mpattern\u001b[0m \u001b[0;32min\u001b[0m \u001b[0mpatterns\u001b[0m\u001b[0;34m)\u001b[0m\u001b[0;34m\u001b[0m\u001b[0m\n\u001b[0m\u001b[1;32m   1173\u001b[0m \u001b[0;34m\u001b[0m\u001b[0m\n\u001b[1;32m   1174\u001b[0m     \u001b[0;32mdef\u001b[0m \u001b[0m_has\u001b[0m\u001b[0;34m(\u001b[0m\u001b[0mself\u001b[0m\u001b[0;34m,\u001b[0m \u001b[0mpattern\u001b[0m\u001b[0;34m)\u001b[0m\u001b[0;34m:\u001b[0m\u001b[0;34m\u001b[0m\u001b[0m\n",
      "\u001b[0;32m/home/ayalin/anaconda3/lib/python3.6/site-packages/sympy/core/basic.py\u001b[0m in \u001b[0;36m_has\u001b[0;34m(self, pattern)\u001b[0m\n\u001b[1;32m   1174\u001b[0m     \u001b[0;32mdef\u001b[0m \u001b[0m_has\u001b[0m\u001b[0;34m(\u001b[0m\u001b[0mself\u001b[0m\u001b[0;34m,\u001b[0m \u001b[0mpattern\u001b[0m\u001b[0;34m)\u001b[0m\u001b[0;34m:\u001b[0m\u001b[0;34m\u001b[0m\u001b[0m\n\u001b[1;32m   1175\u001b[0m         \u001b[0;34m\"\"\"Helper for .has()\"\"\"\u001b[0m\u001b[0;34m\u001b[0m\u001b[0m\n\u001b[0;32m-> 1176\u001b[0;31m         \u001b[0;32mfrom\u001b[0m \u001b[0msympy\u001b[0m\u001b[0;34m.\u001b[0m\u001b[0mcore\u001b[0m\u001b[0;34m.\u001b[0m\u001b[0mfunction\u001b[0m \u001b[0;32mimport\u001b[0m \u001b[0mUndefinedFunction\u001b[0m\u001b[0;34m,\u001b[0m \u001b[0mFunction\u001b[0m\u001b[0;34m\u001b[0m\u001b[0m\n\u001b[0m\u001b[1;32m   1177\u001b[0m         \u001b[0;32mif\u001b[0m \u001b[0misinstance\u001b[0m\u001b[0;34m(\u001b[0m\u001b[0mpattern\u001b[0m\u001b[0;34m,\u001b[0m \u001b[0mUndefinedFunction\u001b[0m\u001b[0;34m)\u001b[0m\u001b[0;34m:\u001b[0m\u001b[0;34m\u001b[0m\u001b[0m\n\u001b[1;32m   1178\u001b[0m             return any(f.func == pattern or f == pattern\n",
      "\u001b[0;32m/home/ayalin/anaconda3/lib/python3.6/importlib/_bootstrap.py\u001b[0m in \u001b[0;36m_handle_fromlist\u001b[0;34m(module, fromlist, import_)\u001b[0m\n",
      "\u001b[0;31mKeyboardInterrupt\u001b[0m: "
     ]
    }
   ],
   "source": [
    "temp = energy_conservation.rhs\n",
    "temp = temp.subs(q, mass_source)\n",
    "temp = temp.subs(sympy.solve(dimensional_mass_conservation,rho(r), dict=True)[0])\n",
    "#sympy.integrate(temp, r, conds='none')\n",
    "#sympy.integrate(temp.simplify(),r)\n",
    "temp = sympy.expand_power_base(temp, force=True).simplify()\n",
    "temp.integrate(r,conds='none')"
   ]
  },
  {
   "cell_type": "code",
   "execution_count": null,
   "metadata": {
    "collapsed": true
   },
   "outputs": [],
   "source": [
    "sympy.solve(dimensional_mass_conservation,rho(r), dict=True)[0]"
   ]
  },
  {
   "cell_type": "code",
   "execution_count": null,
   "metadata": {
    "collapsed": true
   },
   "outputs": [],
   "source": [
    "temp = [mass_conservation,momentum_conservation,energy_conservation]\n",
    "temp = [eqn.subs(M,0) for eqn in temp]\n",
    "temp = [eqn.subs(p(r),rho(r)*c(r)**2/gamma) for eqn in temp]\n",
    "temp = [eqn.subs(u(r), c(r)*m(r)) for eqn in temp]\n",
    "temp = [eqn.doit() for eqn in temp]\n",
    "sympy.solve(temp,subs()"
   ]
  },
  {
   "cell_type": "markdown",
   "metadata": {},
   "source": [
    "# Free - fall solution\n",
    "Very close to the SMBH"
   ]
  },
  {
   "cell_type": "code",
   "execution_count": null,
   "metadata": {
    "collapsed": true
   },
   "outputs": [],
   "source": [
    "freefall_integral_energy = sympy.Eq(\n",
    "    tilde_u(tilde_r)**2/2+tilde_c(tilde_r)**2/(gamma-1),\n",
    "    1/tilde_r)\n",
    "freefall_integral_energy"
   ]
  },
  {
   "cell_type": "code",
   "execution_count": null,
   "metadata": {
    "collapsed": true
   },
   "outputs": [],
   "source": [
    "temp = integral_mass_conservation\n",
    "temp = temp.subs(tilde_r**(3-eta),0)\n",
    "freefall_density = sympy.solve(temp,tilde_rho(tilde_r))[0]\n",
    "freefall_density"
   ]
  },
  {
   "cell_type": "code",
   "execution_count": null,
   "metadata": {
    "collapsed": true
   },
   "outputs": [],
   "source": [
    "freefall_u_ansatz = sympy.sqrt(A)/sympy.sqrt(tilde_r)"
   ]
  },
  {
   "cell_type": "code",
   "execution_count": null,
   "metadata": {
    "collapsed": true
   },
   "outputs": [],
   "source": [
    "temp = dimles_momentum_conservation\n",
    "temp = temp.subs(tilde_r**(-eta),0)\n",
    "temp = temp.subs(tilde_p(tilde_r), tilde_rho(tilde_r)*tilde_c(tilde_r)**2/gamma)\n",
    "temp = temp.subs(tilde_rho(tilde_r), freefall_density)\n",
    "temp = temp.subs(sympy.solve(freefall_integral_energy,tilde_c(tilde_r)**2,dict=True)[0])\n",
    "temp = temp.subs(tilde_u(tilde_r), freefall_u_ansatz)\n",
    "temp = temp.doit()\n",
    "temp = temp.lhs - temp.rhs\n",
    "temp = temp.simplify()\n",
    "temp = sympy.solve(temp,A)[0]\n",
    "freefall_u = -freefall_u_ansatz.subs(A,temp)\n",
    "freefall_u"
   ]
  },
  {
   "cell_type": "markdown",
   "metadata": {},
   "source": [
    "This is true unless $\\gamma = \\frac{5}{3}$"
   ]
  },
  {
   "cell_type": "code",
   "execution_count": null,
   "metadata": {
    "collapsed": true
   },
   "outputs": [],
   "source": [
    "temp = dimles_momentum_conservation\n",
    "temp = temp.subs(tilde_r**(-eta),0)\n",
    "temp = temp.subs(tilde_p(tilde_r), tilde_rho(tilde_r)*tilde_c(tilde_r)**2/gamma)\n",
    "temp = temp.subs(tilde_rho(tilde_r), freefall_density)\n",
    "temp = temp.subs(sympy.solve(freefall_integral_energy,tilde_c(tilde_r)**2,dict=True)[0])\n",
    "temp = temp.subs(tilde_u(tilde_r), freefall_u_ansatz)\n",
    "temp = temp.doit()\n",
    "temp = temp.lhs - temp.rhs\n",
    "temp = temp.subs(gamma,sympy.Rational(5,3))\n",
    "temp = temp.simplify()\n",
    "temp"
   ]
  },
  {
   "cell_type": "markdown",
   "metadata": {},
   "source": [
    "# Secular analytic solution"
   ]
  },
  {
   "cell_type": "code",
   "execution_count": null,
   "metadata": {
    "collapsed": true
   },
   "outputs": [],
   "source": [
    "temp = asymptotic_prefactors[0]/tilde_r**sympy.Rational(3,2)\n",
    "temp = temp.subs(gamma,sympy.Rational(5,3))\n",
    "temp = temp.subs(eta,sympy.Rational(5,2))\n",
    "secular_rho = temp/(D/v_w)\n",
    "secular_rho"
   ]
  },
  {
   "cell_type": "code",
   "execution_count": null,
   "metadata": {
    "collapsed": true
   },
   "outputs": [],
   "source": [
    "temp = dimles_mass_conservation\n",
    "temp = temp.subs(tilde_rho(tilde_r), secular_rho)\n",
    "temp = temp.doit()\n",
    "temp = temp.subs(eta,sympy.Rational(5,2))\n",
    "temp = sympy.dsolve(temp,tilde_u(tilde_r))\n",
    "temp = temp.subs(sympy.Symbol('C1'),-1)\n",
    "secular_u = temp.rhs \n",
    "secular_u"
   ]
  },
  {
   "cell_type": "code",
   "execution_count": null,
   "metadata": {
    "collapsed": true
   },
   "outputs": [],
   "source": [
    "secular_stagnation = sympy.solve(secular_u,tilde_r)[0]\n",
    "secular_stagnation"
   ]
  },
  {
   "cell_type": "code",
   "execution_count": null,
   "metadata": {
    "collapsed": true
   },
   "outputs": [],
   "source": [
    "temp = integral_energy_conservation\n",
    "temp = temp.subs(tilde_u(tilde_r),secular_u)\n",
    "temp = temp.subs(tilde_r_st, secular_stagnation)\n",
    "temp = temp.subs(eta,sympy.Rational(5,2))\n",
    "temp = temp.subs(gamma,sympy.Rational(5,3))\n",
    "temp = sympy.solve(temp,tilde_c(tilde_r)**2)[0]\n",
    "temp = temp.subs(tilde_r,Q**2)\n",
    "temp = temp.simplify()\n",
    "temp = temp.subs(Q,sympy.sqrt(tilde_r))\n",
    "secular_c2 = temp\n",
    "secular_c2"
   ]
  },
  {
   "cell_type": "markdown",
   "metadata": {},
   "source": [
    "Verification"
   ]
  },
  {
   "cell_type": "code",
   "execution_count": null,
   "metadata": {
    "collapsed": true
   },
   "outputs": [],
   "source": [
    "temp = [dimles_mass_conservation,dimles_momentum_conservation,dimles_energy_conservation]\n",
    "temp = map(lambda eqn:eqn.subs(tilde_p(tilde_r),tilde_rho(tilde_r)*tilde_c(tilde_r)**2/gamma),temp)\n",
    "temp = map(lambda eqn:eqn.subs(tilde_c(tilde_r)**2,secular_c2),temp)\n",
    "temp = map(lambda eqn:eqn.subs(tilde_rho(tilde_r),secular_rho),temp)\n",
    "temp = map(lambda eqn:eqn.subs(tilde_u(tilde_r),secular_u),temp)\n",
    "temp = map(lambda eqn:eqn.subs({gamma:sympy.Rational(5,3),eta:sympy.Rational(5,2)}),temp)\n",
    "temp = map(lambda eqn:eqn.doit(),temp)\n",
    "temp = map(lambda eqn:eqn.lhs-eqn.rhs,temp)\n",
    "temp = map(lambda eqn:eqn.simplify(),temp)\n",
    "list(temp)"
   ]
  },
  {
   "cell_type": "markdown",
   "metadata": {},
   "source": [
    "# Integrating ODEs"
   ]
  },
  {
   "cell_type": "code",
   "execution_count": null,
   "metadata": {
    "collapsed": true
   },
   "outputs": [],
   "source": [
    "m = sympy.Symbol('m') # Mach number\n",
    "temp = [dimles_mass_conservation,\n",
    "        dimles_momentum_conservation,\n",
    "        dimles_energy_conservation]\n",
    "temp = [itm.subs(tilde_u(tilde_r), tilde_c(tilde_r)*m(tilde_r)) for itm in temp]\n",
    "temp = [itm.subs(tilde_p(tilde_r), tilde_rho(tilde_r)*tilde_c(tilde_r)**2/gamma) for itm in temp]\n",
    "temp = [itm.doit() for itm in temp]\n",
    "isolated_odes = sympy.solve(temp, [m(tilde_r).diff(tilde_r),\n",
    "                                   tilde_c(tilde_r).diff(tilde_r),\n",
    "                                   tilde_rho(tilde_r).diff(tilde_r)])\n",
    "isolated_odes"
   ]
  },
  {
   "cell_type": "markdown",
   "metadata": {},
   "source": [
    "Determining the values of the variables at the sonic point"
   ]
  },
  {
   "cell_type": "code",
   "execution_count": null,
   "metadata": {
    "collapsed": true
   },
   "outputs": [],
   "source": [
    "temp = integral_energy_conservation\n",
    "temp = temp.subs(tilde_u(tilde_r), tilde_c(tilde_r))\n",
    "raw_sonic_point_sound_speed = sympy.solve(temp, tilde_c(tilde_r))[1]"
   ]
  },
  {
   "cell_type": "code",
   "execution_count": null,
   "metadata": {
    "collapsed": true
   },
   "outputs": [],
   "source": [
    "temp = integral_mass_conservation.subs(tilde_u(tilde_r), tilde_c(tilde_r))\n",
    "temp = temp.subs(tilde_c(tilde_r), raw_sonic_point_sound_speed)\n",
    "raw_sonic_point_density = sympy.solve(temp, tilde_rho(tilde_r))[0].simplify()"
   ]
  },
  {
   "cell_type": "code",
   "execution_count": null,
   "metadata": {
    "collapsed": true
   },
   "outputs": [],
   "source": [
    "temp = tilde_rho(tilde_r).diff(tilde_r)\n",
    "temp = temp.subs(isolated_odes)\n",
    "temp = sympy.fraction(temp)[0]\n",
    "temp = temp.subs(tilde_rho(tilde_r), raw_sonic_point_density)\n",
    "temp = temp.subs(tilde_c(tilde_r), raw_sonic_point_sound_speed)\n",
    "temp = temp.subs(m(tilde_r), 1)\n",
    "temp = temp*tilde_r**(eta+2)\n",
    "outer_sonic_equation = temp"
   ]
  },
  {
   "cell_type": "markdown",
   "metadata": {},
   "source": [
    "To find the position of the outer sonic point, one must solve this horrible equation"
   ]
  },
  {
   "cell_type": "code",
   "execution_count": null,
   "metadata": {
    "collapsed": true
   },
   "outputs": [],
   "source": [
    "def find_outer_sonic_point(gamma_val, eta_val, rst_val):\n",
    "    \n",
    "    from mpmath import findroot\n",
    "    \n",
    "    eqn = outer_sonic_equation\n",
    "    eqn = eqn.subs({eta:eta_val,\n",
    "                   gamma:gamma_val,\n",
    "                   tilde_r_st:rst_val})\n",
    "    deqn = eqn.diff(tilde_r)\n",
    "    eqn = sympy.lambdify(tilde_r, eqn)\n",
    "    deqn = sympy.lambdify(tilde_r, deqn)\n",
    "    return float(findroot(eqn, 10*rst_val, df=deqn))\n",
    "find_outer_sonic_point(4./3., 2.9, 9.1)"
   ]
  },
  {
   "cell_type": "code",
   "execution_count": null,
   "metadata": {
    "collapsed": true
   },
   "outputs": [],
   "source": [
    "def find_inner_sonic_point(gamma_val, eta_val, rst_val):\n",
    "    \n",
    "    from mpmath import findroot\n",
    "    \n",
    "    eqn = outer_sonic_equation\n",
    "    eqn = eqn.subs({eta:eta_val,\n",
    "                   gamma:gamma_val,\n",
    "                   tilde_r_st:rst_val})\n",
    "    deqn = eqn.diff(tilde_r)\n",
    "    eqn = sympy.lambdify(tilde_r, eqn)\n",
    "    deqn = sympy.lambdify(tilde_r, deqn)\n",
    "    return float(findroot(eqn, 0.1*rst_val, df=deqn))\n",
    "find_inner_sonic_point(4./3., 2.9, 9.1)"
   ]
  },
  {
   "cell_type": "markdown",
   "metadata": {},
   "source": [
    "Integration from the sonic point to the stagnation point"
   ]
  },
  {
   "cell_type": "code",
   "execution_count": null,
   "metadata": {
    "collapsed": true
   },
   "outputs": [],
   "source": [
    "def integrate_outer(gamma_val, eta_val, rst_val):\n",
    "    \n",
    "    from scipy.integrate import ode\n",
    "    import numpy\n",
    "    \n",
    "    sub_params = {eta:eta_val,\n",
    "                 gamma:gamma_val,\n",
    "                  tilde_r_st:rst_val}\n",
    "    \n",
    "    # Differential equations\n",
    "    hydrodynamic_variables = [m,\n",
    "                             tilde_c,\n",
    "                             tilde_rho]\n",
    "    explicit_odes = [itm(tilde_r).diff(tilde_r) for itm in hydrodynamic_variables]\n",
    "    explicit_odes = [itm.subs(isolated_odes) for itm in explicit_odes]\n",
    "    explicit_odes = [itm.subs(sub_params) for itm in explicit_odes]\n",
    "    for var in hydrodynamic_variables:\n",
    "        explicit_odes = [itm.subs(var(tilde_r), var) for itm in explicit_odes]\n",
    "    raw_deriv_func = sympy.lambdify([tilde_r, m, tilde_c, tilde_rho], explicit_odes)\n",
    "    deriv_wrapper = lambda x,y: raw_deriv_func(x,y[0],y[1],y[2])\n",
    "    \n",
    "    outer_sonic_point = find_outer_sonic_point(gamma_val, eta_val, rst_val)\n",
    "    outer_density = raw_sonic_point_density.subs(sub_params).subs(tilde_r,outer_sonic_point)\n",
    "    outer_sound_speed = raw_sonic_point_sound_speed.subs(sub_params).subs(tilde_r,outer_sonic_point)\n",
    "    r_start_outer = (1.0-1e-3)*outer_sonic_point\n",
    "    r_stop_outer = (1+1e-2)*rst_val\n",
    "    dr_outer = 1e-4*(r_start_outer - r_stop_outer)\n",
    "        \n",
    "    outer_init_cond = [1-1e-3, outer_sound_speed, outer_density]\n",
    "    \n",
    "    integrator = ode(deriv_wrapper)\n",
    "    integrator.set_initial_value(outer_init_cond, r_start_outer)\n",
    "    x_list = []\n",
    "    y_list = []\n",
    "    while integrator.successful() and integrator.t>r_stop_outer:\n",
    "        integrator.integrate(integrator.t - dr_outer)\n",
    "        x_list.append(integrator.t)\n",
    "        y_list.append(integrator.y)\n",
    "    assert(integrator.successful())\n",
    "    x_list = numpy.array(x_list)\n",
    "    y_list = numpy.array(y_list)\n",
    "    return x_list, y_list\n",
    "    \n",
    "import pylab\n",
    "x_list, y_list = integrate_outer(4./3., 2.9, 9.1)\n",
    "%matplotlib notebook\n",
    "pylab.plot(x_list ,y_list.T[0])\n",
    "pylab.xlabel(r'$\\tilde{r}$')\n",
    "pylab.ylabel('Mach number')\n",
    "pass"
   ]
  },
  {
   "cell_type": "code",
   "execution_count": null,
   "metadata": {
    "collapsed": true
   },
   "outputs": [],
   "source": [
    "def integrate_inner(gamma_val, eta_val, rst_val):\n",
    "    \n",
    "    from scipy.integrate import ode\n",
    "    import numpy\n",
    "    \n",
    "    sub_params = {eta:eta_val,\n",
    "                 gamma:gamma_val,\n",
    "                  tilde_r_st:rst_val}\n",
    "    \n",
    "    # Differential equations\n",
    "    hydrodynamic_variables = [m,\n",
    "                             tilde_c,\n",
    "                             tilde_rho]\n",
    "    explicit_odes = [itm(tilde_r).diff(tilde_r) for itm in hydrodynamic_variables]\n",
    "    explicit_odes = [itm.subs(isolated_odes) for itm in explicit_odes]\n",
    "    explicit_odes = [itm.subs(sub_params) for itm in explicit_odes]\n",
    "    for var in hydrodynamic_variables:\n",
    "        explicit_odes = [itm.subs(var(tilde_r), var) for itm in explicit_odes]\n",
    "    raw_deriv_func = sympy.lambdify([tilde_r, m, tilde_c, tilde_rho], explicit_odes)\n",
    "    deriv_wrapper = lambda x,y: raw_deriv_func(x,y[0],y[1],y[2])\n",
    "    \n",
    "    inner_sonic_point = find_inner_sonic_point(gamma_val, eta_val, rst_val)\n",
    "    bc_density = -raw_sonic_point_density.subs(sub_params).subs(tilde_r,inner_sonic_point)\n",
    "    bc_sound_speed = raw_sonic_point_sound_speed.subs(sub_params).subs(tilde_r,inner_sonic_point)\n",
    "    r_stop = (1-1e-2)*rst_val\n",
    "    dr = 1e-4*(r_stop - inner_sonic_point)   \n",
    "    r_start = inner_sonic_point+0.5*dr\n",
    "    init_cond = [-1+1e-3, bc_sound_speed, bc_density]\n",
    "    \n",
    "    integrator = ode(deriv_wrapper)\n",
    "    integrator.set_initial_value(init_cond, r_start)\n",
    "    x_list = []\n",
    "    y_list = []\n",
    "    while integrator.successful() and integrator.t<r_stop:\n",
    "        integrator.integrate(integrator.t + dr)\n",
    "        x_list.append(integrator.t)\n",
    "        y_list.append(integrator.y)\n",
    "    assert(integrator.successful())\n",
    "    x_list = numpy.array(x_list)\n",
    "    y_list = numpy.array(y_list)\n",
    "    return x_list, y_list\n",
    "    \n",
    "import pylab\n",
    "x_list, y_list = integrate_inner(4./3., 2.9, 9.1)\n",
    "%matplotlib notebook\n",
    "pylab.plot(x_list ,y_list.T[0])\n",
    "pylab.xlabel(r'$\\tilde{r}$')\n",
    "pylab.ylabel('Mach number')\n",
    "pass"
   ]
  },
  {
   "cell_type": "code",
   "execution_count": null,
   "metadata": {
    "collapsed": true
   },
   "outputs": [],
   "source": [
    "def calc_stagnation_derivative_difference(gamma_val, eta_val, rst_val, verbose=False):\n",
    "    x_outer, y_outer = integrate_outer(gamma_val, eta_val, rst_val)\n",
    "    x_inner, y_inner = integrate_inner(gamma_val, eta_val, rst_val)\n",
    "    m_outer = y_outer.T[0]\n",
    "    m_inner = y_inner.T[0]\n",
    "    deriv_outer = (m_outer[-1]-m_outer[-2])/(x_outer[-1] - x_outer[-2])\n",
    "    deriv_inner = (m_inner[-1]-m_inner[-2])/(x_inner[-1] - x_inner[-2])\n",
    "    if verbose:\n",
    "        print('called with', rst_val, 'evaluated', deriv_outer - deriv_inner)\n",
    "    return deriv_outer - deriv_inner\n",
    "\n",
    "calc_stagnation_derivative_difference(4./3., 2.9, 9.1)"
   ]
  },
  {
   "cell_type": "code",
   "execution_count": null,
   "metadata": {
    "collapsed": true
   },
   "outputs": [],
   "source": [
    "calc_stagnation_derivative_difference(4./3., 2.9, 3.9)"
   ]
  },
  {
   "cell_type": "markdown",
   "metadata": {},
   "source": [
    "Finall, we can numerically solve for the location of the stagnation point"
   ]
  },
  {
   "cell_type": "code",
   "execution_count": null,
   "metadata": {
    "collapsed": true
   },
   "outputs": [],
   "source": [
    "from mpmath import findroot\n",
    "\n",
    "findroot(lambda x: calc_stagnation_derivative_difference(4./3., 2.9, x, verbose=True), 3.9, tol=1e-3)"
   ]
  },
  {
   "cell_type": "code",
   "execution_count": null,
   "metadata": {
    "collapsed": true
   },
   "outputs": [],
   "source": [
    "findroot(lambda x: calc_stagnation_derivative_difference(4./3., 2.8, x, verbose=True), 4.1, tol=1e-3)"
   ]
  },
  {
   "cell_type": "code",
   "execution_count": null,
   "metadata": {
    "collapsed": true
   },
   "outputs": [],
   "source": [
    "findroot(lambda x: calc_stagnation_derivative_difference(4./3., 2.7, x, verbose=True), 4.1, tol=1e-3)"
   ]
  },
  {
   "cell_type": "code",
   "execution_count": null,
   "metadata": {
    "collapsed": true
   },
   "outputs": [],
   "source": [
    "findroot(lambda x: calc_stagnation_derivative_difference(4./3., 2.67, x, verbose=True), 4.3, tol=1e-3)"
   ]
  },
  {
   "cell_type": "code",
   "execution_count": null,
   "metadata": {
    "collapsed": true
   },
   "outputs": [],
   "source": [
    "findroot(lambda x: calc_stagnation_derivative_difference(4./3.-0.01, 3.1, x, verbose=True), 8, tol=1e-3)"
   ]
  },
  {
   "cell_type": "code",
   "execution_count": null,
   "metadata": {
    "collapsed": true
   },
   "outputs": [],
   "source": []
  }
 ],
 "metadata": {
  "kernelspec": {
   "display_name": "Python 3",
   "language": "python",
   "name": "python3"
  },
  "language_info": {
   "codemirror_mode": {
    "name": "ipython",
    "version": 3
   },
   "file_extension": ".py",
   "mimetype": "text/x-python",
   "name": "python",
   "nbconvert_exporter": "python",
   "pygments_lexer": "ipython3",
   "version": "3.6.1"
  }
 },
 "nbformat": 4,
 "nbformat_minor": 1
}
