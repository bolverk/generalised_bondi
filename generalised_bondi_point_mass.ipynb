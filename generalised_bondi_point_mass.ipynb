{
 "cells": [
  {
   "cell_type": "code",
   "execution_count": 1,
   "metadata": {
    "collapsed": true
   },
   "outputs": [],
   "source": [
    "import sympy\n",
    "sympy.init_printing()"
   ]
  },
  {
   "cell_type": "markdown",
   "metadata": {},
   "source": [
    "# Governing Equations"
   ]
  },
  {
   "cell_type": "markdown",
   "metadata": {},
   "source": [
    "Conservation of mass"
   ]
  },
  {
   "cell_type": "code",
   "execution_count": 2,
   "metadata": {},
   "outputs": [
    {
     "data": {
      "image/png": "[encoded data removed]",
      "text/latex": [
       "$$\\frac{1}{r^{2}} \\left(r^{2} \\rho{\\left (r \\right )} \\frac{d}{d r} u{\\left (r \\right )} + r^{2} u{\\left (r \\right )} \\frac{d}{d r} \\rho{\\left (r \\right )} + 2 r \\rho{\\left (r \\right )} u{\\left (r \\right )}\\right) = q$$"
      ],
      "text/plain": [
       " 2      d           2      d                           \n",
       "r ⋅ρ(r)⋅──(u(r)) + r ⋅u(r)⋅──(ρ(r)) + 2⋅r⋅ρ(r)⋅u(r)    \n",
       "        dr                 dr                          \n",
       "─────────────────────────────────────────────────── = q\n",
       "                          2                            \n",
       "                         r                             "
      ]
     },
     "execution_count": 2,
     "metadata": {},
     "output_type": "execute_result"
    }
   ],
   "source": [
    "r = sympy.Symbol('r')\n",
    "rho = sympy.Symbol('rho')\n",
    "u = sympy.Symbol('u')\n",
    "q = sympy.Symbol('q')\n",
    "mass_conservation = sympy.Eq((1/r**2)*(r**2*rho(r)*u(r)).diff(r),q)\n",
    "mass_conservation"
   ]
  },
  {
   "cell_type": "markdown",
   "metadata": {},
   "source": [
    "Conservation of momentum"
   ]
  },
  {
   "cell_type": "code",
   "execution_count": 3,
   "metadata": {},
   "outputs": [
    {
     "data": {
      "image/png": "[encoded data removed]",
      "text/latex": [
       "$$\\rho{\\left (r \\right )} u{\\left (r \\right )} \\frac{d}{d r} u{\\left (r \\right )} + \\frac{d}{d r} p{\\left (r \\right )} = - \\frac{G M}{r^{2}} \\rho{\\left (r \\right )} - q u{\\left (r \\right )}$$"
      ],
      "text/plain": [
       "          d          d            G⋅M⋅ρ(r)         \n",
       "ρ(r)⋅u(r)⋅──(u(r)) + ──(p(r)) = - ──────── - q⋅u(r)\n",
       "          dr         dr               2            \n",
       "                                     r             "
      ]
     },
     "execution_count": 3,
     "metadata": {},
     "output_type": "execute_result"
    }
   ],
   "source": [
    "p = sympy.Symbol('p')\n",
    "G = sympy.Symbol('G', positive=True)\n",
    "M = sympy.Symbol('M', positive=True)\n",
    "momentum_conservation = sympy.Eq(rho(r)*u(r)*u(r).diff(r) + p(r).diff(r),\n",
    "                                 -rho(r)*G*M/r**2-q*u(r))\n",
    "momentum_conservation"
   ]
  },
  {
   "cell_type": "markdown",
   "metadata": {},
   "source": [
    "Energy conservation"
   ]
  },
  {
   "cell_type": "code",
   "execution_count": 4,
   "metadata": {},
   "outputs": [
    {
     "data": {
      "image/png": "[encoded data removed]",
      "text/latex": [
       "$$\\frac{1}{r^{2}} \\left(r^{2} \\left(\\frac{\\gamma p{\\left (r \\right )}}{\\gamma - 1} + \\frac{1}{2} \\rho{\\left (r \\right )} u^{2}{\\left (r \\right )}\\right) \\frac{d}{d r} u{\\left (r \\right )} + r^{2} \\left(\\frac{\\gamma}{\\gamma - 1} \\frac{d}{d r} p{\\left (r \\right )} + \\rho{\\left (r \\right )} u{\\left (r \\right )} \\frac{d}{d r} u{\\left (r \\right )} + \\frac{1}{2} u^{2}{\\left (r \\right )} \\frac{d}{d r} \\rho{\\left (r \\right )}\\right) u{\\left (r \\right )} + 2 r \\left(\\frac{\\gamma p{\\left (r \\right )}}{\\gamma - 1} + \\frac{1}{2} \\rho{\\left (r \\right )} u^{2}{\\left (r \\right )}\\right) u{\\left (r \\right )}\\right) = - \\frac{G M}{r^{2}} \\rho{\\left (r \\right )} u{\\left (r \\right )} + \\frac{q v_{w}^{2}}{2}$$"
      ],
      "text/plain": [
       "                                       ⎛  d                                2  \n",
       "   ⎛               2   ⎞               ⎜γ⋅──(p(r))                        u (r\n",
       " 2 ⎜γ⋅p(r)   ρ(r)⋅u (r)⎟ d           2 ⎜  dr                   d              \n",
       "r ⋅⎜────── + ──────────⎟⋅──(u(r)) + r ⋅⎜────────── + ρ(r)⋅u(r)⋅──(u(r)) + ────\n",
       "   ⎝γ - 1        2     ⎠ dr            ⎝  γ - 1                dr             \n",
       "──────────────────────────────────────────────────────────────────────────────\n",
       "                                                                2             \n",
       "                                                               r              \n",
       "\n",
       "  d       ⎞                                                                 \n",
       ")⋅──(ρ(r))⎟            ⎛               2   ⎞                                \n",
       "  dr      ⎟            ⎜γ⋅p(r)   ρ(r)⋅u (r)⎟                                \n",
       "──────────⎟⋅u(r) + 2⋅r⋅⎜────── + ──────────⎟⋅u(r)                          2\n",
       "  2       ⎠            ⎝γ - 1        2     ⎠          G⋅M⋅ρ(r)⋅u(r)   q⋅v_w \n",
       "───────────────────────────────────────────────── = - ───────────── + ──────\n",
       "                                                             2          2   \n",
       "                                                            r               "
      ]
     },
     "execution_count": 4,
     "metadata": {},
     "output_type": "execute_result"
    }
   ],
   "source": [
    "gamma = sympy.Symbol('gamma')\n",
    "v_w = sympy.Symbol('v_w', positive=True)\n",
    "energy_conservation = sympy.Eq((1/r**2)*(r**2*u(r)*(rho(r)*u(r)**2/2+gamma*p(r)/(gamma-1))).diff(r),\n",
    "         -G*M*u(r)*rho(r)/r**2+v_w**2*q/2)\n",
    "energy_conservation"
   ]
  },
  {
   "cell_type": "markdown",
   "metadata": {},
   "source": [
    "Mass source term"
   ]
  },
  {
   "cell_type": "code",
   "execution_count": 5,
   "metadata": {},
   "outputs": [
    {
     "data": {
      "image/png": "[encoded data removed]",
      "text/latex": [
       "$$D r^{- \\eta}$$"
      ],
      "text/plain": [
       "   -η\n",
       "D⋅r  "
      ]
     },
     "execution_count": 5,
     "metadata": {},
     "output_type": "execute_result"
    }
   ],
   "source": [
    "D = sympy.Symbol('D')\n",
    "eta = sympy.Symbol('eta')\n",
    "mass_source = D*r**(-eta)\n",
    "mass_source"
   ]
  },
  {
   "cell_type": "markdown",
   "metadata": {},
   "source": [
    "# Reduction to dimensionless variables"
   ]
  },
  {
   "cell_type": "markdown",
   "metadata": {},
   "source": [
    "Bondi radius"
   ]
  },
  {
   "cell_type": "code",
   "execution_count": 6,
   "metadata": {},
   "outputs": [
    {
     "data": {
      "image/png": "[encoded data removed]",
      "text/latex": [
       "$$\\frac{G M}{v_{w}^{2}}$$"
      ],
      "text/plain": [
       "G⋅M \n",
       "────\n",
       "   2\n",
       "v_w "
      ]
     },
     "execution_count": 6,
     "metadata": {},
     "output_type": "execute_result"
    }
   ],
   "source": [
    "bondi_radius = G*M/v_w**2\n",
    "bondi_radius"
   ]
  },
  {
   "cell_type": "markdown",
   "metadata": {},
   "source": [
    "Bondi density"
   ]
  },
  {
   "cell_type": "code",
   "execution_count": 7,
   "metadata": {},
   "outputs": [
    {
     "data": {
      "image/png": "[encoded data removed]",
      "text/latex": [
       "$$D v_{w}^{2 \\eta - 3} \\left(G M\\right)^{- \\eta + 1}$$"
      ],
      "text/plain": [
       "     2⋅η - 3      -η + 1\n",
       "D⋅v_w       ⋅(G⋅M)      "
      ]
     },
     "execution_count": 7,
     "metadata": {},
     "output_type": "execute_result"
    }
   ],
   "source": [
    "temp = D*bondi_radius**(-eta)*(bondi_radius/v_w)\n",
    "temp = sympy.expand_power_base(temp,force=True)\n",
    "temp = temp.simplify()\n",
    "bondi_density = temp\n",
    "bondi_density"
   ]
  },
  {
   "cell_type": "markdown",
   "metadata": {},
   "source": [
    "Mass conservation"
   ]
  },
  {
   "cell_type": "code",
   "execution_count": 8,
   "metadata": {},
   "outputs": [
    {
     "data": {
      "image/png": "[encoded data removed]",
      "text/latex": [
       "$$\\tilde{r}^{- \\eta} = \\tilde{\\rho}{\\left (\\tilde{r} \\right )} \\frac{d}{d \\tilde{r}} \\tilde{u}{\\left (\\tilde{r} \\right )} + \\tilde{u}{\\left (\\tilde{r} \\right )} \\frac{d}{d \\tilde{r}} \\tilde{\\rho}{\\left (\\tilde{r} \\right )} + \\frac{2}{\\tilde{r}} \\tilde{\\rho}{\\left (\\tilde{r} \\right )} \\tilde{u}{\\left (\\tilde{r} \\right )}$$"
      ],
      "text/plain": [
       "         -η                               d                                   \n",
       "\\tilde{r}   = \\tilde{\\rho}(\\tilde{r})⋅──────────(\\tilde{u}(\\tilde{r})) + \\tild\n",
       "                                      d\\tilde{r}                              \n",
       "\n",
       "                    d                                 2⋅\\tilde{\\rho}(\\tilde{r}\n",
       "e{u}(\\tilde{r})⋅──────────(\\tilde{\\rho}(\\tilde{r})) + ────────────────────────\n",
       "                d\\tilde{r}                                              \\tilde\n",
       "\n",
       ")⋅\\tilde{u}(\\tilde{r})\n",
       "──────────────────────\n",
       "{r}                   "
      ]
     },
     "execution_count": 8,
     "metadata": {},
     "output_type": "execute_result"
    }
   ],
   "source": [
    "tilde_rho = sympy.Symbol(r'\\tilde{\\rho}')\n",
    "tilde_r = sympy.Symbol(r'\\tilde{r}')\n",
    "tilde_u = sympy.Symbol(r'\\tilde{u}')\n",
    "temp = mass_conservation\n",
    "temp = temp.subs(q, mass_source)\n",
    "temp = temp.subs(rho(r).diff(r), bondi_density*tilde_rho(tilde_r).diff(tilde_r)/bondi_radius)\n",
    "temp = temp.subs(u(r).diff(r), v_w*tilde_u(tilde_r).diff(tilde_r)/bondi_radius)\n",
    "temp = temp.subs(rho(r), bondi_density*tilde_rho(tilde_r))\n",
    "temp = temp.subs(u(r), v_w*tilde_u(tilde_r))\n",
    "temp = sympy.Eq(temp.lhs*(G*M)**eta/D/(v_w**2)**eta, \n",
    "                temp.rhs*(G*M)**eta/D/(v_w**2)**eta)\n",
    "temp = temp.subs(r, bondi_radius*tilde_r)\n",
    "temp = sympy.expand_power_base(temp)\n",
    "temp = temp.simplify()\n",
    "dimles_mass_conservation = temp\n",
    "dimles_mass_conservation"
   ]
  },
  {
   "cell_type": "markdown",
   "metadata": {},
   "source": [
    "Momentum conservation"
   ]
  },
  {
   "cell_type": "code",
   "execution_count": 9,
   "metadata": {},
   "outputs": [
    {
     "data": {
      "image/png": "[encoded data removed]",
      "text/latex": [
       "$$\\tilde{\\rho}{\\left (\\tilde{r} \\right )} \\tilde{u}{\\left (\\tilde{r} \\right )} \\frac{d}{d \\tilde{r}} \\tilde{u}{\\left (\\tilde{r} \\right )} + \\frac{d}{d \\tilde{r}} \\tilde{p}{\\left (\\tilde{r} \\right )} = - \\tilde{r}^{- \\eta} \\tilde{u}{\\left (\\tilde{r} \\right )} - \\frac{1}{\\tilde{r}^{2}} \\tilde{\\rho}{\\left (\\tilde{r} \\right )}$$"
      ],
      "text/plain": [
       "                                                 d                            \n",
       "\\tilde{\\rho}(\\tilde{r})⋅\\tilde{u}(\\tilde{r})⋅──────────(\\tilde{u}(\\tilde{r})) \n",
       "                                             d\\tilde{r}                       \n",
       "                                                                              \n",
       "\n",
       "      d                                         -η                        \\til\n",
       "+ ──────────(\\tilde{p}(\\tilde{r})) = - \\tilde{r}  ⋅\\tilde{u}(\\tilde{r}) - ────\n",
       "  d\\tilde{r}                                                                  \n",
       "                                                                              \n",
       "\n",
       "de{\\rho}(\\tilde{r})\n",
       "───────────────────\n",
       "            2      \n",
       "   \\tilde{r}       "
      ]
     },
     "execution_count": 9,
     "metadata": {},
     "output_type": "execute_result"
    }
   ],
   "source": [
    "tilde_p = sympy.Symbol(r'\\tilde{p}')\n",
    "temp = momentum_conservation\n",
    "temp = temp.subs(q, mass_source)\n",
    "temp = temp.subs(rho(r).diff(r), bondi_density*tilde_rho(tilde_r).diff(tilde_r)/bondi_radius)\n",
    "temp = temp.subs(u(r).diff(r), v_w*tilde_u(tilde_r).diff(tilde_r)/bondi_radius)\n",
    "temp = temp.subs(p(r).diff(r), bondi_density*v_w**2*tilde_p(tilde_r).diff(tilde_r)/bondi_radius)\n",
    "temp = temp.subs(rho(r), bondi_density*tilde_rho(tilde_r))\n",
    "temp = temp.subs(u(r), v_w*tilde_u(tilde_r))\n",
    "temp = temp.subs(p(r), bondi_density*v_w**2*tilde_p(tilde_r))\n",
    "temp = sympy.Eq(temp.lhs*(G*M)**eta/D/(v_w**2)**eta/v_w, \n",
    "                temp.rhs*(G*M)**eta/D/(v_w**2)**eta/v_w)\n",
    "temp = temp.subs(r, bondi_radius*tilde_r)\n",
    "temp = temp.simplify()\n",
    "dimles_momentum_conservation = temp\n",
    "dimles_momentum_conservation"
   ]
  },
  {
   "cell_type": "markdown",
   "metadata": {},
   "source": [
    "Energy conservation"
   ]
  },
  {
   "cell_type": "code",
   "execution_count": 10,
   "metadata": {},
   "outputs": [
    {
     "data": {
      "image/png": "[encoded data removed]",
      "text/latex": [
       "$$\\frac{\\tilde{r}^{- \\eta}}{2} - \\frac{1}{\\tilde{r}^{2}} \\tilde{\\rho}{\\left (\\tilde{r} \\right )} \\tilde{u}{\\left (\\tilde{r} \\right )} = \\frac{1}{2 \\tilde{r} \\left(\\gamma - 1\\right)} \\left(\\tilde{r} \\left(2 \\gamma \\frac{d}{d \\tilde{r}} \\tilde{p}{\\left (\\tilde{r} \\right )} + \\left(\\gamma - 1\\right) \\left(2 \\tilde{\\rho}{\\left (\\tilde{r} \\right )} \\frac{d}{d \\tilde{r}} \\tilde{u}{\\left (\\tilde{r} \\right )} + \\tilde{u}{\\left (\\tilde{r} \\right )} \\frac{d}{d \\tilde{r}} \\tilde{\\rho}{\\left (\\tilde{r} \\right )}\\right) \\tilde{u}{\\left (\\tilde{r} \\right )}\\right) \\tilde{u}{\\left (\\tilde{r} \\right )} + \\left(\\tilde{r} \\frac{d}{d \\tilde{r}} \\tilde{u}{\\left (\\tilde{r} \\right )} + 2 \\tilde{u}{\\left (\\tilde{r} \\right )}\\right) \\left(2 \\gamma \\tilde{p}{\\left (\\tilde{r} \\right )} + \\left(\\gamma - 1\\right) \\tilde{\\rho}{\\left (\\tilde{r} \\right )} \\tilde{u}^{2}{\\left (\\tilde{r} \\right )}\\right)\\right)$$"
      ],
      "text/plain": [
       "                                                                       ⎛      \n",
       "         -η                                                  \\tilde{r}⋅⎜2⋅γ⋅──\n",
       "\\tilde{r}     \\tilde{\\rho}(\\tilde{r})⋅\\tilde{u}(\\tilde{r})             ⎝    d\\\n",
       "─────────── - ──────────────────────────────────────────── = ─────────────────\n",
       "     2                                  2                                     \n",
       "                               \\tilde{r}                                      \n",
       "\n",
       "  d                                      ⎛                              d     \n",
       "────────(\\tilde{p}(\\tilde{r})) + (γ - 1)⋅⎜2⋅\\tilde{\\rho}(\\tilde{r})⋅──────────\n",
       "tilde{r}                                 ⎝                          d\\tilde{r}\n",
       "──────────────────────────────────────────────────────────────────────────────\n",
       "                                                                              \n",
       "                                                                              \n",
       "\n",
       "                                                  d                           \n",
       "(\\tilde{u}(\\tilde{r})) + \\tilde{u}(\\tilde{r})⋅──────────(\\tilde{\\rho}(\\tilde{r\n",
       "                                              d\\tilde{r}                      \n",
       "──────────────────────────────────────────────────────────────────────────────\n",
       "                                                                              \n",
       "                                                                              \n",
       "\n",
       "   ⎞                     ⎞                        ⎛              d            \n",
       "}))⎟⋅\\tilde{u}(\\tilde{r})⎟⋅\\tilde{u}(\\tilde{r}) + ⎜\\tilde{r}⋅──────────(\\tilde\n",
       "   ⎠                     ⎠                        ⎝          d\\tilde{r}       \n",
       "──────────────────────────────────────────────────────────────────────────────\n",
       "     2⋅\\tilde{r}⋅(γ - 1)                                                      \n",
       "                                                                              \n",
       "\n",
       "                                        ⎞ ⎛                                   \n",
       "{u}(\\tilde{r})) + 2⋅\\tilde{u}(\\tilde{r})⎟⋅⎝2⋅γ⋅\\tilde{p}(\\tilde{r}) + (γ - 1)⋅\n",
       "                                        ⎠                                     \n",
       "──────────────────────────────────────────────────────────────────────────────\n",
       "                                                                              \n",
       "                                                                              \n",
       "\n",
       "                                 2           ⎞\n",
       "\\tilde{\\rho}(\\tilde{r})⋅\\tilde{u} (\\tilde{r})⎠\n",
       "                                              \n",
       "──────────────────────────────────────────────\n",
       "                                              \n",
       "                                              "
      ]
     },
     "execution_count": 10,
     "metadata": {},
     "output_type": "execute_result"
    }
   ],
   "source": [
    "temp = energy_conservation\n",
    "temp = temp.subs(q, mass_source)\n",
    "temp = temp.subs(rho(r).diff(r), bondi_density*tilde_rho(tilde_r).diff(tilde_r)/bondi_radius)\n",
    "temp = temp.subs(u(r).diff(r), v_w*tilde_u(tilde_r).diff(tilde_r)/bondi_radius)\n",
    "temp = temp.subs(p(r).diff(r), bondi_density*v_w**2*tilde_p(tilde_r).diff(tilde_r)/bondi_radius)\n",
    "temp = temp.subs(rho(r), bondi_density*tilde_rho(tilde_r))\n",
    "temp = temp.subs(u(r), v_w*tilde_u(tilde_r))\n",
    "temp = temp.subs(p(r), bondi_density*v_w**2*tilde_p(tilde_r))\n",
    "temp = sympy.Eq(temp.lhs*(G*M)**eta/D/(v_w**2)**eta/v_w**2, \n",
    "                temp.rhs*(G*M)**eta/D/(v_w**2)**eta/v_w**2)\n",
    "temp = temp.subs(r, bondi_radius*tilde_r)\n",
    "temp = temp.simplify()\n",
    "dimles_energy_conservation = temp\n",
    "dimles_energy_conservation"
   ]
  },
  {
   "cell_type": "markdown",
   "metadata": {},
   "source": [
    "Integral expressions"
   ]
  },
  {
   "cell_type": "code",
   "execution_count": 11,
   "metadata": {},
   "outputs": [
    {
     "data": {
      "image/png": "[encoded data removed]",
      "text/latex": [
       "$$\\tilde{r}^{2} \\tilde{\\rho}{\\left (\\tilde{r} \\right )} \\tilde{u}{\\left (\\tilde{r} \\right )} = \\frac{\\tilde{r}^{- \\eta + 3}}{- \\eta + 3} - \\frac{\\tilde{r}_{st}^{- \\eta + 3}}{- \\eta + 3}$$"
      ],
      "text/plain": [
       "                                                                   -η + 3     \n",
       "         2                                                \\tilde{r}         \\t\n",
       "\\tilde{r} ⋅\\tilde{\\rho}(\\tilde{r})⋅\\tilde{u}(\\tilde{r}) = ─────────────── - ──\n",
       "                                                               -η + 3         \n",
       "\n",
       "            -η + 3\n",
       "ilde{r}_{st}      \n",
       "──────────────────\n",
       "     -η + 3       "
      ]
     },
     "execution_count": 11,
     "metadata": {},
     "output_type": "execute_result"
    }
   ],
   "source": [
    "tilde_r_st = sympy.Symbol(r'\\tilde{r}_{st}')\n",
    "temp = tilde_r**(-eta)\n",
    "temp *= tilde_r**2\n",
    "temp = temp.simplify()\n",
    "temp = temp.integrate(tilde_r,conds='none')\n",
    "temp = temp - temp.subs(tilde_r, tilde_r_st)\n",
    "temp = sympy.Eq(tilde_r**2*tilde_rho(tilde_r)*tilde_u(tilde_r), temp)\n",
    "integral_mass_conservation = temp\n",
    "integral_mass_conservation"
   ]
  },
  {
   "cell_type": "markdown",
   "metadata": {},
   "source": [
    "Verification"
   ]
  },
  {
   "cell_type": "code",
   "execution_count": 12,
   "metadata": {},
   "outputs": [
    {
     "data": {
      "image/png": "[encoded data removed]",
      "text/latex": [
       "$$0$$"
      ],
      "text/plain": [
       "0"
      ]
     },
     "execution_count": 12,
     "metadata": {},
     "output_type": "execute_result"
    }
   ],
   "source": [
    "temp = integral_mass_conservation\n",
    "temp = temp.lhs - temp.rhs\n",
    "temp = temp.diff(tilde_r)\n",
    "temp = temp.subs(sympy.solve(dimles_mass_conservation,\n",
    "                             tilde_rho(tilde_r).diff(tilde_r),dict=True)[0])\n",
    "temp = temp.simplify()\n",
    "temp"
   ]
  },
  {
   "cell_type": "markdown",
   "metadata": {
    "collapsed": true
   },
   "source": [
    "Energy conservation"
   ]
  },
  {
   "cell_type": "code",
   "execution_count": 13,
   "metadata": {},
   "outputs": [
    {
     "data": {
      "image/png": "[encoded data removed]",
      "text/latex": [
       "$$\\frac{1}{\\gamma - 1} \\left(\\frac{1}{2} \\left(\\gamma - 1\\right) \\left(\\tilde{u}^{2}{\\left (\\tilde{r} \\right )} - 1\\right) + \\tilde{c}^{2}{\\left (\\tilde{r} \\right )}\\right) = \\frac{\\tilde{r}^{- \\eta - 1} \\tilde{r}_{st}^{- \\eta}}{\\left(\\tilde{r}^{- \\eta + 3} - \\tilde{r}_{st}^{- \\eta + 3}\\right) \\left(\\eta - 2\\right)} \\left(\\tilde{r}^{3} \\tilde{r}_{st}^{\\eta} - \\tilde{r}^{\\eta} \\tilde{r}_{st}^{3} \\eta + 2 \\tilde{r}^{\\eta} \\tilde{r}_{st}^{3} + \\tilde{r}^{\\eta + 1} \\tilde{r}_{st}^{2} \\eta - 3 \\tilde{r}^{\\eta + 1} \\tilde{r}_{st}^{2}\\right)$$"
      ],
      "text/plain": [
       "        ⎛         2               ⎞                                           \n",
       "(γ - 1)⋅⎝\\tilde{u} (\\tilde{r}) - 1⎠            2                              \n",
       "─────────────────────────────────── + \\tilde{c} (\\tilde{r})            -η - 1 \n",
       "                 2                                            \\tilde{r}      ⋅\n",
       "─────────────────────────────────────────────────────────── = ────────────────\n",
       "                           γ - 1                                              \n",
       "                                                                              \n",
       "\n",
       "                                                                              \n",
       "                                                                              \n",
       "              -η ⎛         3               η            η               3     \n",
       "\\tilde{r}_{st}  ⋅⎝\\tilde{r} ⋅\\tilde{r}_{st}  - \\tilde{r} ⋅\\tilde{r}_{st} ⋅η + \n",
       "──────────────────────────────────────────────────────────────────────────────\n",
       "                                                         ⎛         -η + 3     \n",
       "                                                         ⎝\\tilde{r}       - \\t\n",
       "\n",
       "                                                                              \n",
       "                                                                              \n",
       "           η               3            η + 1               2                η\n",
       "2⋅\\tilde{r} ⋅\\tilde{r}_{st}  + \\tilde{r}     ⋅\\tilde{r}_{st} ⋅η - 3⋅\\tilde{r} \n",
       "──────────────────────────────────────────────────────────────────────────────\n",
       "            -η + 3⎞                                                           \n",
       "ilde{r}_{st}      ⎠⋅(η - 2)                                                   \n",
       "\n",
       "                     \n",
       "                     \n",
       " + 1               2⎞\n",
       "    ⋅\\tilde{r}_{st} ⎠\n",
       "─────────────────────\n",
       "                     \n",
       "                     "
      ]
     },
     "execution_count": 13,
     "metadata": {},
     "output_type": "execute_result"
    }
   ],
   "source": [
    "tilde_c = sympy.Symbol(r'\\tilde{c}')\n",
    "temp = -integral_mass_conservation.rhs\n",
    "temp /= tilde_r**2\n",
    "temp = temp.expand()\n",
    "temp = temp.integrate(tilde_r,conds='none')\n",
    "temp = temp - temp.subs(tilde_r, tilde_r_st)\n",
    "temp = temp.simplify()\n",
    "temp = temp.subs(eta**2-5*eta+6, (eta-2)*(eta-3))\n",
    "temp = sympy.Eq(tilde_u(tilde_r)**2/2-sympy.Rational(1,2) + tilde_c(tilde_r)**2/(gamma-1),\n",
    "               temp/integral_mass_conservation.rhs)\n",
    "temp = temp.simplify()\n",
    "integral_energy_conservation = temp\n",
    "integral_energy_conservation"
   ]
  },
  {
   "cell_type": "markdown",
   "metadata": {},
   "source": [
    "Verification"
   ]
  },
  {
   "cell_type": "code",
   "execution_count": 14,
   "metadata": {},
   "outputs": [
    {
     "data": {
      "image/png": "[encoded data removed]",
      "text/latex": [
       "$$0$$"
      ],
      "text/plain": [
       "0"
      ]
     },
     "execution_count": 14,
     "metadata": {},
     "output_type": "execute_result"
    }
   ],
   "source": [
    "temp = integral_energy_conservation\n",
    "temp = temp.subs(tilde_c(tilde_r), sympy.sqrt(gamma*tilde_p(tilde_r)/tilde_rho(tilde_r)))\n",
    "temp = sympy.Eq(temp.lhs*integral_mass_conservation.lhs,\n",
    "                temp.rhs*integral_mass_conservation.rhs)\n",
    "temp = temp.lhs - temp.rhs\n",
    "temp = temp.diff(tilde_r)\n",
    "temp -= (dimles_energy_conservation.rhs-dimles_energy_conservation.lhs)*tilde_r**2\n",
    "temp = temp.subs(sympy.solve(dimles_mass_conservation,tilde_rho(tilde_r).diff(tilde_r),dict=True)[0])\n",
    "temp = temp.subs(sympy.solve(integral_mass_conservation,tilde_rho(tilde_r),dict=True)[0])\n",
    "temp = temp.subs(sympy.solve([dimles_mass_conservation,\n",
    "                              dimles_momentum_conservation,\n",
    "                              dimles_energy_conservation],\n",
    "                             [tilde_p(tilde_r).diff(tilde_r),\n",
    "                             tilde_rho(tilde_r).diff(tilde_r),\n",
    "                             tilde_u(tilde_r).diff(tilde_r)]))                           \n",
    "temp = temp.simplify()\n",
    "temp = temp.subs(sympy.solve(integral_mass_conservation,tilde_rho(tilde_r),dict=True)[0])\n",
    "temp.simplify()"
   ]
  },
  {
   "cell_type": "markdown",
   "metadata": {},
   "source": [
    "# Solutions without Gravity\n",
    "In this case the fluid velocity and the speed of sound are constant. The density is a single power law"
   ]
  },
  {
   "cell_type": "code",
   "execution_count": 15,
   "metadata": {},
   "outputs": [
    {
     "data": {
      "image/png": "[encoded data removed]",
      "text/latex": [
       "$$\\left [ \\left ( \\frac{D \\sqrt{\\frac{- \\eta \\gamma + \\eta + \\gamma - 1}{\\eta \\gamma + \\eta - 5 \\gamma - 1}} \\left(\\eta \\gamma + \\eta - 5 \\gamma - 1\\right)}{v_{w} \\left(\\eta^{2} \\gamma - \\eta^{2} - 4 \\eta \\gamma + 4 \\eta + 3 \\gamma - 3\\right)}, \\quad v_{w} \\sqrt{- \\frac{\\left(\\eta - 1\\right) \\left(\\gamma - 1\\right)}{\\eta \\gamma + \\eta - 5 \\gamma - 1}}, \\quad v_{w} \\sqrt{\\frac{\\gamma \\left(\\eta - 3\\right) \\left(\\gamma - 1\\right)}{\\eta \\gamma + \\eta - 5 \\gamma - 1}}\\right ), \\quad - \\eta + 1\\right ]$$"
      ],
      "text/plain": [
       "⎡⎛      ___________________                                                   \n",
       "⎢⎜     ╱  -η⋅γ + η + γ - 1                                                    \n",
       "⎢⎜D⋅  ╱  ───────────────── ⋅(η⋅γ + η - 5⋅γ - 1)          ___________________  \n",
       "⎢⎜  ╲╱   η⋅γ + η - 5⋅γ - 1                              ╱ -(η - 1)⋅(γ - 1)    \n",
       "⎢⎜─────────────────────────────────────────────, v_w⋅  ╱  ───────────────── , \n",
       "⎢⎜       ⎛ 2      2                        ⎞         ╲╱   η⋅γ + η - 5⋅γ - 1   \n",
       "⎣⎝   v_w⋅⎝η ⋅γ - η  - 4⋅η⋅γ + 4⋅η + 3⋅γ - 3⎠                                  \n",
       "\n",
       "                           ⎞        ⎤\n",
       "                           ⎟        ⎥\n",
       "        ___________________⎟        ⎥\n",
       "       ╱ γ⋅(η - 3)⋅(γ - 1) ⎟        ⎥\n",
       "v_w⋅  ╱  ───────────────── ⎟, -η + 1⎥\n",
       "    ╲╱   η⋅γ + η - 5⋅γ - 1 ⎟        ⎥\n",
       "                           ⎠        ⎦"
      ]
     },
     "execution_count": 15,
     "metadata": {},
     "output_type": "execute_result"
    }
   ],
   "source": [
    "c = sympy.Symbol('c')\n",
    "alpha = sympy.Symbol('alpha')\n",
    "A = sympy.Symbol('A')\n",
    "temp = [mass_conservation,momentum_conservation,energy_conservation]\n",
    "temp = map(lambda eqn: eqn.subs(q,mass_source), temp)\n",
    "temp = map(lambda eqn: eqn.subs(p(r),rho(r)*c(r)**2/gamma), temp)\n",
    "temp = map(lambda eqn: eqn.doit(), temp)\n",
    "temp = map(lambda eqn: eqn.subs(M,0), temp)\n",
    "temp = map(lambda eqn: eqn.subs(u(r).diff(r),0), temp)\n",
    "temp = map(lambda eqn: eqn.subs(c(r).diff(r),0), temp)\n",
    "temp = map(lambda eqn: eqn.subs(rho(r),A*r**alpha),temp)\n",
    "temp = map(lambda eqn: eqn.doit(), temp)\n",
    "temp = map(lambda eqn: eqn.simplify(), temp)\n",
    "temp = list(temp)\n",
    "asymptotic_density_index = sympy.solve(sympy.Eq(sympy.log(temp[0].lhs).diff(r)*r,\n",
    "         (sympy.log(temp[0].rhs).diff(r)*r).subs(u(r).diff(r),0)),alpha)[0]\n",
    "temp = map(lambda eqn: eqn.subs(alpha,asymptotic_density_index), temp)\n",
    "asymptotic_prefactors = sympy.solve(temp,[A,u(r),c(r)])[1]\n",
    "[asymptotic_prefactors,asymptotic_density_index]"
   ]
  },
  {
   "cell_type": "markdown",
   "metadata": {},
   "source": [
    "Asymptotic Mach number"
   ]
  },
  {
   "cell_type": "code",
   "execution_count": 16,
   "metadata": {},
   "outputs": [
    {
     "data": {
      "image/png": "[encoded data removed]",
      "text/latex": [
       "$$\\frac{\\sqrt{\\eta - 1}}{\\sqrt{\\gamma \\left(- \\eta + 3\\right)}}$$"
      ],
      "text/plain": [
       "    _______   \n",
       "  ╲╱ η - 1    \n",
       "──────────────\n",
       "  ____________\n",
       "╲╱ γ⋅(-η + 3) "
      ]
     },
     "execution_count": 16,
     "metadata": {},
     "output_type": "execute_result"
    }
   ],
   "source": [
    "Q = sympy.Symbol('Q',positive=True)\n",
    "temp = asymptotic_prefactors[1]/asymptotic_prefactors[2]\n",
    "temp = temp.subs(eta*gamma+eta-5*gamma-1,-Q)\n",
    "temp = sympy.expand_power_base(temp)\n",
    "temp = temp.simplify()\n",
    "temp = temp.subs(gamma-1,Q)\n",
    "temp = temp.simplify()\n",
    "asymptotic_mach_number = temp\n",
    "asymptotic_mach_number"
   ]
  },
  {
   "cell_type": "markdown",
   "metadata": {},
   "source": [
    "More simplification for the density prefactor"
   ]
  },
  {
   "cell_type": "code",
   "execution_count": 17,
   "metadata": {},
   "outputs": [
    {
     "data": {
      "image/png": "[encoded data removed]",
      "text/latex": [
       "$$- \\frac{D \\sqrt{- \\eta \\left(\\gamma - 1\\right) - 2 \\eta + 5 \\gamma + 1}}{v_{w} \\left(\\eta - 3\\right) \\sqrt{\\eta - 1} \\sqrt{\\gamma - 1}}$$"
      ],
      "text/plain": [
       "     ____________________________ \n",
       "-D⋅╲╱ -η⋅(γ - 1) - 2⋅η + 5⋅γ + 1  \n",
       "──────────────────────────────────\n",
       "               _______   _______  \n",
       " v_w⋅(η - 3)⋅╲╱ η - 1 ⋅╲╱ γ - 1   "
      ]
     },
     "execution_count": 17,
     "metadata": {},
     "output_type": "execute_result"
    }
   ],
   "source": [
    "temp = asymptotic_prefactors[0]\n",
    "temp = temp.subs(eta,Q+1)\n",
    "temp = temp.simplify()\n",
    "temp = temp.subs(Q,eta-1)\n",
    "temp = temp.subs(eta,Q+3)\n",
    "temp = temp.simplify()\n",
    "temp = temp.subs(Q,eta-3)\n",
    "temp = temp.subs(gamma,Q+1)\n",
    "temp = temp.simplify()\n",
    "temp = temp.subs(Q,gamma-1)\n",
    "temp = temp.subs(eta*(gamma-1)+2*eta-5*gamma-1,-Q)\n",
    "temp = temp.simplify()\n",
    "temp = temp.subs(Q,-(eta*(gamma-1)+2*eta-5*gamma-1))\n",
    "temp"
   ]
  },
  {
   "cell_type": "markdown",
   "metadata": {},
   "source": [
    "The flow is supersonic at large distances when $\\eta$ is greater than"
   ]
  },
  {
   "cell_type": "code",
   "execution_count": 18,
   "metadata": {},
   "outputs": [
    {
     "data": {
      "image/png": "[encoded data removed]",
      "text/latex": [
       "$$\\frac{3 \\gamma + 1}{\\gamma + 1}$$"
      ],
      "text/plain": [
       "3⋅γ + 1\n",
       "───────\n",
       " γ + 1 "
      ]
     },
     "execution_count": 18,
     "metadata": {},
     "output_type": "execute_result"
    }
   ],
   "source": [
    "sympy.solve(asymptotic_mach_number-1,eta)[0]"
   ]
  },
  {
   "cell_type": "markdown",
   "metadata": {},
   "source": [
    "# Free - fall solution\n",
    "Very close to the SMBH"
   ]
  },
  {
   "cell_type": "code",
   "execution_count": 19,
   "metadata": {},
   "outputs": [
    {
     "data": {
      "image/png": "[encoded data removed]",
      "text/latex": [
       "$$\\frac{1}{2} \\tilde{u}^{2}{\\left (\\tilde{r} \\right )} + \\frac{\\tilde{c}^{2}{\\left (\\tilde{r} \\right )}}{\\gamma - 1} = \\frac{1}{\\tilde{r}}$$"
      ],
      "text/plain": [
       "         2                       2                       \n",
       "\\tilde{u} (\\tilde{r})   \\tilde{c} (\\tilde{r})       1    \n",
       "───────────────────── + ───────────────────── = ─────────\n",
       "          2                     γ - 1           \\tilde{r}"
      ]
     },
     "execution_count": 19,
     "metadata": {},
     "output_type": "execute_result"
    }
   ],
   "source": [
    "freefall_integral_energy = sympy.Eq(\n",
    "    tilde_u(tilde_r)**2/2+tilde_c(tilde_r)**2/(gamma-1),\n",
    "    1/tilde_r)\n",
    "freefall_integral_energy"
   ]
  },
  {
   "cell_type": "code",
   "execution_count": 20,
   "metadata": {},
   "outputs": [
    {
     "data": {
      "image/png": "[encoded data removed]",
      "text/latex": [
       "$$\\frac{\\tilde{r}_{st}^{- \\eta + 3}}{\\tilde{r}^{2} \\left(\\eta - 3\\right) \\tilde{u}{\\left (\\tilde{r} \\right )}}$$"
      ],
      "text/plain": [
       "                        -η + 3         \n",
       "          \\tilde{r}_{st}               \n",
       "───────────────────────────────────────\n",
       "         2                             \n",
       "\\tilde{r} ⋅(η - 3)⋅\\tilde{u}(\\tilde{r})"
      ]
     },
     "execution_count": 20,
     "metadata": {},
     "output_type": "execute_result"
    }
   ],
   "source": [
    "temp = integral_mass_conservation\n",
    "temp = temp.subs(tilde_r**(3-eta),0)\n",
    "freefall_density = sympy.solve(temp,tilde_rho(tilde_r))[0]\n",
    "freefall_density"
   ]
  },
  {
   "cell_type": "code",
   "execution_count": 21,
   "metadata": {
    "collapsed": true
   },
   "outputs": [],
   "source": [
    "freefall_u_ansatz = sympy.sqrt(A)/sympy.sqrt(tilde_r)"
   ]
  },
  {
   "cell_type": "code",
   "execution_count": 22,
   "metadata": {},
   "outputs": [
    {
     "data": {
      "image/png": "[encoded data removed]",
      "text/latex": [
       "$$- \\frac{\\sqrt{2}}{\\sqrt{\\tilde{r}}}$$"
      ],
      "text/plain": [
       "     -√2     \n",
       "─────────────\n",
       "  ___________\n",
       "╲╱ \\tilde{r} "
      ]
     },
     "execution_count": 22,
     "metadata": {},
     "output_type": "execute_result"
    }
   ],
   "source": [
    "temp = dimles_momentum_conservation\n",
    "temp = temp.subs(tilde_r**(-eta),0)\n",
    "temp = temp.subs(tilde_p(tilde_r), tilde_rho(tilde_r)*tilde_c(tilde_r)**2/gamma)\n",
    "temp = temp.subs(tilde_rho(tilde_r), freefall_density)\n",
    "temp = temp.subs(sympy.solve(freefall_integral_energy,tilde_c(tilde_r)**2,dict=True)[0])\n",
    "temp = temp.subs(tilde_u(tilde_r), freefall_u_ansatz)\n",
    "temp = temp.doit()\n",
    "temp = temp.lhs - temp.rhs\n",
    "temp = temp.simplify()\n",
    "temp = sympy.solve(temp,A)[0]\n",
    "freefall_u = -freefall_u_ansatz.subs(A,temp)\n",
    "freefall_u"
   ]
  },
  {
   "cell_type": "markdown",
   "metadata": {},
   "source": [
    "This is true unless $\\gamma = \\frac{5}{3}$"
   ]
  },
  {
   "cell_type": "code",
   "execution_count": 23,
   "metadata": {},
   "outputs": [
    {
     "data": {
      "image/png": "[encoded data removed]",
      "text/latex": [
       "$$0$$"
      ],
      "text/plain": [
       "0"
      ]
     },
     "execution_count": 23,
     "metadata": {},
     "output_type": "execute_result"
    }
   ],
   "source": [
    "temp = dimles_momentum_conservation\n",
    "temp = temp.subs(tilde_r**(-eta),0)\n",
    "temp = temp.subs(tilde_p(tilde_r), tilde_rho(tilde_r)*tilde_c(tilde_r)**2/gamma)\n",
    "temp = temp.subs(tilde_rho(tilde_r), freefall_density)\n",
    "temp = temp.subs(sympy.solve(freefall_integral_energy,tilde_c(tilde_r)**2,dict=True)[0])\n",
    "temp = temp.subs(tilde_u(tilde_r), freefall_u_ansatz)\n",
    "temp = temp.doit()\n",
    "temp = temp.lhs - temp.rhs\n",
    "temp = temp.subs(gamma,sympy.Rational(5,3))\n",
    "temp = temp.simplify()\n",
    "temp"
   ]
  },
  {
   "cell_type": "markdown",
   "metadata": {},
   "source": [
    "# Secular analytic solution"
   ]
  },
  {
   "cell_type": "code",
   "execution_count": 24,
   "metadata": {},
   "outputs": [
    {
     "data": {
      "image/png": "[encoded data removed]",
      "text/latex": [
       "$$\\frac{4 \\sqrt{6}}{3 \\tilde{r}^{\\frac{3}{2}}}$$"
      ],
      "text/plain": [
       "     4⋅√6     \n",
       "──────────────\n",
       "           3/2\n",
       "3⋅\\tilde{r}   "
      ]
     },
     "execution_count": 24,
     "metadata": {},
     "output_type": "execute_result"
    }
   ],
   "source": [
    "temp = asymptotic_prefactors[0]/tilde_r**sympy.Rational(3,2)\n",
    "temp = temp.subs(gamma,sympy.Rational(5,3))\n",
    "temp = temp.subs(eta,sympy.Rational(5,2))\n",
    "secular_rho = temp/(D/v_w)\n",
    "secular_rho"
   ]
  },
  {
   "cell_type": "code",
   "execution_count": 25,
   "metadata": {},
   "outputs": [
    {
     "data": {
      "image/png": "[encoded data removed]",
      "text/latex": [
       "$$\\frac{\\sqrt{6}}{4} - \\frac{1}{\\sqrt{\\tilde{r}}}$$"
      ],
      "text/plain": [
       "√6         1      \n",
       "── - ─────────────\n",
       "4      ___________\n",
       "     ╲╱ \\tilde{r} "
      ]
     },
     "execution_count": 25,
     "metadata": {},
     "output_type": "execute_result"
    }
   ],
   "source": [
    "temp = dimles_mass_conservation\n",
    "temp = temp.subs(tilde_rho(tilde_r), secular_rho)\n",
    "temp = temp.doit()\n",
    "temp = temp.subs(eta,sympy.Rational(5,2))\n",
    "temp = sympy.dsolve(temp,tilde_u(tilde_r))\n",
    "temp = temp.subs(sympy.Symbol('C1'),-1)\n",
    "secular_u = temp.rhs \n",
    "secular_u"
   ]
  },
  {
   "cell_type": "code",
   "execution_count": 26,
   "metadata": {},
   "outputs": [
    {
     "data": {
      "image/png": "[encoded data removed]",
      "text/latex": [
       "$$\\frac{8}{3}$$"
      ],
      "text/plain": [
       "8/3"
      ]
     },
     "execution_count": 26,
     "metadata": {},
     "output_type": "execute_result"
    }
   ],
   "source": [
    "secular_stagnation = sympy.solve(secular_u,tilde_r)[0]\n",
    "secular_stagnation"
   ]
  },
  {
   "cell_type": "code",
   "execution_count": 27,
   "metadata": {},
   "outputs": [
    {
     "data": {
      "image/png": "[encoded data removed]",
      "text/latex": [
       "$$\\frac{5}{24} + \\frac{1}{3 \\tilde{r}}$$"
      ],
      "text/plain": [
       "5         1     \n",
       "── + ───────────\n",
       "24   3⋅\\tilde{r}"
      ]
     },
     "execution_count": 27,
     "metadata": {},
     "output_type": "execute_result"
    }
   ],
   "source": [
    "temp = integral_energy_conservation\n",
    "temp = temp.subs(tilde_u(tilde_r),secular_u)\n",
    "temp = temp.subs(tilde_r_st, secular_stagnation)\n",
    "temp = temp.subs(eta,sympy.Rational(5,2))\n",
    "temp = temp.subs(gamma,sympy.Rational(5,3))\n",
    "temp = sympy.solve(temp,tilde_c(tilde_r)**2)[0]\n",
    "temp = temp.subs(tilde_r,Q**2)\n",
    "temp = temp.simplify()\n",
    "temp = temp.subs(Q,sympy.sqrt(tilde_r))\n",
    "secular_c2 = temp\n",
    "secular_c2"
   ]
  },
  {
   "cell_type": "markdown",
   "metadata": {},
   "source": [
    "Verification"
   ]
  },
  {
   "cell_type": "code",
   "execution_count": 28,
   "metadata": {},
   "outputs": [
    {
     "data": {
      "image/png": "[encoded data removed]",
      "text/latex": [
       "$$\\left [ 0, \\quad 0, \\quad 0\\right ]$$"
      ],
      "text/plain": [
       "[0, 0, 0]"
      ]
     },
     "execution_count": 28,
     "metadata": {},
     "output_type": "execute_result"
    }
   ],
   "source": [
    "temp = [dimles_mass_conservation,dimles_momentum_conservation,dimles_energy_conservation]\n",
    "temp = map(lambda eqn:eqn.subs(tilde_p(tilde_r),tilde_rho(tilde_r)*tilde_c(tilde_r)**2/gamma),temp)\n",
    "temp = map(lambda eqn:eqn.subs(tilde_c(tilde_r)**2,secular_c2),temp)\n",
    "temp = map(lambda eqn:eqn.subs(tilde_rho(tilde_r),secular_rho),temp)\n",
    "temp = map(lambda eqn:eqn.subs(tilde_u(tilde_r),secular_u),temp)\n",
    "temp = map(lambda eqn:eqn.subs({gamma:sympy.Rational(5,3),eta:sympy.Rational(5,2)}),temp)\n",
    "temp = map(lambda eqn:eqn.doit(),temp)\n",
    "temp = map(lambda eqn:eqn.lhs-eqn.rhs,temp)\n",
    "temp = map(lambda eqn:eqn.simplify(),temp)\n",
    "list(temp)"
   ]
  },
  {
   "cell_type": "markdown",
   "metadata": {},
   "source": [
    "# Integrating ODEs"
   ]
  },
  {
   "cell_type": "code",
   "execution_count": 38,
   "metadata": {},
   "outputs": [
    {
     "data": {
      "image/png": "[encoded data removed]",
      "text/latex": [
       "$$\\left \\{ \\frac{d}{d \\tilde{r}} \\tilde{\\rho}{\\left (\\tilde{r} \\right )} : \\frac{\\tilde{r}^{- \\eta - 2}}{2 \\left(m^{2}{\\left (\\tilde{r} \\right )} - 1\\right) \\tilde{c}^{3}{\\left (\\tilde{r} \\right )} m{\\left (\\tilde{r} \\right )}} \\left(\\tilde{r}^{2} \\gamma \\tilde{c}^{2}{\\left (\\tilde{r} \\right )} m^{2}{\\left (\\tilde{r} \\right )} + \\tilde{r}^{2} \\gamma + 3 \\tilde{r}^{2} \\tilde{c}^{2}{\\left (\\tilde{r} \\right )} m^{2}{\\left (\\tilde{r} \\right )} - 2 \\tilde{r}^{2} \\tilde{c}^{2}{\\left (\\tilde{r} \\right )} - \\tilde{r}^{2} + 2 \\tilde{r}^{\\eta} \\tilde{\\rho}{\\left (\\tilde{r} \\right )} \\tilde{c}{\\left (\\tilde{r} \\right )} m{\\left (\\tilde{r} \\right )} - 4 \\tilde{r}^{\\eta + 1} \\tilde{\\rho}{\\left (\\tilde{r} \\right )} \\tilde{c}^{3}{\\left (\\tilde{r} \\right )} m^{3}{\\left (\\tilde{r} \\right )}\\right), \\quad \\frac{d}{d \\tilde{r}} \\tilde{c}{\\left (\\tilde{r} \\right )} : \\frac{\\tilde{r}^{- \\eta - 2}}{4 \\left(m^{2}{\\left (\\tilde{r} \\right )} - 1\\right) \\tilde{\\rho}{\\left (\\tilde{r} \\right )} \\tilde{c}^{2}{\\left (\\tilde{r} \\right )} m{\\left (\\tilde{r} \\right )}} \\left(\\tilde{r}^{2} \\gamma^{2} \\tilde{c}^{2}{\\left (\\tilde{r} \\right )} m^{4}{\\left (\\tilde{r} \\right )} + \\tilde{r}^{2} \\gamma^{2} m^{2}{\\left (\\tilde{r} \\right )} - \\tilde{r}^{2} \\gamma \\tilde{c}^{2}{\\left (\\tilde{r} \\right )} m^{4}{\\left (\\tilde{r} \\right )} + \\tilde{r}^{2} \\gamma \\tilde{c}^{2}{\\left (\\tilde{r} \\right )} m^{2}{\\left (\\tilde{r} \\right )} - \\tilde{r}^{2} \\gamma m^{2}{\\left (\\tilde{r} \\right )} - \\tilde{r}^{2} \\gamma - 3 \\tilde{r}^{2} \\tilde{c}^{2}{\\left (\\tilde{r} \\right )} m^{2}{\\left (\\tilde{r} \\right )} + 2 \\tilde{r}^{2} \\tilde{c}^{2}{\\left (\\tilde{r} \\right )} + \\tilde{r}^{2} + 2 \\tilde{r}^{\\eta} \\gamma \\tilde{\\rho}{\\left (\\tilde{r} \\right )} \\tilde{c}{\\left (\\tilde{r} \\right )} m{\\left (\\tilde{r} \\right )} - 2 \\tilde{r}^{\\eta} \\tilde{\\rho}{\\left (\\tilde{r} \\right )} \\tilde{c}{\\left (\\tilde{r} \\right )} m{\\left (\\tilde{r} \\right )} - 4 \\tilde{r}^{\\eta + 1} \\gamma \\tilde{\\rho}{\\left (\\tilde{r} \\right )} \\tilde{c}^{3}{\\left (\\tilde{r} \\right )} m^{3}{\\left (\\tilde{r} \\right )} + 4 \\tilde{r}^{\\eta + 1} \\tilde{\\rho}{\\left (\\tilde{r} \\right )} \\tilde{c}^{3}{\\left (\\tilde{r} \\right )} m^{3}{\\left (\\tilde{r} \\right )}\\right), \\quad \\frac{d}{d \\tilde{r}} m{\\left (\\tilde{r} \\right )} : \\frac{\\tilde{r}^{- \\eta - 2}}{4 \\left(m^{2}{\\left (\\tilde{r} \\right )} - 1\\right) \\tilde{\\rho}{\\left (\\tilde{r} \\right )} \\tilde{c}^{3}{\\left (\\tilde{r} \\right )}} \\left(- \\tilde{r}^{2} \\gamma^{2} \\tilde{c}^{2}{\\left (\\tilde{r} \\right )} m^{4}{\\left (\\tilde{r} \\right )} - \\tilde{r}^{2} \\gamma^{2} m^{2}{\\left (\\tilde{r} \\right )} + \\tilde{r}^{2} \\gamma \\tilde{c}^{2}{\\left (\\tilde{r} \\right )} m^{4}{\\left (\\tilde{r} \\right )} - 3 \\tilde{r}^{2} \\gamma \\tilde{c}^{2}{\\left (\\tilde{r} \\right )} m^{2}{\\left (\\tilde{r} \\right )} + \\tilde{r}^{2} \\gamma m^{2}{\\left (\\tilde{r} \\right )} - \\tilde{r}^{2} \\gamma + \\tilde{r}^{2} \\tilde{c}^{2}{\\left (\\tilde{r} \\right )} m^{2}{\\left (\\tilde{r} \\right )} - 2 \\tilde{r}^{2} \\tilde{c}^{2}{\\left (\\tilde{r} \\right )} + \\tilde{r}^{2} - 2 \\tilde{r}^{\\eta} \\gamma \\tilde{\\rho}{\\left (\\tilde{r} \\right )} \\tilde{c}{\\left (\\tilde{r} \\right )} m{\\left (\\tilde{r} \\right )} - 2 \\tilde{r}^{\\eta} \\tilde{\\rho}{\\left (\\tilde{r} \\right )} \\tilde{c}{\\left (\\tilde{r} \\right )} m{\\left (\\tilde{r} \\right )} + 4 \\tilde{r}^{\\eta + 1} \\gamma \\tilde{\\rho}{\\left (\\tilde{r} \\right )} \\tilde{c}^{3}{\\left (\\tilde{r} \\right )} m^{3}{\\left (\\tilde{r} \\right )} - 4 \\tilde{r}^{\\eta + 1} \\tilde{\\rho}{\\left (\\tilde{r} \\right )} \\tilde{c}^{3}{\\left (\\tilde{r} \\right )} m^{3}{\\left (\\tilde{r} \\right )} + 8 \\tilde{r}^{\\eta + 1} \\tilde{\\rho}{\\left (\\tilde{r} \\right )} \\tilde{c}^{3}{\\left (\\tilde{r} \\right )} m{\\left (\\tilde{r} \\right )}\\right)\\right \\}$$"
      ],
      "text/plain": [
       "⎧                                              -η - 2 ⎛         2            2\n",
       "⎪    d                                \\tilde{r}      ⋅⎝\\tilde{r} ⋅γ⋅\\tilde{c} \n",
       "⎨──────────(\\tilde{\\rho}(\\tilde{r})): ────────────────────────────────────────\n",
       "⎪d\\tilde{r}                                                                   \n",
       "⎩                                                                             \n",
       "\n",
       "             2                       2                2          2            \n",
       "(\\tilde{r})⋅m (\\tilde{r}) + \\tilde{r} ⋅γ + 3⋅\\tilde{r} ⋅\\tilde{c} (\\tilde{r})⋅\n",
       "──────────────────────────────────────────────────────────────────────────────\n",
       "                                                                              \n",
       "                                                                              \n",
       "\n",
       " 2                         2          2                       2              η\n",
       "m (\\tilde{r}) - 2⋅\\tilde{r} ⋅\\tilde{c} (\\tilde{r}) - \\tilde{r}  + 2⋅\\tilde{r} \n",
       "──────────────────────────────────────────────────────────────────────────────\n",
       "                       ⎛ 2               ⎞          3                         \n",
       "                     2⋅⎝m (\\tilde{r}) - 1⎠⋅\\tilde{c} (\\tilde{r})⋅m(\\tilde{r}) \n",
       "\n",
       "                                                                        η + 1 \n",
       "⋅\\tilde{\\rho}(\\tilde{r})⋅\\tilde{c}(\\tilde{r})⋅m(\\tilde{r}) - 4⋅\\tilde{r}     ⋅\n",
       "──────────────────────────────────────────────────────────────────────────────\n",
       "                                                                              \n",
       "                                                                              \n",
       "\n",
       "                                 3             3           ⎞                  \n",
       "\\tilde{\\rho}(\\tilde{r})⋅\\tilde{c} (\\tilde{r})⋅m (\\tilde{r})⎠      d           \n",
       "────────────────────────────────────────────────────────────, ──────────(\\tild\n",
       "                                                              d\\tilde{r}      \n",
       "                                                                              \n",
       "\n",
       "                           -η - 2 ⎛         2  2          2             4     \n",
       "                  \\tilde{r}      ⋅⎝\\tilde{r} ⋅γ ⋅\\tilde{c} (\\tilde{r})⋅m (\\til\n",
       "e{c}(\\tilde{r})): ────────────────────────────────────────────────────────────\n",
       "                                                                              \n",
       "                                                                              \n",
       "\n",
       "                  2  2  2                       2            2             4  \n",
       "de{r}) + \\tilde{r} ⋅γ ⋅m (\\tilde{r}) - \\tilde{r} ⋅γ⋅\\tilde{c} (\\tilde{r})⋅m (\\\n",
       "──────────────────────────────────────────────────────────────────────────────\n",
       "                                                                              \n",
       "                                                                              \n",
       "\n",
       "                     2            2             2                       2    2\n",
       "tilde{r}) + \\tilde{r} ⋅γ⋅\\tilde{c} (\\tilde{r})⋅m (\\tilde{r}) - \\tilde{r} ⋅γ⋅m \n",
       "──────────────────────────────────────────────────────────────────────────────\n",
       "                                                                              \n",
       "                                                                              \n",
       "\n",
       "                       2                2          2             2            \n",
       "(\\tilde{r}) - \\tilde{r} ⋅γ - 3⋅\\tilde{r} ⋅\\tilde{c} (\\tilde{r})⋅m (\\tilde{r}) \n",
       "──────────────────────────────────────────────────────────────────────────────\n",
       "                                                                        ⎛ 2   \n",
       "                                                                      4⋅⎝m (\\t\n",
       "\n",
       "             2          2                       2              η              \n",
       "+ 2⋅\\tilde{r} ⋅\\tilde{c} (\\tilde{r}) + \\tilde{r}  + 2⋅\\tilde{r} ⋅γ⋅\\tilde{\\rho\n",
       "──────────────────────────────────────────────────────────────────────────────\n",
       "            ⎞                                  2                              \n",
       "ilde{r}) - 1⎠⋅\\tilde{\\rho}(\\tilde{r})⋅\\tilde{c} (\\tilde{r})⋅m(\\tilde{r})      \n",
       "\n",
       "                                                            η                 \n",
       "}(\\tilde{r})⋅\\tilde{c}(\\tilde{r})⋅m(\\tilde{r}) - 2⋅\\tilde{r} ⋅\\tilde{\\rho}(\\ti\n",
       "──────────────────────────────────────────────────────────────────────────────\n",
       "                                                                              \n",
       "                                                                              \n",
       "\n",
       "                                                       η + 1                  \n",
       "lde{r})⋅\\tilde{c}(\\tilde{r})⋅m(\\tilde{r}) - 4⋅\\tilde{r}     ⋅γ⋅\\tilde{\\rho}(\\t\n",
       "──────────────────────────────────────────────────────────────────────────────\n",
       "                                                                              \n",
       "                                                                              \n",
       "\n",
       "                  3             3                         η + 1               \n",
       "ilde{r})⋅\\tilde{c} (\\tilde{r})⋅m (\\tilde{r}) + 4⋅\\tilde{r}     ⋅\\tilde{\\rho}(\\\n",
       "──────────────────────────────────────────────────────────────────────────────\n",
       "                                                                              \n",
       "                                                                              \n",
       "\n",
       "                   3             3           ⎞                                \n",
       "tilde{r})⋅\\tilde{c} (\\tilde{r})⋅m (\\tilde{r})⎠      d                     \\til\n",
       "──────────────────────────────────────────────, ──────────(m(\\tilde{r})): ────\n",
       "                                                d\\tilde{r}                    \n",
       "                                                                              \n",
       "\n",
       "     -η - 2 ⎛           2  2          2             4                       2 \n",
       "de{r}      ⋅⎝- \\tilde{r} ⋅γ ⋅\\tilde{c} (\\tilde{r})⋅m (\\tilde{r}) - \\tilde{r} ⋅\n",
       "──────────────────────────────────────────────────────────────────────────────\n",
       "                                                                              \n",
       "                                                                              \n",
       "\n",
       " 2  2                       2            2             4                      \n",
       "γ ⋅m (\\tilde{r}) + \\tilde{r} ⋅γ⋅\\tilde{c} (\\tilde{r})⋅m (\\tilde{r}) - 3⋅\\tilde\n",
       "──────────────────────────────────────────────────────────────────────────────\n",
       "                                                                              \n",
       "                                                                              \n",
       "\n",
       "   2            2             2                       2    2                  \n",
       "{r} ⋅γ⋅\\tilde{c} (\\tilde{r})⋅m (\\tilde{r}) + \\tilde{r} ⋅γ⋅m (\\tilde{r}) - \\til\n",
       "──────────────────────────────────────────────────────────────────────────────\n",
       "                                                                              \n",
       "                                                                              \n",
       "\n",
       "     2              2          2             2                         2      \n",
       "de{r} ⋅γ + \\tilde{r} ⋅\\tilde{c} (\\tilde{r})⋅m (\\tilde{r}) - 2⋅\\tilde{r} ⋅\\tild\n",
       "──────────────────────────────────────────────────────────────────────────────\n",
       "                                                                              \n",
       "                                                                              \n",
       "\n",
       "    2                       2              η                                  \n",
       "e{c} (\\tilde{r}) + \\tilde{r}  - 2⋅\\tilde{r} ⋅γ⋅\\tilde{\\rho}(\\tilde{r})⋅\\tilde{\n",
       "──────────────────────────────────────────────────────────────────────────────\n",
       "                  ⎛ 2               ⎞                                  3      \n",
       "                4⋅⎝m (\\tilde{r}) - 1⎠⋅\\tilde{\\rho}(\\tilde{r})⋅\\tilde{c} (\\tild\n",
       "\n",
       "                                        η                                     \n",
       "c}(\\tilde{r})⋅m(\\tilde{r}) - 2⋅\\tilde{r} ⋅\\tilde{\\rho}(\\tilde{r})⋅\\tilde{c}(\\t\n",
       "──────────────────────────────────────────────────────────────────────────────\n",
       "                                                                              \n",
       "e{r})                                                                         \n",
       "\n",
       "                                   η + 1                                    3 \n",
       "ilde{r})⋅m(\\tilde{r}) + 4⋅\\tilde{r}     ⋅γ⋅\\tilde{\\rho}(\\tilde{r})⋅\\tilde{c} (\n",
       "──────────────────────────────────────────────────────────────────────────────\n",
       "                                                                              \n",
       "                                                                              \n",
       "\n",
       "            3                         η + 1                                  3\n",
       "\\tilde{r})⋅m (\\tilde{r}) - 4⋅\\tilde{r}     ⋅\\tilde{\\rho}(\\tilde{r})⋅\\tilde{c} \n",
       "──────────────────────────────────────────────────────────────────────────────\n",
       "                                                                              \n",
       "                                                                              \n",
       "\n",
       "             3                         η + 1                                  \n",
       "(\\tilde{r})⋅m (\\tilde{r}) + 8⋅\\tilde{r}     ⋅\\tilde{\\rho}(\\tilde{r})⋅\\tilde{c}\n",
       "──────────────────────────────────────────────────────────────────────────────\n",
       "                                                                              \n",
       "                                                                              \n",
       "\n",
       "3                        ⎞⎫\n",
       " (\\tilde{r})⋅m(\\tilde{r})⎠⎪\n",
       "──────────────────────────⎬\n",
       "                          ⎪\n",
       "                          ⎭"
      ]
     },
     "execution_count": 38,
     "metadata": {},
     "output_type": "execute_result"
    }
   ],
   "source": [
    "m = sympy.Symbol('m') # Mach number\n",
    "temp = [dimles_mass_conservation,\n",
    "        dimles_momentum_conservation,\n",
    "        dimles_energy_conservation]\n",
    "temp = [itm.subs(tilde_u(tilde_r), tilde_c(tilde_r)*m(tilde_r)) for itm in temp]\n",
    "temp = [itm.subs(tilde_p(tilde_r), tilde_rho(tilde_r)*tilde_c(tilde_r)**2/gamma) for itm in temp]\n",
    "temp = [itm.doit() for itm in temp]\n",
    "isolated_odes = sympy.solve(temp, [m(tilde_r).diff(tilde_r),\n",
    "                                   tilde_c(tilde_r).diff(tilde_r),\n",
    "                                   tilde_rho(tilde_r).diff(tilde_r)])\n",
    "isolated_odes"
   ]
  },
  {
   "cell_type": "markdown",
   "metadata": {},
   "source": [
    "Determining the values of the variables at the sonic point"
   ]
  },
  {
   "cell_type": "code",
   "execution_count": 44,
   "metadata": {
    "collapsed": true
   },
   "outputs": [],
   "source": [
    "temp = integral_energy_conservation\n",
    "temp = temp.subs(tilde_u(tilde_r), tilde_c(tilde_r))\n",
    "raw_sonic_point_sound_speed = sympy.solve(temp, tilde_c(tilde_r))[1]"
   ]
  },
  {
   "cell_type": "code",
   "execution_count": 237,
   "metadata": {
    "collapsed": true
   },
   "outputs": [],
   "source": [
    "temp = integral_mass_conservation.subs(tilde_u(tilde_r), tilde_c(tilde_r))\n",
    "temp = temp.subs(tilde_c(tilde_r), raw_sonic_point_sound_speed)\n",
    "raw_sonic_point_density = sympy.solve(temp, tilde_rho(tilde_r))[0].simplify()"
   ]
  },
  {
   "cell_type": "code",
   "execution_count": 133,
   "metadata": {
    "collapsed": true
   },
   "outputs": [],
   "source": [
    "temp = tilde_rho(tilde_r).diff(tilde_r)\n",
    "temp = temp.subs(isolated_odes)\n",
    "temp = sympy.fraction(temp)[0]\n",
    "temp = temp.subs(tilde_rho(tilde_r), raw_sonic_point_density)\n",
    "temp = temp.subs(tilde_c(tilde_r), raw_sonic_point_sound_speed)\n",
    "temp = temp.subs(m(tilde_r), 1)\n",
    "temp = temp*tilde_r**(eta+2)\n",
    "outer_sonic_equation = temp"
   ]
  },
  {
   "cell_type": "markdown",
   "metadata": {},
   "source": [
    "To find the position of the outer sonic point, one must solve this horrible equation"
   ]
  },
  {
   "cell_type": "code",
   "execution_count": 136,
   "metadata": {},
   "outputs": [
    {
     "data": {
      "image/png": "[encoded data removed]",
      "text/latex": [
       "$$38.18699607742566$$"
      ],
      "text/plain": [
       "38.18699607742566"
      ]
     },
     "execution_count": 136,
     "metadata": {},
     "output_type": "execute_result"
    }
   ],
   "source": [
    "def find_outer_sonic_point(gamma_val, eta_val, rst_val):\n",
    "    \n",
    "    from mpmath import findroot\n",
    "    \n",
    "    eqn = outer_sonic_equation\n",
    "    eqn = eqn.subs({eta:eta_val,\n",
    "                   gamma:gamma_val,\n",
    "                   tilde_r_st:rst_val})\n",
    "    deqn = eqn.diff(tilde_r)\n",
    "    eqn = sympy.lambdify(tilde_r, eqn)\n",
    "    deqn = sympy.lambdify(tilde_r, deqn)\n",
    "    return float(findroot(eqn, 10*rst_val, df=deqn))\n",
    "find_outer_sonic_point(4./3., 2.9, 9.1)"
   ]
  },
  {
   "cell_type": "code",
   "execution_count": 140,
   "metadata": {},
   "outputs": [
    {
     "data": {
      "image/png": "[encoded data removed]",
      "text/latex": [
       "$$1.322651174400524$$"
      ],
      "text/plain": [
       "1.322651174400524"
      ]
     },
     "execution_count": 140,
     "metadata": {},
     "output_type": "execute_result"
    }
   ],
   "source": [
    "def find_inner_sonic_point(gamma_val, eta_val, rst_val):\n",
    "    \n",
    "    from mpmath import findroot\n",
    "    \n",
    "    eqn = outer_sonic_equation\n",
    "    eqn = eqn.subs({eta:eta_val,\n",
    "                   gamma:gamma_val,\n",
    "                   tilde_r_st:rst_val})\n",
    "    deqn = eqn.diff(tilde_r)\n",
    "    eqn = sympy.lambdify(tilde_r, eqn)\n",
    "    deqn = sympy.lambdify(tilde_r, deqn)\n",
    "    return float(findroot(eqn, 0.1*rst_val, df=deqn))\n",
    "find_inner_sonic_point(4./3., 2.9, 9.1)"
   ]
  },
  {
   "cell_type": "markdown",
   "metadata": {},
   "source": [
    "Integration from the sonic point to the stagnation point"
   ]
  },
  {
   "cell_type": "code",
   "execution_count": 241,
   "metadata": {},
   "outputs": [
    {
     "data": {
      "application/javascript": [
       "/* Put everything inside the global mpl namespace */\n",
       "window.mpl = {};\n",
       "\n",
       "\n",
       "mpl.get_websocket_type = function() {\n",
       "    if (typeof(WebSocket) !== 'undefined') {\n",
       "        return WebSocket;\n",
       "    } else if (typeof(MozWebSocket) !== 'undefined') {\n",
       "        return MozWebSocket;\n",
       "    } else {\n",
       "        alert('Your browser does not have WebSocket support.' +\n",
       "              'Please try Chrome, Safari or Firefox ≥ 6. ' +\n",
       "              'Firefox 4 and 5 are also supported but you ' +\n",
       "              'have to enable WebSockets in about:config.');\n",
       "    };\n",
       "}\n",
       "\n",
       "mpl.figure = function(figure_id, websocket, ondownload, parent_element) {\n",
       "    this.id = figure_id;\n",
       "\n",
       "    this.ws = websocket;\n",
       "\n",
       "    this.supports_binary = (this.ws.binaryType != undefined);\n",
       "\n",
       "    if (!this.supports_binary) {\n",
       "        var warnings = document.getElementById(\"mpl-warnings\");\n",
       "        if (warnings) {\n",
       "            warnings.style.display = 'block';\n",
       "            warnings.textContent = (\n",
       "                \"This browser does not support binary websocket messages. \" +\n",
       "                    \"Performance may be slow.\");\n",
       "        }\n",
       "    }\n",
       "\n",
       "    this.imageObj = new Image();\n",
       "\n",
       "    this.context = undefined;\n",
       "    this.message = undefined;\n",
       "    this.canvas = undefined;\n",
       "    this.rubberband_canvas = undefined;\n",
       "    this.rubberband_context = undefined;\n",
       "    this.format_dropdown = undefined;\n",
       "\n",
       "    this.image_mode = 'full';\n",
       "\n",
       "    this.root = $('<div/>');\n",
       "    this._root_extra_style(this.root)\n",
       "    this.root.attr('style', 'display: inline-block');\n",
       "\n",
       "    $(parent_element).append(this.root);\n",
       "\n",
       "    this._init_header(this);\n",
       "    this._init_canvas(this);\n",
       "    this._init_toolbar(this);\n",
       "\n",
       "    var fig = this;\n",
       "\n",
       "    this.waiting = false;\n",
       "\n",
       "    this.ws.onopen =  function () {\n",
       "            fig.send_message(\"supports_binary\", {value: fig.supports_binary});\n",
       "            fig.send_message(\"send_image_mode\", {});\n",
       "            if (mpl.ratio != 1) {\n",
       "                fig.send_message(\"set_dpi_ratio\", {'dpi_ratio': mpl.ratio});\n",
       "            }\n",
       "            fig.send_message(\"refresh\", {});\n",
       "        }\n",
       "\n",
       "    this.imageObj.onload = function() {\n",
       "            if (fig.image_mode == 'full') {\n",
       "                // Full images could contain transparency (where diff images\n",
       "                // almost always do), so we need to clear the canvas so that\n",
       "                // there is no ghosting.\n",
       "                fig.context.clearRect(0, 0, fig.canvas.width, fig.canvas.height);\n",
       "            }\n",
       "            fig.context.drawImage(fig.imageObj, 0, 0);\n",
       "        };\n",
       "\n",
       "    this.imageObj.onunload = function() {\n",
       "        fig.ws.close();\n",
       "    }\n",
       "\n",
       "    this.ws.onmessage = this._make_on_message_function(this);\n",
       "\n",
       "    this.ondownload = ondownload;\n",
       "}\n",
       "\n",
       "mpl.figure.prototype._init_header = function() {\n",
       "    var titlebar = $(\n",
       "        '<div class=\"ui-dialog-titlebar ui-widget-header ui-corner-all ' +\n",
       "        'ui-helper-clearfix\"/>');\n",
       "    var titletext = $(\n",
       "        '<div class=\"ui-dialog-title\" style=\"width: 100%; ' +\n",
       "        'text-align: center; padding: 3px;\"/>');\n",
       "    titlebar.append(titletext)\n",
       "    this.root.append(titlebar);\n",
       "    this.header = titletext[0];\n",
       "}\n",
       "\n",
       "\n",
       "\n",
       "mpl.figure.prototype._canvas_extra_style = function(canvas_div) {\n",
       "\n",
       "}\n",
       "\n",
       "\n",
       "mpl.figure.prototype._root_extra_style = function(canvas_div) {\n",
       "\n",
       "}\n",
       "\n",
       "mpl.figure.prototype._init_canvas = function() {\n",
       "    var fig = this;\n",
       "\n",
       "    var canvas_div = $('<div/>');\n",
       "\n",
       "    canvas_div.attr('style', 'position: relative; clear: both; outline: 0');\n",
       "\n",
       "    function canvas_keyboard_event(event) {\n",
       "        return fig.key_event(event, event['data']);\n",
       "    }\n",
       "\n",
       "    canvas_div.keydown('key_press', canvas_keyboard_event);\n",
       "    canvas_div.keyup('key_release', canvas_keyboard_event);\n",
       "    this.canvas_div = canvas_div\n",
       "    this._canvas_extra_style(canvas_div)\n",
       "    this.root.append(canvas_div);\n",
       "\n",
       "    var canvas = $('<canvas/>');\n",
       "    canvas.addClass('mpl-canvas');\n",
       "    canvas.attr('style', \"left: 0; top: 0; z-index: 0; outline: 0\")\n",
       "\n",
       "    this.canvas = canvas[0];\n",
       "    this.context = canvas[0].getContext(\"2d\");\n",
       "\n",
       "    var backingStore = this.context.backingStorePixelRatio ||\n",
       "\tthis.context.webkitBackingStorePixelRatio ||\n",
       "\tthis.context.mozBackingStorePixelRatio ||\n",
       "\tthis.context.msBackingStorePixelRatio ||\n",
       "\tthis.context.oBackingStorePixelRatio ||\n",
       "\tthis.context.backingStorePixelRatio || 1;\n",
       "\n",
       "    mpl.ratio = (window.devicePixelRatio || 1) / backingStore;\n",
       "\n",
       "    var rubberband = $('<canvas/>');\n",
       "    rubberband.attr('style', \"position: absolute; left: 0; top: 0; z-index: 1;\")\n",
       "\n",
       "    var pass_mouse_events = true;\n",
       "\n",
       "    canvas_div.resizable({\n",
       "        start: function(event, ui) {\n",
       "            pass_mouse_events = false;\n",
       "        },\n",
       "        resize: function(event, ui) {\n",
       "            fig.request_resize(ui.size.width, ui.size.height);\n",
       "        },\n",
       "        stop: function(event, ui) {\n",
       "            pass_mouse_events = true;\n",
       "            fig.request_resize(ui.size.width, ui.size.height);\n",
       "        },\n",
       "    });\n",
       "\n",
       "    function mouse_event_fn(event) {\n",
       "        if (pass_mouse_events)\n",
       "            return fig.mouse_event(event, event['data']);\n",
       "    }\n",
       "\n",
       "    rubberband.mousedown('button_press', mouse_event_fn);\n",
       "    rubberband.mouseup('button_release', mouse_event_fn);\n",
       "    // Throttle sequential mouse events to 1 every 20ms.\n",
       "    rubberband.mousemove('motion_notify', mouse_event_fn);\n",
       "\n",
       "    rubberband.mouseenter('figure_enter', mouse_event_fn);\n",
       "    rubberband.mouseleave('figure_leave', mouse_event_fn);\n",
       "\n",
       "    canvas_div.on(\"wheel\", function (event) {\n",
       "        event = event.originalEvent;\n",
       "        event['data'] = 'scroll'\n",
       "        if (event.deltaY < 0) {\n",
       "            event.step = 1;\n",
       "        } else {\n",
       "            event.step = -1;\n",
       "        }\n",
       "        mouse_event_fn(event);\n",
       "    });\n",
       "\n",
       "    canvas_div.append(canvas);\n",
       "    canvas_div.append(rubberband);\n",
       "\n",
       "    this.rubberband = rubberband;\n",
       "    this.rubberband_canvas = rubberband[0];\n",
       "    this.rubberband_context = rubberband[0].getContext(\"2d\");\n",
       "    this.rubberband_context.strokeStyle = \"#000000\";\n",
       "\n",
       "    this._resize_canvas = function(width, height) {\n",
       "        // Keep the size of the canvas, canvas container, and rubber band\n",
       "        // canvas in synch.\n",
       "        canvas_div.css('width', width)\n",
       "        canvas_div.css('height', height)\n",
       "\n",
       "        canvas.attr('width', width * mpl.ratio);\n",
       "        canvas.attr('height', height * mpl.ratio);\n",
       "        canvas.attr('style', 'width: ' + width + 'px; height: ' + height + 'px;');\n",
       "\n",
       "        rubberband.attr('width', width);\n",
       "        rubberband.attr('height', height);\n",
       "    }\n",
       "\n",
       "    // Set the figure to an initial 600x600px, this will subsequently be updated\n",
       "    // upon first draw.\n",
       "    this._resize_canvas(600, 600);\n",
       "\n",
       "    // Disable right mouse context menu.\n",
       "    $(this.rubberband_canvas).bind(\"contextmenu\",function(e){\n",
       "        return false;\n",
       "    });\n",
       "\n",
       "    function set_focus () {\n",
       "        canvas.focus();\n",
       "        canvas_div.focus();\n",
       "    }\n",
       "\n",
       "    window.setTimeout(set_focus, 100);\n",
       "}\n",
       "\n",
       "mpl.figure.prototype._init_toolbar = function() {\n",
       "    var fig = this;\n",
       "\n",
       "    var nav_element = $('<div/>')\n",
       "    nav_element.attr('style', 'width: 100%');\n",
       "    this.root.append(nav_element);\n",
       "\n",
       "    // Define a callback function for later on.\n",
       "    function toolbar_event(event) {\n",
       "        return fig.toolbar_button_onclick(event['data']);\n",
       "    }\n",
       "    function toolbar_mouse_event(event) {\n",
       "        return fig.toolbar_button_onmouseover(event['data']);\n",
       "    }\n",
       "\n",
       "    for(var toolbar_ind in mpl.toolbar_items) {\n",
       "        var name = mpl.toolbar_items[toolbar_ind][0];\n",
       "        var tooltip = mpl.toolbar_items[toolbar_ind][1];\n",
       "        var image = mpl.toolbar_items[toolbar_ind][2];\n",
       "        var method_name = mpl.toolbar_items[toolbar_ind][3];\n",
       "\n",
       "        if (!name) {\n",
       "            // put a spacer in here.\n",
       "            continue;\n",
       "        }\n",
       "        var button = $('<button/>');\n",
       "        button.addClass('ui-button ui-widget ui-state-default ui-corner-all ' +\n",
       "                        'ui-button-icon-only');\n",
       "        button.attr('role', 'button');\n",
       "        button.attr('aria-disabled', 'false');\n",
       "        button.click(method_name, toolbar_event);\n",
       "        button.mouseover(tooltip, toolbar_mouse_event);\n",
       "\n",
       "        var icon_img = $('<span/>');\n",
       "        icon_img.addClass('ui-button-icon-primary ui-icon');\n",
       "        icon_img.addClass(image);\n",
       "        icon_img.addClass('ui-corner-all');\n",
       "\n",
       "        var tooltip_span = $('<span/>');\n",
       "        tooltip_span.addClass('ui-button-text');\n",
       "        tooltip_span.html(tooltip);\n",
       "\n",
       "        button.append(icon_img);\n",
       "        button.append(tooltip_span);\n",
       "\n",
       "        nav_element.append(button);\n",
       "    }\n",
       "\n",
       "    var fmt_picker_span = $('<span/>');\n",
       "\n",
       "    var fmt_picker = $('<select/>');\n",
       "    fmt_picker.addClass('mpl-toolbar-option ui-widget ui-widget-content');\n",
       "    fmt_picker_span.append(fmt_picker);\n",
       "    nav_element.append(fmt_picker_span);\n",
       "    this.format_dropdown = fmt_picker[0];\n",
       "\n",
       "    for (var ind in mpl.extensions) {\n",
       "        var fmt = mpl.extensions[ind];\n",
       "        var option = $(\n",
       "            '<option/>', {selected: fmt === mpl.default_extension}).html(fmt);\n",
       "        fmt_picker.append(option)\n",
       "    }\n",
       "\n",
       "    // Add hover states to the ui-buttons\n",
       "    $( \".ui-button\" ).hover(\n",
       "        function() { $(this).addClass(\"ui-state-hover\");},\n",
       "        function() { $(this).removeClass(\"ui-state-hover\");}\n",
       "    );\n",
       "\n",
       "    var status_bar = $('<span class=\"mpl-message\"/>');\n",
       "    nav_element.append(status_bar);\n",
       "    this.message = status_bar[0];\n",
       "}\n",
       "\n",
       "mpl.figure.prototype.request_resize = function(x_pixels, y_pixels) {\n",
       "    // Request matplotlib to resize the figure. Matplotlib will then trigger a resize in the client,\n",
       "    // which will in turn request a refresh of the image.\n",
       "    this.send_message('resize', {'width': x_pixels, 'height': y_pixels});\n",
       "}\n",
       "\n",
       "mpl.figure.prototype.send_message = function(type, properties) {\n",
       "    properties['type'] = type;\n",
       "    properties['figure_id'] = this.id;\n",
       "    this.ws.send(JSON.stringify(properties));\n",
       "}\n",
       "\n",
       "mpl.figure.prototype.send_draw_message = function() {\n",
       "    if (!this.waiting) {\n",
       "        this.waiting = true;\n",
       "        this.ws.send(JSON.stringify({type: \"draw\", figure_id: this.id}));\n",
       "    }\n",
       "}\n",
       "\n",
       "\n",
       "mpl.figure.prototype.handle_save = function(fig, msg) {\n",
       "    var format_dropdown = fig.format_dropdown;\n",
       "    var format = format_dropdown.options[format_dropdown.selectedIndex].value;\n",
       "    fig.ondownload(fig, format);\n",
       "}\n",
       "\n",
       "\n",
       "mpl.figure.prototype.handle_resize = function(fig, msg) {\n",
       "    var size = msg['size'];\n",
       "    if (size[0] != fig.canvas.width || size[1] != fig.canvas.height) {\n",
       "        fig._resize_canvas(size[0], size[1]);\n",
       "        fig.send_message(\"refresh\", {});\n",
       "    };\n",
       "}\n",
       "\n",
       "mpl.figure.prototype.handle_rubberband = function(fig, msg) {\n",
       "    var x0 = msg['x0'] / mpl.ratio;\n",
       "    var y0 = (fig.canvas.height - msg['y0']) / mpl.ratio;\n",
       "    var x1 = msg['x1'] / mpl.ratio;\n",
       "    var y1 = (fig.canvas.height - msg['y1']) / mpl.ratio;\n",
       "    x0 = Math.floor(x0) + 0.5;\n",
       "    y0 = Math.floor(y0) + 0.5;\n",
       "    x1 = Math.floor(x1) + 0.5;\n",
       "    y1 = Math.floor(y1) + 0.5;\n",
       "    var min_x = Math.min(x0, x1);\n",
       "    var min_y = Math.min(y0, y1);\n",
       "    var width = Math.abs(x1 - x0);\n",
       "    var height = Math.abs(y1 - y0);\n",
       "\n",
       "    fig.rubberband_context.clearRect(\n",
       "        0, 0, fig.canvas.width, fig.canvas.height);\n",
       "\n",
       "    fig.rubberband_context.strokeRect(min_x, min_y, width, height);\n",
       "}\n",
       "\n",
       "mpl.figure.prototype.handle_figure_label = function(fig, msg) {\n",
       "    // Updates the figure title.\n",
       "    fig.header.textContent = msg['label'];\n",
       "}\n",
       "\n",
       "mpl.figure.prototype.handle_cursor = function(fig, msg) {\n",
       "    var cursor = msg['cursor'];\n",
       "    switch(cursor)\n",
       "    {\n",
       "    case 0:\n",
       "        cursor = 'pointer';\n",
       "        break;\n",
       "    case 1:\n",
       "        cursor = 'default';\n",
       "        break;\n",
       "    case 2:\n",
       "        cursor = 'crosshair';\n",
       "        break;\n",
       "    case 3:\n",
       "        cursor = 'move';\n",
       "        break;\n",
       "    }\n",
       "    fig.rubberband_canvas.style.cursor = cursor;\n",
       "}\n",
       "\n",
       "mpl.figure.prototype.handle_message = function(fig, msg) {\n",
       "    fig.message.textContent = msg['message'];\n",
       "}\n",
       "\n",
       "mpl.figure.prototype.handle_draw = function(fig, msg) {\n",
       "    // Request the server to send over a new figure.\n",
       "    fig.send_draw_message();\n",
       "}\n",
       "\n",
       "mpl.figure.prototype.handle_image_mode = function(fig, msg) {\n",
       "    fig.image_mode = msg['mode'];\n",
       "}\n",
       "\n",
       "mpl.figure.prototype.updated_canvas_event = function() {\n",
       "    // Called whenever the canvas gets updated.\n",
       "    this.send_message(\"ack\", {});\n",
       "}\n",
       "\n",
       "// A function to construct a web socket function for onmessage handling.\n",
       "// Called in the figure constructor.\n",
       "mpl.figure.prototype._make_on_message_function = function(fig) {\n",
       "    return function socket_on_message(evt) {\n",
       "        if (evt.data instanceof Blob) {\n",
       "            /* FIXME: We get \"Resource interpreted as Image but\n",
       "             * transferred with MIME type text/plain:\" errors on\n",
       "             * Chrome.  But how to set the MIME type?  It doesn't seem\n",
       "             * to be part of the websocket stream */\n",
       "            evt.data.type = \"image/png\";\n",
       "\n",
       "            /* Free the memory for the previous frames */\n",
       "            if (fig.imageObj.src) {\n",
       "                (window.URL || window.webkitURL).revokeObjectURL(\n",
       "                    fig.imageObj.src);\n",
       "            }\n",
       "\n",
       "            fig.imageObj.src = (window.URL || window.webkitURL).createObjectURL(\n",
       "                evt.data);\n",
       "            fig.updated_canvas_event();\n",
       "            fig.waiting = false;\n",
       "            return;\n",
       "        }\n",
       "        else if (typeof evt.data === 'string' && evt.data.slice(0, 21) == \"data:image/png;base64\") {\n",
       "            fig.imageObj.src = evt.data;\n",
       "            fig.updated_canvas_event();\n",
       "            fig.waiting = false;\n",
       "            return;\n",
       "        }\n",
       "\n",
       "        var msg = JSON.parse(evt.data);\n",
       "        var msg_type = msg['type'];\n",
       "\n",
       "        // Call the  \"handle_{type}\" callback, which takes\n",
       "        // the figure and JSON message as its only arguments.\n",
       "        try {\n",
       "            var callback = fig[\"handle_\" + msg_type];\n",
       "        } catch (e) {\n",
       "            console.log(\"No handler for the '\" + msg_type + \"' message type: \", msg);\n",
       "            return;\n",
       "        }\n",
       "\n",
       "        if (callback) {\n",
       "            try {\n",
       "                // console.log(\"Handling '\" + msg_type + \"' message: \", msg);\n",
       "                callback(fig, msg);\n",
       "            } catch (e) {\n",
       "                console.log(\"Exception inside the 'handler_\" + msg_type + \"' callback:\", e, e.stack, msg);\n",
       "            }\n",
       "        }\n",
       "    };\n",
       "}\n",
       "\n",
       "// from http://stackoverflow.com/questions/1114465/getting-mouse-location-in-canvas\n",
       "mpl.findpos = function(e) {\n",
       "    //this section is from http://www.quirksmode.org/js/events_properties.html\n",
       "    var targ;\n",
       "    if (!e)\n",
       "        e = window.event;\n",
       "    if (e.target)\n",
       "        targ = e.target;\n",
       "    else if (e.srcElement)\n",
       "        targ = e.srcElement;\n",
       "    if (targ.nodeType == 3) // defeat Safari bug\n",
       "        targ = targ.parentNode;\n",
       "\n",
       "    // jQuery normalizes the pageX and pageY\n",
       "    // pageX,Y are the mouse positions relative to the document\n",
       "    // offset() returns the position of the element relative to the document\n",
       "    var x = e.pageX - $(targ).offset().left;\n",
       "    var y = e.pageY - $(targ).offset().top;\n",
       "\n",
       "    return {\"x\": x, \"y\": y};\n",
       "};\n",
       "\n",
       "/*\n",
       " * return a copy of an object with only non-object keys\n",
       " * we need this to avoid circular references\n",
       " * http://stackoverflow.com/a/24161582/3208463\n",
       " */\n",
       "function simpleKeys (original) {\n",
       "  return Object.keys(original).reduce(function (obj, key) {\n",
       "    if (typeof original[key] !== 'object')\n",
       "        obj[key] = original[key]\n",
       "    return obj;\n",
       "  }, {});\n",
       "}\n",
       "\n",
       "mpl.figure.prototype.mouse_event = function(event, name) {\n",
       "    var canvas_pos = mpl.findpos(event)\n",
       "\n",
       "    if (name === 'button_press')\n",
       "    {\n",
       "        this.canvas.focus();\n",
       "        this.canvas_div.focus();\n",
       "    }\n",
       "\n",
       "    var x = canvas_pos.x * mpl.ratio;\n",
       "    var y = canvas_pos.y * mpl.ratio;\n",
       "\n",
       "    this.send_message(name, {x: x, y: y, button: event.button,\n",
       "                             step: event.step,\n",
       "                             guiEvent: simpleKeys(event)});\n",
       "\n",
       "    /* This prevents the web browser from automatically changing to\n",
       "     * the text insertion cursor when the button is pressed.  We want\n",
       "     * to control all of the cursor setting manually through the\n",
       "     * 'cursor' event from matplotlib */\n",
       "    event.preventDefault();\n",
       "    return false;\n",
       "}\n",
       "\n",
       "mpl.figure.prototype._key_event_extra = function(event, name) {\n",
       "    // Handle any extra behaviour associated with a key event\n",
       "}\n",
       "\n",
       "mpl.figure.prototype.key_event = function(event, name) {\n",
       "\n",
       "    // Prevent repeat events\n",
       "    if (name == 'key_press')\n",
       "    {\n",
       "        if (event.which === this._key)\n",
       "            return;\n",
       "        else\n",
       "            this._key = event.which;\n",
       "    }\n",
       "    if (name == 'key_release')\n",
       "        this._key = null;\n",
       "\n",
       "    var value = '';\n",
       "    if (event.ctrlKey && event.which != 17)\n",
       "        value += \"ctrl+\";\n",
       "    if (event.altKey && event.which != 18)\n",
       "        value += \"alt+\";\n",
       "    if (event.shiftKey && event.which != 16)\n",
       "        value += \"shift+\";\n",
       "\n",
       "    value += 'k';\n",
       "    value += event.which.toString();\n",
       "\n",
       "    this._key_event_extra(event, name);\n",
       "\n",
       "    this.send_message(name, {key: value,\n",
       "                             guiEvent: simpleKeys(event)});\n",
       "    return false;\n",
       "}\n",
       "\n",
       "mpl.figure.prototype.toolbar_button_onclick = function(name) {\n",
       "    if (name == 'download') {\n",
       "        this.handle_save(this, null);\n",
       "    } else {\n",
       "        this.send_message(\"toolbar_button\", {name: name});\n",
       "    }\n",
       "};\n",
       "\n",
       "mpl.figure.prototype.toolbar_button_onmouseover = function(tooltip) {\n",
       "    this.message.textContent = tooltip;\n",
       "};\n",
       "mpl.toolbar_items = [[\"Home\", \"Reset original view\", \"fa fa-home icon-home\", \"home\"], [\"Back\", \"Back to  previous view\", \"fa fa-arrow-left icon-arrow-left\", \"back\"], [\"Forward\", \"Forward to next view\", \"fa fa-arrow-right icon-arrow-right\", \"forward\"], [\"\", \"\", \"\", \"\"], [\"Pan\", \"Pan axes with left mouse, zoom with right\", \"fa fa-arrows icon-move\", \"pan\"], [\"Zoom\", \"Zoom to rectangle\", \"fa fa-square-o icon-check-empty\", \"zoom\"], [\"\", \"\", \"\", \"\"], [\"Download\", \"Download plot\", \"fa fa-floppy-o icon-save\", \"download\"]];\n",
       "\n",
       "mpl.extensions = [\"eps\", \"jpeg\", \"pdf\", \"png\", \"ps\", \"raw\", \"svg\", \"tif\"];\n",
       "\n",
       "mpl.default_extension = \"png\";var comm_websocket_adapter = function(comm) {\n",
       "    // Create a \"websocket\"-like object which calls the given IPython comm\n",
       "    // object with the appropriate methods. Currently this is a non binary\n",
       "    // socket, so there is still some room for performance tuning.\n",
       "    var ws = {};\n",
       "\n",
       "    ws.close = function() {\n",
       "        comm.close()\n",
       "    };\n",
       "    ws.send = function(m) {\n",
       "        //console.log('sending', m);\n",
       "        comm.send(m);\n",
       "    };\n",
       "    // Register the callback with on_msg.\n",
       "    comm.on_msg(function(msg) {\n",
       "        //console.log('receiving', msg['content']['data'], msg);\n",
       "        // Pass the mpl event to the overriden (by mpl) onmessage function.\n",
       "        ws.onmessage(msg['content']['data'])\n",
       "    });\n",
       "    return ws;\n",
       "}\n",
       "\n",
       "mpl.mpl_figure_comm = function(comm, msg) {\n",
       "    // This is the function which gets called when the mpl process\n",
       "    // starts-up an IPython Comm through the \"matplotlib\" channel.\n",
       "\n",
       "    var id = msg.content.data.id;\n",
       "    // Get hold of the div created by the display call when the Comm\n",
       "    // socket was opened in Python.\n",
       "    var element = $(\"#\" + id);\n",
       "    var ws_proxy = comm_websocket_adapter(comm)\n",
       "\n",
       "    function ondownload(figure, format) {\n",
       "        window.open(figure.imageObj.src);\n",
       "    }\n",
       "\n",
       "    var fig = new mpl.figure(id, ws_proxy,\n",
       "                           ondownload,\n",
       "                           element.get(0));\n",
       "\n",
       "    // Call onopen now - mpl needs it, as it is assuming we've passed it a real\n",
       "    // web socket which is closed, not our websocket->open comm proxy.\n",
       "    ws_proxy.onopen();\n",
       "\n",
       "    fig.parent_element = element.get(0);\n",
       "    fig.cell_info = mpl.find_output_cell(\"<div id='\" + id + \"'></div>\");\n",
       "    if (!fig.cell_info) {\n",
       "        console.error(\"Failed to find cell for figure\", id, fig);\n",
       "        return;\n",
       "    }\n",
       "\n",
       "    var output_index = fig.cell_info[2]\n",
       "    var cell = fig.cell_info[0];\n",
       "\n",
       "};\n",
       "\n",
       "mpl.figure.prototype.handle_close = function(fig, msg) {\n",
       "    var width = fig.canvas.width/mpl.ratio\n",
       "    fig.root.unbind('remove')\n",
       "\n",
       "    // Update the output cell to use the data from the current canvas.\n",
       "    fig.push_to_output();\n",
       "    var dataURL = fig.canvas.toDataURL();\n",
       "    // Re-enable the keyboard manager in IPython - without this line, in FF,\n",
       "    // the notebook keyboard shortcuts fail.\n",
       "    IPython.keyboard_manager.enable()\n",
       "    $(fig.parent_element).html('<img src=\"' + dataURL + '\" width=\"' + width + '\">');\n",
       "    fig.close_ws(fig, msg);\n",
       "}\n",
       "\n",
       "mpl.figure.prototype.close_ws = function(fig, msg){\n",
       "    fig.send_message('closing', msg);\n",
       "    // fig.ws.close()\n",
       "}\n",
       "\n",
       "mpl.figure.prototype.push_to_output = function(remove_interactive) {\n",
       "    // Turn the data on the canvas into data in the output cell.\n",
       "    var width = this.canvas.width/mpl.ratio\n",
       "    var dataURL = this.canvas.toDataURL();\n",
       "    this.cell_info[1]['text/html'] = '<img src=\"' + dataURL + '\" width=\"' + width + '\">';\n",
       "}\n",
       "\n",
       "mpl.figure.prototype.updated_canvas_event = function() {\n",
       "    // Tell IPython that the notebook contents must change.\n",
       "    IPython.notebook.set_dirty(true);\n",
       "    this.send_message(\"ack\", {});\n",
       "    var fig = this;\n",
       "    // Wait a second, then push the new image to the DOM so\n",
       "    // that it is saved nicely (might be nice to debounce this).\n",
       "    setTimeout(function () { fig.push_to_output() }, 1000);\n",
       "}\n",
       "\n",
       "mpl.figure.prototype._init_toolbar = function() {\n",
       "    var fig = this;\n",
       "\n",
       "    var nav_element = $('<div/>')\n",
       "    nav_element.attr('style', 'width: 100%');\n",
       "    this.root.append(nav_element);\n",
       "\n",
       "    // Define a callback function for later on.\n",
       "    function toolbar_event(event) {\n",
       "        return fig.toolbar_button_onclick(event['data']);\n",
       "    }\n",
       "    function toolbar_mouse_event(event) {\n",
       "        return fig.toolbar_button_onmouseover(event['data']);\n",
       "    }\n",
       "\n",
       "    for(var toolbar_ind in mpl.toolbar_items){\n",
       "        var name = mpl.toolbar_items[toolbar_ind][0];\n",
       "        var tooltip = mpl.toolbar_items[toolbar_ind][1];\n",
       "        var image = mpl.toolbar_items[toolbar_ind][2];\n",
       "        var method_name = mpl.toolbar_items[toolbar_ind][3];\n",
       "\n",
       "        if (!name) { continue; };\n",
       "\n",
       "        var button = $('<button class=\"btn btn-default\" href=\"#\" title=\"' + name + '\"><i class=\"fa ' + image + ' fa-lg\"></i></button>');\n",
       "        button.click(method_name, toolbar_event);\n",
       "        button.mouseover(tooltip, toolbar_mouse_event);\n",
       "        nav_element.append(button);\n",
       "    }\n",
       "\n",
       "    // Add the status bar.\n",
       "    var status_bar = $('<span class=\"mpl-message\" style=\"text-align:right; float: right;\"/>');\n",
       "    nav_element.append(status_bar);\n",
       "    this.message = status_bar[0];\n",
       "\n",
       "    // Add the close button to the window.\n",
       "    var buttongrp = $('<div class=\"btn-group inline pull-right\"></div>');\n",
       "    var button = $('<button class=\"btn btn-mini btn-primary\" href=\"#\" title=\"Stop Interaction\"><i class=\"fa fa-power-off icon-remove icon-large\"></i></button>');\n",
       "    button.click(function (evt) { fig.handle_close(fig, {}); } );\n",
       "    button.mouseover('Stop Interaction', toolbar_mouse_event);\n",
       "    buttongrp.append(button);\n",
       "    var titlebar = this.root.find($('.ui-dialog-titlebar'));\n",
       "    titlebar.prepend(buttongrp);\n",
       "}\n",
       "\n",
       "mpl.figure.prototype._root_extra_style = function(el){\n",
       "    var fig = this\n",
       "    el.on(\"remove\", function(){\n",
       "\tfig.close_ws(fig, {});\n",
       "    });\n",
       "}\n",
       "\n",
       "mpl.figure.prototype._canvas_extra_style = function(el){\n",
       "    // this is important to make the div 'focusable\n",
       "    el.attr('tabindex', 0)\n",
       "    // reach out to IPython and tell the keyboard manager to turn it's self\n",
       "    // off when our div gets focus\n",
       "\n",
       "    // location in version 3\n",
       "    if (IPython.notebook.keyboard_manager) {\n",
       "        IPython.notebook.keyboard_manager.register_events(el);\n",
       "    }\n",
       "    else {\n",
       "        // location in version 2\n",
       "        IPython.keyboard_manager.register_events(el);\n",
       "    }\n",
       "\n",
       "}\n",
       "\n",
       "mpl.figure.prototype._key_event_extra = function(event, name) {\n",
       "    var manager = IPython.notebook.keyboard_manager;\n",
       "    if (!manager)\n",
       "        manager = IPython.keyboard_manager;\n",
       "\n",
       "    // Check for shift+enter\n",
       "    if (event.shiftKey && event.which == 13) {\n",
       "        this.canvas_div.blur();\n",
       "        event.shiftKey = false;\n",
       "        // Send a \"J\" for go to next cell\n",
       "        event.which = 74;\n",
       "        event.keyCode = 74;\n",
       "        manager.command_mode();\n",
       "        manager.handle_keydown(event);\n",
       "    }\n",
       "}\n",
       "\n",
       "mpl.figure.prototype.handle_save = function(fig, msg) {\n",
       "    fig.ondownload(fig, null);\n",
       "}\n",
       "\n",
       "\n",
       "mpl.find_output_cell = function(html_output) {\n",
       "    // Return the cell and output element which can be found *uniquely* in the notebook.\n",
       "    // Note - this is a bit hacky, but it is done because the \"notebook_saving.Notebook\"\n",
       "    // IPython event is triggered only after the cells have been serialised, which for\n",
       "    // our purposes (turning an active figure into a static one), is too late.\n",
       "    var cells = IPython.notebook.get_cells();\n",
       "    var ncells = cells.length;\n",
       "    for (var i=0; i<ncells; i++) {\n",
       "        var cell = cells[i];\n",
       "        if (cell.cell_type === 'code'){\n",
       "            for (var j=0; j<cell.output_area.outputs.length; j++) {\n",
       "                var data = cell.output_area.outputs[j];\n",
       "                if (data.data) {\n",
       "                    // IPython >= 3 moved mimebundle to data attribute of output\n",
       "                    data = data.data;\n",
       "                }\n",
       "                if (data['text/html'] == html_output) {\n",
       "                    return [cell, data, j];\n",
       "                }\n",
       "            }\n",
       "        }\n",
       "    }\n",
       "}\n",
       "\n",
       "// Register the function which deals with the matplotlib target/channel.\n",
       "// The kernel may be null if the page has been refreshed.\n",
       "if (IPython.notebook.kernel != null) {\n",
       "    IPython.notebook.kernel.comm_manager.register_target('matplotlib', mpl.mpl_figure_comm);\n",
       "}\n"
      ],
      "text/plain": [
       "<IPython.core.display.Javascript object>"
      ]
     },
     "metadata": {},
     "output_type": "display_data"
    },
    {
     "data": {
      "text/html": [
       "<img src=\"data:image/png;base64,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\" width=\"640\">"
      ],
      "text/plain": [
       "<IPython.core.display.HTML object>"
      ]
     },
     "metadata": {},
     "output_type": "display_data"
    }
   ],
   "source": [
    "def integrate_outer(gamma_val, eta_val, rst_val):\n",
    "    \n",
    "    from scipy.integrate import ode\n",
    "    import numpy\n",
    "    \n",
    "    sub_params = {eta:eta_val,\n",
    "                 gamma:gamma_val,\n",
    "                  tilde_r_st:rst_val}\n",
    "    \n",
    "    # Differential equations\n",
    "    hydrodynamic_variables = [m,\n",
    "                             tilde_c,\n",
    "                             tilde_rho]\n",
    "    explicit_odes = [itm(tilde_r).diff(tilde_r) for itm in hydrodynamic_variables]\n",
    "    explicit_odes = [itm.subs(isolated_odes) for itm in explicit_odes]\n",
    "    explicit_odes = [itm.subs(sub_params) for itm in explicit_odes]\n",
    "    for var in hydrodynamic_variables:\n",
    "        explicit_odes = [itm.subs(var(tilde_r), var) for itm in explicit_odes]\n",
    "    raw_deriv_func = sympy.lambdify([tilde_r, m, tilde_c, tilde_rho], explicit_odes)\n",
    "    deriv_wrapper = lambda x,y: raw_deriv_func(x,y[0],y[1],y[2])\n",
    "    \n",
    "    outer_sonic_point = find_outer_sonic_point(gamma_val, eta_val, rst_val)\n",
    "    outer_density = raw_sonic_point_density.subs(sub_params).subs(tilde_r,outer_sonic_point)\n",
    "    outer_sound_speed = raw_sonic_point_sound_speed.subs(sub_params).subs(tilde_r,outer_sonic_point)\n",
    "    r_start_outer = (1.0-1e-3)*outer_sonic_point\n",
    "    r_stop_outer = (1+1e-2)*rst_val\n",
    "    dr_outer = 1e-4*(r_start_outer - r_stop_outer)\n",
    "        \n",
    "    outer_init_cond = [1-1e-3, outer_sound_speed, outer_density]\n",
    "    \n",
    "    integrator = ode(deriv_wrapper)\n",
    "    integrator.set_initial_value(outer_init_cond, r_start_outer)\n",
    "    x_list = []\n",
    "    y_list = []\n",
    "    while integrator.successful() and integrator.t>r_stop_outer:\n",
    "        integrator.integrate(integrator.t - dr_outer)\n",
    "        x_list.append(integrator.t)\n",
    "        y_list.append(integrator.y)\n",
    "    assert(integrator.successful())\n",
    "    x_list = numpy.array(x_list)\n",
    "    y_list = numpy.array(y_list)\n",
    "    return x_list, y_list\n",
    "    \n",
    "import pylab\n",
    "x_list, y_list = integrate_outer(4./3., 2.9, 9.1)\n",
    "%matplotlib notebook\n",
    "pylab.plot(x_list ,y_list.T[0])\n",
    "pylab.xlabel(r'$\\tilde{r}$')\n",
    "pylab.ylabel('Mach number')\n",
    "pass"
   ]
  },
  {
   "cell_type": "code",
   "execution_count": 242,
   "metadata": {},
   "outputs": [
    {
     "data": {
      "application/javascript": [
       "/* Put everything inside the global mpl namespace */\n",
       "window.mpl = {};\n",
       "\n",
       "\n",
       "mpl.get_websocket_type = function() {\n",
       "    if (typeof(WebSocket) !== 'undefined') {\n",
       "        return WebSocket;\n",
       "    } else if (typeof(MozWebSocket) !== 'undefined') {\n",
       "        return MozWebSocket;\n",
       "    } else {\n",
       "        alert('Your browser does not have WebSocket support.' +\n",
       "              'Please try Chrome, Safari or Firefox ≥ 6. ' +\n",
       "              'Firefox 4 and 5 are also supported but you ' +\n",
       "              'have to enable WebSockets in about:config.');\n",
       "    };\n",
       "}\n",
       "\n",
       "mpl.figure = function(figure_id, websocket, ondownload, parent_element) {\n",
       "    this.id = figure_id;\n",
       "\n",
       "    this.ws = websocket;\n",
       "\n",
       "    this.supports_binary = (this.ws.binaryType != undefined);\n",
       "\n",
       "    if (!this.supports_binary) {\n",
       "        var warnings = document.getElementById(\"mpl-warnings\");\n",
       "        if (warnings) {\n",
       "            warnings.style.display = 'block';\n",
       "            warnings.textContent = (\n",
       "                \"This browser does not support binary websocket messages. \" +\n",
       "                    \"Performance may be slow.\");\n",
       "        }\n",
       "    }\n",
       "\n",
       "    this.imageObj = new Image();\n",
       "\n",
       "    this.context = undefined;\n",
       "    this.message = undefined;\n",
       "    this.canvas = undefined;\n",
       "    this.rubberband_canvas = undefined;\n",
       "    this.rubberband_context = undefined;\n",
       "    this.format_dropdown = undefined;\n",
       "\n",
       "    this.image_mode = 'full';\n",
       "\n",
       "    this.root = $('<div/>');\n",
       "    this._root_extra_style(this.root)\n",
       "    this.root.attr('style', 'display: inline-block');\n",
       "\n",
       "    $(parent_element).append(this.root);\n",
       "\n",
       "    this._init_header(this);\n",
       "    this._init_canvas(this);\n",
       "    this._init_toolbar(this);\n",
       "\n",
       "    var fig = this;\n",
       "\n",
       "    this.waiting = false;\n",
       "\n",
       "    this.ws.onopen =  function () {\n",
       "            fig.send_message(\"supports_binary\", {value: fig.supports_binary});\n",
       "            fig.send_message(\"send_image_mode\", {});\n",
       "            if (mpl.ratio != 1) {\n",
       "                fig.send_message(\"set_dpi_ratio\", {'dpi_ratio': mpl.ratio});\n",
       "            }\n",
       "            fig.send_message(\"refresh\", {});\n",
       "        }\n",
       "\n",
       "    this.imageObj.onload = function() {\n",
       "            if (fig.image_mode == 'full') {\n",
       "                // Full images could contain transparency (where diff images\n",
       "                // almost always do), so we need to clear the canvas so that\n",
       "                // there is no ghosting.\n",
       "                fig.context.clearRect(0, 0, fig.canvas.width, fig.canvas.height);\n",
       "            }\n",
       "            fig.context.drawImage(fig.imageObj, 0, 0);\n",
       "        };\n",
       "\n",
       "    this.imageObj.onunload = function() {\n",
       "        fig.ws.close();\n",
       "    }\n",
       "\n",
       "    this.ws.onmessage = this._make_on_message_function(this);\n",
       "\n",
       "    this.ondownload = ondownload;\n",
       "}\n",
       "\n",
       "mpl.figure.prototype._init_header = function() {\n",
       "    var titlebar = $(\n",
       "        '<div class=\"ui-dialog-titlebar ui-widget-header ui-corner-all ' +\n",
       "        'ui-helper-clearfix\"/>');\n",
       "    var titletext = $(\n",
       "        '<div class=\"ui-dialog-title\" style=\"width: 100%; ' +\n",
       "        'text-align: center; padding: 3px;\"/>');\n",
       "    titlebar.append(titletext)\n",
       "    this.root.append(titlebar);\n",
       "    this.header = titletext[0];\n",
       "}\n",
       "\n",
       "\n",
       "\n",
       "mpl.figure.prototype._canvas_extra_style = function(canvas_div) {\n",
       "\n",
       "}\n",
       "\n",
       "\n",
       "mpl.figure.prototype._root_extra_style = function(canvas_div) {\n",
       "\n",
       "}\n",
       "\n",
       "mpl.figure.prototype._init_canvas = function() {\n",
       "    var fig = this;\n",
       "\n",
       "    var canvas_div = $('<div/>');\n",
       "\n",
       "    canvas_div.attr('style', 'position: relative; clear: both; outline: 0');\n",
       "\n",
       "    function canvas_keyboard_event(event) {\n",
       "        return fig.key_event(event, event['data']);\n",
       "    }\n",
       "\n",
       "    canvas_div.keydown('key_press', canvas_keyboard_event);\n",
       "    canvas_div.keyup('key_release', canvas_keyboard_event);\n",
       "    this.canvas_div = canvas_div\n",
       "    this._canvas_extra_style(canvas_div)\n",
       "    this.root.append(canvas_div);\n",
       "\n",
       "    var canvas = $('<canvas/>');\n",
       "    canvas.addClass('mpl-canvas');\n",
       "    canvas.attr('style', \"left: 0; top: 0; z-index: 0; outline: 0\")\n",
       "\n",
       "    this.canvas = canvas[0];\n",
       "    this.context = canvas[0].getContext(\"2d\");\n",
       "\n",
       "    var backingStore = this.context.backingStorePixelRatio ||\n",
       "\tthis.context.webkitBackingStorePixelRatio ||\n",
       "\tthis.context.mozBackingStorePixelRatio ||\n",
       "\tthis.context.msBackingStorePixelRatio ||\n",
       "\tthis.context.oBackingStorePixelRatio ||\n",
       "\tthis.context.backingStorePixelRatio || 1;\n",
       "\n",
       "    mpl.ratio = (window.devicePixelRatio || 1) / backingStore;\n",
       "\n",
       "    var rubberband = $('<canvas/>');\n",
       "    rubberband.attr('style', \"position: absolute; left: 0; top: 0; z-index: 1;\")\n",
       "\n",
       "    var pass_mouse_events = true;\n",
       "\n",
       "    canvas_div.resizable({\n",
       "        start: function(event, ui) {\n",
       "            pass_mouse_events = false;\n",
       "        },\n",
       "        resize: function(event, ui) {\n",
       "            fig.request_resize(ui.size.width, ui.size.height);\n",
       "        },\n",
       "        stop: function(event, ui) {\n",
       "            pass_mouse_events = true;\n",
       "            fig.request_resize(ui.size.width, ui.size.height);\n",
       "        },\n",
       "    });\n",
       "\n",
       "    function mouse_event_fn(event) {\n",
       "        if (pass_mouse_events)\n",
       "            return fig.mouse_event(event, event['data']);\n",
       "    }\n",
       "\n",
       "    rubberband.mousedown('button_press', mouse_event_fn);\n",
       "    rubberband.mouseup('button_release', mouse_event_fn);\n",
       "    // Throttle sequential mouse events to 1 every 20ms.\n",
       "    rubberband.mousemove('motion_notify', mouse_event_fn);\n",
       "\n",
       "    rubberband.mouseenter('figure_enter', mouse_event_fn);\n",
       "    rubberband.mouseleave('figure_leave', mouse_event_fn);\n",
       "\n",
       "    canvas_div.on(\"wheel\", function (event) {\n",
       "        event = event.originalEvent;\n",
       "        event['data'] = 'scroll'\n",
       "        if (event.deltaY < 0) {\n",
       "            event.step = 1;\n",
       "        } else {\n",
       "            event.step = -1;\n",
       "        }\n",
       "        mouse_event_fn(event);\n",
       "    });\n",
       "\n",
       "    canvas_div.append(canvas);\n",
       "    canvas_div.append(rubberband);\n",
       "\n",
       "    this.rubberband = rubberband;\n",
       "    this.rubberband_canvas = rubberband[0];\n",
       "    this.rubberband_context = rubberband[0].getContext(\"2d\");\n",
       "    this.rubberband_context.strokeStyle = \"#000000\";\n",
       "\n",
       "    this._resize_canvas = function(width, height) {\n",
       "        // Keep the size of the canvas, canvas container, and rubber band\n",
       "        // canvas in synch.\n",
       "        canvas_div.css('width', width)\n",
       "        canvas_div.css('height', height)\n",
       "\n",
       "        canvas.attr('width', width * mpl.ratio);\n",
       "        canvas.attr('height', height * mpl.ratio);\n",
       "        canvas.attr('style', 'width: ' + width + 'px; height: ' + height + 'px;');\n",
       "\n",
       "        rubberband.attr('width', width);\n",
       "        rubberband.attr('height', height);\n",
       "    }\n",
       "\n",
       "    // Set the figure to an initial 600x600px, this will subsequently be updated\n",
       "    // upon first draw.\n",
       "    this._resize_canvas(600, 600);\n",
       "\n",
       "    // Disable right mouse context menu.\n",
       "    $(this.rubberband_canvas).bind(\"contextmenu\",function(e){\n",
       "        return false;\n",
       "    });\n",
       "\n",
       "    function set_focus () {\n",
       "        canvas.focus();\n",
       "        canvas_div.focus();\n",
       "    }\n",
       "\n",
       "    window.setTimeout(set_focus, 100);\n",
       "}\n",
       "\n",
       "mpl.figure.prototype._init_toolbar = function() {\n",
       "    var fig = this;\n",
       "\n",
       "    var nav_element = $('<div/>')\n",
       "    nav_element.attr('style', 'width: 100%');\n",
       "    this.root.append(nav_element);\n",
       "\n",
       "    // Define a callback function for later on.\n",
       "    function toolbar_event(event) {\n",
       "        return fig.toolbar_button_onclick(event['data']);\n",
       "    }\n",
       "    function toolbar_mouse_event(event) {\n",
       "        return fig.toolbar_button_onmouseover(event['data']);\n",
       "    }\n",
       "\n",
       "    for(var toolbar_ind in mpl.toolbar_items) {\n",
       "        var name = mpl.toolbar_items[toolbar_ind][0];\n",
       "        var tooltip = mpl.toolbar_items[toolbar_ind][1];\n",
       "        var image = mpl.toolbar_items[toolbar_ind][2];\n",
       "        var method_name = mpl.toolbar_items[toolbar_ind][3];\n",
       "\n",
       "        if (!name) {\n",
       "            // put a spacer in here.\n",
       "            continue;\n",
       "        }\n",
       "        var button = $('<button/>');\n",
       "        button.addClass('ui-button ui-widget ui-state-default ui-corner-all ' +\n",
       "                        'ui-button-icon-only');\n",
       "        button.attr('role', 'button');\n",
       "        button.attr('aria-disabled', 'false');\n",
       "        button.click(method_name, toolbar_event);\n",
       "        button.mouseover(tooltip, toolbar_mouse_event);\n",
       "\n",
       "        var icon_img = $('<span/>');\n",
       "        icon_img.addClass('ui-button-icon-primary ui-icon');\n",
       "        icon_img.addClass(image);\n",
       "        icon_img.addClass('ui-corner-all');\n",
       "\n",
       "        var tooltip_span = $('<span/>');\n",
       "        tooltip_span.addClass('ui-button-text');\n",
       "        tooltip_span.html(tooltip);\n",
       "\n",
       "        button.append(icon_img);\n",
       "        button.append(tooltip_span);\n",
       "\n",
       "        nav_element.append(button);\n",
       "    }\n",
       "\n",
       "    var fmt_picker_span = $('<span/>');\n",
       "\n",
       "    var fmt_picker = $('<select/>');\n",
       "    fmt_picker.addClass('mpl-toolbar-option ui-widget ui-widget-content');\n",
       "    fmt_picker_span.append(fmt_picker);\n",
       "    nav_element.append(fmt_picker_span);\n",
       "    this.format_dropdown = fmt_picker[0];\n",
       "\n",
       "    for (var ind in mpl.extensions) {\n",
       "        var fmt = mpl.extensions[ind];\n",
       "        var option = $(\n",
       "            '<option/>', {selected: fmt === mpl.default_extension}).html(fmt);\n",
       "        fmt_picker.append(option)\n",
       "    }\n",
       "\n",
       "    // Add hover states to the ui-buttons\n",
       "    $( \".ui-button\" ).hover(\n",
       "        function() { $(this).addClass(\"ui-state-hover\");},\n",
       "        function() { $(this).removeClass(\"ui-state-hover\");}\n",
       "    );\n",
       "\n",
       "    var status_bar = $('<span class=\"mpl-message\"/>');\n",
       "    nav_element.append(status_bar);\n",
       "    this.message = status_bar[0];\n",
       "}\n",
       "\n",
       "mpl.figure.prototype.request_resize = function(x_pixels, y_pixels) {\n",
       "    // Request matplotlib to resize the figure. Matplotlib will then trigger a resize in the client,\n",
       "    // which will in turn request a refresh of the image.\n",
       "    this.send_message('resize', {'width': x_pixels, 'height': y_pixels});\n",
       "}\n",
       "\n",
       "mpl.figure.prototype.send_message = function(type, properties) {\n",
       "    properties['type'] = type;\n",
       "    properties['figure_id'] = this.id;\n",
       "    this.ws.send(JSON.stringify(properties));\n",
       "}\n",
       "\n",
       "mpl.figure.prototype.send_draw_message = function() {\n",
       "    if (!this.waiting) {\n",
       "        this.waiting = true;\n",
       "        this.ws.send(JSON.stringify({type: \"draw\", figure_id: this.id}));\n",
       "    }\n",
       "}\n",
       "\n",
       "\n",
       "mpl.figure.prototype.handle_save = function(fig, msg) {\n",
       "    var format_dropdown = fig.format_dropdown;\n",
       "    var format = format_dropdown.options[format_dropdown.selectedIndex].value;\n",
       "    fig.ondownload(fig, format);\n",
       "}\n",
       "\n",
       "\n",
       "mpl.figure.prototype.handle_resize = function(fig, msg) {\n",
       "    var size = msg['size'];\n",
       "    if (size[0] != fig.canvas.width || size[1] != fig.canvas.height) {\n",
       "        fig._resize_canvas(size[0], size[1]);\n",
       "        fig.send_message(\"refresh\", {});\n",
       "    };\n",
       "}\n",
       "\n",
       "mpl.figure.prototype.handle_rubberband = function(fig, msg) {\n",
       "    var x0 = msg['x0'] / mpl.ratio;\n",
       "    var y0 = (fig.canvas.height - msg['y0']) / mpl.ratio;\n",
       "    var x1 = msg['x1'] / mpl.ratio;\n",
       "    var y1 = (fig.canvas.height - msg['y1']) / mpl.ratio;\n",
       "    x0 = Math.floor(x0) + 0.5;\n",
       "    y0 = Math.floor(y0) + 0.5;\n",
       "    x1 = Math.floor(x1) + 0.5;\n",
       "    y1 = Math.floor(y1) + 0.5;\n",
       "    var min_x = Math.min(x0, x1);\n",
       "    var min_y = Math.min(y0, y1);\n",
       "    var width = Math.abs(x1 - x0);\n",
       "    var height = Math.abs(y1 - y0);\n",
       "\n",
       "    fig.rubberband_context.clearRect(\n",
       "        0, 0, fig.canvas.width, fig.canvas.height);\n",
       "\n",
       "    fig.rubberband_context.strokeRect(min_x, min_y, width, height);\n",
       "}\n",
       "\n",
       "mpl.figure.prototype.handle_figure_label = function(fig, msg) {\n",
       "    // Updates the figure title.\n",
       "    fig.header.textContent = msg['label'];\n",
       "}\n",
       "\n",
       "mpl.figure.prototype.handle_cursor = function(fig, msg) {\n",
       "    var cursor = msg['cursor'];\n",
       "    switch(cursor)\n",
       "    {\n",
       "    case 0:\n",
       "        cursor = 'pointer';\n",
       "        break;\n",
       "    case 1:\n",
       "        cursor = 'default';\n",
       "        break;\n",
       "    case 2:\n",
       "        cursor = 'crosshair';\n",
       "        break;\n",
       "    case 3:\n",
       "        cursor = 'move';\n",
       "        break;\n",
       "    }\n",
       "    fig.rubberband_canvas.style.cursor = cursor;\n",
       "}\n",
       "\n",
       "mpl.figure.prototype.handle_message = function(fig, msg) {\n",
       "    fig.message.textContent = msg['message'];\n",
       "}\n",
       "\n",
       "mpl.figure.prototype.handle_draw = function(fig, msg) {\n",
       "    // Request the server to send over a new figure.\n",
       "    fig.send_draw_message();\n",
       "}\n",
       "\n",
       "mpl.figure.prototype.handle_image_mode = function(fig, msg) {\n",
       "    fig.image_mode = msg['mode'];\n",
       "}\n",
       "\n",
       "mpl.figure.prototype.updated_canvas_event = function() {\n",
       "    // Called whenever the canvas gets updated.\n",
       "    this.send_message(\"ack\", {});\n",
       "}\n",
       "\n",
       "// A function to construct a web socket function for onmessage handling.\n",
       "// Called in the figure constructor.\n",
       "mpl.figure.prototype._make_on_message_function = function(fig) {\n",
       "    return function socket_on_message(evt) {\n",
       "        if (evt.data instanceof Blob) {\n",
       "            /* FIXME: We get \"Resource interpreted as Image but\n",
       "             * transferred with MIME type text/plain:\" errors on\n",
       "             * Chrome.  But how to set the MIME type?  It doesn't seem\n",
       "             * to be part of the websocket stream */\n",
       "            evt.data.type = \"image/png\";\n",
       "\n",
       "            /* Free the memory for the previous frames */\n",
       "            if (fig.imageObj.src) {\n",
       "                (window.URL || window.webkitURL).revokeObjectURL(\n",
       "                    fig.imageObj.src);\n",
       "            }\n",
       "\n",
       "            fig.imageObj.src = (window.URL || window.webkitURL).createObjectURL(\n",
       "                evt.data);\n",
       "            fig.updated_canvas_event();\n",
       "            fig.waiting = false;\n",
       "            return;\n",
       "        }\n",
       "        else if (typeof evt.data === 'string' && evt.data.slice(0, 21) == \"data:image/png;base64\") {\n",
       "            fig.imageObj.src = evt.data;\n",
       "            fig.updated_canvas_event();\n",
       "            fig.waiting = false;\n",
       "            return;\n",
       "        }\n",
       "\n",
       "        var msg = JSON.parse(evt.data);\n",
       "        var msg_type = msg['type'];\n",
       "\n",
       "        // Call the  \"handle_{type}\" callback, which takes\n",
       "        // the figure and JSON message as its only arguments.\n",
       "        try {\n",
       "            var callback = fig[\"handle_\" + msg_type];\n",
       "        } catch (e) {\n",
       "            console.log(\"No handler for the '\" + msg_type + \"' message type: \", msg);\n",
       "            return;\n",
       "        }\n",
       "\n",
       "        if (callback) {\n",
       "            try {\n",
       "                // console.log(\"Handling '\" + msg_type + \"' message: \", msg);\n",
       "                callback(fig, msg);\n",
       "            } catch (e) {\n",
       "                console.log(\"Exception inside the 'handler_\" + msg_type + \"' callback:\", e, e.stack, msg);\n",
       "            }\n",
       "        }\n",
       "    };\n",
       "}\n",
       "\n",
       "// from http://stackoverflow.com/questions/1114465/getting-mouse-location-in-canvas\n",
       "mpl.findpos = function(e) {\n",
       "    //this section is from http://www.quirksmode.org/js/events_properties.html\n",
       "    var targ;\n",
       "    if (!e)\n",
       "        e = window.event;\n",
       "    if (e.target)\n",
       "        targ = e.target;\n",
       "    else if (e.srcElement)\n",
       "        targ = e.srcElement;\n",
       "    if (targ.nodeType == 3) // defeat Safari bug\n",
       "        targ = targ.parentNode;\n",
       "\n",
       "    // jQuery normalizes the pageX and pageY\n",
       "    // pageX,Y are the mouse positions relative to the document\n",
       "    // offset() returns the position of the element relative to the document\n",
       "    var x = e.pageX - $(targ).offset().left;\n",
       "    var y = e.pageY - $(targ).offset().top;\n",
       "\n",
       "    return {\"x\": x, \"y\": y};\n",
       "};\n",
       "\n",
       "/*\n",
       " * return a copy of an object with only non-object keys\n",
       " * we need this to avoid circular references\n",
       " * http://stackoverflow.com/a/24161582/3208463\n",
       " */\n",
       "function simpleKeys (original) {\n",
       "  return Object.keys(original).reduce(function (obj, key) {\n",
       "    if (typeof original[key] !== 'object')\n",
       "        obj[key] = original[key]\n",
       "    return obj;\n",
       "  }, {});\n",
       "}\n",
       "\n",
       "mpl.figure.prototype.mouse_event = function(event, name) {\n",
       "    var canvas_pos = mpl.findpos(event)\n",
       "\n",
       "    if (name === 'button_press')\n",
       "    {\n",
       "        this.canvas.focus();\n",
       "        this.canvas_div.focus();\n",
       "    }\n",
       "\n",
       "    var x = canvas_pos.x * mpl.ratio;\n",
       "    var y = canvas_pos.y * mpl.ratio;\n",
       "\n",
       "    this.send_message(name, {x: x, y: y, button: event.button,\n",
       "                             step: event.step,\n",
       "                             guiEvent: simpleKeys(event)});\n",
       "\n",
       "    /* This prevents the web browser from automatically changing to\n",
       "     * the text insertion cursor when the button is pressed.  We want\n",
       "     * to control all of the cursor setting manually through the\n",
       "     * 'cursor' event from matplotlib */\n",
       "    event.preventDefault();\n",
       "    return false;\n",
       "}\n",
       "\n",
       "mpl.figure.prototype._key_event_extra = function(event, name) {\n",
       "    // Handle any extra behaviour associated with a key event\n",
       "}\n",
       "\n",
       "mpl.figure.prototype.key_event = function(event, name) {\n",
       "\n",
       "    // Prevent repeat events\n",
       "    if (name == 'key_press')\n",
       "    {\n",
       "        if (event.which === this._key)\n",
       "            return;\n",
       "        else\n",
       "            this._key = event.which;\n",
       "    }\n",
       "    if (name == 'key_release')\n",
       "        this._key = null;\n",
       "\n",
       "    var value = '';\n",
       "    if (event.ctrlKey && event.which != 17)\n",
       "        value += \"ctrl+\";\n",
       "    if (event.altKey && event.which != 18)\n",
       "        value += \"alt+\";\n",
       "    if (event.shiftKey && event.which != 16)\n",
       "        value += \"shift+\";\n",
       "\n",
       "    value += 'k';\n",
       "    value += event.which.toString();\n",
       "\n",
       "    this._key_event_extra(event, name);\n",
       "\n",
       "    this.send_message(name, {key: value,\n",
       "                             guiEvent: simpleKeys(event)});\n",
       "    return false;\n",
       "}\n",
       "\n",
       "mpl.figure.prototype.toolbar_button_onclick = function(name) {\n",
       "    if (name == 'download') {\n",
       "        this.handle_save(this, null);\n",
       "    } else {\n",
       "        this.send_message(\"toolbar_button\", {name: name});\n",
       "    }\n",
       "};\n",
       "\n",
       "mpl.figure.prototype.toolbar_button_onmouseover = function(tooltip) {\n",
       "    this.message.textContent = tooltip;\n",
       "};\n",
       "mpl.toolbar_items = [[\"Home\", \"Reset original view\", \"fa fa-home icon-home\", \"home\"], [\"Back\", \"Back to  previous view\", \"fa fa-arrow-left icon-arrow-left\", \"back\"], [\"Forward\", \"Forward to next view\", \"fa fa-arrow-right icon-arrow-right\", \"forward\"], [\"\", \"\", \"\", \"\"], [\"Pan\", \"Pan axes with left mouse, zoom with right\", \"fa fa-arrows icon-move\", \"pan\"], [\"Zoom\", \"Zoom to rectangle\", \"fa fa-square-o icon-check-empty\", \"zoom\"], [\"\", \"\", \"\", \"\"], [\"Download\", \"Download plot\", \"fa fa-floppy-o icon-save\", \"download\"]];\n",
       "\n",
       "mpl.extensions = [\"eps\", \"jpeg\", \"pdf\", \"png\", \"ps\", \"raw\", \"svg\", \"tif\"];\n",
       "\n",
       "mpl.default_extension = \"png\";var comm_websocket_adapter = function(comm) {\n",
       "    // Create a \"websocket\"-like object which calls the given IPython comm\n",
       "    // object with the appropriate methods. Currently this is a non binary\n",
       "    // socket, so there is still some room for performance tuning.\n",
       "    var ws = {};\n",
       "\n",
       "    ws.close = function() {\n",
       "        comm.close()\n",
       "    };\n",
       "    ws.send = function(m) {\n",
       "        //console.log('sending', m);\n",
       "        comm.send(m);\n",
       "    };\n",
       "    // Register the callback with on_msg.\n",
       "    comm.on_msg(function(msg) {\n",
       "        //console.log('receiving', msg['content']['data'], msg);\n",
       "        // Pass the mpl event to the overriden (by mpl) onmessage function.\n",
       "        ws.onmessage(msg['content']['data'])\n",
       "    });\n",
       "    return ws;\n",
       "}\n",
       "\n",
       "mpl.mpl_figure_comm = function(comm, msg) {\n",
       "    // This is the function which gets called when the mpl process\n",
       "    // starts-up an IPython Comm through the \"matplotlib\" channel.\n",
       "\n",
       "    var id = msg.content.data.id;\n",
       "    // Get hold of the div created by the display call when the Comm\n",
       "    // socket was opened in Python.\n",
       "    var element = $(\"#\" + id);\n",
       "    var ws_proxy = comm_websocket_adapter(comm)\n",
       "\n",
       "    function ondownload(figure, format) {\n",
       "        window.open(figure.imageObj.src);\n",
       "    }\n",
       "\n",
       "    var fig = new mpl.figure(id, ws_proxy,\n",
       "                           ondownload,\n",
       "                           element.get(0));\n",
       "\n",
       "    // Call onopen now - mpl needs it, as it is assuming we've passed it a real\n",
       "    // web socket which is closed, not our websocket->open comm proxy.\n",
       "    ws_proxy.onopen();\n",
       "\n",
       "    fig.parent_element = element.get(0);\n",
       "    fig.cell_info = mpl.find_output_cell(\"<div id='\" + id + \"'></div>\");\n",
       "    if (!fig.cell_info) {\n",
       "        console.error(\"Failed to find cell for figure\", id, fig);\n",
       "        return;\n",
       "    }\n",
       "\n",
       "    var output_index = fig.cell_info[2]\n",
       "    var cell = fig.cell_info[0];\n",
       "\n",
       "};\n",
       "\n",
       "mpl.figure.prototype.handle_close = function(fig, msg) {\n",
       "    var width = fig.canvas.width/mpl.ratio\n",
       "    fig.root.unbind('remove')\n",
       "\n",
       "    // Update the output cell to use the data from the current canvas.\n",
       "    fig.push_to_output();\n",
       "    var dataURL = fig.canvas.toDataURL();\n",
       "    // Re-enable the keyboard manager in IPython - without this line, in FF,\n",
       "    // the notebook keyboard shortcuts fail.\n",
       "    IPython.keyboard_manager.enable()\n",
       "    $(fig.parent_element).html('<img src=\"' + dataURL + '\" width=\"' + width + '\">');\n",
       "    fig.close_ws(fig, msg);\n",
       "}\n",
       "\n",
       "mpl.figure.prototype.close_ws = function(fig, msg){\n",
       "    fig.send_message('closing', msg);\n",
       "    // fig.ws.close()\n",
       "}\n",
       "\n",
       "mpl.figure.prototype.push_to_output = function(remove_interactive) {\n",
       "    // Turn the data on the canvas into data in the output cell.\n",
       "    var width = this.canvas.width/mpl.ratio\n",
       "    var dataURL = this.canvas.toDataURL();\n",
       "    this.cell_info[1]['text/html'] = '<img src=\"' + dataURL + '\" width=\"' + width + '\">';\n",
       "}\n",
       "\n",
       "mpl.figure.prototype.updated_canvas_event = function() {\n",
       "    // Tell IPython that the notebook contents must change.\n",
       "    IPython.notebook.set_dirty(true);\n",
       "    this.send_message(\"ack\", {});\n",
       "    var fig = this;\n",
       "    // Wait a second, then push the new image to the DOM so\n",
       "    // that it is saved nicely (might be nice to debounce this).\n",
       "    setTimeout(function () { fig.push_to_output() }, 1000);\n",
       "}\n",
       "\n",
       "mpl.figure.prototype._init_toolbar = function() {\n",
       "    var fig = this;\n",
       "\n",
       "    var nav_element = $('<div/>')\n",
       "    nav_element.attr('style', 'width: 100%');\n",
       "    this.root.append(nav_element);\n",
       "\n",
       "    // Define a callback function for later on.\n",
       "    function toolbar_event(event) {\n",
       "        return fig.toolbar_button_onclick(event['data']);\n",
       "    }\n",
       "    function toolbar_mouse_event(event) {\n",
       "        return fig.toolbar_button_onmouseover(event['data']);\n",
       "    }\n",
       "\n",
       "    for(var toolbar_ind in mpl.toolbar_items){\n",
       "        var name = mpl.toolbar_items[toolbar_ind][0];\n",
       "        var tooltip = mpl.toolbar_items[toolbar_ind][1];\n",
       "        var image = mpl.toolbar_items[toolbar_ind][2];\n",
       "        var method_name = mpl.toolbar_items[toolbar_ind][3];\n",
       "\n",
       "        if (!name) { continue; };\n",
       "\n",
       "        var button = $('<button class=\"btn btn-default\" href=\"#\" title=\"' + name + '\"><i class=\"fa ' + image + ' fa-lg\"></i></button>');\n",
       "        button.click(method_name, toolbar_event);\n",
       "        button.mouseover(tooltip, toolbar_mouse_event);\n",
       "        nav_element.append(button);\n",
       "    }\n",
       "\n",
       "    // Add the status bar.\n",
       "    var status_bar = $('<span class=\"mpl-message\" style=\"text-align:right; float: right;\"/>');\n",
       "    nav_element.append(status_bar);\n",
       "    this.message = status_bar[0];\n",
       "\n",
       "    // Add the close button to the window.\n",
       "    var buttongrp = $('<div class=\"btn-group inline pull-right\"></div>');\n",
       "    var button = $('<button class=\"btn btn-mini btn-primary\" href=\"#\" title=\"Stop Interaction\"><i class=\"fa fa-power-off icon-remove icon-large\"></i></button>');\n",
       "    button.click(function (evt) { fig.handle_close(fig, {}); } );\n",
       "    button.mouseover('Stop Interaction', toolbar_mouse_event);\n",
       "    buttongrp.append(button);\n",
       "    var titlebar = this.root.find($('.ui-dialog-titlebar'));\n",
       "    titlebar.prepend(buttongrp);\n",
       "}\n",
       "\n",
       "mpl.figure.prototype._root_extra_style = function(el){\n",
       "    var fig = this\n",
       "    el.on(\"remove\", function(){\n",
       "\tfig.close_ws(fig, {});\n",
       "    });\n",
       "}\n",
       "\n",
       "mpl.figure.prototype._canvas_extra_style = function(el){\n",
       "    // this is important to make the div 'focusable\n",
       "    el.attr('tabindex', 0)\n",
       "    // reach out to IPython and tell the keyboard manager to turn it's self\n",
       "    // off when our div gets focus\n",
       "\n",
       "    // location in version 3\n",
       "    if (IPython.notebook.keyboard_manager) {\n",
       "        IPython.notebook.keyboard_manager.register_events(el);\n",
       "    }\n",
       "    else {\n",
       "        // location in version 2\n",
       "        IPython.keyboard_manager.register_events(el);\n",
       "    }\n",
       "\n",
       "}\n",
       "\n",
       "mpl.figure.prototype._key_event_extra = function(event, name) {\n",
       "    var manager = IPython.notebook.keyboard_manager;\n",
       "    if (!manager)\n",
       "        manager = IPython.keyboard_manager;\n",
       "\n",
       "    // Check for shift+enter\n",
       "    if (event.shiftKey && event.which == 13) {\n",
       "        this.canvas_div.blur();\n",
       "        event.shiftKey = false;\n",
       "        // Send a \"J\" for go to next cell\n",
       "        event.which = 74;\n",
       "        event.keyCode = 74;\n",
       "        manager.command_mode();\n",
       "        manager.handle_keydown(event);\n",
       "    }\n",
       "}\n",
       "\n",
       "mpl.figure.prototype.handle_save = function(fig, msg) {\n",
       "    fig.ondownload(fig, null);\n",
       "}\n",
       "\n",
       "\n",
       "mpl.find_output_cell = function(html_output) {\n",
       "    // Return the cell and output element which can be found *uniquely* in the notebook.\n",
       "    // Note - this is a bit hacky, but it is done because the \"notebook_saving.Notebook\"\n",
       "    // IPython event is triggered only after the cells have been serialised, which for\n",
       "    // our purposes (turning an active figure into a static one), is too late.\n",
       "    var cells = IPython.notebook.get_cells();\n",
       "    var ncells = cells.length;\n",
       "    for (var i=0; i<ncells; i++) {\n",
       "        var cell = cells[i];\n",
       "        if (cell.cell_type === 'code'){\n",
       "            for (var j=0; j<cell.output_area.outputs.length; j++) {\n",
       "                var data = cell.output_area.outputs[j];\n",
       "                if (data.data) {\n",
       "                    // IPython >= 3 moved mimebundle to data attribute of output\n",
       "                    data = data.data;\n",
       "                }\n",
       "                if (data['text/html'] == html_output) {\n",
       "                    return [cell, data, j];\n",
       "                }\n",
       "            }\n",
       "        }\n",
       "    }\n",
       "}\n",
       "\n",
       "// Register the function which deals with the matplotlib target/channel.\n",
       "// The kernel may be null if the page has been refreshed.\n",
       "if (IPython.notebook.kernel != null) {\n",
       "    IPython.notebook.kernel.comm_manager.register_target('matplotlib', mpl.mpl_figure_comm);\n",
       "}\n"
      ],
      "text/plain": [
       "<IPython.core.display.Javascript object>"
      ]
     },
     "metadata": {},
     "output_type": "display_data"
    },
    {
     "data": {
      "text/html": [
       "<img src=\"data:image/png;base64,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\" width=\"640\">"
      ],
      "text/plain": [
       "<IPython.core.display.HTML object>"
      ]
     },
     "metadata": {},
     "output_type": "display_data"
    }
   ],
   "source": [
    "def integrate_inner(gamma_val, eta_val, rst_val):\n",
    "    \n",
    "    from scipy.integrate import ode\n",
    "    import numpy\n",
    "    \n",
    "    sub_params = {eta:eta_val,\n",
    "                 gamma:gamma_val,\n",
    "                  tilde_r_st:rst_val}\n",
    "    \n",
    "    # Differential equations\n",
    "    hydrodynamic_variables = [m,\n",
    "                             tilde_c,\n",
    "                             tilde_rho]\n",
    "    explicit_odes = [itm(tilde_r).diff(tilde_r) for itm in hydrodynamic_variables]\n",
    "    explicit_odes = [itm.subs(isolated_odes) for itm in explicit_odes]\n",
    "    explicit_odes = [itm.subs(sub_params) for itm in explicit_odes]\n",
    "    for var in hydrodynamic_variables:\n",
    "        explicit_odes = [itm.subs(var(tilde_r), var) for itm in explicit_odes]\n",
    "    raw_deriv_func = sympy.lambdify([tilde_r, m, tilde_c, tilde_rho], explicit_odes)\n",
    "    deriv_wrapper = lambda x,y: raw_deriv_func(x,y[0],y[1],y[2])\n",
    "    \n",
    "    inner_sonic_point = find_inner_sonic_point(gamma_val, eta_val, rst_val)\n",
    "    bc_density = -raw_sonic_point_density.subs(sub_params).subs(tilde_r,inner_sonic_point)\n",
    "    bc_sound_speed = raw_sonic_point_sound_speed.subs(sub_params).subs(tilde_r,inner_sonic_point)\n",
    "    r_stop = (1-1e-2)*rst_val\n",
    "    dr = 1e-4*(r_stop - inner_sonic_point)   \n",
    "    r_start = inner_sonic_point+0.5*dr\n",
    "    init_cond = [-1+1e-3, bc_sound_speed, bc_density]\n",
    "    \n",
    "    integrator = ode(deriv_wrapper)\n",
    "    integrator.set_initial_value(init_cond, r_start)\n",
    "    x_list = []\n",
    "    y_list = []\n",
    "    while integrator.successful() and integrator.t<r_stop:\n",
    "        integrator.integrate(integrator.t + dr)\n",
    "        x_list.append(integrator.t)\n",
    "        y_list.append(integrator.y)\n",
    "    assert(integrator.successful())\n",
    "    x_list = numpy.array(x_list)\n",
    "    y_list = numpy.array(y_list)\n",
    "    return x_list, y_list\n",
    "    \n",
    "import pylab\n",
    "x_list, y_list = integrate_inner(4./3., 2.9, 9.1)\n",
    "%matplotlib notebook\n",
    "pylab.plot(x_list ,y_list.T[0])\n",
    "pylab.xlabel(r'$\\tilde{r}$')\n",
    "pylab.ylabel('Mach number')\n",
    "pass"
   ]
  },
  {
   "cell_type": "code",
   "execution_count": 274,
   "metadata": {},
   "outputs": [
    {
     "data": {
      "image/png": "[encoded data removed]",
      "text/latex": [
       "$$0.121883174893$$"
      ],
      "text/plain": [
       "0.121883174893"
      ]
     },
     "execution_count": 274,
     "metadata": {},
     "output_type": "execute_result"
    }
   ],
   "source": [
    "def calc_stagnation_derivative_difference(gamma_val, eta_val, rst_val, verbose=False):\n",
    "    x_outer, y_outer = integrate_outer(gamma_val, eta_val, rst_val)\n",
    "    x_inner, y_inner = integrate_inner(gamma_val, eta_val, rst_val)\n",
    "    m_outer = y_outer.T[0]\n",
    "    m_inner = y_inner.T[0]\n",
    "    deriv_outer = (m_outer[-1]-m_outer[-2])/(x_outer[-1] - x_outer[-2])\n",
    "    deriv_inner = (m_inner[-1]-m_inner[-2])/(x_inner[-1] - x_inner[-2])\n",
    "    if verbose:\n",
    "        print('called with', rst_val, 'evaluated', deriv_outer - deriv_inner)\n",
    "    return deriv_outer - deriv_inner\n",
    "\n",
    "calc_stagnation_derivative_difference(4./3., 2.9, 9.1)"
   ]
  },
  {
   "cell_type": "code",
   "execution_count": 272,
   "metadata": {},
   "outputs": [
    {
     "data": {
      "image/png": "[encoded data removed]",
      "text/latex": [
       "$$-0.02767649557$$"
      ],
      "text/plain": [
       "-0.02767649557"
      ]
     },
     "execution_count": 272,
     "metadata": {},
     "output_type": "execute_result"
    }
   ],
   "source": [
    "calc_stagnation_derivative_difference(4./3., 2.9, 3.9)"
   ]
  },
  {
   "cell_type": "markdown",
   "metadata": {},
   "source": [
    "Finall, we can numerically solve for the location of the stagnation point"
   ]
  },
  {
   "cell_type": "code",
   "execution_count": 275,
   "metadata": {},
   "outputs": [
    {
     "name": "stdout",
     "output_type": "stream",
     "text": [
      "called with 3.89999999999999991118 evaluated -0.0276764955729\n",
      "called with 3.89999999999999991118 evaluated -0.0276764955729\n",
      "called with 4.14999999999999991118 evaluated 0.00569928297774\n",
      "called with 4.10730973759098289116 evaluated 0.000970616706661\n",
      "called with 4.09854703801977010226 evaluated -0.000512700030044\n",
      "called with 4.10157581550353855508 evaluated 0.00026551716635\n",
      "called with 4.1005424376512882443 evaluated -0.000306514180864\n"
     ]
    },
    {
     "data": {
      "text/plain": [
       "mpf('4.1005424376512882')"
      ]
     },
     "execution_count": 275,
     "metadata": {},
     "output_type": "execute_result"
    }
   ],
   "source": [
    "from mpmath import findroot\n",
    "\n",
    "findroot(lambda x: calc_stagnation_derivative_difference(4./3., 2.9, x, verbose=True), 3.9, tol=1e-3)"
   ]
  },
  {
   "cell_type": "code",
   "execution_count": 276,
   "metadata": {},
   "outputs": [
    {
     "name": "stdout",
     "output_type": "stream",
     "text": [
      "called with 4.09999999999999964473 evaluated -0.0147287512009\n",
      "called with 4.09999999999999964473 evaluated -0.0147287512009\n",
      "called with 4.34999999999999964473 evaluated 0.0122528587213\n",
      "called with 4.23647027775016535624 evaluated 0.00129954186284\n",
      "called with 4.22300069327206101119 evaluated -0.00124099483939\n",
      "called with 4.22958028128251078996 evaluated -0.000502249173701\n",
      "called with 4.23405352937722948461 evaluated 0.0010328971484\n",
      "called with 4.23104378031643594594 evaluated -0.000338546051618\n",
      "called with 4.2317867484983307238 evaluated -0.000255522923542\n"
     ]
    },
    {
     "data": {
      "text/plain": [
       "mpf('4.2317867484983307')"
      ]
     },
     "execution_count": 276,
     "metadata": {},
     "output_type": "execute_result"
    }
   ],
   "source": [
    "findroot(lambda x: calc_stagnation_derivative_difference(4./3., 2.8, x, verbose=True), 4.1, tol=1e-3)"
   ]
  },
  {
   "cell_type": "code",
   "execution_count": 277,
   "metadata": {},
   "outputs": [
    {
     "name": "stdout",
     "output_type": "stream",
     "text": [
      "called with 4.09999999999999964473 evaluated -0.0186851767205\n",
      "called with 4.09999999999999964473 evaluated -0.0186851767205\n",
      "called with 4.34999999999999964473 evaluated 0.00648411517149\n",
      "called with 4.28559497820474407282 evaluated -0.00482277676401\n",
      "called with 4.31306592639915390168 evaluated 0.00314592053401\n",
      "called with 4.30222081373124462304 evaluated -0.00313055204898\n",
      "called with 4.30763009246783221356 evaluated 0.0026474617516\n",
      "called with 4.30515158357998073437 evaluated 0.00241963317384\n",
      "called with 4.27882880008353832097 evaluated -0.00551829836412\n"
     ]
    },
    {
     "data": {
      "text/plain": [
       "mpf('4.2788288000835383')"
      ]
     },
     "execution_count": 277,
     "metadata": {},
     "output_type": "execute_result"
    }
   ],
   "source": [
    "findroot(lambda x: calc_stagnation_derivative_difference(4./3., 2.7, x, verbose=True), 4.1, tol=1e-3)"
   ]
  },
  {
   "cell_type": "code",
   "execution_count": 278,
   "metadata": {},
   "outputs": [
    {
     "name": "stdout",
     "output_type": "stream",
     "text": [
      "called with 4.29999999999999982236 evaluated -0.00277893826298\n",
      "called with 4.29999999999999982236 evaluated -0.00277893826298\n",
      "called with 4.54999999999999982236 evaluated 0.0263531451735\n",
      "called with 4.32384774735587777745 evaluated 0.0111220949503\n",
      "called with 4.1587056993498193799 evaluated -0.0166455668606\n",
      "called with 4.25770153919760627418 evaluated -0.00669520052831\n",
      "called with 4.32431185052822349745 evaluated -0.00050697318221\n",
      "called with 4.32976892888275003122 evaluated 0.0115218954681\n",
      "called with 4.32454184658682089309 evaluated 0.0111689711746\n",
      "called with 4.15912072778532025501 evaluated 0.000749409346693\n",
      "called with 4.14722309383316509264 evaluated 0.000959689056867\n",
      "called with 4.20152233695567837134 evaluated -0.0121041841532\n",
      "called with 4.15121198660508471398 evaluated -0.0173059104836\n",
      "called with 4.3185922685072739844 evaluated -0.00103729746728\n",
      "called with 4.32926454538266878606 evaluated 0.0114878458717\n",
      "called with 4.31947611673745621825 evaluated -0.00095520489833\n",
      "called with 4.32022753655898350992 evaluated -0.000885460102044\n",
      "called with 4.32976734895038643375 evaluated 0.0115217888499\n"
     ]
    },
    {
     "data": {
      "text/plain": [
       "mpf('4.3297673489503864')"
      ]
     },
     "execution_count": 278,
     "metadata": {},
     "output_type": "execute_result"
    }
   ],
   "source": [
    "findroot(lambda x: calc_stagnation_derivative_difference(4./3., 2.67, x, verbose=True), 4.3, tol=1e-3)"
   ]
  },
  {
   "cell_type": "code",
   "execution_count": 286,
   "metadata": {},
   "outputs": [
    {
     "name": "stdout",
     "output_type": "stream",
     "text": [
      "called with 8.0 evaluated 0.136996281499\n",
      "called with 8.0 evaluated 0.136996281499\n",
      "called with 8.25 evaluated 0.136470581192\n",
      "called with 73.1494204605858065255 evaluated 0.0253011737481\n",
      "called with 87.91995446791815441 evaluated 0.0211927763378\n",
      "called with 164.112345891330557964 evaluated 0.0115155942024\n",
      "called with 254.779303344895941999 evaluated 0.00747009384827\n",
      "called with 422.197575952180172811 evaluated 0.00452302979956\n",
      "called with 679.144090679504426645 evaluated 0.00281876109267\n",
      "called with 1104.11864761518429104 evaluated 0.00173821953166\n",
      "called with 1787.75646588585331661 evaluated 0.00107347136573\n",
      "called with 2891.73186598405476158 evaluated 0.000664672705153\n",
      "called with 4686.70427261929824544 evaluated 0.000409855183097\n",
      "called with 7573.78495074733294455 evaluated 0.000253672779859\n",
      "called with 12263.0057983643532129 evaluated 0.00015669335328\n",
      "called with 19839.5585251008009331 evaluated 9.69563841771e-05\n",
      "called with 32136.7200306983507323 evaluated 5.98590145139e-05\n",
      "called with 51978.9885183755268482 evaluated 3.70098448835e-05\n",
      "called with 84118.4181232296423435 evaluated 2.28698144161e-05\n",
      "called with 136100.115913628552177 evaluated 1.41213542794e-05\n",
      "called with 220006.535908465906661 evaluated 8.74433512125e-06\n",
      "called with 356458.691588668621332 evaluated 5.39703475198e-06\n",
      "called with 576467.93633705396561 evaluated 3.33400535002e-06\n",
      "called with 932018.854975474940514 evaluated 2.06415241983e-06\n",
      "called with 1509968.68808810606176 evaluated 1.27408676098e-06\n"
     ]
    },
    {
     "ename": "ValueError",
     "evalue": "Could not find root within given tolerance. (2.46672347457279950589399973e-24 > 2.06795153138256918717852173e-25)\nTry another starting point or tweak arguments.",
     "output_type": "error",
     "traceback": [
      "\u001b[0;31m---------------------------------------------------------------------------\u001b[0m",
      "\u001b[0;31mValueError\u001b[0m                                Traceback (most recent call last)",
      "\u001b[0;32m<ipython-input-286-7a1c965ce68b>\u001b[0m in \u001b[0;36m<module>\u001b[0;34m()\u001b[0m\n\u001b[0;32m----> 1\u001b[0;31m \u001b[0mfindroot\u001b[0m\u001b[0;34m(\u001b[0m\u001b[0;32mlambda\u001b[0m \u001b[0mx\u001b[0m\u001b[0;34m:\u001b[0m \u001b[0mcalc_stagnation_derivative_difference\u001b[0m\u001b[0;34m(\u001b[0m\u001b[0;36m4.\u001b[0m\u001b[0;34m/\u001b[0m\u001b[0;36m3.\u001b[0m\u001b[0;34m-\u001b[0m\u001b[0;36m0.01\u001b[0m\u001b[0;34m,\u001b[0m \u001b[0;36m3.1\u001b[0m\u001b[0;34m,\u001b[0m \u001b[0mx\u001b[0m\u001b[0;34m,\u001b[0m \u001b[0mverbose\u001b[0m\u001b[0;34m=\u001b[0m\u001b[0;32mTrue\u001b[0m\u001b[0;34m)\u001b[0m\u001b[0;34m,\u001b[0m \u001b[0;36m8\u001b[0m\u001b[0;34m,\u001b[0m \u001b[0mtol\u001b[0m\u001b[0;34m=\u001b[0m\u001b[0;36m1e-3\u001b[0m\u001b[0;34m)\u001b[0m\u001b[0;34m\u001b[0m\u001b[0m\n\u001b[0m",
      "\u001b[0;32m/home/ayalin/anaconda3/lib/python3.6/site-packages/mpmath/calculus/optimization.py\u001b[0m in \u001b[0;36mfindroot\u001b[0;34m(ctx, f, x0, solver, tol, verbose, verify, **kwargs)\u001b[0m\n\u001b[1;32m    958\u001b[0m             \u001b[0mmaxsteps\u001b[0m \u001b[0;34m=\u001b[0m \u001b[0miterations\u001b[0m\u001b[0;34m.\u001b[0m\u001b[0mmaxsteps\u001b[0m\u001b[0;34m\u001b[0m\u001b[0m\n\u001b[1;32m    959\u001b[0m         \u001b[0mi\u001b[0m \u001b[0;34m=\u001b[0m \u001b[0;36m0\u001b[0m\u001b[0;34m\u001b[0m\u001b[0m\n\u001b[0;32m--> 960\u001b[0;31m         \u001b[0;32mfor\u001b[0m \u001b[0mx\u001b[0m\u001b[0;34m,\u001b[0m \u001b[0merror\u001b[0m \u001b[0;32min\u001b[0m \u001b[0miterations\u001b[0m\u001b[0;34m:\u001b[0m\u001b[0;34m\u001b[0m\u001b[0m\n\u001b[0m\u001b[1;32m    961\u001b[0m             \u001b[0;32mif\u001b[0m \u001b[0mverbose\u001b[0m\u001b[0;34m:\u001b[0m\u001b[0;34m\u001b[0m\u001b[0m\n\u001b[1;32m    962\u001b[0m                 \u001b[0mprint_\u001b[0m\u001b[0;34m(\u001b[0m\u001b[0;34m'x:    '\u001b[0m\u001b[0;34m,\u001b[0m \u001b[0mx\u001b[0m\u001b[0;34m)\u001b[0m\u001b[0;34m\u001b[0m\u001b[0m\n",
      "\u001b[0;32m/home/ayalin/anaconda3/lib/python3.6/site-packages/mpmath/calculus/optimization.py\u001b[0m in \u001b[0;36m__iter__\u001b[0;34m(self)\u001b[0m\n\u001b[1;32m     89\u001b[0m         \u001b[0mf0\u001b[0m \u001b[0;34m=\u001b[0m \u001b[0mf\u001b[0m\u001b[0;34m(\u001b[0m\u001b[0mx0\u001b[0m\u001b[0;34m)\u001b[0m\u001b[0;34m\u001b[0m\u001b[0m\n\u001b[1;32m     90\u001b[0m         \u001b[0;32mwhile\u001b[0m \u001b[0;32mTrue\u001b[0m\u001b[0;34m:\u001b[0m\u001b[0;34m\u001b[0m\u001b[0m\n\u001b[0;32m---> 91\u001b[0;31m             \u001b[0mf1\u001b[0m \u001b[0;34m=\u001b[0m \u001b[0mf\u001b[0m\u001b[0;34m(\u001b[0m\u001b[0mx1\u001b[0m\u001b[0;34m)\u001b[0m\u001b[0;34m\u001b[0m\u001b[0m\n\u001b[0m\u001b[1;32m     92\u001b[0m             \u001b[0ml\u001b[0m \u001b[0;34m=\u001b[0m \u001b[0mx1\u001b[0m \u001b[0;34m-\u001b[0m \u001b[0mx0\u001b[0m\u001b[0;34m\u001b[0m\u001b[0m\n\u001b[1;32m     93\u001b[0m             \u001b[0;32mif\u001b[0m \u001b[0;32mnot\u001b[0m \u001b[0ml\u001b[0m\u001b[0;34m:\u001b[0m\u001b[0;34m\u001b[0m\u001b[0m\n",
      "\u001b[0;32m<ipython-input-286-7a1c965ce68b>\u001b[0m in \u001b[0;36m<lambda>\u001b[0;34m(x)\u001b[0m\n\u001b[0;32m----> 1\u001b[0;31m \u001b[0mfindroot\u001b[0m\u001b[0;34m(\u001b[0m\u001b[0;32mlambda\u001b[0m \u001b[0mx\u001b[0m\u001b[0;34m:\u001b[0m \u001b[0mcalc_stagnation_derivative_difference\u001b[0m\u001b[0;34m(\u001b[0m\u001b[0;36m4.\u001b[0m\u001b[0;34m/\u001b[0m\u001b[0;36m3.\u001b[0m\u001b[0;34m-\u001b[0m\u001b[0;36m0.01\u001b[0m\u001b[0;34m,\u001b[0m \u001b[0;36m3.1\u001b[0m\u001b[0;34m,\u001b[0m \u001b[0mx\u001b[0m\u001b[0;34m,\u001b[0m \u001b[0mverbose\u001b[0m\u001b[0;34m=\u001b[0m\u001b[0;32mTrue\u001b[0m\u001b[0;34m)\u001b[0m\u001b[0;34m,\u001b[0m \u001b[0;36m8\u001b[0m\u001b[0;34m,\u001b[0m \u001b[0mtol\u001b[0m\u001b[0;34m=\u001b[0m\u001b[0;36m1e-3\u001b[0m\u001b[0;34m)\u001b[0m\u001b[0;34m\u001b[0m\u001b[0m\n\u001b[0m",
      "\u001b[0;32m<ipython-input-274-faedfc7fc5ba>\u001b[0m in \u001b[0;36mcalc_stagnation_derivative_difference\u001b[0;34m(gamma_val, eta_val, rst_val, verbose)\u001b[0m\n\u001b[1;32m      1\u001b[0m \u001b[0;32mdef\u001b[0m \u001b[0mcalc_stagnation_derivative_difference\u001b[0m\u001b[0;34m(\u001b[0m\u001b[0mgamma_val\u001b[0m\u001b[0;34m,\u001b[0m \u001b[0meta_val\u001b[0m\u001b[0;34m,\u001b[0m \u001b[0mrst_val\u001b[0m\u001b[0;34m,\u001b[0m \u001b[0mverbose\u001b[0m\u001b[0;34m=\u001b[0m\u001b[0;32mFalse\u001b[0m\u001b[0;34m)\u001b[0m\u001b[0;34m:\u001b[0m\u001b[0;34m\u001b[0m\u001b[0m\n\u001b[1;32m      2\u001b[0m     \u001b[0mx_outer\u001b[0m\u001b[0;34m,\u001b[0m \u001b[0my_outer\u001b[0m \u001b[0;34m=\u001b[0m \u001b[0mintegrate_outer\u001b[0m\u001b[0;34m(\u001b[0m\u001b[0mgamma_val\u001b[0m\u001b[0;34m,\u001b[0m \u001b[0meta_val\u001b[0m\u001b[0;34m,\u001b[0m \u001b[0mrst_val\u001b[0m\u001b[0;34m)\u001b[0m\u001b[0;34m\u001b[0m\u001b[0m\n\u001b[0;32m----> 3\u001b[0;31m     \u001b[0mx_inner\u001b[0m\u001b[0;34m,\u001b[0m \u001b[0my_inner\u001b[0m \u001b[0;34m=\u001b[0m \u001b[0mintegrate_inner\u001b[0m\u001b[0;34m(\u001b[0m\u001b[0mgamma_val\u001b[0m\u001b[0;34m,\u001b[0m \u001b[0meta_val\u001b[0m\u001b[0;34m,\u001b[0m \u001b[0mrst_val\u001b[0m\u001b[0;34m)\u001b[0m\u001b[0;34m\u001b[0m\u001b[0m\n\u001b[0m\u001b[1;32m      4\u001b[0m     \u001b[0mm_outer\u001b[0m \u001b[0;34m=\u001b[0m \u001b[0my_outer\u001b[0m\u001b[0;34m.\u001b[0m\u001b[0mT\u001b[0m\u001b[0;34m[\u001b[0m\u001b[0;36m0\u001b[0m\u001b[0;34m]\u001b[0m\u001b[0;34m\u001b[0m\u001b[0m\n\u001b[1;32m      5\u001b[0m     \u001b[0mm_inner\u001b[0m \u001b[0;34m=\u001b[0m \u001b[0my_inner\u001b[0m\u001b[0;34m.\u001b[0m\u001b[0mT\u001b[0m\u001b[0;34m[\u001b[0m\u001b[0;36m0\u001b[0m\u001b[0;34m]\u001b[0m\u001b[0;34m\u001b[0m\u001b[0m\n",
      "\u001b[0;32m<ipython-input-242-ecf7e12f40bc>\u001b[0m in \u001b[0;36mintegrate_inner\u001b[0;34m(gamma_val, eta_val, rst_val)\u001b[0m\n\u001b[1;32m     20\u001b[0m     \u001b[0mderiv_wrapper\u001b[0m \u001b[0;34m=\u001b[0m \u001b[0;32mlambda\u001b[0m \u001b[0mx\u001b[0m\u001b[0;34m,\u001b[0m\u001b[0my\u001b[0m\u001b[0;34m:\u001b[0m \u001b[0mraw_deriv_func\u001b[0m\u001b[0;34m(\u001b[0m\u001b[0mx\u001b[0m\u001b[0;34m,\u001b[0m\u001b[0my\u001b[0m\u001b[0;34m[\u001b[0m\u001b[0;36m0\u001b[0m\u001b[0;34m]\u001b[0m\u001b[0;34m,\u001b[0m\u001b[0my\u001b[0m\u001b[0;34m[\u001b[0m\u001b[0;36m1\u001b[0m\u001b[0;34m]\u001b[0m\u001b[0;34m,\u001b[0m\u001b[0my\u001b[0m\u001b[0;34m[\u001b[0m\u001b[0;36m2\u001b[0m\u001b[0;34m]\u001b[0m\u001b[0;34m)\u001b[0m\u001b[0;34m\u001b[0m\u001b[0m\n\u001b[1;32m     21\u001b[0m \u001b[0;34m\u001b[0m\u001b[0m\n\u001b[0;32m---> 22\u001b[0;31m     \u001b[0minner_sonic_point\u001b[0m \u001b[0;34m=\u001b[0m \u001b[0mfind_inner_sonic_point\u001b[0m\u001b[0;34m(\u001b[0m\u001b[0mgamma_val\u001b[0m\u001b[0;34m,\u001b[0m \u001b[0meta_val\u001b[0m\u001b[0;34m,\u001b[0m \u001b[0mrst_val\u001b[0m\u001b[0;34m)\u001b[0m\u001b[0;34m\u001b[0m\u001b[0m\n\u001b[0m\u001b[1;32m     23\u001b[0m     \u001b[0mbc_density\u001b[0m \u001b[0;34m=\u001b[0m \u001b[0;34m-\u001b[0m\u001b[0mraw_sonic_point_density\u001b[0m\u001b[0;34m.\u001b[0m\u001b[0msubs\u001b[0m\u001b[0;34m(\u001b[0m\u001b[0msub_params\u001b[0m\u001b[0;34m)\u001b[0m\u001b[0;34m.\u001b[0m\u001b[0msubs\u001b[0m\u001b[0;34m(\u001b[0m\u001b[0mtilde_r\u001b[0m\u001b[0;34m,\u001b[0m\u001b[0minner_sonic_point\u001b[0m\u001b[0;34m)\u001b[0m\u001b[0;34m\u001b[0m\u001b[0m\n\u001b[1;32m     24\u001b[0m     \u001b[0mbc_sound_speed\u001b[0m \u001b[0;34m=\u001b[0m \u001b[0mraw_sonic_point_sound_speed\u001b[0m\u001b[0;34m.\u001b[0m\u001b[0msubs\u001b[0m\u001b[0;34m(\u001b[0m\u001b[0msub_params\u001b[0m\u001b[0;34m)\u001b[0m\u001b[0;34m.\u001b[0m\u001b[0msubs\u001b[0m\u001b[0;34m(\u001b[0m\u001b[0mtilde_r\u001b[0m\u001b[0;34m,\u001b[0m\u001b[0minner_sonic_point\u001b[0m\u001b[0;34m)\u001b[0m\u001b[0;34m\u001b[0m\u001b[0m\n",
      "\u001b[0;32m<ipython-input-140-71cd9dd28355>\u001b[0m in \u001b[0;36mfind_inner_sonic_point\u001b[0;34m(gamma_val, eta_val, rst_val)\u001b[0m\n\u001b[1;32m     10\u001b[0m     \u001b[0meqn\u001b[0m \u001b[0;34m=\u001b[0m \u001b[0msympy\u001b[0m\u001b[0;34m.\u001b[0m\u001b[0mlambdify\u001b[0m\u001b[0;34m(\u001b[0m\u001b[0mtilde_r\u001b[0m\u001b[0;34m,\u001b[0m \u001b[0meqn\u001b[0m\u001b[0;34m)\u001b[0m\u001b[0;34m\u001b[0m\u001b[0m\n\u001b[1;32m     11\u001b[0m     \u001b[0mdeqn\u001b[0m \u001b[0;34m=\u001b[0m \u001b[0msympy\u001b[0m\u001b[0;34m.\u001b[0m\u001b[0mlambdify\u001b[0m\u001b[0;34m(\u001b[0m\u001b[0mtilde_r\u001b[0m\u001b[0;34m,\u001b[0m \u001b[0mdeqn\u001b[0m\u001b[0;34m)\u001b[0m\u001b[0;34m\u001b[0m\u001b[0m\n\u001b[0;32m---> 12\u001b[0;31m     \u001b[0;32mreturn\u001b[0m \u001b[0mfloat\u001b[0m\u001b[0;34m(\u001b[0m\u001b[0mfindroot\u001b[0m\u001b[0;34m(\u001b[0m\u001b[0meqn\u001b[0m\u001b[0;34m,\u001b[0m \u001b[0;36m0.1\u001b[0m\u001b[0;34m*\u001b[0m\u001b[0mrst_val\u001b[0m\u001b[0;34m,\u001b[0m \u001b[0mdf\u001b[0m\u001b[0;34m=\u001b[0m\u001b[0mdeqn\u001b[0m\u001b[0;34m)\u001b[0m\u001b[0;34m)\u001b[0m\u001b[0;34m\u001b[0m\u001b[0m\n\u001b[0m\u001b[1;32m     13\u001b[0m \u001b[0mfind_inner_sonic_point\u001b[0m\u001b[0;34m(\u001b[0m\u001b[0;36m4.\u001b[0m\u001b[0;34m/\u001b[0m\u001b[0;36m3.\u001b[0m\u001b[0;34m,\u001b[0m \u001b[0;36m2.9\u001b[0m\u001b[0;34m,\u001b[0m \u001b[0;36m9.1\u001b[0m\u001b[0;34m)\u001b[0m\u001b[0;34m\u001b[0m\u001b[0m\n",
      "\u001b[0;32m/home/ayalin/anaconda3/lib/python3.6/site-packages/mpmath/calculus/optimization.py\u001b[0m in \u001b[0;36mfindroot\u001b[0;34m(ctx, f, x0, solver, tol, verbose, verify, **kwargs)\u001b[0m\n\u001b[1;32m    973\u001b[0m                              \u001b[0;34m'(%s > %s)\\n'\u001b[0m\u001b[0;34m\u001b[0m\u001b[0m\n\u001b[1;32m    974\u001b[0m                              \u001b[0;34m'Try another starting point or tweak arguments.'\u001b[0m\u001b[0;34m\u001b[0m\u001b[0m\n\u001b[0;32m--> 975\u001b[0;31m                              % (norm(f(*xl))**2, tol))\n\u001b[0m\u001b[1;32m    976\u001b[0m         \u001b[0;32mreturn\u001b[0m \u001b[0mx\u001b[0m\u001b[0;34m\u001b[0m\u001b[0m\n\u001b[1;32m    977\u001b[0m     \u001b[0;32mfinally\u001b[0m\u001b[0;34m:\u001b[0m\u001b[0;34m\u001b[0m\u001b[0m\n",
      "\u001b[0;31mValueError\u001b[0m: Could not find root within given tolerance. (2.46672347457279950589399973e-24 > 2.06795153138256918717852173e-25)\nTry another starting point or tweak arguments."
     ]
    }
   ],
   "source": [
    "findroot(lambda x: calc_stagnation_derivative_difference(4./3.-0.01, 3.1, x, verbose=True), 8, tol=1e-3)"
   ]
  },
  {
   "cell_type": "code",
   "execution_count": null,
   "metadata": {
    "collapsed": true
   },
   "outputs": [],
   "source": []
  }
 ],
 "metadata": {
  "kernelspec": {
   "display_name": "Python 3",
   "language": "python",
   "name": "python3"
  },
  "language_info": {
   "codemirror_mode": {
    "name": "ipython",
    "version": 3
   },
   "file_extension": ".py",
   "mimetype": "text/x-python",
   "name": "python",
   "nbconvert_exporter": "python",
   "pygments_lexer": "ipython3",
   "version": "3.6.1"
  }
 },
 "nbformat": 4,
 "nbformat_minor": 1
}
