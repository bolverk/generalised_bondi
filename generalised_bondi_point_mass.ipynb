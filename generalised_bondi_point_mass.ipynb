{
 "cells": [
  {
   "cell_type": "code",
   "execution_count": 3,
   "metadata": {
    "collapsed": true
   },
   "outputs": [],
   "source": [
    "import sympy\n",
    "sympy.init_printing()"
   ]
  },
  {
   "cell_type": "markdown",
   "metadata": {},
   "source": [
    "# Governing Equations"
   ]
  },
  {
   "cell_type": "markdown",
   "metadata": {},
   "source": [
    "Conservation of mass"
   ]
  },
  {
   "cell_type": "code",
   "execution_count": 4,
   "metadata": {
    "collapsed": false
   },
   "outputs": [
    {
     "data": {
      "image/png": "[encoded data removed]",
      "text/latex": [
       "$$\\frac{1}{r^{2}} \\left(r^{2} \\rho{\\left (r \\right )} \\frac{d}{d r} u{\\left (r \\right )} + r^{2} u{\\left (r \\right )} \\frac{d}{d r} \\rho{\\left (r \\right )} + 2 r \\rho{\\left (r \\right )} u{\\left (r \\right )}\\right) = q$$"
      ],
      "text/plain": [
       " 2      d           2      d                           \n",
       "r ⋅ρ(r)⋅──(u(r)) + r ⋅u(r)⋅──(ρ(r)) + 2⋅r⋅ρ(r)⋅u(r)    \n",
       "        dr                 dr                          \n",
       "─────────────────────────────────────────────────── = q\n",
       "                          2                            \n",
       "                         r                             "
      ]
     },
     "execution_count": 4,
     "metadata": {},
     "output_type": "execute_result"
    }
   ],
   "source": [
    "r = sympy.Symbol('r')\n",
    "rho = sympy.Symbol('rho')\n",
    "u = sympy.Symbol('u')\n",
    "q = sympy.Symbol('q')\n",
    "mass_conservation = sympy.Eq((1/r**2)*(r**2*rho(r)*u(r)).diff(r),q)\n",
    "mass_conservation"
   ]
  },
  {
   "cell_type": "markdown",
   "metadata": {},
   "source": [
    "Conservation of momentum"
   ]
  },
  {
   "cell_type": "code",
   "execution_count": 5,
   "metadata": {
    "collapsed": false
   },
   "outputs": [
    {
     "data": {
      "image/png": "[encoded data removed]",
      "text/latex": [
       "$$\\rho{\\left (r \\right )} u{\\left (r \\right )} \\frac{d}{d r} u{\\left (r \\right )} + \\frac{d}{d r} p{\\left (r \\right )} = - \\frac{G M}{r^{2}} \\rho{\\left (r \\right )} - q u{\\left (r \\right )}$$"
      ],
      "text/plain": [
       "          d          d            G⋅M⋅ρ(r)         \n",
       "ρ(r)⋅u(r)⋅──(u(r)) + ──(p(r)) = - ──────── - q⋅u(r)\n",
       "          dr         dr               2            \n",
       "                                     r             "
      ]
     },
     "execution_count": 5,
     "metadata": {},
     "output_type": "execute_result"
    }
   ],
   "source": [
    "p = sympy.Symbol('p')\n",
    "G = sympy.Symbol('G', positive=True)\n",
    "M = sympy.Symbol('M', positive=True)\n",
    "momentum_conservation = sympy.Eq(rho(r)*u(r)*u(r).diff(r) + p(r).diff(r),\n",
    "                                 -rho(r)*G*M/r**2-q*u(r))\n",
    "momentum_conservation"
   ]
  },
  {
   "cell_type": "markdown",
   "metadata": {},
   "source": [
    "Energy conservation"
   ]
  },
  {
   "cell_type": "code",
   "execution_count": 6,
   "metadata": {
    "collapsed": false
   },
   "outputs": [
    {
     "data": {
      "image/png": "[encoded data removed]",
      "text/latex": [
       "$$\\frac{1}{r^{2}} \\left(r^{2} \\left(\\frac{\\gamma p{\\left (r \\right )}}{\\gamma - 1} + \\frac{1}{2} \\rho{\\left (r \\right )} u^{2}{\\left (r \\right )}\\right) \\frac{d}{d r} u{\\left (r \\right )} + r^{2} \\left(\\frac{\\gamma}{\\gamma - 1} \\frac{d}{d r} p{\\left (r \\right )} + \\rho{\\left (r \\right )} u{\\left (r \\right )} \\frac{d}{d r} u{\\left (r \\right )} + \\frac{1}{2} u^{2}{\\left (r \\right )} \\frac{d}{d r} \\rho{\\left (r \\right )}\\right) u{\\left (r \\right )} + 2 r \\left(\\frac{\\gamma p{\\left (r \\right )}}{\\gamma - 1} + \\frac{1}{2} \\rho{\\left (r \\right )} u^{2}{\\left (r \\right )}\\right) u{\\left (r \\right )}\\right) = - \\frac{G M}{r^{2}} \\rho{\\left (r \\right )} u{\\left (r \\right )} + \\frac{q v_{w}^{2}}{2}$$"
      ],
      "text/plain": [
       "                                       ⎛  d                                2  \n",
       "   ⎛               2   ⎞               ⎜γ⋅──(p(r))                        u (r\n",
       " 2 ⎜γ⋅p(r)   ρ(r)⋅u (r)⎟ d           2 ⎜  dr                   d              \n",
       "r ⋅⎜────── + ──────────⎟⋅──(u(r)) + r ⋅⎜────────── + ρ(r)⋅u(r)⋅──(u(r)) + ────\n",
       "   ⎝γ - 1        2     ⎠ dr            ⎝  γ - 1                dr             \n",
       "──────────────────────────────────────────────────────────────────────────────\n",
       "                                                                2             \n",
       "                                                               r              \n",
       "\n",
       "  d       ⎞                                                                 \n",
       ")⋅──(ρ(r))⎟            ⎛               2   ⎞                                \n",
       "  dr      ⎟            ⎜γ⋅p(r)   ρ(r)⋅u (r)⎟                                \n",
       "──────────⎟⋅u(r) + 2⋅r⋅⎜────── + ──────────⎟⋅u(r)                          2\n",
       "  2       ⎠            ⎝γ - 1        2     ⎠          G⋅M⋅ρ(r)⋅u(r)   q⋅v_w \n",
       "───────────────────────────────────────────────── = - ───────────── + ──────\n",
       "                                                             2          2   \n",
       "                                                            r               "
      ]
     },
     "execution_count": 6,
     "metadata": {},
     "output_type": "execute_result"
    }
   ],
   "source": [
    "gamma = sympy.Symbol('gamma')\n",
    "v_w = sympy.Symbol('v_w', positive=True)\n",
    "energy_conservation = sympy.Eq((1/r**2)*(r**2*u(r)*(rho(r)*u(r)**2/2+gamma*p(r)/(gamma-1))).diff(r),\n",
    "         -G*M*u(r)*rho(r)/r**2+v_w**2*q/2)\n",
    "energy_conservation"
   ]
  },
  {
   "cell_type": "markdown",
   "metadata": {},
   "source": [
    "Mass source term"
   ]
  },
  {
   "cell_type": "code",
   "execution_count": 7,
   "metadata": {
    "collapsed": false
   },
   "outputs": [
    {
     "data": {
      "image/png": "[encoded data removed]",
      "text/latex": [
       "$$D r^{- \\eta}$$"
      ],
      "text/plain": [
       "   -η\n",
       "D⋅r  "
      ]
     },
     "execution_count": 7,
     "metadata": {},
     "output_type": "execute_result"
    }
   ],
   "source": [
    "D = sympy.Symbol('D')\n",
    "eta = sympy.Symbol('eta')\n",
    "mass_source = D*r**(-eta)\n",
    "mass_source"
   ]
  },
  {
   "cell_type": "markdown",
   "metadata": {},
   "source": [
    "# Reduction to dimensionless variables"
   ]
  },
  {
   "cell_type": "markdown",
   "metadata": {},
   "source": [
    "Bondi radius"
   ]
  },
  {
   "cell_type": "code",
   "execution_count": 8,
   "metadata": {
    "collapsed": false
   },
   "outputs": [
    {
     "data": {
      "image/png": "[encoded data removed]",
      "text/latex": [
       "$$\\frac{G M}{v_{w}^{2}}$$"
      ],
      "text/plain": [
       "G⋅M \n",
       "────\n",
       "   2\n",
       "v_w "
      ]
     },
     "execution_count": 8,
     "metadata": {},
     "output_type": "execute_result"
    }
   ],
   "source": [
    "bondi_radius = G*M/v_w**2\n",
    "bondi_radius"
   ]
  },
  {
   "cell_type": "markdown",
   "metadata": {},
   "source": [
    "Bondi density"
   ]
  },
  {
   "cell_type": "code",
   "execution_count": 9,
   "metadata": {
    "collapsed": false
   },
   "outputs": [
    {
     "data": {
      "image/png": "[encoded data removed]",
      "text/latex": [
       "$$D v_{w}^{2 \\eta - 3} \\left(G M\\right)^{- \\eta + 1}$$"
      ],
      "text/plain": [
       "     2⋅η - 3      -η + 1\n",
       "D⋅v_w       ⋅(G⋅M)      "
      ]
     },
     "execution_count": 9,
     "metadata": {},
     "output_type": "execute_result"
    }
   ],
   "source": [
    "temp = D*bondi_radius**(-eta)*(bondi_radius/v_w)\n",
    "temp = sympy.expand_power_base(temp,force=True)\n",
    "temp = temp.simplify()\n",
    "bondi_density = temp\n",
    "bondi_density"
   ]
  },
  {
   "cell_type": "markdown",
   "metadata": {},
   "source": [
    "Mass conservation"
   ]
  },
  {
   "cell_type": "code",
   "execution_count": 10,
   "metadata": {
    "collapsed": false
   },
   "outputs": [
    {
     "data": {
      "image/png": "[encoded data removed]",
      "text/latex": [
       "$$\\tilde{r}^{- \\eta} = \\tilde{\\rho}{\\left (\\tilde{r} \\right )} \\frac{d}{d \\tilde{r}} \\tilde{u}{\\left (\\tilde{r} \\right )} + \\tilde{u}{\\left (\\tilde{r} \\right )} \\frac{d}{d \\tilde{r}} \\tilde{\\rho}{\\left (\\tilde{r} \\right )} + \\frac{2}{\\tilde{r}} \\tilde{\\rho}{\\left (\\tilde{r} \\right )} \\tilde{u}{\\left (\\tilde{r} \\right )}$$"
      ],
      "text/plain": [
       "         -η                               d                                   \n",
       "\\tilde{r}   = \\tilde{\\rho}(\\tilde{r})⋅──────────(\\tilde{u}(\\tilde{r})) + \\tild\n",
       "                                      d\\tilde{r}                              \n",
       "\n",
       "                    d                                 2⋅\\tilde{\\rho}(\\tilde{r}\n",
       "e{u}(\\tilde{r})⋅──────────(\\tilde{\\rho}(\\tilde{r})) + ────────────────────────\n",
       "                d\\tilde{r}                                              \\tilde\n",
       "\n",
       ")⋅\\tilde{u}(\\tilde{r})\n",
       "──────────────────────\n",
       "{r}                   "
      ]
     },
     "execution_count": 10,
     "metadata": {},
     "output_type": "execute_result"
    }
   ],
   "source": [
    "tilde_rho = sympy.Symbol(r'\\tilde{\\rho}')\n",
    "tilde_r = sympy.Symbol(r'\\tilde{r}')\n",
    "tilde_u = sympy.Symbol(r'\\tilde{u}')\n",
    "temp = mass_conservation\n",
    "temp = temp.subs(q, mass_source)\n",
    "temp = temp.subs(rho(r).diff(r), bondi_density*tilde_rho(tilde_r).diff(tilde_r)/bondi_radius)\n",
    "temp = temp.subs(u(r).diff(r), v_w*tilde_u(tilde_r).diff(tilde_r)/bondi_radius)\n",
    "temp = temp.subs(rho(r), bondi_density*tilde_rho(tilde_r))\n",
    "temp = temp.subs(u(r), v_w*tilde_u(tilde_r))\n",
    "temp = sympy.Eq(temp.lhs*(G*M)**eta/D/(v_w**2)**eta, \n",
    "                temp.rhs*(G*M)**eta/D/(v_w**2)**eta)\n",
    "temp = temp.subs(r, bondi_radius*tilde_r)\n",
    "temp = sympy.expand_power_base(temp)\n",
    "temp = temp.simplify()\n",
    "dimles_mass_conservation = temp\n",
    "dimles_mass_conservation"
   ]
  },
  {
   "cell_type": "markdown",
   "metadata": {},
   "source": [
    "Momentum conservation"
   ]
  },
  {
   "cell_type": "code",
   "execution_count": 11,
   "metadata": {
    "collapsed": false
   },
   "outputs": [
    {
     "data": {
      "image/png": "[encoded data removed]",
      "text/latex": [
       "$$\\tilde{\\rho}{\\left (\\tilde{r} \\right )} \\tilde{u}{\\left (\\tilde{r} \\right )} \\frac{d}{d \\tilde{r}} \\tilde{u}{\\left (\\tilde{r} \\right )} + \\frac{d}{d \\tilde{r}} \\tilde{p}{\\left (\\tilde{r} \\right )} = - \\tilde{r}^{- \\eta} \\tilde{u}{\\left (\\tilde{r} \\right )} - \\frac{1}{\\tilde{r}^{2}} \\tilde{\\rho}{\\left (\\tilde{r} \\right )}$$"
      ],
      "text/plain": [
       "                                                 d                            \n",
       "\\tilde{\\rho}(\\tilde{r})⋅\\tilde{u}(\\tilde{r})⋅──────────(\\tilde{u}(\\tilde{r})) \n",
       "                                             d\\tilde{r}                       \n",
       "                                                                              \n",
       "\n",
       "      d                                         -η                        \\til\n",
       "+ ──────────(\\tilde{p}(\\tilde{r})) = - \\tilde{r}  ⋅\\tilde{u}(\\tilde{r}) - ────\n",
       "  d\\tilde{r}                                                                  \n",
       "                                                                              \n",
       "\n",
       "de{\\rho}(\\tilde{r})\n",
       "───────────────────\n",
       "            2      \n",
       "   \\tilde{r}       "
      ]
     },
     "execution_count": 11,
     "metadata": {},
     "output_type": "execute_result"
    }
   ],
   "source": [
    "tilde_p = sympy.Symbol(r'\\tilde{p}')\n",
    "temp = momentum_conservation\n",
    "temp = temp.subs(q, mass_source)\n",
    "temp = temp.subs(rho(r).diff(r), bondi_density*tilde_rho(tilde_r).diff(tilde_r)/bondi_radius)\n",
    "temp = temp.subs(u(r).diff(r), v_w*tilde_u(tilde_r).diff(tilde_r)/bondi_radius)\n",
    "temp = temp.subs(p(r).diff(r), bondi_density*v_w**2*tilde_p(tilde_r).diff(tilde_r)/bondi_radius)\n",
    "temp = temp.subs(rho(r), bondi_density*tilde_rho(tilde_r))\n",
    "temp = temp.subs(u(r), v_w*tilde_u(tilde_r))\n",
    "temp = temp.subs(p(r), bondi_density*v_w**2*tilde_p(tilde_r))\n",
    "temp = sympy.Eq(temp.lhs*(G*M)**eta/D/(v_w**2)**eta/v_w, \n",
    "                temp.rhs*(G*M)**eta/D/(v_w**2)**eta/v_w)\n",
    "temp = temp.subs(r, bondi_radius*tilde_r)\n",
    "temp = temp.simplify()\n",
    "dimles_momentum_conservation = temp\n",
    "dimles_momentum_conservation"
   ]
  },
  {
   "cell_type": "markdown",
   "metadata": {},
   "source": [
    "Energy conservation"
   ]
  },
  {
   "cell_type": "code",
   "execution_count": 12,
   "metadata": {
    "collapsed": false
   },
   "outputs": [
    {
     "data": {
      "image/png": "[encoded data removed]",
      "text/latex": [
       "$$\\frac{\\tilde{r}^{- \\eta}}{2} - \\frac{1}{\\tilde{r}^{2}} \\tilde{\\rho}{\\left (\\tilde{r} \\right )} \\tilde{u}{\\left (\\tilde{r} \\right )} = \\frac{1}{2 \\tilde{r} \\left(\\gamma - 1\\right)} \\left(\\tilde{r} \\left(2 \\gamma \\frac{d}{d \\tilde{r}} \\tilde{p}{\\left (\\tilde{r} \\right )} + \\left(\\gamma - 1\\right) \\left(2 \\tilde{\\rho}{\\left (\\tilde{r} \\right )} \\frac{d}{d \\tilde{r}} \\tilde{u}{\\left (\\tilde{r} \\right )} + \\tilde{u}{\\left (\\tilde{r} \\right )} \\frac{d}{d \\tilde{r}} \\tilde{\\rho}{\\left (\\tilde{r} \\right )}\\right) \\tilde{u}{\\left (\\tilde{r} \\right )}\\right) \\tilde{u}{\\left (\\tilde{r} \\right )} + \\left(\\tilde{r} \\frac{d}{d \\tilde{r}} \\tilde{u}{\\left (\\tilde{r} \\right )} + 2 \\tilde{u}{\\left (\\tilde{r} \\right )}\\right) \\left(2 \\gamma \\tilde{p}{\\left (\\tilde{r} \\right )} + \\left(\\gamma - 1\\right) \\tilde{\\rho}{\\left (\\tilde{r} \\right )} \\tilde{u}^{2}{\\left (\\tilde{r} \\right )}\\right)\\right)$$"
      ],
      "text/plain": [
       "                                                                       ⎛      \n",
       "         -η                                                  \\tilde{r}⋅⎜2⋅γ⋅──\n",
       "\\tilde{r}     \\tilde{\\rho}(\\tilde{r})⋅\\tilde{u}(\\tilde{r})             ⎝    d\\\n",
       "─────────── - ──────────────────────────────────────────── = ─────────────────\n",
       "     2                                  2                                     \n",
       "                               \\tilde{r}                                      \n",
       "\n",
       "  d                                      ⎛                              d     \n",
       "────────(\\tilde{p}(\\tilde{r})) + (γ - 1)⋅⎜2⋅\\tilde{\\rho}(\\tilde{r})⋅──────────\n",
       "tilde{r}                                 ⎝                          d\\tilde{r}\n",
       "──────────────────────────────────────────────────────────────────────────────\n",
       "                                                                              \n",
       "                                                                              \n",
       "\n",
       "                                                  d                           \n",
       "(\\tilde{u}(\\tilde{r})) + \\tilde{u}(\\tilde{r})⋅──────────(\\tilde{\\rho}(\\tilde{r\n",
       "                                              d\\tilde{r}                      \n",
       "──────────────────────────────────────────────────────────────────────────────\n",
       "                                                                              \n",
       "                                                                              \n",
       "\n",
       "   ⎞                     ⎞                        ⎛              d            \n",
       "}))⎟⋅\\tilde{u}(\\tilde{r})⎟⋅\\tilde{u}(\\tilde{r}) + ⎜\\tilde{r}⋅──────────(\\tilde\n",
       "   ⎠                     ⎠                        ⎝          d\\tilde{r}       \n",
       "──────────────────────────────────────────────────────────────────────────────\n",
       "     2⋅\\tilde{r}⋅(γ - 1)                                                      \n",
       "                                                                              \n",
       "\n",
       "                                        ⎞ ⎛                                   \n",
       "{u}(\\tilde{r})) + 2⋅\\tilde{u}(\\tilde{r})⎟⋅⎝2⋅γ⋅\\tilde{p}(\\tilde{r}) + (γ - 1)⋅\n",
       "                                        ⎠                                     \n",
       "──────────────────────────────────────────────────────────────────────────────\n",
       "                                                                              \n",
       "                                                                              \n",
       "\n",
       "                                 2           ⎞\n",
       "\\tilde{\\rho}(\\tilde{r})⋅\\tilde{u} (\\tilde{r})⎠\n",
       "                                              \n",
       "──────────────────────────────────────────────\n",
       "                                              \n",
       "                                              "
      ]
     },
     "execution_count": 12,
     "metadata": {},
     "output_type": "execute_result"
    }
   ],
   "source": [
    "temp = energy_conservation\n",
    "temp = temp.subs(q, mass_source)\n",
    "temp = temp.subs(rho(r).diff(r), bondi_density*tilde_rho(tilde_r).diff(tilde_r)/bondi_radius)\n",
    "temp = temp.subs(u(r).diff(r), v_w*tilde_u(tilde_r).diff(tilde_r)/bondi_radius)\n",
    "temp = temp.subs(p(r).diff(r), bondi_density*v_w**2*tilde_p(tilde_r).diff(tilde_r)/bondi_radius)\n",
    "temp = temp.subs(rho(r), bondi_density*tilde_rho(tilde_r))\n",
    "temp = temp.subs(u(r), v_w*tilde_u(tilde_r))\n",
    "temp = temp.subs(p(r), bondi_density*v_w**2*tilde_p(tilde_r))\n",
    "temp = sympy.Eq(temp.lhs*(G*M)**eta/D/(v_w**2)**eta/v_w**2, \n",
    "                temp.rhs*(G*M)**eta/D/(v_w**2)**eta/v_w**2)\n",
    "temp = temp.subs(r, bondi_radius*tilde_r)\n",
    "temp = temp.simplify()\n",
    "dimles_energy_conservation = temp\n",
    "dimles_energy_conservation"
   ]
  },
  {
   "cell_type": "markdown",
   "metadata": {},
   "source": [
    "Integral expressions"
   ]
  },
  {
   "cell_type": "code",
   "execution_count": 13,
   "metadata": {
    "collapsed": false
   },
   "outputs": [
    {
     "data": {
      "image/png": "[encoded data removed]",
      "text/latex": [
       "$$\\tilde{r}^{2} \\tilde{\\rho}{\\left (\\tilde{r} \\right )} \\tilde{u}{\\left (\\tilde{r} \\right )} = \\frac{\\tilde{r}^{- \\eta + 3}}{- \\eta + 3} - \\frac{\\tilde{r}_{st}^{- \\eta + 3}}{- \\eta + 3}$$"
      ],
      "text/plain": [
       "                                                                   -η + 3     \n",
       "         2                                                \\tilde{r}         \\t\n",
       "\\tilde{r} ⋅\\tilde{\\rho}(\\tilde{r})⋅\\tilde{u}(\\tilde{r}) = ─────────────── - ──\n",
       "                                                               -η + 3         \n",
       "\n",
       "            -η + 3\n",
       "ilde{r}_{st}      \n",
       "──────────────────\n",
       "     -η + 3       "
      ]
     },
     "execution_count": 13,
     "metadata": {},
     "output_type": "execute_result"
    }
   ],
   "source": [
    "tilde_r_st = sympy.Symbol(r'\\tilde{r}_{st}')\n",
    "temp = tilde_r**(-eta)\n",
    "temp *= tilde_r**2\n",
    "temp = temp.simplify()\n",
    "temp = temp.integrate(tilde_r,conds='none')\n",
    "temp = temp - temp.subs(tilde_r, tilde_r_st)\n",
    "temp = sympy.Eq(tilde_r**2*tilde_rho(tilde_r)*tilde_u(tilde_r), temp)\n",
    "integral_mass_conservation = temp\n",
    "integral_mass_conservation"
   ]
  },
  {
   "cell_type": "markdown",
   "metadata": {},
   "source": [
    "Verification"
   ]
  },
  {
   "cell_type": "code",
   "execution_count": 14,
   "metadata": {
    "collapsed": false
   },
   "outputs": [
    {
     "data": {
      "image/png": "[encoded data removed]",
      "text/latex": [
       "$$0$$"
      ],
      "text/plain": [
       "0"
      ]
     },
     "execution_count": 14,
     "metadata": {},
     "output_type": "execute_result"
    }
   ],
   "source": [
    "temp = integral_mass_conservation\n",
    "temp = temp.lhs - temp.rhs\n",
    "temp = temp.diff(tilde_r)\n",
    "temp = temp.subs(sympy.solve(dimles_mass_conservation,\n",
    "                             tilde_rho(tilde_r).diff(tilde_r),dict=True)[0])\n",
    "temp = temp.simplify()\n",
    "temp"
   ]
  },
  {
   "cell_type": "markdown",
   "metadata": {
    "collapsed": true
   },
   "source": [
    "Energy conservation"
   ]
  },
  {
   "cell_type": "code",
   "execution_count": 15,
   "metadata": {
    "collapsed": false
   },
   "outputs": [
    {
     "data": {
      "image/png": "[encoded data removed]",
      "text/latex": [
       "$$\\frac{1}{\\gamma - 1} \\left(\\frac{1}{2} \\left(\\gamma - 1\\right) \\left(\\tilde{u}^{2}{\\left (\\tilde{r} \\right )} - 1\\right) + \\tilde{c}^{2}{\\left (\\tilde{r} \\right )}\\right) = \\frac{\\tilde{r}^{- \\eta - 1} \\tilde{r}_{st}^{- \\eta}}{\\left(\\tilde{r}^{- \\eta + 3} - \\tilde{r}_{st}^{- \\eta + 3}\\right) \\left(\\eta - 2\\right)} \\left(\\tilde{r}^{3} \\tilde{r}_{st}^{\\eta} - \\tilde{r}^{\\eta} \\tilde{r}_{st}^{3} \\eta + 2 \\tilde{r}^{\\eta} \\tilde{r}_{st}^{3} + \\tilde{r}^{\\eta + 1} \\tilde{r}_{st}^{2} \\eta - 3 \\tilde{r}^{\\eta + 1} \\tilde{r}_{st}^{2}\\right)$$"
      ],
      "text/plain": [
       "        ⎛         2               ⎞                                           \n",
       "(γ - 1)⋅⎝\\tilde{u} (\\tilde{r}) - 1⎠            2                              \n",
       "─────────────────────────────────── + \\tilde{c} (\\tilde{r})            -η - 1 \n",
       "                 2                                            \\tilde{r}      ⋅\n",
       "─────────────────────────────────────────────────────────── = ────────────────\n",
       "                           γ - 1                                              \n",
       "                                                                              \n",
       "\n",
       "                                                                              \n",
       "                                                                              \n",
       "              -η ⎛         3               η            η               3     \n",
       "\\tilde{r}_{st}  ⋅⎝\\tilde{r} ⋅\\tilde{r}_{st}  - \\tilde{r} ⋅\\tilde{r}_{st} ⋅η + \n",
       "──────────────────────────────────────────────────────────────────────────────\n",
       "                                                         ⎛         -η + 3     \n",
       "                                                         ⎝\\tilde{r}       - \\t\n",
       "\n",
       "                                                                              \n",
       "                                                                              \n",
       "           η               3            η + 1               2                η\n",
       "2⋅\\tilde{r} ⋅\\tilde{r}_{st}  + \\tilde{r}     ⋅\\tilde{r}_{st} ⋅η - 3⋅\\tilde{r} \n",
       "──────────────────────────────────────────────────────────────────────────────\n",
       "            -η + 3⎞                                                           \n",
       "ilde{r}_{st}      ⎠⋅(η - 2)                                                   \n",
       "\n",
       "                     \n",
       "                     \n",
       " + 1               2⎞\n",
       "    ⋅\\tilde{r}_{st} ⎠\n",
       "─────────────────────\n",
       "                     \n",
       "                     "
      ]
     },
     "execution_count": 15,
     "metadata": {},
     "output_type": "execute_result"
    }
   ],
   "source": [
    "tilde_c = sympy.Symbol(r'\\tilde{c}')\n",
    "temp = -integral_mass_conservation.rhs\n",
    "temp /= tilde_r**2\n",
    "temp = temp.expand()\n",
    "temp = temp.integrate(tilde_r,conds='none')\n",
    "temp = temp - temp.subs(tilde_r, tilde_r_st)\n",
    "temp = temp.simplify()\n",
    "temp = temp.subs(eta**2-5*eta+6, (eta-2)*(eta-3))\n",
    "temp = sympy.Eq(tilde_u(tilde_r)**2/2-sympy.Rational(1,2) + tilde_c(tilde_r)**2/(gamma-1),\n",
    "               temp/integral_mass_conservation.rhs)\n",
    "temp = temp.simplify()\n",
    "integral_energy_conservation = temp\n",
    "integral_energy_conservation"
   ]
  },
  {
   "cell_type": "markdown",
   "metadata": {},
   "source": [
    "Verification"
   ]
  },
  {
   "cell_type": "code",
   "execution_count": 16,
   "metadata": {
    "collapsed": false
   },
   "outputs": [
    {
     "data": {
      "image/png": "[encoded data removed]",
      "text/latex": [
       "$$0$$"
      ],
      "text/plain": [
       "0"
      ]
     },
     "execution_count": 16,
     "metadata": {},
     "output_type": "execute_result"
    }
   ],
   "source": [
    "temp = integral_energy_conservation\n",
    "temp = temp.subs(tilde_c(tilde_r), sympy.sqrt(gamma*tilde_p(tilde_r)/tilde_rho(tilde_r)))\n",
    "temp = sympy.Eq(temp.lhs*integral_mass_conservation.lhs,\n",
    "                temp.rhs*integral_mass_conservation.rhs)\n",
    "temp = temp.lhs - temp.rhs\n",
    "temp = temp.diff(tilde_r)\n",
    "temp -= (dimles_energy_conservation.rhs-dimles_energy_conservation.lhs)*tilde_r**2\n",
    "temp = temp.subs(sympy.solve(dimles_mass_conservation,tilde_rho(tilde_r).diff(tilde_r),dict=True)[0])\n",
    "temp = temp.subs(sympy.solve(integral_mass_conservation,tilde_rho(tilde_r),dict=True)[0])\n",
    "temp = temp.subs(sympy.solve([dimles_mass_conservation,\n",
    "                              dimles_momentum_conservation,\n",
    "                              dimles_energy_conservation],\n",
    "                             [tilde_p(tilde_r).diff(tilde_r),\n",
    "                             tilde_rho(tilde_r).diff(tilde_r),\n",
    "                             tilde_u(tilde_r).diff(tilde_r)]))                           \n",
    "temp = temp.simplify()\n",
    "temp = temp.subs(sympy.solve(integral_mass_conservation,tilde_rho(tilde_r),dict=True)[0])\n",
    "temp.simplify()"
   ]
  },
  {
   "cell_type": "markdown",
   "metadata": {},
   "source": [
    "# Solutions without Gravity\n",
    "In this case the fluid velocity and the speed of sound are constant. The density is a single power law"
   ]
  },
  {
   "cell_type": "code",
   "execution_count": 17,
   "metadata": {
    "collapsed": false
   },
   "outputs": [
    {
     "data": {
      "image/png": "[encoded data removed]",
      "text/latex": [
       "$$\\left [ \\left ( \\frac{D \\sqrt{\\frac{- \\eta \\gamma + \\eta + \\gamma - 1}{\\eta \\gamma + \\eta - 5 \\gamma - 1}} \\left(\\eta \\gamma + \\eta - 5 \\gamma - 1\\right)}{v_{w} \\left(\\eta^{2} \\gamma - \\eta^{2} - 4 \\eta \\gamma + 4 \\eta + 3 \\gamma - 3\\right)}, \\quad v_{w} \\sqrt{- \\frac{\\left(\\eta - 1\\right) \\left(\\gamma - 1\\right)}{\\eta \\gamma + \\eta - 5 \\gamma - 1}}, \\quad v_{w} \\sqrt{\\frac{\\gamma \\left(\\eta - 3\\right) \\left(\\gamma - 1\\right)}{\\eta \\gamma + \\eta - 5 \\gamma - 1}}\\right ), \\quad - \\eta + 1\\right ]$$"
      ],
      "text/plain": [
       "⎡⎛      ___________________                                                   \n",
       "⎢⎜     ╱  -η⋅γ + η + γ - 1                                                    \n",
       "⎢⎜D⋅  ╱  ───────────────── ⋅(η⋅γ + η - 5⋅γ - 1)          ___________________  \n",
       "⎢⎜  ╲╱   η⋅γ + η - 5⋅γ - 1                              ╱ -(η - 1)⋅(γ - 1)    \n",
       "⎢⎜─────────────────────────────────────────────, v_w⋅  ╱  ───────────────── , \n",
       "⎢⎜       ⎛ 2      2                        ⎞         ╲╱   η⋅γ + η - 5⋅γ - 1   \n",
       "⎣⎝   v_w⋅⎝η ⋅γ - η  - 4⋅η⋅γ + 4⋅η + 3⋅γ - 3⎠                                  \n",
       "\n",
       "                           ⎞        ⎤\n",
       "                           ⎟        ⎥\n",
       "        ___________________⎟        ⎥\n",
       "       ╱ γ⋅(η - 3)⋅(γ - 1) ⎟        ⎥\n",
       "v_w⋅  ╱  ───────────────── ⎟, -η + 1⎥\n",
       "    ╲╱   η⋅γ + η - 5⋅γ - 1 ⎟        ⎥\n",
       "                           ⎠        ⎦"
      ]
     },
     "execution_count": 17,
     "metadata": {},
     "output_type": "execute_result"
    }
   ],
   "source": [
    "c = sympy.Symbol('c')\n",
    "alpha = sympy.Symbol('alpha')\n",
    "A = sympy.Symbol('A')\n",
    "temp = [mass_conservation,momentum_conservation,energy_conservation]\n",
    "temp = map(lambda eqn: eqn.subs(q,mass_source), temp)\n",
    "temp = map(lambda eqn: eqn.subs(p(r),rho(r)*c(r)**2/gamma), temp)\n",
    "temp = map(lambda eqn: eqn.doit(), temp)\n",
    "temp = map(lambda eqn: eqn.subs(M,0), temp)\n",
    "temp = map(lambda eqn: eqn.subs(u(r).diff(r),0), temp)\n",
    "temp = map(lambda eqn: eqn.subs(c(r).diff(r),0), temp)\n",
    "temp = map(lambda eqn: eqn.subs(rho(r),A*r**alpha),temp)\n",
    "temp = map(lambda eqn: eqn.doit(), temp)\n",
    "temp = map(lambda eqn: eqn.simplify(), temp)\n",
    "asymptotic_density_index = sympy.solve(sympy.Eq(sympy.log(temp[0].lhs).diff(r)*r,\n",
    "         (sympy.log(temp[0].rhs).diff(r)*r).subs(u(r).diff(r),0)),alpha)[0]\n",
    "temp = map(lambda eqn: eqn.subs(alpha,asymptotic_density_index), temp)\n",
    "asymptotic_prefactors = sympy.solve(temp,[A,u(r),c(r)])[1]\n",
    "[asymptotic_prefactors,asymptotic_density_index]"
   ]
  },
  {
   "cell_type": "markdown",
   "metadata": {},
   "source": [
    "Asymptotic Mach number"
   ]
  },
  {
   "cell_type": "code",
   "execution_count": 18,
   "metadata": {
    "collapsed": false
   },
   "outputs": [
    {
     "data": {
      "image/png": "[encoded data removed]",
      "text/latex": [
       "$$\\frac{\\sqrt{\\eta - 1}}{\\sqrt{\\gamma \\left(- \\eta + 3\\right)}}$$"
      ],
      "text/plain": [
       "    _______   \n",
       "  ╲╱ η - 1    \n",
       "──────────────\n",
       "  ____________\n",
       "╲╱ γ⋅(-η + 3) "
      ]
     },
     "execution_count": 18,
     "metadata": {},
     "output_type": "execute_result"
    }
   ],
   "source": [
    "Q = sympy.Symbol('Q',positive=True)\n",
    "temp = asymptotic_prefactors[1]/asymptotic_prefactors[2]\n",
    "temp = temp.subs(eta*gamma+eta-5*gamma-1,-Q)\n",
    "temp = sympy.expand_power_base(temp)\n",
    "temp = temp.simplify()\n",
    "temp = temp.subs(gamma-1,Q)\n",
    "temp = temp.simplify()\n",
    "asymptotic_mach_number = temp\n",
    "asymptotic_mach_number"
   ]
  },
  {
   "cell_type": "markdown",
   "metadata": {},
   "source": [
    "More simplification for the density prefactor"
   ]
  },
  {
   "cell_type": "code",
   "execution_count": 19,
   "metadata": {
    "collapsed": false
   },
   "outputs": [
    {
     "name": "stdout",
     "output_type": "stream",
     "text": [
      "- \\frac{D \\sqrt{- \\eta \\left(\\gamma - 1\\right) - 2 \\eta + 5 \\gamma + 1}}{v_{w} \\left(\\eta - 3\\right) \\sqrt{\\eta - 1} \\sqrt{\\gamma - 1}}\n"
     ]
    }
   ],
   "source": [
    "temp = asymptotic_prefactors[0]\n",
    "temp = temp.subs(eta,Q+1)\n",
    "temp = temp.simplify()\n",
    "temp = temp.subs(Q,eta-1)\n",
    "temp = temp.subs(eta,Q+3)\n",
    "temp = temp.simplify()\n",
    "temp = temp.subs(Q,eta-3)\n",
    "temp = temp.subs(gamma,Q+1)\n",
    "temp = temp.simplify()\n",
    "temp = temp.subs(Q,gamma-1)\n",
    "temp = temp.subs(eta*(gamma-1)+2*eta-5*gamma-1,-Q)\n",
    "temp = temp.simplify()\n",
    "temp = temp.subs(Q,-(eta*(gamma-1)+2*eta-5*gamma-1))\n",
    "print sympy.latex(temp)"
   ]
  },
  {
   "cell_type": "markdown",
   "metadata": {},
   "source": [
    "The flow is supersonic at large distances when $\\eta$ is greater than"
   ]
  },
  {
   "cell_type": "code",
   "execution_count": 20,
   "metadata": {
    "collapsed": false
   },
   "outputs": [
    {
     "data": {
      "image/png": "[encoded data removed]",
      "text/latex": [
       "$$\\frac{3 \\gamma + 1}{\\gamma + 1}$$"
      ],
      "text/plain": [
       "3⋅γ + 1\n",
       "───────\n",
       " γ + 1 "
      ]
     },
     "execution_count": 20,
     "metadata": {},
     "output_type": "execute_result"
    }
   ],
   "source": [
    "sympy.solve(asymptotic_mach_number-1,eta)[0]"
   ]
  },
  {
   "cell_type": "markdown",
   "metadata": {},
   "source": [
    "# Free - fall solution\n",
    "Very close to the SMBH"
   ]
  },
  {
   "cell_type": "code",
   "execution_count": 53,
   "metadata": {
    "collapsed": false
   },
   "outputs": [
    {
     "data": {
      "image/png": "[encoded data removed]",
      "text/latex": [
       "$$\\frac{1}{2} \\tilde{u}^{2}{\\left (\\tilde{r} \\right )} + \\frac{\\tilde{c}^{2}{\\left (\\tilde{r} \\right )}}{\\gamma - 1} = \\frac{1}{\\tilde{r}}$$"
      ],
      "text/plain": [
       "         2                       2                       \n",
       "\\tilde{u} (\\tilde{r})   \\tilde{c} (\\tilde{r})       1    \n",
       "───────────────────── + ───────────────────── = ─────────\n",
       "          2                     γ - 1           \\tilde{r}"
      ]
     },
     "execution_count": 53,
     "metadata": {},
     "output_type": "execute_result"
    }
   ],
   "source": [
    "freefall_integral_energy = sympy.Eq(\n",
    "    tilde_u(tilde_r)**2/2+tilde_c(tilde_r)**2/(gamma-1),\n",
    "    1/tilde_r)\n",
    "freefall_integral_energy"
   ]
  },
  {
   "cell_type": "code",
   "execution_count": 58,
   "metadata": {
    "collapsed": false
   },
   "outputs": [
    {
     "data": {
      "image/png": "[encoded data removed]",
      "text/latex": [
       "$$\\frac{\\tilde{r}_{st}^{- \\eta + 3}}{\\tilde{r}^{2} \\left(\\eta - 3\\right) \\tilde{u}{\\left (\\tilde{r} \\right )}}$$"
      ],
      "text/plain": [
       "                        -η + 3         \n",
       "          \\tilde{r}_{st}               \n",
       "───────────────────────────────────────\n",
       "         2                             \n",
       "\\tilde{r} ⋅(η - 3)⋅\\tilde{u}(\\tilde{r})"
      ]
     },
     "execution_count": 58,
     "metadata": {},
     "output_type": "execute_result"
    }
   ],
   "source": [
    "temp = integral_mass_conservation\n",
    "temp = temp.subs(tilde_r**(3-eta),0)\n",
    "freefall_density = sympy.solve(temp,tilde_rho(tilde_r))[0]\n",
    "freefall_density"
   ]
  },
  {
   "cell_type": "code",
   "execution_count": 134,
   "metadata": {
    "collapsed": false
   },
   "outputs": [
    {
     "data": {
      "image/png": "[encoded data removed]",
      "text/latex": [
       "$$0$$"
      ],
      "text/plain": [
       "0"
      ]
     },
     "execution_count": 134,
     "metadata": {},
     "output_type": "execute_result"
    }
   ],
   "source": [
    "temp = freefall_density\n",
    "temp = temp.subs(tilde_r_st,secular_stagnation)\n",
    "temp = temp.subs(eta,sympy.Rational(5,2))\n",
    "temp = temp.subs(tilde_u(tilde_r),-1/sympy.sqrt(tilde_r))\n",
    "temp- secular_rho"
   ]
  },
  {
   "cell_type": "code",
   "execution_count": 138,
   "metadata": {
    "collapsed": false
   },
   "outputs": [],
   "source": [
    "freefall_u_ansatz = sympy.sqrt(A)/sympy.sqrt(tilde_r)"
   ]
  },
  {
   "cell_type": "code",
   "execution_count": 147,
   "metadata": {
    "collapsed": false
   },
   "outputs": [
    {
     "data": {
      "image/png": "[encoded data removed]",
      "text/latex": [
       "$$- \\frac{\\sqrt{2}}{\\sqrt{\\tilde{r}}}$$"
      ],
      "text/plain": [
       "     -√2     \n",
       "─────────────\n",
       "  ___________\n",
       "╲╱ \\tilde{r} "
      ]
     },
     "execution_count": 147,
     "metadata": {},
     "output_type": "execute_result"
    }
   ],
   "source": [
    "temp = dimles_momentum_conservation\n",
    "temp = temp.subs(tilde_r**(-eta),0)\n",
    "temp = temp.subs(tilde_p(tilde_r), tilde_rho(tilde_r)*tilde_c(tilde_r)**2/gamma)\n",
    "temp = temp.subs(tilde_rho(tilde_r), freefall_density)\n",
    "temp = temp.subs(sympy.solve(freefall_integral_energy,tilde_c(tilde_r)**2,dict=True)[0])\n",
    "temp = temp.subs(tilde_u(tilde_r), freefall_u_ansatz)\n",
    "temp = temp.doit()\n",
    "temp = temp.lhs - temp.rhs\n",
    "temp = temp.simplify()\n",
    "temp = sympy.solve(temp,A)[0]\n",
    "freefall_u = -freefall_u_ansatz.subs(A,temp)\n",
    "freefall_u"
   ]
  },
  {
   "cell_type": "markdown",
   "metadata": {},
   "source": [
    "This is true unless $\\gamma = \\frac{5}{3}$"
   ]
  },
  {
   "cell_type": "code",
   "execution_count": 152,
   "metadata": {
    "collapsed": false
   },
   "outputs": [
    {
     "data": {
      "image/png": "[encoded data removed]",
      "text/latex": [
       "$$0$$"
      ],
      "text/plain": [
       "0"
      ]
     },
     "execution_count": 152,
     "metadata": {},
     "output_type": "execute_result"
    }
   ],
   "source": [
    "temp = dimles_momentum_conservation\n",
    "temp = temp.subs(tilde_r**(-eta),0)\n",
    "temp = temp.subs(tilde_p(tilde_r), tilde_rho(tilde_r)*tilde_c(tilde_r)**2/gamma)\n",
    "temp = temp.subs(tilde_rho(tilde_r), freefall_density)\n",
    "temp = temp.subs(sympy.solve(freefall_integral_energy,tilde_c(tilde_r)**2,dict=True)[0])\n",
    "temp = temp.subs(tilde_u(tilde_r), freefall_u_ansatz)\n",
    "temp = temp.doit()\n",
    "temp = temp.lhs - temp.rhs\n",
    "temp = temp.subs(gamma,sympy.Rational(5,3))\n",
    "temp = temp.simplify()\n",
    "temp"
   ]
  },
  {
   "cell_type": "markdown",
   "metadata": {},
   "source": [
    "# Secular analytic solution"
   ]
  },
  {
   "cell_type": "code",
   "execution_count": 21,
   "metadata": {
    "collapsed": false
   },
   "outputs": [
    {
     "data": {
      "image/png": "[encoded data removed]",
      "text/latex": [
       "$$\\frac{4 \\sqrt{6}}{3 \\tilde{r}^{\\frac{3}{2}}}$$"
      ],
      "text/plain": [
       "     4⋅√6     \n",
       "──────────────\n",
       "           3/2\n",
       "3⋅\\tilde{r}   "
      ]
     },
     "execution_count": 21,
     "metadata": {},
     "output_type": "execute_result"
    }
   ],
   "source": [
    "temp = asymptotic_prefactors[0]/tilde_r**sympy.Rational(3,2)\n",
    "temp = temp.subs(gamma,sympy.Rational(5,3))\n",
    "temp = temp.subs(eta,sympy.Rational(5,2))\n",
    "secular_rho = temp/(D/v_w)\n",
    "secular_rho"
   ]
  },
  {
   "cell_type": "code",
   "execution_count": 22,
   "metadata": {
    "collapsed": false
   },
   "outputs": [
    {
     "data": {
      "image/png": "[encoded data removed]",
      "text/latex": [
       "$$\\frac{\\sqrt{6}}{4} - \\frac{1}{\\sqrt{\\tilde{r}}}$$"
      ],
      "text/plain": [
       "√6         1      \n",
       "── - ─────────────\n",
       "4      ___________\n",
       "     ╲╱ \\tilde{r} "
      ]
     },
     "execution_count": 22,
     "metadata": {},
     "output_type": "execute_result"
    }
   ],
   "source": [
    "temp = dimles_mass_conservation\n",
    "temp = temp.subs(tilde_rho(tilde_r), secular_rho)\n",
    "temp = temp.doit()\n",
    "temp = temp.subs(eta,sympy.Rational(5,2))\n",
    "temp = sympy.dsolve(temp,tilde_u(tilde_r))\n",
    "temp = temp.subs(sympy.Symbol('C1'),-1)\n",
    "secular_u = temp.rhs \n",
    "secular_u"
   ]
  },
  {
   "cell_type": "code",
   "execution_count": 23,
   "metadata": {
    "collapsed": false
   },
   "outputs": [
    {
     "data": {
      "image/png": "[encoded data removed]",
      "text/latex": [
       "$$\\frac{8}{3}$$"
      ],
      "text/plain": [
       "8/3"
      ]
     },
     "execution_count": 23,
     "metadata": {},
     "output_type": "execute_result"
    }
   ],
   "source": [
    "secular_stagnation = sympy.solve(secular_u,tilde_r)[0]\n",
    "secular_stagnation"
   ]
  },
  {
   "cell_type": "code",
   "execution_count": 24,
   "metadata": {
    "collapsed": false
   },
   "outputs": [
    {
     "data": {
      "image/png": "[encoded data removed]",
      "text/latex": [
       "$$\\frac{5}{24} + \\frac{1}{3 \\tilde{r}}$$"
      ],
      "text/plain": [
       "5         1     \n",
       "── + ───────────\n",
       "24   3⋅\\tilde{r}"
      ]
     },
     "execution_count": 24,
     "metadata": {},
     "output_type": "execute_result"
    }
   ],
   "source": [
    "temp = integral_energy_conservation\n",
    "temp = temp.subs(tilde_u(tilde_r),secular_u)\n",
    "temp = temp.subs(tilde_r_st, secular_stagnation)\n",
    "temp = temp.subs(eta,sympy.Rational(5,2))\n",
    "temp = temp.subs(gamma,sympy.Rational(5,3))\n",
    "temp = sympy.solve(temp,tilde_c(tilde_r)**2)[0]\n",
    "temp = temp.subs(tilde_r,Q**2)\n",
    "temp = temp.simplify()\n",
    "temp = temp.subs(Q,sympy.sqrt(tilde_r))\n",
    "secular_c2 = temp\n",
    "secular_c2"
   ]
  },
  {
   "cell_type": "markdown",
   "metadata": {},
   "source": [
    "Verification"
   ]
  },
  {
   "cell_type": "code",
   "execution_count": 25,
   "metadata": {
    "collapsed": false
   },
   "outputs": [
    {
     "data": {
      "image/png": "[encoded data removed]",
      "text/latex": [
       "$$\\left [ 0, \\quad 0, \\quad 0\\right ]$$"
      ],
      "text/plain": [
       "[0, 0, 0]"
      ]
     },
     "execution_count": 25,
     "metadata": {},
     "output_type": "execute_result"
    }
   ],
   "source": [
    "temp = [dimles_mass_conservation,dimles_momentum_conservation,dimles_energy_conservation]\n",
    "temp = map(lambda eqn:eqn.subs(tilde_p(tilde_r),tilde_rho(tilde_r)*tilde_c(tilde_r)**2/gamma),temp)\n",
    "temp = map(lambda eqn:eqn.subs(tilde_c(tilde_r)**2,secular_c2),temp)\n",
    "temp = map(lambda eqn:eqn.subs(tilde_rho(tilde_r),secular_rho),temp)\n",
    "temp = map(lambda eqn:eqn.subs(tilde_u(tilde_r),secular_u),temp)\n",
    "temp = map(lambda eqn:eqn.subs({gamma:sympy.Rational(5,3),eta:sympy.Rational(5,2)}),temp)\n",
    "temp = map(lambda eqn:eqn.doit(),temp)\n",
    "temp = map(lambda eqn:eqn.lhs-eqn.rhs,temp)\n",
    "temp = map(lambda eqn:eqn.simplify(),temp)\n",
    "temp"
   ]
  },
  {
   "cell_type": "code",
   "execution_count": null,
   "metadata": {
    "collapsed": false
   },
   "outputs": [],
   "source": []
  },
  {
   "cell_type": "code",
   "execution_count": null,
   "metadata": {
    "collapsed": true
   },
   "outputs": [],
   "source": []
  }
 ],
 "metadata": {
  "kernelspec": {
   "display_name": "Python 2",
   "language": "python",
   "name": "python2"
  },
  "language_info": {
   "codemirror_mode": {
    "name": "ipython",
    "version": 2
   },
   "file_extension": ".py",
   "mimetype": "text/x-python",
   "name": "python",
   "nbconvert_exporter": "python",
   "pygments_lexer": "ipython2",
   "version": "2.7.11"
  }
 },
 "nbformat": 4,
 "nbformat_minor": 0
}
