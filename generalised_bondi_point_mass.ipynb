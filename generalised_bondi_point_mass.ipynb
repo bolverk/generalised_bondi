{
 "cells": [
  {
   "cell_type": "code",
<<<<<<< HEAD
   "execution_count": 227,
   "metadata": {
    "collapsed": true
   },
=======
   "execution_count": 1,
   "metadata": {},
>>>>>>> c1ef407d75385e2c24f2d7fd79eb197bd0697f2c
   "outputs": [],
   "source": [
    "import sympy\n",
    "sympy.init_printing()"
   ]
  },
  {
   "cell_type": "markdown",
   "metadata": {},
   "source": [
    "# Governing Equations"
   ]
  },
  {
   "cell_type": "markdown",
   "metadata": {},
   "source": [
    "Conservation of mass"
   ]
  },
  {
   "cell_type": "code",
   "execution_count": 228,
   "metadata": {},
   "outputs": [
    {
     "data": {
<<<<<<< HEAD
      "image/png": "iVBORw0KGgoAAAANSUhEUgAAAJYAAAAtBAMAAAC+Io9nAAAAMFBMVEX///8AAAAAAAAAAAAAAAAA\nAAAAAAAAAAAAAAAAAAAAAAAAAAAAAAAAAAAAAAAAAAAv3aB7AAAAD3RSTlMAuxCrdpnvzWZEIond\nVDIW8hlPAAADY0lEQVRIDa1WTWgTQRh92WST7CbdxoMXPXQFQW8JKnhQaLQ9FASbWovgQaqnqkhL\nsXiQ0iKIYAVzKAVPzUVBEJKDRUSQQhH8xYB4KCJZEfSgYqiKrcXG2Z/Z+WY1bRacQ+a9973v25md\nzJcAwTE1ZwWlMDxiCrdaUsYFC42UDlLriokyoSGLKbs7STLD8cmQFai9l9RSgHSOBkNiWgvTl+KZ\nkPnUTmt9rG7P/qd1aWeAzgp9UEhM1lXOAxPFkPnUTmrZR/qSxsJiUusnoPwI5qf6dgWlplzU0lmd\n5C/fqLm7PYJjvmSDlMRkImop39nXS7z6967vKcoWzTBylMlY1MIYcM8PKqMuPIesfBzdviUIBobH\nJrl2p3pTPDTqyzWTG5w5XZJoE6JMHRaRWz686CMHxMTz5EBzNsBDqUCussQjLc+nuXOKAz4/5qDV\n2ah7Tq1iWHJSn0w3ZrFBz/Pu7StTtl+X6cYsOgJMb5mew3CjYbtfd1nKXMVpu7NmIN04+vB+QJJo\nhL3xyv7ihCeqBeOUqtXRy/hXi32oF5zhnMuMGV33PBIFaMUFLHq1rkH5/UWdxybGy0VP9CZ9GSrb\nRfORLkBRVvz4EIxlM54Hu2bIVn3ZAdG6ffUa/gDBjTqzsFpos4EztCXE1lAzjTVGg+tqzwSvmZfF\np0SOvZMRztjuEoOsYTin69x19bkzMnbtPNY/2ihzxSu8FltluYrNiGSuArMlLrsz2/NeT/l3s4vN\n081kMzgP9ONDhZUPLiIx2bbq1Qo2O1dm548ZzwHUPnUVgW3di1st2pfcuL6nhx+S3+ySD074yYD9\nlv0htVa2wsBIsgc7w292x7GjKkz7BATOEqKINs5V+5J4o2baIDkKnXx9P3tBe9L5HmySzNif0hCH\nBLfZ2fdgSFgiZI3avNCRtghxYKrjEZd4szOBBa6xtYh1C9FGl2UqM97stB7zJIm8IZhA/e8tOlHt\nwO1DBd7sjHHl4DdHcTOTZJOklmoSQmAq+iRR581upoToqqMQR+vwRjrXVvSanc5aQGLFUVovQJwm\n+Rm1jzFdpwoxtgJrwtTOzi1bAFFErCVE7ka5wG5tKfBHpKUinoncjWweeCbfljCVpLvBGnxqRFJC\nlYI2KPz6C70fkiJiodHOu1boHJHwBxIp2vX1frxoAAAAAElFTkSuQmCC\n",
=======
      "image/png": "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\n",
>>>>>>> c1ef407d75385e2c24f2d7fd79eb197bd0697f2c
      "text/latex": [
       "$$\\frac{1}{r^{2}} \\frac{\\partial}{\\partial r}\\left(r^{2} \\rho u\\right) = q$$"
      ],
      "text/plain": [
       "∂ ⎛ 2    ⎞    \n",
       "──⎝r ⋅ρ⋅u⎠    \n",
       "∂r            \n",
       "────────── = q\n",
       "     2        \n",
       "    r         "
      ]
     },
     "execution_count": 228,
     "metadata": {},
     "output_type": "execute_result"
    }
   ],
   "source": [
    "r = sympy.Symbol('r', positive=True)\n",
<<<<<<< HEAD
    "rho = sympy.Symbol('rho', positive=True)\n",
    "u = sympy.Symbol('u', real=True)\n",
    "q = sympy.Symbol('q', positive=True)\n",
    "mass_conservation = sympy.Eq(sympy.Derivative(rho*u*r**2,r)/r**2,q)\n",
=======
    "rho = sympy.Symbol('rho')\n",
    "u = sympy.Symbol('u')\n",
    "q = sympy.Symbol('q')\n",
    "mass_conservation = sympy.Eq((1/r**2)*(r**2*rho(r)*u(r)).diff(r),q)\n",
>>>>>>> c1ef407d75385e2c24f2d7fd79eb197bd0697f2c
    "mass_conservation"
   ]
  },
  {
   "cell_type": "markdown",
   "metadata": {},
   "source": [
    "Conservation of momentum"
   ]
  },
  {
   "cell_type": "code",
   "execution_count": 229,
   "metadata": {},
   "outputs": [
    {
     "data": {
<<<<<<< HEAD
      "image/png": "iVBORw0KGgoAAAANSUhEUgAAAQsAAAArBAMAAACdoLDjAAAAMFBMVEX///8AAAAAAAAAAAAAAAAA\nAAAAAAAAAAAAAAAAAAAAAAAAAAAAAAAAAAAAAAAAAAAv3aB7AAAAD3RSTlMAVJl2qzLvEGbdRM0i\nu4mh71oeAAAE5UlEQVRYCe1XT4gbVRj/zSSTZJPZJP7pwR7coYq4LGhkFw8Fd1eLSN3DRtHe7IZ6\naBGtEUE8qMmhKGJhl1KE9qCDiwWF7i62SEsQg+xBKpJoqyerw6oHFSFLWWytZf1m3sybecl7k+RQ\nT36QzPf9vt/3vTfzHu97H9Aj2e+tHiwKnD4QtRT6y5d21b8AjmwXiZC49rCCFgcX3NAY2Yzx+a78\nIeAD+mHeob+ntnx4qMdqNZae/SvW7TrT5ylF/h/AfHOWzCMdFxxWfosPyC/F+8mbO0h/BvEyX6/R\n3yvtvhESwicSLALlrIghV+8vEm4ST9crwIVWSU6LQc09v8eu/fr0qjtGrJjXXXe6SdNIdIDSYjmW\nLnOeao7GrX32efxUlcVFMf1qYH2pbUGrzgfmwE/zKvS1GHarjokYN3ON0OZkctTcxEt4ITAHfiY7\nGHFi2PRi78W4matAK5GY+IzyWLiCknmlb0Q3odBGze4GI/YNpP+OmHI1VSE87/IsHNCameGPDdrU\nY1AvPr2Y1knLBw/RpLu7cvRJzDoaryJZCV0DarUi5rSykpzeRHJth9LtOwx3FVprdGI0cU8JqXa/\ngB5/rq4dy/egIXAOd1hOaCq0xTqMvUTLATNlLJQUNDVs7tn9zG61G+uTH160Y/zMZcw9cm+mjOT7\nZ3Anbn/xeLNvxP+EYb/Aa8MG3Bz+bTcn7bBZ/5NpaHc9ijfugylWtPSGg1aVTVg2jZXvlqd896Bv\ndetUWaQ+Ob3f5iPvwr6qtQq3JEdEz3Yw49uyaTjjxcQa+fWGJ7ORUIWqW4Z7GwolexDzfOTMEmo7\niuMYbYcE0p7Ql3DZRyTTMIpnoYnfTwiXGG+DzuCouNXaCEZO1bHwFp5FoRSloJoqUXVkIplGGptI\n8HrOaOb5E67YflT34xAM9x7ylUc6SZpbrdPByHQBninTiy2UUdjmAoxVDa8yTjQa7zYaZ92k3Lvd\nAV2MR8VldBlMQh7XvICEWGq9as1GBsaBT92rzoNBEv85gUTFVyVfA3QxLsySX/de7oS4on6c8KBF\nzlWiCFXrTIePfAx0Qxq1cJnKYVS+pd1ylAGyadDFeFEMiAZL9BELrWIU96p1MHL6BnIl6LPG4a7C\nejf2OQ4Lk02j0DafiyZV6BuXqr6n1sYZkXQOYw78kbWtnx+nW/TFB07/KpJen9z5Y5lBsmmsrkw1\nxQCZpVf5zXZs/5QtUtYnF+1gZE4TKYIlm8YfAkNljDTNYFtOSDiLHEs5XPUUWaO8HFJ4n92np/Ij\nUkV+dT0cJuHaHNdaNleZIh4xXU6gwLZZ10nUQ+NAcMaZspt0OLWPeABT+jXKdMy48s71EuP3+885\njJFd6mX+ec3qBRlC50Gs9Omze2J/6UEGAnJWPG2wPcFzZByuDqG4jXL2oQvTljzG67OXf1jekLsF\nlKVZwdMCOpDhNcr55MlcR073+mxnr/253C2gXhrjm1seE9CBDLf04uORWc2W0r0+O2sfx06pWwS9\nNKltqoJDi9coV2u2ItDrs9P8JFCwfFidJj6OvKxRHlPxWJ+tDfh+yjSq9AHuN8qyY9ejsD57kOPf\npSvTBMOpnn6jHJ5tXUTWZ3cf/10kbirTcIZK8Rpl6bHrRbA+u+f4l2dTp5HzI6jXKGcrEURQWZ99\nSsCUhjqNJORfJfhhQPQ3KXMAAAAASUVORK5CYII=\n",
=======
      "image/png": "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\n",
>>>>>>> c1ef407d75385e2c24f2d7fd79eb197bd0697f2c
      "text/latex": [
       "$$\\rho u \\frac{d}{d r} u + \\frac{d}{d r} p = - \\frac{G M}{r^{2}} \\rho - q u$$"
      ],
      "text/plain": [
       "    d       d         G⋅M⋅ρ      \n",
       "ρ⋅u⋅──(u) + ──(p) = - ───── - q⋅u\n",
       "    dr      dr           2       \n",
       "                        r        "
      ]
     },
     "execution_count": 229,
     "metadata": {},
     "output_type": "execute_result"
    }
   ],
   "source": [
    "p = sympy.Symbol('p', positive=True)\n",
    "G = sympy.Symbol('G', positive=True)\n",
    "M = sympy.Symbol('M', positive=True)\n",
    "momentum_conservation = sympy.Eq(rho*u*sympy.Derivative(u,r)+sympy.Derivative(p,r),\n",
    "                                 -rho*G*M/r**2-q*u)\n",
    "momentum_conservation"
   ]
  },
  {
   "cell_type": "markdown",
   "metadata": {},
   "source": [
    "Energy conservation"
   ]
  },
  {
   "cell_type": "code",
   "execution_count": 230,
   "metadata": {},
   "outputs": [
    {
     "data": {
<<<<<<< HEAD
      "image/png": "iVBORw0KGgoAAAANSUhEUgAAAjAAAAA1BAMAAACtjczGAAAAMFBMVEX///8AAAAAAAAAAAAAAAAA\nAAAAAAAAAAAAAAAAAAAAAAAAAAAAAAAAAAAAAAAAAAAv3aB7AAAAD3RSTlMAuxCrdpnvzWZEIond\nVDIW8hlPAAAMd0lEQVRoBdVafYxUVxU/+2befM/s2lq/GsMjNLRWzU5oaaOiOxWMJCbdqWVZKg2s\nCBXbIAOFrknbMKGJjWDc+QNpqsZ9pgGpabJjBBuDsaukJBUIE/thWml2DLHGaN2l1fAh7Hru973v\n3fdm5COxN9m55/zOOb973n333XfvfQvwXimHrveucar5exZd4xauBb3rubVrwatxfhmGNe29Ihb8\n3Ow1zvX3MNHuvol8I9b3V7HWq2hMtZzzAAs8Sul0HvMd8rZltgn6ycVGke8+1NajVutKSHabIeia\nAcV3ALJbGf1TXqdm4vOOiJ6itIq8h+rM2fWdx5lEf/NlTQmLvzAg567Fq3JVyAxcIvDgkZZhvVIl\nTW7Ck4wlU+vAFsj7puuH6vsAnpgjKSUvfjYi+lGKS3Jnnqccn/RgQlNPKYtFKk4a4C/rkF1ZB0j8\nB+HSQNswXrFCb0KiyngWd6Az885vBPg+/sEA6dzTUZOV6E1O7tw24KlmUE7VpZr7phRtwv62jt78\nO9Re8AEOfA2FzIBuu3I5Q64JYBNjSpFbH13MvJ3HPID8BYDct8sY88RMROBujkvyQYwTxQEokGhW\n6PAVSrhmQ0/gj3go/QP/dn0Qf3Z+FX+uYvkh/JOwveZRzuI6WkX9mHmniXNpEm/WT2r4s7DPHpZt\nltrUIsn1joE9O1MqcMqzczCUTIequHRmwScZqivx5vzgX8p0FaTSR99cRGjSVUa2PZbTzHttC51x\n8gPXHQF4dqJij/3zmy97zCLI9Y75a+um/rIMfEhKNiHV1NGJGtFuxb/qIM5wmVndaJNPnfFgZ/bn\nf1tGr9jmQTHnUBOnvdTc3AxRs/hEkDLu0yrix8g7d5Z4OT52TBI5KmNtohvl46thYWXz3BwHBbnW\nMdkH+QxFXTLGkDCoiDLm6dDaOtdy9ak2/CFBr0N3CMjJDc/XoJJ3T8AXAxZTdbMzgD0tCr+bYuQI\n2KjNvN1zwnigOAtFzzL5NcfhE2XhpYal1jFkmO1oCBdtthGQXh/RFTjpczXjT7SclvZAGm5SOQ1w\nX8Z/O10Gc+BLBy687U7C+xTI74Z57cpMJTPvAh9kOPnlLsEnITz5lVr3Q7GqSAS51jEDHsBJ6TEu\nuwgse7gsLkW1QsbhF0ZvxAELvZUkRD3JMqKOb4okeL0tGPQlaBG8VAW0+aq3wnw0KBSk5Y223hl8\nsoe3NPEZR6JKLhzpwHootTQa7qJ1DD6Ozr+lB06ivNj2cGQm08oDRH4Bu9KFVPUNsDzJmjMT8z/G\nycKDeSGDAUx5pVkFJCaZvERBIUnlTUypEfzJk7tYhQ1F3zb54Wsk6aGDKJxcdUwOOyUjRx5sEI5g\n28OlqtJMBDLYYAf+HYD01jrcgVKnkq8A/Brg3Xi/YUiOKI8iT2/KV1hQUnkTS4LMlOkZfDHVYfQW\nSIygGihuDfI6xMlVxzg4hgpN4VKiL2CqsT2cMLB6umXo0xVsmrwAdoG7HixPsuFNlXwdYLt+J8Iu\niNwAPX27pIWkSEp/hVa2Hy1vYi6RCPLOzPiwsgK2ya+nCjh4VeHkqmMwTXhe2pP6S8lctBAfLYyo\nGZz8Tx9DoQbJWZYNgeNK3gM4A/sbcT4A98JbTXmzAH7LvAt9kVFG3ug1VofSEmRIY85tIDcwWPJ9\nTgX29OVqC31qYuRDm7fXqYo/z7X2lYUMPSNSRFZkNssHTBVOPzxU/x7AkrOVYrN4x8VPB8wWNYHr\nkvMHOznOX/b6jW0Vzd+2McsBI28MLN25eFWmDYmT2+BP8PLmI74i45LzmeXgVC4k+9INioTJnd13\nqyhj0JkbaeIUfu2p0O6kBTgp1rpzVV78HZa8oKCAZOQdsEWruY9NJipJnzrEkBN7vzZIMppMY8Eh\ne+grK6+otVT3RFMt6ltUE2AwVs87aIvRE5VUg0/BMeSEYLyuaPgeTgGQlQtKDbSKt1pRBNdg57PL\ntHhERfE5gk6pljCE9LztHhw1myi0+yHJLDHkxGFMJS32cJyRVJnoW6Z5EREHhr2UIbNjm90UHdVf\npRHacivIoOUdNJm6mVihPQ1vMIcYcuKAU7goYg8ndKzx1dNlMdvvMiiyO3v7GMOZSCIt70gfajAT\ny96+bIUYCtHkJHCtT36zdz37JXaTAF5d2mabXcTd6NmPhGnFbF8zxIpRUakaC/t6KLq04jf0cJ7l\nHTKHgagmAMLkejRdy0I+8RJZNpLiVkvr5GaXLigZ3uE3uv24wKiowiSLOk4rd5SWMlH2eiwnljfz\niv2NagKAkUcFsxXD04VyscFcvgvOJbnZDb/ro3ii24+KIHhUVGGERR1llfrNnQNc2mPhKx1liZKi\nmgA4CnOygCazQyHWgEe/tlDujVA6Jze7rGNyjx0npQG9kkgJPCHRvjLEStFR1JIeYQ6PcD9ZYUKF\nJtFY3j+lib1kXJZod4YFicT03JkpRC5bUQ3AlACzuAedxdMTttntcsQMj44eHR19WHB0WcdERXYM\nzsrsHnY3YmKaAOiqY4bFxeCJEWYlNrtddgwGixsjeLqro6LMR8ml4+J4H3JOVGCMUnfXMega1QR5\nlFixHEOhYa1HrQ8xH9x3V2GiJTe7rr7FFC7WOrp9qzsHo6LMyVdj6G/BnVTleWumCDGqCTn52o6h\nkIu99nLyoK6/D7apze7/3es6XS+yXcrVe13LY6jM4TVa57KFUnZEQFN/X9oAEJvdK1jgZSuCMlh/\nRwFRtzNygZe7fTm7h5e5wFNNk8MQWuQx1Ffg5payj2E36EVONhTMyJGk+9jk0CWetnkBXIcrpbY0\n6VH7hj8s8ZgtQWaGegXzlqFBQW8iN7RFXa7aErBjqMxWyGkzR3AzJicb2kD3m8g9wYS2BgGqzydN\n16RJi8qVYbAlDDGbyASLDuYtIkO11gQ8A0m1+VObSHYMRRaOG1V4YPuuJhvqcvnHDsmKakNJC24j\nHbNbAUpKeFCYEWrMsUOqSZ0CeYvA+HqR/nlEHTvwYygP4IiKDxz4ZCeViUiXfVCV8kwirtETyYU2\nU2odJOSDO+hTF8tZUn7ei9QUyNvGGMYe8GCgIWBJLo6hsss97XKDR4QijNfBo82AOVp9ym6iHdPT\nshjT74ArO4avUmKWUR3ytjSA0A4P1sqOQXK2d+bHUKXHnc+/q3bTwUPlAGPgMJxb93xkz6GAo1KL\nKz6Hymr8O3UGP1wrA5Foc/mqCQqtQJ4zWvidixkW9rzVdQmmYH3SEwiS072zOIba6+M//ajddOAz\nhIgS9bTt5kJzSWOH8AjVQ/CWB/At7AT64dq00+sp1kxQaNNNLv3vn094oLouwRmoS2wVRND+CtC9\nMz+GIh8v0+e13bT54SrAg98bgwjq2cYReN2CUygzSY8yv4HfWeiHa9OPdoxaNZnGLUIV3wPHfIGE\na2ve2nWFIwiS7pM4kmt7Z/rJrjCjISulp01wRyyoQ/65Mqqk6jBdB0AP/MUP11jkHpg/SqUZgoaK\nK5NOTDJj959oOZl2XSF6CtyjYEI+pdTeGg6iqoaMt5UxLGVnwxhA0X5l1HXco8elrOvIh2uj0BET\n0TFLpWdvk4lq3EuTFOx5a1cqPTUhWVYKIdeWsxNVPAD3NQR3jXGFvRwDHm4tAGjq/Ww/v4lC5MO1\nUWIepWIVfsZ9xzwqiP/UMBiEYs9bu1LhqNevQs7nOiXXlrM45cAxAIXwJbYerstsk68jKPNFVgBl\n6ouA/6AC8CGq5esMlL+0YzLWfv0L+SLOCj/ZSZdlXFiw562uKxyBnyvx/3B9biDk+nIW/0sJPwzq\nyHobhcRSFSkqYaKh5IDknIF0BTH2Os97ATPtGOvrOnfs8KFJ5t3dv5rZ8tavK9AyUZ87fBgHNCvj\nPr5FRriCVe5E7l4TeU0ZLVJxxALutWAcKs4e/BQRf0T1BEdF5a48uwpfDbZ+LeCR5CTz66my+gYR\nZq1teetXagk6OTd3UcAh8lsOtoWN1eEv+Yb9UUPrqIjpJ+UT1wVWf+uWQPPc61Elu07DwmKHvMMB\nBtKBnPjmHjQigsp+P4jE6mL6YRuQV6y+B62oAk8wsdBSkEXqkLclQoc6kFPXP+oBITlqmRpyZICc\nfrYSfY3Ny6nZUIW5/EkaUpBVis/bGqLATuTEUySiogypGwoVwOYW1J8hWFkZlJTwlWyT+AV3vCMd\n8rZRS6wjOfV8v/S3CT0VG9oRy0WG3R0fm6VjDeApL94PID7v2OjO5CTcbcSS3BdrverG+R6ldK7r\nyNwh75h4Rv5fwTJmXKgTIDwAAAAASUVORK5CYII=\n",
      "text/latex": [
       "$$\\frac{1}{r^{2}} \\frac{\\partial}{\\partial r}\\left(r^{2} \\rho u \\left(- \\frac{G M}{r} + \\frac{\\gamma p}{\\rho \\left(\\gamma - 1\\right)} + \\frac{u^{2}}{2}\\right)\\right) = q \\left(- \\frac{G M}{r} + \\frac{v_{w}^{2}}{2}\\right)$$"
      ],
      "text/plain": [
       "  ⎛       ⎛                     2⎞⎞                   \n",
       "∂ ⎜ 2     ⎜  G⋅M      γ⋅p      u ⎟⎟                   \n",
       "──⎜r ⋅ρ⋅u⋅⎜- ─── + ───────── + ──⎟⎟     ⎛           2⎞\n",
       "∂r⎝       ⎝   r    ρ⋅(γ - 1)   2 ⎠⎠     ⎜  G⋅M   v_w ⎟\n",
       "─────────────────────────────────── = q⋅⎜- ─── + ────⎟\n",
       "                  2                     ⎝   r     2  ⎠\n",
       "                 r                                    "
=======
      "image/png": "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\n",
      "text/latex": [
       "$$\\frac{1}{r^{2}} \\left(r^{2} \\left(- \\frac{G M}{r} \\rho{\\left (r \\right )} + \\frac{\\gamma p{\\left (r \\right )}}{\\gamma - 1} + \\frac{1}{2} \\rho{\\left (r \\right )} u^{2}{\\left (r \\right )}\\right) \\frac{d}{d r} u{\\left (r \\right )} + r^{2} \\left(- \\frac{G M}{r} \\frac{d}{d r} \\rho{\\left (r \\right )} + \\frac{G M}{r^{2}} \\rho{\\left (r \\right )} + \\frac{\\gamma}{\\gamma - 1} \\frac{d}{d r} p{\\left (r \\right )} + \\rho{\\left (r \\right )} u{\\left (r \\right )} \\frac{d}{d r} u{\\left (r \\right )} + \\frac{1}{2} u^{2}{\\left (r \\right )} \\frac{d}{d r} \\rho{\\left (r \\right )}\\right) u{\\left (r \\right )} + 2 r \\left(- \\frac{G M}{r} \\rho{\\left (r \\right )} + \\frac{\\gamma p{\\left (r \\right )}}{\\gamma - 1} + \\frac{1}{2} \\rho{\\left (r \\right )} u^{2}{\\left (r \\right )}\\right) u{\\left (r \\right )}\\right) = q \\left(- \\frac{G M}{r} + \\frac{v_{w}^{2}}{2}\\right)$$"
      ],
      "text/plain": [
       "                                                    ⎛      d                  \n",
       "   ⎛                            2   ⎞               ⎜  G⋅M⋅──(ρ(r))           \n",
       " 2 ⎜  G⋅M⋅ρ(r)   γ⋅p(r)   ρ(r)⋅u (r)⎟ d           2 ⎜      dr         G⋅M⋅ρ(r)\n",
       "r ⋅⎜- ──────── + ────── + ──────────⎟⋅──(u(r)) + r ⋅⎜- ──────────── + ────────\n",
       "   ⎝     r       γ - 1        2     ⎠ dr            ⎜       r             2   \n",
       "                                                    ⎝                    r    \n",
       "──────────────────────────────────────────────────────────────────────────────\n",
       "                                                                              \n",
       "                                                                              \n",
       "\n",
       "     d                                2    d       ⎞                          \n",
       "   γ⋅──(p(r))                        u (r)⋅──(ρ(r))⎟            ⎛             \n",
       "     dr                   d                dr      ⎟            ⎜  G⋅M⋅ρ(r)   \n",
       " + ────────── + ρ(r)⋅u(r)⋅──(u(r)) + ──────────────⎟⋅u(r) + 2⋅r⋅⎜- ──────── + \n",
       "     γ - 1                dr               2       ⎟            ⎝     r       \n",
       "                                                   ⎠                          \n",
       "──────────────────────────────────────────────────────────────────────────────\n",
       "             2                                                                \n",
       "            r                                                                 \n",
       "\n",
       "                                            \n",
       "               2   ⎞                        \n",
       "γ⋅p(r)   ρ(r)⋅u (r)⎟                        \n",
       "────── + ──────────⎟⋅u(r)                   \n",
       "γ - 1        2     ⎠          ⎛           2⎞\n",
       "                              ⎜  G⋅M   v_w ⎟\n",
       "───────────────────────── = q⋅⎜- ─── + ────⎟\n",
       "                              ⎝   r     2  ⎠\n",
       "                                            "
>>>>>>> c1ef407d75385e2c24f2d7fd79eb197bd0697f2c
      ]
     },
     "execution_count": 230,
     "metadata": {},
     "output_type": "execute_result"
    }
   ],
   "source": [
    "gamma = sympy.Symbol('gamma', positive=True)\n",
    "v_w = sympy.Symbol('v_w', positive=True)\n",
<<<<<<< HEAD
    "energy_conservation = sympy.Eq(sympy.Derivative(r**2*u*rho*(gamma*p/(gamma-1)/rho+u**2/2-G*M/r),r)/r**2,\n",
    "                               q*(v_w**2/2-G*M/r))\n",
=======
    "energy_conservation = sympy.Eq((1/r**2)*(r**2*u(r)*(rho(r)*u(r)**2/2+gamma*p(r)/(gamma-1)-G*M*rho(r)/r)).diff(r),\n",
    "         q*(v_w**2/2-G*M/r))\n",
>>>>>>> c1ef407d75385e2c24f2d7fd79eb197bd0697f2c
    "energy_conservation"
   ]
  },
  {
   "cell_type": "markdown",
   "metadata": {},
   "source": [
    "Mass source term"
   ]
  },
  {
   "cell_type": "code",
   "execution_count": 231,
   "metadata": {},
   "outputs": [
    {
     "data": {
      "image/png": "iVBORw0KGgoAAAANSUhEUgAAAC8AAAAUCAYAAAAdmmTCAAAABHNCSVQICAgIfAhkiAAAAhdJREFUSInt1rtrFUEYxuEn8RLxhkGFCEaIiMQLHk4i4gWCwd4LQipNkT/ASrAW0yl2FkGwEUGstAiIgkIgqKAQbRREIwqCaIIQFBSiFjMLe/Zs9uTCImJeGIZ955tvf7vzzc7yD2vJ3wZooDFswklcx1mswMhME+7hd6r9whRe4yaOoalU5KBl+IE3OI1tOB952swAMYFWXBDgm7AWnehFCx7guPBQZakivPkTuB29drzHDrzKTtgagesGotrwMMbcmiPMoNoVzWuHU/H9wotMl3ZXjFuXd4O+OHijAGIjvsW4jpTfG71L2Ic7mIzeLmwQVq+orUzluyyUcFoDeJdcLM0M7o390wL4z3iEI9iP8eh3xX43zmAYQ9girOQ0vhTkzaqSw1EVSqkQ/lmDxBOxTy9fAn8IPXg8a8x8VXA141VxPy+4CV+F3bymQeK7Qjn0pbyX0RuYD2lGm2OuzgzfFI7mTdiueLOm9TbGVuL1KqEsPqF5frwNlfC1J0b6RrOp9yRJBz7iefQqMdewsHJlqCqU64fEyINvVO/nYn8l5SX1/mQhdA1Us1mzGhGWpacgwakYM652X1yLfvfCGeeuZmEzTGN1zvh6XBRKYhJ7MuNjwlG+vETGOiWfyk4Bekr4+SE8UKtwwBwQfohGhf+M8VSOFuzEC/wsH7le/eqP6u/CphwVTruDM8ztjvFD5WMualH/t/4AG0h7lOf75kgAAAAASUVORK5CYII=\n",
      "text/latex": [
       "$$D r^{- \\eta}$$"
      ],
      "text/plain": [
       "   -η\n",
       "D⋅r  "
      ]
     },
     "execution_count": 231,
     "metadata": {},
     "output_type": "execute_result"
    }
   ],
   "source": [
    "D = sympy.Symbol('D', positive=True)\n",
<<<<<<< HEAD
    "eta = sympy.Symbol('eta', real=True)\n",
    "mass_source = D*r**(-eta)\n",
    "mass_source"
   ]
  },
  {
   "cell_type": "markdown",
   "metadata": {},
   "source": [
    "# Integrated Form"
=======
    "eta = sympy.Symbol('eta', positive=True)\n",
    "mass_source = D*r**(-eta)\n",
    "mass_source\n",
    "\n",
    "# Reduction to dimensionless variables"
>>>>>>> c1ef407d75385e2c24f2d7fd79eb197bd0697f2c
   ]
  },
  {
   "cell_type": "markdown",
   "metadata": {},
   "source": [
    "Integrated mass conservation"
   ]
  },
  {
   "cell_type": "code",
   "execution_count": 232,
   "metadata": {},
   "outputs": [
    {
     "data": {
<<<<<<< HEAD
      "image/png": "iVBORw0KGgoAAAANSUhEUgAAATUAAAAxBAMAAABJ1yOVAAAAMFBMVEX///8AAAAAAAAAAAAAAAAA\nAAAAAAAAAAAAAAAAAAAAAAAAAAAAAAAAAAAAAAAAAAAv3aB7AAAAD3RSTlMARHa7IomZq93NVBDv\nMmYk2ah1AAAFUklEQVRYCc1YXYgbVRQ+k2Qnm0wyG7cIPggbtiyLVdvFrYgKbvRBEJWEil18EGPF\npX3oGlt1FRFbFK0vGvTBrgqOqCCCdCis+KDuWuiDqDgU/ClUEin0RaHRKmpljffemTn33Du72SSb\nzfY+ZM7Pd8/5Mndy75cB6NWw95ya7lWtXtf5fMTJeL0u2mW9c9eOVejUO6+CoQIN9Mseb87Nvabc\nFevni/CN3/7dSTZcOABn+kVH7fMPQPoiDSWOV+EPGmBMxxW/X072T9bpEVe0S/PbdDMk89kl2j7R\ngFuo3zc79htrVcvTfhkvpjxvxgQs03zf7HiDtSoqXIoQr6v9sxzU/zE0wXrWKsbWW8fKQfctMOTB\n8M7h3cjG5qD+D7Gc50sDycMpeXNqAKUnc28jG7OOZj+NHR7r9mzussFKOod9z4KRexHeQX+DjN03\nuC0rT/Hs1+AuSmYAs2BZ/Dey1rB2TbeuTgssjD1NXQDTNatqRPMuMN/+D+CYFk83gkDK0zLENetr\nVCdY9oX3URdgsJBo+fvP/s7wmQnQ5wE2XXRJRSNHHIBk2W4ogVbOE3CepwcQk3FaL06MM7+RtT+J\nU3wjUwoCH9DED9Th9kDVj+hnsI4T/n38M1uRufS/0o5afHs7XQZI6I9XMcfAC6PO9y89KGdZb0rb\ntz7lMAByBvtx/CSkrS9EdBRzkCpJO2J9PPXX3MH9LGwsabkrub8/W4U3SCJZJw43j1/vB6JncAAk\npK2tPpPBQpADWI8snHzPVY79u7BqaJgTvqWfwWFeIf2QiMYqYdJuddtC0GrX001PuaEzEWAikDD6\nGYxASrro8LCFD9nl8BPiOjXShWQpVvlMTvMfGOkXcwm2/fBBz2CrIEL+B5JmT3SxLmIvB+nsTR9q\nO16QaOeS8Uwvmb8aoZEj/5OC/ZWfFWdwAEzncQYhbT0Pv7oi4S8t27qazQZBdmba27eBccDDSbEl\nNH0jOzpdCEPsDA6Gwk2SPjX2mA9g2xyVFuk9z8DCw5DApQ7rdHRNViVcVg8Uy1nMhdyCBCOtiBoY\ncYFKixk445ZHIMbvoTkvRgVrtW3EyRxZPVAss1gm5BYkGGlF1EDNAyIt7EOw+JGzF+ITWKAbI1WW\ns7B6VLEE3MLErC5q2LZOpEWmDrVf4AQM5WVxYTXbHhw+WGYHyNEjfOSwelSxBNxkQlqi6aJDpQVb\n4R0eO7zY3VzP4NxwoHBRFQt7Yo5+OT/PVx8T0hKihh+HUpLsBXiLK4treGVTfPEjXSxvincMB1aP\nKJbgvkkpIy0haooelRYvANu/42WYtAth6W6uSfp9ULhEFEvIDROAlhA1IwUiLawLkMqDWcmelOKp\nG26xQ3KWFC4RxRJyEwkxQ4Xw/W0prJRe3vUoO8eu27bl/jDU1dVoyGmyekSxhNxEQsxQIULGhZXw\niQgDbV2z997jaMBlzZcuVSwhN5kVFkJepQlcbhpc074dDC7Y6XicOopNFYuRV1KhE0Is5WWLXPgQ\n1871AQf+1nA/aj66EcWCGTQQYtNfFFyBgE6MY1FucWeVArpiWQGGkEG2hax/RNY0UV2lqK5YVoAh\n5NwKydah4Z23jZc0iLLXitz7GqILN6EsaVsFSk/l1YcU4LvXIzNtJxLqNGC6nc4wcs+RzTqYHdM1\neKdVe4PnUkH8k71DnLaH/arfdvwde8NGq8KIaVv03QBTdQ21OS4jpm7RVtO9VLgxYtoWzV6gv1LY\nnBuldWXExGseGd4OBn+HfgkMJhUOqjTSM/scNbKJ3olN7L1G69YvEdeYvMHpyL/2De7XSXmz3Al6\nXdj/AWhfgXQNn85tAAAAAElFTkSuQmCC\n",
=======
      "image/png": "iVBORw0KGgoAAAANSUhEUgAAABkAAAAlCAYAAAC3UUK1AAAABHNCSVQICAgIfAhkiAAAAmNJREFUSInt1tmLj1Ecx/EXM9mXbIUs2ZeaCONiovgDbIXc2IXkygXlhlwQmty5kAtSKClFSYhkKUv2LS6UlCHJkH27ON+fefw8PzP90Nx419M5z/d7zvdznnPO8z2HZmIEduExPkZ5HPNREW1O4hs25vQ/Gr4dpQSm4z32YTL6YSSW4x7aRbuXeITDRf2n4mkMblmewKhwri0xgBZRDoqRrguhAq3xEBvCPy4vyGmcKyGQZTY+YGAE6xT2tbiAOTHY1sUd+0eHeRlbSzzDm3h2h30zrkT9OWrQB/WoxhZcVRQIqqK8WCReg9F4i/thG5MRuRp9t+IALhX5QWWUHaP8nPF9lea4C3rgekbkYEZkCYZgaI7/J6qk6VqQ45sYvj4YEPXq8M2J91XxXlin8XkicAgvsBTDMQyzpMWsizYz8UnDolaiu4ZpL/jblBJphdW4Ia1BvTTH69Ez2mzSMG15NOb/T+MUUsW3Zh1Fc9FXynN3pJ0461+I9JJSDWlrP0H7fyGU5br0dSVp+TtnExgrnZaP/zBOSbritpSpy6IOK4tsI6TDaLSUu85gbrkCcALbi2yHsEf6t/ZJOe2P2CZt0wI10gWjPyZIZ821zFOlDBZJR2+Bs6gtJ9DvqJZSTTdMk65AXf+2SDt8wSRpB6352wIFHuC89A+0zdgH41jUp+B11HtL0/oLlXnG4CZmSOvzLmN/hQ5RXyzdYiqwEDub+gWN0UraUQOwF/ulc/6yn7/4BxV5xkb4ghXoHALDpVvkexwpI15JbuFU1GtxN8RyKTdBVmq4wNVLaehembH+0wx8B9pmhaMmAlJ8AAAAAElFTkSuQmCC\n",
>>>>>>> c1ef407d75385e2c24f2d7fd79eb197bd0697f2c
      "text/latex": [
       "$$r^{2} \\rho u = \\frac{D r^{- \\eta} r_{st}^{- \\eta}}{\\eta - 3} \\left(- r^{3} r_{st}^{\\eta} + r^{\\eta} r_{st}^{3}\\right)$$"
      ],
      "text/plain": [
       "            -η       -η ⎛   3       η    η       3⎞\n",
       " 2       D⋅r  ⋅r_{st}  ⋅⎝- r ⋅r_{st}  + r ⋅r_{st} ⎠\n",
       "r ⋅ρ⋅u = ──────────────────────────────────────────\n",
       "                           η - 3                   "
      ]
     },
     "execution_count": 232,
     "metadata": {},
     "output_type": "execute_result"
    }
   ],
   "source": [
    "r_st = sympy.Symbol(r'r_{st}',positive=True)\n",
    "temp = mass_conservation.rhs\n",
    "temp = temp.subs(q, mass_source)\n",
    "temp = temp*r**2\n",
    "temp = sympy.integrate(temp, r, conds='none')\n",
    "temp = temp - temp.subs(r, r_st)\n",
    "temp = sympy.Eq(rho*u*r**2,\n",
    "                temp.simplify())\n",
    "integrated_mass_conservation = temp\n",
    "integrated_mass_conservation"
   ]
  },
  {
   "cell_type": "markdown",
   "metadata": {},
   "source": [
    "Integrated energy conservation"
   ]
  },
  {
   "cell_type": "code",
   "execution_count": 233,
   "metadata": {},
   "outputs": [
    {
     "data": {
<<<<<<< HEAD
      "image/png": "iVBORw0KGgoAAAANSUhEUgAABrEAAAA0BAMAAADfzw7eAAAAMFBMVEX///8AAAAAAAAAAAAAAAAA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\nQ+ralAAAAABJRU5ErkJggg==\n",
=======
      "image/png": "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\n",
>>>>>>> c1ef407d75385e2c24f2d7fd79eb197bd0697f2c
      "text/latex": [
       "$$\\frac{\\gamma p}{\\rho \\left(\\gamma - 1\\right)} + \\frac{u^{2}}{2} = \\frac{1}{r \\left(r^{3} r_{st}^{\\eta} - r^{\\eta} r_{st}^{3}\\right) \\left(\\eta^{2} - 5 \\eta + 6\\right)} \\left(G M \\left(r^{3} r_{st}^{\\eta} - r^{\\eta} r_{st}^{3}\\right) \\left(\\eta^{2} - 5 \\eta + 6\\right) - \\frac{r_{st}^{\\eta}}{2} r^{\\eta + 1} \\left(\\eta - 3\\right) \\left(r^{- \\eta + 2} \\left(2 G M \\eta - 6 G M - \\eta r v_{w}^{2} + 2 r v_{w}^{2}\\right) + r_{st}^{- \\eta + 2} \\left(- 2 G M \\eta + 6 G M + \\eta r_{st} v_{w}^{2} - 2 r_{st} v_{w}^{2}\\right)\\right)\\right)$$"
      ],
      "text/plain": [
       "                                                                 η + 1       η\n",
       "                     ⎛ 3       η    η       3⎞ ⎛ 2          ⎞   r     ⋅r_{st} \n",
       "             2   G⋅M⋅⎝r ⋅r_{st}  - r ⋅r_{st} ⎠⋅⎝η  - 5⋅η + 6⎠ - ──────────────\n",
       "   γ⋅p      u                                                                 \n",
       "───────── + ── = ─────────────────────────────────────────────────────────────\n",
       "ρ⋅(γ - 1)   2                                                                 \n",
       "                                                                              \n",
       "\n",
       "         ⎛ -η + 2 ⎛                         2          2⎞         -η + 2 ⎛    \n",
       "⋅(η - 3)⋅⎝r      ⋅⎝2⋅G⋅M⋅η - 6⋅G⋅M - η⋅r⋅v_w  + 2⋅r⋅v_w ⎠ + r_{st}      ⋅⎝-2⋅G\n",
       "──────────────────────────────────────────────────────────────────────────────\n",
       "                                                      2                       \n",
       "──────────────────────────────────────────────────────────────────────────────\n",
       "             ⎛ 3       η    η       3⎞ ⎛ 2          ⎞                         \n",
       "           r⋅⎝r ⋅r_{st}  - r ⋅r_{st} ⎠⋅⎝η  - 5⋅η + 6⎠                         \n",
       "\n",
       "                           2               2⎞⎞\n",
       "⋅M⋅η + 6⋅G⋅M + η⋅r_{st}⋅v_w  - 2⋅r_{st}⋅v_w ⎠⎠\n",
       "──────────────────────────────────────────────\n",
       "                                              \n",
       "──────────────────────────────────────────────\n",
       "                                              \n",
       "                                              "
      ]
     },
     "execution_count": 233,
     "metadata": {},
     "output_type": "execute_result"
    }
   ],
   "source": [
    "temp = energy_conservation\n",
    "temp = temp.rhs\n",
    "temp = temp.subs(q, mass_source)\n",
    "temp = temp*r**2\n",
    "temp = temp.integrate(r, conds='none').simplify()\n",
    "temp = temp - temp.subs(r, r_st)\n",
    "temp = temp/integrated_mass_conservation.rhs\n",
    "temp = temp+G*M/r\n",
    "temp = temp.simplify()\n",
    "temp = sympy.Eq((p/rho)*gamma/(gamma-1)+u**2/2,temp)\n",
    "integrated_energy_equation = temp\n",
    "integrated_energy_equation"
   ]
  },
  {
   "cell_type": "markdown",
   "metadata": {},
   "source": [
    "# Degenerate Cases"
   ]
  },
  {
   "cell_type": "markdown",
   "metadata": {},
   "source": [
    "## Without gravity"
   ]
  },
  {
   "cell_type": "code",
   "execution_count": 234,
   "metadata": {},
   "outputs": [
    {
     "data": {
<<<<<<< HEAD
      "image/png": "iVBORw0KGgoAAAANSUhEUgAAAI0AAAAzBAMAAABYsJaTAAAAMFBMVEX///8AAAAAAAAAAAAAAAAA\nAAAAAAAAAAAAAAAAAAAAAAAAAAAAAAAAAAAAAAAAAAAv3aB7AAAAD3RSTlMAVJl2qzLvEGbdRM0i\nu4mh71oeAAACcklEQVRIDe2WT2gTQRTGv02yyTZuskXwIkhD6qWIsqL0ItKA8aAFDQg9moJ4NOTo\nyeTm0SBe6mmhIChI6h8qkoO5eVDoqggeLAb/nAqSakqkWOvbZLvOVOzO7Hjw4Byy7739vt/OTGZm\nF1BvuqvM0Iig728oczIeQfsHOMb4uY/UFbn+xM/2itOvuUm43BxNlmQ5sBaAsVEW9PQYrLY0p9wB\nYv0hZ98ytSpOYAbTrcVWy5aY5ymH/t6vQ47/exFHKZKbH7wji9ljOWYXb+Q5G2TRe5h/O//eh6Vd\nrPkcc+WL7VdDLoMhGT/QOeU8CaR61+cEldAg7j06sZ52bmBvIDZcrxikIkHGe3RyNpVaZ9SxOpOI\nhZb36Gt1aB5PoZVtMl+iJbSgACHrVIlWyiMaWkeNQ8tHv0+IJUeFkzq4WSy+pC7hlgrmv/cvzYA2\nfhJXDsH0z6nI1Dxmqrkm4l0ixFqDVogAMxqo7RmdQMaNYGYsyTrKV3EBls0UKTQfz3nNgbUZ3mgs\nzSrtH62PconnyGYTwKK3kyc9Y2zQh7koQ7wOcxWZHJaNtmwXWH1qA7tsxAp6JcuWpWNt7cNpIPXq\n8N1P0l7WoHLGnf/8IkApnHFmDs1gsSiccdlVWI2tDt3eCuSvGsuRt7OOX+NiqzvG6ePPj5zZrni4\nvRCeZxMPUGtzOn2lwOVCyZ0R9/cXz6Qj5GVF1ZqDsSrwbLAFbw5vJSMcfgQ5wIJhlpD5xlWEEoJU\nOGGtH4lTgcl+t8D7ih35zpFFEoIYXU4Yr6PZ4SoiSXoWCZcX7s7f4wuCWdIWFIbIlkohAsHbgyNc\nULuTLP/nmz8Blpi3h+t9kQQAAAAASUVORK5CYII=\n",
=======
      "image/png": "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\n",
>>>>>>> c1ef407d75385e2c24f2d7fd79eb197bd0697f2c
      "text/latex": [
       "$$\\rho u = - \\frac{D r^{- \\eta + 1}}{\\eta - 3}$$"
      ],
      "text/plain": [
       "          -η + 1 \n",
       "      -D⋅r       \n",
       "ρ⋅u = ───────────\n",
       "         η - 3   "
      ]
     },
     "execution_count": 234,
     "metadata": {},
     "output_type": "execute_result"
    }
   ],
   "source": [
    "temp = mass_conservation.subs(q, mass_source)\n",
    "temp = temp.rhs\n",
    "temp = temp*r**2\n",
    "temp = temp.integrate(r,conds='none')\n",
    "temp = temp/r**2\n",
    "temp = sympy.Eq(rho*u, temp)\n",
    "temp = temp.simplify()\n",
    "mass_conservation_without_gravity = temp\n",
    "mass_conservation_without_gravity"
   ]
  },
  {
   "cell_type": "code",
   "execution_count": 235,
   "metadata": {},
   "outputs": [
    {
     "data": {
<<<<<<< HEAD
      "image/png": "iVBORw0KGgoAAAANSUhEUgAAAMwAAAA6BAMAAAAOx6vFAAAAMFBMVEX///8AAAAAAAAAAAAAAAAA\nAAAAAAAAAAAAAAAAAAAAAAAAAAAAAAAAAAAAAAAAAAAv3aB7AAAAD3RSTlMAEImZ73ZE3asyVM27\nZiKsBhkEAAAEjElEQVRYCe1YTYgcRRT+enqmZ3t7Z6YJRhYUdsyy6iHCxAhGEnUjKkQxGY0La4ym\nEUO8mVt+Dm4nEMjJLCKCi+DAHpR42MWgQUbMBi+aSxYPKggygYQEPGTiIf5nfFXT3dXVU9XTO3MS\n8y793vu+V193TXVVvwGGM+uFb4cbIFu1g3ezEYdjFd2KO9wIGasPZOQNRzO+Gq4+Y/X4WuYst+1Y\nxmETNGPTukQmLdyErWlwL7Zut2ftRd4tdn7rBbWZt3B9XguqgC+M6fWVVmwx71exeO57gTyDCU9E\n/b1czbh16SPMRkzbj1zJOQ+Y8QdYWstPiaJntXEcJ6IhHXX53TeIsRyxgE9jvtY1WgE04eZ87MCO\n6EZnlDXjJ5nMdwKjqgw2Wg9IS7jawk6rHcbYrq4uMJk7BBZTFMkeL5LZMvUY8OMrxxsBxYpPTKyM\ny4yFLFhVO3r+GGt07jxKd258byZ4qyKZozESc80qwMmuDHCZXA0wJqvGU/jg9McJAqe/+GAThZx5\nFC93q0MZg81F3JxVgJPjSfK5zOgykLPaxmHs6nQSBBbSKjW9nxccH8E6DGVsKpQs7wVkKRvIWNPA\ngnkQiwkwDEvkVOtupYF9LZ4LZSqduBFU8dAlk18+e4iZxyr409htwM3XscAyGrt3Hm+6uEio2Wye\nfbbZ9FVEkmFGZNkiGTYfz8uYFE0B9wG/d3Ph03SjyW/ckJpvcI/IsnEZNmlsz6zKmBQ9AJxB6VY3\nJ8mYrhn9RGOrnEBk2bhMidG+hjUvY1J0D/A3LnvdnCRTbJX/CKlszZIRWTYuw8GNWA/a038xdsqM\nIPJh3Zx6OwgkmXzDuBmWWAe554dxcDUf+utRwPEoHJ9aBe3pe/F5gsNDw0eOPXPXJBl6IcXrw++R\nyCqLNptLB2izfVVFoYGd7oQw1KpLHKcahXyzStxFCIqFcQJPqxcCHRYTjZCfvN4vEvwgkE6WCDPE\nbBwx2pDvNGCNoHTus6hCdkpVEZd98kdEHPNGWlFwxG6PiihKpzuv4X1BuCLchPeSiN+Y2b1HRNk8\n+8LpY9mYQ7HynU574AFo52LmDzzA/6EwcXBIjywfK3HmWn1pWBaY/Ew6tNID3E78V2Zgv+5GS54O\nQXnzl3pQWWX7yvSYCzyiRFjyGgp/akEloG4AjIsk4ygLWJJ2wDktqASUDYBx8hTJxI8HufZJF6c8\nOdUn2q7G95GMMa3GgHMuHvd0oCpvLauyAJPBBTXGs3OMkMUWZ+dpq6iqGwAuM6kfxv5Vj0mIWbNp\nwnQNAJf5RCqQAmdFCvXBDzBoUeoaAC7zur56mx6Skedg/6NvALjMh3JFLCr4sSDNtW6gQF+0ugag\nj8wiyq200SOMmiFnmiatwTPiOy8gpE+aXUOpFTDTL8UarjcAXQPAZX7SDXF1w4aHdZicn1gB+zjU\nNQBcRrug5zpZ/+BZemfWIxlNA7B515lVqD/55bvtF1HPxS2lAdBvNv0GF/gTgZvSAOTqgj6gVw77\nppQG4K4Bx46VBb8JNeU+ZdUNQNjZxcoGd7UNQIF21l77F6XdSRnhTnk8AAAAAElFTkSuQmCC\n",
=======
      "image/png": "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\n",
>>>>>>> c1ef407d75385e2c24f2d7fd79eb197bd0697f2c
      "text/latex": [
       "$$\\frac{v_{w}^{2}}{2} = \\frac{\\gamma p + \\frac{\\rho u^{2}}{2} \\left(\\gamma - 1\\right)}{\\rho \\left(\\gamma - 1\\right)}$$"
      ],
      "text/plain": [
       "                2        \n",
       "             ρ⋅u ⋅(γ - 1)\n",
       "   2   γ⋅p + ────────────\n",
       "v_w               2      \n",
       "──── = ──────────────────\n",
       " 2         ρ⋅(γ - 1)     "
      ]
     },
     "execution_count": 235,
     "metadata": {},
     "output_type": "execute_result"
    }
   ],
   "source": [
    "temp = energy_conservation\n",
    "temp = temp.subs(q, mass_source)\n",
    "temp = temp.subs(M,0)\n",
    "temp = temp.rhs\n",
    "temp = temp*r**2\n",
    "temp = temp.integrate(r, conds='none')\n",
    "temp = temp/r**2\n",
    "temp = temp/ mass_conservation_without_gravity.rhs\n",
    "temp = sympy.Eq((p/rho)*gamma/(gamma-1)+u**2/2,temp)\n",
    "temp = temp.simplify()\n",
    "energy_conservation_without_gravity = temp\n",
    "energy_conservation_without_gravity"
   ]
  },
  {
   "cell_type": "markdown",
   "metadata": {},
   "source": [
    "Velocity"
   ]
  },
  {
   "cell_type": "code",
   "execution_count": 236,
   "metadata": {},
   "outputs": [
    {
     "data": {
<<<<<<< HEAD
      "image/png": "iVBORw0KGgoAAAANSUhEUgAAANAAAAA/BAMAAABjmFsQAAAAMFBMVEX///8AAAAAAAAAAAAAAAAA\nAAAAAAAAAAAAAAAAAAAAAAAAAAAAAAAAAAAAAAAAAAAv3aB7AAAAD3RSTlMAEImZ73ZE3asyVM27\nZiKsBhkEAAAE5klEQVRYCb1YTYgcRRT+enqmM/8zhwQWDDhBdsE/HFTEIJIRWXMQwoguRAnaSIJ6\nck9qIOAcDEQUHfAiAXFRQo7OQcxhLhs86ClOPOhJd0SCQoRMkCwRo+urV1XTVdXVCcTefbBV3/vq\nq/e2u6urXg/gs8JW7uZLA+zy0/mztfxD+iN+5KfzZ3/KP6Q/4n4/nT87yj+kP+Kqn86dbQ5yD+kP\nWO37+dzZQuyEPOb4c/cHhTIF0Ir5FBPU26YHVAa2r7zzQDhknCFAovAGSO1ANSexnLX3KvUjxn4B\nDIU/0V6HXnF8dhdOiUTfM/YKYCp8EYCXHfoJx5duSSTazdgvgKHwRsALNh3J+2OTkGHqa0RnCAyF\nO1f5H9h82AGOXbh0mDrT+P8tdIkSgurb59FwnmWiMOcZeNXABGsToPNeP/jXpjlMdaQEzz04RskW\nyCtihTOgXTHZsGKMKD6B5qbBEeREUY8QCWiBh/HPhE1LFCab4Eo3wQK1YgTBJqri4V9+U9gbguYw\nlZkUNKjr9KlpnmNFTNBQCC9tjYnNUSKRJRzZtJVIDC0NbcEtE6nXfT6ruEbPe4RiZ84wSG6MEJAt\ncms0icIgDehWDHW6QspyJTY0BDlMQ1ymEJDdz63RJAqDNKBbA4klTFk2DImAHIaXNzfAPkdgKNwR\n6f/u0NEqcBR436bDh/9+nJZ+TKwQkA24TRpDkZAmOmM6Ah9iYtmlhS+3IBYEA59AKbxDSy7LO2fz\nL5cW/iKTLMg4LqXCN1ecIrbxKVDq2SR7wYg7FriLVcqVwjMXkHfcGOIaIuwajIblKSMWlDVp9Uph\nccoJ1lPspRSjiOdVnymAViC4qxMsW3GijuXm5RSiWfDWPNiUUGmNmvztdLiKz3XY0hqhm9xVrbud\nvl3s47SeWOwQEhuDuQfrwf/bf9HGMzrGxjqhO7Qn+lZOn34U6jE6SERIsuDHHrXb9XH0NaJhdASX\ng0NolGeUaLs+ju7DHuxpTY/gK1pwYpt5l/62wxYWJ/jlFZzEi3SO/kMZ5K6yHako5kk8JZ5U80/C\nqR0oz5zHgxn6FPBGZkV/62y1i817/Cpjlz5emVWnpPoSaIiEt2PFra2Odx7X+mrk1ZVnuQ7+sI0w\nVpy/C6Z+ng7bR+/2Dsla3xl6KUbGJ4gWZhxvNOw/JmiAiws9X/WvT1IfR44ip0R3dvGHHVlW92dv\ntHGRB3SidNVfXjkcZ9f6dlS0RvjMpri6Lz1574hXJb1qaq2kq/56m+rmzFrfjoraDPYSldX9x8Aj\njSlrVSJf1Q+8k13rO4nCq7hgUbK6nwCFkuRVIl/VDzzwCYk64prNc8a3GBqb7sagq/vCazQ9HI/P\nPT0eDwhqnqCybyhRTHhpqBnV+xJF19zySFf3BfVs9DPSfBL0IHBgSu5iQknkSxRcj7q2jg5dqrvp\n1k0krxNpPlHTxLHw/LV+opPoYEkF1AOUhav7QlsyOpHmtQ74FVUujfcllES+K8J35aGt09W9fu91\nIs0n6spDp6bCG4jGMFnrGwTDA7+5DLAsqAXF60TkMq/opAsGCb4J2jibGpTV/RnFR30t8Ff98zda\nyzL6T79NDZR6gtqfwadof62fkrWupaiwK6hBBp+i9cNMDdjELufHBHs0R68ufkzYCSv0diIL5aiu\n71CiwHlfc0v7H2lxq5LhCUYIAAAAAElFTkSuQmCC\n",
      "text/latex": [
       "$$v_{w} \\sqrt{- \\frac{\\left(\\eta - 1\\right) \\left(\\gamma - 1\\right)}{\\eta \\gamma + \\eta - 5 \\gamma - 1}}$$"
      ],
      "text/plain": [
       "        ___________________\n",
       "       ╱ -(η - 1)⋅(γ - 1)  \n",
       "v_w⋅  ╱  ───────────────── \n",
       "    ╲╱   η⋅γ + η - 5⋅γ - 1 "
=======
      "image/png": "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\n",
      "text/latex": [
       "$$\\frac{1}{2} \\tilde{r}^{- \\eta - 1} \\left(\\tilde{r} - 2\\right) = \\frac{1}{2 \\tilde{r}^{2} \\left(\\gamma - 1\\right)} \\left(\\left(\\tilde{r} \\frac{d}{d \\tilde{r}} \\tilde{u}{\\left (\\tilde{r} \\right )} + 2 \\tilde{u}{\\left (\\tilde{r} \\right )}\\right) \\left(2 \\tilde{r} \\gamma \\tilde{p}{\\left (\\tilde{r} \\right )} + \\tilde{r} \\left(\\gamma - 1\\right) \\tilde{\\rho}{\\left (\\tilde{r} \\right )} \\tilde{u}^{2}{\\left (\\tilde{r} \\right )} - 2 \\left(\\gamma - 1\\right) \\tilde{\\rho}{\\left (\\tilde{r} \\right )}\\right) + \\left(2 \\tilde{r}^{2} \\gamma \\frac{d}{d \\tilde{r}} \\tilde{p}{\\left (\\tilde{r} \\right )} + \\tilde{r}^{2} \\left(\\gamma - 1\\right) \\left(2 \\tilde{\\rho}{\\left (\\tilde{r} \\right )} \\frac{d}{d \\tilde{r}} \\tilde{u}{\\left (\\tilde{r} \\right )} + \\tilde{u}{\\left (\\tilde{r} \\right )} \\frac{d}{d \\tilde{r}} \\tilde{\\rho}{\\left (\\tilde{r} \\right )}\\right) \\tilde{u}{\\left (\\tilde{r} \\right )} - 2 \\tilde{r} \\left(\\gamma - 1\\right) \\frac{d}{d \\tilde{r}} \\tilde{\\rho}{\\left (\\tilde{r} \\right )} + 2 \\left(\\gamma - 1\\right) \\tilde{\\rho}{\\left (\\tilde{r} \\right )}\\right) \\tilde{u}{\\left (\\tilde{r} \\right )}\\right)$$"
      ],
      "text/plain": [
       "                                  ⎛              d                            \n",
       "         -η - 1                   ⎜\\tilde{r}⋅──────────(\\tilde{u}(\\tilde{r})) \n",
       "\\tilde{r}      ⋅(\\tilde{r} - 2)   ⎝          d\\tilde{r}                       \n",
       "─────────────────────────────── = ────────────────────────────────────────────\n",
       "               2                                                              \n",
       "                                                                              \n",
       "\n",
       "                        ⎞ ⎛                                                   \n",
       "+ 2⋅\\tilde{u}(\\tilde{r})⎟⋅⎝2⋅\\tilde{r}⋅γ⋅\\tilde{p}(\\tilde{r}) + \\tilde{r}⋅(γ -\n",
       "                        ⎠                                                     \n",
       "──────────────────────────────────────────────────────────────────────────────\n",
       "                                                                              \n",
       "                                                                              \n",
       "\n",
       "                                     2                                        \n",
       " 1)⋅\\tilde{\\rho}(\\tilde{r})⋅\\tilde{u} (\\tilde{r}) - 2⋅(γ - 1)⋅\\tilde{\\rho}(\\ti\n",
       "                                                                              \n",
       "──────────────────────────────────────────────────────────────────────────────\n",
       "                                                                              \n",
       "                                                                              \n",
       "\n",
       "       ⎞   ⎛           2       d                                       2      \n",
       "lde{r})⎠ + ⎜2⋅\\tilde{r} ⋅γ⋅──────────(\\tilde{p}(\\tilde{r})) + \\tilde{r} ⋅(γ - \n",
       "           ⎝               d\\tilde{r}                                         \n",
       "──────────────────────────────────────────────────────────────────────────────\n",
       "                                                                      2       \n",
       "                                                           2⋅\\tilde{r} ⋅(γ - 1\n",
       "\n",
       "   ⎛                              d                                           \n",
       "1)⋅⎜2⋅\\tilde{\\rho}(\\tilde{r})⋅──────────(\\tilde{u}(\\tilde{r})) + \\tilde{u}(\\ti\n",
       "   ⎝                          d\\tilde{r}                                      \n",
       "──────────────────────────────────────────────────────────────────────────────\n",
       "                                                                              \n",
       ")                                                                             \n",
       "\n",
       "            d                              ⎞                                  \n",
       "lde{r})⋅──────────(\\tilde{\\rho}(\\tilde{r}))⎟⋅\\tilde{u}(\\tilde{r}) - 2⋅\\tilde{r\n",
       "        d\\tilde{r}                         ⎠                                  \n",
       "──────────────────────────────────────────────────────────────────────────────\n",
       "                                                                              \n",
       "                                                                              \n",
       "\n",
       "              d                                                               \n",
       "}⋅(γ - 1)⋅──────────(\\tilde{\\rho}(\\tilde{r})) + 2⋅(γ - 1)⋅\\tilde{\\rho}(\\tilde{\n",
       "          d\\tilde{r}                                                          \n",
       "──────────────────────────────────────────────────────────────────────────────\n",
       "                                                                              \n",
       "                                                                              \n",
       "\n",
       "   ⎞                     \n",
       "r})⎟⋅\\tilde{u}(\\tilde{r})\n",
       "   ⎠                     \n",
       "─────────────────────────\n",
       "                         \n",
       "                         "
>>>>>>> c1ef407d75385e2c24f2d7fd79eb197bd0697f2c
      ]
     },
     "execution_count": 236,
     "metadata": {},
     "output_type": "execute_result"
    }
   ],
   "source": [
    "temp = momentum_conservation\n",
    "temp = temp.subs(q, mass_source)\n",
    "temp = temp.subs(sympy.solve(energy_conservation_without_gravity,p,dict=True)[0])\n",
    "temp = temp.subs(sympy.solve(mass_conservation_without_gravity,rho,dict=True)[0])\n",
    "temp = temp.subs(M, 0)\n",
    "temp = temp.doit()\n",
    "temp = temp.simplify()\n",
    "u_without_gravity = sympy.solve(temp, u)[1]\n",
    "u_without_gravity"
   ]
  },
  {
   "cell_type": "markdown",
   "metadata": {},
   "source": [
    "Speed of sound"
   ]
  },
  {
   "cell_type": "code",
   "execution_count": 237,
   "metadata": {},
   "outputs": [
    {
     "data": {
<<<<<<< HEAD
      "image/png": "iVBORw0KGgoAAAANSUhEUgAAAN0AAAA/BAMAAACWZtCgAAAAMFBMVEX///8AAAAAAAAAAAAAAAAA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\n/4n6F519xwicrn/vAAAAAElFTkSuQmCC\n",
=======
      "image/png": "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\n",
>>>>>>> c1ef407d75385e2c24f2d7fd79eb197bd0697f2c
      "text/latex": [
       "$$\\sqrt{\\gamma} v_{w} \\sqrt{\\frac{\\left(\\eta - 3\\right) \\left(\\gamma - 1\\right)}{\\eta \\gamma + \\eta - 5 \\gamma - 1}}$$"
      ],
      "text/plain": [
       "           ___________________\n",
       "          ╱  (η - 3)⋅(γ - 1)  \n",
       "√γ⋅v_w⋅  ╱  ───────────────── \n",
       "       ╲╱   η⋅γ + η - 5⋅γ - 1 "
      ]
     },
     "execution_count": 237,
     "metadata": {},
     "output_type": "execute_result"
    }
   ],
   "source": [
    "c = sympy.Symbol('c', positive=True)\n",
    "temp = energy_conservation_without_gravity\n",
    "temp = temp.subs(p, rho*c**2/gamma)\n",
    "temp = temp.subs(u, u_without_gravity)\n",
    "temp = temp.simplify()\n",
    "c_without_gravity = sympy.solve(temp, c)[1]\n",
    "c_without_gravity"
   ]
  },
  {
   "cell_type": "markdown",
   "metadata": {},
   "source": [
    "Mach number"
   ]
  },
  {
   "cell_type": "code",
   "execution_count": 238,
   "metadata": {},
   "outputs": [
    {
     "data": {
<<<<<<< HEAD
      "image/png": "iVBORw0KGgoAAAANSUhEUgAAAHgAAAA1BAMAAAB4jDJTAAAAMFBMVEX///8AAAAAAAAAAAAAAAAA\nAAAAAAAAAAAAAAAAAAAAAAAAAAAAAAAAAAAAAAAAAAAv3aB7AAAAD3RSTlMAuxCrdpnvzWYiRFSJ\n3TKL57PPAAAC7ElEQVRIDZVWv2sUQRR+7u3er727wHVWniiIlScWtgdCCNhcoxERkyKVjUEhV4lX\nCGIhOSGSztsiWl+h9a1iIUbIKWghSO4PsDBHIHhG4/zamTcz2dvdKeZ973vfd7vZ2X0vAHGrcpS4\n4qwA1fhScuVZsiRe8Tq+ZFbqJgG3LUYjkOH0RKvQZGQxmECGM5css7OKtRKf50gzuJbZD6UBg+hJ\nYAPGXFsJsEfidOZCQxpg6+TGlZCnKc3KC+HllvM7i/mlMpeDz1CaZjFfJeLNH3R9d5wp+OKJprvt\nuroydXr05BY7nW+dzn1awU8YY+7C7whx5kNOp7pyrcnFbM+H0A94nsrsdrmY7cS5LtJjzN71gxtI\nTGCuh/JXABd1s21AcqsVrOhmLLWx0QpK/4Rky5bazCOdcpf1fHZmtAKvPVuuV/Ex65XkLKYVJBup\nIqYVJJpLYyKJaQWm2RgLAIUWkbBWMGfUzNT8KZIP6VtdOKaQgnKeLhMVagUpPFLie/Sz35Z5NlD8\nQ/S4FWSxlw6JOuM70mfP8hcxHgBorcC8cu3T24HB3ZT5Q9KhujKzwXMo7+sseh93xnor0IUAOwP4\nq3OeupNh12oFmnZomc+p+oUmGK1A1Tgyb3sb/N06FBukmh8BagVoTsnfKDQlpMAZwfytDrgU5yb4\nvwI0p2iRrp+s7XNM90qXnI4XPKHYnaJjxnOKFtly70SIxSoUSQxbNKnto0cfzanSAza3AioAuNtg\nQWwLLH4cs7CHW0E0p4SQhBcAp7oiLQcEjFjynlNrXsAB3T01pzjpHDWUeX6V/JktVvjAy0ubPLI9\nr+aUYMnru9vjuHaW9PMqx+94WH8sZDSgOSXYBSjTb4ctZw+icxXH1/8a1UhEc0qw/rXFgRQs9eAL\nSxxhnqNfNForCJuw3y6GjPNbvHSC9hK15JxSlEK5SbXBMm/MycqIR7HPnFO1wzdclhPqclszz55T\na/c0cbZkqF8pm7nQy6aX6v+PVQmhb/j/awAAAABJRU5ErkJggg==\n",
=======
      "image/png": "iVBORw0KGgoAAAANSUhEUgAAAA4AAAASCAYAAABrXO8xAAAABHNCSVQICAgIfAhkiAAAAMRJREFUOI3N0r1OgkEQheEnlhqDxlYrA9wCLRfkdWhlLK30FmixsOMe+CnQRmOnUQstxGa+8GVgCRgLpjnZs/PuZHcP/1jHuMETvvCAKxyugk7xghl6uMB9rIc4KoH9aDpL/mX416VpM0yxk/b28YFP7EkN3dA7/CTwHQPsopPBdui4cI1JaCuDjdC3Alj5BxncqOpgdWJjWWPNf83gKLRVAJuhC2+w0Xfk+lMAqqn1yJ2bR25kReTgBLd4xjcerRHyLa5fD28wqzSkqLgAAAAASUVORK5CYII=\n",
>>>>>>> c1ef407d75385e2c24f2d7fd79eb197bd0697f2c
      "text/latex": [
       "$$\\frac{1}{\\sqrt{\\gamma}} \\sqrt{\\frac{- \\eta + 1}{\\eta - 3}}$$"
      ],
      "text/plain": [
       "    ________\n",
       "   ╱ -η + 1 \n",
       "  ╱  ────── \n",
       "╲╱   η - 3  \n",
       "────────────\n",
       "     √γ     "
      ]
     },
     "execution_count": 238,
     "metadata": {},
     "output_type": "execute_result"
    }
   ],
   "source": [
    "temp = u_without_gravity/ c_without_gravity\n",
    "temp = temp**2\n",
    "temp = temp.simplify()\n",
    "temp = sympy.sqrt(temp)\n",
    "m_without_gravity = temp\n",
    "m_without_gravity"
   ]
  },
  {
   "cell_type": "markdown",
   "metadata": {},
   "source": [
    "Transition between super and sub sonic flows"
   ]
  },
  {
   "cell_type": "code",
   "execution_count": 239,
   "metadata": {},
   "outputs": [
    {
     "data": {
<<<<<<< HEAD
      "image/png": "iVBORw0KGgoAAAANSUhEUgAAALAAAAAyBAMAAAAO4Uy+AAAAMFBMVEX///8AAAAAAAAAAAAAAAAA\nAAAAAAAAAAAAAAAAAAAAAAAAAAAAAAAAAAAAAAAAAAAv3aB7AAAAD3RSTlMA74lUMhC7IplEdt3N\nq2Z8tbq5AAADX0lEQVRYCe2Yz2sTQRTHXzfZZpu2qaCgB6Ul4EFRm4IH0UsqFbwIEUQvlkSk50b/\nAiseKvijB0Hw0i14UiHx5kUseCm4SvDgLwjdixTEg79aK1brvJl5053N7CZt6kWcw8y873zfpzMv\nm91toH/1C2x6G1z9DFtHjm06F06NDME2xB7NnjfTOwsG3X6zP2+QAc0vChdzuDbMwalLMO2arPa4\nCXwhl9pucHMzVVaAra/QVw1az4jArs+bwOcAXgXdQfPcyzwPBTgRBh+mvIoJvAIwaNLRXJOZAswC\nvRSxYHsJoDJFfzowGsHPAY4sFeC98MWCAXfsB4A0RfC7e295KHec3FeD9I59s+AKUzx4AmBcGoVd\n9ggegyI/jCrFzNQJgKuZcivgs37iZhQYoHcLMhS4Y9EHsNKosRa/Y/hwt5ITRq3HHTPIN+wFOJWH\nzt+o3ULtmuc99DxWdNaEl0+1bpAzNImbO6tg/UBZgIuLEuxKa5MdA3jSqA1sFx1VcL6jKMB9s9CN\noeWjxlo8uFJO8V0J71rPwA5AzywqApz2YXqARRYdMB58v9DjMndDY2B2cxgq44IAw6HJpxj1YoeN\nwJP9cz4XtM6aNN6yuPn49dfcK8Eyb5TyCUzx+kcdrHh31k8KZejgK6HVNkIdXGuDFErVwaHFdsL/\nYFU9UYrVuPZJmeWkj7vDKqwxMOMfrbHdcGwuFMyyUFsqRbFqQtg/TSppLYFP8ls3pdBo95dpahjj\nwWMy43Y4M1ljSlcDOPkom80Kbyz49KIE+nJUQ3eJTTMqpEmGXXK/RGAC23Ino/VI8EyJpTeC8QmE\nZ2HNBE64fAkgLcH0UiBlgNTHEpu7KqaJxZ5ueRG0BBbWQG/1lAKRNqVHhAInnoxBhp2EtYYda5kY\nLESC7ZI0K/DMZQ/kkZuCbTcS7ORCYHb9OFMLQmwKtiASXJRc9eHhJzzgtgg+GA1+EAZjvCfPOsfz\nnu30PH7R0FWBi4FmD0SDH5NP1ZgJe6XYrBSJen1+l0sEbbSXKQyCD0ixGZjZOkoE0McuI3i3NLUB\nThjB8suormNnYuWGviGKrPlln+bamMS3bN4CpbDDYPJsaAyAVQW63A2h9KQA2MnrS+1FAbB6OW6P\nKLOH/97PCvTv+qbskyDsh5A/ATkCG1QsYH4AAAAASUVORK5CYII=\n",
=======
      "image/png": "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\n",
>>>>>>> c1ef407d75385e2c24f2d7fd79eb197bd0697f2c
      "text/latex": [
       "$$\\left [ \\frac{3 \\gamma + 1}{\\gamma + 1}, \\quad \\frac{9}{4}, \\quad \\frac{15}{7}\\right ]$$"
      ],
      "text/plain": [
       "⎡3⋅γ + 1           ⎤\n",
       "⎢───────, 9/4, 15/7⎥\n",
       "⎣ γ + 1            ⎦"
      ]
     },
     "execution_count": 239,
     "metadata": {},
     "output_type": "execute_result"
    }
   ],
   "source": [
    "temp  = m_without_gravity\n",
    "temp = temp**2\n",
    "temp = temp = sympy.solve(temp-1,eta)[0]\n",
    "[temp, temp.subs(gamma,sympy.Rational(5,3)), temp.subs(gamma,sympy.Rational(4,3))]"
   ]
  },
  {
   "cell_type": "markdown",
   "metadata": {},
   "source": [
    "Density"
   ]
  },
  {
   "cell_type": "code",
   "execution_count": 240,
   "metadata": {},
   "outputs": [
    {
     "data": {
<<<<<<< HEAD
      "image/png": "iVBORw0KGgoAAAANSUhEUgAAAPMAAABFBAMAAABtS81kAAAAMFBMVEX///8AAAAAAAAAAAAAAAAA\nAAAAAAAAAAAAAAAAAAAAAAAAAAAAAAAAAAAAAAAAAAAv3aB7AAAAD3RSTlMAIs3dRHaruzJUiZkQ\nZu8ot8ScAAAFRklEQVRoBe1ZXWgcVRQ+s5lN9md2NxT7IoUsa1V80QWL9sGHAa2+mbXYRFvRsdrU\nt6S+iFjJIFipggn64EMfsggqbV+iEBFFHArxRUpiqQiKdA0KRURWaWtTKvGc+zP3Jxub3cxEhRzI\nzDnfufd883u/2ROAhO21hOutr9w0DnvjmfWNTXjUBNV7O+Gi6yv3b1B//9j+AI8udeqRlbGx20P9\nOnjnl+HiZlDDHwD5ZZ3ama/C75tBnbuGLF9EjDv/AtpR6G/kWv212lLt1nQfs+wlZJ1qMGqxKYfZ\nAN3U7/VAG1mGiCq2IRhYxCB16goxTAXu6E37ZwX5Q1AJBfXNd80JMIUdu9YXmoX+XZl2XH6KPHbW\nMZSC81SIRcf9B/qCvB+X/5a8IA5Tciap7m8QLfgaweean577J5Yu/QUwkx7FGpVzlzFRxtv60RoD\n0oOzV7H28xHAL+lxrFGZXutXZgEcWlk21b6avDJ2+BOkdFubyrtFtnUFtq7A/+MKbLubbBfAyiYb\nropb9l+6AoWeH4ANn0Xfhiv0XOBEzzM3PPHZDVfouUC9h5nJtDTcoDvqaRyeUEuj6HdHPUHDk2lp\ndPuAJ0h9zDhp6ls4k0ehwdHS3Kvvi7xEE6Q+qVOzvkXm0Y9dn6Nnh6fLIXclalHv4dnV25K/GrOQ\n+/SY9S2+hsK8AHfshcog9yVqUucCfbr0Xz/1IgB9Tv+jOaxUPIT6FgC5H+Ad6mNEcAjelC6hq1oa\nmSieqhxnFoYbkFFAZy+7aOCib1GX4EUYkS4AQ9mhxk/4PpVVXmEZKnUoNRXS0bMOW/QtAjHWacPL\nahpDTepfVVZ52HxCaq+lkI7eGRPlfQtnUaDuBNBPP24cJeq4peFWRc7e4QUHvN/KvNNN72cVkveN\nGWILBQHt6cy14wEcJerYik2APUe2j+DOtNswPK1DBbft3aMDAEfMEID6Fv0KLCkqjgYqB5BZBGge\nbHjUzdMs926A0VsaAseLdTA10qvqefKpb1FUYBGLC9NQCZV9cP17O/waftIHeFiOon1UbsBxHYB8\nE39G38K+WP0uP1jbWKjig+ddgvx19OPvXiIoI0K3TtlMBE/IqDSNXn8ow572SE28xaox2wlhADsx\nJjU2R5ruKGzzfgQYDnD8esXD/fBswyjPFbuMh4+85aaRW7jOqI0LDi+BG85XBkdhJzjnWjjevPNa\ngbzmo+uuXDEAodjUvETeId9IVqrQhw/eOQP8AOZhx/24PD4CuQK9sc8ZaS0Y0Hx03fODJsDXs8Is\n9lJ9uGDmcIUcblovF3z5Hh7mIfgJMMNaVHVzkopsal+lmMepXZyP1/WwlTzx2R2I7LRQDHd7babH\nS3gyeNTKmDoLXSZqTa3duQORVGw2Qazi+MygWcsUwzoupLtz7fwgpscjKPp8GN8ydRa6TNSaWjuD\n+apUbDZYUH9HgaMWW5bjm0JDC4T74L4Dj5M7M2094EydhS4TtabWAN5VqdisjKBm6pNtMcjaWOpg\nZBcCOGYATJ2ZWh+s3VmrNTS1zoSA/TtUbPH/CPlh6ARYoWjcNlnyael02GdacNKEhTrXEaWzxv/x\nSLUuhw6t05ThJs4atkvA3mdDG9FifLuqWoj3TKhzgChRyxjdQpQllP64SWoZd7fPXbO+joQ6M10m\nal2tT32KAFdsYokVm4IebMn6OsKb2cYyTJfZBeexqswVW8W9e+NnImsyU2emy2wDmlrTSA5ac3oK\nZ/ba05g6a7qsqTUN1TL2zC7jhctdTkhueMb6rkmu8g0rZdVresOxCQ9w/IQLrir3N/ICCq0pHFAw\nAAAAAElFTkSuQmCC\n",
=======
      "image/png": "iVBORw0KGgoAAAANSUhEUgAAAA4AAAASCAYAAABrXO8xAAAABHNCSVQICAgIfAhkiAAAAMRJREFUOI3N0r1OgkEQheEnlhqDxlYrA9wCLRfkdWhlLK30FmixsOMe+CnQRmOnUQstxGa+8GVgCRgLpjnZs/PuZHcP/1jHuMETvvCAKxyugk7xghl6uMB9rIc4KoH9aDpL/mX416VpM0yxk/b28YFP7EkN3dA7/CTwHQPsopPBdui4cI1JaCuDjdC3Alj5BxncqOpgdWJjWWPNf83gKLRVAJuhC2+w0Xfk+lMAqqn1yJ2bR25kReTgBLd4xjcerRHyLa5fD28wqzSkqLgAAAAASUVORK5CYII=\n",
>>>>>>> c1ef407d75385e2c24f2d7fd79eb197bd0697f2c
      "text/latex": [
       "$$- \\frac{D r^{- \\eta + 1}}{v_{w} \\sqrt{- \\frac{\\eta \\gamma - \\eta - \\gamma + 1}{\\eta \\gamma + \\eta - 5 \\gamma - 1}} \\left(\\eta - 3\\right)}$$"
      ],
      "text/plain": [
       "                 -η + 1              \n",
       "             -D⋅r                    \n",
       "─────────────────────────────────────\n",
       "        _____________________        \n",
       "       ╱ -(η⋅γ - η - γ + 1)          \n",
       "v_w⋅  ╱  ─────────────────── ⋅(η - 3)\n",
       "    ╲╱    η⋅γ + η - 5⋅γ - 1          "
      ]
     },
     "execution_count": 240,
     "metadata": {},
     "output_type": "execute_result"
    }
   ],
   "source": [
    "temp = mass_conservation_without_gravity\n",
    "temp = temp.subs(u, u_without_gravity)\n",
    "temp = sympy.solve(temp, rho)[0]\n",
    "temp = temp.simplify()\n",
    "rho_without_gravity = temp\n",
    "rho_without_gravity"
   ]
  },
  {
   "cell_type": "markdown",
   "metadata": {},
   "source": [
    "## Slow mass injection"
   ]
  },
  {
   "cell_type": "code",
   "execution_count": 241,
   "metadata": {},
   "outputs": [
    {
     "data": {
<<<<<<< HEAD
      "image/png": "iVBORw0KGgoAAAANSUhEUgAAAQAAAAA6BAMAAACtypoqAAAAMFBMVEX///8AAAAAAAAAAAAAAAAA\nAAAAAAAAAAAAAAAAAAAAAAAAAAAAAAAAAAAAAAAAAAAv3aB7AAAAD3RSTlMAEHa7q5lmIonvRM3d\nMlTyXwuaAAAF8UlEQVRYCe1YW2gcVRj+ZrP3Oxqw0ocOZiv1QZqCqCgt6w1bFLKC1sZU3IJQsUrW\nYiuokDUYUfvQ1Fu9UBnyYrzhRqOiWzFSH0oRuw8KCkpXQXywmI2ClaZt/M85M7PnzJ7Z3cQEEfrD\nzvn+2zf/zjkzc/4BVkri6zauFHV3vAl8313gSkUls5nsSnF3yftOl3ErFWZ8vFLMXfL2/sczYNy2\nqstKlzls1Vor3odYNrlwZpmZu6T7zBi/IFOSbsG46Zd5v5/j39ijBePUQyeRa3J804Qy2gCEarKB\nsNF309ZIAeGBc8yx/ss6GxYpSSvewGZc30ybakIJXThHSkUyMPhMEfHBIhD8m5TUgLc+FuInRsn2\nrMlG8ziEQ25ywNTl9N7ICrhPda3+gvT9xLT3BQLhAdXbXkubtn8Wj5dwMN5wdFqO2swAK+Bi1fUJ\nC/2BfjuvpcOO51Vve80t4PbRO4F7L91cd+LfdoA68gJ63CjmDPGZ30OoMAhE3viDGf0kfXwDwtnJ\njRM58QfdAr72Zmwjw8k/s9ihOngB0YJsHKkw7SL6FdYDgfBZ2enFl22rIoDy9nqAZ8EpwGBXVpGP\niOvFfRWYihW8gLRItj33FG0QKc7W8FOwoWYoWiqPkLUzVZ9GWpzRKSClULKcVwG6Ee8KlxQCUUB8\nXDYed0LCpZG6UY/1y04PDpNeNg2cQ+AUdzkFZBZkYa7TQBGIBghGDn/FxCIoCkg1GHRkgcDa6tW0\nGJAxAxgxHYfP+GwN8Tn0EEeoWj38WrWa1wZSASTRdz1OPgVqAa+wkP0WKyBW+BXDNU+KVx0l2hlk\n8tzuXAERNHZF1o1+naOo6RoE4AWoUzDAkj6n314kporY4sloUZ8CEgUMl7hDKSCUDVXc8Cs5ihZd\ngwC8gHAzjKwnTJqleQI7EXoO6PgYeALI9EdojTFRCkiWIs1baIz7o+zfycILUG/D8F+0Xo9SUAWB\ns0i1fQwwqjzw3mROXAC1gFjdEDPPwsTGLMigJKHB+a10BS3JRGefvqP4IHDrvJkup7ecuVlxtihG\nHtjnWpUrQBek+TiI8RJ73UgZeB7FsqszZqf80A3zvPQTZdcT5vBnV5cBreOlC73MDf7w1lE8KRmn\nGL5bMrjQUNaga+4S0Kzumjf1weJf276H2Zi3FWUI2gtIMS6LMokfmzwRs4lVdLmqLp+W2vT7dcvH\ntgSm2MJCYwlpHVOGqkymO8adD1jcFZBf3/7YO6Xqa98/r7NnMdVu59uJI4tJOR/7v7oCE37Vhi0/\nj9buy4P2zXAqr6PbM3SNz5tMF81seh5gA+01a35JzJ7IaryRPNbXkdB4fE1aHkDbDCsklyiarQSz\nSDYQLut8PjYtD7TNsMpwQFWFFjuA4GkY4zqfj03LY/ch7XZg8YqOMDGHEG0vN+l8epuexy5AbYZt\ngnjfo+sKtEDKwMRVu3M0qJKcA8TOWrW3ar/kaoJHdM5qgGYXbgdEg8cSDVqDRWr2bjEN0elJySfK\nwG+S7gtDhRRdfsYjOmc1kBegNsN2wFvJfNoCYhbi1hFEmvt52/8BjW/auO3wAN+jEg/diNQ5e2J5\nAWonZkdk11gMZSwY1E3w/fxj/KVzjAeE+mk4wWGHw0tIUWdDPKJzpugOzbDDN8sBJbKzSz2d8OfY\n0E0B1ChTP8UKYEKdsyr8CqjNsBMwxEGsTguogljZMYsxXcAj3U1BaAaJcZpK4iEZ5Ufp4D8FeJmH\n9RQpuYwRi2vu4VvWqmKXq/uDZAEjdaCnCCbUOavCC1CbYTvAXnasT6WzD6tpkaNPj810dxuu6cf7\nlMx4SKhzVoUXYDtVj70y4zP8St+gOpO0pSLHp6pVq81+l7PIwXhI8vzYPGib4aaboYNcpe8CrdLV\no1gsJZvHyLeykKXdo1h8NZW+K0gMLZ9XJJ8LxVKyv76mTdcug5alKTv5azRA67hVVreaWizuE4zz\n6N/87ZthevXTjSiWkIe+w5cKHm3PPT19GA91zhrp0Azv1qRwU6Dm59HafXmgbYb/AekLw2flwJPp\nAAAAAElFTkSuQmCC\n",
=======
      "image/png": "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\n",
>>>>>>> c1ef407d75385e2c24f2d7fd79eb197bd0697f2c
      "text/latex": [
       "$$\\frac{G M}{r \\left(\\eta - 2\\right)} = \\frac{\\gamma p + \\frac{\\rho u^{2}}{2} \\left(\\gamma - 1\\right)}{\\rho \\left(\\gamma - 1\\right)}$$"
      ],
      "text/plain": [
       "                     2        \n",
       "                  ρ⋅u ⋅(γ - 1)\n",
       "            γ⋅p + ────────────\n",
       "   G⋅M                 2      \n",
       "───────── = ──────────────────\n",
       "r⋅(η - 2)       ρ⋅(γ - 1)     "
      ]
     },
     "execution_count": 241,
     "metadata": {},
     "output_type": "execute_result"
    }
   ],
   "source": [
    "temp = energy_conservation.rhs\n",
    "temp = temp.subs(v_w,0)\n",
    "temp = temp.subs(q, mass_source)\n",
    "temp = temp*r**2\n",
    "temp = temp.integrate(r,conds='none')\n",
    "temp = temp/r**2\n",
    "temp = temp/ mass_conservation_without_gravity.rhs\n",
    "temp = temp+G*M/r\n",
    "temp = sympy.Eq(u**2/2+(p/rho)*gamma/(gamma-1), temp)\n",
    "temp = temp.simplify()\n",
    "energy_conservation_smi = temp\n",
    "energy_conservation_smi"
   ]
  },
  {
   "cell_type": "markdown",
   "metadata": {},
   "source": [
    "Velocity"
   ]
  },
  {
   "cell_type": "code",
   "execution_count": 249,
   "metadata": {},
   "outputs": [
    {
     "data": {
<<<<<<< HEAD
      "image/png": "iVBORw0KGgoAAAANSUhEUgAAAYoAAAA/BAMAAAAMIJJRAAAAMFBMVEX///8AAAAAAAAAAAAAAAAA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\n",
=======
      "image/png": "iVBORw0KGgoAAAANSUhEUgAAAFIAAAAwCAYAAACCEC3KAAAABHNCSVQICAgIfAhkiAAABG1JREFUaIHt2l+oFVUUx/GPmpYhpYUlkjch6Y+o9/pQ+ZBhPZSRWUFQokXSQ5H9IaSCoMxSVCKoLJQoulERFCFUD1pBUIH9USyzwrAHiyTTzDIotayHNQen45x7z9wzZ65X5gvDnLNmz1571ux/s3+bikIYVKKvf0v01RfKjEWfOR7393ch2sngkvxcig9L8tUvlBXIC/FxSb76hbICORiHSvLVL5QRyE58UYKfLC7Gm/hRDHY3t8tRGYG8DO+U4CeLEdiCu/FnP5WhMB5pYP8ci7ESu/EzHmxjOf4wgGvk6fgpwz4U52EePsU0rBKBHdPmMh31dGBFnW0+zsxI2yn6rGtStnGJ7dy2lG4A1cgpmItTUrbx2J6RthN78FbKNjo519fgJSLAPR0zWip5ARxXYF5v4w1ciZfE18xfDdJ2YSP+qbNtx966tE/g5V58f5+3sEVTZCCJqcZtIpCX4P0G6Tqxoc42VQxA9exOjqOaogebD8RXzDCcLwaSLDqxqc42NcPWKiNETe8Sz9qR/O4o2E9beBWXY1GD62c4clAZhH2YXXBZZsjuU7sL9tMW5oiaeW2Oe84WDziuLSUaoIwUtWtEjnuuNwD6wZ5ox4R8L24X87ZmaTTQVFRUVFQcA9SUs6Nd4auoqMhFHlG8av4FsVh5quOAo9nADBZLbse0pNoKzQZyGj7Jmfco7MRZOe87GnkdC4vIaBGG57znMbxQhPMSWIDN+D051ouV/hqThTRycquOluVMfyJ+xUWtOm6BbjzcZNqrcQUmiCW9pTgodKgaG0TA+8xE3Fhn+xqfOXKpbB2exXXiDRaxVa6v+ne35gOZxR7cmvr/ED5qIT/3iv4uzRSxc2FWynaVWEIbjSfxbitOE4ZiP74TL3OCCOohvevf3foWyCG4AQdEk64xM7FldnHNDDajRDNNs1mogDW5YBgex6PYJbTsHU0WvCcmJnkvFILaNjwnavrIAvJPM1msoe7HarHC/2Xq+g7xYsdm3ZwO5JgkgzRjxQakLLbinOT3Xcl5ZXIeLluKzatR59G/HxCBqB1zM2zTGzxL7Xm6hHi3Ci9iUup6be9QZo1My7FdYkNol8Or1bOFxNrI8SycJvqseaLqE31ZfXdAfo06j/69Gq+l/q8QleCplK1RpSDKvi35vVGooPfglsRW2/iwK+vmdCDX4nlRpWuB7MAPDRxvFU1uqZhjpmvNJtnbQ/Jq1Hn07z3JUWNf8n9bRtpmGCw2OdSYJF7EzkaJ06xxWP07yZFvPc23ojbeJN5cmnVik9SpTRW5MWXp38tFsx8v+sploot5JZVmuniupvlKjI5z/L+PqGcY/sbTDa6v19q8q1X9u1vzo3a36C72i+nVe0Kbr3ECfhNfeE2zBPcl554YIaYhFzS4PlM0/yF5nPdCf+nfC/SyWTZr+rNG6MwHMq6lqW3N29Lg+lo8I2pWUUzFLxr32+3iIO7sy43b9f55dwe+6UvmLbBcNLsBw3zV2mNFRUVFRUH8B5yY9/+2FcdzAAAAAElFTkSuQmCC\n",
>>>>>>> c1ef407d75385e2c24f2d7fd79eb197bd0697f2c
      "text/latex": [
       "$$- \\frac{\\sqrt{2} \\sqrt{G}}{\\sqrt{r}} \\sqrt{M} \\sqrt{\\frac{2 \\eta - 3 \\gamma - 1}{\\left(\\eta - 2\\right) \\left(2 \\eta \\gamma + 2 \\eta - 9 \\gamma - 1\\right)}}$$"
      ],
      "text/plain": [
       "              _________________________________ \n",
       "             ╱          2⋅η - 3⋅γ - 1           \n",
       "-√2⋅√G⋅√M⋅  ╱  ───────────────────────────────  \n",
       "          ╲╱   (η - 2)⋅(2⋅η⋅γ + 2⋅η - 9⋅γ - 1)  \n",
       "────────────────────────────────────────────────\n",
       "                       √r                       "
      ]
     },
     "execution_count": 249,
     "metadata": {},
     "output_type": "execute_result"
    }
   ],
   "source": [
    "A_u = sympy.Symbol('A_u', positive=True)\n",
    "u_ansatz_smi = -sympy.sqrt(A_u*G*M/r)\n",
    "temp = momentum_conservation\n",
    "temp = temp.subs(q, mass_source)\n",
    "temp = temp.subs(sympy.solve(energy_conservation_smi,p,dict=True)[0])\n",
    "temp = temp.subs(sympy.solve(mass_conservation_without_gravity,rho,dict=True)[0])\n",
    "temp = temp.subs(u, u_ansatz_smi)\n",
    "temp = temp.doit()\n",
    "temp = temp.simplify()\n",
    "temp = sympy.solve(temp,A_u)[0].simplify()\n",
    "temp = u_ansatz_smi.subs(A_u, temp)\n",
    "u_smi = temp\n",
    "u_smi"
   ]
  },
  {
   "cell_type": "markdown",
   "metadata": {},
   "source": [
    "Speed of sound"
   ]
  },
  {
   "cell_type": "code",
   "execution_count": 256,
   "metadata": {},
   "outputs": [
    {
     "data": {
<<<<<<< HEAD
      "image/png": "iVBORw0KGgoAAAANSUhEUgAAAZUAAAA/BAMAAADahUg0AAAAMFBMVEX///8AAAAAAAAAAAAAAAAA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\n",
=======
      "image/png": "iVBORw0KGgoAAAANSUhEUgAAAM0AAAAwCAYAAACysP6uAAAABHNCSVQICAgIfAhkiAAACIhJREFUeJztnXuMXFUdxz99LbQsj1qeDRSQopSy3WULlCCVlRitgZoSNChQQlNRYglGHhoxQItoK4KloIAP4hIINjy0tsRQWx6Bhkq1aGgpFEEFpLHYhzwiUB7lj++9ztkz9869d+bcxyznk9zMzpkzc7/3PH/nzNzvgsfjycSQsgU0YGfZAjyedmIeMLRsER5PFFVsmEOB4cD7ZQvxeKKoYqc5Hni8bBEeTztxJTCygPOMBjYDhxVwrqzcDVxctghPMTyAFvA7gXdRo7wP+HSGz5ifg64ofgT8qqBzmXwSWAq8jMrp3Ig8XcA2YM8czv8d4E/Aa8B/gGXAUTmcJw1zqbWX8Ph3CTrS1Mn/cR2e9aKZ4gBgPPBFVPkrgDNTvP9IYINjTVGMAr4C3FrAuWw6gfXAN4A3Y/KsA/4OnJ3D+fuAm4ATgJPR4LYS+Iijz+9HnSEtG1F7CY8uRzqyaElTJ7lwGOqlfRGv/Q54IcVnXIrCplb5K9qBuxHYArwCXG68/gXUme0t9w1oFO600pcDP3egy+YN4ke1K4BVOZzTphN4D5hupSeVYRz9pO80c1FjbUQrdZJFS0ijOgHczjSTUad5IuK1+4FxJI9mo4HtLeoYAUxAo/QatLFwM2oA+wd5pgJrqf8u6EsoVOkz0qYDU4DvtqgrK2uA48h/fbc7agdmuacpQ1d8FNgE/ANYHDw3qVKdAO47zfMoVrbZETy+EzzuD9xi5RmLYspWORLoQAvp24HngF+iWWWvIM/BqKJsnkSd6YjgeQdwHfA9FP8XySbUeMfmfJ5FaFZZbaSlKUMXPI5G9WnAeahdPAaMMfJUqU6cswKNFFFcw8AOMQ14Fugx0s4HDop5/9XULxjtoy/Iew6wFRhmvL83yBNW+HLgZzHnuhX4RfD3JYHOjhY1xdEoFDg8+IyoRbqLcwP8GHVOe3RPU4YhlwXXER7voEHSTJuaQgsoBHsFuMhKT1snLrQkhmfDEz4gC73Agoj0EWhD4F4j7X5UEKehUQ4Uvr0U89nXA3cknP/F4LEHjUzvGa/1oDXVf4PnW4hfO20ETgX2RTH82dRmymY1NUMYykaNpi7OvRCFPp9Cmw4macow5BbgLuP5D9EAeYORljaCeAN4Cg0YJmnrxKWWWFx1mkNRJa+10oegCt4TXYDJb4F70G7bHtRXhsmW4EhDN/BnK+1oap0T4C/EjyYbUVjyfRQ+LHOgqRmOQhW8OYdzLwLOQB3mmYjX05RhyLbgCHk9eP5cE7p2RWHYQ1Z62jpxqSUWV51mcvC4CcWlu6OR6QJgIjCD+h7+LJr+xwPHAr93pKWb2lQecjQKH0OWo048BoUhtq59UYjS60iTSSe6ZtCachwqq20MnB2mBjpd81NgJqqT7dQW9mH4AunK0AXXog7wIrVZZDfgNitfVerEKfMZ+KXmVrSwnAfs1+B9VwPfCh5dcGCg4QgjbQgacT5v5V0NzIn4jA50DT9xpMmmj+g1SL+RZ1fgVbRr5Zq4NdDc4PUsZRhFP+m3eRejgXYHGlTvRZsQNs3WSVotfSTXSWWYjEK6K3I8x8dQAdibDNPQtD/MSu9EPxY9LkdNScwB/lDi+W3iyrAoqlAnleIF4MQcP/8M4uP/C9H2s8kn0AJ4VI6akvgq8PESz2/TqAyLoAp1Uilmke+vrRegn4mk5QLg6Zy0tCtZy9A1vk48nsHEP0n+0sw8kr4r8HgGHfaW8/PAWxneH/VTFI/H4/F4arhyo/HOMR6Px+PxeDxOqLJZoKc9wt5Gbajq+n37H2TsAny7bBEt0O76Y6mi75lHnAw8WraIFmh3/bH4TlNdpgB/LFtEC7S7/lgGU6cZbOZ/Q2lva9521/+hoCzzvznI/OG14FgNnGLlyWr+1w2c7kpgRjIZ58VQln4X2hMZLDNNmeZ//0IL3l7gGOBBYAkwyciT1fzvM5R3P40L47yy9Jdm+lc0m9FPv00moLv5euqzRxJn/tes4V2rbAO+ZqVlMf+7Kia96OtJdGaJIUp/lYwY256VyCbVZAny20rLIurvXx8BvI1+hDoT3QM+D8XZrg3vQoYhh5cd1NurTgvSk8z/9gO+HpFexvU00/Di9E9Co/+pRtp0ZKiyTzPiEhjUnWYh8LDx/AT0S2v7jspGLKHejKEbxbUzjLSDqL//3QVdqJLeRY3AXtOAGs1OBm5UjKPepWcW0dde5PWEJDW8LPpBM+0lwd8dyDAjr/+OkFunqcKaZh0DzRSuQY4pabyfQ0ZSf0tDNwqTTLufcESLcqZvxYBvIwolpyD71tuoN/kLY2xzppkEnMVAu95DiL72Iq8nLVn0g8opvI37wuDxxoh8RWhvGpdmgc2yDlX+GOQVMJGBrifjUSf6LJrO70QWUWORMdyJRJv/ZTG8g9YM+HZQ89ZaiyypvgnMNvJEmf/dhxxYTkHh6C7E389U5PWkJYt+qI4RY0tUodM8heLyLuAH6H500/DtVWqLx9nUHGRmIX9hiDb/y2J4B27N/4aiBmQSZ/63FFny3o7M+2yjvJAyr6cRafVDdYwYBwV/Q8bXL1G/UO5ADeNQNMssBvZGDSjM24VGYNM4ewtalJusQo6eLlmAjP0OCXTMR4PA56x8/URviY9Ao2YHGn3jQuairqcTzWA9wP/Qrl8PWr9EkVY/aFd0J9rQmOhIr0lW7W3Nb1Bhzop5/UnUOE9Czo/noSncxDT/a9XwLgv9KER6G20Br0ShpEmS+d+vg/fEdYAir6eP7MZ5SfpDqmDE+KFhPbVp/zpk52PvGMWZ/4WUaXiXZP73ZeARZAiflrIN/EzS6vemfwXyDLUvQK9k4Ba1SZT5X0iZhndJ5n97oVnD/uKvEWUb+Jmk1e9N/9qMsg3vkpiZMX/VrieNfm/65/F4PB6Px+PxeDwl8wECcJtivCjOfQAAAABJRU5ErkJggg==\n",
>>>>>>> c1ef407d75385e2c24f2d7fd79eb197bd0697f2c
      "text/latex": [
       "$$\\frac{\\sqrt{2} \\sqrt{G}}{\\sqrt{r}} \\sqrt{M} \\sqrt{\\gamma} \\sqrt{\\frac{\\left(\\eta - 3\\right) \\left(\\gamma - 1\\right)}{\\left(\\eta - 2\\right) \\left(2 \\eta \\gamma + 2 \\eta - 9 \\gamma - 1\\right)}}$$"
      ],
      "text/plain": [
       "                _________________________________\n",
       "               ╱         (η - 3)⋅(γ - 1)         \n",
       "√2⋅√G⋅√M⋅√γ⋅  ╱  ─────────────────────────────── \n",
       "            ╲╱   (η - 2)⋅(2⋅η⋅γ + 2⋅η - 9⋅γ - 1) \n",
       "─────────────────────────────────────────────────\n",
       "                        √r                       "
      ]
     },
     "execution_count": 256,
     "metadata": {},
     "output_type": "execute_result"
    }
   ],
   "source": [
    "temp = energy_conservation_smi\n",
    "temp = temp.subs(p, rho*c**2/gamma).simplify()\n",
    "temp = temp.subs(u, u_smi)\n",
    "temp = sympy.solve(temp, c)[1]\n",
    "c_smi = temp\n",
    "c_smi"
   ]
  },
  {
   "cell_type": "markdown",
   "metadata": {},
   "source": [
    "Mach number"
   ]
  },
  {
   "cell_type": "code",
   "execution_count": 258,
   "metadata": {},
   "outputs": [
    {
     "data": {
<<<<<<< HEAD
      "image/png": "iVBORw0KGgoAAAANSUhEUgAAAL0AAAA/BAMAAABHgdTQAAAAMFBMVEX///8AAAAAAAAAAAAAAAAA\nAAAAAAAAAAAAAAAAAAAAAAAAAAAAAAAAAAAAAAAAAAAv3aB7AAAAD3RSTlMAuxCrdpnvzWYiRFSJ\n3TKL57PPAAAFMElEQVRYCbVYTYgcRRT+pmd6pqenZ3bITT1sh4jm5I7kIIKYkYQlILhzWVeCmCXo\nQREy/oMiNiJoRMiCCZKL0wf1IOKuYPAkO4bEyLqQ1oMHMeyAeAtkdlHW/Oj6qqqru7q7ZrOTtA+6\n6r3vfe+bnuqa6rcLjLSLW7dvw5HqQLBNLo9UNw+R0RqNzuhcHhnLy0NltIY5GJ3LI1PJQ2Qbjfo2\nuTxSH+Yhso3G19vkxk8V3HTNSgScmrsz8hWnsfrdkhLGbsGN/dAzJjPYLkmqtjCjEzoF+0/JUWeN\nlrFvf0Y/kDVFF/WhDJT54hL+UULp6rSAGVfmw9loSqB8FMVrMlDmZb2+RouKMvp2X0pVNmDq9DFi\nfbJaOv2SuuT1DfuR0wcfkp8o50oLtbVdsFwJiDlzrwRnsOKCUnSl7xRfxpQKUfbyS8D0k6+hpDCZ\nm9HSYYmf7wv4vN5Ez2fVipWea7Rg+scViLk70lePH7MJd8rHsgtU37zEzGc6wLG9NPTbNHzE4V/J\n26H+H5wqhgM0kficApH7MTDp0bwyoEG1Hd3/e3FFrYPTTPz5GCLP2HKF/rkETMGO9J+Kq+irHCfx\namqTbgJr7In/EDOFtyP9blRV/W31fEDi1jCCuHMI9g3mnE3C2vufPfaKl6QFUVinNiWw51FsRhB3\narNzS8xpJWFktVIEFtKhlrZyO43w2MgytbwkWGsnY4p6gwzEAA1Ty0uCjp+MKZrOIBy4tT6g4GbU\nZjMIB4p6+CZo4ni4CfdW0rtvpWiMmi/G4I5JrTL+o2MWjaSnenwp/SA5E6nc+KH2U/kxFmhTeYDW\nOqkY3TyktBp7fyH4f2z+vf2kb3naz84FnBkARbqYfSKm7Gj5AhtJwPvJoh7fHUMClz0gfPvS61tj\nl1fvAsT7R08AqLlMnUuHI6FeBwiPh4obobFT7WCxHd6BlgDs3iB6YosoG2aiCfwu5A7GqrHnXMdE\nAKvPEC0Be/Yx/Q8YQZq5JD1U5oF3RHQ0AhWnxvUNYgFaAlBi+vcwgrR7pUPPlpJitezEV4wZbH1A\nzwCjCFy/EN8y8GPcSZaoT3iRi5l92kF3nDxAU9KoMcR5uhgB3667eJtmxbi+04kRI4g7Sftv+b+B\nikfd2QNt42pMZF7jQovGb+hihNIzF7poU6AY1691Y8TxaKeFnaTxF6pNnir7sP2fMo0PvSp94DOi\nEIFthcPWAudHA9e356OY9qNFQb/NkU3U+tyZ8GEY11BjT0ttMFEm5AqBRIAHOCXy1c6U6zeGhIZ2\niM8rAz69BWeJO6ycxM0uj+RQHaBASyj1CXa+lLlwVvVtn8CAJ86J9BG3sMC9Mn0MiZf7PJLD1AbX\n5+tDBDKnzad4UNdnukvPSBDCTvKEXxfUgkdL3E/3/RNd1OmJv0scRiBzxMR9PnB9i4RpM9z9b3Qc\nnBWMxXb4a2A7rOfjhIDlWPKw2Bf7M9yCjitz4cz1w6RB75Pw59oS6anWp8KxA75N7k9Vn5l9g5DX\n6WIEsiIf48F8fPMJ2ry+QI4s4GfuyU6yHIjHDTzL8acFLzmK80EQ9iRTYSTPh15HnFVRJ1kYPhxS\n+BFVpQXMmnim4gzT/6si3C103tRdXm8OhIx5VXxt+oosUZoXcHIUj4gTwndBMh+/whs3zoiUXEbr\nutTnXbrZSVXykDUwso1vcT81xH/gvipOsyjfWI8KTkZgyikNBDCSgMeiiuX0DW61o1weTmUhpbLm\np4Ccw0k3Z8GU3PepOO/wq7wFU3r3peLbCP8DR5u2h2twTg8AAAAASUVORK5CYII=\n",
=======
      "image/png": "iVBORw0KGgoAAAANSUhEUgAAAC4AAAAlCAYAAAA9ftv0AAAABHNCSVQICAgIfAhkiAAAAhZJREFUWIXt102ITlEcx/GPoUc0NhaWVhYWyFssRM/OAgu7SZKdhYUFUaSUhIXNZDGRetaiRJSShQVJNkNqJhsvs0FTXiKvY3HOU9fteZ57npm58zzpfut0zzn3vPzu/557zv3xH3AQo/gU0yPs6IGObbiJCUxhf6tGA5n8WxzDemzEfdzAmlkQ08CpxLaDeI5D+DbdCSdxIOZf4EkcOMtdXCoYpyFdeJYvEiKeZT6GBJEPY90QVqGeabcLm3FiGqJmRF74auEpv2MEu/Es3hvFU6yM5Rou4DTel660gBpWYAPO4oMQ5SZXcDnmj2A89slzXAhAM/3Ej1zd1gQ9bZdKEfei2CZH8QDL8FFYKq1YKgSgma5jOFe3KGH+tsIXFHQcwMJMeQyHcQaPcatNv8mYmnyO5ZfFWtPICj+H23iDJdgjfIjZvXxciPY+Ydssg0HhjRACtxxrhQd/3apDA6+ED/OdsEy259rU8AsXuxTTkL4d1oWDJ58aXc75D4P4g00zGaQXbMFvLO61kHYHUDvWCev8awlaKirKYF68TvVURcXckeR2WtHtdphKQ9pJOW2300n4TBxPKneEX+BrwomcTCfhfeV48nQS3teOp4i5dDxduZ0iIzGGncI/+EnsjYLyjOBqpnxe2CmGM3UTqaJSSBHeF44nT5Hwsh1P124nlbIdT10JbofK8cw+RUd+5XgqKiq64y8KOJThFM8IuAAAAABJRU5ErkJggg==\n",
>>>>>>> c1ef407d75385e2c24f2d7fd79eb197bd0697f2c
      "text/latex": [
       "$$\\frac{1}{\\sqrt{\\gamma}} \\sqrt{\\frac{2 \\eta - 3 \\gamma - 1}{\\left(\\eta - 3\\right) \\left(\\gamma - 1\\right)}}$$"
      ],
      "text/plain": [
       "    _________________\n",
       "   ╱  2⋅η - 3⋅γ - 1  \n",
       "  ╱  ─────────────── \n",
       "╲╱   (η - 3)⋅(γ - 1) \n",
       "─────────────────────\n",
       "          √γ         "
      ]
     },
     "execution_count": 258,
     "metadata": {},
     "output_type": "execute_result"
    }
   ],
   "source": [
    "temp = u_smi/c_smi\n",
    "temp = temp**2\n",
    "temp = temp.simplify()\n",
    "temp = sympy.sqrt(temp)\n",
    "temp"
   ]
  },
  {
   "cell_type": "markdown",
   "metadata": {},
   "source": [
<<<<<<< HEAD
    "Density"
=======
    "# Slow Injection velocity"
   ]
  },
  {
   "cell_type": "code",
   "execution_count": 49,
   "metadata": {},
   "outputs": [
    {
     "data": {
      "image/png": "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\n",
      "text/latex": [
       "$$\\left [ \\frac{2 \\gamma \\left(\\eta \\gamma - \\eta - 3 \\gamma + 3\\right)}{2 \\eta^{2} \\gamma + 2 \\eta^{2} - 13 \\eta \\gamma - 5 \\eta + 18 \\gamma + 2}, \\quad \\frac{2 \\left(2 \\eta - 3 \\gamma - 1\\right)}{2 \\eta^{2} \\gamma + 2 \\eta^{2} - 13 \\eta \\gamma - 5 \\eta + 18 \\gamma + 2}, \\quad \\frac{2 \\eta^{2} \\gamma + 2 \\eta^{2} - 13 \\eta \\gamma - 5 \\eta + 18 \\gamma + 2}{2 \\left(2 \\eta^{3} - 3 \\eta^{2} \\gamma - 13 \\eta^{2} + 18 \\eta \\gamma + 24 \\eta - 27 \\gamma - 9\\right)}\\right ]$$"
      ],
      "text/plain": [
       "⎡                                                                             \n",
       "⎢        2⋅γ⋅(η⋅γ - η - 3⋅γ + 3)                     2⋅(2⋅η - 3⋅γ - 1)        \n",
       "⎢───────────────────────────────────────, ────────────────────────────────────\n",
       "⎢   2        2                               2        2                       \n",
       "⎣2⋅η ⋅γ + 2⋅η  - 13⋅η⋅γ - 5⋅η + 18⋅γ + 2  2⋅η ⋅γ + 2⋅η  - 13⋅η⋅γ - 5⋅η + 18⋅γ \n",
       "\n",
       "              2        2                                 ⎤\n",
       "           2⋅η ⋅γ + 2⋅η  - 13⋅η⋅γ - 5⋅η + 18⋅γ + 2       ⎥\n",
       "───, ────────────────────────────────────────────────────⎥\n",
       "       ⎛   3      2         2                           ⎞⎥\n",
       "+ 2  2⋅⎝2⋅η  - 3⋅η ⋅γ - 13⋅η  + 18⋅η⋅γ + 24⋅η - 27⋅γ - 9⎠⎦"
      ]
     },
     "execution_count": 49,
     "metadata": {},
     "output_type": "execute_result"
    }
   ],
   "source": [
    "A_c = sympy.Symbol('A_c', positive=True)\n",
    "A_d = sympy.Symbol('A_d', positive=True)\n",
    "A_u = sympy.Symbol('A_u', positive=True)\n",
    "xi = sympy.Symbol('xi', positive=True)\n",
    "temp = [mass_conservation,\n",
    "        momentum_conservation,\n",
    "        energy_conservation]\n",
    "temp = [itm.subs(q, D*r**(-eta)) for itm in temp]\n",
    "temp = [itm.subs(v_w,0) for itm in temp]\n",
    "temp = [itm.subs(p(r), rho(r)*c(r)**2/gamma) for itm in temp]\n",
    "temp = [itm.subs(u(r), -sympy.sqrt(A_u*G*M/r)) for itm in temp]\n",
    "temp = [itm.subs(c(r), sympy.sqrt(A_c*G*M/r)) for itm in temp]\n",
    "temp = [itm.subs(rho(r), sympy.sqrt(A_d)*D*r**(sympy.Rational(3,2)-eta)/sympy.sqrt(G*M)) for itm in temp]\n",
    "temp = [itm.doit().simplify() for itm in temp]\n",
    "temp = sympy.solve(temp,[A_c, A_u, A_d])[0]\n",
    "temp = [itm.subs(eta,xi+3) for itm in temp]\n",
    "temp = [itm.subs(xi,eta-3).simplify() for itm in temp]\n",
    "temp"
   ]
  },
  {
   "cell_type": "markdown",
   "metadata": {},
   "source": [
    "# Free - fall solution\n",
    "Very close to the SMBH"
>>>>>>> c1ef407d75385e2c24f2d7fd79eb197bd0697f2c
   ]
  },
  {
   "cell_type": "code",
<<<<<<< HEAD
   "execution_count": 262,
=======
   "execution_count": 20,
>>>>>>> c1ef407d75385e2c24f2d7fd79eb197bd0697f2c
   "metadata": {},
   "outputs": [
    {
     "data": {
<<<<<<< HEAD
      "image/png": "iVBORw0KGgoAAAANSUhEUgAAAYQAAABHBAMAAAD1mC1OAAAAMFBMVEX///8AAAAAAAAAAAAAAAAA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\nAABJRU5ErkJggg==\n",
=======
      "image/png": "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\n",
>>>>>>> c1ef407d75385e2c24f2d7fd79eb197bd0697f2c
      "text/latex": [
       "$$\\frac{\\sqrt{2} D r^{- \\eta + \\frac{3}{2}}}{2 \\sqrt{G} \\sqrt{M} \\sqrt{\\frac{2 \\eta - 3 \\gamma - 1}{2 \\eta^{2} \\gamma + 2 \\eta^{2} - 13 \\eta \\gamma - 5 \\eta + 18 \\gamma + 2}} \\left(\\eta - 3\\right)}$$"
      ],
      "text/plain": [
       "                              -η + 3/2                        \n",
       "                        √2⋅D⋅r                                \n",
       "──────────────────────────────────────────────────────────────\n",
       "             _________________________________________        \n",
       "            ╱              2⋅η - 3⋅γ - 1                      \n",
       "2⋅√G⋅√M⋅   ╱  ─────────────────────────────────────── ⋅(η - 3)\n",
       "          ╱      2        2                                   \n",
       "        ╲╱    2⋅η ⋅γ + 2⋅η  - 13⋅η⋅γ - 5⋅η + 18⋅γ + 2         "
      ]
     },
<<<<<<< HEAD
     "execution_count": 262,
=======
     "execution_count": 20,
>>>>>>> c1ef407d75385e2c24f2d7fd79eb197bd0697f2c
     "metadata": {},
     "output_type": "execute_result"
    }
   ],
   "source": [
    "temp = mass_conservation_without_gravity\n",
    "temp = temp.subs(u, u_smi)\n",
    "rho_smi = sympy.solve(temp, rho)[0]\n",
    "rho_smi"
   ]
  },
  {
<<<<<<< HEAD
   "cell_type": "markdown",
   "metadata": {},
=======
   "cell_type": "code",
   "execution_count": 21,
   "metadata": {},
   "outputs": [
    {
     "data": {
      "image/png": "iVBORw0KGgoAAAANSUhEUgAAAFYAAAAuCAYAAACyJ+5bAAAABHNCSVQICAgIfAhkiAAABMxJREFUaIHt2muIVVUUwPFfTuUr8RGhRWLko5fjKCU9KI0KssTygz0gCiusQJAieoBkBUWCBEUviCKlpKIvQdCHCqkwJNBmLJO0F1pR1mQPK9NK+7DOnTlz5j7m3rkz127nD4dz9t5n77XWPufss/dei5ycGhiDjejAFixprDr/LRYnRzFaMCK5HokvcfTAq8SQwRBSIyvwLNbhK1xZQxv/4I/keigOS44BZzA6dgG2Yg2uwUt9rNeK33EhrsfVNcofg834GqvQWWM7hxwvYiruxU5cqnvMyx7HpeptxTHJ9QV4JlV2ZNJGR9LmzlT6yBJ6jMd7yblpObxC+TBsT6WX4dYS9y5WeozN8iQW9fHefjEYQ8HxOCg+5XX4E9dVqHMKPkml2/BhDbLHY1RyPRpzsK2Gdqqm0ptTD9qS811YLgz7uUKdVjE0FJiBO2uQPQlP6/5pPYaPamjnkGQ59mJKjfVb8Fn91BkcBmMoaMPrau+cafi0fuo0D9vFz6cSJ+KyAdZl0BjoN3YkJuODPtx7CU4dWHWah7PF6ueoTP4S0dlb8DLmYrf45NvFA8kpwy16TptgrJjItyTpMcn5bZwwKFo1KaOwAw/jtFT+F41Rp7kYhWvxMRaKRcT6hmpUZxqxuzUVe/A83hG7TpPwbQN0aSrWiNVXO54QD3c0NolVUT4zyMnJyckpS8H/c7ChWvzPmChWQ1vFJvMVDdWmiTgWM5PrCfhGvoaviUre1M3iLW4WqvUe1+ptLupNLXC6nq6SAmOxS2wNHmq8gtvLlJezl962lbq/kpySjBNr+nOKlK3Cc7U0WgeWirH/1+TYgPmp8laxFTm6xvb7altNcobiXbFhkmUEfsK51TRYRy4Xm+NThPvmQfwlHI8FNooHUC19ta3gjC0rJ+um3ic2Ru4rcf8i8aSyITsduF94RDvxPe6poGC92I2bU+kVeu+aXYT9egZ2FGw/OUkXs62YG/+GMnK6mJ9UbBfjx9wk3ZE6WlP3P4o3M20cIR7I5+ItnyI6+YCYWQwULcLg/Rkd5yV5w1N5dwhb0iwQ4UyF3b5itmX7Z7LuALticrqo1k39qvhDpmlLhC9M5U3U822oJ634DX+LWIX5mfIZiez0z3UtVmfuW4H3U+litpXrn15y0vux1bqph4vPIU2b+IReS+UV4q++K9LGA4lC5Y7zy+iwTcy1z8RTojOmp8r3pnQtMEtMHdPM1PMtLmVbqf7pJScdCTMTj5eyoAidYkqSVXCTcCCm83YoHv3yCF6oIGdnmbL9ug3dhNm4DTcmeeOS8w/Jebj40WWHgtl4KJUuZVup/snK6erYatzUBdr1DkZrE3/INLP0NqRAp/qGVQ4RM5kC08WKcVeSnizG43QAyBzxY0rrmLWtUv9k5XRRyk1djtakTjpCulPvONb1YlJdb1biPOHZbRVv3AExBSuwWgQvF5iQ3FP4B5whhpMDetqeta1S/2TldFHMTd0XNuiev2WnLMR0ZY+BiXBZLYaYfWJK9xYuTpUPwy84K1PvbvwoosTXillLsRCmtG3l+qeUnH4xTzzxlhLl00RnN2KPYSne6Ef9SrbVS05JlgkvazGu0rjQ9JtwUj/bKGdbPeVUzUrxiebk5OTk5OQc6vwLyWEgUh+gh1kAAAAASUVORK5CYII=\n",
      "text/latex": [
       "$$\\frac{\\tilde{r}_{st}^{- \\eta + 3}}{\\tilde{r}^{2} \\left(\\eta - 3\\right) \\tilde{u}{\\left (\\tilde{r} \\right )}}$$"
      ],
      "text/plain": [
       "                        -η + 3         \n",
       "          \\tilde{r}_{st}               \n",
       "───────────────────────────────────────\n",
       "         2                             \n",
       "\\tilde{r} ⋅(η - 3)⋅\\tilde{u}(\\tilde{r})"
      ]
     },
     "execution_count": 21,
     "metadata": {},
     "output_type": "execute_result"
    }
   ],
>>>>>>> c1ef407d75385e2c24f2d7fd79eb197bd0697f2c
   "source": [
    "# Reduction to dimensionless variables"
   ]
  },
  {
<<<<<<< HEAD
   "cell_type": "markdown",
   "metadata": {},
=======
   "cell_type": "code",
   "execution_count": 22,
   "metadata": {},
   "outputs": [],
>>>>>>> c1ef407d75385e2c24f2d7fd79eb197bd0697f2c
   "source": [
    "Bondi radius"
   ]
  },
  {
   "cell_type": "code",
<<<<<<< HEAD
   "execution_count": 6,
=======
   "execution_count": 23,
>>>>>>> c1ef407d75385e2c24f2d7fd79eb197bd0697f2c
   "metadata": {},
   "outputs": [
    {
     "data": {
<<<<<<< HEAD
      "image/png": "iVBORw0KGgoAAAANSUhEUgAAACcAAAAvBAMAAACS3s5rAAAAMFBMVEX///8AAAAAAAAAAAAAAAAA\nAAAAAAAAAAAAAAAAAAAAAAAAAAAAAAAAAAAAAAAAAAAv3aB7AAAAD3RSTlMAEHa7q5lmIonvRM3d\nMlTyXwuaAAABjElEQVQoFdWPMUgCcRTGvxP1Tu1UJIKWupJoK4faLWgq0oiCcMhBqCYvooYaPIp2\nKypoyIbaGqSWqAYHoUk6qNkcDJrqciio7Hp/XS7/Tm09uI/3/f7f470DgMDAVHwZSJglMravcVJI\ne8AJfYhoJPdVEgjXfnp4B8SFMNmEwaBni0TOAc6lLEl7iMHZEokYBRyONLCaUpj9JIGgErQZgJLU\nyTreGGS14q3C64+wtoVW1GtO/EYHdpjx0Ywtdq4BUVSgiBUGXWkS6YMkil2v6qydaX8l76G4GMdV\nG+wsA5nlU1m6UMWMAleIQSTjkMc0SgP9Oh4UxiCPjkw7ddhvz/CEciav1uj/EJMv40+XS5ND/NwE\nYjy8QUrn6CE6jzgIvPibwIsmTAo3gfO/mLCpCdtwa7J1u+Q2hDzunsvWRUVHDo/ImKZ13u9SULSC\nWk8HdnGQflrj4CDc1sX19w0E4A5iTdi35FvX4wj41CAuLZC1i6cYRm8DJHTArysIBpTGZEE2vGoj\nPO7u6auzH6F2b/uf7JNcAAAAAElFTkSuQmCC\n",
=======
      "image/png": "iVBORw0KGgoAAAANSUhEUgAAAFEAAAAfCAYAAACf3SEqAAAABHNCSVQICAgIfAhkiAAAA3lJREFUaIHt2F+IVVUUx/HPjKMJE4HVNP3D/oCEqQlNZvRSU0GEI0W9RBAjFeWDVEZ/yAgk6M+DEpVUvlhRCmIUgWa9FQX1UBgaTUWBWVlCSFFQWVoP61w6Xe+5Z9+5d86d4n5hmLv3/u211tlnn73X3vToMR3o63YA04A+HOl2EK3yV4f/2uVC3NMBO5UxgpXdDqKOhzC/HQP9HQoklWXYUbHPMuZjoh0DVQ/iXHxdsc9mnIpv2zVS5SAO4/sK/aUwhu3dDqIVVuDibgdRx2bMLGg7HatxVVbux9qsvms8o/rloxmz8UJBWz8+x8f4Fa/gbpENzK0kugbMxIZuOS9gGcYL2haKATseS/FdVt5STWiNGcX1BW0n4Ba8ii/Em/8J7+Jm6bN3GIfxVKJ+A4YK2o7FBbnyIObp8uHkMcwpaFsp3vJ+sUY9ik34Mat/WVrwt2b60cSYtibqKqcfAw3qNzbpcxmWO3rGnYx9YmCuS/C9Ez9gRq5uEe5ooF2MNQk2K2cO3nD0OnM27p2kzTViEMs+0ePwO57L1V2CXfimgf4BnFdiczTzvU4cDV/DwaxuQV7Yyd1yAQ6I3CvPmMmfUv7I/v9ZohvDLLGu1nhbDMQQzq/TL8LuEpu1PgvF+nxEfFFb8GlJ37aYJzaFfO717CRtDWCPePNXlmi34ReRttTzpsjvagxJ23w2Z75/xkUJ+o7yGS7Pfg9i/STtrBMPUTaLZ4sH3VbQvgof5srj/kmgmzGR+b8pQfsv9mrtGuqlBjbW4/Hs99WJAddze2Z/QuRqzVieaW8oaD9DfIqnZeXnNZ6xeQZFunRAwpJXv5N+id/KOuXY36Buu1g7VuNS3N+CPWLmPIFPxIw+WKK/FocUz9ivxMljTKRO/cqfcXGm26FLF7YDIsc7B0+32PdOMav24KQE/QyR1uws0T0sXu4VIrEvY1UWx20J2iljK14UCXAq94nAd+HExD61NKTMz1JxEtqIUxLsbsrsjiTGMSXcKD6D1BuPB0XQHyhfA/M8Kdau4RJdn7iGez/R7kci75yVIm50uugErytOdOsZF1f0h/GO2FTq2Ss2hDx9uAbviQ2gGbVdfl9CPMfgXJFHHkrQTylnJurWKs8C3mrQb0nWdleinyUijy1jJLPb7Kj6v+ER8bBndTuQ/zITYu3q0aNHjx7TiL8BNB/Pb0ksZ6YAAAAASUVORK5CYII=\n",
>>>>>>> c1ef407d75385e2c24f2d7fd79eb197bd0697f2c
      "text/latex": [
       "$$\\frac{G M}{v_{w}^{2}}$$"
      ],
      "text/plain": [
       "G⋅M \n",
       "────\n",
       "   2\n",
       "v_w "
      ]
     },
<<<<<<< HEAD
     "execution_count": 6,
=======
     "execution_count": 23,
>>>>>>> c1ef407d75385e2c24f2d7fd79eb197bd0697f2c
     "metadata": {},
     "output_type": "execute_result"
    }
   ],
   "source": [
    "bondi_radius = G*M/v_w**2\n",
    "bondi_radius"
   ]
  },
  {
   "cell_type": "markdown",
   "metadata": {},
   "source": [
    "Bondi density"
   ]
  },
  {
   "cell_type": "code",
<<<<<<< HEAD
   "execution_count": 7,
=======
   "execution_count": 24,
>>>>>>> c1ef407d75385e2c24f2d7fd79eb197bd0697f2c
   "metadata": {},
   "outputs": [
    {
     "data": {
<<<<<<< HEAD
      "image/png": "iVBORw0KGgoAAAANSUhEUgAAAKkAAAAbBAMAAAD1+bJiAAAAMFBMVEX///8AAAAAAAAAAAAAAAAA\nAAAAAAAAAAAAAAAAAAAAAAAAAAAAAAAAAAAAAAAAAAAv3aB7AAAAD3RSTlMAdqvNuzJUiZkQRCJm\n793PqkghAAADPUlEQVRIDa1UTWgTQRh9SbNJNpuYVatVPJhWEUWwkRSkohLUg4LQ+IM3aSmi3kzV\ng8doKypUmnhQDxWLevCkQT1YERKKoFRKK6hoVSxCTz0Y/6pWsb7Z3bS73Um99IOZ+d77vnnzzc7M\nAnNuSnKOJf3UU06PuFQDHWvs3OUaB7SHZL5PkP4RV+g82u1cpxPaQzK/kuoYCilb/moM2lBlN3xq\n9zFGK6m+wrUex+TjDlQJdN9pibCaSqrA0ezTRTWx8nR1uOzNOvYuRDQ/m+oGtX8cLy0NtTpteCFd\nJtpP8uB2Wha1OIAVic2JhG6d1oLJuroGlm9aIKbl4vhdhugwvD2iz209V3wA9E22EHj+rkJwahbL\nWEDS/gW+8jaMkzPsCeDVlSG/KGEnmUKLoBvZAu+AW2yoF/Xv+c4uzmaYVsIuOjZV5QdxV9YMh9JK\nKpLyxEykTaBQpOvRAXULUwLchDYgon0ldizBtFASYhWhqh3/yWx4Jtg1C4+271BrtgBf0QBQxzBA\nLUTYVb2ho4wA4ftxdleThFfZLFNKdIxaTcIncCFmgg+Tk7iJaMpE2F2zVng32Lpa2GkZIBgcAh4W\ndEKf4EwLJzl6LcAhKnBzTD2ZVp9bbLM1loez1OPX52fIU9VTAvTBFGEgI0jDgkXLsQZj84PpQKik\nfrSox84MbKLWnzL3yP8d/my9gP54mXSNy8Wq9T37gyM4YgU7ZyTxKcybumzPtHFcwguREhqakTgN\nm4T7HtmIjv3TrMPjeUZLPNf2hjSQwWfo2meRYByRI3MKfKMX5v6OZrF0inQ6VI2IsgLiumTw2p8P\ni4s0i6oiVo0kIf55rERqr3i8vxipYsFaEYlueMUis3wBj1h1WxbYgVBKpEqM78ZYvBDntvK4oBtl\n0CeWm7iuezOMnUAOoWrcU9+6Ek+SGSxCWZdmvQDP13w1tpvlnHOl6UvdyjOCu9hWRC6ar8ZGZwbR\nbTZlxerOcAreT+txGK0fPubJVfWw+7/13uY/bZkrLyIkJGZ7sZLoNFWLYcmZhblzmbXJSAk3qpag\nu/lGN0VGjUtpNzmqlPyS7d51Z5LxSjKlidfnL1ksCWiS+oFFkkyD+gfFHb4hw4tTqQAAAABJRU5E\nrkJggg==\n",
=======
      "image/png": "iVBORw0KGgoAAAANSUhEUgAAAA4AAAASCAYAAABrXO8xAAAABHNCSVQICAgIfAhkiAAAAMRJREFUOI3N0r1OgkEQheEnlhqDxlYrA9wCLRfkdWhlLK30FmixsOMe+CnQRmOnUQstxGa+8GVgCRgLpjnZs/PuZHcP/1jHuMETvvCAKxyugk7xghl6uMB9rIc4KoH9aDpL/mX416VpM0yxk/b28YFP7EkN3dA7/CTwHQPsopPBdui4cI1JaCuDjdC3Alj5BxncqOpgdWJjWWPNf83gKLRVAJuhC2+w0Xfk+lMAqqn1yJ2bR25kReTgBLd4xjcerRHyLa5fD28wqzSkqLgAAAAASUVORK5CYII=\n",
>>>>>>> c1ef407d75385e2c24f2d7fd79eb197bd0697f2c
      "text/latex": [
       "$$D v_{w}^{2 \\eta - 3} \\left(G M\\right)^{- \\eta + 1}$$"
      ],
      "text/plain": [
       "     2⋅η - 3      -η + 1\n",
       "D⋅v_w       ⋅(G⋅M)      "
      ]
     },
<<<<<<< HEAD
     "execution_count": 7,
=======
     "execution_count": 24,
>>>>>>> c1ef407d75385e2c24f2d7fd79eb197bd0697f2c
     "metadata": {},
     "output_type": "execute_result"
    }
   ],
   "source": [
    "temp = D*bondi_radius**(-eta)*(bondi_radius/v_w)\n",
    "temp = sympy.expand_power_base(temp,force=True)\n",
    "temp = temp.simplify()\n",
    "bondi_density = temp\n",
    "bondi_density"
   ]
  },
  {
   "cell_type": "markdown",
   "metadata": {},
   "source": [
    "Mass conservation"
   ]
  },
  {
   "cell_type": "code",
<<<<<<< HEAD
   "execution_count": 8,
=======
   "execution_count": 25,
>>>>>>> c1ef407d75385e2c24f2d7fd79eb197bd0697f2c
   "metadata": {},
   "outputs": [
    {
     "data": {
<<<<<<< HEAD
      "image/png": "iVBORw0KGgoAAAANSUhEUgAAAZEAAAArBAMAAABLKajDAAAAMFBMVEX///8AAAAAAAAAAAAAAAAA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\nKk+apP8Hx6H8n3Fp+TsAAAAASUVORK5CYII=\n",
=======
      "image/png": "iVBORw0KGgoAAAANSUhEUgAAACEAAAAnCAYAAACBvSFyAAAABHNCSVQICAgIfAhkiAAAAuBJREFUWIXt18tr1UcUB/CPiTbUNEQi+EJKqa+FRpSgqCjiSlRKRCIoIljBKljdSxZ2U21xqy5EQRcSFQX/AKlSaqVqbSK+EEQs+KCV0vpqjLbp4syFX66/m1zNDWrJFwbmd2Z+Z75zzpkzZ3gHMKSCurorqOv9RQtq3/TnqgqRGI+nb5NEPf6sgJ5+YTVG9UdBb5bYJiJ+dx86RuG3HPlYHMLv6MQ1LMxTMLSE4jn4Apf7IPARHufIR+AsfsCyROTTEmRzUY9bWIQzelpiAqZmvlswLkfHjkSiLOS5Yx+O43SRfBiasSUjG4d7OTqW4yccFbtvx5fKTI4b8HNakFctAedQjQ/T/Dx0prYTM/E5niQivWKK8N2UjCyPxLfCVc34uISuLvxYJNuB632RWCdOw8tM68a/qV+T5s3CHj3dUow72F8kW6tEQsvGxEk0YkamXcSR1O9K8y6gCc97IXFWT4vC5ETutXFGfp7YJY5cKczCC7RiIlbiL2yuJIlhObJiLEOHCNCb2KqypcMg/scoBMp7XR+OELmkHVfkp/E2LBAn7Zq4mVdWkkQ1hqd+LW5jZGa8CudFbTEjycbgrkxN+rrl3WdiN4ewBofxLI3VCPdmc0ETLuG+sBY8wEM05C2wWZjqUWrnRMLJog2TsB2/YqlwSUciU5wRW7GiSNYkXJeLZiwRaXYyvhapd3qpH/SszEaLO2N0RvadKJIKaMBVzOtF5yv4AxtTf7w4RauS8k6sL5q/V1RbUCeCsYAafC9u07JQnRbrEjcr4Zpu/CLcMEHsui6N1wszF+Y3C7cRcdKGr8pZvFFUQC/FWyIbE634W7irgNki4DpEPG3MjO3F3NSfL+qS9kxrVAIfpEWaRGn2ENPS2DGcKGcnCReFRfuNUziQ+oXruOLoK09UiYCqFTFwaSBIZPGNSK+fCH/tFH5cInz7j3jsDCgOihrwuXgrnMLiNLYJNwaawCAGUcB/L06aKXiyEAMAAAAASUVORK5CYII=\n",
>>>>>>> c1ef407d75385e2c24f2d7fd79eb197bd0697f2c
      "text/latex": [
       "$$\\tilde{r}^{- \\eta} = \\tilde{\\rho}{\\left (\\tilde{r} \\right )} \\frac{d}{d \\tilde{r}} \\tilde{u}{\\left (\\tilde{r} \\right )} + \\tilde{u}{\\left (\\tilde{r} \\right )} \\frac{d}{d \\tilde{r}} \\tilde{\\rho}{\\left (\\tilde{r} \\right )} + \\frac{2}{\\tilde{r}} \\tilde{\\rho}{\\left (\\tilde{r} \\right )} \\tilde{u}{\\left (\\tilde{r} \\right )}$$"
      ],
      "text/plain": [
       "         -η                               d                                   \n",
       "\\tilde{r}   = \\tilde{\\rho}(\\tilde{r})⋅──────────(\\tilde{u}(\\tilde{r})) + \\tild\n",
       "                                      d\\tilde{r}                              \n",
       "\n",
       "                    d                                 2⋅\\tilde{\\rho}(\\tilde{r}\n",
       "e{u}(\\tilde{r})⋅──────────(\\tilde{\\rho}(\\tilde{r})) + ────────────────────────\n",
       "                d\\tilde{r}                                              \\tilde\n",
       "\n",
       ")⋅\\tilde{u}(\\tilde{r})\n",
       "──────────────────────\n",
       "{r}                   "
      ]
     },
<<<<<<< HEAD
     "execution_count": 8,
=======
     "execution_count": 25,
>>>>>>> c1ef407d75385e2c24f2d7fd79eb197bd0697f2c
     "metadata": {},
     "output_type": "execute_result"
    }
   ],
   "source": [
    "tilde_rho = sympy.Symbol(r'\\tilde{\\rho}')\n",
    "tilde_r = sympy.Symbol(r'\\tilde{r}')\n",
    "tilde_u = sympy.Symbol(r'\\tilde{u}')\n",
    "temp = mass_conservation\n",
    "temp = temp.subs(q, mass_source)\n",
    "temp = temp.subs(rho(r).diff(r), bondi_density*tilde_rho(tilde_r).diff(tilde_r)/bondi_radius)\n",
    "temp = temp.subs(u(r).diff(r), v_w*tilde_u(tilde_r).diff(tilde_r)/bondi_radius)\n",
    "temp = temp.subs(rho(r), bondi_density*tilde_rho(tilde_r))\n",
    "temp = temp.subs(u(r), v_w*tilde_u(tilde_r))\n",
    "temp = sympy.Eq(temp.lhs*(G*M)**eta/D/(v_w**2)**eta, \n",
    "                temp.rhs*(G*M)**eta/D/(v_w**2)**eta)\n",
    "temp = temp.subs(r, bondi_radius*tilde_r)\n",
    "temp = sympy.expand_power_base(temp)\n",
    "temp = temp.simplify()\n",
    "dimles_mass_conservation = temp\n",
    "dimles_mass_conservation"
   ]
  },
  {
   "cell_type": "markdown",
   "metadata": {},
   "source": [
    "Momentum conservation"
   ]
  },
  {
   "cell_type": "code",
<<<<<<< HEAD
   "execution_count": 9,
=======
   "execution_count": 26,
>>>>>>> c1ef407d75385e2c24f2d7fd79eb197bd0697f2c
   "metadata": {},
   "outputs": [
    {
     "data": {
<<<<<<< HEAD
      "image/png": "iVBORw0KGgoAAAANSUhEUgAAAakAAAArBAMAAAAwDWoPAAAAMFBMVEX///8AAAAAAAAAAAAAAAAA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\nfH4d4Dsu2JMT9wzilGJXxIEGxf8PPNgEQqln0LsAAAAASUVORK5CYII=\n",
=======
      "image/png": "iVBORw0KGgoAAAANSUhEUgAAAF0AAAArCAYAAAAaCoQfAAAABHNCSVQICAgIfAhkiAAABCxJREFUaIHt2muoVFUUwPHfvV7LfPRAzT5Y9CR6UGalFCpSUJaZUBChFZYVfjIMyqLX7UMFiRgVlR8Ce0CBkfSUooJIqA+FQdHDkl4kfRB60EPTun1YxxyP58ycM965M849fzgMZ++99l6zZu+11t57qKgYDvQ0ITPQ5vGHHWdiSbuV2N/pLdl+Ll5rhSLDibJGPwo/tEKR/ZRZeBk/Cre7qIhQGaNPwk+l1epuxuJT3IS/WjHAIpzbio67hN+1YKZPxwfNaFOxJ0WNPhL/4N8W6jJsKGr0GdjQoM35WCf8/nZswRu4uED/k8SP+kidNleJYDWA6wv02bEUNfqFwoB5PIi3cJaI5itFajkRswv0Pz/R5cWc+iPxqPCbXUcv+jLKV9eRuUHMvjU4IKN+ZIFx12MrRmTU9YgfdDNW6NyZ3lQgPQyvY2GqzbHiC2dxIO7D97gRf2e02dFAh4NxHl4RLibN0qT+WvzRoK+hZiymJE+v2MdMST4LMQNPYW2qfClOyZG5RMy8VWKFzMVykbeeU3DcBUkfl2bUnSTy31XJe7/Omumz7Y4ztc+aMp2cgF/t6RKeqNP+3mSQB/BJxuDvCr9ej7ViaY5KlffhQ3yJg5Kyfp1l9KZIB9KvRPYxK3kfo/6SPjz5vEUYYybG4TS8mfSTXjm1jMIc4dO3peruxhnCT7Zkt9dJrLR7Oc/HRXXarhbG3oajU3WjxTnNgHxXMy+pX5Aqn46dIiuqpV+5mf6t7OWf9zxbsN99IitTeVUYc5nwWbfXkf8l+dwovmAtf4o0czGm4f0M+ctE8K09uezD09iEu+opX4DN9l5B9diyj+M1TZ8w5ol4rEHb68QMWZ9TvyvFuy2jboRIE9Oyhyo+Mx9qoN9gUWa1NHyyZvpOMUPvxHsNlHk76ehkER/SxwSnJp/fZMjOwnixi61lO57MGW+q8PMbRIDNWj2tYEhuuK4WBpxcoO1LwvDLUuUXJH38jEMy5B4WefmkEnr164LsJY/x+Khg28liczQgdo4r8IJYMTtweYZMTyLT6DwnTb8uNjp7ZyP1mCgOq74TgXGrcBvTctqfLYx3c0md+nWm0acq59fbwv3J4Me0S4FBZnm7FSjC5/i43UoMEkfgmnYrMdxYjAllBMr+G6BibyaIGFaYyuj7xjj8llE+D5+JU9uFeH4olep2rpCd5T0nTmzvEalxkSvLihzGpN5vLSH7/+6/ci/F6BHnR8/UlB0g+6aM2DAO4Eq8Iw7dqgynCXrFRc3o5H2OuDfIYq4w+kbhWo4Tu/yKJlghjqOJi5s87hAXL8dnVVbupRzrhNF71N/Ony4u+b8eCqW6nV6RCs5Mnjw2iQv9ikHicTGL87zEGHFkPSOvg8q9lGeduNbL+1/nruDaLWdLHcFIOQEyYQm+GCJdKioqKirazH8OHwZOJ1v4uwAAAABJRU5ErkJggg==\n",
>>>>>>> c1ef407d75385e2c24f2d7fd79eb197bd0697f2c
      "text/latex": [
       "$$\\tilde{\\rho}{\\left (\\tilde{r} \\right )} \\tilde{u}{\\left (\\tilde{r} \\right )} \\frac{d}{d \\tilde{r}} \\tilde{u}{\\left (\\tilde{r} \\right )} + \\frac{d}{d \\tilde{r}} \\tilde{p}{\\left (\\tilde{r} \\right )} = - \\tilde{r}^{- \\eta} \\tilde{u}{\\left (\\tilde{r} \\right )} - \\frac{1}{\\tilde{r}^{2}} \\tilde{\\rho}{\\left (\\tilde{r} \\right )}$$"
      ],
      "text/plain": [
       "                                                 d                            \n",
       "\\tilde{\\rho}(\\tilde{r})⋅\\tilde{u}(\\tilde{r})⋅──────────(\\tilde{u}(\\tilde{r})) \n",
       "                                             d\\tilde{r}                       \n",
       "                                                                              \n",
       "\n",
       "      d                                         -η                        \\til\n",
       "+ ──────────(\\tilde{p}(\\tilde{r})) = - \\tilde{r}  ⋅\\tilde{u}(\\tilde{r}) - ────\n",
       "  d\\tilde{r}                                                                  \n",
       "                                                                              \n",
       "\n",
       "de{\\rho}(\\tilde{r})\n",
       "───────────────────\n",
       "            2      \n",
       "   \\tilde{r}       "
      ]
     },
<<<<<<< HEAD
     "execution_count": 9,
=======
     "execution_count": 26,
>>>>>>> c1ef407d75385e2c24f2d7fd79eb197bd0697f2c
     "metadata": {},
     "output_type": "execute_result"
    }
   ],
   "source": [
    "tilde_p = sympy.Symbol(r'\\tilde{p}')\n",
    "temp = momentum_conservation\n",
    "temp = temp.subs(q, mass_source)\n",
    "temp = temp.subs(rho(r).diff(r), bondi_density*tilde_rho(tilde_r).diff(tilde_r)/bondi_radius)\n",
    "temp = temp.subs(u(r).diff(r), v_w*tilde_u(tilde_r).diff(tilde_r)/bondi_radius)\n",
    "temp = temp.subs(p(r).diff(r), bondi_density*v_w**2*tilde_p(tilde_r).diff(tilde_r)/bondi_radius)\n",
    "temp = temp.subs(rho(r), bondi_density*tilde_rho(tilde_r))\n",
    "temp = temp.subs(u(r), v_w*tilde_u(tilde_r))\n",
    "temp = temp.subs(p(r), bondi_density*v_w**2*tilde_p(tilde_r))\n",
    "temp = sympy.Eq(temp.lhs*(G*M)**eta/D/(v_w**2)**eta/v_w, \n",
    "                temp.rhs*(G*M)**eta/D/(v_w**2)**eta/v_w)\n",
    "temp = temp.subs(r, bondi_radius*tilde_r)\n",
    "temp = temp.simplify()\n",
    "dimles_momentum_conservation = temp\n",
    "dimles_momentum_conservation"
   ]
  },
  {
   "cell_type": "markdown",
   "metadata": {},
   "source": [
    "Energy conservation"
   ]
  },
  {
   "cell_type": "code",
<<<<<<< HEAD
   "execution_count": 10,
=======
   "execution_count": 27,
>>>>>>> c1ef407d75385e2c24f2d7fd79eb197bd0697f2c
   "metadata": {},
   "outputs": [
    {
     "data": {
<<<<<<< HEAD
      "image/png": "iVBORw0KGgoAAAANSUhEUgAABTUAAAAyBAMAAAB/miK5AAAAMFBMVEX///8AAAAAAAAAAAAAAAAA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\nzhkAAAAASUVORK5CYII=\n",
=======
      "image/png": "iVBORw0KGgoAAAANSUhEUgAAACEAAAAUCAYAAAADU1RxAAAABHNCSVQICAgIfAhkiAAAAg9JREFUSInt1E1oz3EcB/CXLawVytNEEgcHlCjksuyiZCsuDnJ2JcmVi4c5UCYHacvVRKSW5wNq2cFDIi0rz0tSHjLW5u/w/fzbr5/fb21ykLzr36c+D+//+/f9PPCXYiOu4BUG0IdOrB2lpgHDaMv4WnEdL4PnA+5hL2aMJqAVFbzHKRzCWQziB7aV1G2PuqaMbxDdaA+eNvRE3mvMLyKaE1/Tj9m5WFMU95WI6ArhtRlfXUnu/uA6URRcE8ELJcWf8LnAPxXf0VFSl8fy+J+rVUdNJtgrPeFqzMwVNmIKrhWQNmMSzo9RREvYh2UJO6Xev8NJHMQZfJOGNd8m0tB+Uf78u7EPR3FLeoUHmDWa0k3SJFcyv15sLcitk1rUOQpff46rS9qmUuzBEI5gEeqxEpeD4HAuvyX8RQLzaMBmPMWb4P0F64LwXEGsXrobwyGuig5pKKeNQUQVC6LmUdWRHczmsDcLCr/ibuSvCF+t9BI38HEcIp7jMZaKBciKmBy2bGCq/sGwjdLlG+tWZDE37HA+sEVqRz/m5WIbpK0ZMHJyjwVJ0ZAtVtyiGiPH6k6RuhrpgFSkw3RaOuMXQ0AFOyJ3Al7gdhGRtOoDwVdd9XY8C563WFJSa2IQdIeQIelmXML6TN6qINtVwrMMx3FfOudD0tz0SDdjepmA8eBAiFj4J8h+F0+kr/yPfw8/AZ+HiMcsH+A6AAAAAElFTkSuQmCC\n",
>>>>>>> c1ef407d75385e2c24f2d7fd79eb197bd0697f2c
      "text/latex": [
       "$$\\frac{\\tilde{r}^{- \\eta}}{2} - \\frac{1}{\\tilde{r}^{2}} \\tilde{\\rho}{\\left (\\tilde{r} \\right )} \\tilde{u}{\\left (\\tilde{r} \\right )} = \\frac{1}{2 \\tilde{r} \\left(\\gamma - 1\\right)} \\left(\\tilde{r} \\left(2 \\gamma \\frac{d}{d \\tilde{r}} \\tilde{p}{\\left (\\tilde{r} \\right )} + \\left(\\gamma - 1\\right) \\left(2 \\tilde{\\rho}{\\left (\\tilde{r} \\right )} \\frac{d}{d \\tilde{r}} \\tilde{u}{\\left (\\tilde{r} \\right )} + \\tilde{u}{\\left (\\tilde{r} \\right )} \\frac{d}{d \\tilde{r}} \\tilde{\\rho}{\\left (\\tilde{r} \\right )}\\right) \\tilde{u}{\\left (\\tilde{r} \\right )}\\right) \\tilde{u}{\\left (\\tilde{r} \\right )} + \\left(\\tilde{r} \\frac{d}{d \\tilde{r}} \\tilde{u}{\\left (\\tilde{r} \\right )} + 2 \\tilde{u}{\\left (\\tilde{r} \\right )}\\right) \\left(2 \\gamma \\tilde{p}{\\left (\\tilde{r} \\right )} + \\left(\\gamma - 1\\right) \\tilde{\\rho}{\\left (\\tilde{r} \\right )} \\tilde{u}^{2}{\\left (\\tilde{r} \\right )}\\right)\\right)$$"
      ],
      "text/plain": [
       "                                                                       ⎛      \n",
       "         -η                                                  \\tilde{r}⋅⎜2⋅γ⋅──\n",
       "\\tilde{r}     \\tilde{\\rho}(\\tilde{r})⋅\\tilde{u}(\\tilde{r})             ⎝    d\\\n",
       "─────────── - ──────────────────────────────────────────── = ─────────────────\n",
       "     2                                  2                                     \n",
       "                               \\tilde{r}                                      \n",
       "\n",
       "  d                                      ⎛                              d     \n",
       "────────(\\tilde{p}(\\tilde{r})) + (γ - 1)⋅⎜2⋅\\tilde{\\rho}(\\tilde{r})⋅──────────\n",
       "tilde{r}                                 ⎝                          d\\tilde{r}\n",
       "──────────────────────────────────────────────────────────────────────────────\n",
       "                                                                              \n",
       "                                                                              \n",
       "\n",
       "                                                  d                           \n",
       "(\\tilde{u}(\\tilde{r})) + \\tilde{u}(\\tilde{r})⋅──────────(\\tilde{\\rho}(\\tilde{r\n",
       "                                              d\\tilde{r}                      \n",
       "──────────────────────────────────────────────────────────────────────────────\n",
       "                                                                              \n",
       "                                                                              \n",
       "\n",
       "   ⎞                     ⎞                        ⎛              d            \n",
       "}))⎟⋅\\tilde{u}(\\tilde{r})⎟⋅\\tilde{u}(\\tilde{r}) + ⎜\\tilde{r}⋅──────────(\\tilde\n",
       "   ⎠                     ⎠                        ⎝          d\\tilde{r}       \n",
       "──────────────────────────────────────────────────────────────────────────────\n",
       "     2⋅\\tilde{r}⋅(γ - 1)                                                      \n",
       "                                                                              \n",
       "\n",
       "                                        ⎞ ⎛                                   \n",
       "{u}(\\tilde{r})) + 2⋅\\tilde{u}(\\tilde{r})⎟⋅⎝2⋅γ⋅\\tilde{p}(\\tilde{r}) + (γ - 1)⋅\n",
       "                                        ⎠                                     \n",
       "──────────────────────────────────────────────────────────────────────────────\n",
       "                                                                              \n",
       "                                                                              \n",
       "\n",
       "                                 2           ⎞\n",
       "\\tilde{\\rho}(\\tilde{r})⋅\\tilde{u} (\\tilde{r})⎠\n",
       "                                              \n",
       "──────────────────────────────────────────────\n",
       "                                              \n",
       "                                              "
      ]
     },
<<<<<<< HEAD
     "execution_count": 10,
=======
     "execution_count": 27,
>>>>>>> c1ef407d75385e2c24f2d7fd79eb197bd0697f2c
     "metadata": {},
     "output_type": "execute_result"
    }
   ],
   "source": [
    "temp = energy_conservation\n",
    "temp = temp.subs(q, mass_source)\n",
    "temp = temp.subs(rho(r).diff(r), bondi_density*tilde_rho(tilde_r).diff(tilde_r)/bondi_radius)\n",
    "temp = temp.subs(u(r).diff(r), v_w*tilde_u(tilde_r).diff(tilde_r)/bondi_radius)\n",
    "temp = temp.subs(p(r).diff(r), bondi_density*v_w**2*tilde_p(tilde_r).diff(tilde_r)/bondi_radius)\n",
    "temp = temp.subs(rho(r), bondi_density*tilde_rho(tilde_r))\n",
    "temp = temp.subs(u(r), v_w*tilde_u(tilde_r))\n",
    "temp = temp.subs(p(r), bondi_density*v_w**2*tilde_p(tilde_r))\n",
    "temp = sympy.Eq(temp.lhs*(G*M)**eta/D/(v_w**2)**eta/v_w**2, \n",
    "                temp.rhs*(G*M)**eta/D/(v_w**2)**eta/v_w**2)\n",
    "temp = temp.subs(r, bondi_radius*tilde_r)\n",
    "temp = temp.simplify()\n",
    "dimles_energy_conservation = temp\n",
    "dimles_energy_conservation"
   ]
  },
  {
   "cell_type": "markdown",
   "metadata": {},
   "source": [
    "Integral expressions"
   ]
  },
  {
   "cell_type": "code",
<<<<<<< HEAD
   "execution_count": 75,
=======
   "execution_count": 28,
>>>>>>> c1ef407d75385e2c24f2d7fd79eb197bd0697f2c
   "metadata": {},
   "outputs": [
    {
     "data": {
<<<<<<< HEAD
      "image/png": "iVBORw0KGgoAAAANSUhEUgAAARkAAAA1BAMAAACHJ4LdAAAAMFBMVEX///8AAAAAAAAAAAAAAAAA\nAAAAAAAAAAAAAAAAAAAAAAAAAAAAAAAAAAAAAAAAAAAv3aB7AAAAD3RSTlMAMt1URBB2Iqvvu4mZ\nzWa4xGRRAAAFP0lEQVRYCc1YXWgcVRT+NrOzP8nuZlUohiIJUdAHwQULgihZJBSrSAYfAiqaKYXQ\nJmgjWOyDsKvYilQhwehLKQ4EUVrRfQrBppj2oYgmJVYtFly7D1JRFDemUVA0njv3zuzMzp2dmc1G\nciD3nvud73xzduYy52aAHWFPTR7bEXUABarjElZ2SDUG1fEGftvOatT5BS2kPqsGOGeO2zAopJmp\nZVaDpH/ZP1kmjsF46iwbt8O6STS1lKsHaKs/rGOGOAb9qROVAHbbYVYN0BN0b5Kjq/iTiAZj43Nz\n3Ppw8+3xIlfJXdy1QB6v5gkB8pA9xgYLw8ppsveQ0mPTqWr1VPUKRUsFm7IVR9WPviPynxkppPOi\nmtEzctHR5Ou6iKTziTK5BpC8gVKN3I7akWfRO2Xdm4wRpF1Cd404xFPvxE9aED18/H527zUcRx/e\nrF6tVnX6vetB6Y+gl+6kuW92Tb4WxI4en8FBSmL7plRM/huc388oRjAvPGPv+3sXBTtZx0fksmoe\nn8q9LdOIT7wwuWQHfmZe2V52wKm8UrwmZOIG1shl1cTGF2gHea0ndUe2bsOXbK9DTrx4F/bYWjF2\nJVaNnw13lZWiX3DruKrecIjkDFqkHECzq40VmyHvevEDzQuGQ5TGjWftKShpyCJ8aTmeOaMF9zhP\nkgAiZlrnGHXDTxBdU0m2/dqydCVS2knBVgZ809IF19P35ckCpaIM9cOoB9Crd/5A7MJ3LfIU+8bF\ndVMp5yBLIJNjDvsabggvPk2kTP42ZAtSNmuqQJbuN/duFc55xub92QVJRaKB3XNHzIYmyeJNlZ0E\nuPeNcLKEiP7shCQKkaHYtTW0uqU5eysmdCHeEopcgCvhPpzAQTXvwpyLR3GTWKY14ajTFkECWaH2\n5hmcx/GEdSGPRmzu3mMCfMwOzlmeBLJC7c3Xrxfw8H5ZrtlU05ubdQoqF1/GF4Dos4tQFysoaS5I\nJtFBzNlUl9GnfU/na95nH0QmXsdhwAnRlTNV08odLMKWcjTV3ADGCrOAgPbhlswATgNOyM7bHsfR\nVNM19NfoXSmgfmhpHX8ATqipiM3Wxh5/8vIgsyLLbM1mu8VuqhjRcDhPlxYQHROHtBj1LxfERLfR\nVmztC8BVvEVLDtH7aQWJabgh2jfmbx007LxOOlZTBe5m53x2sOXQr8CH6DZ+dEOdvLRXy2yqJqz+\nhawOOnELiLzP0FepuCGvQicRs6magsra/KvAQ/S+oadD9jXw5PieM3k3ZIb+h4Ef4tJT4lKOzuCF\nQpQTO/tJIQTNouw+a7/7TYgf4uxm2aNbRAlkhVrMLyFOb4ewllzCiO4ki0McHR9Me7oRk0CNYLOn\nijv5aQG/N8cka0HvWUfvgDNMO4bZUT7B8Y+xBBIkyaToHBwKV42gK83VcBEkuVoiL9Y0SaBGsNlT\ndAsJ9aQadPeTskTameMTL46f4IkN+WzZT0pK/9aPHRnvSV3BGN8wii6yd/vLS+ixc2WRt/VpuMug\njySmjqKbEw2JWctrnqX0Q8VmWtS11aBZ2x/SzGxFt0Xe5Yi9tvu5lJ7eaBC36FEprNfSSezyqWq1\nTO7zwMc1mqXmoSfz6A7x+Ukq5gWpFNF+Fd2Mqptai2o89LGNTlZz0uq1ENXgH+Aevq/N6tyDh967\nii728bgjRm3f+nau6FzxOcT/9tP20hM1jFT86FFxavspgycpupiXVwrc844S+gPLX3l57SN0hjZN\nETNf+Y4R6b46PoFSngfEBw0flg1HpNt5IZ1DIXmCFpEeTRxYjpYgpf8HKRaOnFo+X0oAAAAASUVO\nRK5CYII=\n",
=======
      "image/png": "iVBORw0KGgoAAAANSUhEUgAAAHEAAAAXCAYAAAA806CXAAAABHNCSVQICAgIfAhkiAAABGJJREFUaIHt2HuIV1UQB/CPq6ikpGWkREkPjCzBsodGoavRHz2ksiKIMCurf0R6CEEkLkFl5R/2oBQKTKOgwIgwo5elRUGii0VmL7eM0rLIsiyztj/mLHu9e39372r2c+H3hcu955yZOXNnzsyZc/pq4GDH0bgBh+FzNGFe+v6ljno1UBFN+BQfYReWYw7aMbKOejXQA4wRDjsc4/Fdaj9TxtSWiIqerSV8w/E3HkntYZiJF0TY78IOvCNSQ1PFn7gmM//Mijz/Na4Q/7VGpK92PF2RN2+X+/EGtgib/IT1Ij0OK+AfjDMy7UEYhT5Zon4FjDuwsKB/Z4mylwjHLE/tK/G4WDmr8HX6oWl4AhckmvYSmcfg0TTv4BK6A427MDbp8Q1O6gFv3i63Yh1ew/fCKRPQgpvS95YM/06szbR/w2fdTdqWnp5iJbajb2pPwVRdI26EcGg7Li+R1wev4ws8aP8icUbib95H/sk6V3+znkVi3i4Da9Ddk+Q+ti8KVk1rZThUOO0lkTrgzdT+J0e7FYvSd3OJzNlJ5nVi9dUTq8TqL8saRSiyyx81aJ9L71EFY5PT3AtwFl4Uabgdp1CcTgeIvWikMOAGrM4oksfF6C/2vyr4K7331Bgfjfl4KM07paLcgw09scvU9N5QMDYuvceIxb0Ci4V/PqHYiSOwLNe3WUTF2wX0lwlnv1pB2X6Ynr5fqTG+TKTcOyvIO5hRZpc5Yp8fIgqXc4UD5xfQdjjxHEzE+91NPE+s/OE4RHh/kUiLv4sNPouB+BXPdyc4YYFIAytqjN8tIv7sTF+L+u6JWTSrtid2Z5et9q78VwqbF2Fjorm+h7p2QYfx86lhauq/uoKM2Yl2ozj35DFepNgHcv0tqjuxTe0jUtGzpILMLJpVc2JVuwwXEbsJ3+qMug4MEot6m5L6pSidFmERbhfhnMU07FY7sjowS+xxH+M8sTHn9VgqbifmVtSpCAsxNNd3qij1n9K18m7dj7nKUNUu20RgrBP/vlRkvw6MFc5boWuR2GMMESsrW131FeXzym54b0m8H+LIGjRDVY+eojNsGWb4f9NpVbvksT7JPiLTNyv13VzGWDUSJ6T3l5m+ieKWoaz6ukNs1q04X/xcEf7EkzXGxuE0cduzCe9VU7luqGKXIhyV3tlTQEd6XasiRoscnMexOs9J2Yrx4TRhrQ15buJZq3gPrIoWvauwqWWXE0VGy6NJ52H/3dxYq1jg/cuUykbiVWLfW42vRHV1Ai4S1dbLosAhbi8uFVGxrUDutTorzTWiqMmjTc8Li3rg0vQQxy+iel6SvreLIwPldrkQ94mMshk/CkdPwvGiYr0xQz8AJ4ujx+6qyk7Cs+IA+bM4lP8g7vmm2/vS9Uyxcm6rIatF93vbWxX16pBVr0jsmL/W05ahLbPLGHEX3Cocv0fcU3+Q5shnq9OTrMX7qHe3uDdNcNyBmqCXolfZZaMDV573ZjTs0kADDTTQQAN1xL+OGkeBYgGXRgAAAABJRU5ErkJggg==\n",
>>>>>>> c1ef407d75385e2c24f2d7fd79eb197bd0697f2c
      "text/latex": [
       "$$\\tilde{r}^{2} \\tilde{\\rho}{\\left (\\tilde{r} \\right )} \\tilde{u}{\\left (\\tilde{r} \\right )} = \\frac{\\tilde{r}^{- \\eta + 3}}{- \\eta + 3} - \\frac{\\tilde{r}_{st}^{- \\eta + 3}}{- \\eta + 3}$$"
      ],
      "text/plain": [
       "                                                                   -η + 3     \n",
       "         2                                                \\tilde{r}         \\t\n",
       "\\tilde{r} ⋅\\tilde{\\rho}(\\tilde{r})⋅\\tilde{u}(\\tilde{r}) = ─────────────── - ──\n",
       "                                                               -η + 3         \n",
       "\n",
       "            -η + 3\n",
       "ilde{r}_{st}      \n",
       "──────────────────\n",
       "     -η + 3       "
      ]
     },
<<<<<<< HEAD
     "execution_count": 75,
=======
     "execution_count": 28,
>>>>>>> c1ef407d75385e2c24f2d7fd79eb197bd0697f2c
     "metadata": {},
     "output_type": "execute_result"
    }
   ],
   "source": [
    "tilde_r_st = sympy.Symbol(r'\\tilde{r}_{st}', positive=True)\n",
    "temp = tilde_r**(-eta)\n",
    "temp *= tilde_r**2\n",
    "temp = temp.simplify()\n",
    "temp = temp.integrate(tilde_r,conds='none')\n",
    "temp = temp - temp.subs(tilde_r, tilde_r_st)\n",
    "temp = sympy.Eq(tilde_r**2*tilde_rho(tilde_r)*tilde_u(tilde_r), temp)\n",
    "integral_mass_conservation = temp\n",
    "integral_mass_conservation"
   ]
  },
  {
   "cell_type": "markdown",
   "metadata": {},
   "source": [
    "Verification"
   ]
  },
  {
   "cell_type": "code",
<<<<<<< HEAD
   "execution_count": 12,
=======
   "execution_count": 29,
>>>>>>> c1ef407d75385e2c24f2d7fd79eb197bd0697f2c
   "metadata": {},
   "outputs": [
    {
     "data": {
<<<<<<< HEAD
      "image/png": "iVBORw0KGgoAAAANSUhEUgAAAAoAAAAOBAMAAADkjZCYAAAALVBMVEX///8AAAAAAAAAAAAAAAAA\nAAAAAAAAAAAAAAAAAAAAAAAAAAAAAAAAAAAAAADAOrOgAAAADnRSTlMAEJl2Mt1EzasiVIlm7xEe\nOPwAAABJSURBVAgdY2AQMlZhYGAIYxB1YGAOYGAuYGBtYGB7ycCnwMDyimHeBgaWx2DyNRL5GCz7\nBqSS6yVIF3cAA0MUg6wDA4PQ5hYGAON0EpMbNABcAAAAAElFTkSuQmCC\n",
=======
      "image/png": "iVBORw0KGgoAAAANSUhEUgAAAHIAAAAVCAYAAACaLLqfAAAABHNCSVQICAgIfAhkiAAAAdNJREFUaIHtmb8uBEEcxz8RhRC5EwoF1QWvoFwP4A0UXsA7uIooRKFQcfEEEhWFrEKtdRROQyQK/4OEU+xsbpydvdmbmXUj+0kuk8xv8tvP5Xu7l52Bgn9HADSlz9mf2hQkMcbPjJpxoS9h8TFQBTYTahPANnANvAMNYAMYsaprB19cs3i+EmVTBa5UDQOihJcV9QpwK9bsAavAEa27dzTrN3CIL64mniHSHSkTkB7kgagvtc2vi/ktDfG88MXVxDOkiyAronbJ78fxMPAMvABDadY54YurqWdIh//IJObEeAh8tdWegBNgEJjV7OcSX1yteuoGOSPGc0X9QozTmv1c4ourVU/dIEtifFDU4/myZj+X+OJq1VM3yIIeRzfI+NdRUtTj+XszHSv44mrVUzfIuhhVz+spMaqe93nii6szz4Di9SNPrL5+yATY3xCoidqioqcrsrrW8MNTJqTLINu3k1ZobSfVSd5O2hX1hRQhF2R19cVTJqTLIAEmgR3gBvgg2rhN24g+BR5T6i7J4uqLp0yIQZBZKAOfwJqlfq7wxbOdkA5B2jqPnAfegHHDPq7xxRNSziP7pUUNonOumDvDi+4DA4Y98sAXT2idRxYUFPQ03yt/2ZRFBC2DAAAAAElFTkSuQmCC\n",
>>>>>>> c1ef407d75385e2c24f2d7fd79eb197bd0697f2c
      "text/latex": [
       "$$0$$"
      ],
      "text/plain": [
       "0"
      ]
     },
<<<<<<< HEAD
     "execution_count": 12,
=======
     "execution_count": 29,
>>>>>>> c1ef407d75385e2c24f2d7fd79eb197bd0697f2c
     "metadata": {},
     "output_type": "execute_result"
    }
   ],
   "source": [
    "temp = integral_mass_conservation\n",
    "temp = temp.lhs - temp.rhs\n",
    "temp = temp.diff(tilde_r)\n",
    "temp = temp.subs(sympy.solve(dimles_mass_conservation,\n",
    "                             tilde_rho(tilde_r).diff(tilde_r),dict=True)[0])\n",
    "temp = temp.simplify()\n",
    "temp"
   ]
  },
  {
   "cell_type": "markdown",
   "metadata": {
    "collapsed": true
   },
   "source": [
    "Energy conservation"
   ]
  },
  {
   "cell_type": "code",
<<<<<<< HEAD
   "execution_count": 13,
=======
   "execution_count": 30,
>>>>>>> c1ef407d75385e2c24f2d7fd79eb197bd0697f2c
   "metadata": {},
   "outputs": [
    {
     "data": {
<<<<<<< HEAD
      "image/png": "iVBORw0KGgoAAAANSUhEUgAABAQAAABEBAMAAADkXvqjAAAAMFBMVEX///8AAAAAAAAAAAAAAAAA\nAAAAAAAAAAAAAAAAAAAAAAAAAAAAAAAAAAAAAAAAAAAv3aB7AAAAD3RSTlMAuxCrdpnvzWZU3Yky\nRCIqi0nwAAAQmUlEQVR4Ae1ce4ycVRU/O7Pz2nl0KBhBo3xaUgzV7FpADCR0sI2CJekWKG2ghA3h\nEVIqCwILiHYwqDEEGeODQCJdY/BRBZZQ0j9qwhBAEjXpEolN0LojFUlU2KWBQHmt5557z/3uvd+d\n2ZnZYQem8yX7fefxO+fec+/9nufMAhyBW654BAbdD9kYgdz5kwbXJxccgez0gpD3GRBb3eEGMpOW\nw/QFTz1qCfqMPQIX22w3uP1BZ1t1lsBnZirJamdb6Clv2ZHuh5MeX3wfzFPdWQIvfAWW1RbfQk94\nWO6J4j6SDQQe1dKJTm23qT/+Jq/uY+apTktAqH54FG4BnAJ/aLeBHrP71KFoQIVrhCx2fBBVLaEk\nWWmvsVjp4OXK0jzVxRIwVHANrG3Pf69ZrTjZswRSUxhm7OQ1QVejzVy2iOaNU12Rzo2gMAfHLsJ/\nL5kOepbAzoAi3CAPXYv2xsW3bJzqzhLIF+GdxfvvCQ++JbBNRtbtJTBTW+wIm6e6swQAcnOLdd8j\n9p4lkFYXhm4vgdRoW2P83Cefe0wZGqd6Yc/rJTBUAOliW+57z8izBIZGZJjdXgK8FFsc9KnTp3do\nE/tUt1SJskYd2YRnCcxMyyHp9hKA19qZmvz0L+Bn2tA61W2VxhzphGcJXKjGpI0lkN24us0Bfezo\nIGJ5ekTShCAWe9dAWae6rTJQTZKx3Y8GTULxjaoVMKxa38TAPcGN+waLdZ7jAnaeJXCF8tLGEjgP\nNnu60IQoESTGI7CdtYioCUFmri5Iq1LVupgGikTZ08l6+JbAsGWBgatgM0/zKeEdLH8/mrGLLoHc\nYeWthSVwQJk8BLNVf1+0dEpTJjFUK0Tf0YZLJqRZusE0adVw0Kw3iZPxxUfT9ZeX67AlMJwKd7sO\nLL4oOPnRFsA7WBZcM147ZwqiS0BLml8CuRHV5tUwPK2b9xNPesXJinX9lpghCsCLbyBMOhEaUK3i\nwTR0jUgdX3ZcwszkQ11DBtcFWIo9FucyNBLca+9guRaS99o5U6AnXLsYGFNk80vgxEBbq89Kmo8Q\ng6WIiASZQxF5fC4iakIwO10XRKpV6ypP/+qSuhifQse3Uvk2kw+WwXfOXT/CAgYzHz0a6Nj2qFpI\nFKQoaF4CAJ7BEgBja2RnT0Hiwje2GIaCTFJzAJuuvbFMqnyJDp7dXUr2xVD3DSSVQVqNV6gk6iGH\nVyx9lX5OMsrv4Ht+aGPpX+urSbU1Nw631Mf4NBzfCR9XWjP5YBrE7jqMyQe5abAJsGgDHTtrylIx\nwxBnCdBgMcZ3bGxXZwq0o2G3M851g4HLARJVYgpjeJD5OUozo0FuV+UAbCWtuUObaHaGsCAKOMQF\nV/hRfjP8VGK6WDR91P0BtLa2RHyykwmcCqJ8eUbs+T9OGBe+Q7Cvt4VN101TnAotR25jFBo6BGxX\nXgXCwYriseG9j1RM13Xs1vpsDdlM2WAEeb3DS5ZSjONEJ0Z1Eu5OIUCDEwpfKEFKIsM92QwHoYAo\nwqankE4FIJN50m+urQ8DjvcI+8x8NT8WkTYSiPiok1DARUmUkXxgS+p5vJRD3yGYlebxIAwehhCt\n0pezFRMjaA2JT0xcNXGDXALhYLlwwb8I+deasItMgePrbqcv9p2DwTLFSDMOyWmW5qdyVdAGNK2s\nwqO0GSorUaymCHH4G/wZYB0LpN/Y68x38JipxacGRz7bikeOb3a68Ka0M5MPlqdkdXBECkIwAzje\n1QAPS5lGF96F2bKLI15BioLRzwI0WAw3j49X4C3JN7TTU2DaGvSGqsEgmQxsXnH0HLmSmH0a8MS9\nPwpCg9iYVkiCbMTFlLZMSRF4yB13L46MTg9Lv/BqCOgYlawmqvHSl1rxx/GdVEurHubr5RlnYaAs\nXYdgborjvTKANfKk0ejYQ/DdwMURryDWEpCDxXDzuFMvgYZ2egpMW4O+tGYwSO63WeZoOgcqgv0y\ny+Da+XnT4DitkATZ6HdrHhKhS87Pz0F+nPHSL1zFfAeP6bPPgfwp1VY8cny5dY/W2M5OPrAUnoVl\nVcmYYCnheHcEcKlcAiH6qfVnah+MI4GCiCXw3x0XSAwNlobbBN4IaGtop6fAttXcmkCTRIhS0vte\nDeDbtpimMzsqhKfh36qLoXBIItAgf9bL61HFGTspByCbvIKBDnXV7nMJkZgClcyTfmEXG3b3iPGp\ngLAfirKSD9Q9pcBLRggW9CvrzpDd1/HijSBQSUtEW+lLgWRcCAH5WIe6Oq5lA2KfGmGHdO0qKo1p\nh154CkI7i1pjcQA349RdsWccSracpjMzLoRH49/oDAzOSQQaZOMPppC7Rwr0nmxy/BmQQ81th1sJ\nkioDyGSe9Au/JHFigrYR7WapCYxPBYQtKypRdnuhFLdrCAGy8RtguEYkx4u3vbdVnIBoK30pgIxT\nCoQAcPBhP0Qz2rWA0Panr2uHde2wfZ4CNnOO7hLYDoBveZekazZOntFjQojlPbnKRTBQlAg0ODA0\nkpkGcF/RyQYffeTGoa4sqRoufOxSyTz1yH6TQnb5gPGpgLAjIeX0Sim22JADQ0WYxaHAjePFU7XI\nScstHLHhTOFCiKEzWzdch4jB7QvaAeAUzNfZyJNaAgSZQwnOWBmX3CCShVt3iY0ikme0AMAD+AID\nl8OykmDIIBgmDF2LXiKbB4WGbGL8ts9DotfcsmlQyTx1p40ugTodf9/EHJ8KCGMIKRERhNGFipCS\n8J0BQTlegI0cJ8qj6UuFiyoQ7XNtzgrAtZ/2fGq37LBNngLqV3SnZ0Sp5Emb/buDtJeA+GS5ryoh\nwmAnkbQEpJD2xlUAr+63XjUxMYJy/dyPSwBkMk8tAXkjMBx0h8QlrgIS7cvQkLhNcMamFRYE538z\ngox4YRCj1knLkEpVbVwI8TWCrSvXhvZ/AMeXF7QTV4GG26WBrb6a2GzJlqpHuzEhxfsPYBKOH5yF\ngYi63o2Ab0RqtRfUMyy+FlTIDxqqG4F8HEzQZWRXkVx2YyfikwGJ1pmKuc9UrLAhKN0mO62vAj+B\nQk0nLcXIyW04sHFaofR04EZE66FrhYjNB7gEFrQDT1bWbAPcl8JjSZstWyB1UU9T9z+PqoFROEo9\nLggDGfX3fDb595SUh+RNrOMjkXillsk86bfeS+HZjtt22BVB81YiPjWNBpWZdDz4Idv0Ocfx5kYh\nXdNJSxUx+uIvP4wLIUZD3IhoPXTNgDfwZcNwzWI8mnagp8AAmOSGqsnxm102sKXyKpAdFdKv4l9i\nJLctKyH4KqiuNN6XQv1SyqGeCvB7shTeZqcFKf2GtwjpWO0HixbbHpMfb94O4wsvnUTFdp+Tu+hG\n6qp244eglAPmeP+zd+9F/IiI1hSxmb5knBwK7Z8Is3XDNYPOhvzbhmsWq/7rXnOPQr1N3W1HBs+T\nOm6DQKYYU4SdQV3smHOelRMpDNSF/Ju2kbTRaXQONbF7XUDA/CTfO6TfOh+I+WyxnbfKndW8Acan\nAkIbohLVZyBVsT34ISiNFyWQ4314fv4t42Upkr5knPs+JbyYrRuuuSeZTZsrhmsW23Z4ho2HGpNa\nrhhOE724+RMkSdbEYQXR7m4lCZZVLbk0QFFszJIrJlVSBIcagr7GpPTrTxPFrmFUu0cq1BMfIZrc\nnPjQauC4Fxb6VWoISZZkO9F4w/bN9GUjHFlEXYeOGlHaTk+BjdY/LhyeIkVhBDbQOpfJnh/baMXt\npmNcWjBCZ4eyJRaZR/WhBFdmRH0n46Rff7J4YJRR7RxFSFSoV+BHkoW9OPGhQW7HO96TzfAVQmar\nUhyNN4Sb6ctGOLKIug4dNaK0nZ4CCx3+uDBZJEU8gKE5oq4X+61EOrvYOAlyk7acDFB0oi1W3O1e\nKQlTgdQpv/6SkRkFktBW9yI4Wah3ftOmbnwA98MZsDZWbeQhhPCbUgN0a+nLllwbrWq7OlNA7+wC\nPzBGVsnLIC5fHw8KfoSEzi5ekwInHUQGqDnTgUv2d14pCfHKQ5vy6y8cw291i9jEEgDYg3+zNUE1\ntTnxAVYGbYVTBoNGxiFkUyOY1CVbSl+25NpoXNvVmQK9BBSROgQJuQQKJcONRZ6ruJcsKSiDwaot\nllx61CdVsn/Jo/Krrkc2Plf/At6wdN8spqNCvVSjjthtOvEB3HFHBf7C0dtY5pqAMBRfiltKX7bk\nOmxE95qmoF7mT+B1ETkM4eeHprbMVFMwAv2zeehwyYNNTHqE+LUNpY1K981iOlmot9CbkdFMK/EZ\nZh9UUkxB3cwfdfoK7vq+pmf2+2yy8PG8hSGMuLvGlHFMlgwmJAeQbFS6X5BVfSrruhHR/KG8/tPX\nXdp9C/Fpmw8uIabgyXqZP+r2hdz565jo0vF0X7v7qkIqSy4NvVgC0RdeUWyZEf9YZjmIqj4uwoPZ\nCoIfIBMxGNGNSjwT1aiiVyRllfkz8lzyax8FOFOVcSaK8ti1/du+ljcIoSq5FKT6VYdcAiunhSjc\nZB0n8cmqyM6IqwB+VZstI6lWGL+/EIp3VOIJ48z25NGf+aNQh0ZlxGu7HLj/x+Ufc3qlftVBS6BR\n6X5YTMeFerSYwmJXy+9qKvHU3yksXa8w2ZITiX4j4G/amVF4xcEsLZsSZ21k+7kjUb/qkFeBBhcu\no5hOFerJq10ycBwSeyWVeMqPlD59L8iyZSeKcAlg9YfYngb4gYNZWnam5mvvdS00/qXUaRM3TUyU\n8Bp/WGujxD4hwhsBb/sqgtrPrHXcQSWeA4SwFD3E+DN/MsCfikPht3sfm5R8l/Yf8bUbo+oCs+RS\n/qpDXAUipft20eTtwt9I6FS+c1Kxqy7xDLVY4skJS0PYS2TcCcb8cSH9Ym0Ii7EmHdCSsvnLfM3J\nH3MYJZcF+d/jxBKIlO6bxZYiNWBvy6YEfzM+GnvqMEWJJ2TGbYve4lY0CKegM3YNQO+7aqjiayKH\nBSZWyaX6VYdYApHSfbPYMups2aiQbRflnrrEM0SliirFGop6jPJn/lSQ93wQgvV/Wqdvl3ZlZW4O\nuyuWgNp8FZ2sM49yCeBHcFGTuTPAe59RHYslnrimhOee3byZP45W/I6y21udi7D8fG1VSNKvOtwb\nm+y+rui8zROOXgKeOkwq8ezxJTDiGZNQdExIdovaH3hbphtBWHIpMImyFymEm5UmUuop5HIJXC1h\n2xSSD6LE06gVYvGRc0xMdzvW2HJ/D2S9cXLKr3WlPLGZSVeDvHwcPBapaB0mlXhCetxj1hd1ewTo\nq7GvstLTMbPYMqqmr8Tid4+eOkwq8ezxl8LoiHxIJJTH9FVWevqfH0Ohr9STsPLT0PP04B8v2uZU\n4gmprl8M7V71ORqBltOXumjSHcCdNSFJyn1J0O7W2x+I3Wg/NLxOZTfbY1006Ro8ToI0PVbMVl2t\n4GUVq0/Tl3VxBMQLfEubLpp0rT4qBZQs9pZ4qipW167Pd3kEhistdkAXTbp2lG0AOCjk3u9QqorV\ntevzXR6B1GiLHahXbMl1qKrY1eO1cX2ox6AvWpIRSI91qJnsZIcc9d0s8Qj4/oFCW11Iltsy6xt1\nfwQe6VAXqCqiQ776bpZ0BIarnWnu151x0/ey9CMwON6RNtOTHXHTd9KNEcA6nw5s/651wEnfRXdG\n4KRqJ9q9pRNO+j66MwKFb3Wg3XipA076Lro1Ai93oOHPdcDHh9jF/wHfTySZ3MGHuwAAAABJRU5E\nrkJggg==\n",
=======
      "image/png": "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\n",
>>>>>>> c1ef407d75385e2c24f2d7fd79eb197bd0697f2c
      "text/latex": [
       "$$\\frac{1}{\\gamma - 1} \\left(\\frac{1}{2} \\left(\\gamma - 1\\right) \\left(\\tilde{u}^{2}{\\left (\\tilde{r} \\right )} - 1\\right) + \\tilde{c}^{2}{\\left (\\tilde{r} \\right )}\\right) = \\frac{\\tilde{r}^{- \\eta - 1} \\tilde{r}_{st}^{- \\eta}}{\\left(\\tilde{r}^{- \\eta + 3} - \\tilde{r}_{st}^{- \\eta + 3}\\right) \\left(\\eta - 2\\right)} \\left(\\tilde{r}^{3} \\tilde{r}_{st}^{\\eta} - \\tilde{r}^{\\eta} \\tilde{r}_{st}^{3} \\eta + 2 \\tilde{r}^{\\eta} \\tilde{r}_{st}^{3} + \\tilde{r}^{\\eta + 1} \\tilde{r}_{st}^{2} \\eta - 3 \\tilde{r}^{\\eta + 1} \\tilde{r}_{st}^{2}\\right)$$"
      ],
      "text/plain": [
       "        ⎛         2               ⎞                                           \n",
       "(γ - 1)⋅⎝\\tilde{u} (\\tilde{r}) - 1⎠            2                              \n",
       "─────────────────────────────────── + \\tilde{c} (\\tilde{r})            -η - 1 \n",
       "                 2                                            \\tilde{r}      ⋅\n",
       "─────────────────────────────────────────────────────────── = ────────────────\n",
       "                           γ - 1                                              \n",
       "                                                                              \n",
       "\n",
       "                                                                              \n",
       "                                                                              \n",
       "              -η ⎛         3               η            η               3     \n",
       "\\tilde{r}_{st}  ⋅⎝\\tilde{r} ⋅\\tilde{r}_{st}  - \\tilde{r} ⋅\\tilde{r}_{st} ⋅η + \n",
       "──────────────────────────────────────────────────────────────────────────────\n",
       "                                                         ⎛         -η + 3     \n",
       "                                                         ⎝\\tilde{r}       - \\t\n",
       "\n",
       "                                                                              \n",
       "                                                                              \n",
       "           η               3            η + 1               2                η\n",
       "2⋅\\tilde{r} ⋅\\tilde{r}_{st}  + \\tilde{r}     ⋅\\tilde{r}_{st} ⋅η - 3⋅\\tilde{r} \n",
       "──────────────────────────────────────────────────────────────────────────────\n",
       "            -η + 3⎞                                                           \n",
       "ilde{r}_{st}      ⎠⋅(η - 2)                                                   \n",
       "\n",
<<<<<<< HEAD
       "                     \n",
       "                     \n",
       " + 1               2⎞\n",
       "    ⋅\\tilde{r}_{st} ⎠\n",
       "─────────────────────\n",
       "                     \n",
       "                     "
      ]
     },
     "execution_count": 13,
=======
       "3                        ⎞⎫\n",
       " (\\tilde{r})⋅m(\\tilde{r})⎠⎪\n",
       "──────────────────────────⎬\n",
       "                          ⎪\n",
       "                          ⎭"
      ]
     },
     "execution_count": 30,
>>>>>>> c1ef407d75385e2c24f2d7fd79eb197bd0697f2c
     "metadata": {},
     "output_type": "execute_result"
    }
   ],
   "source": [
    "tilde_c = sympy.Symbol(r'\\tilde{c}')\n",
    "temp = -integral_mass_conservation.rhs\n",
    "temp /= tilde_r**2\n",
    "temp = temp.expand()\n",
    "temp = temp.integrate(tilde_r,conds='none')\n",
    "temp = temp - temp.subs(tilde_r, tilde_r_st)\n",
    "temp = temp.simplify()\n",
    "temp = temp.subs(eta**2-5*eta+6, (eta-2)*(eta-3))\n",
    "temp = sympy.Eq(tilde_u(tilde_r)**2/2-sympy.Rational(1,2) + tilde_c(tilde_r)**2/(gamma-1),\n",
    "               temp/integral_mass_conservation.rhs)\n",
    "temp = temp.simplify()\n",
    "integral_energy_conservation = temp\n",
    "integral_energy_conservation"
   ]
  },
  {
   "cell_type": "markdown",
   "metadata": {},
   "source": [
    "Verification"
   ]
  },
  {
   "cell_type": "code",
<<<<<<< HEAD
   "execution_count": 14,
   "metadata": {},
   "outputs": [
    {
     "data": {
      "image/png": "iVBORw0KGgoAAAANSUhEUgAAAAoAAAAOBAMAAADkjZCYAAAALVBMVEX///8AAAAAAAAAAAAAAAAA\nAAAAAAAAAAAAAAAAAAAAAAAAAAAAAAAAAAAAAADAOrOgAAAADnRSTlMAEJl2Mt1EzasiVIlm7xEe\nOPwAAABJSURBVAgdY2AQMlZhYGAIYxB1YGAOYGAuYGBtYGB7ycCnwMDyimHeBgaWx2DyNRL5GCz7\nBqSS6yVIF3cAA0MUg6wDA4PQ5hYGAON0EpMbNABcAAAAAElFTkSuQmCC\n",
      "text/latex": [
       "$$0$$"
      ],
      "text/plain": [
       "0"
      ]
     },
     "execution_count": 14,
     "metadata": {},
     "output_type": "execute_result"
    }
   ],
=======
   "execution_count": 31,
   "metadata": {},
   "outputs": [],
>>>>>>> c1ef407d75385e2c24f2d7fd79eb197bd0697f2c
   "source": [
    "temp = integral_energy_conservation\n",
    "temp = temp.subs(tilde_c(tilde_r), sympy.sqrt(gamma*tilde_p(tilde_r)/tilde_rho(tilde_r)))\n",
    "temp = sympy.Eq(temp.lhs*integral_mass_conservation.lhs,\n",
    "                temp.rhs*integral_mass_conservation.rhs)\n",
    "temp = temp.lhs - temp.rhs\n",
    "temp = temp.diff(tilde_r)\n",
    "temp -= (dimles_energy_conservation.rhs-dimles_energy_conservation.lhs)*tilde_r**2\n",
    "temp = temp.subs(sympy.solve(dimles_mass_conservation,tilde_rho(tilde_r).diff(tilde_r),dict=True)[0])\n",
    "temp = temp.subs(sympy.solve(integral_mass_conservation,tilde_rho(tilde_r),dict=True)[0])\n",
    "temp = temp.subs(sympy.solve([dimles_mass_conservation,\n",
    "                              dimles_momentum_conservation,\n",
    "                              dimles_energy_conservation],\n",
    "                             [tilde_p(tilde_r).diff(tilde_r),\n",
    "                             tilde_rho(tilde_r).diff(tilde_r),\n",
    "                             tilde_u(tilde_r).diff(tilde_r)]))                           \n",
    "temp = temp.simplify()\n",
    "temp = temp.subs(sympy.solve(integral_mass_conservation,tilde_rho(tilde_r),dict=True)[0])\n",
    "temp.simplify()"
   ]
  },
  {
<<<<<<< HEAD
   "cell_type": "markdown",
   "metadata": {},
=======
   "cell_type": "code",
   "execution_count": 32,
   "metadata": {},
   "outputs": [],
>>>>>>> c1ef407d75385e2c24f2d7fd79eb197bd0697f2c
   "source": [
    "# Solutions without Gravity\n",
    "In this case the fluid velocity and the speed of sound are constant. The density is a single power law"
   ]
  },
  {
   "cell_type": "code",
<<<<<<< HEAD
   "execution_count": 15,
   "metadata": {},
   "outputs": [
    {
     "data": {
      "image/png": "iVBORw0KGgoAAAANSUhEUgAAA54AAABPBAMAAABxKwfDAAAAMFBMVEX///8AAAAAAAAAAAAAAAAA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\n",
      "text/latex": [
       "$$\\left [ \\left ( \\frac{D \\sqrt{\\frac{- \\eta \\gamma + \\eta + \\gamma - 1}{\\eta \\gamma + \\eta - 5 \\gamma - 1}} \\left(\\eta \\gamma + \\eta - 5 \\gamma - 1\\right)}{v_{w} \\left(\\eta^{2} \\gamma - \\eta^{2} - 4 \\eta \\gamma + 4 \\eta + 3 \\gamma - 3\\right)}, \\quad v_{w} \\sqrt{- \\frac{\\left(\\eta - 1\\right) \\left(\\gamma - 1\\right)}{\\eta \\gamma + \\eta - 5 \\gamma - 1}}, \\quad v_{w} \\sqrt{\\frac{\\gamma \\left(\\eta - 3\\right) \\left(\\gamma - 1\\right)}{\\eta \\gamma + \\eta - 5 \\gamma - 1}}\\right ), \\quad - \\eta + 1\\right ]$$"
      ],
      "text/plain": [
       "⎡⎛      ___________________                                                   \n",
       "⎢⎜     ╱  -η⋅γ + η + γ - 1                                                    \n",
       "⎢⎜D⋅  ╱  ───────────────── ⋅(η⋅γ + η - 5⋅γ - 1)          ___________________  \n",
       "⎢⎜  ╲╱   η⋅γ + η - 5⋅γ - 1                              ╱ -(η - 1)⋅(γ - 1)    \n",
       "⎢⎜─────────────────────────────────────────────, v_w⋅  ╱  ───────────────── , \n",
       "⎢⎜       ⎛ 2      2                        ⎞         ╲╱   η⋅γ + η - 5⋅γ - 1   \n",
       "⎣⎝   v_w⋅⎝η ⋅γ - η  - 4⋅η⋅γ + 4⋅η + 3⋅γ - 3⎠                                  \n",
       "\n",
       "                           ⎞        ⎤\n",
       "                           ⎟        ⎥\n",
       "        ___________________⎟        ⎥\n",
       "       ╱ γ⋅(η - 3)⋅(γ - 1) ⎟        ⎥\n",
       "v_w⋅  ╱  ───────────────── ⎟, -η + 1⎥\n",
       "    ╲╱   η⋅γ + η - 5⋅γ - 1 ⎟        ⎥\n",
       "                           ⎠        ⎦"
      ]
     },
     "execution_count": 15,
     "metadata": {},
     "output_type": "execute_result"
    }
   ],
=======
   "execution_count": 33,
   "metadata": {},
   "outputs": [],
>>>>>>> c1ef407d75385e2c24f2d7fd79eb197bd0697f2c
   "source": [
    "c = sympy.Symbol('c')\n",
    "alpha = sympy.Symbol('alpha')\n",
    "A = sympy.Symbol('A')\n",
    "temp = [mass_conservation,momentum_conservation,energy_conservation]\n",
    "temp = map(lambda eqn: eqn.subs(q,mass_source), temp)\n",
    "temp = map(lambda eqn: eqn.subs(p(r),rho(r)*c(r)**2/gamma), temp)\n",
    "temp = map(lambda eqn: eqn.doit(), temp)\n",
    "temp = map(lambda eqn: eqn.subs(M,0), temp)\n",
    "temp = map(lambda eqn: eqn.subs(u(r).diff(r),0), temp)\n",
    "temp = map(lambda eqn: eqn.subs(c(r).diff(r),0), temp)\n",
    "temp = map(lambda eqn: eqn.subs(rho(r),A*r**alpha),temp)\n",
    "temp = map(lambda eqn: eqn.doit(), temp)\n",
    "temp = map(lambda eqn: eqn.simplify(), temp)\n",
    "temp = list(temp)\n",
    "asymptotic_density_index = sympy.solve(sympy.Eq(sympy.log(temp[0].lhs).diff(r)*r,\n",
    "         (sympy.log(temp[0].rhs).diff(r)*r).subs(u(r).diff(r),0)),alpha)[0]\n",
    "temp = map(lambda eqn: eqn.subs(alpha,asymptotic_density_index), temp)\n",
    "asymptotic_prefactors = sympy.solve(temp,[A,u(r),c(r)])[1]\n",
    "[asymptotic_prefactors,asymptotic_density_index]"
   ]
  },
  {
   "cell_type": "markdown",
   "metadata": {},
   "source": [
    "Asymptotic Mach number"
   ]
  },
  {
   "cell_type": "code",
<<<<<<< HEAD
   "execution_count": 16,
=======
   "execution_count": 34,
>>>>>>> c1ef407d75385e2c24f2d7fd79eb197bd0697f2c
   "metadata": {},
   "outputs": [
    {
     "data": {
<<<<<<< HEAD
      "image/png": "iVBORw0KGgoAAAANSUhEUgAAAHQAAAA3BAMAAAAveHPWAAAAMFBMVEX///8AAAAAAAAAAAAAAAAA\nAAAAAAAAAAAAAAAAAAAAAAAAAAAAAAAAAAAAAAAAAAAv3aB7AAAAD3RSTlMAInaZRBDNVIndZu8y\nu6tzi9kNAAAC9klEQVRIDd1WS2gTURQ9mU+TJmmICl2JGbpsrQQqpeiig4igggQXgoh2FAzUggS6\ncZfgB0UQs1DQhTSKC3cWEe3OLF1JXXTjxqzEjVKlLRXUet9v5mUcmBkXgt7Fu+ecd8+b914muQGi\norIVHVG1IW1viCentpe8NlRpNkICpytRYlg7ERYYP70epYa162GB+JnPSax2O8IKI4k11/lj6yBw\n4O32Pa3+BRI9dRRofXDsL+mslkv1bVjuA2TW0lnHPMBwYNtryLJrGb7P4g5bJGbDxePfAToq85ke\nZS1irLB/AI+o3vRQaFHWIs6K6TLuUj35Kq7mIxhrrVTzLaoj39N+Z7y1tD5YI89R4FO/1dy/sa9f\nCbPi5ryUnoWnYvnceVGSobtOGc2qMBiLKY3AQFlYTLlE6gX+T0P0b3US9V++j+kkB9RqgrNmlgOc\nEpXclIagfDiAaZHWUy0nzvxYL9B76ht9IoyLN241YHY1We+p8tuuzWpwB6yvgKcpJwNMv+ERYcsv\n8u0GvgFPtIqbAS7UAhygrCNwk1tPBRN6Tz0UyBpSVvANDzX8KaND3WJhBXl64pSvwhrfNvJR0MA6\n0ANyVb+INZqxqToMyhd8FbnSOcyUOfetry8Sz3pMtNkwAhR7MN2HhJ8zQcTBwWXVQXwrDCqwFqkg\nc49VtYE8pZZDwxqJs7w7urUZF80aafQchyc2vKqhuEr5yBwNvNFQvtqlgax+kG+SiFmvz76o13sE\ndwLvO8KKZod6qlgZl2kOL9kgg3xLAsqn2ls1ZuUbRoE2e0lW8k/3nfJRXvL/GKgNbwALZeQ9VmTQ\nBtWrd40JV9gggv5Q5NmpKJR1FNam+nCok2erYho9lg9LQon2VVoWVFmzE5MN6i8uV6fLqtHYPSYU\nylyWQ8ERQFkFky9ipXVMlolpdd1CrHRFthyRxcjvExhaPStVs8uBOjknY3KuL9meoNbPntRLIu+S\nlKcJnShcUmda6CpJ5IzTz39nu5U0rsDfyr8AwfQLYux0N8wAAAAASUVORK5CYII=\n",
      "text/latex": [
       "$$\\frac{\\sqrt{\\eta - 1}}{\\sqrt{\\gamma \\left(- \\eta + 3\\right)}}$$"
      ],
      "text/plain": [
       "    _______   \n",
       "  ╲╱ η - 1    \n",
       "──────────────\n",
       "  ____________\n",
       "╲╱ γ⋅(-η + 3) "
      ]
     },
     "execution_count": 16,
=======
      "image/png": "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\n",
      "text/latex": [
       "$$38.1869960774$$"
      ],
      "text/plain": [
       "38.1869960774"
      ]
     },
     "execution_count": 34,
>>>>>>> c1ef407d75385e2c24f2d7fd79eb197bd0697f2c
     "metadata": {},
     "output_type": "execute_result"
    }
   ],
   "source": [
    "Q = sympy.Symbol('Q',positive=True)\n",
    "temp = asymptotic_prefactors[1]/asymptotic_prefactors[2]\n",
    "temp = temp.subs(eta*gamma+eta-5*gamma-1,-Q)\n",
    "temp = sympy.expand_power_base(temp)\n",
    "temp = temp.simplify()\n",
    "temp = temp.subs(gamma-1,Q)\n",
    "temp = temp.simplify()\n",
    "asymptotic_mach_number = temp\n",
    "asymptotic_mach_number"
   ]
  },
  {
   "cell_type": "markdown",
   "metadata": {},
   "source": [
    "More simplification for the density prefactor"
   ]
  },
  {
   "cell_type": "code",
<<<<<<< HEAD
   "execution_count": 17,
=======
   "execution_count": 35,
>>>>>>> c1ef407d75385e2c24f2d7fd79eb197bd0697f2c
   "metadata": {},
   "outputs": [
    {
     "data": {
<<<<<<< HEAD
      "image/png": "iVBORw0KGgoAAAANSUhEUgAAARkAAAA1BAMAAACHJ4LdAAAAMFBMVEX///8AAAAAAAAAAAAAAAAA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\nAABJRU5ErkJggg==\n",
      "text/latex": [
       "$$- \\frac{D \\sqrt{- \\eta \\left(\\gamma - 1\\right) - 2 \\eta + 5 \\gamma + 1}}{v_{w} \\left(\\eta - 3\\right) \\sqrt{\\eta - 1} \\sqrt{\\gamma - 1}}$$"
      ],
      "text/plain": [
       "     ____________________________ \n",
       "-D⋅╲╱ -η⋅(γ - 1) - 2⋅η + 5⋅γ + 1  \n",
       "──────────────────────────────────\n",
       "               _______   _______  \n",
       " v_w⋅(η - 3)⋅╲╱ η - 1 ⋅╲╱ γ - 1   "
      ]
     },
     "execution_count": 17,
=======
      "image/png": "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\n",
      "text/latex": [
       "$$0.00857409876007$$"
      ],
      "text/plain": [
       "0.00857409876007"
      ]
     },
     "execution_count": 35,
>>>>>>> c1ef407d75385e2c24f2d7fd79eb197bd0697f2c
     "metadata": {},
     "output_type": "execute_result"
    }
   ],
   "source": [
    "temp = asymptotic_prefactors[0]\n",
    "temp = temp.subs(eta,Q+1)\n",
    "temp = temp.simplify()\n",
    "temp = temp.subs(Q,eta-1)\n",
    "temp = temp.subs(eta,Q+3)\n",
    "temp = temp.simplify()\n",
    "temp = temp.subs(Q,eta-3)\n",
    "temp = temp.subs(gamma,Q+1)\n",
    "temp = temp.simplify()\n",
    "temp = temp.subs(Q,gamma-1)\n",
    "temp = temp.subs(eta*(gamma-1)+2*eta-5*gamma-1,-Q)\n",
    "temp = temp.simplify()\n",
    "temp = temp.subs(Q,-(eta*(gamma-1)+2*eta-5*gamma-1))\n",
    "temp"
   ]
  },
  {
   "cell_type": "markdown",
   "metadata": {},
   "source": [
    "The flow is supersonic at large distances when $\\eta$ is greater than"
   ]
  },
  {
   "cell_type": "code",
<<<<<<< HEAD
   "execution_count": 18,
=======
   "execution_count": 36,
>>>>>>> c1ef407d75385e2c24f2d7fd79eb197bd0697f2c
   "metadata": {},
   "outputs": [
    {
     "data": {
<<<<<<< HEAD
      "image/png": "iVBORw0KGgoAAAANSUhEUgAAADsAAAAuBAMAAABkEHyoAAAAMFBMVEX///8AAAAAAAAAAAAAAAAA\nAAAAAAAAAAAAAAAAAAAAAAAAAAAAAAAAAAAAAAAAAAAv3aB7AAAAD3RSTlMAMom7VCKZRHbdzavv\nEGbh6M2uAAABWElEQVQ4Ec2TMUvDQBTH/03TENGkxdWluCgFnVyLm+jmR1CHCiJSN7fmAxT0Awh2\nEIe4ZO/g5mpBnDqYxVEQ1EWI+l7uEnvnJXTsf7h77/+7d7zjeMDi8gaMarNb20MvMOHHhF3rA/WL\nSfwkkvEwxbaOt+VZN8WUqJf/w7fAzvsIr6JMw5VWBPe+NUBgxEC/uwQc+rsFeCGJ6QWuoFAvrzVQ\n/SZinTI+CsPLMKRmANH5cyJxwB5Jra4PMPdJrhUzI6nYjdFrkmuNmJFUjK3ONbvzvLAkdo6/ToSR\nruMszqqzXOy5e6b6Mts3urkZ5dHMBD9lepuZNqdvpJp9v7HE2zRiOWDe8M6I818/nxrbV2344rSp\nun8QwhUdGnAlgtN9KcQ+kWZQiBmsNGiZGDCona+K4mwGoOH1crxWjiMNdx5uYmnR5un4D3FkB7Sw\nzAPm8LuKlQ+3fuQXTjx7U079di4AAAAASUVORK5CYII=\n",
      "text/latex": [
       "$$\\frac{3 \\gamma + 1}{\\gamma + 1}$$"
=======
      "application/javascript": [
       "/* Put everything inside the global mpl namespace */\n",
       "window.mpl = {};\n",
       "\n",
       "\n",
       "mpl.get_websocket_type = function() {\n",
       "    if (typeof(WebSocket) !== 'undefined') {\n",
       "        return WebSocket;\n",
       "    } else if (typeof(MozWebSocket) !== 'undefined') {\n",
       "        return MozWebSocket;\n",
       "    } else {\n",
       "        alert('Your browser does not have WebSocket support.' +\n",
       "              'Please try Chrome, Safari or Firefox ≥ 6. ' +\n",
       "              'Firefox 4 and 5 are also supported but you ' +\n",
       "              'have to enable WebSockets in about:config.');\n",
       "    };\n",
       "}\n",
       "\n",
       "mpl.figure = function(figure_id, websocket, ondownload, parent_element) {\n",
       "    this.id = figure_id;\n",
       "\n",
       "    this.ws = websocket;\n",
       "\n",
       "    this.supports_binary = (this.ws.binaryType != undefined);\n",
       "\n",
       "    if (!this.supports_binary) {\n",
       "        var warnings = document.getElementById(\"mpl-warnings\");\n",
       "        if (warnings) {\n",
       "            warnings.style.display = 'block';\n",
       "            warnings.textContent = (\n",
       "                \"This browser does not support binary websocket messages. \" +\n",
       "                    \"Performance may be slow.\");\n",
       "        }\n",
       "    }\n",
       "\n",
       "    this.imageObj = new Image();\n",
       "\n",
       "    this.context = undefined;\n",
       "    this.message = undefined;\n",
       "    this.canvas = undefined;\n",
       "    this.rubberband_canvas = undefined;\n",
       "    this.rubberband_context = undefined;\n",
       "    this.format_dropdown = undefined;\n",
       "\n",
       "    this.image_mode = 'full';\n",
       "\n",
       "    this.root = $('<div/>');\n",
       "    this._root_extra_style(this.root)\n",
       "    this.root.attr('style', 'display: inline-block');\n",
       "\n",
       "    $(parent_element).append(this.root);\n",
       "\n",
       "    this._init_header(this);\n",
       "    this._init_canvas(this);\n",
       "    this._init_toolbar(this);\n",
       "\n",
       "    var fig = this;\n",
       "\n",
       "    this.waiting = false;\n",
       "\n",
       "    this.ws.onopen =  function () {\n",
       "            fig.send_message(\"supports_binary\", {value: fig.supports_binary});\n",
       "            fig.send_message(\"send_image_mode\", {});\n",
       "            if (mpl.ratio != 1) {\n",
       "                fig.send_message(\"set_dpi_ratio\", {'dpi_ratio': mpl.ratio});\n",
       "            }\n",
       "            fig.send_message(\"refresh\", {});\n",
       "        }\n",
       "\n",
       "    this.imageObj.onload = function() {\n",
       "            if (fig.image_mode == 'full') {\n",
       "                // Full images could contain transparency (where diff images\n",
       "                // almost always do), so we need to clear the canvas so that\n",
       "                // there is no ghosting.\n",
       "                fig.context.clearRect(0, 0, fig.canvas.width, fig.canvas.height);\n",
       "            }\n",
       "            fig.context.drawImage(fig.imageObj, 0, 0);\n",
       "        };\n",
       "\n",
       "    this.imageObj.onunload = function() {\n",
       "        fig.ws.close();\n",
       "    }\n",
       "\n",
       "    this.ws.onmessage = this._make_on_message_function(this);\n",
       "\n",
       "    this.ondownload = ondownload;\n",
       "}\n",
       "\n",
       "mpl.figure.prototype._init_header = function() {\n",
       "    var titlebar = $(\n",
       "        '<div class=\"ui-dialog-titlebar ui-widget-header ui-corner-all ' +\n",
       "        'ui-helper-clearfix\"/>');\n",
       "    var titletext = $(\n",
       "        '<div class=\"ui-dialog-title\" style=\"width: 100%; ' +\n",
       "        'text-align: center; padding: 3px;\"/>');\n",
       "    titlebar.append(titletext)\n",
       "    this.root.append(titlebar);\n",
       "    this.header = titletext[0];\n",
       "}\n",
       "\n",
       "\n",
       "\n",
       "mpl.figure.prototype._canvas_extra_style = function(canvas_div) {\n",
       "\n",
       "}\n",
       "\n",
       "\n",
       "mpl.figure.prototype._root_extra_style = function(canvas_div) {\n",
       "\n",
       "}\n",
       "\n",
       "mpl.figure.prototype._init_canvas = function() {\n",
       "    var fig = this;\n",
       "\n",
       "    var canvas_div = $('<div/>');\n",
       "\n",
       "    canvas_div.attr('style', 'position: relative; clear: both; outline: 0');\n",
       "\n",
       "    function canvas_keyboard_event(event) {\n",
       "        return fig.key_event(event, event['data']);\n",
       "    }\n",
       "\n",
       "    canvas_div.keydown('key_press', canvas_keyboard_event);\n",
       "    canvas_div.keyup('key_release', canvas_keyboard_event);\n",
       "    this.canvas_div = canvas_div\n",
       "    this._canvas_extra_style(canvas_div)\n",
       "    this.root.append(canvas_div);\n",
       "\n",
       "    var canvas = $('<canvas/>');\n",
       "    canvas.addClass('mpl-canvas');\n",
       "    canvas.attr('style', \"left: 0; top: 0; z-index: 0; outline: 0\")\n",
       "\n",
       "    this.canvas = canvas[0];\n",
       "    this.context = canvas[0].getContext(\"2d\");\n",
       "\n",
       "    var backingStore = this.context.backingStorePixelRatio ||\n",
       "\tthis.context.webkitBackingStorePixelRatio ||\n",
       "\tthis.context.mozBackingStorePixelRatio ||\n",
       "\tthis.context.msBackingStorePixelRatio ||\n",
       "\tthis.context.oBackingStorePixelRatio ||\n",
       "\tthis.context.backingStorePixelRatio || 1;\n",
       "\n",
       "    mpl.ratio = (window.devicePixelRatio || 1) / backingStore;\n",
       "\n",
       "    var rubberband = $('<canvas/>');\n",
       "    rubberband.attr('style', \"position: absolute; left: 0; top: 0; z-index: 1;\")\n",
       "\n",
       "    var pass_mouse_events = true;\n",
       "\n",
       "    canvas_div.resizable({\n",
       "        start: function(event, ui) {\n",
       "            pass_mouse_events = false;\n",
       "        },\n",
       "        resize: function(event, ui) {\n",
       "            fig.request_resize(ui.size.width, ui.size.height);\n",
       "        },\n",
       "        stop: function(event, ui) {\n",
       "            pass_mouse_events = true;\n",
       "            fig.request_resize(ui.size.width, ui.size.height);\n",
       "        },\n",
       "    });\n",
       "\n",
       "    function mouse_event_fn(event) {\n",
       "        if (pass_mouse_events)\n",
       "            return fig.mouse_event(event, event['data']);\n",
       "    }\n",
       "\n",
       "    rubberband.mousedown('button_press', mouse_event_fn);\n",
       "    rubberband.mouseup('button_release', mouse_event_fn);\n",
       "    // Throttle sequential mouse events to 1 every 20ms.\n",
       "    rubberband.mousemove('motion_notify', mouse_event_fn);\n",
       "\n",
       "    rubberband.mouseenter('figure_enter', mouse_event_fn);\n",
       "    rubberband.mouseleave('figure_leave', mouse_event_fn);\n",
       "\n",
       "    canvas_div.on(\"wheel\", function (event) {\n",
       "        event = event.originalEvent;\n",
       "        event['data'] = 'scroll'\n",
       "        if (event.deltaY < 0) {\n",
       "            event.step = 1;\n",
       "        } else {\n",
       "            event.step = -1;\n",
       "        }\n",
       "        mouse_event_fn(event);\n",
       "    });\n",
       "\n",
       "    canvas_div.append(canvas);\n",
       "    canvas_div.append(rubberband);\n",
       "\n",
       "    this.rubberband = rubberband;\n",
       "    this.rubberband_canvas = rubberband[0];\n",
       "    this.rubberband_context = rubberband[0].getContext(\"2d\");\n",
       "    this.rubberband_context.strokeStyle = \"#000000\";\n",
       "\n",
       "    this._resize_canvas = function(width, height) {\n",
       "        // Keep the size of the canvas, canvas container, and rubber band\n",
       "        // canvas in synch.\n",
       "        canvas_div.css('width', width)\n",
       "        canvas_div.css('height', height)\n",
       "\n",
       "        canvas.attr('width', width * mpl.ratio);\n",
       "        canvas.attr('height', height * mpl.ratio);\n",
       "        canvas.attr('style', 'width: ' + width + 'px; height: ' + height + 'px;');\n",
       "\n",
       "        rubberband.attr('width', width);\n",
       "        rubberband.attr('height', height);\n",
       "    }\n",
       "\n",
       "    // Set the figure to an initial 600x600px, this will subsequently be updated\n",
       "    // upon first draw.\n",
       "    this._resize_canvas(600, 600);\n",
       "\n",
       "    // Disable right mouse context menu.\n",
       "    $(this.rubberband_canvas).bind(\"contextmenu\",function(e){\n",
       "        return false;\n",
       "    });\n",
       "\n",
       "    function set_focus () {\n",
       "        canvas.focus();\n",
       "        canvas_div.focus();\n",
       "    }\n",
       "\n",
       "    window.setTimeout(set_focus, 100);\n",
       "}\n",
       "\n",
       "mpl.figure.prototype._init_toolbar = function() {\n",
       "    var fig = this;\n",
       "\n",
       "    var nav_element = $('<div/>')\n",
       "    nav_element.attr('style', 'width: 100%');\n",
       "    this.root.append(nav_element);\n",
       "\n",
       "    // Define a callback function for later on.\n",
       "    function toolbar_event(event) {\n",
       "        return fig.toolbar_button_onclick(event['data']);\n",
       "    }\n",
       "    function toolbar_mouse_event(event) {\n",
       "        return fig.toolbar_button_onmouseover(event['data']);\n",
       "    }\n",
       "\n",
       "    for(var toolbar_ind in mpl.toolbar_items) {\n",
       "        var name = mpl.toolbar_items[toolbar_ind][0];\n",
       "        var tooltip = mpl.toolbar_items[toolbar_ind][1];\n",
       "        var image = mpl.toolbar_items[toolbar_ind][2];\n",
       "        var method_name = mpl.toolbar_items[toolbar_ind][3];\n",
       "\n",
       "        if (!name) {\n",
       "            // put a spacer in here.\n",
       "            continue;\n",
       "        }\n",
       "        var button = $('<button/>');\n",
       "        button.addClass('ui-button ui-widget ui-state-default ui-corner-all ' +\n",
       "                        'ui-button-icon-only');\n",
       "        button.attr('role', 'button');\n",
       "        button.attr('aria-disabled', 'false');\n",
       "        button.click(method_name, toolbar_event);\n",
       "        button.mouseover(tooltip, toolbar_mouse_event);\n",
       "\n",
       "        var icon_img = $('<span/>');\n",
       "        icon_img.addClass('ui-button-icon-primary ui-icon');\n",
       "        icon_img.addClass(image);\n",
       "        icon_img.addClass('ui-corner-all');\n",
       "\n",
       "        var tooltip_span = $('<span/>');\n",
       "        tooltip_span.addClass('ui-button-text');\n",
       "        tooltip_span.html(tooltip);\n",
       "\n",
       "        button.append(icon_img);\n",
       "        button.append(tooltip_span);\n",
       "\n",
       "        nav_element.append(button);\n",
       "    }\n",
       "\n",
       "    var fmt_picker_span = $('<span/>');\n",
       "\n",
       "    var fmt_picker = $('<select/>');\n",
       "    fmt_picker.addClass('mpl-toolbar-option ui-widget ui-widget-content');\n",
       "    fmt_picker_span.append(fmt_picker);\n",
       "    nav_element.append(fmt_picker_span);\n",
       "    this.format_dropdown = fmt_picker[0];\n",
       "\n",
       "    for (var ind in mpl.extensions) {\n",
       "        var fmt = mpl.extensions[ind];\n",
       "        var option = $(\n",
       "            '<option/>', {selected: fmt === mpl.default_extension}).html(fmt);\n",
       "        fmt_picker.append(option)\n",
       "    }\n",
       "\n",
       "    // Add hover states to the ui-buttons\n",
       "    $( \".ui-button\" ).hover(\n",
       "        function() { $(this).addClass(\"ui-state-hover\");},\n",
       "        function() { $(this).removeClass(\"ui-state-hover\");}\n",
       "    );\n",
       "\n",
       "    var status_bar = $('<span class=\"mpl-message\"/>');\n",
       "    nav_element.append(status_bar);\n",
       "    this.message = status_bar[0];\n",
       "}\n",
       "\n",
       "mpl.figure.prototype.request_resize = function(x_pixels, y_pixels) {\n",
       "    // Request matplotlib to resize the figure. Matplotlib will then trigger a resize in the client,\n",
       "    // which will in turn request a refresh of the image.\n",
       "    this.send_message('resize', {'width': x_pixels, 'height': y_pixels});\n",
       "}\n",
       "\n",
       "mpl.figure.prototype.send_message = function(type, properties) {\n",
       "    properties['type'] = type;\n",
       "    properties['figure_id'] = this.id;\n",
       "    this.ws.send(JSON.stringify(properties));\n",
       "}\n",
       "\n",
       "mpl.figure.prototype.send_draw_message = function() {\n",
       "    if (!this.waiting) {\n",
       "        this.waiting = true;\n",
       "        this.ws.send(JSON.stringify({type: \"draw\", figure_id: this.id}));\n",
       "    }\n",
       "}\n",
       "\n",
       "\n",
       "mpl.figure.prototype.handle_save = function(fig, msg) {\n",
       "    var format_dropdown = fig.format_dropdown;\n",
       "    var format = format_dropdown.options[format_dropdown.selectedIndex].value;\n",
       "    fig.ondownload(fig, format);\n",
       "}\n",
       "\n",
       "\n",
       "mpl.figure.prototype.handle_resize = function(fig, msg) {\n",
       "    var size = msg['size'];\n",
       "    if (size[0] != fig.canvas.width || size[1] != fig.canvas.height) {\n",
       "        fig._resize_canvas(size[0], size[1]);\n",
       "        fig.send_message(\"refresh\", {});\n",
       "    };\n",
       "}\n",
       "\n",
       "mpl.figure.prototype.handle_rubberband = function(fig, msg) {\n",
       "    var x0 = msg['x0'] / mpl.ratio;\n",
       "    var y0 = (fig.canvas.height - msg['y0']) / mpl.ratio;\n",
       "    var x1 = msg['x1'] / mpl.ratio;\n",
       "    var y1 = (fig.canvas.height - msg['y1']) / mpl.ratio;\n",
       "    x0 = Math.floor(x0) + 0.5;\n",
       "    y0 = Math.floor(y0) + 0.5;\n",
       "    x1 = Math.floor(x1) + 0.5;\n",
       "    y1 = Math.floor(y1) + 0.5;\n",
       "    var min_x = Math.min(x0, x1);\n",
       "    var min_y = Math.min(y0, y1);\n",
       "    var width = Math.abs(x1 - x0);\n",
       "    var height = Math.abs(y1 - y0);\n",
       "\n",
       "    fig.rubberband_context.clearRect(\n",
       "        0, 0, fig.canvas.width, fig.canvas.height);\n",
       "\n",
       "    fig.rubberband_context.strokeRect(min_x, min_y, width, height);\n",
       "}\n",
       "\n",
       "mpl.figure.prototype.handle_figure_label = function(fig, msg) {\n",
       "    // Updates the figure title.\n",
       "    fig.header.textContent = msg['label'];\n",
       "}\n",
       "\n",
       "mpl.figure.prototype.handle_cursor = function(fig, msg) {\n",
       "    var cursor = msg['cursor'];\n",
       "    switch(cursor)\n",
       "    {\n",
       "    case 0:\n",
       "        cursor = 'pointer';\n",
       "        break;\n",
       "    case 1:\n",
       "        cursor = 'default';\n",
       "        break;\n",
       "    case 2:\n",
       "        cursor = 'crosshair';\n",
       "        break;\n",
       "    case 3:\n",
       "        cursor = 'move';\n",
       "        break;\n",
       "    }\n",
       "    fig.rubberband_canvas.style.cursor = cursor;\n",
       "}\n",
       "\n",
       "mpl.figure.prototype.handle_message = function(fig, msg) {\n",
       "    fig.message.textContent = msg['message'];\n",
       "}\n",
       "\n",
       "mpl.figure.prototype.handle_draw = function(fig, msg) {\n",
       "    // Request the server to send over a new figure.\n",
       "    fig.send_draw_message();\n",
       "}\n",
       "\n",
       "mpl.figure.prototype.handle_image_mode = function(fig, msg) {\n",
       "    fig.image_mode = msg['mode'];\n",
       "}\n",
       "\n",
       "mpl.figure.prototype.updated_canvas_event = function() {\n",
       "    // Called whenever the canvas gets updated.\n",
       "    this.send_message(\"ack\", {});\n",
       "}\n",
       "\n",
       "// A function to construct a web socket function for onmessage handling.\n",
       "// Called in the figure constructor.\n",
       "mpl.figure.prototype._make_on_message_function = function(fig) {\n",
       "    return function socket_on_message(evt) {\n",
       "        if (evt.data instanceof Blob) {\n",
       "            /* FIXME: We get \"Resource interpreted as Image but\n",
       "             * transferred with MIME type text/plain:\" errors on\n",
       "             * Chrome.  But how to set the MIME type?  It doesn't seem\n",
       "             * to be part of the websocket stream */\n",
       "            evt.data.type = \"image/png\";\n",
       "\n",
       "            /* Free the memory for the previous frames */\n",
       "            if (fig.imageObj.src) {\n",
       "                (window.URL || window.webkitURL).revokeObjectURL(\n",
       "                    fig.imageObj.src);\n",
       "            }\n",
       "\n",
       "            fig.imageObj.src = (window.URL || window.webkitURL).createObjectURL(\n",
       "                evt.data);\n",
       "            fig.updated_canvas_event();\n",
       "            fig.waiting = false;\n",
       "            return;\n",
       "        }\n",
       "        else if (typeof evt.data === 'string' && evt.data.slice(0, 21) == \"data:image/png;base64\") {\n",
       "            fig.imageObj.src = evt.data;\n",
       "            fig.updated_canvas_event();\n",
       "            fig.waiting = false;\n",
       "            return;\n",
       "        }\n",
       "\n",
       "        var msg = JSON.parse(evt.data);\n",
       "        var msg_type = msg['type'];\n",
       "\n",
       "        // Call the  \"handle_{type}\" callback, which takes\n",
       "        // the figure and JSON message as its only arguments.\n",
       "        try {\n",
       "            var callback = fig[\"handle_\" + msg_type];\n",
       "        } catch (e) {\n",
       "            console.log(\"No handler for the '\" + msg_type + \"' message type: \", msg);\n",
       "            return;\n",
       "        }\n",
       "\n",
       "        if (callback) {\n",
       "            try {\n",
       "                // console.log(\"Handling '\" + msg_type + \"' message: \", msg);\n",
       "                callback(fig, msg);\n",
       "            } catch (e) {\n",
       "                console.log(\"Exception inside the 'handler_\" + msg_type + \"' callback:\", e, e.stack, msg);\n",
       "            }\n",
       "        }\n",
       "    };\n",
       "}\n",
       "\n",
       "// from http://stackoverflow.com/questions/1114465/getting-mouse-location-in-canvas\n",
       "mpl.findpos = function(e) {\n",
       "    //this section is from http://www.quirksmode.org/js/events_properties.html\n",
       "    var targ;\n",
       "    if (!e)\n",
       "        e = window.event;\n",
       "    if (e.target)\n",
       "        targ = e.target;\n",
       "    else if (e.srcElement)\n",
       "        targ = e.srcElement;\n",
       "    if (targ.nodeType == 3) // defeat Safari bug\n",
       "        targ = targ.parentNode;\n",
       "\n",
       "    // jQuery normalizes the pageX and pageY\n",
       "    // pageX,Y are the mouse positions relative to the document\n",
       "    // offset() returns the position of the element relative to the document\n",
       "    var x = e.pageX - $(targ).offset().left;\n",
       "    var y = e.pageY - $(targ).offset().top;\n",
       "\n",
       "    return {\"x\": x, \"y\": y};\n",
       "};\n",
       "\n",
       "/*\n",
       " * return a copy of an object with only non-object keys\n",
       " * we need this to avoid circular references\n",
       " * http://stackoverflow.com/a/24161582/3208463\n",
       " */\n",
       "function simpleKeys (original) {\n",
       "  return Object.keys(original).reduce(function (obj, key) {\n",
       "    if (typeof original[key] !== 'object')\n",
       "        obj[key] = original[key]\n",
       "    return obj;\n",
       "  }, {});\n",
       "}\n",
       "\n",
       "mpl.figure.prototype.mouse_event = function(event, name) {\n",
       "    var canvas_pos = mpl.findpos(event)\n",
       "\n",
       "    if (name === 'button_press')\n",
       "    {\n",
       "        this.canvas.focus();\n",
       "        this.canvas_div.focus();\n",
       "    }\n",
       "\n",
       "    var x = canvas_pos.x * mpl.ratio;\n",
       "    var y = canvas_pos.y * mpl.ratio;\n",
       "\n",
       "    this.send_message(name, {x: x, y: y, button: event.button,\n",
       "                             step: event.step,\n",
       "                             guiEvent: simpleKeys(event)});\n",
       "\n",
       "    /* This prevents the web browser from automatically changing to\n",
       "     * the text insertion cursor when the button is pressed.  We want\n",
       "     * to control all of the cursor setting manually through the\n",
       "     * 'cursor' event from matplotlib */\n",
       "    event.preventDefault();\n",
       "    return false;\n",
       "}\n",
       "\n",
       "mpl.figure.prototype._key_event_extra = function(event, name) {\n",
       "    // Handle any extra behaviour associated with a key event\n",
       "}\n",
       "\n",
       "mpl.figure.prototype.key_event = function(event, name) {\n",
       "\n",
       "    // Prevent repeat events\n",
       "    if (name == 'key_press')\n",
       "    {\n",
       "        if (event.which === this._key)\n",
       "            return;\n",
       "        else\n",
       "            this._key = event.which;\n",
       "    }\n",
       "    if (name == 'key_release')\n",
       "        this._key = null;\n",
       "\n",
       "    var value = '';\n",
       "    if (event.ctrlKey && event.which != 17)\n",
       "        value += \"ctrl+\";\n",
       "    if (event.altKey && event.which != 18)\n",
       "        value += \"alt+\";\n",
       "    if (event.shiftKey && event.which != 16)\n",
       "        value += \"shift+\";\n",
       "\n",
       "    value += 'k';\n",
       "    value += event.which.toString();\n",
       "\n",
       "    this._key_event_extra(event, name);\n",
       "\n",
       "    this.send_message(name, {key: value,\n",
       "                             guiEvent: simpleKeys(event)});\n",
       "    return false;\n",
       "}\n",
       "\n",
       "mpl.figure.prototype.toolbar_button_onclick = function(name) {\n",
       "    if (name == 'download') {\n",
       "        this.handle_save(this, null);\n",
       "    } else {\n",
       "        this.send_message(\"toolbar_button\", {name: name});\n",
       "    }\n",
       "};\n",
       "\n",
       "mpl.figure.prototype.toolbar_button_onmouseover = function(tooltip) {\n",
       "    this.message.textContent = tooltip;\n",
       "};\n",
       "mpl.toolbar_items = [[\"Home\", \"Reset original view\", \"fa fa-home icon-home\", \"home\"], [\"Back\", \"Back to  previous view\", \"fa fa-arrow-left icon-arrow-left\", \"back\"], [\"Forward\", \"Forward to next view\", \"fa fa-arrow-right icon-arrow-right\", \"forward\"], [\"\", \"\", \"\", \"\"], [\"Pan\", \"Pan axes with left mouse, zoom with right\", \"fa fa-arrows icon-move\", \"pan\"], [\"Zoom\", \"Zoom to rectangle\", \"fa fa-square-o icon-check-empty\", \"zoom\"], [\"\", \"\", \"\", \"\"], [\"Download\", \"Download plot\", \"fa fa-floppy-o icon-save\", \"download\"]];\n",
       "\n",
       "mpl.extensions = [\"eps\", \"pdf\", \"png\", \"ps\", \"raw\", \"svg\"];\n",
       "\n",
       "mpl.default_extension = \"png\";var comm_websocket_adapter = function(comm) {\n",
       "    // Create a \"websocket\"-like object which calls the given IPython comm\n",
       "    // object with the appropriate methods. Currently this is a non binary\n",
       "    // socket, so there is still some room for performance tuning.\n",
       "    var ws = {};\n",
       "\n",
       "    ws.close = function() {\n",
       "        comm.close()\n",
       "    };\n",
       "    ws.send = function(m) {\n",
       "        //console.log('sending', m);\n",
       "        comm.send(m);\n",
       "    };\n",
       "    // Register the callback with on_msg.\n",
       "    comm.on_msg(function(msg) {\n",
       "        //console.log('receiving', msg['content']['data'], msg);\n",
       "        // Pass the mpl event to the overriden (by mpl) onmessage function.\n",
       "        ws.onmessage(msg['content']['data'])\n",
       "    });\n",
       "    return ws;\n",
       "}\n",
       "\n",
       "mpl.mpl_figure_comm = function(comm, msg) {\n",
       "    // This is the function which gets called when the mpl process\n",
       "    // starts-up an IPython Comm through the \"matplotlib\" channel.\n",
       "\n",
       "    var id = msg.content.data.id;\n",
       "    // Get hold of the div created by the display call when the Comm\n",
       "    // socket was opened in Python.\n",
       "    var element = $(\"#\" + id);\n",
       "    var ws_proxy = comm_websocket_adapter(comm)\n",
       "\n",
       "    function ondownload(figure, format) {\n",
       "        window.open(figure.imageObj.src);\n",
       "    }\n",
       "\n",
       "    var fig = new mpl.figure(id, ws_proxy,\n",
       "                           ondownload,\n",
       "                           element.get(0));\n",
       "\n",
       "    // Call onopen now - mpl needs it, as it is assuming we've passed it a real\n",
       "    // web socket which is closed, not our websocket->open comm proxy.\n",
       "    ws_proxy.onopen();\n",
       "\n",
       "    fig.parent_element = element.get(0);\n",
       "    fig.cell_info = mpl.find_output_cell(\"<div id='\" + id + \"'></div>\");\n",
       "    if (!fig.cell_info) {\n",
       "        console.error(\"Failed to find cell for figure\", id, fig);\n",
       "        return;\n",
       "    }\n",
       "\n",
       "    var output_index = fig.cell_info[2]\n",
       "    var cell = fig.cell_info[0];\n",
       "\n",
       "};\n",
       "\n",
       "mpl.figure.prototype.handle_close = function(fig, msg) {\n",
       "    var width = fig.canvas.width/mpl.ratio\n",
       "    fig.root.unbind('remove')\n",
       "\n",
       "    // Update the output cell to use the data from the current canvas.\n",
       "    fig.push_to_output();\n",
       "    var dataURL = fig.canvas.toDataURL();\n",
       "    // Re-enable the keyboard manager in IPython - without this line, in FF,\n",
       "    // the notebook keyboard shortcuts fail.\n",
       "    IPython.keyboard_manager.enable()\n",
       "    $(fig.parent_element).html('<img src=\"' + dataURL + '\" width=\"' + width + '\">');\n",
       "    fig.close_ws(fig, msg);\n",
       "}\n",
       "\n",
       "mpl.figure.prototype.close_ws = function(fig, msg){\n",
       "    fig.send_message('closing', msg);\n",
       "    // fig.ws.close()\n",
       "}\n",
       "\n",
       "mpl.figure.prototype.push_to_output = function(remove_interactive) {\n",
       "    // Turn the data on the canvas into data in the output cell.\n",
       "    var width = this.canvas.width/mpl.ratio\n",
       "    var dataURL = this.canvas.toDataURL();\n",
       "    this.cell_info[1]['text/html'] = '<img src=\"' + dataURL + '\" width=\"' + width + '\">';\n",
       "}\n",
       "\n",
       "mpl.figure.prototype.updated_canvas_event = function() {\n",
       "    // Tell IPython that the notebook contents must change.\n",
       "    IPython.notebook.set_dirty(true);\n",
       "    this.send_message(\"ack\", {});\n",
       "    var fig = this;\n",
       "    // Wait a second, then push the new image to the DOM so\n",
       "    // that it is saved nicely (might be nice to debounce this).\n",
       "    setTimeout(function () { fig.push_to_output() }, 1000);\n",
       "}\n",
       "\n",
       "mpl.figure.prototype._init_toolbar = function() {\n",
       "    var fig = this;\n",
       "\n",
       "    var nav_element = $('<div/>')\n",
       "    nav_element.attr('style', 'width: 100%');\n",
       "    this.root.append(nav_element);\n",
       "\n",
       "    // Define a callback function for later on.\n",
       "    function toolbar_event(event) {\n",
       "        return fig.toolbar_button_onclick(event['data']);\n",
       "    }\n",
       "    function toolbar_mouse_event(event) {\n",
       "        return fig.toolbar_button_onmouseover(event['data']);\n",
       "    }\n",
       "\n",
       "    for(var toolbar_ind in mpl.toolbar_items){\n",
       "        var name = mpl.toolbar_items[toolbar_ind][0];\n",
       "        var tooltip = mpl.toolbar_items[toolbar_ind][1];\n",
       "        var image = mpl.toolbar_items[toolbar_ind][2];\n",
       "        var method_name = mpl.toolbar_items[toolbar_ind][3];\n",
       "\n",
       "        if (!name) { continue; };\n",
       "\n",
       "        var button = $('<button class=\"btn btn-default\" href=\"#\" title=\"' + name + '\"><i class=\"fa ' + image + ' fa-lg\"></i></button>');\n",
       "        button.click(method_name, toolbar_event);\n",
       "        button.mouseover(tooltip, toolbar_mouse_event);\n",
       "        nav_element.append(button);\n",
       "    }\n",
       "\n",
       "    // Add the status bar.\n",
       "    var status_bar = $('<span class=\"mpl-message\" style=\"text-align:right; float: right;\"/>');\n",
       "    nav_element.append(status_bar);\n",
       "    this.message = status_bar[0];\n",
       "\n",
       "    // Add the close button to the window.\n",
       "    var buttongrp = $('<div class=\"btn-group inline pull-right\"></div>');\n",
       "    var button = $('<button class=\"btn btn-mini btn-primary\" href=\"#\" title=\"Stop Interaction\"><i class=\"fa fa-power-off icon-remove icon-large\"></i></button>');\n",
       "    button.click(function (evt) { fig.handle_close(fig, {}); } );\n",
       "    button.mouseover('Stop Interaction', toolbar_mouse_event);\n",
       "    buttongrp.append(button);\n",
       "    var titlebar = this.root.find($('.ui-dialog-titlebar'));\n",
       "    titlebar.prepend(buttongrp);\n",
       "}\n",
       "\n",
       "mpl.figure.prototype._root_extra_style = function(el){\n",
       "    var fig = this\n",
       "    el.on(\"remove\", function(){\n",
       "\tfig.close_ws(fig, {});\n",
       "    });\n",
       "}\n",
       "\n",
       "mpl.figure.prototype._canvas_extra_style = function(el){\n",
       "    // this is important to make the div 'focusable\n",
       "    el.attr('tabindex', 0)\n",
       "    // reach out to IPython and tell the keyboard manager to turn it's self\n",
       "    // off when our div gets focus\n",
       "\n",
       "    // location in version 3\n",
       "    if (IPython.notebook.keyboard_manager) {\n",
       "        IPython.notebook.keyboard_manager.register_events(el);\n",
       "    }\n",
       "    else {\n",
       "        // location in version 2\n",
       "        IPython.keyboard_manager.register_events(el);\n",
       "    }\n",
       "\n",
       "}\n",
       "\n",
       "mpl.figure.prototype._key_event_extra = function(event, name) {\n",
       "    var manager = IPython.notebook.keyboard_manager;\n",
       "    if (!manager)\n",
       "        manager = IPython.keyboard_manager;\n",
       "\n",
       "    // Check for shift+enter\n",
       "    if (event.shiftKey && event.which == 13) {\n",
       "        this.canvas_div.blur();\n",
       "        event.shiftKey = false;\n",
       "        // Send a \"J\" for go to next cell\n",
       "        event.which = 74;\n",
       "        event.keyCode = 74;\n",
       "        manager.command_mode();\n",
       "        manager.handle_keydown(event);\n",
       "    }\n",
       "}\n",
       "\n",
       "mpl.figure.prototype.handle_save = function(fig, msg) {\n",
       "    fig.ondownload(fig, null);\n",
       "}\n",
       "\n",
       "\n",
       "mpl.find_output_cell = function(html_output) {\n",
       "    // Return the cell and output element which can be found *uniquely* in the notebook.\n",
       "    // Note - this is a bit hacky, but it is done because the \"notebook_saving.Notebook\"\n",
       "    // IPython event is triggered only after the cells have been serialised, which for\n",
       "    // our purposes (turning an active figure into a static one), is too late.\n",
       "    var cells = IPython.notebook.get_cells();\n",
       "    var ncells = cells.length;\n",
       "    for (var i=0; i<ncells; i++) {\n",
       "        var cell = cells[i];\n",
       "        if (cell.cell_type === 'code'){\n",
       "            for (var j=0; j<cell.output_area.outputs.length; j++) {\n",
       "                var data = cell.output_area.outputs[j];\n",
       "                if (data.data) {\n",
       "                    // IPython >= 3 moved mimebundle to data attribute of output\n",
       "                    data = data.data;\n",
       "                }\n",
       "                if (data['text/html'] == html_output) {\n",
       "                    return [cell, data, j];\n",
       "                }\n",
       "            }\n",
       "        }\n",
       "    }\n",
       "}\n",
       "\n",
       "// Register the function which deals with the matplotlib target/channel.\n",
       "// The kernel may be null if the page has been refreshed.\n",
       "if (IPython.notebook.kernel != null) {\n",
       "    IPython.notebook.kernel.comm_manager.register_target('matplotlib', mpl.mpl_figure_comm);\n",
       "}\n"
>>>>>>> c1ef407d75385e2c24f2d7fd79eb197bd0697f2c
      ],
      "text/plain": [
       "3⋅γ + 1\n",
       "───────\n",
       " γ + 1 "
      ]
     },
     "execution_count": 18,
     "metadata": {},
     "output_type": "execute_result"
    }
   ],
   "source": [
    "sympy.solve(asymptotic_mach_number-1,eta)[0]"
   ]
  },
  {
   "cell_type": "markdown",
   "metadata": {},
   "source": [
    "## Truncated solutions"
   ]
  },
  {
   "cell_type": "code",
   "execution_count": 26,
   "metadata": {},
   "outputs": [
    {
     "data": {
<<<<<<< HEAD
      "image/png": "iVBORw0KGgoAAAANSUhEUgAAAVUAAAA1BAMAAAADoWXzAAAAMFBMVEX///8AAAAAAAAAAAAAAAAA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\ncnpPme9v8s6R/ZbTX1jvIL2y/gfDBSkRjDnXNAAAAABJRU5ErkJggg==\n",
      "text/latex": [
       "$$\\rho{\\left (r \\right )} u{\\left (r \\right )} = \\frac{1}{r^{2}} \\left(\\frac{D R^{- \\eta + 3}}{- \\eta + 3} - \\frac{D r^{- \\eta + 3}}{- \\eta + 3}\\right)$$"
=======
      "text/html": [
       "<img src=\"data:image/png;base64,iVBORw0KGgoAAAANSUhEUgAAA8AAAALQCAYAAABfdxm0AAAKjklEQVR4nO3BMQEAAADCoPVP7W8GoAAAAAAAAAAAAAAAAAAAAAAAAAAAAAAAAAAAAAAAAAAAAAAAAAAAAAAAAAAAAAAAAAAAAAAAAAAAAAAAAAAAAAAAAAAAAAAAAAAAAAAAAAAAAAAAAAAAAAAAAAAAAAAAAAAAAAAAAAAAAAAAAAAAAAAAAAAAAAAAAAAAAAAAAAAAAAAAAAAAAAAAAAAAAAAAAAAAAAAAAAAAAAAAAAAAAAAAAAAAAAAAAAAAAAAAAAAAAAAAAAAAAAAAAAAAAAAAAAAAAAAAAAAAAAAAAAAAAAAAAAAAAAAAAAAAAAAAAAAAAAAAAAAAAAAAAAAAAAAAAAAAAAAAAAAAAAAAAAAAAAAAAAAAAAAAAAAAAAAAAAAAAAAAAAAAAAAAAAAAAAAAAAAAAAAAAAAAAAAAAAAAAAAAAAAAAAAAAAAAAAAAAAAAAAAAAAAAAAAAAAAAAAAAAAAAAAAAAAAAAAAAAAAAAAAAAAAAAAAAAAAAAAAAAAAAAAAAAAAAAAAAAAAAAAAAAAAAAAAAAAAAAAAAAAAAAAAAAAAAAAAAAAAAAAAAAAAAAAAAAAAAAAAAAAAAAAAAAAAAAAAAAAAAAAAAAAAAAAAAAAAAAAAAAAAAAAAAAAAAAAAAAAAAAAAAAAAAAAAAAAAAAAAAAAAAAAAAAAAAAAAAAAAAAAAAAAAAAAAAAAAAAAAAAAAAAAAAAAAAAAAAAAAAAAAAAAAAAAAAAAAAAAAAAAAAAAAAAAAAAAAAAAAAAAAAAAAAAAAAAAAAAAAAAAAAAAAAAAAAAAAAAAAAAAAAAAAAAAAAAAAAAAAAAAAAAAAAAAAAAAAAAAAAAAAAAAAAAAAAAAAAAAAAAAAAAAAAAAAAAAAAAAAAAAAAAAAAAAAAAAAAAAAAAAAAAAAAAAAAAAAAAAAAAAAAAAAAAAAAAAAAAAAAAAAAAAAAAAAAAAAAAAAAAAAAAAAAAAAAAAAAAAAAAAAAAAAAAAAAAAAAAAAAAAAAAAAAAAAAAAAAAAAAAAAAAAAAAAAAAAAAAAAAAAAAAAAAAAAAAAAAAAAAAAAAAAAAAAAAAAAAAAAAAAAAAAAAAAAAAAAAAAAAAAAAAAAAAAAAAAAAAAAAAAAAAAAAAAAAAAAAAAAAAAAAAAAAAAAAAAAAAAAAAAAAAAAAAAAAAAAAAAAAAAAAAAAAAAAAAAAAAAAAAAAAAAAAAAAAAAAAAAAAAAAAAAAAAAAAAAAAAAAAAAAAAAAAAAAAAAAAAAAAAAAAAAAAAAAAAAAAAAAAAAAAAAAAAAAAAAAAAAAAAAAAAAAAAAAAAAAAAAAAAAAAAAAAAAAAAAAAAAAAAAAAAAAAAAAAAAAAAAAAAAAAAAAAAAAAAAAAAAAAAAAAAAAAAAAAAAAAAAAAAAAAAAAAAAAAAAAAAAAAAAAAAAAAAAAAAAAAAAAAAAAAAAAAAAAAAAAAAAAAAAAAAAAAAAAAAAAAAAAAAAAAAAAAAAAAAAAAAAAAAAAAAAAAAAAAAAAAAAAAAAAAAAAAAAAAAAAAAAAAAAAAAAAAAAAAAAAAAAAAAAAAAAAAAAAAAAAAAAAAAAAAAAAAAAAAAAAAAAAAAAAAAAAAAAAAAAAAAAAAAAAAAAAAAAAAAAAAAAAAAAAAAAAAAAAAAAAAAAAAAAAAAAAAAAAAAAAAAAAAAAAAAAAAAAAAAAAAAAAAAAAAAAAAAAAAAAAAAAAAAAAAAAAAAAAAAAAAAAAAAAAAAAAAAAAAAAAAAAAAAAAAAAAAAAAAAAAAAAAAAAAAAAAAAAAAAAAAAAAAAAAAAAAAAAAAAAAAAAAAAAAAAAAAAAAAAAAAAAAAAAAAAAAAAAAAAAAAAAAAAAAAAAAAAAAAAAAAAAAAAAAAAAAAAAAAAAAAAAAAAAAAAAAAAAAAAAAAAAAAAAAAAAAAAAAAAAAAAAAAAAAAAAAAAAAAAAAAAAAAAAAAAAAAAAAAAAAAAAAAAAAAAAAAAAAAAAAAAAAAAAAAAAAAAAAAAAAAAAAAAAAAAAAAAAAAAAAAAAAAAAAAAAAAAAAAAAAAAAAAAAAAAAAAAAAAAAAAAAAAAAAAAAAAAAAAAAAAAAAAAAAAAAAAAAAAAAAAAAAAAAAAAAAAAAAAAAAAAAAAAAAAAAAAAAAAAAAAAAAAAAAAAAAAAAAAAAAAAAAAAAAAAAAAAAAAAAAAAAAAAAAAAAAAAAAAAAAAAAAAAAAAAAAAAAAAAAAAAAAAAAAAAAAAAAAAAAAAAAAAAAAAAAAAAAAAAAAAAAAAAAAAAAAAAAAAAAAAAAAAAAAAAAAAAAAAAAAAAAAAAAAAAAAAAAAAAAAAAAAAAAAAAAAAAAAAAAAAAAAAAAAAAAAAAAAAAAAAAAAAAAAAAAAAAAAAAAAAAAAAAAAAAAAAAAAAAAAAAAAAAAAAAAAAAAAAAAAAAAAAAAAAAAAAAAAAAAAAAAAAAAAAAAAAAAAAAAAAAAAAAAAAAAAAAAAAAAAAAAAAAAAAAAAAAAAAAAAAAAAAAAAAAAAAAAAAAAAAAAAAAAAAAAAAAAAAAAAAAAAAAAAAAAAAAAAAAAAAAAAAAAAAAAAAAAAAAAAAAAAAAAAAAAAAAAAAAAAAAAAAAAAAAAAAAAAAAAAAAAAAAAAAAAAAAAAAAAAAAAAAAAAAAAAAAAAAAAAAAAAAAAAAAAAAAAAAAAAAAAAAAAAAAAAAAAAAAAAAAAAAAAAAAAAAAAAAAAAAAAAAAAAAAAAAAAAAAAAAAAAAAAAAAAAAAAAAAAAAAAAAAAAAAAAAAAAAAAAAAAAAAAAAAAAAAAAAAAAAAAAAAAAAAAAAAAAAAAAAAAAAAAAAAAAAAAAAAAAAAAAAAAAAAAAAAAAAAAAAAAAAAAAAAAAAAAAAAAAAAAAAAAAAAAAAAAAAAAAAAAAAAAAAAAAAAAAAAAAAAAAAAAAAAAAAAAAAAAAAAAAAAAAAAAAAAAAAAAAAAAAAAAAAAAAAAAAAAAAAAAAAAAAAAAAAAAAAAAAAAAAAAAAAAAAAAAAAAAAAAAAAAAAAAAAAAAAAAAAAAAAAAAAAAAAAAAAAAAAAAAAAAAAAAAAAAAAAAAAAAAAAAAAAAAAAAAAAAAAAAAAAAAAAAAAAAAAAAAAAAAAAAAAAAAAAAAAAAAAAAAAAAAAAAAAAAAAAAAAAAAAAAAAAAAAAAAAAAAAAAAAAAAAAAAAAAAAAAAAAAAAAAAAAAAAAAAAAAAAAAAAAAAAAAAAAAAAAAAAAAAAAAAAAAAAAAAAAAAAAAAAAAAAAAAAAAAAAAAAAAAAAAAAAAAAAAAAAAAAAAAAAAAAAAAAAAAAAAAAAAAAAAAAAAAAAAAAAAAAAAAAAAAAAAAAAAAAAAAAAAAAAAAAAAAAAAAAAAAAAAAAAAAAAAAAAAAAAAAAAAAAAAAAAAAAAAAAAAAAAAAAAAAAAAAAAAAAAAAAAAAAAAAAAAAAAAAAAAAAAAAAAAAAAAAAAAAAAAAAAAAAAAAAAAAAAAAAAAAAAAAAAAAAAAAAAAAAAAAAAAAAAAAAAAAAAAAAAAAAAAAAAAAAAAAAAAAAAAAAAAAAAAAAAAIA3NUYAAd1QgUwAAAAASUVORK5CYII=\" width=\"640\">"
>>>>>>> c1ef407d75385e2c24f2d7fd79eb197bd0697f2c
      ],
      "text/plain": [
       "               -η + 3      -η + 3\n",
       "            D⋅R         D⋅r      \n",
       "            ───────── - ─────────\n",
       "              -η + 3      -η + 3 \n",
       "ρ(r)⋅u(r) = ─────────────────────\n",
       "                       2         \n",
       "                      r          "
      ]
     },
     "execution_count": 26,
     "metadata": {},
     "output_type": "execute_result"
    }
   ],
   "source": [
    "R = sympy.Symbol('R', positive=True) # Truncation radius\n",
    "temp = mass_source*r**2\n",
    "temp = temp.simplify()\n",
    "temp = temp.integrate(r, conds='none')\n",
    "temp = temp.subs(r,R)-temp\n",
    "dimensional_mass_conservation = sympy.Eq(rho(r)*u(r),temp/r**2)\n",
    "dimensional_mass_conservation"
   ]
  },
  {
   "cell_type": "code",
   "execution_count": null,
   "metadata": {
    "collapsed": true
   },
   "outputs": [],
   "source": [
    "temp = energy_conservation.rhs\n",
    "temp = temp.subs(q, mass_source)\n",
    "temp = temp.subs(sympy.solve(dimensional_mass_conservation,rho(r), dict=True)[0])\n",
    "temp.simplify().integrate(r, conds='none')"
   ]
  },
  {
   "cell_type": "code",
<<<<<<< HEAD
   "execution_count": 20,
   "metadata": {},
   "outputs": [
    {
     "ename": "KeyboardInterrupt",
=======
   "execution_count": 37,
   "metadata": {},
   "outputs": [
    {
     "name": "stderr",
     "output_type": "stream",
     "text": [
      "/usr/local/lib/python2.7/dist-packages/scipy/integrate/_ode.py:927: UserWarning: vode: Excess work done on this call. (Perhaps wrong MF.)\n",
      "  self.messages.get(istate, unexpected_istate_msg)))\n"
     ]
    },
    {
     "ename": "AssertionError",
>>>>>>> c1ef407d75385e2c24f2d7fd79eb197bd0697f2c
     "evalue": "",
     "output_type": "error",
     "traceback": [
      "\u001b[0;31m---------------------------------------------------------------------------\u001b[0m",
<<<<<<< HEAD
      "\u001b[0;31mKeyboardInterrupt\u001b[0m                         Traceback (most recent call last)",
      "\u001b[0;32m<ipython-input-20-c5e37fdfbce6>\u001b[0m in \u001b[0;36m<module>\u001b[0;34m()\u001b[0m\n\u001b[1;32m      5\u001b[0m \u001b[0;31m#sympy.integrate(temp.simplify(),r)\u001b[0m\u001b[0;34m\u001b[0m\u001b[0;34m\u001b[0m\u001b[0m\n\u001b[1;32m      6\u001b[0m \u001b[0mtemp\u001b[0m \u001b[0;34m=\u001b[0m \u001b[0msympy\u001b[0m\u001b[0;34m.\u001b[0m\u001b[0mexpand_power_base\u001b[0m\u001b[0;34m(\u001b[0m\u001b[0mtemp\u001b[0m\u001b[0;34m,\u001b[0m \u001b[0mforce\u001b[0m\u001b[0;34m=\u001b[0m\u001b[0;32mTrue\u001b[0m\u001b[0;34m)\u001b[0m\u001b[0;34m.\u001b[0m\u001b[0msimplify\u001b[0m\u001b[0;34m(\u001b[0m\u001b[0;34m)\u001b[0m\u001b[0;34m\u001b[0m\u001b[0m\n\u001b[0;32m----> 7\u001b[0;31m \u001b[0mtemp\u001b[0m\u001b[0;34m.\u001b[0m\u001b[0mintegrate\u001b[0m\u001b[0;34m(\u001b[0m\u001b[0mr\u001b[0m\u001b[0;34m,\u001b[0m\u001b[0mconds\u001b[0m\u001b[0;34m=\u001b[0m\u001b[0;34m'none'\u001b[0m\u001b[0;34m)\u001b[0m\u001b[0;34m\u001b[0m\u001b[0m\n\u001b[0m",
      "\u001b[0;32m/home/ayalin/anaconda3/lib/python3.6/site-packages/sympy/core/expr.py\u001b[0m in \u001b[0;36mintegrate\u001b[0;34m(self, *args, **kwargs)\u001b[0m\n\u001b[1;32m   3087\u001b[0m         \u001b[0;34m\"\"\"See the integrate function in sympy.integrals\"\"\"\u001b[0m\u001b[0;34m\u001b[0m\u001b[0m\n\u001b[1;32m   3088\u001b[0m         \u001b[0;32mfrom\u001b[0m \u001b[0msympy\u001b[0m\u001b[0;34m.\u001b[0m\u001b[0mintegrals\u001b[0m \u001b[0;32mimport\u001b[0m \u001b[0mintegrate\u001b[0m\u001b[0;34m\u001b[0m\u001b[0m\n\u001b[0;32m-> 3089\u001b[0;31m         \u001b[0;32mreturn\u001b[0m \u001b[0mintegrate\u001b[0m\u001b[0;34m(\u001b[0m\u001b[0mself\u001b[0m\u001b[0;34m,\u001b[0m \u001b[0;34m*\u001b[0m\u001b[0margs\u001b[0m\u001b[0;34m,\u001b[0m \u001b[0;34m**\u001b[0m\u001b[0mkwargs\u001b[0m\u001b[0;34m)\u001b[0m\u001b[0;34m\u001b[0m\u001b[0m\n\u001b[0m\u001b[1;32m   3090\u001b[0m \u001b[0;34m\u001b[0m\u001b[0m\n\u001b[1;32m   3091\u001b[0m     \u001b[0;32mdef\u001b[0m \u001b[0msimplify\u001b[0m\u001b[0;34m(\u001b[0m\u001b[0mself\u001b[0m\u001b[0;34m,\u001b[0m \u001b[0mratio\u001b[0m\u001b[0;34m=\u001b[0m\u001b[0;36m1.7\u001b[0m\u001b[0;34m,\u001b[0m \u001b[0mmeasure\u001b[0m\u001b[0;34m=\u001b[0m\u001b[0;32mNone\u001b[0m\u001b[0;34m)\u001b[0m\u001b[0;34m:\u001b[0m\u001b[0;34m\u001b[0m\u001b[0m\n",
      "\u001b[0;32m/home/ayalin/anaconda3/lib/python3.6/site-packages/sympy/integrals/integrals.py\u001b[0m in \u001b[0;36mintegrate\u001b[0;34m(*args, **kwargs)\u001b[0m\n\u001b[1;32m   1293\u001b[0m     \u001b[0;32mif\u001b[0m \u001b[0misinstance\u001b[0m\u001b[0;34m(\u001b[0m\u001b[0mintegral\u001b[0m\u001b[0;34m,\u001b[0m \u001b[0mIntegral\u001b[0m\u001b[0;34m)\u001b[0m\u001b[0;34m:\u001b[0m\u001b[0;34m\u001b[0m\u001b[0m\n\u001b[1;32m   1294\u001b[0m         return integral.doit(deep=False, meijerg=meijerg, conds=conds,\n\u001b[0;32m-> 1295\u001b[0;31m                              risch=risch, manual=manual)\n\u001b[0m\u001b[1;32m   1296\u001b[0m     \u001b[0;32melse\u001b[0m\u001b[0;34m:\u001b[0m\u001b[0;34m\u001b[0m\u001b[0m\n\u001b[1;32m   1297\u001b[0m         \u001b[0;32mreturn\u001b[0m \u001b[0mintegral\u001b[0m\u001b[0;34m\u001b[0m\u001b[0m\n",
      "\u001b[0;32m/home/ayalin/anaconda3/lib/python3.6/site-packages/sympy/integrals/integrals.py\u001b[0m in \u001b[0;36mdoit\u001b[0;34m(self, **hints)\u001b[0m\n\u001b[1;32m    484\u001b[0m                     \u001b[0mfunction\u001b[0m\u001b[0;34m,\u001b[0m \u001b[0mxab\u001b[0m\u001b[0;34m[\u001b[0m\u001b[0;36m0\u001b[0m\u001b[0;34m]\u001b[0m\u001b[0;34m,\u001b[0m\u001b[0;34m\u001b[0m\u001b[0m\n\u001b[1;32m    485\u001b[0m                     \u001b[0mmeijerg\u001b[0m\u001b[0;34m=\u001b[0m\u001b[0mmeijerg1\u001b[0m\u001b[0;34m,\u001b[0m \u001b[0mrisch\u001b[0m\u001b[0;34m=\u001b[0m\u001b[0mrisch\u001b[0m\u001b[0;34m,\u001b[0m \u001b[0mmanual\u001b[0m\u001b[0;34m=\u001b[0m\u001b[0mmanual\u001b[0m\u001b[0;34m,\u001b[0m\u001b[0;34m\u001b[0m\u001b[0m\n\u001b[0;32m--> 486\u001b[0;31m                     conds=conds)\n\u001b[0m\u001b[1;32m    487\u001b[0m                 \u001b[0;32mif\u001b[0m \u001b[0mantideriv\u001b[0m \u001b[0;32mis\u001b[0m \u001b[0;32mNone\u001b[0m \u001b[0;32mand\u001b[0m \u001b[0mmeijerg1\u001b[0m \u001b[0;32mis\u001b[0m \u001b[0;32mTrue\u001b[0m\u001b[0;34m:\u001b[0m\u001b[0;34m\u001b[0m\u001b[0m\n\u001b[1;32m    488\u001b[0m                     \u001b[0mret\u001b[0m \u001b[0;34m=\u001b[0m \u001b[0mtry_meijerg\u001b[0m\u001b[0;34m(\u001b[0m\u001b[0mfunction\u001b[0m\u001b[0;34m,\u001b[0m \u001b[0mxab\u001b[0m\u001b[0;34m)\u001b[0m\u001b[0;34m\u001b[0m\u001b[0m\n",
      "\u001b[0;32m/home/ayalin/anaconda3/lib/python3.6/site-packages/sympy/integrals/integrals.py\u001b[0m in \u001b[0;36m_eval_integral\u001b[0;34m(self, f, x, meijerg, risch, manual, conds)\u001b[0m\n\u001b[1;32m    894\u001b[0m                         \u001b[0mh\u001b[0m \u001b[0;34m=\u001b[0m \u001b[0mheurisch_wrapper\u001b[0m\u001b[0;34m(\u001b[0m\u001b[0mg\u001b[0m\u001b[0;34m,\u001b[0m \u001b[0mx\u001b[0m\u001b[0;34m,\u001b[0m \u001b[0mhints\u001b[0m\u001b[0;34m=\u001b[0m\u001b[0;34m[\u001b[0m\u001b[0;34m]\u001b[0m\u001b[0;34m)\u001b[0m\u001b[0;34m\u001b[0m\u001b[0m\n\u001b[1;32m    895\u001b[0m                     \u001b[0;32melse\u001b[0m\u001b[0;34m:\u001b[0m\u001b[0;34m\u001b[0m\u001b[0m\n\u001b[0;32m--> 896\u001b[0;31m                         \u001b[0mh\u001b[0m \u001b[0;34m=\u001b[0m \u001b[0mheurisch\u001b[0m\u001b[0;34m(\u001b[0m\u001b[0mg\u001b[0m\u001b[0;34m,\u001b[0m \u001b[0mx\u001b[0m\u001b[0;34m,\u001b[0m \u001b[0mhints\u001b[0m\u001b[0;34m=\u001b[0m\u001b[0;34m[\u001b[0m\u001b[0;34m]\u001b[0m\u001b[0;34m)\u001b[0m\u001b[0;34m\u001b[0m\u001b[0m\n\u001b[0m\u001b[1;32m    897\u001b[0m                 \u001b[0;32mexcept\u001b[0m \u001b[0mPolynomialError\u001b[0m\u001b[0;34m:\u001b[0m\u001b[0;34m\u001b[0m\u001b[0m\n\u001b[1;32m    898\u001b[0m                     \u001b[0;31m# XXX: this exception means there is a bug in the\u001b[0m\u001b[0;34m\u001b[0m\u001b[0;34m\u001b[0m\u001b[0m\n",
      "\u001b[0;32m/home/ayalin/anaconda3/lib/python3.6/site-packages/sympy/integrals/heurisch.py\u001b[0m in \u001b[0;36mheurisch\u001b[0;34m(f, x, rewrite, hints, mappings, retries, degree_offset, unnecessary_permutations)\u001b[0m\n\u001b[1;32m    661\u001b[0m             \u001b[0msolution\u001b[0m \u001b[0;34m=\u001b[0m \u001b[0m_integrate\u001b[0m\u001b[0;34m(\u001b[0m\u001b[0;34m)\u001b[0m\u001b[0;34m\u001b[0m\u001b[0m\n\u001b[1;32m    662\u001b[0m     \u001b[0;32melse\u001b[0m\u001b[0;34m:\u001b[0m\u001b[0;34m\u001b[0m\u001b[0m\n\u001b[0;32m--> 663\u001b[0;31m         \u001b[0msolution\u001b[0m \u001b[0;34m=\u001b[0m \u001b[0m_integrate\u001b[0m\u001b[0;34m(\u001b[0m\u001b[0;34m)\u001b[0m\u001b[0;34m\u001b[0m\u001b[0m\n\u001b[0m\u001b[1;32m    664\u001b[0m \u001b[0;34m\u001b[0m\u001b[0m\n\u001b[1;32m    665\u001b[0m     \u001b[0;32mif\u001b[0m \u001b[0msolution\u001b[0m \u001b[0;32mis\u001b[0m \u001b[0;32mnot\u001b[0m \u001b[0;32mNone\u001b[0m\u001b[0;34m:\u001b[0m\u001b[0;34m\u001b[0m\u001b[0m\n",
      "\u001b[0;32m/home/ayalin/anaconda3/lib/python3.6/site-packages/sympy/integrals/heurisch.py\u001b[0m in \u001b[0;36m_integrate\u001b[0;34m(field)\u001b[0m\n\u001b[1;32m    635\u001b[0m \u001b[0;34m\u001b[0m\u001b[0m\n\u001b[1;32m    636\u001b[0m         \u001b[0;32mtry\u001b[0m\u001b[0;34m:\u001b[0m\u001b[0;34m\u001b[0m\u001b[0m\n\u001b[0;32m--> 637\u001b[0;31m             \u001b[0mfind_non_syms\u001b[0m\u001b[0;34m(\u001b[0m\u001b[0mraw_numer\u001b[0m\u001b[0;34m)\u001b[0m\u001b[0;34m\u001b[0m\u001b[0m\n\u001b[0m\u001b[1;32m    638\u001b[0m         \u001b[0;32mexcept\u001b[0m \u001b[0mPolynomialError\u001b[0m\u001b[0;34m:\u001b[0m\u001b[0;34m\u001b[0m\u001b[0m\n\u001b[1;32m    639\u001b[0m             \u001b[0;32mreturn\u001b[0m \u001b[0;32mNone\u001b[0m\u001b[0;34m\u001b[0m\u001b[0m\n",
      "\u001b[0;32m/home/ayalin/anaconda3/lib/python3.6/site-packages/sympy/integrals/heurisch.py\u001b[0m in \u001b[0;36mfind_non_syms\u001b[0;34m(expr)\u001b[0m\n\u001b[1;32m    628\u001b[0m                 \u001b[0mnon_syms\u001b[0m\u001b[0;34m.\u001b[0m\u001b[0madd\u001b[0m\u001b[0;34m(\u001b[0m\u001b[0mexpr\u001b[0m\u001b[0;34m)\u001b[0m\u001b[0;34m\u001b[0m\u001b[0m\n\u001b[1;32m    629\u001b[0m             \u001b[0;32melif\u001b[0m \u001b[0mexpr\u001b[0m\u001b[0;34m.\u001b[0m\u001b[0mis_Add\u001b[0m \u001b[0;32mor\u001b[0m \u001b[0mexpr\u001b[0m\u001b[0;34m.\u001b[0m\u001b[0mis_Mul\u001b[0m \u001b[0;32mor\u001b[0m \u001b[0mexpr\u001b[0m\u001b[0;34m.\u001b[0m\u001b[0mis_Pow\u001b[0m\u001b[0;34m:\u001b[0m\u001b[0;34m\u001b[0m\u001b[0m\n\u001b[0;32m--> 630\u001b[0;31m                 \u001b[0mlist\u001b[0m\u001b[0;34m(\u001b[0m\u001b[0mmap\u001b[0m\u001b[0;34m(\u001b[0m\u001b[0mfind_non_syms\u001b[0m\u001b[0;34m,\u001b[0m \u001b[0mexpr\u001b[0m\u001b[0;34m.\u001b[0m\u001b[0margs\u001b[0m\u001b[0;34m)\u001b[0m\u001b[0;34m)\u001b[0m\u001b[0;34m\u001b[0m\u001b[0m\n\u001b[0m\u001b[1;32m    631\u001b[0m             \u001b[0;32melse\u001b[0m\u001b[0;34m:\u001b[0m\u001b[0;34m\u001b[0m\u001b[0m\n\u001b[1;32m    632\u001b[0m                 \u001b[0;31m# TODO: Non-polynomial expression. This should have been\u001b[0m\u001b[0;34m\u001b[0m\u001b[0;34m\u001b[0m\u001b[0m\n",
      "\u001b[0;32m/home/ayalin/anaconda3/lib/python3.6/site-packages/sympy/integrals/heurisch.py\u001b[0m in \u001b[0;36mfind_non_syms\u001b[0;34m(expr)\u001b[0m\n\u001b[1;32m    628\u001b[0m                 \u001b[0mnon_syms\u001b[0m\u001b[0;34m.\u001b[0m\u001b[0madd\u001b[0m\u001b[0;34m(\u001b[0m\u001b[0mexpr\u001b[0m\u001b[0;34m)\u001b[0m\u001b[0;34m\u001b[0m\u001b[0m\n\u001b[1;32m    629\u001b[0m             \u001b[0;32melif\u001b[0m \u001b[0mexpr\u001b[0m\u001b[0;34m.\u001b[0m\u001b[0mis_Add\u001b[0m \u001b[0;32mor\u001b[0m \u001b[0mexpr\u001b[0m\u001b[0;34m.\u001b[0m\u001b[0mis_Mul\u001b[0m \u001b[0;32mor\u001b[0m \u001b[0mexpr\u001b[0m\u001b[0;34m.\u001b[0m\u001b[0mis_Pow\u001b[0m\u001b[0;34m:\u001b[0m\u001b[0;34m\u001b[0m\u001b[0m\n\u001b[0;32m--> 630\u001b[0;31m                 \u001b[0mlist\u001b[0m\u001b[0;34m(\u001b[0m\u001b[0mmap\u001b[0m\u001b[0;34m(\u001b[0m\u001b[0mfind_non_syms\u001b[0m\u001b[0;34m,\u001b[0m \u001b[0mexpr\u001b[0m\u001b[0;34m.\u001b[0m\u001b[0margs\u001b[0m\u001b[0;34m)\u001b[0m\u001b[0;34m)\u001b[0m\u001b[0;34m\u001b[0m\u001b[0m\n\u001b[0m\u001b[1;32m    631\u001b[0m             \u001b[0;32melse\u001b[0m\u001b[0;34m:\u001b[0m\u001b[0;34m\u001b[0m\u001b[0m\n\u001b[1;32m    632\u001b[0m                 \u001b[0;31m# TODO: Non-polynomial expression. This should have been\u001b[0m\u001b[0;34m\u001b[0m\u001b[0;34m\u001b[0m\u001b[0m\n",
      "\u001b[0;32m/home/ayalin/anaconda3/lib/python3.6/site-packages/sympy/integrals/heurisch.py\u001b[0m in \u001b[0;36mfind_non_syms\u001b[0;34m(expr)\u001b[0m\n\u001b[1;32m    628\u001b[0m                 \u001b[0mnon_syms\u001b[0m\u001b[0;34m.\u001b[0m\u001b[0madd\u001b[0m\u001b[0;34m(\u001b[0m\u001b[0mexpr\u001b[0m\u001b[0;34m)\u001b[0m\u001b[0;34m\u001b[0m\u001b[0m\n\u001b[1;32m    629\u001b[0m             \u001b[0;32melif\u001b[0m \u001b[0mexpr\u001b[0m\u001b[0;34m.\u001b[0m\u001b[0mis_Add\u001b[0m \u001b[0;32mor\u001b[0m \u001b[0mexpr\u001b[0m\u001b[0;34m.\u001b[0m\u001b[0mis_Mul\u001b[0m \u001b[0;32mor\u001b[0m \u001b[0mexpr\u001b[0m\u001b[0;34m.\u001b[0m\u001b[0mis_Pow\u001b[0m\u001b[0;34m:\u001b[0m\u001b[0;34m\u001b[0m\u001b[0m\n\u001b[0;32m--> 630\u001b[0;31m                 \u001b[0mlist\u001b[0m\u001b[0;34m(\u001b[0m\u001b[0mmap\u001b[0m\u001b[0;34m(\u001b[0m\u001b[0mfind_non_syms\u001b[0m\u001b[0;34m,\u001b[0m \u001b[0mexpr\u001b[0m\u001b[0;34m.\u001b[0m\u001b[0margs\u001b[0m\u001b[0;34m)\u001b[0m\u001b[0;34m)\u001b[0m\u001b[0;34m\u001b[0m\u001b[0m\n\u001b[0m\u001b[1;32m    631\u001b[0m             \u001b[0;32melse\u001b[0m\u001b[0;34m:\u001b[0m\u001b[0;34m\u001b[0m\u001b[0m\n\u001b[1;32m    632\u001b[0m                 \u001b[0;31m# TODO: Non-polynomial expression. This should have been\u001b[0m\u001b[0;34m\u001b[0m\u001b[0;34m\u001b[0m\u001b[0m\n",
      "\u001b[0;32m/home/ayalin/anaconda3/lib/python3.6/site-packages/sympy/integrals/heurisch.py\u001b[0m in \u001b[0;36mfind_non_syms\u001b[0;34m(expr)\u001b[0m\n\u001b[1;32m    628\u001b[0m                 \u001b[0mnon_syms\u001b[0m\u001b[0;34m.\u001b[0m\u001b[0madd\u001b[0m\u001b[0;34m(\u001b[0m\u001b[0mexpr\u001b[0m\u001b[0;34m)\u001b[0m\u001b[0;34m\u001b[0m\u001b[0m\n\u001b[1;32m    629\u001b[0m             \u001b[0;32melif\u001b[0m \u001b[0mexpr\u001b[0m\u001b[0;34m.\u001b[0m\u001b[0mis_Add\u001b[0m \u001b[0;32mor\u001b[0m \u001b[0mexpr\u001b[0m\u001b[0;34m.\u001b[0m\u001b[0mis_Mul\u001b[0m \u001b[0;32mor\u001b[0m \u001b[0mexpr\u001b[0m\u001b[0;34m.\u001b[0m\u001b[0mis_Pow\u001b[0m\u001b[0;34m:\u001b[0m\u001b[0;34m\u001b[0m\u001b[0m\n\u001b[0;32m--> 630\u001b[0;31m                 \u001b[0mlist\u001b[0m\u001b[0;34m(\u001b[0m\u001b[0mmap\u001b[0m\u001b[0;34m(\u001b[0m\u001b[0mfind_non_syms\u001b[0m\u001b[0;34m,\u001b[0m \u001b[0mexpr\u001b[0m\u001b[0;34m.\u001b[0m\u001b[0margs\u001b[0m\u001b[0;34m)\u001b[0m\u001b[0;34m)\u001b[0m\u001b[0;34m\u001b[0m\u001b[0m\n\u001b[0m\u001b[1;32m    631\u001b[0m             \u001b[0;32melse\u001b[0m\u001b[0;34m:\u001b[0m\u001b[0;34m\u001b[0m\u001b[0m\n\u001b[1;32m    632\u001b[0m                 \u001b[0;31m# TODO: Non-polynomial expression. This should have been\u001b[0m\u001b[0;34m\u001b[0m\u001b[0;34m\u001b[0m\u001b[0m\n",
      "\u001b[0;32m/home/ayalin/anaconda3/lib/python3.6/site-packages/sympy/integrals/heurisch.py\u001b[0m in \u001b[0;36mfind_non_syms\u001b[0;34m(expr)\u001b[0m\n\u001b[1;32m    628\u001b[0m                 \u001b[0mnon_syms\u001b[0m\u001b[0;34m.\u001b[0m\u001b[0madd\u001b[0m\u001b[0;34m(\u001b[0m\u001b[0mexpr\u001b[0m\u001b[0;34m)\u001b[0m\u001b[0;34m\u001b[0m\u001b[0m\n\u001b[1;32m    629\u001b[0m             \u001b[0;32melif\u001b[0m \u001b[0mexpr\u001b[0m\u001b[0;34m.\u001b[0m\u001b[0mis_Add\u001b[0m \u001b[0;32mor\u001b[0m \u001b[0mexpr\u001b[0m\u001b[0;34m.\u001b[0m\u001b[0mis_Mul\u001b[0m \u001b[0;32mor\u001b[0m \u001b[0mexpr\u001b[0m\u001b[0;34m.\u001b[0m\u001b[0mis_Pow\u001b[0m\u001b[0;34m:\u001b[0m\u001b[0;34m\u001b[0m\u001b[0m\n\u001b[0;32m--> 630\u001b[0;31m                 \u001b[0mlist\u001b[0m\u001b[0;34m(\u001b[0m\u001b[0mmap\u001b[0m\u001b[0;34m(\u001b[0m\u001b[0mfind_non_syms\u001b[0m\u001b[0;34m,\u001b[0m \u001b[0mexpr\u001b[0m\u001b[0;34m.\u001b[0m\u001b[0margs\u001b[0m\u001b[0;34m)\u001b[0m\u001b[0;34m)\u001b[0m\u001b[0;34m\u001b[0m\u001b[0m\n\u001b[0m\u001b[1;32m    631\u001b[0m             \u001b[0;32melse\u001b[0m\u001b[0;34m:\u001b[0m\u001b[0;34m\u001b[0m\u001b[0m\n\u001b[1;32m    632\u001b[0m                 \u001b[0;31m# TODO: Non-polynomial expression. This should have been\u001b[0m\u001b[0;34m\u001b[0m\u001b[0;34m\u001b[0m\u001b[0m\n",
      "\u001b[0;32m/home/ayalin/anaconda3/lib/python3.6/site-packages/sympy/integrals/heurisch.py\u001b[0m in \u001b[0;36mfind_non_syms\u001b[0;34m(expr)\u001b[0m\n\u001b[1;32m    625\u001b[0m             \u001b[0;32melif\u001b[0m \u001b[0mexpr\u001b[0m \u001b[0;32min\u001b[0m \u001b[0msyms\u001b[0m\u001b[0;34m:\u001b[0m\u001b[0;34m\u001b[0m\u001b[0m\n\u001b[1;32m    626\u001b[0m                 \u001b[0;32mpass\u001b[0m \u001b[0;31m# ignore variables\u001b[0m\u001b[0;34m\u001b[0m\u001b[0m\n\u001b[0;32m--> 627\u001b[0;31m             \u001b[0;32melif\u001b[0m \u001b[0;32mnot\u001b[0m \u001b[0mexpr\u001b[0m\u001b[0;34m.\u001b[0m\u001b[0mhas\u001b[0m\u001b[0;34m(\u001b[0m\u001b[0;34m*\u001b[0m\u001b[0msyms\u001b[0m\u001b[0;34m)\u001b[0m\u001b[0;34m:\u001b[0m\u001b[0;34m\u001b[0m\u001b[0m\n\u001b[0m\u001b[1;32m    628\u001b[0m                 \u001b[0mnon_syms\u001b[0m\u001b[0;34m.\u001b[0m\u001b[0madd\u001b[0m\u001b[0;34m(\u001b[0m\u001b[0mexpr\u001b[0m\u001b[0;34m)\u001b[0m\u001b[0;34m\u001b[0m\u001b[0m\n\u001b[1;32m    629\u001b[0m             \u001b[0;32melif\u001b[0m \u001b[0mexpr\u001b[0m\u001b[0;34m.\u001b[0m\u001b[0mis_Add\u001b[0m \u001b[0;32mor\u001b[0m \u001b[0mexpr\u001b[0m\u001b[0;34m.\u001b[0m\u001b[0mis_Mul\u001b[0m \u001b[0;32mor\u001b[0m \u001b[0mexpr\u001b[0m\u001b[0;34m.\u001b[0m\u001b[0mis_Pow\u001b[0m\u001b[0;34m:\u001b[0m\u001b[0;34m\u001b[0m\u001b[0m\n",
      "\u001b[0;32m/home/ayalin/anaconda3/lib/python3.6/site-packages/sympy/core/basic.py\u001b[0m in \u001b[0;36mhas\u001b[0;34m(self, *patterns)\u001b[0m\n\u001b[1;32m   1170\u001b[0m \u001b[0;34m\u001b[0m\u001b[0m\n\u001b[1;32m   1171\u001b[0m         \"\"\"\n\u001b[0;32m-> 1172\u001b[0;31m         \u001b[0;32mreturn\u001b[0m \u001b[0many\u001b[0m\u001b[0;34m(\u001b[0m\u001b[0mself\u001b[0m\u001b[0;34m.\u001b[0m\u001b[0m_has\u001b[0m\u001b[0;34m(\u001b[0m\u001b[0mpattern\u001b[0m\u001b[0;34m)\u001b[0m \u001b[0;32mfor\u001b[0m \u001b[0mpattern\u001b[0m \u001b[0;32min\u001b[0m \u001b[0mpatterns\u001b[0m\u001b[0;34m)\u001b[0m\u001b[0;34m\u001b[0m\u001b[0m\n\u001b[0m\u001b[1;32m   1173\u001b[0m \u001b[0;34m\u001b[0m\u001b[0m\n\u001b[1;32m   1174\u001b[0m     \u001b[0;32mdef\u001b[0m \u001b[0m_has\u001b[0m\u001b[0;34m(\u001b[0m\u001b[0mself\u001b[0m\u001b[0;34m,\u001b[0m \u001b[0mpattern\u001b[0m\u001b[0;34m)\u001b[0m\u001b[0;34m:\u001b[0m\u001b[0;34m\u001b[0m\u001b[0m\n",
      "\u001b[0;32m/home/ayalin/anaconda3/lib/python3.6/site-packages/sympy/core/basic.py\u001b[0m in \u001b[0;36m<genexpr>\u001b[0;34m(.0)\u001b[0m\n\u001b[1;32m   1170\u001b[0m \u001b[0;34m\u001b[0m\u001b[0m\n\u001b[1;32m   1171\u001b[0m         \"\"\"\n\u001b[0;32m-> 1172\u001b[0;31m         \u001b[0;32mreturn\u001b[0m \u001b[0many\u001b[0m\u001b[0;34m(\u001b[0m\u001b[0mself\u001b[0m\u001b[0;34m.\u001b[0m\u001b[0m_has\u001b[0m\u001b[0;34m(\u001b[0m\u001b[0mpattern\u001b[0m\u001b[0;34m)\u001b[0m \u001b[0;32mfor\u001b[0m \u001b[0mpattern\u001b[0m \u001b[0;32min\u001b[0m \u001b[0mpatterns\u001b[0m\u001b[0;34m)\u001b[0m\u001b[0;34m\u001b[0m\u001b[0m\n\u001b[0m\u001b[1;32m   1173\u001b[0m \u001b[0;34m\u001b[0m\u001b[0m\n\u001b[1;32m   1174\u001b[0m     \u001b[0;32mdef\u001b[0m \u001b[0m_has\u001b[0m\u001b[0;34m(\u001b[0m\u001b[0mself\u001b[0m\u001b[0;34m,\u001b[0m \u001b[0mpattern\u001b[0m\u001b[0;34m)\u001b[0m\u001b[0;34m:\u001b[0m\u001b[0;34m\u001b[0m\u001b[0m\n",
      "\u001b[0;32m/home/ayalin/anaconda3/lib/python3.6/site-packages/sympy/core/basic.py\u001b[0m in \u001b[0;36m_has\u001b[0;34m(self, pattern)\u001b[0m\n\u001b[1;32m   1174\u001b[0m     \u001b[0;32mdef\u001b[0m \u001b[0m_has\u001b[0m\u001b[0;34m(\u001b[0m\u001b[0mself\u001b[0m\u001b[0;34m,\u001b[0m \u001b[0mpattern\u001b[0m\u001b[0;34m)\u001b[0m\u001b[0;34m:\u001b[0m\u001b[0;34m\u001b[0m\u001b[0m\n\u001b[1;32m   1175\u001b[0m         \u001b[0;34m\"\"\"Helper for .has()\"\"\"\u001b[0m\u001b[0;34m\u001b[0m\u001b[0m\n\u001b[0;32m-> 1176\u001b[0;31m         \u001b[0;32mfrom\u001b[0m \u001b[0msympy\u001b[0m\u001b[0;34m.\u001b[0m\u001b[0mcore\u001b[0m\u001b[0;34m.\u001b[0m\u001b[0mfunction\u001b[0m \u001b[0;32mimport\u001b[0m \u001b[0mUndefinedFunction\u001b[0m\u001b[0;34m,\u001b[0m \u001b[0mFunction\u001b[0m\u001b[0;34m\u001b[0m\u001b[0m\n\u001b[0m\u001b[1;32m   1177\u001b[0m         \u001b[0;32mif\u001b[0m \u001b[0misinstance\u001b[0m\u001b[0;34m(\u001b[0m\u001b[0mpattern\u001b[0m\u001b[0;34m,\u001b[0m \u001b[0mUndefinedFunction\u001b[0m\u001b[0;34m)\u001b[0m\u001b[0;34m:\u001b[0m\u001b[0;34m\u001b[0m\u001b[0m\n\u001b[1;32m   1178\u001b[0m             return any(f.func == pattern or f == pattern\n",
      "\u001b[0;32m/home/ayalin/anaconda3/lib/python3.6/importlib/_bootstrap.py\u001b[0m in \u001b[0;36m_handle_fromlist\u001b[0;34m(module, fromlist, import_)\u001b[0m\n",
      "\u001b[0;31mKeyboardInterrupt\u001b[0m: "
=======
      "\u001b[0;31mAssertionError\u001b[0m                            Traceback (most recent call last)",
      "\u001b[0;32m<ipython-input-37-a6c55cc06da5>\u001b[0m in \u001b[0;36m<module>\u001b[0;34m()\u001b[0m\n\u001b[1;32m     42\u001b[0m \u001b[0;34m\u001b[0m\u001b[0m\n\u001b[1;32m     43\u001b[0m \u001b[0;32mimport\u001b[0m \u001b[0mpylab\u001b[0m\u001b[0;34m\u001b[0m\u001b[0m\n\u001b[0;32m---> 44\u001b[0;31m \u001b[0mx_list\u001b[0m\u001b[0;34m,\u001b[0m \u001b[0my_list\u001b[0m \u001b[0;34m=\u001b[0m \u001b[0mintegrate_inner\u001b[0m\u001b[0;34m(\u001b[0m\u001b[0;36m4.\u001b[0m\u001b[0;34m/\u001b[0m\u001b[0;36m3.\u001b[0m\u001b[0;34m,\u001b[0m \u001b[0;36m2.9\u001b[0m\u001b[0;34m,\u001b[0m \u001b[0;36m9.1\u001b[0m\u001b[0;34m)\u001b[0m\u001b[0;34m\u001b[0m\u001b[0m\n\u001b[0m\u001b[1;32m     45\u001b[0m \u001b[0mget_ipython\u001b[0m\u001b[0;34m(\u001b[0m\u001b[0;34m)\u001b[0m\u001b[0;34m.\u001b[0m\u001b[0mmagic\u001b[0m\u001b[0;34m(\u001b[0m\u001b[0;34mu'matplotlib notebook'\u001b[0m\u001b[0;34m)\u001b[0m\u001b[0;34m\u001b[0m\u001b[0m\n\u001b[1;32m     46\u001b[0m \u001b[0mpylab\u001b[0m\u001b[0;34m.\u001b[0m\u001b[0mplot\u001b[0m\u001b[0;34m(\u001b[0m\u001b[0mx_list\u001b[0m \u001b[0;34m,\u001b[0m\u001b[0my_list\u001b[0m\u001b[0;34m.\u001b[0m\u001b[0mT\u001b[0m\u001b[0;34m[\u001b[0m\u001b[0;36m0\u001b[0m\u001b[0;34m]\u001b[0m\u001b[0;34m)\u001b[0m\u001b[0;34m\u001b[0m\u001b[0m\n",
      "\u001b[0;32m<ipython-input-37-a6c55cc06da5>\u001b[0m in \u001b[0;36mintegrate_inner\u001b[0;34m(gamma_val, eta_val, rst_val)\u001b[0m\n\u001b[1;32m     36\u001b[0m         \u001b[0mx_list\u001b[0m\u001b[0;34m.\u001b[0m\u001b[0mappend\u001b[0m\u001b[0;34m(\u001b[0m\u001b[0mintegrator\u001b[0m\u001b[0;34m.\u001b[0m\u001b[0mt\u001b[0m\u001b[0;34m)\u001b[0m\u001b[0;34m\u001b[0m\u001b[0m\n\u001b[1;32m     37\u001b[0m         \u001b[0my_list\u001b[0m\u001b[0;34m.\u001b[0m\u001b[0mappend\u001b[0m\u001b[0;34m(\u001b[0m\u001b[0mintegrator\u001b[0m\u001b[0;34m.\u001b[0m\u001b[0my\u001b[0m\u001b[0;34m)\u001b[0m\u001b[0;34m\u001b[0m\u001b[0m\n\u001b[0;32m---> 38\u001b[0;31m     \u001b[0;32massert\u001b[0m\u001b[0;34m(\u001b[0m\u001b[0mintegrator\u001b[0m\u001b[0;34m.\u001b[0m\u001b[0msuccessful\u001b[0m\u001b[0;34m(\u001b[0m\u001b[0;34m)\u001b[0m\u001b[0;34m)\u001b[0m\u001b[0;34m\u001b[0m\u001b[0m\n\u001b[0m\u001b[1;32m     39\u001b[0m     \u001b[0mx_list\u001b[0m \u001b[0;34m=\u001b[0m \u001b[0mnumpy\u001b[0m\u001b[0;34m.\u001b[0m\u001b[0marray\u001b[0m\u001b[0;34m(\u001b[0m\u001b[0mx_list\u001b[0m\u001b[0;34m)\u001b[0m\u001b[0;34m\u001b[0m\u001b[0m\n\u001b[1;32m     40\u001b[0m     \u001b[0my_list\u001b[0m \u001b[0;34m=\u001b[0m \u001b[0mnumpy\u001b[0m\u001b[0;34m.\u001b[0m\u001b[0marray\u001b[0m\u001b[0;34m(\u001b[0m\u001b[0my_list\u001b[0m\u001b[0;34m)\u001b[0m\u001b[0;34m\u001b[0m\u001b[0m\n",
      "\u001b[0;31mAssertionError\u001b[0m: "
>>>>>>> c1ef407d75385e2c24f2d7fd79eb197bd0697f2c
     ]
    }
   ],
   "source": [
    "temp = energy_conservation.rhs\n",
    "temp = temp.subs(q, mass_source)\n",
    "temp = temp.subs(sympy.solve(dimensional_mass_conservation,rho(r), dict=True)[0])\n",
    "#sympy.integrate(temp, r, conds='none')\n",
    "#sympy.integrate(temp.simplify(),r)\n",
    "temp = sympy.expand_power_base(temp, force=True).simplify()\n",
    "temp.integrate(r,conds='none')"
   ]
  },
  {
   "cell_type": "code",
   "execution_count": null,
   "metadata": {
    "collapsed": true
   },
   "outputs": [],
   "source": [
    "sympy.solve(dimensional_mass_conservation,rho(r), dict=True)[0]"
   ]
  },
  {
   "cell_type": "code",
   "execution_count": null,
   "metadata": {
    "collapsed": true
   },
   "outputs": [],
   "source": [
    "temp = [mass_conservation,momentum_conservation,energy_conservation]\n",
    "temp = [eqn.subs(M,0) for eqn in temp]\n",
    "temp = [eqn.subs(p(r),rho(r)*c(r)**2/gamma) for eqn in temp]\n",
    "temp = [eqn.subs(u(r), c(r)*m(r)) for eqn in temp]\n",
    "temp = [eqn.doit() for eqn in temp]\n",
    "sympy.solve(temp,subs()"
   ]
  },
  {
   "cell_type": "markdown",
   "metadata": {},
   "source": [
    "# Free - fall solution\n",
    "Very close to the SMBH"
   ]
  },
  {
   "cell_type": "code",
   "execution_count": null,
   "metadata": {
    "collapsed": true
   },
   "outputs": [],
   "source": [
    "freefall_integral_energy = sympy.Eq(\n",
    "    tilde_u(tilde_r)**2/2+tilde_c(tilde_r)**2/(gamma-1),\n",
    "    1/tilde_r)\n",
    "freefall_integral_energy"
   ]
  },
  {
   "cell_type": "code",
   "execution_count": null,
   "metadata": {
    "collapsed": true
   },
   "outputs": [],
   "source": [
    "temp = integral_mass_conservation\n",
    "temp = temp.subs(tilde_r**(3-eta),0)\n",
    "freefall_density = sympy.solve(temp,tilde_rho(tilde_r))[0]\n",
    "freefall_density"
   ]
  },
  {
   "cell_type": "code",
   "execution_count": null,
   "metadata": {
    "collapsed": true
   },
   "outputs": [],
   "source": [
    "freefall_u_ansatz = sympy.sqrt(A)/sympy.sqrt(tilde_r)"
   ]
  },
  {
   "cell_type": "code",
   "execution_count": null,
   "metadata": {
    "collapsed": true
   },
   "outputs": [],
   "source": [
    "temp = dimles_momentum_conservation\n",
    "temp = temp.subs(tilde_r**(-eta),0)\n",
    "temp = temp.subs(tilde_p(tilde_r), tilde_rho(tilde_r)*tilde_c(tilde_r)**2/gamma)\n",
    "temp = temp.subs(tilde_rho(tilde_r), freefall_density)\n",
    "temp = temp.subs(sympy.solve(freefall_integral_energy,tilde_c(tilde_r)**2,dict=True)[0])\n",
    "temp = temp.subs(tilde_u(tilde_r), freefall_u_ansatz)\n",
    "temp = temp.doit()\n",
    "temp = temp.lhs - temp.rhs\n",
    "temp = temp.simplify()\n",
    "temp = sympy.solve(temp,A)[0]\n",
    "freefall_u = -freefall_u_ansatz.subs(A,temp)\n",
    "freefall_u"
   ]
  },
  {
   "cell_type": "markdown",
   "metadata": {},
   "source": [
    "This is true unless $\\gamma = \\frac{5}{3}$"
   ]
  },
  {
   "cell_type": "code",
   "execution_count": null,
   "metadata": {
    "collapsed": true
   },
   "outputs": [],
   "source": [
    "temp = dimles_momentum_conservation\n",
    "temp = temp.subs(tilde_r**(-eta),0)\n",
    "temp = temp.subs(tilde_p(tilde_r), tilde_rho(tilde_r)*tilde_c(tilde_r)**2/gamma)\n",
    "temp = temp.subs(tilde_rho(tilde_r), freefall_density)\n",
    "temp = temp.subs(sympy.solve(freefall_integral_energy,tilde_c(tilde_r)**2,dict=True)[0])\n",
    "temp = temp.subs(tilde_u(tilde_r), freefall_u_ansatz)\n",
    "temp = temp.doit()\n",
    "temp = temp.lhs - temp.rhs\n",
    "temp = temp.subs(gamma,sympy.Rational(5,3))\n",
    "temp = temp.simplify()\n",
    "temp"
   ]
  },
  {
   "cell_type": "markdown",
   "metadata": {},
   "source": [
    "# Secular analytic solution"
   ]
  },
  {
   "cell_type": "code",
   "execution_count": null,
   "metadata": {
    "collapsed": true
   },
   "outputs": [],
   "source": [
    "temp = asymptotic_prefactors[0]/tilde_r**sympy.Rational(3,2)\n",
    "temp = temp.subs(gamma,sympy.Rational(5,3))\n",
    "temp = temp.subs(eta,sympy.Rational(5,2))\n",
    "secular_rho = temp/(D/v_w)\n",
    "secular_rho"
   ]
  },
  {
   "cell_type": "code",
   "execution_count": null,
   "metadata": {
    "collapsed": true
   },
   "outputs": [],
   "source": [
    "temp = dimles_mass_conservation\n",
    "temp = temp.subs(tilde_rho(tilde_r), secular_rho)\n",
    "temp = temp.doit()\n",
    "temp = temp.subs(eta,sympy.Rational(5,2))\n",
    "temp = sympy.dsolve(temp,tilde_u(tilde_r))\n",
    "temp = temp.subs(sympy.Symbol('C1'),-1)\n",
    "secular_u = temp.rhs \n",
    "secular_u"
   ]
  },
  {
   "cell_type": "code",
   "execution_count": null,
   "metadata": {
    "collapsed": true
   },
   "outputs": [],
   "source": [
    "secular_stagnation = sympy.solve(secular_u,tilde_r)[0]\n",
    "secular_stagnation"
   ]
  },
  {
   "cell_type": "code",
   "execution_count": null,
   "metadata": {
    "collapsed": true
   },
   "outputs": [],
   "source": [
    "temp = integral_energy_conservation\n",
    "temp = temp.subs(tilde_u(tilde_r),secular_u)\n",
    "temp = temp.subs(tilde_r_st, secular_stagnation)\n",
    "temp = temp.subs(eta,sympy.Rational(5,2))\n",
    "temp = temp.subs(gamma,sympy.Rational(5,3))\n",
    "temp = sympy.solve(temp,tilde_c(tilde_r)**2)[0]\n",
    "temp = temp.subs(tilde_r,Q**2)\n",
    "temp = temp.simplify()\n",
    "temp = temp.subs(Q,sympy.sqrt(tilde_r))\n",
    "secular_c2 = temp\n",
    "secular_c2"
   ]
  },
  {
   "cell_type": "markdown",
   "metadata": {},
   "source": [
    "Verification"
   ]
  },
  {
   "cell_type": "code",
   "execution_count": null,
   "metadata": {
    "collapsed": true
   },
   "outputs": [],
   "source": [
    "temp = [dimles_mass_conservation,dimles_momentum_conservation,dimles_energy_conservation]\n",
    "temp = map(lambda eqn:eqn.subs(tilde_p(tilde_r),tilde_rho(tilde_r)*tilde_c(tilde_r)**2/gamma),temp)\n",
    "temp = map(lambda eqn:eqn.subs(tilde_c(tilde_r)**2,secular_c2),temp)\n",
    "temp = map(lambda eqn:eqn.subs(tilde_rho(tilde_r),secular_rho),temp)\n",
    "temp = map(lambda eqn:eqn.subs(tilde_u(tilde_r),secular_u),temp)\n",
    "temp = map(lambda eqn:eqn.subs({gamma:sympy.Rational(5,3),eta:sympy.Rational(5,2)}),temp)\n",
    "temp = map(lambda eqn:eqn.doit(),temp)\n",
    "temp = map(lambda eqn:eqn.lhs-eqn.rhs,temp)\n",
    "temp = map(lambda eqn:eqn.simplify(),temp)\n",
    "list(temp)"
   ]
  },
  {
   "cell_type": "markdown",
   "metadata": {},
   "source": [
    "# Integrating ODEs"
   ]
  },
  {
   "cell_type": "code",
   "execution_count": null,
   "metadata": {
    "collapsed": true
   },
   "outputs": [],
   "source": [
    "m = sympy.Symbol('m') # Mach number\n",
    "temp = [dimles_mass_conservation,\n",
    "        dimles_momentum_conservation,\n",
    "        dimles_energy_conservation]\n",
    "temp = [itm.subs(tilde_u(tilde_r), tilde_c(tilde_r)*m(tilde_r)) for itm in temp]\n",
    "temp = [itm.subs(tilde_p(tilde_r), tilde_rho(tilde_r)*tilde_c(tilde_r)**2/gamma) for itm in temp]\n",
    "temp = [itm.doit() for itm in temp]\n",
    "isolated_odes = sympy.solve(temp, [m(tilde_r).diff(tilde_r),\n",
    "                                   tilde_c(tilde_r).diff(tilde_r),\n",
    "                                   tilde_rho(tilde_r).diff(tilde_r)])\n",
    "isolated_odes"
   ]
  },
  {
   "cell_type": "markdown",
   "metadata": {},
   "source": [
    "Determining the values of the variables at the sonic point"
   ]
  },
  {
   "cell_type": "code",
   "execution_count": null,
   "metadata": {
    "collapsed": true
   },
   "outputs": [],
   "source": [
    "temp = integral_energy_conservation\n",
    "temp = temp.subs(tilde_u(tilde_r), tilde_c(tilde_r))\n",
    "raw_sonic_point_sound_speed = sympy.solve(temp, tilde_c(tilde_r))[1]"
   ]
  },
  {
   "cell_type": "code",
   "execution_count": null,
   "metadata": {
    "collapsed": true
   },
   "outputs": [],
   "source": [
    "temp = integral_mass_conservation.subs(tilde_u(tilde_r), tilde_c(tilde_r))\n",
    "temp = temp.subs(tilde_c(tilde_r), raw_sonic_point_sound_speed)\n",
    "raw_sonic_point_density = sympy.solve(temp, tilde_rho(tilde_r))[0].simplify()"
   ]
  },
  {
   "cell_type": "code",
   "execution_count": null,
   "metadata": {
    "collapsed": true
   },
   "outputs": [],
   "source": [
    "temp = tilde_rho(tilde_r).diff(tilde_r)\n",
    "temp = temp.subs(isolated_odes)\n",
    "temp = sympy.fraction(temp)[0]\n",
    "temp = temp.subs(tilde_rho(tilde_r), raw_sonic_point_density)\n",
    "temp = temp.subs(tilde_c(tilde_r), raw_sonic_point_sound_speed)\n",
    "temp = temp.subs(m(tilde_r), 1)\n",
    "temp = temp*tilde_r**(eta+2)\n",
    "outer_sonic_equation = temp"
   ]
  },
  {
   "cell_type": "markdown",
   "metadata": {},
   "source": [
    "To find the position of the outer sonic point, one must solve this horrible equation"
   ]
  },
  {
   "cell_type": "code",
   "execution_count": null,
   "metadata": {
    "collapsed": true
   },
   "outputs": [],
   "source": [
    "def find_outer_sonic_point(gamma_val, eta_val, rst_val):\n",
    "    \n",
    "    from mpmath import findroot\n",
    "    \n",
    "    eqn = outer_sonic_equation\n",
    "    eqn = eqn.subs({eta:eta_val,\n",
    "                   gamma:gamma_val,\n",
    "                   tilde_r_st:rst_val})\n",
    "    deqn = eqn.diff(tilde_r)\n",
    "    eqn = sympy.lambdify(tilde_r, eqn)\n",
    "    deqn = sympy.lambdify(tilde_r, deqn)\n",
    "    return float(findroot(eqn, 10*rst_val, df=deqn))\n",
    "find_outer_sonic_point(4./3., 2.9, 9.1)"
   ]
  },
  {
   "cell_type": "code",
   "execution_count": null,
   "metadata": {
    "collapsed": true
   },
   "outputs": [],
   "source": [
    "def find_inner_sonic_point(gamma_val, eta_val, rst_val):\n",
    "    \n",
    "    from mpmath import findroot\n",
    "    \n",
    "    eqn = outer_sonic_equation\n",
    "    eqn = eqn.subs({eta:eta_val,\n",
    "                   gamma:gamma_val,\n",
    "                   tilde_r_st:rst_val})\n",
    "    deqn = eqn.diff(tilde_r)\n",
    "    eqn = sympy.lambdify(tilde_r, eqn)\n",
    "    deqn = sympy.lambdify(tilde_r, deqn)\n",
    "    return float(findroot(eqn, 0.1*rst_val, df=deqn))\n",
    "find_inner_sonic_point(4./3., 2.9, 9.1)"
   ]
  },
  {
   "cell_type": "markdown",
   "metadata": {},
   "source": [
    "Integration from the sonic point to the stagnation point"
   ]
  },
  {
   "cell_type": "code",
   "execution_count": null,
   "metadata": {
    "collapsed": true
   },
   "outputs": [],
   "source": [
    "def integrate_outer(gamma_val, eta_val, rst_val):\n",
    "    \n",
    "    from scipy.integrate import ode\n",
    "    import numpy\n",
    "    \n",
    "    sub_params = {eta:eta_val,\n",
    "                 gamma:gamma_val,\n",
    "                  tilde_r_st:rst_val}\n",
    "    \n",
    "    # Differential equations\n",
    "    hydrodynamic_variables = [m,\n",
    "                             tilde_c,\n",
    "                             tilde_rho]\n",
    "    explicit_odes = [itm(tilde_r).diff(tilde_r) for itm in hydrodynamic_variables]\n",
    "    explicit_odes = [itm.subs(isolated_odes) for itm in explicit_odes]\n",
    "    explicit_odes = [itm.subs(sub_params) for itm in explicit_odes]\n",
    "    for var in hydrodynamic_variables:\n",
    "        explicit_odes = [itm.subs(var(tilde_r), var) for itm in explicit_odes]\n",
    "    raw_deriv_func = sympy.lambdify([tilde_r, m, tilde_c, tilde_rho], explicit_odes)\n",
    "    deriv_wrapper = lambda x,y: raw_deriv_func(x,y[0],y[1],y[2])\n",
    "    \n",
    "    outer_sonic_point = find_outer_sonic_point(gamma_val, eta_val, rst_val)\n",
    "    outer_density = raw_sonic_point_density.subs(sub_params).subs(tilde_r,outer_sonic_point)\n",
    "    outer_sound_speed = raw_sonic_point_sound_speed.subs(sub_params).subs(tilde_r,outer_sonic_point)\n",
    "    r_start_outer = (1.0-1e-3)*outer_sonic_point\n",
    "    r_stop_outer = (1+1e-2)*rst_val\n",
    "    dr_outer = 1e-4*(r_start_outer - r_stop_outer)\n",
    "        \n",
    "    outer_init_cond = [1-1e-3, outer_sound_speed, outer_density]\n",
    "    \n",
    "    integrator = ode(deriv_wrapper)\n",
    "    integrator.set_initial_value(outer_init_cond, r_start_outer)\n",
    "    x_list = []\n",
    "    y_list = []\n",
    "    while integrator.successful() and integrator.t>r_stop_outer:\n",
    "        integrator.integrate(integrator.t - dr_outer)\n",
    "        x_list.append(integrator.t)\n",
    "        y_list.append(integrator.y)\n",
    "    assert(integrator.successful())\n",
    "    x_list = numpy.array(x_list)\n",
    "    y_list = numpy.array(y_list)\n",
    "    return x_list, y_list\n",
    "    \n",
    "import pylab\n",
    "x_list, y_list = integrate_outer(4./3., 2.9, 9.1)\n",
    "%matplotlib notebook\n",
    "pylab.plot(x_list ,y_list.T[0])\n",
    "pylab.xlabel(r'$\\tilde{r}$')\n",
    "pylab.ylabel('Mach number')\n",
    "pass"
   ]
  },
  {
   "cell_type": "code",
   "execution_count": null,
   "metadata": {
    "collapsed": true
   },
   "outputs": [],
   "source": [
    "def integrate_inner(gamma_val, eta_val, rst_val):\n",
    "    \n",
    "    from scipy.integrate import ode\n",
    "    import numpy\n",
    "    \n",
    "    sub_params = {eta:eta_val,\n",
    "                 gamma:gamma_val,\n",
    "                  tilde_r_st:rst_val}\n",
    "    \n",
    "    # Differential equations\n",
    "    hydrodynamic_variables = [m,\n",
    "                             tilde_c,\n",
    "                             tilde_rho]\n",
    "    explicit_odes = [itm(tilde_r).diff(tilde_r) for itm in hydrodynamic_variables]\n",
    "    explicit_odes = [itm.subs(isolated_odes) for itm in explicit_odes]\n",
    "    explicit_odes = [itm.subs(sub_params) for itm in explicit_odes]\n",
    "    for var in hydrodynamic_variables:\n",
    "        explicit_odes = [itm.subs(var(tilde_r), var) for itm in explicit_odes]\n",
    "    raw_deriv_func = sympy.lambdify([tilde_r, m, tilde_c, tilde_rho], explicit_odes)\n",
    "    deriv_wrapper = lambda x,y: raw_deriv_func(x,y[0],y[1],y[2])\n",
    "    \n",
    "    inner_sonic_point = find_inner_sonic_point(gamma_val, eta_val, rst_val)\n",
    "    bc_density = -raw_sonic_point_density.subs(sub_params).subs(tilde_r,inner_sonic_point)\n",
    "    bc_sound_speed = raw_sonic_point_sound_speed.subs(sub_params).subs(tilde_r,inner_sonic_point)\n",
    "    r_stop = (1-1e-2)*rst_val\n",
    "    dr = 1e-4*(r_stop - inner_sonic_point)   \n",
    "    r_start = inner_sonic_point+0.5*dr\n",
    "    init_cond = [-1+1e-3, bc_sound_speed, bc_density]\n",
    "    \n",
    "    integrator = ode(deriv_wrapper)\n",
    "    integrator.set_initial_value(init_cond, r_start)\n",
    "    x_list = []\n",
    "    y_list = []\n",
    "    while integrator.successful() and integrator.t<r_stop:\n",
    "        integrator.integrate(integrator.t + dr)\n",
    "        x_list.append(integrator.t)\n",
    "        y_list.append(integrator.y)\n",
    "    assert(integrator.successful())\n",
    "    x_list = numpy.array(x_list)\n",
    "    y_list = numpy.array(y_list)\n",
    "    return x_list, y_list\n",
    "    \n",
    "import pylab\n",
    "x_list, y_list = integrate_inner(4./3., 2.9, 9.1)\n",
    "%matplotlib notebook\n",
    "pylab.plot(x_list ,y_list.T[0])\n",
    "pylab.xlabel(r'$\\tilde{r}$')\n",
    "pylab.ylabel('Mach number')\n",
    "pass"
   ]
  },
  {
   "cell_type": "code",
   "execution_count": null,
<<<<<<< HEAD
   "metadata": {
    "collapsed": true
   },
=======
   "metadata": {},
>>>>>>> c1ef407d75385e2c24f2d7fd79eb197bd0697f2c
   "outputs": [],
   "source": [
    "def calc_stagnation_derivative_difference(gamma_val, eta_val, rst_val, verbose=False):\n",
    "    x_outer, y_outer = integrate_outer(gamma_val, eta_val, rst_val)\n",
    "    x_inner, y_inner = integrate_inner(gamma_val, eta_val, rst_val)\n",
    "    m_outer = y_outer.T[0]\n",
    "    m_inner = y_inner.T[0]\n",
    "    deriv_outer = (m_outer[-1]-m_outer[-2])/(x_outer[-1] - x_outer[-2])\n",
    "    deriv_inner = (m_inner[-1]-m_inner[-2])/(x_inner[-1] - x_inner[-2])\n",
    "    if verbose:\n",
    "        print('called with', rst_val, 'evaluated', deriv_outer - deriv_inner)\n",
    "    return deriv_outer - deriv_inner\n",
    "\n",
    "calc_stagnation_derivative_difference(4./3., 2.9, 9.1)"
   ]
  },
  {
   "cell_type": "code",
   "execution_count": null,
<<<<<<< HEAD
   "metadata": {
    "collapsed": true
   },
=======
   "metadata": {},
>>>>>>> c1ef407d75385e2c24f2d7fd79eb197bd0697f2c
   "outputs": [],
   "source": [
    "calc_stagnation_derivative_difference(4./3., 2.9, 3.9)"
   ]
  },
  {
   "cell_type": "markdown",
   "metadata": {},
   "source": [
    "Finall, we can numerically solve for the location of the stagnation point"
   ]
  },
  {
   "cell_type": "code",
   "execution_count": null,
<<<<<<< HEAD
   "metadata": {
    "collapsed": true
   },
=======
   "metadata": {},
>>>>>>> c1ef407d75385e2c24f2d7fd79eb197bd0697f2c
   "outputs": [],
   "source": [
    "from mpmath import findroot\n",
    "\n",
    "findroot(lambda x: calc_stagnation_derivative_difference(4./3., 2.9, x, verbose=True), 3.9, tol=1e-3)"
   ]
  },
  {
   "cell_type": "code",
   "execution_count": null,
<<<<<<< HEAD
   "metadata": {
    "collapsed": true
   },
=======
   "metadata": {},
>>>>>>> c1ef407d75385e2c24f2d7fd79eb197bd0697f2c
   "outputs": [],
   "source": [
    "findroot(lambda x: calc_stagnation_derivative_difference(4./3., 2.8, x, verbose=True), 4.1, tol=1e-3)"
   ]
  },
  {
   "cell_type": "code",
   "execution_count": null,
<<<<<<< HEAD
   "metadata": {
    "collapsed": true
   },
=======
   "metadata": {},
>>>>>>> c1ef407d75385e2c24f2d7fd79eb197bd0697f2c
   "outputs": [],
   "source": [
    "findroot(lambda x: calc_stagnation_derivative_difference(4./3., 2.7, x, verbose=True), 4.1, tol=1e-3)"
   ]
  },
  {
   "cell_type": "code",
   "execution_count": null,
<<<<<<< HEAD
   "metadata": {
    "collapsed": true
   },
=======
   "metadata": {},
>>>>>>> c1ef407d75385e2c24f2d7fd79eb197bd0697f2c
   "outputs": [],
   "source": [
    "findroot(lambda x: calc_stagnation_derivative_difference(4./3., 2.67, x, verbose=True), 4.3, tol=1e-3)"
   ]
  },
  {
   "cell_type": "code",
   "execution_count": null,
<<<<<<< HEAD
   "metadata": {
    "collapsed": true
   },
=======
   "metadata": {},
>>>>>>> c1ef407d75385e2c24f2d7fd79eb197bd0697f2c
   "outputs": [],
   "source": [
    "findroot(lambda x: calc_stagnation_derivative_difference(4./3.-0.01, 3.1, x, verbose=True), 8, tol=1e-3)"
   ]
  },
  {
   "cell_type": "code",
   "execution_count": null,
   "metadata": {},
   "outputs": [],
   "source": []
  }
 ],
 "metadata": {
  "kernelspec": {
   "display_name": "Python 2",
   "language": "python",
   "name": "python2"
  },
  "language_info": {
   "codemirror_mode": {
    "name": "ipython",
    "version": 2
   },
   "file_extension": ".py",
   "mimetype": "text/x-python",
   "name": "python",
   "nbconvert_exporter": "python",
   "pygments_lexer": "ipython2",
   "version": "2.7.12"
  }
 },
 "nbformat": 4,
 "nbformat_minor": 1
}
