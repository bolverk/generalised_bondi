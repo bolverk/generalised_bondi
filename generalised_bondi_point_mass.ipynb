{
 "cells": [
  {
   "cell_type": "code",
   "execution_count": 49,
   "metadata": {
    "collapsed": true
   },
   "outputs": [],
   "source": [
    "import sympy\n",
    "sympy.init_printing()"
   ]
  },
  {
   "cell_type": "markdown",
   "metadata": {},
   "source": [
    "# Governing Equations"
   ]
  },
  {
   "cell_type": "markdown",
   "metadata": {},
   "source": [
    "Conservation of mass"
   ]
  },
  {
   "cell_type": "code",
   "execution_count": 50,
   "metadata": {
    "collapsed": false
   },
   "outputs": [
    {
     "data": {
      "image/png": "[encoded data removed]",
      "text/latex": [
       "$$\\frac{1}{r^{2}} \\left(r^{2} \\rho{\\left (r \\right )} \\frac{d}{d r} u{\\left (r \\right )} + r^{2} u{\\left (r \\right )} \\frac{d}{d r} \\rho{\\left (r \\right )} + 2 r \\rho{\\left (r \\right )} u{\\left (r \\right )}\\right) = q$$"
      ],
      "text/plain": [
       " 2      d           2      d                           \n",
       "r ⋅ρ(r)⋅──(u(r)) + r ⋅u(r)⋅──(ρ(r)) + 2⋅r⋅ρ(r)⋅u(r)    \n",
       "        dr                 dr                          \n",
       "─────────────────────────────────────────────────── = q\n",
       "                          2                            \n",
       "                         r                             "
      ]
     },
     "execution_count": 50,
     "metadata": {},
     "output_type": "execute_result"
    }
   ],
   "source": [
    "r = sympy.Symbol('r')\n",
    "rho = sympy.Symbol('rho')\n",
    "u = sympy.Symbol('u')\n",
    "q = sympy.Symbol('q')\n",
    "mass_conservation = sympy.Eq((1/r**2)*(r**2*rho(r)*u(r)).diff(r),q)\n",
    "mass_conservation"
   ]
  },
  {
   "cell_type": "markdown",
   "metadata": {},
   "source": [
    "Conservation of momentum"
   ]
  },
  {
   "cell_type": "code",
   "execution_count": 51,
   "metadata": {
    "collapsed": false
   },
   "outputs": [
    {
     "data": {
      "image/png": "[encoded data removed]",
      "text/latex": [
       "$$\\rho{\\left (r \\right )} u{\\left (r \\right )} \\frac{d}{d r} u{\\left (r \\right )} + \\frac{d}{d r} p{\\left (r \\right )} = - \\frac{G M}{r^{2}} \\rho{\\left (r \\right )} - q{\\left (r \\right )} u{\\left (r \\right )}$$"
      ],
      "text/plain": [
       "          d          d            G⋅M⋅ρ(r)            \n",
       "ρ(r)⋅u(r)⋅──(u(r)) + ──(p(r)) = - ──────── - q(r)⋅u(r)\n",
       "          dr         dr               2               \n",
       "                                     r                "
      ]
     },
     "execution_count": 51,
     "metadata": {},
     "output_type": "execute_result"
    }
   ],
   "source": [
    "p = sympy.Symbol('p')\n",
    "G = sympy.Symbol('G', positive=True)\n",
    "M = sympy.Symbol('M', positive=True)\n",
    "momentum_conservation = sympy.Eq(rho(r)*u(r)*u(r).diff(r) + p(r).diff(r),\n",
    "                                 -rho(r)*G*M/r**2-q(r)*u(r))\n",
    "momentum_conservation"
   ]
  },
  {
   "cell_type": "markdown",
   "metadata": {},
   "source": [
    "Energy conservation"
   ]
  },
  {
   "cell_type": "code",
   "execution_count": 52,
   "metadata": {
    "collapsed": false
   },
   "outputs": [
    {
     "data": {
      "image/png": "[encoded data removed]",
      "text/latex": [
       "$$\\frac{1}{r^{2}} \\left(r^{2} \\left(\\frac{1}{2} \\rho{\\left (r \\right )} u^{2}{\\left (r \\right )} + \\frac{p{\\left (r \\right )}}{\\gamma - 1}\\right) \\frac{d}{d r} u{\\left (r \\right )} + r^{2} \\left(\\rho{\\left (r \\right )} u{\\left (r \\right )} \\frac{d}{d r} u{\\left (r \\right )} + \\frac{1}{2} u^{2}{\\left (r \\right )} \\frac{d}{d r} \\rho{\\left (r \\right )} + \\frac{\\frac{d}{d r} p{\\left (r \\right )}}{\\gamma - 1}\\right) u{\\left (r \\right )} + 2 r \\left(\\frac{1}{2} \\rho{\\left (r \\right )} u^{2}{\\left (r \\right )} + \\frac{p{\\left (r \\right )}}{\\gamma - 1}\\right) u{\\left (r \\right )}\\right) = - \\frac{G M}{r^{2}} \\rho{\\left (r \\right )} u{\\left (r \\right )} + \\frac{v_{w}^{2}}{2} q{\\left (r \\right )}$$"
      ],
      "text/plain": [
       "                                      ⎛                      2    d          d\n",
       "   ⎛      2           ⎞               ⎜                     u (r)⋅──(ρ(r))   ─\n",
       " 2 ⎜ρ(r)⋅u (r)    p(r)⎟ d           2 ⎜          d                dr         d\n",
       "r ⋅⎜────────── + ─────⎟⋅──(u(r)) + r ⋅⎜ρ(r)⋅u(r)⋅──(u(r)) + ────────────── + ─\n",
       "   ⎝    2        γ - 1⎠ dr            ⎝          dr               2           \n",
       "──────────────────────────────────────────────────────────────────────────────\n",
       "                                                              2               \n",
       "                                                             r                \n",
       "\n",
       "       ⎞                                                                   \n",
       "─(p(r))⎟            ⎛      2           ⎞                                   \n",
       "r      ⎟            ⎜ρ(r)⋅u (r)    p(r)⎟                                   \n",
       "───────⎟⋅u(r) + 2⋅r⋅⎜────────── + ─────⎟⋅u(r)                        2     \n",
       "γ - 1  ⎠            ⎝    2        γ - 1⎠          G⋅M⋅ρ(r)⋅u(r)   v_w ⋅q(r)\n",
       "───────────────────────────────────────────── = - ───────────── + ─────────\n",
       "                                                         2            2    \n",
       "                                                        r                  "
      ]
     },
     "execution_count": 52,
     "metadata": {},
     "output_type": "execute_result"
    }
   ],
   "source": [
    "gamma = sympy.Symbol('gamma')\n",
    "v_w = sympy.Symbol('v_w', positive=True)\n",
    "energy_conservation = sympy.Eq((1/r**2)*(r**2*u(r)*(rho(r)*u(r)**2/2+p(r)/(gamma-1))).diff(r),\n",
    "         -G*M*u(r)*rho(r)/r**2+v_w**2*q(r)/2)\n",
    "energy_conservation"
   ]
  },
  {
   "cell_type": "markdown",
   "metadata": {},
   "source": [
    "Mass source term"
   ]
  },
  {
   "cell_type": "code",
   "execution_count": 53,
   "metadata": {
    "collapsed": false
   },
   "outputs": [
    {
     "data": {
      "image/png": "[encoded data removed]",
      "text/latex": [
       "$$D r^{- \\eta}$$"
      ],
      "text/plain": [
       "   -η\n",
       "D⋅r  "
      ]
     },
     "execution_count": 53,
     "metadata": {},
     "output_type": "execute_result"
    }
   ],
   "source": [
    "D = sympy.Symbol('D')\n",
    "eta = sympy.Symbol('eta')\n",
    "mass_source = D*r**(-eta)\n",
    "mass_source"
   ]
  },
  {
   "cell_type": "markdown",
   "metadata": {},
   "source": [
    "# Reduction to dimensionless variables"
   ]
  },
  {
   "cell_type": "markdown",
   "metadata": {},
   "source": [
    "Bondi radius"
   ]
  },
  {
   "cell_type": "code",
   "execution_count": 54,
   "metadata": {
    "collapsed": false
   },
   "outputs": [
    {
     "data": {
      "image/png": "[encoded data removed]",
      "text/latex": [
       "$$\\frac{G M}{v_{w}^{2}}$$"
      ],
      "text/plain": [
       "G⋅M \n",
       "────\n",
       "   2\n",
       "v_w "
      ]
     },
     "execution_count": 54,
     "metadata": {},
     "output_type": "execute_result"
    }
   ],
   "source": [
    "bondi_radius = G*M/v_w**2\n",
    "bondi_radius"
   ]
  },
  {
   "cell_type": "markdown",
   "metadata": {},
   "source": [
    "Bondi density"
   ]
  },
  {
   "cell_type": "code",
   "execution_count": 57,
   "metadata": {
    "collapsed": false
   },
   "outputs": [
    {
     "data": {
      "image/png": "[encoded data removed]",
      "text/latex": [
       "$$D v_{w}^{2 \\eta - 3} \\left(G M\\right)^{- \\eta + 1}$$"
      ],
      "text/plain": [
       "     2⋅η - 3      -η + 1\n",
       "D⋅v_w       ⋅(G⋅M)      "
      ]
     },
     "execution_count": 57,
     "metadata": {},
     "output_type": "execute_result"
    }
   ],
   "source": [
    "temp = D*bondi_radius**(-eta)*(bondi_radius/v_w)\n",
    "temp = sympy.expand_power_base(temp,force=True)\n",
    "temp = temp.simplify()\n",
    "bondi_density = temp\n",
    "bondi_density"
   ]
  },
  {
   "cell_type": "markdown",
   "metadata": {},
   "source": [
    "Mass conservation"
   ]
  },
  {
   "cell_type": "code",
   "execution_count": 84,
   "metadata": {
    "collapsed": false
   },
   "outputs": [
    {
     "data": {
      "image/png": "[encoded data removed]",
      "text/latex": [
       "$$\\tilde{\\rho}{\\left (\\tilde{r} \\right )} \\frac{d}{d \\tilde{r}} \\tilde{u}{\\left (\\tilde{r} \\right )} + \\tilde{u}{\\left (\\tilde{r} \\right )} \\frac{d}{d \\tilde{r}} \\tilde{\\rho}{\\left (\\tilde{r} \\right )} + \\frac{2}{\\tilde{r}} \\tilde{\\rho}{\\left (\\tilde{r} \\right )} \\tilde{u}{\\left (\\tilde{r} \\right )} = \\tilde{r}^{- \\eta}$$"
      ],
      "text/plain": [
       "                            d                                                 \n",
       "\\tilde{\\rho}(\\tilde{r})⋅──────────(\\tilde{u}(\\tilde{r})) + \\tilde{u}(\\tilde{r}\n",
       "                        d\\tilde{r}                                            \n",
       "\n",
       "      d                                 2⋅\\tilde{\\rho}(\\tilde{r})⋅\\tilde{u}(\\t\n",
       ")⋅──────────(\\tilde{\\rho}(\\tilde{r})) + ──────────────────────────────────────\n",
       "  d\\tilde{r}                                              \\tilde{r}           \n",
       "\n",
       "ilde{r})            -η\n",
       "──────── = \\tilde{r}  \n",
       "                      "
      ]
     },
     "execution_count": 84,
     "metadata": {},
     "output_type": "execute_result"
    }
   ],
   "source": [
    "tilde_rho = sympy.Symbol(r'\\tilde{\\rho}')\n",
    "tilde_r = sympy.Symbol(r'\\tilde{r}')\n",
    "tilde_u = sympy.Symbol(r'\\tilde{u}')\n",
    "temp = mass_conservation\n",
    "temp = temp.subs(q, mass_source)\n",
    "temp = temp.subs(rho(r).diff(r), bondi_density*tilde_rho(tilde_r).diff(tilde_r)/bondi_radius)\n",
    "temp = temp.subs(u(r).diff(r), v_w*tilde_u(tilde_r).diff(tilde_r)/bondi_radius)\n",
    "temp = temp.subs(rho(r), bondi_density*tilde_rho(tilde_r))\n",
    "temp = temp.subs(u(r), v_w*tilde_u(tilde_r))\n",
    "temp = sympy.Eq(temp.lhs*(G*M)**eta/D/(v_w**2)**eta, \n",
    "                temp.rhs*(G*M)**eta/D/(v_w**2)**eta)\n",
    "temp = temp.subs(r, bondi_radius*tilde_r)\n",
    "temp = sympy.expand_power_base(temp)\n",
    "temp = temp.simplify()\n",
    "dimles_mass_conservation = temp\n",
    "dimles_mass_conservation"
   ]
  },
  {
   "cell_type": "markdown",
   "metadata": {},
   "source": [
    "Momentum conservation"
   ]
  },
  {
   "cell_type": "code",
   "execution_count": 78,
   "metadata": {
    "collapsed": false
   },
   "outputs": [
    {
     "data": {
      "image/png": "[encoded data removed]",
      "text/latex": [
       "$$\\tilde{\\rho}{\\left (\\tilde{r} \\right )} \\tilde{u}{\\left (\\tilde{r} \\right )} \\frac{d}{d \\tilde{r}} \\tilde{u}{\\left (\\tilde{r} \\right )} + \\frac{d}{d \\tilde{r}} \\tilde{p}{\\left (\\tilde{r} \\right )} = - \\tilde{r}^{- \\eta} \\tilde{u}{\\left (\\tilde{r} \\right )} - \\frac{1}{\\tilde{r}^{2}} \\tilde{\\rho}{\\left (\\tilde{r} \\right )}$$"
      ],
      "text/plain": [
       "                                                 d                            \n",
       "\\tilde{\\rho}(\\tilde{r})⋅\\tilde{u}(\\tilde{r})⋅──────────(\\tilde{u}(\\tilde{r})) \n",
       "                                             d\\tilde{r}                       \n",
       "                                                                              \n",
       "\n",
       "      d                                         -η                        \\til\n",
       "+ ──────────(\\tilde{p}(\\tilde{r})) = - \\tilde{r}  ⋅\\tilde{u}(\\tilde{r}) - ────\n",
       "  d\\tilde{r}                                                                  \n",
       "                                                                              \n",
       "\n",
       "de{\\rho}(\\tilde{r})\n",
       "───────────────────\n",
       "            2      \n",
       "   \\tilde{r}       "
      ]
     },
     "execution_count": 78,
     "metadata": {},
     "output_type": "execute_result"
    }
   ],
   "source": [
    "tilde_p = sympy.Symbol(r'\\tilde{p}')\n",
    "temp = momentum_conservation\n",
    "temp = temp.subs(q, mass_source)\n",
    "temp = temp.subs(q(r), mass_source)\n",
    "temp = temp.subs(rho(r).diff(r), bondi_density*tilde_rho(tilde_r).diff(tilde_r)/bondi_radius)\n",
    "temp = temp.subs(u(r).diff(r), v_w*tilde_u(tilde_r).diff(tilde_r)/bondi_radius)\n",
    "temp = temp.subs(p(r).diff(r), bondi_density*v_w**2*tilde_p(tilde_r).diff(tilde_r)/bondi_radius)\n",
    "temp = temp.subs(rho(r), bondi_density*tilde_rho(tilde_r))\n",
    "temp = temp.subs(u(r), v_w*tilde_u(tilde_r))\n",
    "temp = temp.subs(p(r), bondi_density*v_w**2*tilde_p(tilde_r))\n",
    "temp = sympy.Eq(temp.lhs*(G*M)**eta/D/(v_w**2)**eta/v_w, \n",
    "                temp.rhs*(G*M)**eta/D/(v_w**2)**eta/v_w)\n",
    "temp = temp.subs(r, bondi_radius*tilde_r)\n",
    "temp = temp.simplify()\n",
    "dimles_momentum_conservation = temp\n",
    "dimles_momentum_conservation"
   ]
  },
  {
   "cell_type": "markdown",
   "metadata": {},
   "source": [
    "Energy conservation"
   ]
  },
  {
   "cell_type": "code",
   "execution_count": 81,
   "metadata": {
    "collapsed": false
   },
   "outputs": [
    {
     "data": {
      "image/png": "[encoded data removed]",
      "text/latex": [
       "$$\\frac{1}{2 \\tilde{r} \\left(\\gamma - 1\\right)} \\left(\\tilde{r} \\left(\\left(\\gamma - 1\\right) \\left(2 \\tilde{\\rho}{\\left (\\tilde{r} \\right )} \\frac{d}{d \\tilde{r}} \\tilde{u}{\\left (\\tilde{r} \\right )} + \\tilde{u}{\\left (\\tilde{r} \\right )} \\frac{d}{d \\tilde{r}} \\tilde{\\rho}{\\left (\\tilde{r} \\right )}\\right) \\tilde{u}{\\left (\\tilde{r} \\right )} + 2 \\frac{d}{d \\tilde{r}} \\tilde{p}{\\left (\\tilde{r} \\right )}\\right) \\tilde{u}{\\left (\\tilde{r} \\right )} + \\left(\\tilde{r} \\frac{d}{d \\tilde{r}} \\tilde{u}{\\left (\\tilde{r} \\right )} + 2 \\tilde{u}{\\left (\\tilde{r} \\right )}\\right) \\left(\\left(\\gamma - 1\\right) \\tilde{\\rho}{\\left (\\tilde{r} \\right )} \\tilde{u}^{2}{\\left (\\tilde{r} \\right )} + 2 \\tilde{p}{\\left (\\tilde{r} \\right )}\\right)\\right) = \\frac{\\tilde{r}^{- \\eta}}{2} - \\frac{1}{\\tilde{r}^{2}} \\tilde{\\rho}{\\left (\\tilde{r} \\right )} \\tilde{u}{\\left (\\tilde{r} \\right )}$$"
      ],
      "text/plain": [
       "          ⎛        ⎛                              d                           \n",
       "\\tilde{r}⋅⎜(γ - 1)⋅⎜2⋅\\tilde{\\rho}(\\tilde{r})⋅──────────(\\tilde{u}(\\tilde{r}))\n",
       "          ⎝        ⎝                          d\\tilde{r}                      \n",
       "──────────────────────────────────────────────────────────────────────────────\n",
       "                                                                              \n",
       "                                                                              \n",
       "\n",
       "                            d                              ⎞                  \n",
       " + \\tilde{u}(\\tilde{r})⋅──────────(\\tilde{\\rho}(\\tilde{r}))⎟⋅\\tilde{u}(\\tilde{\n",
       "                        d\\tilde{r}                         ⎠                  \n",
       "──────────────────────────────────────────────────────────────────────────────\n",
       "                                                                              \n",
       "                                                                              \n",
       "\n",
       "            d                           ⎞                        ⎛            \n",
       "r}) + 2⋅──────────(\\tilde{p}(\\tilde{r}))⎟⋅\\tilde{u}(\\tilde{r}) + ⎜\\tilde{r}⋅──\n",
       "        d\\tilde{r}                      ⎠                        ⎝          d\\\n",
       "──────────────────────────────────────────────────────────────────────────────\n",
       "                    2⋅\\tilde{r}⋅(γ - 1)                                       \n",
       "                                                                              \n",
       "\n",
       "  d                                                    ⎞ ⎛                    \n",
       "────────(\\tilde{u}(\\tilde{r})) + 2⋅\\tilde{u}(\\tilde{r})⎟⋅⎝(γ - 1)⋅\\tilde{\\rho}\n",
       "tilde{r}                                               ⎠                      \n",
       "──────────────────────────────────────────────────────────────────────────────\n",
       "                                                                              \n",
       "                                                                              \n",
       "\n",
       "                     2                                    ⎞                   \n",
       "(\\tilde{r})⋅\\tilde{u} (\\tilde{r}) + 2⋅\\tilde{p}(\\tilde{r})⎠            -η     \n",
       "                                                              \\tilde{r}     \\t\n",
       "─────────────────────────────────────────────────────────── = ─────────── - ──\n",
       "                                                                   2          \n",
       "                                                                              \n",
       "\n",
       "                                          \n",
       "                                          \n",
       "ilde{\\rho}(\\tilde{r})⋅\\tilde{u}(\\tilde{r})\n",
       "──────────────────────────────────────────\n",
       "                        2                 \n",
       "               \\tilde{r}                  "
      ]
     },
     "execution_count": 81,
     "metadata": {},
     "output_type": "execute_result"
    }
   ],
   "source": [
    "temp = energy_conservation\n",
    "temp = temp.subs(q, mass_source)\n",
    "temp = temp.subs(q(r), mass_source)\n",
    "temp = temp.subs(rho(r).diff(r), bondi_density*tilde_rho(tilde_r).diff(tilde_r)/bondi_radius)\n",
    "temp = temp.subs(u(r).diff(r), v_w*tilde_u(tilde_r).diff(tilde_r)/bondi_radius)\n",
    "temp = temp.subs(p(r).diff(r), bondi_density*v_w**2*tilde_p(tilde_r).diff(tilde_r)/bondi_radius)\n",
    "temp = temp.subs(rho(r), bondi_density*tilde_rho(tilde_r))\n",
    "temp = temp.subs(u(r), v_w*tilde_u(tilde_r))\n",
    "temp = temp.subs(p(r), bondi_density*v_w**2*tilde_p(tilde_r))\n",
    "temp = sympy.Eq(temp.lhs*(G*M)**eta/D/(v_w**2)**eta/v_w**2, \n",
    "                temp.rhs*(G*M)**eta/D/(v_w**2)**eta/v_w**2)\n",
    "temp = temp.subs(r, bondi_radius*tilde_r)\n",
    "temp = temp.simplify()\n",
    "dimles_energy_conservation = temp\n",
    "dimles_energy_conservation"
   ]
  },
  {
   "cell_type": "markdown",
   "metadata": {},
   "source": [
    "Integral expressions"
   ]
  },
  {
   "cell_type": "code",
   "execution_count": 100,
   "metadata": {
    "collapsed": false
   },
   "outputs": [
    {
     "data": {
      "image/png": "[encoded data removed]",
      "text/latex": [
       "$$\\tilde{r}^{2} \\tilde{\\rho}{\\left (\\tilde{r} \\right )} \\tilde{u}{\\left (\\tilde{r} \\right )} = \\frac{\\tilde{r}^{- \\eta + 3}}{- \\eta + 3} - \\frac{\\tilde{r}_{{st}}^{- \\eta + 3}}{- \\eta + 3}$$"
      ],
      "text/plain": [
       "                                                                   -η + 3     \n",
       "         2                                                \\tilde{r}         \\t\n",
       "\\tilde{r} ⋅\\tilde{\\rho}(\\tilde{r})⋅\\tilde{u}(\\tilde{r}) = ─────────────── - ──\n",
       "                                                               -η + 3         \n",
       "\n",
       "            -η + 3\n",
       "ilde{r}_{st}      \n",
       "──────────────────\n",
       "     -η + 3       "
      ]
     },
     "execution_count": 100,
     "metadata": {},
     "output_type": "execute_result"
    }
   ],
   "source": [
    "tilde_r_st = sympy.Symbol(r'\\tilde{r}_{st}')\n",
    "temp = tilde_r**(-eta)\n",
    "temp *= tilde_r**2\n",
    "temp = temp.simplify()\n",
    "temp = temp.integrate(tilde_r,conds='none')\n",
    "temp = temp - temp.subs(tilde_r, tilde_r_st)\n",
    "temp = sympy.Eq(tilde_r**2*tilde_rho(tilde_r)*tilde_u(tilde_r), temp)\n",
    "integral_mass_conservation = temp\n",
    "integral_mass_conservation"
   ]
  },
  {
   "cell_type": "markdown",
   "metadata": {},
   "source": [
    "Verification"
   ]
  },
  {
   "cell_type": "code",
   "execution_count": 115,
   "metadata": {
    "collapsed": false
   },
   "outputs": [
    {
     "data": {
      "image/png": "[encoded data removed]",
      "text/latex": [
       "$$0$$"
      ],
      "text/plain": [
       "0"
      ]
     },
     "execution_count": 115,
     "metadata": {},
     "output_type": "execute_result"
    }
   ],
   "source": [
    "temp = integral_mass_conservation\n",
    "temp = temp.lhs - temp.rhs\n",
    "temp = temp.diff(tilde_r)\n",
    "temp = temp.subs(sympy.solve(dimles_mass_conservation,\n",
    "                             tilde_rho(tilde_r).diff(tilde_r),dict=True)[0])\n",
    "temp = temp.simplify()\n",
    "temp"
   ]
  },
  {
   "cell_type": "code",
   "execution_count": null,
   "metadata": {
    "collapsed": true
   },
   "outputs": [],
   "source": []
  }
 ],
 "metadata": {
  "kernelspec": {
   "display_name": "Python 2",
   "language": "python",
   "name": "python2"
  },
  "language_info": {
   "codemirror_mode": {
    "name": "ipython",
    "version": 2
   },
   "file_extension": ".py",
   "mimetype": "text/x-python",
   "name": "python",
   "nbconvert_exporter": "python",
   "pygments_lexer": "ipython2",
   "version": "2.7.10"
  }
 },
 "nbformat": 4,
 "nbformat_minor": 0
}
