{
 "cells": [
  {
   "cell_type": "code",
   "execution_count": 1,
   "metadata": {},
   "outputs": [],
   "source": [
    "import sympy\n",
    "sympy.init_printing()"
   ]
  },
  {
   "cell_type": "markdown",
   "metadata": {},
   "source": [
    "# Governing Equations"
   ]
  },
  {
   "cell_type": "markdown",
   "metadata": {},
   "source": [
    "Conservation of mass"
   ]
  },
  {
   "cell_type": "code",
   "execution_count": 2,
   "metadata": {},
   "outputs": [
    {
     "data": {
      "image/png": "[encoded data removed]",
      "text/latex": [
       "$$\\frac{1}{r^{2}} \\left(r^{2} \\rho{\\left (r \\right )} \\frac{d}{d r} u{\\left (r \\right )} + r^{2} u{\\left (r \\right )} \\frac{d}{d r} \\rho{\\left (r \\right )} + 2 r \\rho{\\left (r \\right )} u{\\left (r \\right )}\\right) = q$$"
      ],
      "text/plain": [
       " 2      d           2      d                           \n",
       "r ⋅ρ(r)⋅──(u(r)) + r ⋅u(r)⋅──(ρ(r)) + 2⋅r⋅ρ(r)⋅u(r)    \n",
       "        dr                 dr                          \n",
       "─────────────────────────────────────────────────── = q\n",
       "                          2                            \n",
       "                         r                             "
      ]
     },
     "execution_count": 2,
     "metadata": {},
     "output_type": "execute_result"
    }
   ],
   "source": [
    "r = sympy.Symbol('r', positive=True)\n",
    "rho = sympy.Symbol('rho')\n",
    "u = sympy.Symbol('u')\n",
    "q = sympy.Symbol('q')\n",
    "mass_conservation = sympy.Eq((1/r**2)*(r**2*rho(r)*u(r)).diff(r),q)\n",
    "mass_conservation"
   ]
  },
  {
   "cell_type": "markdown",
   "metadata": {},
   "source": [
    "Conservation of momentum"
   ]
  },
  {
   "cell_type": "code",
   "execution_count": 3,
   "metadata": {},
   "outputs": [
    {
     "data": {
      "image/png": "[encoded data removed]",
      "text/latex": [
       "$$\\rho{\\left (r \\right )} u{\\left (r \\right )} \\frac{d}{d r} u{\\left (r \\right )} + \\frac{d}{d r} p{\\left (r \\right )} = - \\frac{G M}{r^{2}} \\rho{\\left (r \\right )} - q u{\\left (r \\right )}$$"
      ],
      "text/plain": [
       "          d          d            G⋅M⋅ρ(r)         \n",
       "ρ(r)⋅u(r)⋅──(u(r)) + ──(p(r)) = - ──────── - q⋅u(r)\n",
       "          dr         dr               2            \n",
       "                                     r             "
      ]
     },
     "execution_count": 3,
     "metadata": {},
     "output_type": "execute_result"
    }
   ],
   "source": [
    "p = sympy.Symbol('p')\n",
    "G = sympy.Symbol('G', positive=True)\n",
    "M = sympy.Symbol('M', positive=True)\n",
    "momentum_conservation = sympy.Eq(rho(r)*u(r)*u(r).diff(r) + p(r).diff(r),\n",
    "                                 -rho(r)*G*M/r**2-q*u(r))\n",
    "momentum_conservation"
   ]
  },
  {
   "cell_type": "markdown",
   "metadata": {},
   "source": [
    "Energy conservation"
   ]
  },
  {
   "cell_type": "code",
   "execution_count": 4,
   "metadata": {},
   "outputs": [
    {
     "data": {
      "image/png": "[encoded data removed]",
      "text/latex": [
       "$$\\frac{1}{r^{2}} \\left(r^{2} \\left(- \\frac{G M}{r} \\rho{\\left (r \\right )} + \\frac{\\gamma p{\\left (r \\right )}}{\\gamma - 1} + \\frac{1}{2} \\rho{\\left (r \\right )} u^{2}{\\left (r \\right )}\\right) \\frac{d}{d r} u{\\left (r \\right )} + r^{2} \\left(- \\frac{G M}{r} \\frac{d}{d r} \\rho{\\left (r \\right )} + \\frac{G M}{r^{2}} \\rho{\\left (r \\right )} + \\frac{\\gamma}{\\gamma - 1} \\frac{d}{d r} p{\\left (r \\right )} + \\rho{\\left (r \\right )} u{\\left (r \\right )} \\frac{d}{d r} u{\\left (r \\right )} + \\frac{1}{2} u^{2}{\\left (r \\right )} \\frac{d}{d r} \\rho{\\left (r \\right )}\\right) u{\\left (r \\right )} + 2 r \\left(- \\frac{G M}{r} \\rho{\\left (r \\right )} + \\frac{\\gamma p{\\left (r \\right )}}{\\gamma - 1} + \\frac{1}{2} \\rho{\\left (r \\right )} u^{2}{\\left (r \\right )}\\right) u{\\left (r \\right )}\\right) = q \\left(- \\frac{G M}{r} + \\frac{v_{w}^{2}}{2}\\right)$$"
      ],
      "text/plain": [
       "                                                    ⎛      d                  \n",
       "   ⎛                            2   ⎞               ⎜  G⋅M⋅──(ρ(r))           \n",
       " 2 ⎜  G⋅M⋅ρ(r)   γ⋅p(r)   ρ(r)⋅u (r)⎟ d           2 ⎜      dr         G⋅M⋅ρ(r)\n",
       "r ⋅⎜- ──────── + ────── + ──────────⎟⋅──(u(r)) + r ⋅⎜- ──────────── + ────────\n",
       "   ⎝     r       γ - 1        2     ⎠ dr            ⎜       r             2   \n",
       "                                                    ⎝                    r    \n",
       "──────────────────────────────────────────────────────────────────────────────\n",
       "                                                                              \n",
       "                                                                              \n",
       "\n",
       "     d                                2    d       ⎞                          \n",
       "   γ⋅──(p(r))                        u (r)⋅──(ρ(r))⎟            ⎛             \n",
       "     dr                   d                dr      ⎟            ⎜  G⋅M⋅ρ(r)   \n",
       " + ────────── + ρ(r)⋅u(r)⋅──(u(r)) + ──────────────⎟⋅u(r) + 2⋅r⋅⎜- ──────── + \n",
       "     γ - 1                dr               2       ⎟            ⎝     r       \n",
       "                                                   ⎠                          \n",
       "──────────────────────────────────────────────────────────────────────────────\n",
       "             2                                                                \n",
       "            r                                                                 \n",
       "\n",
       "                                            \n",
       "               2   ⎞                        \n",
       "γ⋅p(r)   ρ(r)⋅u (r)⎟                        \n",
       "────── + ──────────⎟⋅u(r)                   \n",
       "γ - 1        2     ⎠          ⎛           2⎞\n",
       "                              ⎜  G⋅M   v_w ⎟\n",
       "───────────────────────── = q⋅⎜- ─── + ────⎟\n",
       "                              ⎝   r     2  ⎠\n",
       "                                            "
      ]
     },
     "execution_count": 4,
     "metadata": {},
     "output_type": "execute_result"
    }
   ],
   "source": [
    "gamma = sympy.Symbol('gamma')\n",
    "v_w = sympy.Symbol('v_w', positive=True)\n",
    "energy_conservation = sympy.Eq((1/r**2)*(r**2*u(r)*(rho(r)*u(r)**2/2+gamma*p(r)/(gamma-1)-G*M*rho(r)/r)).diff(r),\n",
    "         q*(v_w**2/2-G*M/r))\n",
    "energy_conservation"
   ]
  },
  {
   "cell_type": "markdown",
   "metadata": {},
   "source": [
    "Mass source term"
   ]
  },
  {
   "cell_type": "code",
   "execution_count": 5,
   "metadata": {},
   "outputs": [
    {
     "data": {
      "image/png": "[encoded data removed]",
      "text/latex": [
       "$$D r^{- \\eta}$$"
      ],
      "text/plain": [
       "   -η\n",
       "D⋅r  "
      ]
     },
     "execution_count": 5,
     "metadata": {},
     "output_type": "execute_result"
    }
   ],
   "source": [
    "D = sympy.Symbol('D', positive=True)\n",
    "eta = sympy.Symbol('eta', positive=True)\n",
    "mass_source = D*r**(-eta)\n",
    "mass_source\n",
    "\n",
    "# Reduction to dimensionless variables"
   ]
  },
  {
   "cell_type": "markdown",
   "metadata": {},
   "source": [
    "Bondi radius"
   ]
  },
  {
   "cell_type": "code",
   "execution_count": 6,
   "metadata": {},
   "outputs": [
    {
     "data": {
      "image/png": "[encoded data removed]",
      "text/latex": [
       "$$\\frac{G M}{v_{w}^{2}}$$"
      ],
      "text/plain": [
       "G⋅M \n",
       "────\n",
       "   2\n",
       "v_w "
      ]
     },
     "execution_count": 6,
     "metadata": {},
     "output_type": "execute_result"
    }
   ],
   "source": [
    "bondi_radius = G*M/v_w**2\n",
    "bondi_radius"
   ]
  },
  {
   "cell_type": "markdown",
   "metadata": {},
   "source": [
    "Bondi density"
   ]
  },
  {
   "cell_type": "code",
   "execution_count": 7,
   "metadata": {},
   "outputs": [
    {
     "data": {
      "image/png": "[encoded data removed]",
      "text/latex": [
       "$$D v_{w}^{2 \\eta - 3} \\left(G M\\right)^{- \\eta + 1}$$"
      ],
      "text/plain": [
       "     2⋅η - 3      -η + 1\n",
       "D⋅v_w       ⋅(G⋅M)      "
      ]
     },
     "execution_count": 7,
     "metadata": {},
     "output_type": "execute_result"
    }
   ],
   "source": [
    "temp = D*bondi_radius**(-eta)*(bondi_radius/v_w)\n",
    "temp = sympy.expand_power_base(temp,force=True)\n",
    "temp = temp.simplify()\n",
    "bondi_density = temp\n",
    "bondi_density"
   ]
  },
  {
   "cell_type": "markdown",
   "metadata": {},
   "source": [
    "Mass conservation"
   ]
  },
  {
   "cell_type": "code",
   "execution_count": 8,
   "metadata": {},
   "outputs": [
    {
     "data": {
      "image/png": "[encoded data removed]",
      "text/latex": [
       "$$\\tilde{r}^{- \\eta} = \\tilde{\\rho}{\\left (\\tilde{r} \\right )} \\frac{d}{d \\tilde{r}} \\tilde{u}{\\left (\\tilde{r} \\right )} + \\tilde{u}{\\left (\\tilde{r} \\right )} \\frac{d}{d \\tilde{r}} \\tilde{\\rho}{\\left (\\tilde{r} \\right )} + \\frac{2}{\\tilde{r}} \\tilde{\\rho}{\\left (\\tilde{r} \\right )} \\tilde{u}{\\left (\\tilde{r} \\right )}$$"
      ],
      "text/plain": [
       "         -η                               d                                   \n",
       "\\tilde{r}   = \\tilde{\\rho}(\\tilde{r})⋅──────────(\\tilde{u}(\\tilde{r})) + \\tild\n",
       "                                      d\\tilde{r}                              \n",
       "\n",
       "                    d                                 2⋅\\tilde{\\rho}(\\tilde{r}\n",
       "e{u}(\\tilde{r})⋅──────────(\\tilde{\\rho}(\\tilde{r})) + ────────────────────────\n",
       "                d\\tilde{r}                                              \\tilde\n",
       "\n",
       ")⋅\\tilde{u}(\\tilde{r})\n",
       "──────────────────────\n",
       "{r}                   "
      ]
     },
     "execution_count": 8,
     "metadata": {},
     "output_type": "execute_result"
    }
   ],
   "source": [
    "tilde_rho = sympy.Symbol(r'\\tilde{\\rho}')\n",
    "tilde_r = sympy.Symbol(r'\\tilde{r}')\n",
    "tilde_u = sympy.Symbol(r'\\tilde{u}')\n",
    "temp = mass_conservation\n",
    "temp = temp.subs(q, mass_source)\n",
    "temp = temp.subs(rho(r).diff(r), bondi_density*tilde_rho(tilde_r).diff(tilde_r)/bondi_radius)\n",
    "temp = temp.subs(u(r).diff(r), v_w*tilde_u(tilde_r).diff(tilde_r)/bondi_radius)\n",
    "temp = temp.subs(rho(r), bondi_density*tilde_rho(tilde_r))\n",
    "temp = temp.subs(u(r), v_w*tilde_u(tilde_r))\n",
    "temp = sympy.Eq(temp.lhs*(G*M)**eta/D/(v_w**2)**eta, \n",
    "                temp.rhs*(G*M)**eta/D/(v_w**2)**eta)\n",
    "temp = temp.subs(r, bondi_radius*tilde_r)\n",
    "temp = sympy.expand_power_base(temp)\n",
    "temp = temp.simplify()\n",
    "dimles_mass_conservation = temp\n",
    "dimles_mass_conservation"
   ]
  },
  {
   "cell_type": "markdown",
   "metadata": {},
   "source": [
    "Momentum conservation"
   ]
  },
  {
   "cell_type": "code",
   "execution_count": 9,
   "metadata": {},
   "outputs": [
    {
     "data": {
      "image/png": "[encoded data removed]",
      "text/latex": [
       "$$\\tilde{\\rho}{\\left (\\tilde{r} \\right )} \\tilde{u}{\\left (\\tilde{r} \\right )} \\frac{d}{d \\tilde{r}} \\tilde{u}{\\left (\\tilde{r} \\right )} + \\frac{d}{d \\tilde{r}} \\tilde{p}{\\left (\\tilde{r} \\right )} = - \\tilde{r}^{- \\eta} \\tilde{u}{\\left (\\tilde{r} \\right )} - \\frac{1}{\\tilde{r}^{2}} \\tilde{\\rho}{\\left (\\tilde{r} \\right )}$$"
      ],
      "text/plain": [
       "                                                 d                            \n",
       "\\tilde{\\rho}(\\tilde{r})⋅\\tilde{u}(\\tilde{r})⋅──────────(\\tilde{u}(\\tilde{r})) \n",
       "                                             d\\tilde{r}                       \n",
       "                                                                              \n",
       "\n",
       "      d                                         -η                        \\til\n",
       "+ ──────────(\\tilde{p}(\\tilde{r})) = - \\tilde{r}  ⋅\\tilde{u}(\\tilde{r}) - ────\n",
       "  d\\tilde{r}                                                                  \n",
       "                                                                              \n",
       "\n",
       "de{\\rho}(\\tilde{r})\n",
       "───────────────────\n",
       "            2      \n",
       "   \\tilde{r}       "
      ]
     },
     "execution_count": 9,
     "metadata": {},
     "output_type": "execute_result"
    }
   ],
   "source": [
    "tilde_p = sympy.Symbol(r'\\tilde{p}')\n",
    "temp = momentum_conservation\n",
    "temp = temp.subs(q, mass_source)\n",
    "temp = temp.subs(rho(r).diff(r), bondi_density*tilde_rho(tilde_r).diff(tilde_r)/bondi_radius)\n",
    "temp = temp.subs(u(r).diff(r), v_w*tilde_u(tilde_r).diff(tilde_r)/bondi_radius)\n",
    "temp = temp.subs(p(r).diff(r), bondi_density*v_w**2*tilde_p(tilde_r).diff(tilde_r)/bondi_radius)\n",
    "temp = temp.subs(rho(r), bondi_density*tilde_rho(tilde_r))\n",
    "temp = temp.subs(u(r), v_w*tilde_u(tilde_r))\n",
    "temp = temp.subs(p(r), bondi_density*v_w**2*tilde_p(tilde_r))\n",
    "temp = sympy.Eq(temp.lhs*(G*M)**eta/D/(v_w**2)**eta/v_w, \n",
    "                temp.rhs*(G*M)**eta/D/(v_w**2)**eta/v_w)\n",
    "temp = temp.subs(r, bondi_radius*tilde_r)\n",
    "temp = temp.simplify()\n",
    "dimles_momentum_conservation = temp\n",
    "dimles_momentum_conservation"
   ]
  },
  {
   "cell_type": "markdown",
   "metadata": {},
   "source": [
    "Energy conservation"
   ]
  },
  {
   "cell_type": "code",
   "execution_count": 10,
   "metadata": {},
   "outputs": [
    {
     "data": {
      "image/png": "[encoded data removed]",
      "text/latex": [
       "$$\\frac{1}{2} \\tilde{r}^{- \\eta - 1} \\left(\\tilde{r} - 2\\right) = \\frac{1}{2 \\tilde{r}^{2} \\left(\\gamma - 1\\right)} \\left(\\left(\\tilde{r} \\frac{d}{d \\tilde{r}} \\tilde{u}{\\left (\\tilde{r} \\right )} + 2 \\tilde{u}{\\left (\\tilde{r} \\right )}\\right) \\left(2 \\tilde{r} \\gamma \\tilde{p}{\\left (\\tilde{r} \\right )} + \\tilde{r} \\left(\\gamma - 1\\right) \\tilde{\\rho}{\\left (\\tilde{r} \\right )} \\tilde{u}^{2}{\\left (\\tilde{r} \\right )} - 2 \\left(\\gamma - 1\\right) \\tilde{\\rho}{\\left (\\tilde{r} \\right )}\\right) + \\left(2 \\tilde{r}^{2} \\gamma \\frac{d}{d \\tilde{r}} \\tilde{p}{\\left (\\tilde{r} \\right )} + \\tilde{r}^{2} \\left(\\gamma - 1\\right) \\left(2 \\tilde{\\rho}{\\left (\\tilde{r} \\right )} \\frac{d}{d \\tilde{r}} \\tilde{u}{\\left (\\tilde{r} \\right )} + \\tilde{u}{\\left (\\tilde{r} \\right )} \\frac{d}{d \\tilde{r}} \\tilde{\\rho}{\\left (\\tilde{r} \\right )}\\right) \\tilde{u}{\\left (\\tilde{r} \\right )} - 2 \\tilde{r} \\left(\\gamma - 1\\right) \\frac{d}{d \\tilde{r}} \\tilde{\\rho}{\\left (\\tilde{r} \\right )} + 2 \\left(\\gamma - 1\\right) \\tilde{\\rho}{\\left (\\tilde{r} \\right )}\\right) \\tilde{u}{\\left (\\tilde{r} \\right )}\\right)$$"
      ],
      "text/plain": [
       "                                  ⎛              d                            \n",
       "         -η - 1                   ⎜\\tilde{r}⋅──────────(\\tilde{u}(\\tilde{r})) \n",
       "\\tilde{r}      ⋅(\\tilde{r} - 2)   ⎝          d\\tilde{r}                       \n",
       "─────────────────────────────── = ────────────────────────────────────────────\n",
       "               2                                                              \n",
       "                                                                              \n",
       "\n",
       "                        ⎞ ⎛                                                   \n",
       "+ 2⋅\\tilde{u}(\\tilde{r})⎟⋅⎝2⋅\\tilde{r}⋅γ⋅\\tilde{p}(\\tilde{r}) + \\tilde{r}⋅(γ -\n",
       "                        ⎠                                                     \n",
       "──────────────────────────────────────────────────────────────────────────────\n",
       "                                                                              \n",
       "                                                                              \n",
       "\n",
       "                                     2                                        \n",
       " 1)⋅\\tilde{\\rho}(\\tilde{r})⋅\\tilde{u} (\\tilde{r}) - 2⋅(γ - 1)⋅\\tilde{\\rho}(\\ti\n",
       "                                                                              \n",
       "──────────────────────────────────────────────────────────────────────────────\n",
       "                                                                              \n",
       "                                                                              \n",
       "\n",
       "       ⎞   ⎛           2       d                                       2      \n",
       "lde{r})⎠ + ⎜2⋅\\tilde{r} ⋅γ⋅──────────(\\tilde{p}(\\tilde{r})) + \\tilde{r} ⋅(γ - \n",
       "           ⎝               d\\tilde{r}                                         \n",
       "──────────────────────────────────────────────────────────────────────────────\n",
       "                                                                      2       \n",
       "                                                           2⋅\\tilde{r} ⋅(γ - 1\n",
       "\n",
       "   ⎛                              d                                           \n",
       "1)⋅⎜2⋅\\tilde{\\rho}(\\tilde{r})⋅──────────(\\tilde{u}(\\tilde{r})) + \\tilde{u}(\\ti\n",
       "   ⎝                          d\\tilde{r}                                      \n",
       "──────────────────────────────────────────────────────────────────────────────\n",
       "                                                                              \n",
       ")                                                                             \n",
       "\n",
       "            d                              ⎞                                  \n",
       "lde{r})⋅──────────(\\tilde{\\rho}(\\tilde{r}))⎟⋅\\tilde{u}(\\tilde{r}) - 2⋅\\tilde{r\n",
       "        d\\tilde{r}                         ⎠                                  \n",
       "──────────────────────────────────────────────────────────────────────────────\n",
       "                                                                              \n",
       "                                                                              \n",
       "\n",
       "              d                                                               \n",
       "}⋅(γ - 1)⋅──────────(\\tilde{\\rho}(\\tilde{r})) + 2⋅(γ - 1)⋅\\tilde{\\rho}(\\tilde{\n",
       "          d\\tilde{r}                                                          \n",
       "──────────────────────────────────────────────────────────────────────────────\n",
       "                                                                              \n",
       "                                                                              \n",
       "\n",
       "   ⎞                     \n",
       "r})⎟⋅\\tilde{u}(\\tilde{r})\n",
       "   ⎠                     \n",
       "─────────────────────────\n",
       "                         \n",
       "                         "
      ]
     },
     "execution_count": 10,
     "metadata": {},
     "output_type": "execute_result"
    }
   ],
   "source": [
    "temp = energy_conservation\n",
    "temp = temp.subs(q, mass_source)\n",
    "temp = temp.subs(rho(r).diff(r), bondi_density*tilde_rho(tilde_r).diff(tilde_r)/bondi_radius)\n",
    "temp = temp.subs(u(r).diff(r), v_w*tilde_u(tilde_r).diff(tilde_r)/bondi_radius)\n",
    "temp = temp.subs(p(r).diff(r), bondi_density*v_w**2*tilde_p(tilde_r).diff(tilde_r)/bondi_radius)\n",
    "temp = temp.subs(rho(r), bondi_density*tilde_rho(tilde_r))\n",
    "temp = temp.subs(u(r), v_w*tilde_u(tilde_r))\n",
    "temp = temp.subs(p(r), bondi_density*v_w**2*tilde_p(tilde_r))\n",
    "temp = sympy.Eq(temp.lhs*(G*M)**eta/D/(v_w**2)**eta/v_w**2, \n",
    "                temp.rhs*(G*M)**eta/D/(v_w**2)**eta/v_w**2)\n",
    "temp = temp.subs(r, bondi_radius*tilde_r)\n",
    "temp = temp.simplify()\n",
    "dimles_energy_conservation = temp\n",
    "dimles_energy_conservation"
   ]
  },
  {
   "cell_type": "markdown",
   "metadata": {},
   "source": [
    "Integral expressions"
   ]
  },
  {
   "cell_type": "code",
   "execution_count": 11,
   "metadata": {},
   "outputs": [
    {
     "data": {
      "image/png": "[encoded data removed]",
      "text/latex": [
       "$$\\tilde{r}^{2} \\tilde{\\rho}{\\left (\\tilde{r} \\right )} \\tilde{u}{\\left (\\tilde{r} \\right )} = \\frac{\\tilde{r}^{- \\eta + 3}}{- \\eta + 3} - \\frac{\\tilde{r}_{st}^{- \\eta + 3}}{- \\eta + 3}$$"
      ],
      "text/plain": [
       "                                                                   -η + 3     \n",
       "         2                                                \\tilde{r}         \\t\n",
       "\\tilde{r} ⋅\\tilde{\\rho}(\\tilde{r})⋅\\tilde{u}(\\tilde{r}) = ─────────────── - ──\n",
       "                                                               -η + 3         \n",
       "\n",
       "            -η + 3\n",
       "ilde{r}_{st}      \n",
       "──────────────────\n",
       "     -η + 3       "
      ]
     },
     "execution_count": 11,
     "metadata": {},
     "output_type": "execute_result"
    }
   ],
   "source": [
    "tilde_r_st = sympy.Symbol(r'\\tilde{r}_{st}')\n",
    "temp = tilde_r**(-eta)\n",
    "temp *= tilde_r**2\n",
    "temp = temp.simplify()\n",
    "temp = temp.integrate(tilde_r,conds='none')\n",
    "temp = temp - temp.subs(tilde_r, tilde_r_st)\n",
    "temp = sympy.Eq(tilde_r**2*tilde_rho(tilde_r)*tilde_u(tilde_r), temp)\n",
    "integral_mass_conservation = temp\n",
    "integral_mass_conservation"
   ]
  },
  {
   "cell_type": "markdown",
   "metadata": {},
   "source": [
    "Verification"
   ]
  },
  {
   "cell_type": "code",
   "execution_count": 12,
   "metadata": {},
   "outputs": [
    {
     "data": {
      "image/png": "[encoded data removed]",
      "text/latex": [
       "$$0$$"
      ],
      "text/plain": [
       "0"
      ]
     },
     "execution_count": 12,
     "metadata": {},
     "output_type": "execute_result"
    }
   ],
   "source": [
    "temp = integral_mass_conservation\n",
    "temp = temp.lhs - temp.rhs\n",
    "temp = temp.diff(tilde_r)\n",
    "temp = temp.subs(sympy.solve(dimles_mass_conservation,\n",
    "                             tilde_rho(tilde_r).diff(tilde_r),dict=True)[0])\n",
    "temp = temp.simplify()\n",
    "temp"
   ]
  },
  {
   "cell_type": "markdown",
   "metadata": {
    "collapsed": true
   },
   "source": [
    "Energy conservation"
   ]
  },
  {
   "cell_type": "code",
   "execution_count": 13,
   "metadata": {},
   "outputs": [
    {
     "data": {
      "image/png": "[encoded data removed]",
      "text/latex": [
       "$$\\frac{1}{\\gamma - 1} \\left(\\frac{1}{2} \\left(\\gamma - 1\\right) \\left(\\tilde{u}^{2}{\\left (\\tilde{r} \\right )} - 1\\right) + \\tilde{c}^{2}{\\left (\\tilde{r} \\right )}\\right) = \\frac{\\tilde{r}^{- \\eta - 1} \\tilde{r}_{st}^{- \\eta}}{\\left(\\tilde{r}^{- \\eta + 3} - \\tilde{r}_{st}^{- \\eta + 3}\\right) \\left(\\eta - 2\\right)} \\left(\\tilde{r}^{3} \\tilde{r}_{st}^{\\eta} - \\tilde{r}^{\\eta} \\tilde{r}_{st}^{3} \\eta + 2 \\tilde{r}^{\\eta} \\tilde{r}_{st}^{3} + \\tilde{r}^{\\eta + 1} \\tilde{r}_{st}^{2} \\eta - 3 \\tilde{r}^{\\eta + 1} \\tilde{r}_{st}^{2}\\right)$$"
      ],
      "text/plain": [
       "        ⎛         2               ⎞                                           \n",
       "(γ - 1)⋅⎝\\tilde{u} (\\tilde{r}) - 1⎠            2                              \n",
       "─────────────────────────────────── + \\tilde{c} (\\tilde{r})            -η - 1 \n",
       "                 2                                            \\tilde{r}      ⋅\n",
       "─────────────────────────────────────────────────────────── = ────────────────\n",
       "                           γ - 1                                              \n",
       "                                                                              \n",
       "\n",
       "                                                                              \n",
       "                                                                              \n",
       "              -η ⎛         3               η            η               3     \n",
       "\\tilde{r}_{st}  ⋅⎝\\tilde{r} ⋅\\tilde{r}_{st}  - \\tilde{r} ⋅\\tilde{r}_{st} ⋅η + \n",
       "──────────────────────────────────────────────────────────────────────────────\n",
       "                                                         ⎛         -η + 3     \n",
       "                                                         ⎝\\tilde{r}       - \\t\n",
       "\n",
       "                                                                              \n",
       "                                                                              \n",
       "           η               3            η + 1               2                η\n",
       "2⋅\\tilde{r} ⋅\\tilde{r}_{st}  + \\tilde{r}     ⋅\\tilde{r}_{st} ⋅η - 3⋅\\tilde{r} \n",
       "──────────────────────────────────────────────────────────────────────────────\n",
       "            -η + 3⎞                                                           \n",
       "ilde{r}_{st}      ⎠⋅(η - 2)                                                   \n",
       "\n",
       "                     \n",
       "                     \n",
       " + 1               2⎞\n",
       "    ⋅\\tilde{r}_{st} ⎠\n",
       "─────────────────────\n",
       "                     \n",
       "                     "
      ]
     },
     "execution_count": 13,
     "metadata": {},
     "output_type": "execute_result"
    }
   ],
   "source": [
    "tilde_c = sympy.Symbol(r'\\tilde{c}')\n",
    "temp = -integral_mass_conservation.rhs\n",
    "temp /= tilde_r**2\n",
    "temp = temp.expand()\n",
    "temp = temp.integrate(tilde_r,conds='none')\n",
    "temp = temp - temp.subs(tilde_r, tilde_r_st)\n",
    "temp = temp.simplify()\n",
    "temp = temp.subs(eta**2-5*eta+6, (eta-2)*(eta-3))\n",
    "temp = sympy.Eq(tilde_u(tilde_r)**2/2-sympy.Rational(1,2) + tilde_c(tilde_r)**2/(gamma-1),\n",
    "               temp/integral_mass_conservation.rhs)\n",
    "temp = temp.simplify()\n",
    "integral_energy_conservation = temp\n",
    "integral_energy_conservation"
   ]
  },
  {
   "cell_type": "markdown",
   "metadata": {},
   "source": [
    "Verification"
   ]
  },
  {
   "cell_type": "code",
   "execution_count": 14,
   "metadata": {},
   "outputs": [
    {
     "data": {
      "image/png": "[encoded data removed]",
      "text/latex": [
       "$$0$$"
      ],
      "text/plain": [
       "0"
      ]
     },
     "execution_count": 14,
     "metadata": {},
     "output_type": "execute_result"
    }
   ],
   "source": [
    "temp = integral_energy_conservation\n",
    "temp = temp.subs(tilde_c(tilde_r), sympy.sqrt(gamma*tilde_p(tilde_r)/tilde_rho(tilde_r)))\n",
    "temp = sympy.Eq(temp.lhs*integral_mass_conservation.lhs,\n",
    "                temp.rhs*integral_mass_conservation.rhs)\n",
    "temp = temp.lhs - temp.rhs\n",
    "temp = temp.diff(tilde_r)\n",
    "temp -= (dimles_energy_conservation.rhs-dimles_energy_conservation.lhs)*tilde_r**2\n",
    "temp = temp.subs(sympy.solve(dimles_mass_conservation,tilde_rho(tilde_r).diff(tilde_r),dict=True)[0])\n",
    "temp = temp.subs(sympy.solve(integral_mass_conservation,tilde_rho(tilde_r),dict=True)[0])\n",
    "temp = temp.subs(sympy.solve([dimles_mass_conservation,\n",
    "                              dimles_momentum_conservation,\n",
    "                              dimles_energy_conservation],\n",
    "                             [tilde_p(tilde_r).diff(tilde_r),\n",
    "                             tilde_rho(tilde_r).diff(tilde_r),\n",
    "                             tilde_u(tilde_r).diff(tilde_r)]))                           \n",
    "temp = temp.simplify()\n",
    "temp = temp.subs(sympy.solve(integral_mass_conservation,tilde_rho(tilde_r),dict=True)[0])\n",
    "temp.simplify()"
   ]
  },
  {
   "cell_type": "markdown",
   "metadata": {},
   "source": [
    "# Solutions without Gravity\n",
    "In this case the fluid velocity and the speed of sound are constant. The density is a single power law"
   ]
  },
  {
   "cell_type": "code",
   "execution_count": 15,
   "metadata": {},
   "outputs": [
    {
     "data": {
      "image/png": "[encoded data removed]",
      "text/latex": [
       "$$\\left [ \\left ( \\frac{D \\sqrt{\\frac{- \\eta \\gamma + \\eta + \\gamma - 1}{\\eta \\gamma + \\eta - 5 \\gamma - 1}} \\left(\\eta \\gamma + \\eta - 5 \\gamma - 1\\right)}{v_{w} \\left(\\eta^{2} \\gamma - \\eta^{2} - 4 \\eta \\gamma + 4 \\eta + 3 \\gamma - 3\\right)}, \\quad v_{w} \\sqrt{- \\frac{\\left(\\eta - 1\\right) \\left(\\gamma - 1\\right)}{\\eta \\gamma + \\eta - 5 \\gamma - 1}}, \\quad v_{w} \\sqrt{\\frac{\\gamma \\left(\\eta - 3\\right) \\left(\\gamma - 1\\right)}{\\eta \\gamma + \\eta - 5 \\gamma - 1}}\\right ), \\quad - \\eta + 1\\right ]$$"
      ],
      "text/plain": [
       "⎡⎛      ___________________                                                   \n",
       "⎢⎜     ╱  -η⋅γ + η + γ - 1                                                    \n",
       "⎢⎜D⋅  ╱  ───────────────── ⋅(η⋅γ + η - 5⋅γ - 1)          ___________________  \n",
       "⎢⎜  ╲╱   η⋅γ + η - 5⋅γ - 1                              ╱ -(η - 1)⋅(γ - 1)    \n",
       "⎢⎜─────────────────────────────────────────────, v_w⋅  ╱  ───────────────── , \n",
       "⎢⎜       ⎛ 2      2                        ⎞         ╲╱   η⋅γ + η - 5⋅γ - 1   \n",
       "⎣⎝   v_w⋅⎝η ⋅γ - η  - 4⋅η⋅γ + 4⋅η + 3⋅γ - 3⎠                                  \n",
       "\n",
       "                           ⎞        ⎤\n",
       "                           ⎟        ⎥\n",
       "        ___________________⎟        ⎥\n",
       "       ╱ γ⋅(η - 3)⋅(γ - 1) ⎟        ⎥\n",
       "v_w⋅  ╱  ───────────────── ⎟, -η + 1⎥\n",
       "    ╲╱   η⋅γ + η - 5⋅γ - 1 ⎟        ⎥\n",
       "                           ⎠        ⎦"
      ]
     },
     "execution_count": 15,
     "metadata": {},
     "output_type": "execute_result"
    }
   ],
   "source": [
    "c = sympy.Symbol('c')\n",
    "alpha = sympy.Symbol('alpha')\n",
    "A = sympy.Symbol('A')\n",
    "temp = [mass_conservation,momentum_conservation,energy_conservation]\n",
    "temp = map(lambda eqn: eqn.subs(q,mass_source), temp)\n",
    "temp = map(lambda eqn: eqn.subs(p(r),rho(r)*c(r)**2/gamma), temp)\n",
    "temp = map(lambda eqn: eqn.doit(), temp)\n",
    "temp = map(lambda eqn: eqn.subs(M,0), temp)\n",
    "temp = map(lambda eqn: eqn.subs(u(r).diff(r),0), temp)\n",
    "temp = map(lambda eqn: eqn.subs(c(r).diff(r),0), temp)\n",
    "temp = map(lambda eqn: eqn.subs(rho(r),A*r**alpha),temp)\n",
    "temp = map(lambda eqn: eqn.doit(), temp)\n",
    "temp = map(lambda eqn: eqn.simplify(), temp)\n",
    "temp = list(temp)\n",
    "asymptotic_density_index = sympy.solve(sympy.Eq(sympy.log(temp[0].lhs).diff(r)*r,\n",
    "         (sympy.log(temp[0].rhs).diff(r)*r).subs(u(r).diff(r),0)),alpha)[0]\n",
    "temp = map(lambda eqn: eqn.subs(alpha,asymptotic_density_index), temp)\n",
    "asymptotic_prefactors = sympy.solve(temp,[A,u(r),c(r)])[1]\n",
    "[asymptotic_prefactors,asymptotic_density_index]"
   ]
  },
  {
   "cell_type": "markdown",
   "metadata": {},
   "source": [
    "Asymptotic Mach number"
   ]
  },
  {
   "cell_type": "code",
   "execution_count": 16,
   "metadata": {},
   "outputs": [
    {
     "data": {
      "image/png": "[encoded data removed]",
      "text/latex": [
       "$$\\frac{\\sqrt{\\eta - 1}}{\\sqrt{\\gamma \\left(- \\eta + 3\\right)}}$$"
      ],
      "text/plain": [
       "    _______   \n",
       "  ╲╱ η - 1    \n",
       "──────────────\n",
       "  ____________\n",
       "╲╱ γ⋅(-η + 3) "
      ]
     },
     "execution_count": 16,
     "metadata": {},
     "output_type": "execute_result"
    }
   ],
   "source": [
    "Q = sympy.Symbol('Q',positive=True)\n",
    "temp = asymptotic_prefactors[1]/asymptotic_prefactors[2]\n",
    "temp = temp.subs(eta*gamma+eta-5*gamma-1,-Q)\n",
    "temp = sympy.expand_power_base(temp)\n",
    "temp = temp.simplify()\n",
    "temp = temp.subs(gamma-1,Q)\n",
    "temp = temp.simplify()\n",
    "asymptotic_mach_number = temp\n",
    "asymptotic_mach_number"
   ]
  },
  {
   "cell_type": "markdown",
   "metadata": {},
   "source": [
    "More simplification for the density prefactor"
   ]
  },
  {
   "cell_type": "code",
   "execution_count": 17,
   "metadata": {},
   "outputs": [
    {
     "data": {
      "image/png": "[encoded data removed]",
      "text/latex": [
       "$$- \\frac{D \\sqrt{- \\eta \\left(\\gamma - 1\\right) - 2 \\eta + 5 \\gamma + 1}}{v_{w} \\left(\\eta - 3\\right) \\sqrt{\\eta - 1} \\sqrt{\\gamma - 1}}$$"
      ],
      "text/plain": [
       "     ____________________________ \n",
       "-D⋅╲╱ -η⋅(γ - 1) - 2⋅η + 5⋅γ + 1  \n",
       "──────────────────────────────────\n",
       "               _______   _______  \n",
       " v_w⋅(η - 3)⋅╲╱ η - 1 ⋅╲╱ γ - 1   "
      ]
     },
     "execution_count": 17,
     "metadata": {},
     "output_type": "execute_result"
    }
   ],
   "source": [
    "temp = asymptotic_prefactors[0]\n",
    "temp = temp.subs(eta,Q+1)\n",
    "temp = temp.simplify()\n",
    "temp = temp.subs(Q,eta-1)\n",
    "temp = temp.subs(eta,Q+3)\n",
    "temp = temp.simplify()\n",
    "temp = temp.subs(Q,eta-3)\n",
    "temp = temp.subs(gamma,Q+1)\n",
    "temp = temp.simplify()\n",
    "temp = temp.subs(Q,gamma-1)\n",
    "temp = temp.subs(eta*(gamma-1)+2*eta-5*gamma-1,-Q)\n",
    "temp = temp.simplify()\n",
    "temp = temp.subs(Q,-(eta*(gamma-1)+2*eta-5*gamma-1))\n",
    "temp"
   ]
  },
  {
   "cell_type": "markdown",
   "metadata": {},
   "source": [
    "The flow is supersonic at large distances when $\\eta$ is greater than"
   ]
  },
  {
   "cell_type": "code",
   "execution_count": 18,
   "metadata": {},
   "outputs": [
    {
     "data": {
      "image/png": "[encoded data removed]",
      "text/latex": [
       "$$\\frac{3 \\gamma + 1}{\\gamma + 1}$$"
      ],
      "text/plain": [
       "3⋅γ + 1\n",
       "───────\n",
       " γ + 1 "
      ]
     },
     "execution_count": 18,
     "metadata": {},
     "output_type": "execute_result"
    }
   ],
   "source": [
    "sympy.solve(asymptotic_mach_number-1,eta)[0]"
   ]
  },
  {
   "cell_type": "markdown",
   "metadata": {},
   "source": [
    "# Slow Injection velocity"
   ]
  },
  {
   "cell_type": "code",
   "execution_count": 49,
   "metadata": {},
   "outputs": [
    {
     "data": {
      "image/png": "[encoded data removed]",
      "text/latex": [
       "$$\\left [ \\frac{2 \\gamma \\left(\\eta \\gamma - \\eta - 3 \\gamma + 3\\right)}{2 \\eta^{2} \\gamma + 2 \\eta^{2} - 13 \\eta \\gamma - 5 \\eta + 18 \\gamma + 2}, \\quad \\frac{2 \\left(2 \\eta - 3 \\gamma - 1\\right)}{2 \\eta^{2} \\gamma + 2 \\eta^{2} - 13 \\eta \\gamma - 5 \\eta + 18 \\gamma + 2}, \\quad \\frac{2 \\eta^{2} \\gamma + 2 \\eta^{2} - 13 \\eta \\gamma - 5 \\eta + 18 \\gamma + 2}{2 \\left(2 \\eta^{3} - 3 \\eta^{2} \\gamma - 13 \\eta^{2} + 18 \\eta \\gamma + 24 \\eta - 27 \\gamma - 9\\right)}\\right ]$$"
      ],
      "text/plain": [
       "⎡                                                                             \n",
       "⎢        2⋅γ⋅(η⋅γ - η - 3⋅γ + 3)                     2⋅(2⋅η - 3⋅γ - 1)        \n",
       "⎢───────────────────────────────────────, ────────────────────────────────────\n",
       "⎢   2        2                               2        2                       \n",
       "⎣2⋅η ⋅γ + 2⋅η  - 13⋅η⋅γ - 5⋅η + 18⋅γ + 2  2⋅η ⋅γ + 2⋅η  - 13⋅η⋅γ - 5⋅η + 18⋅γ \n",
       "\n",
       "              2        2                                 ⎤\n",
       "           2⋅η ⋅γ + 2⋅η  - 13⋅η⋅γ - 5⋅η + 18⋅γ + 2       ⎥\n",
       "───, ────────────────────────────────────────────────────⎥\n",
       "       ⎛   3      2         2                           ⎞⎥\n",
       "+ 2  2⋅⎝2⋅η  - 3⋅η ⋅γ - 13⋅η  + 18⋅η⋅γ + 24⋅η - 27⋅γ - 9⎠⎦"
      ]
     },
     "execution_count": 49,
     "metadata": {},
     "output_type": "execute_result"
    }
   ],
   "source": [
    "A_c = sympy.Symbol('A_c', positive=True)\n",
    "A_d = sympy.Symbol('A_d', positive=True)\n",
    "A_u = sympy.Symbol('A_u', positive=True)\n",
    "xi = sympy.Symbol('xi', positive=True)\n",
    "temp = [mass_conservation,\n",
    "        momentum_conservation,\n",
    "        energy_conservation]\n",
    "temp = [itm.subs(q, D*r**(-eta)) for itm in temp]\n",
    "temp = [itm.subs(v_w,0) for itm in temp]\n",
    "temp = [itm.subs(p(r), rho(r)*c(r)**2/gamma) for itm in temp]\n",
    "temp = [itm.subs(u(r), -sympy.sqrt(A_u*G*M/r)) for itm in temp]\n",
    "temp = [itm.subs(c(r), sympy.sqrt(A_c*G*M/r)) for itm in temp]\n",
    "temp = [itm.subs(rho(r), sympy.sqrt(A_d)*D*r**(sympy.Rational(3,2)-eta)/sympy.sqrt(G*M)) for itm in temp]\n",
    "temp = [itm.doit().simplify() for itm in temp]\n",
    "temp = sympy.solve(temp,[A_c, A_u, A_d])[0]\n",
    "temp = [itm.subs(eta,xi+3) for itm in temp]\n",
    "temp = [itm.subs(xi,eta-3).simplify() for itm in temp]\n",
    "temp"
   ]
  },
  {
   "cell_type": "markdown",
   "metadata": {},
   "source": [
    "# Free - fall solution\n",
    "Very close to the SMBH"
   ]
  },
  {
   "cell_type": "code",
   "execution_count": 20,
   "metadata": {},
   "outputs": [
    {
     "data": {
      "image/png": "[encoded data removed]",
      "text/latex": [
       "$$\\frac{1}{2} \\tilde{u}^{2}{\\left (\\tilde{r} \\right )} + \\frac{\\tilde{c}^{2}{\\left (\\tilde{r} \\right )}}{\\gamma - 1} = \\frac{1}{\\tilde{r}}$$"
      ],
      "text/plain": [
       "         2                       2                       \n",
       "\\tilde{u} (\\tilde{r})   \\tilde{c} (\\tilde{r})       1    \n",
       "───────────────────── + ───────────────────── = ─────────\n",
       "          2                     γ - 1           \\tilde{r}"
      ]
     },
     "execution_count": 20,
     "metadata": {},
     "output_type": "execute_result"
    }
   ],
   "source": [
    "freefall_integral_energy = sympy.Eq(\n",
    "    tilde_u(tilde_r)**2/2+tilde_c(tilde_r)**2/(gamma-1),\n",
    "    1/tilde_r)\n",
    "freefall_integral_energy"
   ]
  },
  {
   "cell_type": "code",
   "execution_count": 21,
   "metadata": {},
   "outputs": [
    {
     "data": {
      "image/png": "[encoded data removed]",
      "text/latex": [
       "$$\\frac{\\tilde{r}_{st}^{- \\eta + 3}}{\\tilde{r}^{2} \\left(\\eta - 3\\right) \\tilde{u}{\\left (\\tilde{r} \\right )}}$$"
      ],
      "text/plain": [
       "                        -η + 3         \n",
       "          \\tilde{r}_{st}               \n",
       "───────────────────────────────────────\n",
       "         2                             \n",
       "\\tilde{r} ⋅(η - 3)⋅\\tilde{u}(\\tilde{r})"
      ]
     },
     "execution_count": 21,
     "metadata": {},
     "output_type": "execute_result"
    }
   ],
   "source": [
    "temp = integral_mass_conservation\n",
    "temp = temp.subs(tilde_r**(3-eta),0)\n",
    "freefall_density = sympy.solve(temp,tilde_rho(tilde_r))[0]\n",
    "freefall_density"
   ]
  },
  {
   "cell_type": "code",
   "execution_count": 22,
   "metadata": {},
   "outputs": [],
   "source": [
    "freefall_u_ansatz = sympy.sqrt(A)/sympy.sqrt(tilde_r)"
   ]
  },
  {
   "cell_type": "code",
   "execution_count": 23,
   "metadata": {},
   "outputs": [
    {
     "data": {
      "image/png": "[encoded data removed]",
      "text/latex": [
       "$$- \\frac{\\sqrt{2}}{\\sqrt{\\tilde{r}}}$$"
      ],
      "text/plain": [
       "     -√2     \n",
       "─────────────\n",
       "  ___________\n",
       "╲╱ \\tilde{r} "
      ]
     },
     "execution_count": 23,
     "metadata": {},
     "output_type": "execute_result"
    }
   ],
   "source": [
    "temp = dimles_momentum_conservation\n",
    "temp = temp.subs(tilde_r**(-eta),0)\n",
    "temp = temp.subs(tilde_p(tilde_r), tilde_rho(tilde_r)*tilde_c(tilde_r)**2/gamma)\n",
    "temp = temp.subs(tilde_rho(tilde_r), freefall_density)\n",
    "temp = temp.subs(sympy.solve(freefall_integral_energy,tilde_c(tilde_r)**2,dict=True)[0])\n",
    "temp = temp.subs(tilde_u(tilde_r), freefall_u_ansatz)\n",
    "temp = temp.doit()\n",
    "temp = temp.lhs - temp.rhs\n",
    "temp = temp.simplify()\n",
    "temp = sympy.solve(temp,A)[0]\n",
    "freefall_u = -freefall_u_ansatz.subs(A,temp)\n",
    "freefall_u"
   ]
  },
  {
   "cell_type": "markdown",
   "metadata": {},
   "source": [
    "This is true unless $\\gamma = \\frac{5}{3}$"
   ]
  },
  {
   "cell_type": "code",
   "execution_count": 24,
   "metadata": {},
   "outputs": [
    {
     "data": {
      "image/png": "[encoded data removed]",
      "text/latex": [
       "$$0$$"
      ],
      "text/plain": [
       "0"
      ]
     },
     "execution_count": 24,
     "metadata": {},
     "output_type": "execute_result"
    }
   ],
   "source": [
    "temp = dimles_momentum_conservation\n",
    "temp = temp.subs(tilde_r**(-eta),0)\n",
    "temp = temp.subs(tilde_p(tilde_r), tilde_rho(tilde_r)*tilde_c(tilde_r)**2/gamma)\n",
    "temp = temp.subs(tilde_rho(tilde_r), freefall_density)\n",
    "temp = temp.subs(sympy.solve(freefall_integral_energy,tilde_c(tilde_r)**2,dict=True)[0])\n",
    "temp = temp.subs(tilde_u(tilde_r), freefall_u_ansatz)\n",
    "temp = temp.doit()\n",
    "temp = temp.lhs - temp.rhs\n",
    "temp = temp.subs(gamma,sympy.Rational(5,3))\n",
    "temp = temp.simplify()\n",
    "temp"
   ]
  },
  {
   "cell_type": "markdown",
   "metadata": {},
   "source": [
    "# Secular analytic solution"
   ]
  },
  {
   "cell_type": "code",
   "execution_count": 25,
   "metadata": {},
   "outputs": [
    {
     "data": {
      "image/png": "[encoded data removed]",
      "text/latex": [
       "$$\\frac{4 \\sqrt{6}}{3 \\tilde{r}^{\\frac{3}{2}}}$$"
      ],
      "text/plain": [
       "     4⋅√6     \n",
       "──────────────\n",
       "           3/2\n",
       "3⋅\\tilde{r}   "
      ]
     },
     "execution_count": 25,
     "metadata": {},
     "output_type": "execute_result"
    }
   ],
   "source": [
    "temp = asymptotic_prefactors[0]/tilde_r**sympy.Rational(3,2)\n",
    "temp = temp.subs(gamma,sympy.Rational(5,3))\n",
    "temp = temp.subs(eta,sympy.Rational(5,2))\n",
    "secular_rho = temp/(D/v_w)\n",
    "secular_rho"
   ]
  },
  {
   "cell_type": "code",
   "execution_count": 26,
   "metadata": {},
   "outputs": [
    {
     "data": {
      "image/png": "[encoded data removed]",
      "text/latex": [
       "$$\\frac{\\sqrt{6}}{4} - \\frac{1}{\\sqrt{\\tilde{r}}}$$"
      ],
      "text/plain": [
       "√6         1      \n",
       "── - ─────────────\n",
       "4      ___________\n",
       "     ╲╱ \\tilde{r} "
      ]
     },
     "execution_count": 26,
     "metadata": {},
     "output_type": "execute_result"
    }
   ],
   "source": [
    "temp = dimles_mass_conservation\n",
    "temp = temp.subs(tilde_rho(tilde_r), secular_rho)\n",
    "temp = temp.doit()\n",
    "temp = temp.subs(eta,sympy.Rational(5,2))\n",
    "temp = sympy.dsolve(temp,tilde_u(tilde_r))\n",
    "temp = temp.subs(sympy.Symbol('C1'),-1)\n",
    "secular_u = temp.rhs \n",
    "secular_u"
   ]
  },
  {
   "cell_type": "code",
   "execution_count": 27,
   "metadata": {},
   "outputs": [
    {
     "data": {
      "image/png": "[encoded data removed]",
      "text/latex": [
       "$$\\frac{8}{3}$$"
      ],
      "text/plain": [
       "8/3"
      ]
     },
     "execution_count": 27,
     "metadata": {},
     "output_type": "execute_result"
    }
   ],
   "source": [
    "secular_stagnation = sympy.solve(secular_u,tilde_r)[0]\n",
    "secular_stagnation"
   ]
  },
  {
   "cell_type": "code",
   "execution_count": 28,
   "metadata": {},
   "outputs": [
    {
     "data": {
      "image/png": "[encoded data removed]",
      "text/latex": [
       "$$\\frac{5}{24} + \\frac{1}{3 \\tilde{r}}$$"
      ],
      "text/plain": [
       "5         1     \n",
       "── + ───────────\n",
       "24   3⋅\\tilde{r}"
      ]
     },
     "execution_count": 28,
     "metadata": {},
     "output_type": "execute_result"
    }
   ],
   "source": [
    "temp = integral_energy_conservation\n",
    "temp = temp.subs(tilde_u(tilde_r),secular_u)\n",
    "temp = temp.subs(tilde_r_st, secular_stagnation)\n",
    "temp = temp.subs(eta,sympy.Rational(5,2))\n",
    "temp = temp.subs(gamma,sympy.Rational(5,3))\n",
    "temp = sympy.solve(temp,tilde_c(tilde_r)**2)[0]\n",
    "temp = temp.subs(tilde_r,Q**2)\n",
    "temp = temp.simplify()\n",
    "temp = temp.subs(Q,sympy.sqrt(tilde_r))\n",
    "secular_c2 = temp\n",
    "secular_c2"
   ]
  },
  {
   "cell_type": "markdown",
   "metadata": {},
   "source": [
    "Verification"
   ]
  },
  {
   "cell_type": "code",
   "execution_count": 29,
   "metadata": {},
   "outputs": [
    {
     "data": {
      "image/png": "[encoded data removed]",
      "text/latex": [
       "$$\\left [ 0, \\quad 0, \\quad 0\\right ]$$"
      ],
      "text/plain": [
       "[0, 0, 0]"
      ]
     },
     "execution_count": 29,
     "metadata": {},
     "output_type": "execute_result"
    }
   ],
   "source": [
    "temp = [dimles_mass_conservation,dimles_momentum_conservation,dimles_energy_conservation]\n",
    "temp = map(lambda eqn:eqn.subs(tilde_p(tilde_r),tilde_rho(tilde_r)*tilde_c(tilde_r)**2/gamma),temp)\n",
    "temp = map(lambda eqn:eqn.subs(tilde_c(tilde_r)**2,secular_c2),temp)\n",
    "temp = map(lambda eqn:eqn.subs(tilde_rho(tilde_r),secular_rho),temp)\n",
    "temp = map(lambda eqn:eqn.subs(tilde_u(tilde_r),secular_u),temp)\n",
    "temp = map(lambda eqn:eqn.subs({gamma:sympy.Rational(5,3),eta:sympy.Rational(5,2)}),temp)\n",
    "temp = map(lambda eqn:eqn.doit(),temp)\n",
    "temp = map(lambda eqn:eqn.lhs-eqn.rhs,temp)\n",
    "temp = map(lambda eqn:eqn.simplify(),temp)\n",
    "list(temp)"
   ]
  },
  {
   "cell_type": "markdown",
   "metadata": {},
   "source": [
    "# Integrating ODEs"
   ]
  },
  {
   "cell_type": "code",
   "execution_count": 30,
   "metadata": {},
   "outputs": [
    {
     "data": {
      "image/png": "[encoded data removed]",
      "text/latex": [
       "$$\\left \\{ \\frac{d}{d \\tilde{r}} \\tilde{\\rho}{\\left (\\tilde{r} \\right )} : \\frac{\\tilde{r}^{- \\eta - 2}}{2 \\left(m^{2}{\\left (\\tilde{r} \\right )} - 1\\right) \\tilde{c}^{3}{\\left (\\tilde{r} \\right )} m{\\left (\\tilde{r} \\right )}} \\left(\\tilde{r}^{2} \\gamma \\tilde{c}^{2}{\\left (\\tilde{r} \\right )} m^{2}{\\left (\\tilde{r} \\right )} + \\tilde{r}^{2} \\gamma + 3 \\tilde{r}^{2} \\tilde{c}^{2}{\\left (\\tilde{r} \\right )} m^{2}{\\left (\\tilde{r} \\right )} - 2 \\tilde{r}^{2} \\tilde{c}^{2}{\\left (\\tilde{r} \\right )} - \\tilde{r}^{2} + 2 \\tilde{r}^{\\eta} \\tilde{\\rho}{\\left (\\tilde{r} \\right )} \\tilde{c}{\\left (\\tilde{r} \\right )} m{\\left (\\tilde{r} \\right )} - 4 \\tilde{r}^{\\eta + 1} \\tilde{\\rho}{\\left (\\tilde{r} \\right )} \\tilde{c}^{3}{\\left (\\tilde{r} \\right )} m^{3}{\\left (\\tilde{r} \\right )}\\right), \\quad \\frac{d}{d \\tilde{r}} \\tilde{c}{\\left (\\tilde{r} \\right )} : \\frac{\\tilde{r}^{- \\eta - 2}}{4 \\left(m^{2}{\\left (\\tilde{r} \\right )} - 1\\right) \\tilde{\\rho}{\\left (\\tilde{r} \\right )} \\tilde{c}^{2}{\\left (\\tilde{r} \\right )} m{\\left (\\tilde{r} \\right )}} \\left(\\tilde{r}^{2} \\gamma^{2} \\tilde{c}^{2}{\\left (\\tilde{r} \\right )} m^{4}{\\left (\\tilde{r} \\right )} + \\tilde{r}^{2} \\gamma^{2} m^{2}{\\left (\\tilde{r} \\right )} - \\tilde{r}^{2} \\gamma \\tilde{c}^{2}{\\left (\\tilde{r} \\right )} m^{4}{\\left (\\tilde{r} \\right )} + \\tilde{r}^{2} \\gamma \\tilde{c}^{2}{\\left (\\tilde{r} \\right )} m^{2}{\\left (\\tilde{r} \\right )} - \\tilde{r}^{2} \\gamma m^{2}{\\left (\\tilde{r} \\right )} - \\tilde{r}^{2} \\gamma - 3 \\tilde{r}^{2} \\tilde{c}^{2}{\\left (\\tilde{r} \\right )} m^{2}{\\left (\\tilde{r} \\right )} + 2 \\tilde{r}^{2} \\tilde{c}^{2}{\\left (\\tilde{r} \\right )} + \\tilde{r}^{2} + 2 \\tilde{r}^{\\eta} \\gamma \\tilde{\\rho}{\\left (\\tilde{r} \\right )} \\tilde{c}{\\left (\\tilde{r} \\right )} m{\\left (\\tilde{r} \\right )} - 2 \\tilde{r}^{\\eta} \\tilde{\\rho}{\\left (\\tilde{r} \\right )} \\tilde{c}{\\left (\\tilde{r} \\right )} m{\\left (\\tilde{r} \\right )} - 4 \\tilde{r}^{\\eta + 1} \\gamma \\tilde{\\rho}{\\left (\\tilde{r} \\right )} \\tilde{c}^{3}{\\left (\\tilde{r} \\right )} m^{3}{\\left (\\tilde{r} \\right )} + 4 \\tilde{r}^{\\eta + 1} \\tilde{\\rho}{\\left (\\tilde{r} \\right )} \\tilde{c}^{3}{\\left (\\tilde{r} \\right )} m^{3}{\\left (\\tilde{r} \\right )}\\right), \\quad \\frac{d}{d \\tilde{r}} m{\\left (\\tilde{r} \\right )} : \\frac{\\tilde{r}^{- \\eta - 2}}{4 \\left(m^{2}{\\left (\\tilde{r} \\right )} - 1\\right) \\tilde{\\rho}{\\left (\\tilde{r} \\right )} \\tilde{c}^{3}{\\left (\\tilde{r} \\right )}} \\left(- \\tilde{r}^{2} \\gamma^{2} \\tilde{c}^{2}{\\left (\\tilde{r} \\right )} m^{4}{\\left (\\tilde{r} \\right )} - \\tilde{r}^{2} \\gamma^{2} m^{2}{\\left (\\tilde{r} \\right )} + \\tilde{r}^{2} \\gamma \\tilde{c}^{2}{\\left (\\tilde{r} \\right )} m^{4}{\\left (\\tilde{r} \\right )} - 3 \\tilde{r}^{2} \\gamma \\tilde{c}^{2}{\\left (\\tilde{r} \\right )} m^{2}{\\left (\\tilde{r} \\right )} + \\tilde{r}^{2} \\gamma m^{2}{\\left (\\tilde{r} \\right )} - \\tilde{r}^{2} \\gamma + \\tilde{r}^{2} \\tilde{c}^{2}{\\left (\\tilde{r} \\right )} m^{2}{\\left (\\tilde{r} \\right )} - 2 \\tilde{r}^{2} \\tilde{c}^{2}{\\left (\\tilde{r} \\right )} + \\tilde{r}^{2} - 2 \\tilde{r}^{\\eta} \\gamma \\tilde{\\rho}{\\left (\\tilde{r} \\right )} \\tilde{c}{\\left (\\tilde{r} \\right )} m{\\left (\\tilde{r} \\right )} - 2 \\tilde{r}^{\\eta} \\tilde{\\rho}{\\left (\\tilde{r} \\right )} \\tilde{c}{\\left (\\tilde{r} \\right )} m{\\left (\\tilde{r} \\right )} + 4 \\tilde{r}^{\\eta + 1} \\gamma \\tilde{\\rho}{\\left (\\tilde{r} \\right )} \\tilde{c}^{3}{\\left (\\tilde{r} \\right )} m^{3}{\\left (\\tilde{r} \\right )} - 4 \\tilde{r}^{\\eta + 1} \\tilde{\\rho}{\\left (\\tilde{r} \\right )} \\tilde{c}^{3}{\\left (\\tilde{r} \\right )} m^{3}{\\left (\\tilde{r} \\right )} + 8 \\tilde{r}^{\\eta + 1} \\tilde{\\rho}{\\left (\\tilde{r} \\right )} \\tilde{c}^{3}{\\left (\\tilde{r} \\right )} m{\\left (\\tilde{r} \\right )}\\right)\\right \\}$$"
      ],
      "text/plain": [
       "⎧                                              -η - 2 ⎛         2            2\n",
       "⎪    d                                \\tilde{r}      ⋅⎝\\tilde{r} ⋅γ⋅\\tilde{c} \n",
       "⎨──────────(\\tilde{\\rho}(\\tilde{r})): ────────────────────────────────────────\n",
       "⎪d\\tilde{r}                                                                   \n",
       "⎩                                                                             \n",
       "\n",
       "             2                       2                2          2            \n",
       "(\\tilde{r})⋅m (\\tilde{r}) + \\tilde{r} ⋅γ + 3⋅\\tilde{r} ⋅\\tilde{c} (\\tilde{r})⋅\n",
       "──────────────────────────────────────────────────────────────────────────────\n",
       "                                                                              \n",
       "                                                                              \n",
       "\n",
       " 2                         2          2                       2              η\n",
       "m (\\tilde{r}) - 2⋅\\tilde{r} ⋅\\tilde{c} (\\tilde{r}) - \\tilde{r}  + 2⋅\\tilde{r} \n",
       "──────────────────────────────────────────────────────────────────────────────\n",
       "                       ⎛ 2               ⎞          3                         \n",
       "                     2⋅⎝m (\\tilde{r}) - 1⎠⋅\\tilde{c} (\\tilde{r})⋅m(\\tilde{r}) \n",
       "\n",
       "                                                                        η + 1 \n",
       "⋅\\tilde{\\rho}(\\tilde{r})⋅\\tilde{c}(\\tilde{r})⋅m(\\tilde{r}) - 4⋅\\tilde{r}     ⋅\n",
       "──────────────────────────────────────────────────────────────────────────────\n",
       "                                                                              \n",
       "                                                                              \n",
       "\n",
       "                                 3             3           ⎞                  \n",
       "\\tilde{\\rho}(\\tilde{r})⋅\\tilde{c} (\\tilde{r})⋅m (\\tilde{r})⎠      d           \n",
       "────────────────────────────────────────────────────────────, ──────────(\\tild\n",
       "                                                              d\\tilde{r}      \n",
       "                                                                              \n",
       "\n",
       "                           -η - 2 ⎛         2  2          2             4     \n",
       "                  \\tilde{r}      ⋅⎝\\tilde{r} ⋅γ ⋅\\tilde{c} (\\tilde{r})⋅m (\\til\n",
       "e{c}(\\tilde{r})): ────────────────────────────────────────────────────────────\n",
       "                                                                              \n",
       "                                                                              \n",
       "\n",
       "                  2  2  2                       2            2             4  \n",
       "de{r}) + \\tilde{r} ⋅γ ⋅m (\\tilde{r}) - \\tilde{r} ⋅γ⋅\\tilde{c} (\\tilde{r})⋅m (\\\n",
       "──────────────────────────────────────────────────────────────────────────────\n",
       "                                                                              \n",
       "                                                                              \n",
       "\n",
       "                     2            2             2                       2    2\n",
       "tilde{r}) + \\tilde{r} ⋅γ⋅\\tilde{c} (\\tilde{r})⋅m (\\tilde{r}) - \\tilde{r} ⋅γ⋅m \n",
       "──────────────────────────────────────────────────────────────────────────────\n",
       "                                                                              \n",
       "                                                                              \n",
       "\n",
       "                       2                2          2             2            \n",
       "(\\tilde{r}) - \\tilde{r} ⋅γ - 3⋅\\tilde{r} ⋅\\tilde{c} (\\tilde{r})⋅m (\\tilde{r}) \n",
       "──────────────────────────────────────────────────────────────────────────────\n",
       "                                                                        ⎛ 2   \n",
       "                                                                      4⋅⎝m (\\t\n",
       "\n",
       "             2          2                       2              η              \n",
       "+ 2⋅\\tilde{r} ⋅\\tilde{c} (\\tilde{r}) + \\tilde{r}  + 2⋅\\tilde{r} ⋅γ⋅\\tilde{\\rho\n",
       "──────────────────────────────────────────────────────────────────────────────\n",
       "            ⎞                                  2                              \n",
       "ilde{r}) - 1⎠⋅\\tilde{\\rho}(\\tilde{r})⋅\\tilde{c} (\\tilde{r})⋅m(\\tilde{r})      \n",
       "\n",
       "                                                            η                 \n",
       "}(\\tilde{r})⋅\\tilde{c}(\\tilde{r})⋅m(\\tilde{r}) - 2⋅\\tilde{r} ⋅\\tilde{\\rho}(\\ti\n",
       "──────────────────────────────────────────────────────────────────────────────\n",
       "                                                                              \n",
       "                                                                              \n",
       "\n",
       "                                                       η + 1                  \n",
       "lde{r})⋅\\tilde{c}(\\tilde{r})⋅m(\\tilde{r}) - 4⋅\\tilde{r}     ⋅γ⋅\\tilde{\\rho}(\\t\n",
       "──────────────────────────────────────────────────────────────────────────────\n",
       "                                                                              \n",
       "                                                                              \n",
       "\n",
       "                  3             3                         η + 1               \n",
       "ilde{r})⋅\\tilde{c} (\\tilde{r})⋅m (\\tilde{r}) + 4⋅\\tilde{r}     ⋅\\tilde{\\rho}(\\\n",
       "──────────────────────────────────────────────────────────────────────────────\n",
       "                                                                              \n",
       "                                                                              \n",
       "\n",
       "                   3             3           ⎞                                \n",
       "tilde{r})⋅\\tilde{c} (\\tilde{r})⋅m (\\tilde{r})⎠      d                     \\til\n",
       "──────────────────────────────────────────────, ──────────(m(\\tilde{r})): ────\n",
       "                                                d\\tilde{r}                    \n",
       "                                                                              \n",
       "\n",
       "     -η - 2 ⎛           2  2          2             4                       2 \n",
       "de{r}      ⋅⎝- \\tilde{r} ⋅γ ⋅\\tilde{c} (\\tilde{r})⋅m (\\tilde{r}) - \\tilde{r} ⋅\n",
       "──────────────────────────────────────────────────────────────────────────────\n",
       "                                                                              \n",
       "                                                                              \n",
       "\n",
       " 2  2                       2            2             4                      \n",
       "γ ⋅m (\\tilde{r}) + \\tilde{r} ⋅γ⋅\\tilde{c} (\\tilde{r})⋅m (\\tilde{r}) - 3⋅\\tilde\n",
       "──────────────────────────────────────────────────────────────────────────────\n",
       "                                                                              \n",
       "                                                                              \n",
       "\n",
       "   2            2             2                       2    2                  \n",
       "{r} ⋅γ⋅\\tilde{c} (\\tilde{r})⋅m (\\tilde{r}) + \\tilde{r} ⋅γ⋅m (\\tilde{r}) - \\til\n",
       "──────────────────────────────────────────────────────────────────────────────\n",
       "                                                                              \n",
       "                                                                              \n",
       "\n",
       "     2              2          2             2                         2      \n",
       "de{r} ⋅γ + \\tilde{r} ⋅\\tilde{c} (\\tilde{r})⋅m (\\tilde{r}) - 2⋅\\tilde{r} ⋅\\tild\n",
       "──────────────────────────────────────────────────────────────────────────────\n",
       "                                                                              \n",
       "                                                                              \n",
       "\n",
       "    2                       2              η                                  \n",
       "e{c} (\\tilde{r}) + \\tilde{r}  - 2⋅\\tilde{r} ⋅γ⋅\\tilde{\\rho}(\\tilde{r})⋅\\tilde{\n",
       "──────────────────────────────────────────────────────────────────────────────\n",
       "                  ⎛ 2               ⎞                                  3      \n",
       "                4⋅⎝m (\\tilde{r}) - 1⎠⋅\\tilde{\\rho}(\\tilde{r})⋅\\tilde{c} (\\tild\n",
       "\n",
       "                                        η                                     \n",
       "c}(\\tilde{r})⋅m(\\tilde{r}) - 2⋅\\tilde{r} ⋅\\tilde{\\rho}(\\tilde{r})⋅\\tilde{c}(\\t\n",
       "──────────────────────────────────────────────────────────────────────────────\n",
       "                                                                              \n",
       "e{r})                                                                         \n",
       "\n",
       "                                   η + 1                                    3 \n",
       "ilde{r})⋅m(\\tilde{r}) + 4⋅\\tilde{r}     ⋅γ⋅\\tilde{\\rho}(\\tilde{r})⋅\\tilde{c} (\n",
       "──────────────────────────────────────────────────────────────────────────────\n",
       "                                                                              \n",
       "                                                                              \n",
       "\n",
       "            3                         η + 1                                  3\n",
       "\\tilde{r})⋅m (\\tilde{r}) - 4⋅\\tilde{r}     ⋅\\tilde{\\rho}(\\tilde{r})⋅\\tilde{c} \n",
       "──────────────────────────────────────────────────────────────────────────────\n",
       "                                                                              \n",
       "                                                                              \n",
       "\n",
       "             3                         η + 1                                  \n",
       "(\\tilde{r})⋅m (\\tilde{r}) + 8⋅\\tilde{r}     ⋅\\tilde{\\rho}(\\tilde{r})⋅\\tilde{c}\n",
       "──────────────────────────────────────────────────────────────────────────────\n",
       "                                                                              \n",
       "                                                                              \n",
       "\n",
       "3                        ⎞⎫\n",
       " (\\tilde{r})⋅m(\\tilde{r})⎠⎪\n",
       "──────────────────────────⎬\n",
       "                          ⎪\n",
       "                          ⎭"
      ]
     },
     "execution_count": 30,
     "metadata": {},
     "output_type": "execute_result"
    }
   ],
   "source": [
    "m = sympy.Symbol('m') # Mach number\n",
    "temp = [dimles_mass_conservation,\n",
    "        dimles_momentum_conservation,\n",
    "        dimles_energy_conservation]\n",
    "temp = [itm.subs(tilde_u(tilde_r), tilde_c(tilde_r)*m(tilde_r)) for itm in temp]\n",
    "temp = [itm.subs(tilde_p(tilde_r), tilde_rho(tilde_r)*tilde_c(tilde_r)**2/gamma) for itm in temp]\n",
    "temp = [itm.doit() for itm in temp]\n",
    "isolated_odes = sympy.solve(temp, [m(tilde_r).diff(tilde_r),\n",
    "                                   tilde_c(tilde_r).diff(tilde_r),\n",
    "                                   tilde_rho(tilde_r).diff(tilde_r)])\n",
    "isolated_odes"
   ]
  },
  {
   "cell_type": "markdown",
   "metadata": {},
   "source": [
    "Determining the values of the variables at the sonic point"
   ]
  },
  {
   "cell_type": "code",
   "execution_count": 31,
   "metadata": {},
   "outputs": [],
   "source": [
    "temp = integral_energy_conservation\n",
    "temp = temp.subs(tilde_u(tilde_r), tilde_c(tilde_r))\n",
    "raw_sonic_point_sound_speed = sympy.solve(temp, tilde_c(tilde_r))[1]"
   ]
  },
  {
   "cell_type": "code",
   "execution_count": 32,
   "metadata": {},
   "outputs": [],
   "source": [
    "temp = integral_mass_conservation.subs(tilde_u(tilde_r), tilde_c(tilde_r))\n",
    "temp = temp.subs(tilde_c(tilde_r), raw_sonic_point_sound_speed)\n",
    "raw_sonic_point_density = sympy.solve(temp, tilde_rho(tilde_r))[0].simplify()"
   ]
  },
  {
   "cell_type": "code",
   "execution_count": 33,
   "metadata": {},
   "outputs": [],
   "source": [
    "temp = tilde_rho(tilde_r).diff(tilde_r)\n",
    "temp = temp.subs(isolated_odes)\n",
    "temp = sympy.fraction(temp)[0]\n",
    "temp = temp.subs(tilde_rho(tilde_r), raw_sonic_point_density)\n",
    "temp = temp.subs(tilde_c(tilde_r), raw_sonic_point_sound_speed)\n",
    "temp = temp.subs(m(tilde_r), 1)\n",
    "temp = temp*tilde_r**(eta+2)\n",
    "outer_sonic_equation = temp"
   ]
  },
  {
   "cell_type": "markdown",
   "metadata": {},
   "source": [
    "To find the position of the outer sonic point, one must solve this horrible equation"
   ]
  },
  {
   "cell_type": "code",
   "execution_count": 34,
   "metadata": {},
   "outputs": [
    {
     "data": {
      "image/png": "[encoded data removed]",
      "text/latex": [
       "$$38.1869960774$$"
      ],
      "text/plain": [
       "38.1869960774"
      ]
     },
     "execution_count": 34,
     "metadata": {},
     "output_type": "execute_result"
    }
   ],
   "source": [
    "def find_outer_sonic_point(gamma_val, eta_val, rst_val):\n",
    "    \n",
    "    from mpmath import findroot\n",
    "    \n",
    "    eqn = outer_sonic_equation\n",
    "    eqn = eqn.subs({eta:eta_val,\n",
    "                   gamma:gamma_val,\n",
    "                   tilde_r_st:rst_val})\n",
    "    deqn = eqn.diff(tilde_r)\n",
    "    eqn = sympy.lambdify(tilde_r, eqn)\n",
    "    deqn = sympy.lambdify(tilde_r, deqn)\n",
    "    return float(findroot(eqn, 10*rst_val, df=deqn))\n",
    "find_outer_sonic_point(4./3., 2.9, 9.1)"
   ]
  },
  {
   "cell_type": "code",
   "execution_count": 35,
   "metadata": {},
   "outputs": [
    {
     "data": {
      "image/png": "[encoded data removed]",
      "text/latex": [
       "$$0.00857409876007$$"
      ],
      "text/plain": [
       "0.00857409876007"
      ]
     },
     "execution_count": 35,
     "metadata": {},
     "output_type": "execute_result"
    }
   ],
   "source": [
    "def find_inner_sonic_point(gamma_val, eta_val, rst_val):\n",
    "    \n",
    "    from mpmath import findroot\n",
    "    \n",
    "    eqn = outer_sonic_equation\n",
    "    eqn = eqn.subs({eta:eta_val,\n",
    "                   gamma:gamma_val,\n",
    "                   tilde_r_st:rst_val})\n",
    "    deqn = eqn.diff(tilde_r)\n",
    "    eqn = sympy.lambdify(tilde_r, eqn)\n",
    "    deqn = sympy.lambdify(tilde_r, deqn)\n",
    "    return float(findroot(eqn, 0.1*rst_val, df=deqn))\n",
    "find_inner_sonic_point(4./3., 2.9, 9.1)"
   ]
  },
  {
   "cell_type": "markdown",
   "metadata": {},
   "source": [
    "Integration from the sonic point to the stagnation point"
   ]
  },
  {
   "cell_type": "code",
   "execution_count": 36,
   "metadata": {},
   "outputs": [
    {
     "data": {
      "application/javascript": [
       "/* Put everything inside the global mpl namespace */\n",
       "window.mpl = {};\n",
       "\n",
       "\n",
       "mpl.get_websocket_type = function() {\n",
       "    if (typeof(WebSocket) !== 'undefined') {\n",
       "        return WebSocket;\n",
       "    } else if (typeof(MozWebSocket) !== 'undefined') {\n",
       "        return MozWebSocket;\n",
       "    } else {\n",
       "        alert('Your browser does not have WebSocket support.' +\n",
       "              'Please try Chrome, Safari or Firefox ≥ 6. ' +\n",
       "              'Firefox 4 and 5 are also supported but you ' +\n",
       "              'have to enable WebSockets in about:config.');\n",
       "    };\n",
       "}\n",
       "\n",
       "mpl.figure = function(figure_id, websocket, ondownload, parent_element) {\n",
       "    this.id = figure_id;\n",
       "\n",
       "    this.ws = websocket;\n",
       "\n",
       "    this.supports_binary = (this.ws.binaryType != undefined);\n",
       "\n",
       "    if (!this.supports_binary) {\n",
       "        var warnings = document.getElementById(\"mpl-warnings\");\n",
       "        if (warnings) {\n",
       "            warnings.style.display = 'block';\n",
       "            warnings.textContent = (\n",
       "                \"This browser does not support binary websocket messages. \" +\n",
       "                    \"Performance may be slow.\");\n",
       "        }\n",
       "    }\n",
       "\n",
       "    this.imageObj = new Image();\n",
       "\n",
       "    this.context = undefined;\n",
       "    this.message = undefined;\n",
       "    this.canvas = undefined;\n",
       "    this.rubberband_canvas = undefined;\n",
       "    this.rubberband_context = undefined;\n",
       "    this.format_dropdown = undefined;\n",
       "\n",
       "    this.image_mode = 'full';\n",
       "\n",
       "    this.root = $('<div/>');\n",
       "    this._root_extra_style(this.root)\n",
       "    this.root.attr('style', 'display: inline-block');\n",
       "\n",
       "    $(parent_element).append(this.root);\n",
       "\n",
       "    this._init_header(this);\n",
       "    this._init_canvas(this);\n",
       "    this._init_toolbar(this);\n",
       "\n",
       "    var fig = this;\n",
       "\n",
       "    this.waiting = false;\n",
       "\n",
       "    this.ws.onopen =  function () {\n",
       "            fig.send_message(\"supports_binary\", {value: fig.supports_binary});\n",
       "            fig.send_message(\"send_image_mode\", {});\n",
       "            if (mpl.ratio != 1) {\n",
       "                fig.send_message(\"set_dpi_ratio\", {'dpi_ratio': mpl.ratio});\n",
       "            }\n",
       "            fig.send_message(\"refresh\", {});\n",
       "        }\n",
       "\n",
       "    this.imageObj.onload = function() {\n",
       "            if (fig.image_mode == 'full') {\n",
       "                // Full images could contain transparency (where diff images\n",
       "                // almost always do), so we need to clear the canvas so that\n",
       "                // there is no ghosting.\n",
       "                fig.context.clearRect(0, 0, fig.canvas.width, fig.canvas.height);\n",
       "            }\n",
       "            fig.context.drawImage(fig.imageObj, 0, 0);\n",
       "        };\n",
       "\n",
       "    this.imageObj.onunload = function() {\n",
       "        fig.ws.close();\n",
       "    }\n",
       "\n",
       "    this.ws.onmessage = this._make_on_message_function(this);\n",
       "\n",
       "    this.ondownload = ondownload;\n",
       "}\n",
       "\n",
       "mpl.figure.prototype._init_header = function() {\n",
       "    var titlebar = $(\n",
       "        '<div class=\"ui-dialog-titlebar ui-widget-header ui-corner-all ' +\n",
       "        'ui-helper-clearfix\"/>');\n",
       "    var titletext = $(\n",
       "        '<div class=\"ui-dialog-title\" style=\"width: 100%; ' +\n",
       "        'text-align: center; padding: 3px;\"/>');\n",
       "    titlebar.append(titletext)\n",
       "    this.root.append(titlebar);\n",
       "    this.header = titletext[0];\n",
       "}\n",
       "\n",
       "\n",
       "\n",
       "mpl.figure.prototype._canvas_extra_style = function(canvas_div) {\n",
       "\n",
       "}\n",
       "\n",
       "\n",
       "mpl.figure.prototype._root_extra_style = function(canvas_div) {\n",
       "\n",
       "}\n",
       "\n",
       "mpl.figure.prototype._init_canvas = function() {\n",
       "    var fig = this;\n",
       "\n",
       "    var canvas_div = $('<div/>');\n",
       "\n",
       "    canvas_div.attr('style', 'position: relative; clear: both; outline: 0');\n",
       "\n",
       "    function canvas_keyboard_event(event) {\n",
       "        return fig.key_event(event, event['data']);\n",
       "    }\n",
       "\n",
       "    canvas_div.keydown('key_press', canvas_keyboard_event);\n",
       "    canvas_div.keyup('key_release', canvas_keyboard_event);\n",
       "    this.canvas_div = canvas_div\n",
       "    this._canvas_extra_style(canvas_div)\n",
       "    this.root.append(canvas_div);\n",
       "\n",
       "    var canvas = $('<canvas/>');\n",
       "    canvas.addClass('mpl-canvas');\n",
       "    canvas.attr('style', \"left: 0; top: 0; z-index: 0; outline: 0\")\n",
       "\n",
       "    this.canvas = canvas[0];\n",
       "    this.context = canvas[0].getContext(\"2d\");\n",
       "\n",
       "    var backingStore = this.context.backingStorePixelRatio ||\n",
       "\tthis.context.webkitBackingStorePixelRatio ||\n",
       "\tthis.context.mozBackingStorePixelRatio ||\n",
       "\tthis.context.msBackingStorePixelRatio ||\n",
       "\tthis.context.oBackingStorePixelRatio ||\n",
       "\tthis.context.backingStorePixelRatio || 1;\n",
       "\n",
       "    mpl.ratio = (window.devicePixelRatio || 1) / backingStore;\n",
       "\n",
       "    var rubberband = $('<canvas/>');\n",
       "    rubberband.attr('style', \"position: absolute; left: 0; top: 0; z-index: 1;\")\n",
       "\n",
       "    var pass_mouse_events = true;\n",
       "\n",
       "    canvas_div.resizable({\n",
       "        start: function(event, ui) {\n",
       "            pass_mouse_events = false;\n",
       "        },\n",
       "        resize: function(event, ui) {\n",
       "            fig.request_resize(ui.size.width, ui.size.height);\n",
       "        },\n",
       "        stop: function(event, ui) {\n",
       "            pass_mouse_events = true;\n",
       "            fig.request_resize(ui.size.width, ui.size.height);\n",
       "        },\n",
       "    });\n",
       "\n",
       "    function mouse_event_fn(event) {\n",
       "        if (pass_mouse_events)\n",
       "            return fig.mouse_event(event, event['data']);\n",
       "    }\n",
       "\n",
       "    rubberband.mousedown('button_press', mouse_event_fn);\n",
       "    rubberband.mouseup('button_release', mouse_event_fn);\n",
       "    // Throttle sequential mouse events to 1 every 20ms.\n",
       "    rubberband.mousemove('motion_notify', mouse_event_fn);\n",
       "\n",
       "    rubberband.mouseenter('figure_enter', mouse_event_fn);\n",
       "    rubberband.mouseleave('figure_leave', mouse_event_fn);\n",
       "\n",
       "    canvas_div.on(\"wheel\", function (event) {\n",
       "        event = event.originalEvent;\n",
       "        event['data'] = 'scroll'\n",
       "        if (event.deltaY < 0) {\n",
       "            event.step = 1;\n",
       "        } else {\n",
       "            event.step = -1;\n",
       "        }\n",
       "        mouse_event_fn(event);\n",
       "    });\n",
       "\n",
       "    canvas_div.append(canvas);\n",
       "    canvas_div.append(rubberband);\n",
       "\n",
       "    this.rubberband = rubberband;\n",
       "    this.rubberband_canvas = rubberband[0];\n",
       "    this.rubberband_context = rubberband[0].getContext(\"2d\");\n",
       "    this.rubberband_context.strokeStyle = \"#000000\";\n",
       "\n",
       "    this._resize_canvas = function(width, height) {\n",
       "        // Keep the size of the canvas, canvas container, and rubber band\n",
       "        // canvas in synch.\n",
       "        canvas_div.css('width', width)\n",
       "        canvas_div.css('height', height)\n",
       "\n",
       "        canvas.attr('width', width * mpl.ratio);\n",
       "        canvas.attr('height', height * mpl.ratio);\n",
       "        canvas.attr('style', 'width: ' + width + 'px; height: ' + height + 'px;');\n",
       "\n",
       "        rubberband.attr('width', width);\n",
       "        rubberband.attr('height', height);\n",
       "    }\n",
       "\n",
       "    // Set the figure to an initial 600x600px, this will subsequently be updated\n",
       "    // upon first draw.\n",
       "    this._resize_canvas(600, 600);\n",
       "\n",
       "    // Disable right mouse context menu.\n",
       "    $(this.rubberband_canvas).bind(\"contextmenu\",function(e){\n",
       "        return false;\n",
       "    });\n",
       "\n",
       "    function set_focus () {\n",
       "        canvas.focus();\n",
       "        canvas_div.focus();\n",
       "    }\n",
       "\n",
       "    window.setTimeout(set_focus, 100);\n",
       "}\n",
       "\n",
       "mpl.figure.prototype._init_toolbar = function() {\n",
       "    var fig = this;\n",
       "\n",
       "    var nav_element = $('<div/>')\n",
       "    nav_element.attr('style', 'width: 100%');\n",
       "    this.root.append(nav_element);\n",
       "\n",
       "    // Define a callback function for later on.\n",
       "    function toolbar_event(event) {\n",
       "        return fig.toolbar_button_onclick(event['data']);\n",
       "    }\n",
       "    function toolbar_mouse_event(event) {\n",
       "        return fig.toolbar_button_onmouseover(event['data']);\n",
       "    }\n",
       "\n",
       "    for(var toolbar_ind in mpl.toolbar_items) {\n",
       "        var name = mpl.toolbar_items[toolbar_ind][0];\n",
       "        var tooltip = mpl.toolbar_items[toolbar_ind][1];\n",
       "        var image = mpl.toolbar_items[toolbar_ind][2];\n",
       "        var method_name = mpl.toolbar_items[toolbar_ind][3];\n",
       "\n",
       "        if (!name) {\n",
       "            // put a spacer in here.\n",
       "            continue;\n",
       "        }\n",
       "        var button = $('<button/>');\n",
       "        button.addClass('ui-button ui-widget ui-state-default ui-corner-all ' +\n",
       "                        'ui-button-icon-only');\n",
       "        button.attr('role', 'button');\n",
       "        button.attr('aria-disabled', 'false');\n",
       "        button.click(method_name, toolbar_event);\n",
       "        button.mouseover(tooltip, toolbar_mouse_event);\n",
       "\n",
       "        var icon_img = $('<span/>');\n",
       "        icon_img.addClass('ui-button-icon-primary ui-icon');\n",
       "        icon_img.addClass(image);\n",
       "        icon_img.addClass('ui-corner-all');\n",
       "\n",
       "        var tooltip_span = $('<span/>');\n",
       "        tooltip_span.addClass('ui-button-text');\n",
       "        tooltip_span.html(tooltip);\n",
       "\n",
       "        button.append(icon_img);\n",
       "        button.append(tooltip_span);\n",
       "\n",
       "        nav_element.append(button);\n",
       "    }\n",
       "\n",
       "    var fmt_picker_span = $('<span/>');\n",
       "\n",
       "    var fmt_picker = $('<select/>');\n",
       "    fmt_picker.addClass('mpl-toolbar-option ui-widget ui-widget-content');\n",
       "    fmt_picker_span.append(fmt_picker);\n",
       "    nav_element.append(fmt_picker_span);\n",
       "    this.format_dropdown = fmt_picker[0];\n",
       "\n",
       "    for (var ind in mpl.extensions) {\n",
       "        var fmt = mpl.extensions[ind];\n",
       "        var option = $(\n",
       "            '<option/>', {selected: fmt === mpl.default_extension}).html(fmt);\n",
       "        fmt_picker.append(option)\n",
       "    }\n",
       "\n",
       "    // Add hover states to the ui-buttons\n",
       "    $( \".ui-button\" ).hover(\n",
       "        function() { $(this).addClass(\"ui-state-hover\");},\n",
       "        function() { $(this).removeClass(\"ui-state-hover\");}\n",
       "    );\n",
       "\n",
       "    var status_bar = $('<span class=\"mpl-message\"/>');\n",
       "    nav_element.append(status_bar);\n",
       "    this.message = status_bar[0];\n",
       "}\n",
       "\n",
       "mpl.figure.prototype.request_resize = function(x_pixels, y_pixels) {\n",
       "    // Request matplotlib to resize the figure. Matplotlib will then trigger a resize in the client,\n",
       "    // which will in turn request a refresh of the image.\n",
       "    this.send_message('resize', {'width': x_pixels, 'height': y_pixels});\n",
       "}\n",
       "\n",
       "mpl.figure.prototype.send_message = function(type, properties) {\n",
       "    properties['type'] = type;\n",
       "    properties['figure_id'] = this.id;\n",
       "    this.ws.send(JSON.stringify(properties));\n",
       "}\n",
       "\n",
       "mpl.figure.prototype.send_draw_message = function() {\n",
       "    if (!this.waiting) {\n",
       "        this.waiting = true;\n",
       "        this.ws.send(JSON.stringify({type: \"draw\", figure_id: this.id}));\n",
       "    }\n",
       "}\n",
       "\n",
       "\n",
       "mpl.figure.prototype.handle_save = function(fig, msg) {\n",
       "    var format_dropdown = fig.format_dropdown;\n",
       "    var format = format_dropdown.options[format_dropdown.selectedIndex].value;\n",
       "    fig.ondownload(fig, format);\n",
       "}\n",
       "\n",
       "\n",
       "mpl.figure.prototype.handle_resize = function(fig, msg) {\n",
       "    var size = msg['size'];\n",
       "    if (size[0] != fig.canvas.width || size[1] != fig.canvas.height) {\n",
       "        fig._resize_canvas(size[0], size[1]);\n",
       "        fig.send_message(\"refresh\", {});\n",
       "    };\n",
       "}\n",
       "\n",
       "mpl.figure.prototype.handle_rubberband = function(fig, msg) {\n",
       "    var x0 = msg['x0'] / mpl.ratio;\n",
       "    var y0 = (fig.canvas.height - msg['y0']) / mpl.ratio;\n",
       "    var x1 = msg['x1'] / mpl.ratio;\n",
       "    var y1 = (fig.canvas.height - msg['y1']) / mpl.ratio;\n",
       "    x0 = Math.floor(x0) + 0.5;\n",
       "    y0 = Math.floor(y0) + 0.5;\n",
       "    x1 = Math.floor(x1) + 0.5;\n",
       "    y1 = Math.floor(y1) + 0.5;\n",
       "    var min_x = Math.min(x0, x1);\n",
       "    var min_y = Math.min(y0, y1);\n",
       "    var width = Math.abs(x1 - x0);\n",
       "    var height = Math.abs(y1 - y0);\n",
       "\n",
       "    fig.rubberband_context.clearRect(\n",
       "        0, 0, fig.canvas.width, fig.canvas.height);\n",
       "\n",
       "    fig.rubberband_context.strokeRect(min_x, min_y, width, height);\n",
       "}\n",
       "\n",
       "mpl.figure.prototype.handle_figure_label = function(fig, msg) {\n",
       "    // Updates the figure title.\n",
       "    fig.header.textContent = msg['label'];\n",
       "}\n",
       "\n",
       "mpl.figure.prototype.handle_cursor = function(fig, msg) {\n",
       "    var cursor = msg['cursor'];\n",
       "    switch(cursor)\n",
       "    {\n",
       "    case 0:\n",
       "        cursor = 'pointer';\n",
       "        break;\n",
       "    case 1:\n",
       "        cursor = 'default';\n",
       "        break;\n",
       "    case 2:\n",
       "        cursor = 'crosshair';\n",
       "        break;\n",
       "    case 3:\n",
       "        cursor = 'move';\n",
       "        break;\n",
       "    }\n",
       "    fig.rubberband_canvas.style.cursor = cursor;\n",
       "}\n",
       "\n",
       "mpl.figure.prototype.handle_message = function(fig, msg) {\n",
       "    fig.message.textContent = msg['message'];\n",
       "}\n",
       "\n",
       "mpl.figure.prototype.handle_draw = function(fig, msg) {\n",
       "    // Request the server to send over a new figure.\n",
       "    fig.send_draw_message();\n",
       "}\n",
       "\n",
       "mpl.figure.prototype.handle_image_mode = function(fig, msg) {\n",
       "    fig.image_mode = msg['mode'];\n",
       "}\n",
       "\n",
       "mpl.figure.prototype.updated_canvas_event = function() {\n",
       "    // Called whenever the canvas gets updated.\n",
       "    this.send_message(\"ack\", {});\n",
       "}\n",
       "\n",
       "// A function to construct a web socket function for onmessage handling.\n",
       "// Called in the figure constructor.\n",
       "mpl.figure.prototype._make_on_message_function = function(fig) {\n",
       "    return function socket_on_message(evt) {\n",
       "        if (evt.data instanceof Blob) {\n",
       "            /* FIXME: We get \"Resource interpreted as Image but\n",
       "             * transferred with MIME type text/plain:\" errors on\n",
       "             * Chrome.  But how to set the MIME type?  It doesn't seem\n",
       "             * to be part of the websocket stream */\n",
       "            evt.data.type = \"image/png\";\n",
       "\n",
       "            /* Free the memory for the previous frames */\n",
       "            if (fig.imageObj.src) {\n",
       "                (window.URL || window.webkitURL).revokeObjectURL(\n",
       "                    fig.imageObj.src);\n",
       "            }\n",
       "\n",
       "            fig.imageObj.src = (window.URL || window.webkitURL).createObjectURL(\n",
       "                evt.data);\n",
       "            fig.updated_canvas_event();\n",
       "            fig.waiting = false;\n",
       "            return;\n",
       "        }\n",
       "        else if (typeof evt.data === 'string' && evt.data.slice(0, 21) == \"data:image/png;base64\") {\n",
       "            fig.imageObj.src = evt.data;\n",
       "            fig.updated_canvas_event();\n",
       "            fig.waiting = false;\n",
       "            return;\n",
       "        }\n",
       "\n",
       "        var msg = JSON.parse(evt.data);\n",
       "        var msg_type = msg['type'];\n",
       "\n",
       "        // Call the  \"handle_{type}\" callback, which takes\n",
       "        // the figure and JSON message as its only arguments.\n",
       "        try {\n",
       "            var callback = fig[\"handle_\" + msg_type];\n",
       "        } catch (e) {\n",
       "            console.log(\"No handler for the '\" + msg_type + \"' message type: \", msg);\n",
       "            return;\n",
       "        }\n",
       "\n",
       "        if (callback) {\n",
       "            try {\n",
       "                // console.log(\"Handling '\" + msg_type + \"' message: \", msg);\n",
       "                callback(fig, msg);\n",
       "            } catch (e) {\n",
       "                console.log(\"Exception inside the 'handler_\" + msg_type + \"' callback:\", e, e.stack, msg);\n",
       "            }\n",
       "        }\n",
       "    };\n",
       "}\n",
       "\n",
       "// from http://stackoverflow.com/questions/1114465/getting-mouse-location-in-canvas\n",
       "mpl.findpos = function(e) {\n",
       "    //this section is from http://www.quirksmode.org/js/events_properties.html\n",
       "    var targ;\n",
       "    if (!e)\n",
       "        e = window.event;\n",
       "    if (e.target)\n",
       "        targ = e.target;\n",
       "    else if (e.srcElement)\n",
       "        targ = e.srcElement;\n",
       "    if (targ.nodeType == 3) // defeat Safari bug\n",
       "        targ = targ.parentNode;\n",
       "\n",
       "    // jQuery normalizes the pageX and pageY\n",
       "    // pageX,Y are the mouse positions relative to the document\n",
       "    // offset() returns the position of the element relative to the document\n",
       "    var x = e.pageX - $(targ).offset().left;\n",
       "    var y = e.pageY - $(targ).offset().top;\n",
       "\n",
       "    return {\"x\": x, \"y\": y};\n",
       "};\n",
       "\n",
       "/*\n",
       " * return a copy of an object with only non-object keys\n",
       " * we need this to avoid circular references\n",
       " * http://stackoverflow.com/a/24161582/3208463\n",
       " */\n",
       "function simpleKeys (original) {\n",
       "  return Object.keys(original).reduce(function (obj, key) {\n",
       "    if (typeof original[key] !== 'object')\n",
       "        obj[key] = original[key]\n",
       "    return obj;\n",
       "  }, {});\n",
       "}\n",
       "\n",
       "mpl.figure.prototype.mouse_event = function(event, name) {\n",
       "    var canvas_pos = mpl.findpos(event)\n",
       "\n",
       "    if (name === 'button_press')\n",
       "    {\n",
       "        this.canvas.focus();\n",
       "        this.canvas_div.focus();\n",
       "    }\n",
       "\n",
       "    var x = canvas_pos.x * mpl.ratio;\n",
       "    var y = canvas_pos.y * mpl.ratio;\n",
       "\n",
       "    this.send_message(name, {x: x, y: y, button: event.button,\n",
       "                             step: event.step,\n",
       "                             guiEvent: simpleKeys(event)});\n",
       "\n",
       "    /* This prevents the web browser from automatically changing to\n",
       "     * the text insertion cursor when the button is pressed.  We want\n",
       "     * to control all of the cursor setting manually through the\n",
       "     * 'cursor' event from matplotlib */\n",
       "    event.preventDefault();\n",
       "    return false;\n",
       "}\n",
       "\n",
       "mpl.figure.prototype._key_event_extra = function(event, name) {\n",
       "    // Handle any extra behaviour associated with a key event\n",
       "}\n",
       "\n",
       "mpl.figure.prototype.key_event = function(event, name) {\n",
       "\n",
       "    // Prevent repeat events\n",
       "    if (name == 'key_press')\n",
       "    {\n",
       "        if (event.which === this._key)\n",
       "            return;\n",
       "        else\n",
       "            this._key = event.which;\n",
       "    }\n",
       "    if (name == 'key_release')\n",
       "        this._key = null;\n",
       "\n",
       "    var value = '';\n",
       "    if (event.ctrlKey && event.which != 17)\n",
       "        value += \"ctrl+\";\n",
       "    if (event.altKey && event.which != 18)\n",
       "        value += \"alt+\";\n",
       "    if (event.shiftKey && event.which != 16)\n",
       "        value += \"shift+\";\n",
       "\n",
       "    value += 'k';\n",
       "    value += event.which.toString();\n",
       "\n",
       "    this._key_event_extra(event, name);\n",
       "\n",
       "    this.send_message(name, {key: value,\n",
       "                             guiEvent: simpleKeys(event)});\n",
       "    return false;\n",
       "}\n",
       "\n",
       "mpl.figure.prototype.toolbar_button_onclick = function(name) {\n",
       "    if (name == 'download') {\n",
       "        this.handle_save(this, null);\n",
       "    } else {\n",
       "        this.send_message(\"toolbar_button\", {name: name});\n",
       "    }\n",
       "};\n",
       "\n",
       "mpl.figure.prototype.toolbar_button_onmouseover = function(tooltip) {\n",
       "    this.message.textContent = tooltip;\n",
       "};\n",
       "mpl.toolbar_items = [[\"Home\", \"Reset original view\", \"fa fa-home icon-home\", \"home\"], [\"Back\", \"Back to  previous view\", \"fa fa-arrow-left icon-arrow-left\", \"back\"], [\"Forward\", \"Forward to next view\", \"fa fa-arrow-right icon-arrow-right\", \"forward\"], [\"\", \"\", \"\", \"\"], [\"Pan\", \"Pan axes with left mouse, zoom with right\", \"fa fa-arrows icon-move\", \"pan\"], [\"Zoom\", \"Zoom to rectangle\", \"fa fa-square-o icon-check-empty\", \"zoom\"], [\"\", \"\", \"\", \"\"], [\"Download\", \"Download plot\", \"fa fa-floppy-o icon-save\", \"download\"]];\n",
       "\n",
       "mpl.extensions = [\"eps\", \"pdf\", \"png\", \"ps\", \"raw\", \"svg\"];\n",
       "\n",
       "mpl.default_extension = \"png\";var comm_websocket_adapter = function(comm) {\n",
       "    // Create a \"websocket\"-like object which calls the given IPython comm\n",
       "    // object with the appropriate methods. Currently this is a non binary\n",
       "    // socket, so there is still some room for performance tuning.\n",
       "    var ws = {};\n",
       "\n",
       "    ws.close = function() {\n",
       "        comm.close()\n",
       "    };\n",
       "    ws.send = function(m) {\n",
       "        //console.log('sending', m);\n",
       "        comm.send(m);\n",
       "    };\n",
       "    // Register the callback with on_msg.\n",
       "    comm.on_msg(function(msg) {\n",
       "        //console.log('receiving', msg['content']['data'], msg);\n",
       "        // Pass the mpl event to the overriden (by mpl) onmessage function.\n",
       "        ws.onmessage(msg['content']['data'])\n",
       "    });\n",
       "    return ws;\n",
       "}\n",
       "\n",
       "mpl.mpl_figure_comm = function(comm, msg) {\n",
       "    // This is the function which gets called when the mpl process\n",
       "    // starts-up an IPython Comm through the \"matplotlib\" channel.\n",
       "\n",
       "    var id = msg.content.data.id;\n",
       "    // Get hold of the div created by the display call when the Comm\n",
       "    // socket was opened in Python.\n",
       "    var element = $(\"#\" + id);\n",
       "    var ws_proxy = comm_websocket_adapter(comm)\n",
       "\n",
       "    function ondownload(figure, format) {\n",
       "        window.open(figure.imageObj.src);\n",
       "    }\n",
       "\n",
       "    var fig = new mpl.figure(id, ws_proxy,\n",
       "                           ondownload,\n",
       "                           element.get(0));\n",
       "\n",
       "    // Call onopen now - mpl needs it, as it is assuming we've passed it a real\n",
       "    // web socket which is closed, not our websocket->open comm proxy.\n",
       "    ws_proxy.onopen();\n",
       "\n",
       "    fig.parent_element = element.get(0);\n",
       "    fig.cell_info = mpl.find_output_cell(\"<div id='\" + id + \"'></div>\");\n",
       "    if (!fig.cell_info) {\n",
       "        console.error(\"Failed to find cell for figure\", id, fig);\n",
       "        return;\n",
       "    }\n",
       "\n",
       "    var output_index = fig.cell_info[2]\n",
       "    var cell = fig.cell_info[0];\n",
       "\n",
       "};\n",
       "\n",
       "mpl.figure.prototype.handle_close = function(fig, msg) {\n",
       "    var width = fig.canvas.width/mpl.ratio\n",
       "    fig.root.unbind('remove')\n",
       "\n",
       "    // Update the output cell to use the data from the current canvas.\n",
       "    fig.push_to_output();\n",
       "    var dataURL = fig.canvas.toDataURL();\n",
       "    // Re-enable the keyboard manager in IPython - without this line, in FF,\n",
       "    // the notebook keyboard shortcuts fail.\n",
       "    IPython.keyboard_manager.enable()\n",
       "    $(fig.parent_element).html('<img src=\"' + dataURL + '\" width=\"' + width + '\">');\n",
       "    fig.close_ws(fig, msg);\n",
       "}\n",
       "\n",
       "mpl.figure.prototype.close_ws = function(fig, msg){\n",
       "    fig.send_message('closing', msg);\n",
       "    // fig.ws.close()\n",
       "}\n",
       "\n",
       "mpl.figure.prototype.push_to_output = function(remove_interactive) {\n",
       "    // Turn the data on the canvas into data in the output cell.\n",
       "    var width = this.canvas.width/mpl.ratio\n",
       "    var dataURL = this.canvas.toDataURL();\n",
       "    this.cell_info[1]['text/html'] = '<img src=\"' + dataURL + '\" width=\"' + width + '\">';\n",
       "}\n",
       "\n",
       "mpl.figure.prototype.updated_canvas_event = function() {\n",
       "    // Tell IPython that the notebook contents must change.\n",
       "    IPython.notebook.set_dirty(true);\n",
       "    this.send_message(\"ack\", {});\n",
       "    var fig = this;\n",
       "    // Wait a second, then push the new image to the DOM so\n",
       "    // that it is saved nicely (might be nice to debounce this).\n",
       "    setTimeout(function () { fig.push_to_output() }, 1000);\n",
       "}\n",
       "\n",
       "mpl.figure.prototype._init_toolbar = function() {\n",
       "    var fig = this;\n",
       "\n",
       "    var nav_element = $('<div/>')\n",
       "    nav_element.attr('style', 'width: 100%');\n",
       "    this.root.append(nav_element);\n",
       "\n",
       "    // Define a callback function for later on.\n",
       "    function toolbar_event(event) {\n",
       "        return fig.toolbar_button_onclick(event['data']);\n",
       "    }\n",
       "    function toolbar_mouse_event(event) {\n",
       "        return fig.toolbar_button_onmouseover(event['data']);\n",
       "    }\n",
       "\n",
       "    for(var toolbar_ind in mpl.toolbar_items){\n",
       "        var name = mpl.toolbar_items[toolbar_ind][0];\n",
       "        var tooltip = mpl.toolbar_items[toolbar_ind][1];\n",
       "        var image = mpl.toolbar_items[toolbar_ind][2];\n",
       "        var method_name = mpl.toolbar_items[toolbar_ind][3];\n",
       "\n",
       "        if (!name) { continue; };\n",
       "\n",
       "        var button = $('<button class=\"btn btn-default\" href=\"#\" title=\"' + name + '\"><i class=\"fa ' + image + ' fa-lg\"></i></button>');\n",
       "        button.click(method_name, toolbar_event);\n",
       "        button.mouseover(tooltip, toolbar_mouse_event);\n",
       "        nav_element.append(button);\n",
       "    }\n",
       "\n",
       "    // Add the status bar.\n",
       "    var status_bar = $('<span class=\"mpl-message\" style=\"text-align:right; float: right;\"/>');\n",
       "    nav_element.append(status_bar);\n",
       "    this.message = status_bar[0];\n",
       "\n",
       "    // Add the close button to the window.\n",
       "    var buttongrp = $('<div class=\"btn-group inline pull-right\"></div>');\n",
       "    var button = $('<button class=\"btn btn-mini btn-primary\" href=\"#\" title=\"Stop Interaction\"><i class=\"fa fa-power-off icon-remove icon-large\"></i></button>');\n",
       "    button.click(function (evt) { fig.handle_close(fig, {}); } );\n",
       "    button.mouseover('Stop Interaction', toolbar_mouse_event);\n",
       "    buttongrp.append(button);\n",
       "    var titlebar = this.root.find($('.ui-dialog-titlebar'));\n",
       "    titlebar.prepend(buttongrp);\n",
       "}\n",
       "\n",
       "mpl.figure.prototype._root_extra_style = function(el){\n",
       "    var fig = this\n",
       "    el.on(\"remove\", function(){\n",
       "\tfig.close_ws(fig, {});\n",
       "    });\n",
       "}\n",
       "\n",
       "mpl.figure.prototype._canvas_extra_style = function(el){\n",
       "    // this is important to make the div 'focusable\n",
       "    el.attr('tabindex', 0)\n",
       "    // reach out to IPython and tell the keyboard manager to turn it's self\n",
       "    // off when our div gets focus\n",
       "\n",
       "    // location in version 3\n",
       "    if (IPython.notebook.keyboard_manager) {\n",
       "        IPython.notebook.keyboard_manager.register_events(el);\n",
       "    }\n",
       "    else {\n",
       "        // location in version 2\n",
       "        IPython.keyboard_manager.register_events(el);\n",
       "    }\n",
       "\n",
       "}\n",
       "\n",
       "mpl.figure.prototype._key_event_extra = function(event, name) {\n",
       "    var manager = IPython.notebook.keyboard_manager;\n",
       "    if (!manager)\n",
       "        manager = IPython.keyboard_manager;\n",
       "\n",
       "    // Check for shift+enter\n",
       "    if (event.shiftKey && event.which == 13) {\n",
       "        this.canvas_div.blur();\n",
       "        event.shiftKey = false;\n",
       "        // Send a \"J\" for go to next cell\n",
       "        event.which = 74;\n",
       "        event.keyCode = 74;\n",
       "        manager.command_mode();\n",
       "        manager.handle_keydown(event);\n",
       "    }\n",
       "}\n",
       "\n",
       "mpl.figure.prototype.handle_save = function(fig, msg) {\n",
       "    fig.ondownload(fig, null);\n",
       "}\n",
       "\n",
       "\n",
       "mpl.find_output_cell = function(html_output) {\n",
       "    // Return the cell and output element which can be found *uniquely* in the notebook.\n",
       "    // Note - this is a bit hacky, but it is done because the \"notebook_saving.Notebook\"\n",
       "    // IPython event is triggered only after the cells have been serialised, which for\n",
       "    // our purposes (turning an active figure into a static one), is too late.\n",
       "    var cells = IPython.notebook.get_cells();\n",
       "    var ncells = cells.length;\n",
       "    for (var i=0; i<ncells; i++) {\n",
       "        var cell = cells[i];\n",
       "        if (cell.cell_type === 'code'){\n",
       "            for (var j=0; j<cell.output_area.outputs.length; j++) {\n",
       "                var data = cell.output_area.outputs[j];\n",
       "                if (data.data) {\n",
       "                    // IPython >= 3 moved mimebundle to data attribute of output\n",
       "                    data = data.data;\n",
       "                }\n",
       "                if (data['text/html'] == html_output) {\n",
       "                    return [cell, data, j];\n",
       "                }\n",
       "            }\n",
       "        }\n",
       "    }\n",
       "}\n",
       "\n",
       "// Register the function which deals with the matplotlib target/channel.\n",
       "// The kernel may be null if the page has been refreshed.\n",
       "if (IPython.notebook.kernel != null) {\n",
       "    IPython.notebook.kernel.comm_manager.register_target('matplotlib', mpl.mpl_figure_comm);\n",
       "}\n"
      ],
      "text/plain": [
       "<IPython.core.display.Javascript object>"
      ]
     },
     "metadata": {},
     "output_type": "display_data"
    },
    {
     "data": {
      "text/html": [
       "<img src=\"data:image/png;base64,iVBORw0KGgoAAAANSUhEUgAAA8AAAALQCAYAAABfdxm0AAAKjklEQVR4nO3BMQEAAADCoPVP7W8GoAAAAAAAAAAAAAAAAAAAAAAAAAAAAAAAAAAAAAAAAAAAAAAAAAAAAAAAAAAAAAAAAAAAAAAAAAAAAAAAAAAAAAAAAAAAAAAAAAAAAAAAAAAAAAAAAAAAAAAAAAAAAAAAAAAAAAAAAAAAAAAAAAAAAAAAAAAAAAAAAAAAAAAAAAAAAAAAAAAAAAAAAAAAAAAAAAAAAAAAAAAAAAAAAAAAAAAAAAAAAAAAAAAAAAAAAAAAAAAAAAAAAAAAAAAAAAAAAAAAAAAAAAAAAAAAAAAAAAAAAAAAAAAAAAAAAAAAAAAAAAAAAAAAAAAAAAAAAAAAAAAAAAAAAAAAAAAAAAAAAAAAAAAAAAAAAAAAAAAAAAAAAAAAAAAAAAAAAAAAAAAAAAAAAAAAAAAAAAAAAAAAAAAAAAAAAAAAAAAAAAAAAAAAAAAAAAAAAAAAAAAAAAAAAAAAAAAAAAAAAAAAAAAAAAAAAAAAAAAAAAAAAAAAAAAAAAAAAAAAAAAAAAAAAAAAAAAAAAAAAAAAAAAAAAAAAAAAAAAAAAAAAAAAAAAAAAAAAAAAAAAAAAAAAAAAAAAAAAAAAAAAAAAAAAAAAAAAAAAAAAAAAAAAAAAAAAAAAAAAAAAAAAAAAAAAAAAAAAAAAAAAAAAAAAAAAAAAAAAAAAAAAAAAAAAAAAAAAAAAAAAAAAAAAAAAAAAAAAAAAAAAAAAAAAAAAAAAAAAAAAAAAAAAAAAAAAAAAAAAAAAAAAAAAAAAAAAAAAAAAAAAAAAAAAAAAAAAAAAAAAAAAAAAAAAAAAAAAAAAAAAAAAAAAAAAAAAAAAAAAAAAAAAAAAAAAAAAAAAAAAAAAAAAAAAAAAAAAAAAAAAAAAAAAAAAAAAAAAAAAAAAAAAAAAAAAAAAAAAAAAAAAAAAAAAAAAAAAAAAAAAAAAAAAAAAAAAAAAAAAAAAAAAAAAAAAAAAAAAAAAAAAAAAAAAAAAAAAAAAAAAAAAAAAAAAAAAAAAAAAAAAAAAAAAAAAAAAAAAAAAAAAAAAAAAAAAAAAAAAAAAAAAAAAAAAAAAAAAAAAAAAAAAAAAAAAAAAAAAAAAAAAAAAAAAAAAAAAAAAAAAAAAAAAAAAAAAAAAAAAAAAAAAAAAAAAAAAAAAAAAAAAAAAAAAAAAAAAAAAAAAAAAAAAAAAAAAAAAAAAAAAAAAAAAAAAAAAAAAAAAAAAAAAAAAAAAAAAAAAAAAAAAAAAAAAAAAAAAAAAAAAAAAAAAAAAAAAAAAAAAAAAAAAAAAAAAAAAAAAAAAAAAAAAAAAAAAAAAAAAAAAAAAAAAAAAAAAAAAAAAAAAAAAAAAAAAAAAAAAAAAAAAAAAAAAAAAAAAAAAAAAAAAAAAAAAAAAAAAAAAAAAAAAAAAAAAAAAAAAAAAAAAAAAAAAAAAAAAAAAAAAAAAAAAAAAAAAAAAAAAAAAAAAAAAAAAAAAAAAAAAAAAAAAAAAAAAAAAAAAAAAAAAAAAAAAAAAAAAAAAAAAAAAAAAAAAAAAAAAAAAAAAAAAAAAAAAAAAAAAAAAAAAAAAAAAAAAAAAAAAAAAAAAAAAAAAAAAAAAAAAAAAAAAAAAAAAAAAAAAAAAAAAAAAAAAAAAAAAAAAAAAAAAAAAAAAAAAAAAAAAAAAAAAAAAAAAAAAAAAAAAAAAAAAAAAAAAAAAAAAAAAAAAAAAAAAAAAAAAAAAAAAAAAAAAAAAAAAAAAAAAAAAAAAAAAAAAAAAAAAAAAAAAAAAAAAAAAAAAAAAAAAAAAAAAAAAAAAAAAAAAAAAAAAAAAAAAAAAAAAAAAAAAAAAAAAAAAAAAAAAAAAAAAAAAAAAAAAAAAAAAAAAAAAAAAAAAAAAAAAAAAAAAAAAAAAAAAAAAAAAAAAAAAAAAAAAAAAAAAAAAAAAAAAAAAAAAAAAAAAAAAAAAAAAAAAAAAAAAAAAAAAAAAAAAAAAAAAAAAAAAAAAAAAAAAAAAAAAAAAAAAAAAAAAAAAAAAAAAAAAAAAAAAAAAAAAAAAAAAAAAAAAAAAAAAAAAAAAAAAAAAAAAAAAAAAAAAAAAAAAAAAAAAAAAAAAAAAAAAAAAAAAAAAAAAAAAAAAAAAAAAAAAAAAAAAAAAAAAAAAAAAAAAAAAAAAAAAAAAAAAAAAAAAAAAAAAAAAAAAAAAAAAAAAAAAAAAAAAAAAAAAAAAAAAAAAAAAAAAAAAAAAAAAAAAAAAAAAAAAAAAAAAAAAAAAAAAAAAAAAAAAAAAAAAAAAAAAAAAAAAAAAAAAAAAAAAAAAAAAAAAAAAAAAAAAAAAAAAAAAAAAAAAAAAAAAAAAAAAAAAAAAAAAAAAAAAAAAAAAAAAAAAAAAAAAAAAAAAAAAAAAAAAAAAAAAAAAAAAAAAAAAAAAAAAAAAAAAAAAAAAAAAAAAAAAAAAAAAAAAAAAAAAAAAAAAAAAAAAAAAAAAAAAAAAAAAAAAAAAAAAAAAAAAAAAAAAAAAAAAAAAAAAAAAAAAAAAAAAAAAAAAAAAAAAAAAAAAAAAAAAAAAAAAAAAAAAAAAAAAAAAAAAAAAAAAAAAAAAAAAAAAAAAAAAAAAAAAAAAAAAAAAAAAAAAAAAAAAAAAAAAAAAAAAAAAAAAAAAAAAAAAAAAAAAAAAAAAAAAAAAAAAAAAAAAAAAAAAAAAAAAAAAAAAAAAAAAAAAAAAAAAAAAAAAAAAAAAAAAAAAAAAAAAAAAAAAAAAAAAAAAAAAAAAAAAAAAAAAAAAAAAAAAAAAAAAAAAAAAAAAAAAAAAAAAAAAAAAAAAAAAAAAAAAAAAAAAAAAAAAAAAAAAAAAAAAAAAAAAAAAAAAAAAAAAAAAAAAAAAAAAAAAAAAAAAAAAAAAAAAAAAAAAAAAAAAAAAAAAAAAAAAAAAAAAAAAAAAAAAAAAAAAAAAAAAAAAAAAAAAAAAAAAAAAAAAAAAAAAAAAAAAAAAAAAAAAAAAAAAAAAAAAAAAAAAAAAAAAAAAAAAAAAAAAAAAAAAAAAAAAAAAAAAAAAAAAAAAAAAAAAAAAAAAAAAAAAAAAAAAAAAAAAAAAAAAAAAAAAAAAAAAAAAAAAAAAAAAAAAAAAAAAAAAAAAAAAAAAAAAAAAAAAAAAAAAAAAAAAAAAAAAAAAAAAAAAAAAAAAAAAAAAAAAAAAAAAAAAAAAAAAAAAAAAAAAAAAAAAAAAAAAAAAAAAAAAAAAAAAAAAAAAAAAAAAAAAAAAAAAAAAAAAAAAAAAAAAAAAAAAAAAAAAAAAAAAAAAAAAAAAAAAAAAAAAAAAAAAAAAAAAAAAAAAAAAAAAAAAAAAAAAAAAAAAAAAAAAAAAAAAAAAAAAAAAAAAAAAAAAAAAAAAAAAAAAAAAAAAAAAAAAAAAAAAAAAAAAAAAAAAAAAAAAAAAAAAAAAAAAAAAAAAAAAAAAAAAAAAAAAAAAAAAAAAAAAAAAAAAAAAAAAAAAAAAAAAAAAAAAAAAAAAAAAAAAAAAAAAAAAAAAAAAAAAAAAAAAAAAAAAAAAAAAAAAAAAAAAAAAAAAAAAAAAAAAAAAAAAAAAAAAAAAAAAAAAAAAAAAAAAAAAAAAAIA3NUYAAd1QgUwAAAAASUVORK5CYII=\" width=\"640\">"
      ],
      "text/plain": [
       "<IPython.core.display.HTML object>"
      ]
     },
     "metadata": {},
     "output_type": "display_data"
    }
   ],
   "source": [
    "def integrate_outer(gamma_val, eta_val, rst_val):\n",
    "    \n",
    "    from scipy.integrate import ode\n",
    "    import numpy\n",
    "    \n",
    "    sub_params = {eta:eta_val,\n",
    "                 gamma:gamma_val,\n",
    "                  tilde_r_st:rst_val}\n",
    "    \n",
    "    # Differential equations\n",
    "    hydrodynamic_variables = [m,\n",
    "                             tilde_c,\n",
    "                             tilde_rho]\n",
    "    explicit_odes = [itm(tilde_r).diff(tilde_r) for itm in hydrodynamic_variables]\n",
    "    explicit_odes = [itm.subs(isolated_odes) for itm in explicit_odes]\n",
    "    explicit_odes = [itm.subs(sub_params) for itm in explicit_odes]\n",
    "    for var in hydrodynamic_variables:\n",
    "        explicit_odes = [itm.subs(var(tilde_r), var) for itm in explicit_odes]\n",
    "    raw_deriv_func = sympy.lambdify([tilde_r, m, tilde_c, tilde_rho], explicit_odes)\n",
    "    deriv_wrapper = lambda x,y: raw_deriv_func(x,y[0],y[1],y[2])\n",
    "    \n",
    "    outer_sonic_point = find_outer_sonic_point(gamma_val, eta_val, rst_val)\n",
    "    outer_density = raw_sonic_point_density.subs(sub_params).subs(tilde_r,outer_sonic_point)\n",
    "    outer_sound_speed = raw_sonic_point_sound_speed.subs(sub_params).subs(tilde_r,outer_sonic_point)\n",
    "    r_start_outer = (1.0-1e-3)*outer_sonic_point\n",
    "    r_stop_outer = (1+1e-2)*rst_val\n",
    "    dr_outer = 1e-4*(r_start_outer - r_stop_outer)\n",
    "        \n",
    "    outer_init_cond = [1-1e-3, outer_sound_speed, outer_density]\n",
    "    \n",
    "    integrator = ode(deriv_wrapper)\n",
    "    integrator.set_initial_value(outer_init_cond, r_start_outer)\n",
    "    x_list = []\n",
    "    y_list = []\n",
    "    while integrator.successful() and integrator.t>r_stop_outer:\n",
    "        integrator.integrate(integrator.t - dr_outer)\n",
    "        x_list.append(integrator.t)\n",
    "        y_list.append(integrator.y)\n",
    "    assert(integrator.successful())\n",
    "    x_list = numpy.array(x_list)\n",
    "    y_list = numpy.array(y_list)\n",
    "    return x_list, y_list\n",
    "    \n",
    "import pylab\n",
    "x_list, y_list = integrate_outer(4./3., 2.9, 9.1)\n",
    "%matplotlib notebook\n",
    "pylab.plot(x_list ,y_list.T[0])\n",
    "pylab.xlabel(r'$\\tilde{r}$')\n",
    "pylab.ylabel('Mach number')\n",
    "pass"
   ]
  },
  {
   "cell_type": "code",
   "execution_count": 37,
   "metadata": {},
   "outputs": [
    {
     "name": "stderr",
     "output_type": "stream",
     "text": [
      "/usr/local/lib/python2.7/dist-packages/scipy/integrate/_ode.py:927: UserWarning: vode: Excess work done on this call. (Perhaps wrong MF.)\n",
      "  self.messages.get(istate, unexpected_istate_msg)))\n"
     ]
    },
    {
     "ename": "AssertionError",
     "evalue": "",
     "output_type": "error",
     "traceback": [
      "\u001b[0;31m---------------------------------------------------------------------------\u001b[0m",
      "\u001b[0;31mAssertionError\u001b[0m                            Traceback (most recent call last)",
      "\u001b[0;32m<ipython-input-37-a6c55cc06da5>\u001b[0m in \u001b[0;36m<module>\u001b[0;34m()\u001b[0m\n\u001b[1;32m     42\u001b[0m \u001b[0;34m\u001b[0m\u001b[0m\n\u001b[1;32m     43\u001b[0m \u001b[0;32mimport\u001b[0m \u001b[0mpylab\u001b[0m\u001b[0;34m\u001b[0m\u001b[0m\n\u001b[0;32m---> 44\u001b[0;31m \u001b[0mx_list\u001b[0m\u001b[0;34m,\u001b[0m \u001b[0my_list\u001b[0m \u001b[0;34m=\u001b[0m \u001b[0mintegrate_inner\u001b[0m\u001b[0;34m(\u001b[0m\u001b[0;36m4.\u001b[0m\u001b[0;34m/\u001b[0m\u001b[0;36m3.\u001b[0m\u001b[0;34m,\u001b[0m \u001b[0;36m2.9\u001b[0m\u001b[0;34m,\u001b[0m \u001b[0;36m9.1\u001b[0m\u001b[0;34m)\u001b[0m\u001b[0;34m\u001b[0m\u001b[0m\n\u001b[0m\u001b[1;32m     45\u001b[0m \u001b[0mget_ipython\u001b[0m\u001b[0;34m(\u001b[0m\u001b[0;34m)\u001b[0m\u001b[0;34m.\u001b[0m\u001b[0mmagic\u001b[0m\u001b[0;34m(\u001b[0m\u001b[0;34mu'matplotlib notebook'\u001b[0m\u001b[0;34m)\u001b[0m\u001b[0;34m\u001b[0m\u001b[0m\n\u001b[1;32m     46\u001b[0m \u001b[0mpylab\u001b[0m\u001b[0;34m.\u001b[0m\u001b[0mplot\u001b[0m\u001b[0;34m(\u001b[0m\u001b[0mx_list\u001b[0m \u001b[0;34m,\u001b[0m\u001b[0my_list\u001b[0m\u001b[0;34m.\u001b[0m\u001b[0mT\u001b[0m\u001b[0;34m[\u001b[0m\u001b[0;36m0\u001b[0m\u001b[0;34m]\u001b[0m\u001b[0;34m)\u001b[0m\u001b[0;34m\u001b[0m\u001b[0m\n",
      "\u001b[0;32m<ipython-input-37-a6c55cc06da5>\u001b[0m in \u001b[0;36mintegrate_inner\u001b[0;34m(gamma_val, eta_val, rst_val)\u001b[0m\n\u001b[1;32m     36\u001b[0m         \u001b[0mx_list\u001b[0m\u001b[0;34m.\u001b[0m\u001b[0mappend\u001b[0m\u001b[0;34m(\u001b[0m\u001b[0mintegrator\u001b[0m\u001b[0;34m.\u001b[0m\u001b[0mt\u001b[0m\u001b[0;34m)\u001b[0m\u001b[0;34m\u001b[0m\u001b[0m\n\u001b[1;32m     37\u001b[0m         \u001b[0my_list\u001b[0m\u001b[0;34m.\u001b[0m\u001b[0mappend\u001b[0m\u001b[0;34m(\u001b[0m\u001b[0mintegrator\u001b[0m\u001b[0;34m.\u001b[0m\u001b[0my\u001b[0m\u001b[0;34m)\u001b[0m\u001b[0;34m\u001b[0m\u001b[0m\n\u001b[0;32m---> 38\u001b[0;31m     \u001b[0;32massert\u001b[0m\u001b[0;34m(\u001b[0m\u001b[0mintegrator\u001b[0m\u001b[0;34m.\u001b[0m\u001b[0msuccessful\u001b[0m\u001b[0;34m(\u001b[0m\u001b[0;34m)\u001b[0m\u001b[0;34m)\u001b[0m\u001b[0;34m\u001b[0m\u001b[0m\n\u001b[0m\u001b[1;32m     39\u001b[0m     \u001b[0mx_list\u001b[0m \u001b[0;34m=\u001b[0m \u001b[0mnumpy\u001b[0m\u001b[0;34m.\u001b[0m\u001b[0marray\u001b[0m\u001b[0;34m(\u001b[0m\u001b[0mx_list\u001b[0m\u001b[0;34m)\u001b[0m\u001b[0;34m\u001b[0m\u001b[0m\n\u001b[1;32m     40\u001b[0m     \u001b[0my_list\u001b[0m \u001b[0;34m=\u001b[0m \u001b[0mnumpy\u001b[0m\u001b[0;34m.\u001b[0m\u001b[0marray\u001b[0m\u001b[0;34m(\u001b[0m\u001b[0my_list\u001b[0m\u001b[0;34m)\u001b[0m\u001b[0;34m\u001b[0m\u001b[0m\n",
      "\u001b[0;31mAssertionError\u001b[0m: "
     ]
    }
   ],
   "source": [
    "def integrate_inner(gamma_val, eta_val, rst_val):\n",
    "    \n",
    "    from scipy.integrate import ode\n",
    "    import numpy\n",
    "    \n",
    "    sub_params = {eta:eta_val,\n",
    "                 gamma:gamma_val,\n",
    "                  tilde_r_st:rst_val}\n",
    "    \n",
    "    # Differential equations\n",
    "    hydrodynamic_variables = [m,\n",
    "                             tilde_c,\n",
    "                             tilde_rho]\n",
    "    explicit_odes = [itm(tilde_r).diff(tilde_r) for itm in hydrodynamic_variables]\n",
    "    explicit_odes = [itm.subs(isolated_odes) for itm in explicit_odes]\n",
    "    explicit_odes = [itm.subs(sub_params) for itm in explicit_odes]\n",
    "    for var in hydrodynamic_variables:\n",
    "        explicit_odes = [itm.subs(var(tilde_r), var) for itm in explicit_odes]\n",
    "    raw_deriv_func = sympy.lambdify([tilde_r, m, tilde_c, tilde_rho], explicit_odes)\n",
    "    deriv_wrapper = lambda x,y: raw_deriv_func(x,y[0],y[1],y[2])\n",
    "    \n",
    "    inner_sonic_point = find_inner_sonic_point(gamma_val, eta_val, rst_val)\n",
    "    bc_density = -raw_sonic_point_density.subs(sub_params).subs(tilde_r,inner_sonic_point)\n",
    "    bc_sound_speed = raw_sonic_point_sound_speed.subs(sub_params).subs(tilde_r,inner_sonic_point)\n",
    "    r_stop = (1-1e-2)*rst_val\n",
    "    dr = 1e-4*(r_stop - inner_sonic_point)   \n",
    "    r_start = inner_sonic_point+0.5*dr\n",
    "    init_cond = [-1+1e-3, bc_sound_speed, bc_density]\n",
    "    \n",
    "    integrator = ode(deriv_wrapper)\n",
    "    integrator.set_initial_value(init_cond, r_start)\n",
    "    x_list = []\n",
    "    y_list = []\n",
    "    while integrator.successful() and integrator.t<r_stop:\n",
    "        integrator.integrate(integrator.t + dr)\n",
    "        x_list.append(integrator.t)\n",
    "        y_list.append(integrator.y)\n",
    "    assert(integrator.successful())\n",
    "    x_list = numpy.array(x_list)\n",
    "    y_list = numpy.array(y_list)\n",
    "    return x_list, y_list\n",
    "    \n",
    "import pylab\n",
    "x_list, y_list = integrate_inner(4./3., 2.9, 9.1)\n",
    "%matplotlib notebook\n",
    "pylab.plot(x_list ,y_list.T[0])\n",
    "pylab.xlabel(r'$\\tilde{r}$')\n",
    "pylab.ylabel('Mach number')\n",
    "pass"
   ]
  },
  {
   "cell_type": "code",
   "execution_count": null,
   "metadata": {},
   "outputs": [],
   "source": [
    "def calc_stagnation_derivative_difference(gamma_val, eta_val, rst_val, verbose=False):\n",
    "    x_outer, y_outer = integrate_outer(gamma_val, eta_val, rst_val)\n",
    "    x_inner, y_inner = integrate_inner(gamma_val, eta_val, rst_val)\n",
    "    m_outer = y_outer.T[0]\n",
    "    m_inner = y_inner.T[0]\n",
    "    deriv_outer = (m_outer[-1]-m_outer[-2])/(x_outer[-1] - x_outer[-2])\n",
    "    deriv_inner = (m_inner[-1]-m_inner[-2])/(x_inner[-1] - x_inner[-2])\n",
    "    if verbose:\n",
    "        print('called with', rst_val, 'evaluated', deriv_outer - deriv_inner)\n",
    "    return deriv_outer - deriv_inner\n",
    "\n",
    "calc_stagnation_derivative_difference(4./3., 2.9, 9.1)"
   ]
  },
  {
   "cell_type": "code",
   "execution_count": null,
   "metadata": {},
   "outputs": [],
   "source": [
    "calc_stagnation_derivative_difference(4./3., 2.9, 3.9)"
   ]
  },
  {
   "cell_type": "markdown",
   "metadata": {},
   "source": [
    "Finall, we can numerically solve for the location of the stagnation point"
   ]
  },
  {
   "cell_type": "code",
   "execution_count": null,
   "metadata": {},
   "outputs": [],
   "source": [
    "from mpmath import findroot\n",
    "\n",
    "findroot(lambda x: calc_stagnation_derivative_difference(4./3., 2.9, x, verbose=True), 3.9, tol=1e-3)"
   ]
  },
  {
   "cell_type": "code",
   "execution_count": null,
   "metadata": {},
   "outputs": [],
   "source": [
    "findroot(lambda x: calc_stagnation_derivative_difference(4./3., 2.8, x, verbose=True), 4.1, tol=1e-3)"
   ]
  },
  {
   "cell_type": "code",
   "execution_count": null,
   "metadata": {},
   "outputs": [],
   "source": [
    "findroot(lambda x: calc_stagnation_derivative_difference(4./3., 2.7, x, verbose=True), 4.1, tol=1e-3)"
   ]
  },
  {
   "cell_type": "code",
   "execution_count": null,
   "metadata": {},
   "outputs": [],
   "source": [
    "findroot(lambda x: calc_stagnation_derivative_difference(4./3., 2.67, x, verbose=True), 4.3, tol=1e-3)"
   ]
  },
  {
   "cell_type": "code",
   "execution_count": null,
   "metadata": {},
   "outputs": [],
   "source": [
    "findroot(lambda x: calc_stagnation_derivative_difference(4./3.-0.01, 3.1, x, verbose=True), 8, tol=1e-3)"
   ]
  },
  {
   "cell_type": "code",
   "execution_count": null,
   "metadata": {},
   "outputs": [],
   "source": []
  }
 ],
 "metadata": {
  "kernelspec": {
   "display_name": "Python 2",
   "language": "python",
   "name": "python2"
  },
  "language_info": {
   "codemirror_mode": {
    "name": "ipython",
    "version": 2
   },
   "file_extension": ".py",
   "mimetype": "text/x-python",
   "name": "python",
   "nbconvert_exporter": "python",
   "pygments_lexer": "ipython2",
   "version": "2.7.12"
  }
 },
 "nbformat": 4,
 "nbformat_minor": 1
}
